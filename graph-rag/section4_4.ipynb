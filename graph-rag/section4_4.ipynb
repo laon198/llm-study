{
 "cells": [
  {
   "cell_type": "markdown",
   "id": "b735da82",
   "metadata": {},
   "source": [
    "# Neo4j와 LangChain을 활용한 영화 추천 시스템"
   ]
  },
  {
   "cell_type": "markdown",
   "id": "a0613508",
   "metadata": {},
   "source": [
    "---\n",
    "\n",
    "## 1. Neo4J AuraDB 환경 설정"
   ]
  },
  {
   "cell_type": "code",
   "id": "1dc7d00f",
   "metadata": {
    "ExecuteTime": {
     "end_time": "2025-08-19T07:08:36.657572Z",
     "start_time": "2025-08-19T07:08:36.649208Z"
    }
   },
   "source": [
    "import os\n",
    "from dotenv import load_dotenv\n",
    "\n",
    "# 환경 변수 로드\n",
    "load_dotenv()"
   ],
   "outputs": [
    {
     "data": {
      "text/plain": [
       "True"
      ]
     },
     "execution_count": 1,
     "metadata": {},
     "output_type": "execute_result"
    }
   ],
   "execution_count": 1
  },
  {
   "cell_type": "code",
   "id": "f765676e",
   "metadata": {
    "ExecuteTime": {
     "end_time": "2025-08-19T07:08:39.687009Z",
     "start_time": "2025-08-19T07:08:37.747018Z"
    }
   },
   "source": [
    "from langchain_neo4j import Neo4jGraph\n",
    "\n",
    "# LangChain 도구 활용 - DB 연결 객체 초기화 \n",
    "graph = Neo4jGraph( \n",
    "    url=os.getenv(\"NEO4J_URI\"), \n",
    "    username=os.getenv(\"NEO4J_USERNAME\"), \n",
    "    password=os.getenv(\"NEO4J_PASSWORD\"),\n",
    ")"
   ],
   "outputs": [],
   "execution_count": 2
  },
  {
   "cell_type": "code",
   "id": "78a4a57a",
   "metadata": {
    "ExecuteTime": {
     "end_time": "2025-08-19T07:08:40.363596Z",
     "start_time": "2025-08-19T07:08:40.344160Z"
    }
   },
   "source": [
    "# 테스트 쿼리 실행 \n",
    "cypher_query = \"\"\"\n",
    "MATCH (n:Movie)\n",
    "RETURN COUNT(n) AS Movie_Count\n",
    "\"\"\"\n",
    "\n",
    "graph.query(cypher_query)"
   ],
   "outputs": [
    {
     "data": {
      "text/plain": [
       "[{'Movie_Count': 4803}]"
      ]
     },
     "execution_count": 3,
     "metadata": {},
     "output_type": "execute_result"
    }
   ],
   "execution_count": 3
  },
  {
   "cell_type": "markdown",
   "id": "bd0ccf5d",
   "metadata": {},
   "source": [
    "---\n",
    "\n",
    "## 2. **Movie 노드** : 임베딩 필드 추가 및 벡터 인덱스 생성\n",
    "\n",
    "- **Movie 노드**에 텍스트 데이터를 벡터화한 **임베딩 필드**를 추가함\n",
    "- 영화 제목, 줄거리 등의 텍스트 정보를 **고차원 벡터**로 변환하여 저장함\n",
    "- 벡터화된 데이터를 효율적으로 검색하기 위한 **벡터 인덱스**를 생성함\n",
    "- 인덱스 생성 시 **벡터 차원**, **유사도 계산 방식**, **거리 함수** 등을 지정함\n",
    "- 임베딩과 벡터 인덱스를 통해 **의미적 검색**의 기반을 구축함"
   ]
  },
  {
   "cell_type": "markdown",
   "id": "ba1fd403",
   "metadata": {},
   "source": [
    "### 2.1 임베딩 모델 초기화\n",
    "\n",
    "- **OpenAI 임베딩 모델**을 활용하여 텍스트를 벡터로 변환하는 환경을 설정함\n",
    "- 임베딩 모델은 텍스트의 **의미적 특성**을 수치화된 벡터로 표현함"
   ]
  },
  {
   "cell_type": "code",
   "id": "fd339278",
   "metadata": {
    "ExecuteTime": {
     "end_time": "2025-08-19T07:13:33.805242Z",
     "start_time": "2025-08-19T07:13:33.779670Z"
    }
   },
   "source": [
    "from langchain_openai import OpenAIEmbeddings\n",
    "\n",
    "# OpenAI 임베딩 모델 초기화\n",
    "embeddings = OpenAIEmbeddings(model=\"text-embedding-3-small\")"
   ],
   "outputs": [],
   "execution_count": 5
  },
  {
   "cell_type": "markdown",
   "id": "4cf6d625",
   "metadata": {},
   "source": [
    "### 2.2 벡터 인덱스 생성\n",
    "\n",
    "- Neo4j에서 **벡터 인덱스**를 생성하여 영화 줄거리의 임베딩 벡터를 효율적으로 검색할 수 있게 함\n",
    "- **movie_content_embeddings**라는 이름의 벡터 인덱스를 Movie 노드의 **content_embedding** 필드에 적용함 (필드를 새로 추가)\n",
    "- 벡터 차원을 **1536차원**으로 설정하여 OpenAI의 text-embedding-3-small 모델과 호환되도록 함\n",
    "- 유사도 계산 방식으로 **코사인 유사도**를 선택하여 벡터 간 각도 기반의 의미적 유사성을 측정함\n",
    "- 쿼리에 **IF NOT EXISTS** 조건을 포함하여 중복 생성을 방지함"
   ]
  },
  {
   "cell_type": "code",
   "id": "1df91e16",
   "metadata": {
    "ExecuteTime": {
     "end_time": "2025-08-19T07:13:40.060886Z",
     "start_time": "2025-08-19T07:13:39.699011Z"
    }
   },
   "source": [
    "# 벡터 인덱스 생성\n",
    "create_vector_index_query = \"\"\"\n",
    "// 영화 콘텐츠 임베딩을 위한 벡터 인덱스 생성\n",
    "// IF NOT EXISTS: 이미 존재하는 경우 중복 생성 방지\n",
    "CREATE VECTOR INDEX movie_content_embeddings IF NOT EXISTS \n",
    "\n",
    "// Movie 노드의 content_embedding 속성에 인덱스 적용\n",
    "FOR (m:Movie) ON m.content_embedding \n",
    "\n",
    "// 벡터 인덱스 설정 옵션\n",
    "OPTIONS {\n",
    "  indexConfig: {\n",
    "    `vector.dimensions`: 1536,\n",
    "    `vector.similarity_function`: 'cosine'\n",
    "  }\n",
    "}\n",
    "\"\"\"\n",
    "graph.query(create_vector_index_query)"
   ],
   "outputs": [
    {
     "data": {
      "text/plain": [
       "[]"
      ]
     },
     "execution_count": 6,
     "metadata": {},
     "output_type": "execute_result"
    }
   ],
   "execution_count": 6
  },
  {
   "cell_type": "code",
   "id": "ab8cd5c7",
   "metadata": {
    "ExecuteTime": {
     "end_time": "2025-08-19T07:14:35.748920Z",
     "start_time": "2025-08-19T07:14:35.709114Z"
    }
   },
   "source": [
    "# 벡터 인덱스 확인\n",
    "check_vector_index_query = \"\"\"\n",
    "SHOW VECTOR INDEXES\n",
    "\"\"\"\n",
    "vector_indexes = graph.query(check_vector_index_query)\n",
    "for index in vector_indexes:\n",
    "    # 벡터 인덱스 정보 출력\n",
    "    print(f\"Index Name: {index['name']}\")\n",
    "    print(f\"Type: {index['type']}\")    \n",
    "    print(f\"Property Key: {index['properties']}\")\n",
    "    print(\"-\" * 40)"
   ],
   "outputs": [
    {
     "name": "stdout",
     "output_type": "stream",
     "text": [
      "Index Name: movie_content_embeddings\n",
      "Type: VECTOR\n",
      "Property Key: ['content_embedding']\n",
      "----------------------------------------\n"
     ]
    }
   ],
   "execution_count": 7
  },
  {
   "cell_type": "markdown",
   "id": "a850532e",
   "metadata": {},
   "source": [
    "### 2.3 임베딩 생성 및 저장\n",
    "\n",
    "- 각 영화 제목, 태그라인, 개요에 대해 **OpenAI 임베딩**을 생성하는 과정 수행\n",
    "- 빈 문자열인 경우 처리를 **건너뛰는** 예외 처리 포함\n",
    "- 생성된 임베딩을 `db.create.setNodeVectorProperty` 프로시저를 통해 **content_embedding** 속성으로 저장"
   ]
  },
  {
   "cell_type": "code",
   "id": "635d3c82",
   "metadata": {
    "ExecuteTime": {
     "end_time": "2025-08-19T07:19:27.182925Z",
     "start_time": "2025-08-19T07:17:55.604073Z"
    }
   },
   "source": [
    "# 영화 제목과 줄거리 가져오기\n",
    "movies_query = \"\"\"\n",
    "MATCH (m:Movie)\n",
    "WHERE m.title IS NOT NULL\n",
    "RETURN m.id AS id, m.title AS title, m.overview AS overview, m.tagline AS tagline\n",
    "\"\"\"\n",
    "movies = graph.query(movies_query)\n",
    "\n",
    "# 배치 크기 설정\n",
    "BATCH_SIZE = 100\n",
    "\n",
    "# 임베딩 생성 및 저장 (배치 처리)\n",
    "for i in range(0, len(movies), BATCH_SIZE):\n",
    "    batch = movies[i:i+BATCH_SIZE]\n",
    "    batch_texts = []\n",
    "    batch_ids = []\n",
    "    \n",
    "    # 배치 데이터 준비\n",
    "    for movie in batch:\n",
    "        # overview와 tagline을 \"\\n\\n\"으로 결합\n",
    "        content_text = f\"{movie['title']}\"\n",
    "        if movie['tagline']:\n",
    "            content_text += f\"\\n\\n{movie['tagline']}\"\n",
    "        if movie['overview']:\n",
    "            content_text += f\"\\n\\n{movie['overview']}\"\n",
    "        \n",
    "        if content_text.strip():  # 빈 문자열 확인\n",
    "            batch_texts.append(content_text)\n",
    "            batch_ids.append(movie['id'])\n",
    "    \n",
    "    try:\n",
    "        if batch_texts:\n",
    "            # 배치 단위로 OpenAI 임베딩 생성\n",
    "            batch_embeddings = embeddings.embed_documents(batch_texts)\n",
    "            \n",
    "            # UNWIND를 사용한 배치 업데이트\n",
    "            batch_data = [{\"id\": article_id, \"embedding\": embedding_vector} \n",
    "                         for article_id, embedding_vector in zip(batch_ids, batch_embeddings)]\n",
    "            \n",
    "            batch_update_query = \"\"\"\n",
    "            // UNWIND를 사용하여 배치 데이터를 개별 행으로 변환\n",
    "            UNWIND $batch AS item\n",
    "\n",
    "            // 영화 ID로 해당 Movie 노드 찾기\n",
    "            MATCH (m:Movie {id: item.id})\n",
    "\n",
    "            // db.create.setNodeVectorProperty 프로시저를 호출하여 벡터 속성 설정\n",
    "            // 첫 번째 인자: 대상 노드, 두 번째 인자: 속성 이름, 세 번째 인자: 벡터 값\n",
    "            CALL db.create.setNodeVectorProperty(m, 'content_embedding', item.embedding)\n",
    "\n",
    "            // 업데이트된 노드 수 반환\n",
    "            RETURN count(m) as updated\n",
    "            \"\"\"\n",
    "            \n",
    "            result = graph.query(batch_update_query, params={\"batch\": batch_data})\n",
    "            print(f\"배치 처리 완료: {i+1}~{min(i+len(batch_texts), len(movies))} / {len(movies)}, 업데이트됨: {result[0]['updated']}\")\n",
    "            \n",
    "    except Exception as e:\n",
    "        print(f\"배치 임베딩 생성 실패 (배치 인덱스 {i}): {str(e)}\")\n",
    "\n",
    "print(f\"영화 임베딩 업데이트 완료!! 총 {len(movies)}개 처리\")"
   ],
   "outputs": [
    {
     "name": "stdout",
     "output_type": "stream",
     "text": [
      "배치 처리 완료: 1~100 / 4803, 업데이트됨: 100\n",
      "배치 처리 완료: 101~200 / 4803, 업데이트됨: 100\n",
      "배치 처리 완료: 201~300 / 4803, 업데이트됨: 100\n",
      "배치 처리 완료: 301~400 / 4803, 업데이트됨: 100\n",
      "배치 처리 완료: 401~500 / 4803, 업데이트됨: 100\n",
      "배치 처리 완료: 501~600 / 4803, 업데이트됨: 100\n",
      "배치 처리 완료: 601~700 / 4803, 업데이트됨: 100\n",
      "배치 처리 완료: 701~800 / 4803, 업데이트됨: 100\n",
      "배치 처리 완료: 801~900 / 4803, 업데이트됨: 100\n",
      "배치 처리 완료: 901~1000 / 4803, 업데이트됨: 100\n",
      "배치 처리 완료: 1001~1100 / 4803, 업데이트됨: 100\n",
      "배치 처리 완료: 1101~1200 / 4803, 업데이트됨: 100\n",
      "배치 처리 완료: 1201~1300 / 4803, 업데이트됨: 100\n",
      "배치 처리 완료: 1301~1400 / 4803, 업데이트됨: 100\n",
      "배치 처리 완료: 1401~1500 / 4803, 업데이트됨: 100\n",
      "배치 처리 완료: 1501~1600 / 4803, 업데이트됨: 100\n",
      "배치 처리 완료: 1601~1700 / 4803, 업데이트됨: 100\n",
      "배치 처리 완료: 1701~1800 / 4803, 업데이트됨: 100\n",
      "배치 처리 완료: 1801~1900 / 4803, 업데이트됨: 100\n",
      "배치 처리 완료: 1901~2000 / 4803, 업데이트됨: 100\n",
      "배치 처리 완료: 2001~2100 / 4803, 업데이트됨: 100\n",
      "배치 처리 완료: 2101~2200 / 4803, 업데이트됨: 100\n",
      "배치 처리 완료: 2201~2300 / 4803, 업데이트됨: 100\n",
      "배치 처리 완료: 2301~2400 / 4803, 업데이트됨: 100\n",
      "배치 처리 완료: 2401~2500 / 4803, 업데이트됨: 100\n",
      "배치 처리 완료: 2501~2600 / 4803, 업데이트됨: 100\n",
      "배치 처리 완료: 2601~2700 / 4803, 업데이트됨: 100\n",
      "배치 처리 완료: 2701~2800 / 4803, 업데이트됨: 100\n",
      "배치 처리 완료: 2801~2900 / 4803, 업데이트됨: 100\n",
      "배치 처리 완료: 2901~3000 / 4803, 업데이트됨: 100\n",
      "배치 처리 완료: 3001~3100 / 4803, 업데이트됨: 100\n",
      "배치 처리 완료: 3101~3200 / 4803, 업데이트됨: 100\n",
      "배치 처리 완료: 3201~3300 / 4803, 업데이트됨: 100\n",
      "배치 처리 완료: 3301~3400 / 4803, 업데이트됨: 100\n",
      "배치 처리 완료: 3401~3500 / 4803, 업데이트됨: 100\n",
      "배치 처리 완료: 3501~3600 / 4803, 업데이트됨: 100\n",
      "배치 처리 완료: 3601~3700 / 4803, 업데이트됨: 100\n",
      "배치 처리 완료: 3701~3800 / 4803, 업데이트됨: 100\n",
      "배치 처리 완료: 3801~3900 / 4803, 업데이트됨: 100\n",
      "배치 처리 완료: 3901~4000 / 4803, 업데이트됨: 100\n",
      "배치 처리 완료: 4001~4100 / 4803, 업데이트됨: 100\n",
      "배치 처리 완료: 4101~4200 / 4803, 업데이트됨: 100\n",
      "배치 처리 완료: 4201~4300 / 4803, 업데이트됨: 100\n",
      "배치 처리 완료: 4301~4400 / 4803, 업데이트됨: 100\n",
      "배치 처리 완료: 4401~4500 / 4803, 업데이트됨: 100\n",
      "배치 처리 완료: 4501~4600 / 4803, 업데이트됨: 100\n",
      "배치 처리 완료: 4601~4700 / 4803, 업데이트됨: 100\n",
      "배치 처리 완료: 4701~4800 / 4803, 업데이트됨: 100\n",
      "배치 처리 완료: 4801~4803 / 4803, 업데이트됨: 3\n",
      "영화 임베딩 업데이트 완료!! 총 4803개 처리\n"
     ]
    }
   ],
   "execution_count": 8
  },
  {
   "cell_type": "markdown",
   "id": "7bae7cb8",
   "metadata": {},
   "source": [
    "---\n",
    "\n",
    "## 3. **의미 기반 검색(Semantic Search)** 구현"
   ]
  },
  {
   "cell_type": "markdown",
   "id": "fb647a5d",
   "metadata": {},
   "source": [
    "### 3.1 기본 검색\n",
    "\n",
    "- `semantic_movie_search` 함수는 **텍스트 기반 의미 검색**을 구현함\n",
    "- 입력된 검색어를 **OpenAI 임베딩**으로 변환하는 과정 포함\n",
    "- Neo4j의 **벡터 인덱스 검색** 기능(`db.index.vector.queryNodes`)을 활용\n",
    "- 검색 결과로 영화 **제목**, **개봉일**, **평점**과 **유사도 점수**를 반환"
   ]
  },
  {
   "cell_type": "code",
   "id": "ca604014",
   "metadata": {
    "ExecuteTime": {
     "end_time": "2025-08-19T07:19:38.585623Z",
     "start_time": "2025-08-19T07:19:38.582533Z"
    }
   },
   "source": [
    "def semantic_movie_search(search_text, top_k=5):\n",
    "    \"\"\"\n",
    "    텍스트 쿼리를 받아 의미적으로 가장 유사한 영화를 반환합니다.\n",
    "    \n",
    "    매개변수:\n",
    "        search_text (str): 검색할 텍스트 쿼리\n",
    "        top_k (int): 반환할 최대 결과 수 (기본값: 5)\n",
    "        \n",
    "    반환값:\n",
    "        list: 유사도 점수가 높은 순으로 정렬된 영화 정보 목록\n",
    "    \"\"\"\n",
    "    # 검색 텍스트의 임베딩 생성 (OpenAI API를 사용하여 텍스트를 벡터로 변환)\n",
    "    query_embedding = embeddings.embed_query(search_text)\n",
    "    \n",
    "    # Neo4j 벡터 검색 쿼리 실행\n",
    "    # db.index.vector.queryNodes: Neo4j의 벡터 인덱스를 사용하여 유사한 노드를 검색하는 함수\n",
    "    vector_search_query = \"\"\"\n",
    "    CALL db.index.vector.queryNodes(\n",
    "        'movie_content_embeddings',        // 사용할 벡터 인덱스 이름\n",
    "        $top_k,                          // 반환할 결과 수\n",
    "        $query_embedding                 // 검색 쿼리의 임베딩 벡터\n",
    "    ) YIELD node, score                  // 검색 결과 노드와 유사도 점수 반환\n",
    "    RETURN node.title AS title,          // 영화 제목\n",
    "           node.released AS released,    // 개봉일\n",
    "           node.rating AS rating,        // 평점\n",
    "           score AS similarity           // 유사도 점수\n",
    "    ORDER BY similarity DESC             // 유사도 점수 기준 내림차순 정렬\n",
    "    \"\"\"\n",
    "    \n",
    "    # Neo4j 그래프 데이터베이스에 쿼리 실행\n",
    "    # top_k와 query_embedding을 파라미터로 전달\n",
    "    results = graph.query(\n",
    "        vector_search_query,\n",
    "        params={\"top_k\": top_k, \"query_embedding\": query_embedding}\n",
    "    )\n",
    "    \n",
    "    # 검색 결과 반환 (영화 제목, 개봉일, 평점, 유사도 점수 포함)\n",
    "    return results"
   ],
   "outputs": [],
   "execution_count": 10
  },
  {
   "cell_type": "code",
   "id": "5dbb441b",
   "metadata": {
    "ExecuteTime": {
     "end_time": "2025-08-19T07:19:45.451596Z",
     "start_time": "2025-08-19T07:19:44.822748Z"
    }
   },
   "source": [
    "# 임베딩 기반 의미 검색 (영어 예시)\n",
    "search_text = \"a Drama movie about artificial intelligence and reality\"\n",
    "\n",
    "# 의미 검색 실행\n",
    "results = semantic_movie_search(search_text)\n",
    "\n",
    "for result in results:\n",
    "    print(f\"{result['title']} - 유사도: {result['similarity']:.4f}, \" +\n",
    "          f\"평점: {result['rating']}, 개봉: {result['released']}\")"
   ],
   "outputs": [
    {
     "name": "stdout",
     "output_type": "stream",
     "text": [
      "A.I. Artificial Intelligence - 유사도: 0.7672, 평점: 6.8, 개봉: 2001-06-29\n",
      "Ex Machina - 유사도: 0.7634, 평점: 7.6, 개봉: 2015-01-21\n",
      "I, Robot - 유사도: 0.7478, 평점: 6.7, 개봉: 2004-07-15\n",
      "The Matrix - 유사도: 0.7434, 평점: 7.9, 개봉: 1999-03-30\n",
      "Stealth - 유사도: 0.7327, 평점: 4.9, 개봉: 2005-07-28\n"
     ]
    }
   ],
   "execution_count": 11
  },
  {
   "cell_type": "code",
   "id": "53198a60",
   "metadata": {
    "ExecuteTime": {
     "end_time": "2025-08-19T07:20:44.153131Z",
     "start_time": "2025-08-19T07:20:43.671858Z"
    }
   },
   "source": [
    "# 임베딩 기반 의미 검색 (한국어 예시)\n",
    "search_text_kr = \"인공지능과 현실에 관한 SF 영화\"\n",
    "\n",
    "# 의미 검색 실행\n",
    "results_kr = semantic_movie_search(search_text_kr)\n",
    "\n",
    "for result in results_kr:\n",
    "    print(f\"{result['title']} - 유사도: {result['similarity']:.4f}, \" +\n",
    "          f\"평점: {result['rating']}, 개봉: {result['released']}\")"
   ],
   "outputs": [
    {
     "name": "stdout",
     "output_type": "stream",
     "text": [
      "Stealth - 유사도: 0.7109, 평점: 4.9, 개봉: 2005-07-28\n",
      "The Matrix - 유사도: 0.7108, 평점: 7.9, 개봉: 1999-03-30\n",
      "Real Steel - 유사도: 0.7091, 평점: 6.6, 개봉: 2011-09-28\n",
      "A.I. Artificial Intelligence - 유사도: 0.7084, 평점: 6.8, 개봉: 2001-06-29\n",
      "I, Robot - 유사도: 0.7065, 평점: 6.7, 개봉: 2004-07-15\n"
     ]
    }
   ],
   "execution_count": 12
  },
  {
   "cell_type": "markdown",
   "id": "8591d9be",
   "metadata": {},
   "source": [
    "### 3.2 하이브리드 검색"
   ]
  },
  {
   "cell_type": "markdown",
   "id": "79ee8f12",
   "metadata": {},
   "source": [
    "- **벡터 검색 + 키워드 필터링**:\n",
    "\n",
    "    - `hybrid_movie_search` 함수는 **벡터 검색**과 **키워드 필터링**을 결합한 검색 기능 구현\n",
    "    - Neo4j의 **벡터 인덱스**를 활용하여 의미적 유사성 기반 검색 수행\n",
    "    - **장르**와 **최소 평점** 등 추가 필터를 적용하여 검색 결과 정제"
   ]
  },
  {
   "cell_type": "code",
   "id": "e7c55c99",
   "metadata": {
    "ExecuteTime": {
     "end_time": "2025-08-19T07:24:57.538996Z",
     "start_time": "2025-08-19T07:24:56.773847Z"
    }
   },
   "source": [
    "def hybrid_movie_search(search_text, genre=None, min_rating=None, top_k=5):\n",
    "    \"\"\"\n",
    "    벡터 검색 및 키워드 필터링을 결합한 하이브리드 검색\n",
    "    \n",
    "    Args:\n",
    "        search_text: 검색할 텍스트 쿼리\n",
    "        genre: 필터링할 영화 장르 (선택적)\n",
    "        min_rating: 최소 평점 기준 (선택적)\n",
    "        top_k: 반환할 최대 결과 수\n",
    "        \n",
    "    Returns:\n",
    "        필터링된 영화 검색 결과 목록\n",
    "    \"\"\"\n",
    "    # 검색 텍스트의 임베딩 생성 - OpenAI 임베딩 모델을 사용하여 텍스트를 벡터로 변환\n",
    "    query_embedding = embeddings.embed_query(search_text)\n",
    "    \n",
    "    # 추가 필터링 조건 구성 - 사용자가 지정한 필터에 따라 쿼리 조건 생성\n",
    "    filters = []\n",
    "\n",
    "    # 장르 필터링 (예: Drama) - 특정 장르에 속한 영화만 검색하도록 필터 추가\n",
    "    if genre:  \n",
    "        filters.append(\"EXISTS { MATCH (node)-[:IN_GENRE]->(:Genre {name: $genre}) }\")\n",
    "    \n",
    "    # 평점 필터링 (예: 7.5 이상) - 지정된 평점 이상의 영화만 검색하도록 필터 추가\n",
    "    if min_rating:\n",
    "        filters.append(\"node.rating >= $min_rating\")\n",
    "    \n",
    "    # 필터 조건을 WHERE 절로 변환 - 필터가 있는 경우에만 WHERE 절 추가\n",
    "    where_clause = \"\"\n",
    "    if filters:\n",
    "        where_clause = \"WHERE \" + \" AND \".join(filters)\n",
    "\n",
    "    # Filter 조건 출력\n",
    "    print(f\"Filter 조건:\\n{where_clause}\\n\\n\")\n",
    "    \n",
    "    # 벡터 검색 쿼리 실행 - Neo4j의 벡터 인덱스를 활용한 의미적 검색 수행\n",
    "    hybrid_search_query = f\"\"\"\n",
    "    CALL db.index.vector.queryNodes(\n",
    "        'movie_content_embeddings',  // 영화 콘텐츠 임베딩이 저장된 벡터 인덱스 이름\n",
    "        100,                         // 초기 검색 결과 수 (더 많은 결과를 가져와서 필터링)\n",
    "        $query_embedding             // 파라미터로 전달된 쿼리 임베딩 벡터\n",
    "    ) YIELD node, score              // 검색된 노드와 유사도 점수 반환\n",
    "\n",
    "    {where_clause}                   // 동적으로 생성된 필터링 조건 (장르, 평점 등)\n",
    "\n",
    "    WITH node, score                 // 필터링된 노드와 점수를 다음 단계로 전달\n",
    "    OPTIONAL MATCH (node)-[:IN_GENRE]->(g:Genre)  // 영화와 연결된 장르 노드 찾기\n",
    "\n",
    "    RETURN node.title AS title,      // 영화 제목 반환\n",
    "           node.released AS released,// 개봉일 반환\n",
    "           node.rating AS rating,    // 평점 반환\n",
    "           node.tagline AS tagline,  // 태그라인 반환\n",
    "           node.overview AS overview, // 영화 개요 반환 \n",
    "           collect(g.name) AS genres,// 모든 장르를 배열로 수집\n",
    "           score AS similarity       // 유사도 점수 반환\n",
    "           \n",
    "    ORDER BY similarity DESC         // 유사도 점수 기준 내림차순 정렬\n",
    "    LIMIT $top_k                     // 상위 k개 결과만 반환\n",
    "    \"\"\"\n",
    "    \n",
    "    # 쿼리 파라미터 설정 - 동적으로 필요한 파라미터만 포함\n",
    "    params = {\n",
    "        \"query_embedding\": query_embedding,\n",
    "        \"top_k\": top_k\n",
    "    }\n",
    "    \n",
    "    # 선택적 파라미터 추가 - 필터가 지정된 경우에만 해당 파라미터 추가\n",
    "    if genre:\n",
    "        params[\"genre\"] = genre\n",
    "    if min_rating:\n",
    "        params[\"min_rating\"] = min_rating\n",
    "    \n",
    "    # Neo4j 데이터베이스에 쿼리 실행 및 결과 반환\n",
    "    results = graph.query(hybrid_search_query, params=params)\n",
    "    \n",
    "    return results\n",
    "\n",
    "# 하이브리드 검색 테스트\n",
    "hybrid_results = hybrid_movie_search(\n",
    "    \"가족간의 사랑과 신뢰 회복을 주제로 한 영화\",\n",
    "    genre=\"Drama\",\n",
    "    min_rating=7.0,\n",
    "    top_k=5\n",
    ")\n",
    "\n",
    "# 검색 결과 출력 - 영화 제목, 유사도 점수, 평점, 장르 정보 표시\n",
    "for result in hybrid_results:\n",
    "    print(f\"{result['title']} - 유사도: {result['similarity']:.4f}, \" +\n",
    "          f\"평점: {result['rating']}, 장르: {', '.join(result['genres'])}\")\n",
    "    print(f\"---- 태그라인: {result['tagline']}\")\n",
    "    print(f\"---- 개요: {result['overview']}\")\n",
    "    print()"
   ],
   "outputs": [
    {
     "name": "stdout",
     "output_type": "stream",
     "text": [
      "Filter 조건:\n",
      "WHERE EXISTS { MATCH (node)-[:IN_GENRE]->(:Genre {name: $genre}) } AND node.rating >= $min_rating\n",
      "\n",
      "\n",
      "The Best of Me - 유사도: 0.7191, 평점: 7.2, 장르: Drama, Romance\n",
      "---- 태그라인: You never forget your first love.\n",
      "---- 개요: A pair of former high school sweethearts reunite after many years when they return to visit their small hometown.\n",
      "\n",
      "High Fidelity - 유사도: 0.7005, 평점: 7.0, 장르: Drama, Romance, Music, Comedy\n",
      "---- 태그라인: A comedy about fear of commitment, hating your job, falling in love and other pop favorites.\n",
      "---- 개요: When record store owner Rob Gordon gets dumped by his girlfriend, Laura, because he hasn't changed since they met, he revisits his top five breakups of all time in an attempt to figure out what went wrong. As Rob seeks out his former lovers to find out why they left, he keeps up his efforts to win Laura back.\n",
      "\n",
      "Reign Over Me - 유사도: 0.6958, 평점: 7.1, 장르: Drama\n",
      "---- 태그라인: Let in the unexpected.\n",
      "---- 개요: A man who lost his family in the September 11 attack on New York City runs into his old college roommate. Rekindling the friendship is the one thing that appears able to help the man recover from his grief.\n",
      "\n",
      "The Vow - 유사도: 0.6950, 평점: 7.0, 장르: Drama, Romance\n",
      "---- 태그라인: None\n",
      "---- 개요: Happy young married couple Paige and Leo are, well, happy. Then a car accident puts Paige into a life-threatening coma. Upon awakening she has lost the previous five years of memories, including those of her beloved Leo, her wedding, a confusing relationship with her parents, or the ending of her relationship with her ex-fiance. Despite these complications, Leo endeavors to win her heart again and rebuild their marriage.\n",
      "\n",
      "Fireproof - 유사도: 0.6933, 평점: 7.0, 장르: Drama\n",
      "---- 태그라인: Never Leave Your Partner Behind.\n",
      "---- 개요: In Albany, the marriage of Caleb end Catherine Holt is in crisis and they decide to divorce. However, Caleb's father, John, proposes that his son delays their separation process for forty days and follow a procedure called \"The Love Dare\" to make them love each other again.\n",
      "\n"
     ]
    }
   ],
   "execution_count": 13
  },
  {
   "cell_type": "code",
   "id": "2a84d6d9",
   "metadata": {
    "ExecuteTime": {
     "end_time": "2025-08-19T07:25:00.956597Z",
     "start_time": "2025-08-19T07:25:00.593804Z"
    }
   },
   "source": [
    "# 하이브리드 검색 테스트 - 실제 검색 예시로 함수 실행\n",
    "hybrid_results = hybrid_movie_search(\n",
    "    \"친구들의 우정을 그린 영화\",\n",
    "    min_rating=7.0,\n",
    "    top_k=5\n",
    ")\n",
    "\n",
    "# 검색 결과 출력 - 영화 제목, 유사도 점수, 평점, 장르 정보 표시\n",
    "for result in hybrid_results:\n",
    "    print(f\"{result['title']} - 유사도: {result['similarity']:.4f}, \" +\n",
    "          f\"평점: {result['rating']}, 장르: {', '.join(result['genres'])}\")\n",
    "    print(f\"---- 태그라인: {result['tagline']}\")\n",
    "    print(f\"---- 개요: {result['overview']}\")\n",
    "    print()"
   ],
   "outputs": [
    {
     "name": "stdout",
     "output_type": "stream",
     "text": [
      "Filter 조건:\n",
      "WHERE node.rating >= $min_rating\n",
      "\n",
      "\n",
      "Sleepers - 유사도: 0.6853, 평점: 7.3, 장르: Drama, Thriller, Crime\n",
      "---- 태그라인: When friendship runs deeper than blood.\n",
      "---- 개요: Two gangsters seek revenge on the state jail worker who during their stay at a youth prison sexually abused them. A sensational court hearing takes place to charge him for the crimes. A moving drama from director Barry Levinson.\n",
      "\n",
      "Little White Lies - 유사도: 0.6811, 평점: 7.1, 장르: Drama, Comedy\n",
      "---- 태그라인: The one thing friends can't escape is a few home truths.\n",
      "---- 개요: Despite a traumatic event, a group of friends decide to go ahead with their annual beach vacation. Their relationships, convictions, sense of guilt and friendship are sorely tested. They are finally forced to own up to the little white lies they've been telling each other.\n",
      "\n",
      "The Wood - 유사도: 0.6800, 평점: 7.1, 장르: Drama, Romance, Comedy\n",
      "---- 태그라인: From best friends to best men.\n",
      "---- 개요: In the panicky, uncertain hours before his wedding, a groom with prenuptial jitters and his two best friends reminisce about growing up together in the middle-class African-American neighborhood of Inglewood, California. Flashing back to the twenty-something trio's childhood exploits, the memories capture the mood and nostalgia of the '80s era.\n",
      "\n",
      "Dazed and Confused - 유사도: 0.6765, 평점: 7.4, 장르: Drama, Comedy\n",
      "---- 태그라인: See it with a bud.\n",
      "---- 개요: The adventures of a group of Texas teens on their last day of school in 1976, centering on student Randall Floyd, who moves easily among stoners, jocks and geeks. Floyd is a star athlete, but he also likes smoking weed, which presents a conundrum when his football coach demands he sign a \"no drugs\" pledge.\n",
      "\n",
      "The Way Way Back - 유사도: 0.6758, 평점: 7.1, 장르: Drama, Comedy\n",
      "---- 태그라인: We've all been there.\n",
      "---- 개요: Over the course of his summer break, a teenager comes into his own thanks in part to the friendship he strikes up with one of the park's managers.\n",
      "\n"
     ]
    }
   ],
   "execution_count": 14
  },
  {
   "cell_type": "code",
   "execution_count": null,
   "id": "ea53d670",
   "metadata": {},
   "outputs": [],
   "source": []
  }
 ],
 "metadata": {
  "kernelspec": {
   "display_name": ".venv",
   "language": "python",
   "name": "python3"
  },
  "language_info": {
   "codemirror_mode": {
    "name": "ipython",
    "version": 3
   },
   "file_extension": ".py",
   "mimetype": "text/x-python",
   "name": "python",
   "nbconvert_exporter": "python",
   "pygments_lexer": "ipython3",
   "version": "3.12.9"
  }
 },
 "nbformat": 4,
 "nbformat_minor": 5
}
