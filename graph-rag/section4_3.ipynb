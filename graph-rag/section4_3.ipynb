{
 "cells": [
  {
   "cell_type": "markdown",
   "id": "b735da82",
   "metadata": {},
   "source": [
    "# Neo4j와 LangChain을 활용한 영화 추천 시스템\n"
   ]
  },
  {
   "cell_type": "markdown",
   "id": "a0613508",
   "metadata": {},
   "source": [
    "---\n",
    "\n",
    "## 1. Neo4J AuraDB 환경 설정"
   ]
  },
  {
   "cell_type": "code",
   "id": "1dc7d00f",
   "metadata": {
    "ExecuteTime": {
     "end_time": "2025-08-19T06:56:02.193811Z",
     "start_time": "2025-08-19T06:56:02.185920Z"
    }
   },
   "source": [
    "import os\n",
    "from dotenv import load_dotenv\n",
    "\n",
    "# 환경 변수 로드\n",
    "load_dotenv()"
   ],
   "outputs": [
    {
     "data": {
      "text/plain": [
       "True"
      ]
     },
     "execution_count": 1,
     "metadata": {},
     "output_type": "execute_result"
    }
   ],
   "execution_count": 1
  },
  {
   "cell_type": "code",
   "id": "f765676e",
   "metadata": {
    "ExecuteTime": {
     "end_time": "2025-08-19T06:56:04.881876Z",
     "start_time": "2025-08-19T06:56:03.079664Z"
    }
   },
   "source": [
    "from langchain_neo4j import Neo4jGraph\n",
    "\n",
    "# LangChain 도구 활용 - DB 연결 객체 초기화 \n",
    "graph = Neo4jGraph( \n",
    "    url=os.getenv(\"NEO4J_URI\"), \n",
    "    username=os.getenv(\"NEO4J_USERNAME\"), \n",
    "    password=os.getenv(\"NEO4J_PASSWORD\"),\n",
    ")"
   ],
   "outputs": [],
   "execution_count": 2
  },
  {
   "cell_type": "code",
   "id": "78a4a57a",
   "metadata": {
    "ExecuteTime": {
     "end_time": "2025-08-19T06:56:04.891140Z",
     "start_time": "2025-08-19T06:56:04.886455Z"
    }
   },
   "source": [
    "# 테스트 쿼리 실행 \n",
    "cypher_query = \"\"\"\n",
    "MATCH (n:Movie)\n",
    "RETURN COUNT(n) AS Movie_Count\n",
    "\"\"\"\n",
    "\n",
    "graph.query(cypher_query)"
   ],
   "outputs": [
    {
     "data": {
      "text/plain": [
       "[{'Movie_Count': 4803}]"
      ]
     },
     "execution_count": 3,
     "metadata": {},
     "output_type": "execute_result"
    }
   ],
   "execution_count": 3
  },
  {
   "cell_type": "markdown",
   "id": "a170faec",
   "metadata": {},
   "source": [
    "---\n",
    "\n",
    "## 2. 전문 검색(Full-Text Search) 활용\n",
    "\n",
    "Neo4j의 전문 검색 기능은 그래프 데이터베이스의 관계 기반 쿼리 기능과 결합되어, 단순한 키워드 검색을 넘어 맥락과 관계를 고려한 지능적인 검색 솔루션을 구현할 수 있게 합니다. 이는 영화 추천 시스템, 지식 그래프 검색, 콘텐츠 관리 시스템 등 다양한 응용 분야에서 활용될 수 있습니다.\n",
    "\n",
    "1. **텍스트 분석과 토큰화**:\n",
    "   - 전문 검색 인덱스는 텍스트를 단어(토큰)로 분리하고 분석합니다.\n",
    "   - 대소문자 구분 없이 검색이 가능합니다.\n",
    "\n",
    "2. **검색 문법 지원**:\n",
    "   - 와일드카드: `star*`는 \"star\", \"starship\", \"stargate\" 등을 검색할 수 있습니다.\n",
    "   - 부정 검색: `-war`는 \"war\"가 포함되지 않은 결과를 반환합니다.\n",
    "   - 필수 검색어: `+lord +rings`는 두 단어가 모두 포함된 결과만 반환합니다.\n",
    "   - 구문 검색: `\"lord of the rings\"`는 정확한 구문을 포함하는 결과를 반환합니다.\n",
    "\n",
    "3. **그래프 구조와의 통합**:\n",
    "   - 텍스트 검색 결과를 첫 단계로 사용하고, 이후 그래프 탐색을 통해 관련 데이터를 추출할 수 있습니다.\n",
    "   - 이는 관계형 데이터베이스에서는 구현하기 어려운 강력한 기능입니다.\n",
    "\n",
    "4. **관련성 점수(Relevance Score)**:\n",
    "   - 검색 결과는 관련성 점수와 함께 제공되어 가장 적합한 결과를 우선 표시할 수 있습니다.\n",
    "   - 이 점수는 검색어와 문서 내용의 일치도, 단어 빈도 등을 고려하여 계산됩니다.\n",
    "\n",
    "\n",
    "\n",
    "### 2.1 전문 검색 인덱스 설정\n",
    "\n",
    "- **`Movie` 노드의 `title` 속성**에 대한 전문 검색 인덱스를 생성\n",
    "\n",
    "   - **CREATE FULLTEXT INDEX**: 전문 검색 인덱스 생성 명령어입니다.\n",
    "   - **movie_title_fulltext**: 생성할 인덱스의 이름입니다.\n",
    "   - **IF NOT EXISTS**: 이미 동일한 이름의 인덱스가 있으면 생성하지 않습니다.\n",
    "   - **FOR (m:Movie)**: `Movie` 라벨을 가진 노드를 대상으로 합니다.\n",
    "   - **ON EACH [m.title]**: `title` 속성을 인덱싱합니다. "
   ]
  },
  {
   "cell_type": "code",
   "id": "d67e1a80",
   "metadata": {
    "ExecuteTime": {
     "end_time": "2025-08-19T06:59:09.702234Z",
     "start_time": "2025-08-19T06:59:09.563091Z"
    }
   },
   "source": [
    "# Movie 노드의 title 속성에 대한 전문 검색 인덱스 생성\n",
    "# CREATE FULLTEXT INDEX: 전문 검색(Full-Text Search)을 위한 인덱스를 생성하는 Cypher 명령어\n",
    "# movie_title_fulltext: 생성할 인덱스의 이름 (나중에 이 이름으로 인덱스를 참조)\n",
    "# IF NOT EXISTS: 동일한 이름의 인덱스가 이미 존재하는 경우 오류 없이 건너뜀\n",
    "# FOR (m:Movie): Movie 라벨을 가진 모든 노드에 대해 인덱스 적용\n",
    "# ON EACH [m.title]: 각 Movie 노드의 title 속성만 인덱싱 (여러 속성을 인덱싱하려면 배열에 추가 가능)\n",
    "fulltext_index_query = \"\"\"\n",
    "CREATE FULLTEXT INDEX movie_title_fulltext IF NOT EXISTS \n",
    "FOR (m:Movie) ON EACH [m.title]\n",
    "\"\"\"\n",
    "graph.query(fulltext_index_query)"
   ],
   "outputs": [
    {
     "data": {
      "text/plain": [
       "[]"
      ]
     },
     "execution_count": 4,
     "metadata": {},
     "output_type": "execute_result"
    }
   ],
   "execution_count": 4
  },
  {
   "cell_type": "code",
   "id": "8cd992bf",
   "metadata": {
    "ExecuteTime": {
     "end_time": "2025-08-19T06:59:14.621581Z",
     "start_time": "2025-08-19T06:59:14.580429Z"
    }
   },
   "source": [
    "graph.query(\"SHOW FULLTEXT INDEXES\") # 생성된 인덱스 확인"
   ],
   "outputs": [
    {
     "data": {
      "text/plain": [
       "[{'id': 8,\n",
       "  'name': 'movie_title_fulltext',\n",
       "  'state': 'ONLINE',\n",
       "  'populationPercent': 100.0,\n",
       "  'type': 'FULLTEXT',\n",
       "  'entityType': 'NODE',\n",
       "  'labelsOrTypes': ['Movie'],\n",
       "  'properties': ['title'],\n",
       "  'indexProvider': 'fulltext-1.0',\n",
       "  'owningConstraint': None,\n",
       "  'lastRead': None,\n",
       "  'readCount': None}]"
      ]
     },
     "execution_count": 5,
     "metadata": {},
     "output_type": "execute_result"
    }
   ],
   "execution_count": 5
  },
  {
   "cell_type": "markdown",
   "id": "115f4acb",
   "metadata": {},
   "source": [
    "- **`Movie` 노드의 `title`, `tagline` 속성**에 대한 전문 검색 인덱스를 생성\n",
    "\n",
    "   - **ON EACH [m.title, m.tagline]**: 여러 속성을 포함하려면 `[m.title, m.tagline]`와 같이 배열에 추가하면 함께 인덱싱 처리됨"
   ]
  },
  {
   "cell_type": "code",
   "id": "e1aad69d",
   "metadata": {
    "ExecuteTime": {
     "end_time": "2025-08-19T06:59:30.436026Z",
     "start_time": "2025-08-19T06:59:30.412930Z"
    }
   },
   "source": [
    "# Movie 노드의 title과 tagline 속성 모두에 대한 전문 검색 인덱스 생성\n",
    "# CREATE FULLTEXT INDEX: 전문 검색(Full-Text Search)을 위한 인덱스를 생성하는 Cypher 명령어\n",
    "# movie_title_tagline_fulltext: 생성할 인덱스의 이름 (두 속성을 모두 포함하는 인덱스임을 이름에 반영)\n",
    "# IF NOT EXISTS: 동일한 이름의 인덱스가 이미 존재하는 경우 오류 없이 건너뜀\n",
    "# FOR (m:Movie): Movie 라벨을 가진 모든 노드에 대해 인덱스 적용\n",
    "# ON EACH [m.title, m.tagline]: 각 Movie 노드의 title과 tagline 두 속성을 모두 인덱싱\n",
    "# 이렇게 하면 영화 제목뿐만 아니라 영화의 태그라인(짧은 홍보문구)에서도 검색 가능\n",
    "fulltext_index_query = \"\"\"\n",
    "CREATE FULLTEXT INDEX movie_title_tagline_fulltext IF NOT EXISTS \n",
    "FOR (m:Movie) ON EACH [m.title, m.tagline]\n",
    "\"\"\"\n",
    "graph.query(fulltext_index_query)"
   ],
   "outputs": [
    {
     "data": {
      "text/plain": [
       "[]"
      ]
     },
     "execution_count": 6,
     "metadata": {},
     "output_type": "execute_result"
    }
   ],
   "execution_count": 6
  },
  {
   "cell_type": "code",
   "id": "a0645efe",
   "metadata": {
    "ExecuteTime": {
     "end_time": "2025-08-19T06:59:32.676109Z",
     "start_time": "2025-08-19T06:59:32.638768Z"
    }
   },
   "source": [
    "graph.query(\"SHOW FULLTEXT INDEXES\") # 생성된 인덱스 확인"
   ],
   "outputs": [
    {
     "data": {
      "text/plain": [
       "[{'id': 8,\n",
       "  'name': 'movie_title_fulltext',\n",
       "  'state': 'ONLINE',\n",
       "  'populationPercent': 100.0,\n",
       "  'type': 'FULLTEXT',\n",
       "  'entityType': 'NODE',\n",
       "  'labelsOrTypes': ['Movie'],\n",
       "  'properties': ['title'],\n",
       "  'indexProvider': 'fulltext-1.0',\n",
       "  'owningConstraint': None,\n",
       "  'lastRead': None,\n",
       "  'readCount': 0},\n",
       " {'id': 9,\n",
       "  'name': 'movie_title_tagline_fulltext',\n",
       "  'state': 'ONLINE',\n",
       "  'populationPercent': 100.0,\n",
       "  'type': 'FULLTEXT',\n",
       "  'entityType': 'NODE',\n",
       "  'labelsOrTypes': ['Movie'],\n",
       "  'properties': ['title', 'tagline'],\n",
       "  'indexProvider': 'fulltext-1.0',\n",
       "  'owningConstraint': None,\n",
       "  'lastRead': None,\n",
       "  'readCount': None}]"
      ]
     },
     "execution_count": 7,
     "metadata": {},
     "output_type": "execute_result"
    }
   ],
   "execution_count": 7
  },
  {
   "cell_type": "markdown",
   "id": "e3009cb9",
   "metadata": {},
   "source": [
    "- **`Person` 노드의 `name` 속성**에 대한 전문 검색 인덱스를 생성\n",
    "\n",
    "- 검색 예시:\n",
    "    1. 특정 이름을 가진 배우/감독 검색\n",
    "    2. 유사한 이름의 배우/감독 검색 (퍼지 검색 사용)\n",
    "    3. 배우/감독 이름의 부분 문자열 검색"
   ]
  },
  {
   "cell_type": "code",
   "id": "854a4bb5",
   "metadata": {
    "ExecuteTime": {
     "end_time": "2025-08-19T07:00:03.497138Z",
     "start_time": "2025-08-19T07:00:03.472564Z"
    }
   },
   "source": [
    "# Person 노드의 name 속성에 전문 검색 인덱스 생성\n",
    "# CREATE FULLTEXT INDEX: 전문 검색(Full-Text Search)을 위한 인덱스를 생성하는 Cypher 명령어\n",
    "# person_name_fulltext: 생성할 인덱스의 이름으로, 나중에 이 이름으로 인덱스를 참조할 수 있음\n",
    "# IF NOT EXISTS: 동일한 이름의 인덱스가 이미 존재하는 경우 오류 없이 건너뜀\n",
    "# FOR (p:Person): Person 라벨을 가진 모든 노드에 대해 인덱스 적용\n",
    "# ON EACH [p.name]: 각 Person 노드의 name 속성만 인덱싱 \n",
    "person_fulltext_index_query = \"\"\"\n",
    "CREATE FULLTEXT INDEX person_name_fulltext IF NOT EXISTS\n",
    "FOR (p:Person) ON EACH [p.name]\n",
    "\"\"\"\n",
    "graph.query(person_fulltext_index_query)"
   ],
   "outputs": [
    {
     "data": {
      "text/plain": [
       "[]"
      ]
     },
     "execution_count": 8,
     "metadata": {},
     "output_type": "execute_result"
    }
   ],
   "execution_count": 8
  },
  {
   "cell_type": "code",
   "id": "3a115454",
   "metadata": {
    "ExecuteTime": {
     "end_time": "2025-08-19T07:00:05.422031Z",
     "start_time": "2025-08-19T07:00:05.398668Z"
    }
   },
   "source": [
    "graph.query(\"SHOW FULLTEXT INDEXES\") # 생성된 인덱스 확인"
   ],
   "outputs": [
    {
     "data": {
      "text/plain": [
       "[{'id': 8,\n",
       "  'name': 'movie_title_fulltext',\n",
       "  'state': 'ONLINE',\n",
       "  'populationPercent': 100.0,\n",
       "  'type': 'FULLTEXT',\n",
       "  'entityType': 'NODE',\n",
       "  'labelsOrTypes': ['Movie'],\n",
       "  'properties': ['title'],\n",
       "  'indexProvider': 'fulltext-1.0',\n",
       "  'owningConstraint': None,\n",
       "  'lastRead': None,\n",
       "  'readCount': 0},\n",
       " {'id': 9,\n",
       "  'name': 'movie_title_tagline_fulltext',\n",
       "  'state': 'ONLINE',\n",
       "  'populationPercent': 100.0,\n",
       "  'type': 'FULLTEXT',\n",
       "  'entityType': 'NODE',\n",
       "  'labelsOrTypes': ['Movie'],\n",
       "  'properties': ['title', 'tagline'],\n",
       "  'indexProvider': 'fulltext-1.0',\n",
       "  'owningConstraint': None,\n",
       "  'lastRead': None,\n",
       "  'readCount': 0},\n",
       " {'id': 10,\n",
       "  'name': 'person_name_fulltext',\n",
       "  'state': 'ONLINE',\n",
       "  'populationPercent': 100.0,\n",
       "  'type': 'FULLTEXT',\n",
       "  'entityType': 'NODE',\n",
       "  'labelsOrTypes': ['Person'],\n",
       "  'properties': ['name'],\n",
       "  'indexProvider': 'fulltext-1.0',\n",
       "  'owningConstraint': None,\n",
       "  'lastRead': None,\n",
       "  'readCount': None}]"
      ]
     },
     "execution_count": 9,
     "metadata": {},
     "output_type": "execute_result"
    }
   ],
   "execution_count": 9
  },
  {
   "cell_type": "markdown",
   "id": "4db332db",
   "metadata": {},
   "source": [
    "### 2.2 검색 쿼리"
   ]
  },
  {
   "cell_type": "markdown",
   "id": "cbc323ae",
   "metadata": {},
   "source": [
    "- **기본 전문 검색 (`love`라는 단어가 포함된 영화 제목을 검색)**:\n",
    "\n",
    "    - **CALL db.index.fulltext.queryNodes**: 전문 검색 인덱스를 사용하여 노드를 검색하는 내장 도구입니다.\n",
    "    - **\"movie_title_fulltext\"**: 사용할 인덱스의 이름입니다.\n",
    "    - **$search_term**: 검색어 매개변수입니다 (예: \"love\").\n",
    "    - **YIELD node, score**: 검색 결과로 노드와 관련성 점수를 반환합니다.\n",
    "    - **ORDER BY SearchRelevance DESC**: 관련성 점수가 높은 순서대로 결과를 정렬합니다.\n"
   ]
  },
  {
   "cell_type": "code",
   "id": "934366ff",
   "metadata": {
    "ExecuteTime": {
     "end_time": "2025-08-19T07:01:31.147980Z",
     "start_time": "2025-08-19T07:01:31.013418Z"
    }
   },
   "source": [
    "# `love`라는 단어가 포함된 영화 제목을 검색\n",
    "# 전문 검색 인덱스를 사용하여 영화 제목에서 'love' 키워드 검색\n",
    "search_query = \"\"\"\n",
    "// db.index.fulltext.queryNodes: 전문 검색 인덱스를 사용하여 노드를 검색하는 프로시저\n",
    "// \"movie_title_fulltext\": 앞서 생성한 영화 제목 전문 검색 인덱스 이름\n",
    "// $search_term: 파라미터로 전달되는 검색어 (여기서는 \"love\")\n",
    "CALL db.index.fulltext.queryNodes(\"movie_title_fulltext\", $search_term)\n",
    "\n",
    "// YIELD: 프로시저의 결과를 반환\n",
    "// node: 검색된 노드 객체, score: 검색 관련성 점수\n",
    "YIELD node, score\n",
    "\n",
    "// RETURN: 결과로 반환할 데이터 지정\n",
    "// node.title: 검색된 영화 노드의 제목 속성\n",
    "// AS MovieTitle: 결과 컬럼명 지정\n",
    "// score AS SearchRelevance: 검색 관련성 점수를 SearchRelevance로 이름 지정\n",
    "RETURN node.title AS MovieTitle, score AS SearchRelevance\n",
    "\n",
    "// ORDER BY: 결과 정렬 방식 지정\n",
    "// SearchRelevance DESC: 관련성 점수 기준 내림차순 정렬(가장 관련성 높은 결과가 먼저 표시)\n",
    "ORDER BY SearchRelevance DESC\n",
    "\n",
    "// LIMIT 5: 상위 5개 결과만 반환\n",
    "LIMIT 5\n",
    "\"\"\"\n",
    "graph.query(search_query, params={\"search_term\": \"love\"})"
   ],
   "outputs": [
    {
     "data": {
      "text/plain": [
       "[{'MovieTitle': 'Love Stinks', 'SearchRelevance': 2.281766891479492},\n",
       " {'MovieTitle': 'Love & Basketball', 'SearchRelevance': 2.281766891479492},\n",
       " {'MovieTitle': 'Love Happens', 'SearchRelevance': 2.281766891479492},\n",
       " {'MovieTitle': 'Love Ranch', 'SearchRelevance': 2.281766891479492},\n",
       " {'MovieTitle': 'Love Letters', 'SearchRelevance': 2.281766891479492}]"
      ]
     },
     "execution_count": 10,
     "metadata": {},
     "output_type": "execute_result"
    }
   ],
   "execution_count": 10
  },
  {
   "cell_type": "markdown",
   "id": "ef382504",
   "metadata": {},
   "source": [
    "- **기본 전문 검색 (영화 제목/태그라인 검색)**:"
   ]
  },
  {
   "cell_type": "code",
   "id": "f9f21461",
   "metadata": {
    "ExecuteTime": {
     "end_time": "2025-08-19T07:02:26.181846Z",
     "start_time": "2025-08-19T07:02:26.103194Z"
    }
   },
   "source": [
    "# 영화 제목과 태그라인에서 키워드 검색\n",
    "search_query = \"\"\"\n",
    "// db.index.fulltext.queryNodes: 전문 검색 인덱스를 사용하여 노드를 검색하는 프로시저\n",
    "// \"movie_title_tagline_fulltext\": 영화 제목과 태그라인을 위한 전문 검색 인덱스 이름\n",
    "CALL db.index.fulltext.queryNodes(\"movie_title_tagline_fulltext\", $search_term)\n",
    "\n",
    "// YIELD: 프로시저의 결과를 반환\n",
    "// node: 검색된 노드 객체, score: 검색 관련성 점수\n",
    "YIELD node, score\n",
    "\n",
    "// RETURN: 결과로 반환할 데이터 지정\n",
    "// node.title: 검색된 영화의 제목\n",
    "// node.tagline: 검색된 영화의 태그라인\n",
    "// score: 검색 관련성 점수\n",
    "RETURN node.title AS MovieTitle, node.tagline AS Tagline, score AS SearchRelevance\n",
    "\n",
    "// ORDER BY: 결과 정렬 방식 지정\n",
    "// SearchRelevance DESC: 관련성 점수 기준 내림차순 정렬\n",
    "ORDER BY SearchRelevance DESC\n",
    "\n",
    "// LIMIT 5: 상위 5개 결과만 반환\n",
    "LIMIT 5\n",
    "\"\"\"\n",
    "graph.query(search_query, params={\"search_term\": \"dream\"})\n"
   ],
   "outputs": [
    {
     "data": {
      "text/plain": [
       "[{'MovieTitle': 'Goal!: The Dream Begins',\n",
       "  'Tagline': 'Every Dream Has A Beginning',\n",
       "  'SearchRelevance': 4.898340702056885},\n",
       " {'MovieTitle': 'Opal Dream',\n",
       "  'Tagline': None,\n",
       "  'SearchRelevance': 3.1974334716796875},\n",
       " {'MovieTitle': 'Dream House',\n",
       "  'Tagline': 'Once upon a time, there were two little girls who lived in a house.',\n",
       "  'SearchRelevance': 3.1974334716796875},\n",
       " {'MovieTitle': 'The Walk',\n",
       "  'Tagline': 'Dream High.',\n",
       "  'SearchRelevance': 3.0625619888305664},\n",
       " {'MovieTitle': 'Superstar',\n",
       "  'Tagline': 'Dare to dream.',\n",
       "  'SearchRelevance': 2.84822940826416}]"
      ]
     },
     "execution_count": 11,
     "metadata": {},
     "output_type": "execute_result"
    }
   ],
   "execution_count": 11
  },
  {
   "cell_type": "markdown",
   "id": "09e91c4b",
   "metadata": {},
   "source": [
    "- **기본 전문 검색 (배우/감독 이름 검색)**:"
   ]
  },
  {
   "cell_type": "code",
   "id": "c80448d3",
   "metadata": {
    "ExecuteTime": {
     "end_time": "2025-08-19T07:02:39.362123Z",
     "start_time": "2025-08-19T07:02:39.333462Z"
    }
   },
   "source": [
    "# 배우/감독 이름 검색\n",
    "search_query = \"\"\"\n",
    "// db.index.fulltext.queryNodes: 전문 검색 인덱스를 사용하여 노드를 검색하는 프로시저\n",
    "// \"person_name_fulltext\": 앞서 생성한 인물 이름 전문 검색 인덱스 이름\n",
    "CALL db.index.fulltext.queryNodes(\"person_name_fulltext\", $search_term)\n",
    "\n",
    "// YIELD: 프로시저의 결과를 반환\n",
    "// node: 검색된 노드 객체, score: 검색 관련성 점수\n",
    "YIELD node, score\n",
    "\n",
    "// RETURN: 결과로 반환할 데이터 지정\n",
    "// node.name: 검색된 인물 노드의 이름 속성\n",
    "// AS PersonName: 결과 컬럼명을 PersonName으로 지정\n",
    "// score AS SearchRelevance: 검색 관련성 점수를 SearchRelevance로 이름 지정\n",
    "RETURN node.name AS PersonName, score AS SearchRelevance\n",
    "\n",
    "// ORDER BY: 결과 정렬 방식 지정\n",
    "// SearchRelevance DESC: 관련성 점수 기준 내림차순 정렬(가장 관련성 높은 결과가 먼저 표시)\n",
    "ORDER BY SearchRelevance DESC\n",
    "\n",
    "// LIMIT 3: 상위 3개 결과만 반환\n",
    "LIMIT 3\n",
    "\"\"\"\n",
    "graph.query(search_query, params={\"search_term\": \"tom\"})"
   ],
   "outputs": [
    {
     "data": {
      "text/plain": [
       "[{'PersonName': 'Tom Noonan', 'SearchRelevance': 2.360572099685669},\n",
       " {'PersonName': 'Tom Hulce', 'SearchRelevance': 2.360572099685669},\n",
       " {'PersonName': 'Tom Bosley', 'SearchRelevance': 2.360572099685669}]"
      ]
     },
     "execution_count": 12,
     "metadata": {},
     "output_type": "execute_result"
    }
   ],
   "execution_count": 12
  },
  {
   "cell_type": "markdown",
   "id": "7894f157",
   "metadata": {},
   "source": [
    "- **퍼지 검색 (Fuzzy Search)**:\n",
    "\n",
    "    - 검색어와 **완전히 일치하지 않아도** 유사한 단어나 표현을 인식함\n",
    "    - 문자열 간 **편집 거리(edit distance)** 개념을 활용하여 유사성을 판단함\n",
    "    - 사용자 경험을 향상시키고 **검색 실패율을 감소**시키는 효과가 있음\n",
    "    - Neo4j에서 전문 검색 인덱스와 함께 사용하여 **더 포괄적인 검색 결과**를 제공함"
   ]
  },
  {
   "cell_type": "code",
   "id": "564adee5",
   "metadata": {
    "ExecuteTime": {
     "end_time": "2025-08-19T07:03:09.330452Z",
     "start_time": "2025-08-19T07:03:09.284770Z"
    }
   },
   "source": [
    "# 퍼지 검색 - 오타를 허용하는 검색 (예: 'afair'로 'affair' 찾기)\n",
    "fuzzy_search_query = \"\"\"\n",
    "// db.index.fulltext.queryNodes: 전문 검색 인덱스를 사용하여 노드를 검색하는 프로시저\n",
    "// \"movie_title_fulltext\": 영화 제목에 대한 전문 검색 인덱스 이름\n",
    "// $search_term: 파라미터로 전달된 검색어 (여기서는 \"afair~0.7\"로 전달됨)\n",
    "// ~0.7: 퍼지 검색 표시자로, 검색어와 70% 이상 일치하는 결과를 반환\n",
    "CALL db.index.fulltext.queryNodes(\"movie_title_fulltext\", $search_term)\n",
    "\n",
    "// YIELD: 프로시저의 결과를 반환\n",
    "// node: 검색된 노드 객체, score: 검색 관련성 점수\n",
    "YIELD node, score\n",
    "\n",
    "// RETURN: 결과로 반환할 데이터 지정\n",
    "// node.title: 검색된 영화 노드의 제목 속성\n",
    "// AS MovieTitle: 결과 컬럼명을 MovieTitle로 지정\n",
    "// score AS SearchRelevance: 검색 관련성 점수를 SearchRelevance로 이름 지정\n",
    "RETURN node.title AS MovieTitle, score AS SearchRelevance\n",
    "\n",
    "// ORDER BY: 결과 정렬 방식 지정\n",
    "// SearchRelevance DESC: 관련성 점수 기준 내림차순 정렬(가장 관련성 높은 결과가 먼저 표시)\n",
    "ORDER BY SearchRelevance DESC\n",
    "\n",
    "// LIMIT 5: 상위 5개 결과만 반환\n",
    "LIMIT 5\n",
    "\"\"\"\n",
    "\n",
    "# graph.query: Neo4j 데이터베이스에 쿼리를 실행하는 함수\n",
    "# params={\"search_term\": \"afair~0.7\"}: 퍼지 검색을 위한 파라미터 전달\n",
    "# ~0.7은 편집 거리(edit distance)를 기반으로 70% 유사도를 가진 결과까지 포함\n",
    "fuzzy_results = graph.query(fuzzy_search_query, params={\"search_term\": \"afair~0.7\"})\n",
    "\n",
    "# 검색 결과를 순회하며 영화 제목과 관련도 점수를 출력\n",
    "for result in fuzzy_results:\n",
    "    print(f\"{result['MovieTitle']} (관련도: {result['SearchRelevance']})\")"
   ],
   "outputs": [
    {
     "name": "stdout",
     "output_type": "stream",
     "text": [
      "Vanity Fair (관련도: 2.685884475708008)\n",
      "Fair Game (관련도: 2.685884475708008)\n",
      "State Fair (관련도: 2.685884475708008)\n",
      "The Thomas Crown Affair (관련도: 2.3315298557281494)\n",
      "My Fair Lady (관련도: 2.3031468391418457)\n"
     ]
    }
   ],
   "execution_count": 13
  },
  {
   "cell_type": "markdown",
   "id": "17083e71",
   "metadata": {},
   "source": [
    "- **와일드카드 검색 (Wildcard Search)**:\n",
    "\n",
    "    - 와일드카드 검색은 특정 패턴으로 시작하거나 끝나는 단어를 검색할 때 사용\n",
    "    - `\"star*\"` (star로 시작하는 모든 단어)"
   ]
  },
  {
   "cell_type": "code",
   "id": "6d5f9ebc",
   "metadata": {
    "ExecuteTime": {
     "end_time": "2025-08-19T07:04:09.477033Z",
     "start_time": "2025-08-19T07:04:09.426473Z"
    }
   },
   "source": [
    "# 와일드카드 검색 - 특정 패턴으로 시작하는 단어 검색 (예: 'star'로 시작하는 영화)\n",
    "wildcard_search_query = \"\"\"\n",
    "CALL db.index.fulltext.queryNodes(\"movie_title_fulltext\", $search_term)\n",
    "YIELD node, score\n",
    "\n",
    "RETURN node.title AS MovieTitle, node.released AS ReleaseDate, score AS SearchRelevance\n",
    "ORDER BY SearchRelevance DESC\n",
    "LIMIT 5\n",
    "\"\"\"\n",
    "\n",
    "# star*: 'star'로 시작하는 모든 단어를 검색\n",
    "wildcard_results = graph.query(wildcard_search_query, params={\"search_term\": \"star*\"})\n",
    "\n",
    "print(\"\\n=== 와일드카드 검색 결과 (star*) ===\")\n",
    "for result in wildcard_results:\n",
    "    print(f\"{result['MovieTitle']} ({result['ReleaseDate']}) - 관련도: {result['SearchRelevance']:.4f}\")"
   ],
   "outputs": [
    {
     "name": "stdout",
     "output_type": "stream",
     "text": [
      "\n",
      "=== 와일드카드 검색 결과 (star*) ===\n",
      "Star Trek Beyond (2016-07-07) - 관련도: 1.0000\n",
      "The Fault in Our Stars (2014-05-16) - 관련도: 1.0000\n",
      "My Lucky Star (2013-09-17) - 관련도: 1.0000\n",
      "20 Feet from Stardom (2013-06-14) - 관련도: 1.0000\n",
      "Star Wars (1977-05-25) - 관련도: 1.0000\n"
     ]
    }
   ],
   "execution_count": 14
  },
  {
   "cell_type": "markdown",
   "id": "5cbe4cca",
   "metadata": {},
   "source": [
    "- **정확한 구문 검색 (Exact Phrase Search)**:\n",
    "\n",
    "    - 단어들이 정확히 지정된 순서로 나타나는 결과만 검색\n",
    "    - `\"\\\"love story\\\"\"` (정확하게 \"love story\"라는 구문 검색)"
   ]
  },
  {
   "cell_type": "code",
   "id": "ca0b683c",
   "metadata": {
    "ExecuteTime": {
     "end_time": "2025-08-19T07:04:40.846315Z",
     "start_time": "2025-08-19T07:04:40.816198Z"
    }
   },
   "source": [
    "# 정확한 구문 검색 - 정확한 문구를 검색 (예: \"love story\")\n",
    "phrase_search_query = \"\"\"\n",
    "CALL db.index.fulltext.queryNodes(\"movie_title_fulltext\", $search_term)\n",
    "YIELD node, score\n",
    "\n",
    "RETURN node.title AS MovieTitle, node.released AS ReleaseDate, score AS SearchRelevance\n",
    "ORDER BY SearchRelevance DESC\n",
    "LIMIT 5\n",
    "\"\"\"\n",
    "\n",
    "# \\\"love story\\\": 정확히 \"love story\"라는 구문을 포함하는 영화 검색\n",
    "# 이스케이프 처리된 쌍따옴표를 사용하여 정확한 구문을 지정\n",
    "phrase_results = graph.query(phrase_search_query, params={\"search_term\": \"\\\"love story\\\"\"})\n",
    "\n",
    "print(\"\\n=== 정확한 구문 검색 결과 (\\\"love story\\\") ===\")\n",
    "for result in phrase_results:\n",
    "    print(f\"{result['MovieTitle']} ({result['ReleaseDate']}) - 관련도: {result['SearchRelevance']:.4f}\")"
   ],
   "outputs": [
    {
     "name": "stdout",
     "output_type": "stream",
     "text": [
      "\n",
      "=== 정확한 구문 검색 결과 (\"love story\") ===\n",
      "Wristcutters: A Love Story (2006-01-24) - 관련도: 3.6628\n",
      "Capitalism: A Love Story (2009-09-06) - 관련도: 3.6628\n"
     ]
    }
   ],
   "execution_count": 15
  },
  {
   "cell_type": "markdown",
   "id": "fdefaeed",
   "metadata": {},
   "source": [
    "- **논리 연산자 검색 (AND/OR/NOT)**:\n",
    "\n",
    "    - 논리 연산자를 사용하여 여러 검색어를 조합 가능\n",
    "    - `\"love AND story NOT horror\"` (love와 story를 포함하고 horror는 제외)"
   ]
  },
  {
   "cell_type": "code",
   "id": "94f285ec",
   "metadata": {
    "ExecuteTime": {
     "end_time": "2025-08-19T07:04:48.333897Z",
     "start_time": "2025-08-19T07:04:48.319685Z"
    }
   },
   "source": [
    "# 논리 연산자 검색 - 특정 단어를 포함하고 다른 단어는 제외 (예: 'love'와 'story'를 포함하고 'horror'는 제외)\n",
    "boolean_search_query = \"\"\"\n",
    "CALL db.index.fulltext.queryNodes(\"movie_title_fulltext\", $search_term)\n",
    "YIELD node, score\n",
    "\n",
    "RETURN node.title AS MovieTitle, node.released AS ReleaseDate, score AS SearchRelevance\n",
    "ORDER BY SearchRelevance DESC\n",
    "LIMIT 5\n",
    "\"\"\"\n",
    "\n",
    "# love AND story NOT horror: 'love'와 'story'를 포함하고 'horror'는 제외하는 검색\n",
    "boolean_results = graph.query(boolean_search_query, params={\"search_term\": \"love AND story NOT horror\"})\n",
    "\n",
    "print(\"\\n=== 논리 연산자 검색 결과 (love AND story NOT horror) ===\")\n",
    "for result in boolean_results:\n",
    "    print(f\"{result['MovieTitle']} ({result['ReleaseDate']}) - 관련도: {result['SearchRelevance']:.4f}\")"
   ],
   "outputs": [
    {
     "name": "stdout",
     "output_type": "stream",
     "text": [
      "\n",
      "=== 논리 연산자 검색 결과 (love AND story NOT horror) ===\n",
      "Wristcutters: A Love Story (2006-01-24) - 관련도: 3.6628\n",
      "Capitalism: A Love Story (2009-09-06) - 관련도: 3.6628\n"
     ]
    }
   ],
   "execution_count": 16
  },
  {
   "cell_type": "markdown",
   "id": "8817fac0",
   "metadata": {},
   "source": [
    "- **가중치 부여 검색 (Boosting)**:\n",
    "\n",
    "    - 가중치 부여 검색은 특정 검색어에 더 높은 중요도를 부여하는 방법\n",
    "    - `\"love^4 affair\"` (love에 4배 가중치 부여)"
   ]
  },
  {
   "cell_type": "code",
   "id": "6a300185",
   "metadata": {
    "ExecuteTime": {
     "end_time": "2025-08-19T07:05:08.063189Z",
     "start_time": "2025-08-19T07:05:08.051246Z"
    }
   },
   "source": [
    "# 가중치 부여 검색 - 특정 단어에 더 높은 가중치 부여 (예: 'love'에 4배 가중치)\n",
    "boost_search_query = \"\"\"\n",
    "CALL db.index.fulltext.queryNodes(\"movie_title_fulltext\", $search_term)\n",
    "YIELD node, score\n",
    "\n",
    "RETURN node.title AS MovieTitle, node.released AS ReleaseDate, score AS SearchRelevance\n",
    "ORDER BY SearchRelevance DESC\n",
    "LIMIT 5\n",
    "\"\"\"\n",
    "\n",
    "# love^4 story: 'love'에 4배 가중치를 부여한 검색\n",
    "boost_results = graph.query(boost_search_query, params={\"search_term\": \"love^4 story\"})\n",
    "\n",
    "print(\"\\n=== 가중치 부여 검색 결과 (love^4 story) ===\")\n",
    "for result in boost_results:\n",
    "    print(f\"{result['MovieTitle']} ({result['ReleaseDate']}) - 관련도: {result['SearchRelevance']:.4f}\")"
   ],
   "outputs": [
    {
     "name": "stdout",
     "output_type": "stream",
     "text": [
      "\n",
      "=== 가중치 부여 검색 결과 (love^4 story) ===\n",
      "Love Jones (1997-03-14) - 관련도: 9.1271\n",
      "Love Actually (2003-09-07) - 관련도: 9.1271\n",
      "Love Ranch (2010-06-30) - 관련도: 9.1271\n",
      "Endless Love (2014-02-12) - 관련도: 9.1271\n",
      "Love Letters (1983-04-01) - 관련도: 9.1271\n"
     ]
    }
   ],
   "execution_count": 17
  },
  {
   "cell_type": "markdown",
   "id": "67a7ae4b",
   "metadata": {},
   "source": [
    "### 2.3 전문 검색과 그래프 탐색 결합"
   ]
  },
  {
   "cell_type": "markdown",
   "id": "f68f7b37",
   "metadata": {},
   "source": [
    "- **전문 검색 -> 그래프 탐색**:\n",
    "\n",
    "    1. 먼저 `love`와 같은 검색어로 영화를 검색합니다.\n",
    "    2. 검색된 영화에 출연한 배우들을 찾습니다 `(movie)<-[:ACTED_IN]-(actor:Person)`.\n",
    "    3. 영화 제목, 검색 관련성 점수와 함께 해당 영화에 출연한 모든 배우 목록을 반환합니다.\n",
    "    4. `collect(actor.name)`은 각 영화에 대한 모든 배우 이름을 배열로 수집합니다.\n"
   ]
  },
  {
   "cell_type": "code",
   "id": "70477010",
   "metadata": {
    "ExecuteTime": {
     "end_time": "2025-08-19T07:06:37.195230Z",
     "start_time": "2025-08-19T07:06:37.120766Z"
    }
   },
   "source": [
    "# 전문 검색 -> 그래프 탐색: 특정 단어를 포함하는 영화를 먼저 찾고(full-text), 각 영화에 출연한 출연 배우 찾기(graph)\n",
    "combined_search_query = \"\"\"\n",
    "// db.index.fulltext.queryNodes: 전문 검색 인덱스를 사용하여 노드 검색\n",
    "// \"movie_title_fulltext\": 영화 제목에 대한 전문 검색 인덱스 이름\n",
    "// $search_term: 파라미터로 전달된 검색어\n",
    "CALL db.index.fulltext.queryNodes(\"movie_title_fulltext\", $search_term) \n",
    "\n",
    "// YIELD: 프로시저의 결과를 반환\n",
    "// node as movie: 검색된 노드를 movie로 별칭 지정\n",
    "// score: 검색 관련성 점수\n",
    "YIELD node as movie, score\n",
    "\n",
    "// MATCH: 그래프 패턴 매칭\n",
    "// (movie)<-[:ACTED_IN]-(actor:Person): movie 노드에 ACTED_IN 관계로 연결된 Person 타입의 actor 노드 찾기\n",
    "MATCH (movie)<-[:ACTED_IN]-(actor:Person)\n",
    "\n",
    "// RETURN: 쿼리 결과 반환\n",
    "// movie.title AS MovieTitle: 영화 제목을 MovieTitle로 별칭 지정\n",
    "// score AS SearchRelevance: 검색 관련성 점수를 SearchRelevance로 별칭 지정\n",
    "// collect(actor.name) AS Actors: 각 영화에 출연한 모든 배우 이름을 배열로 수집하여 Actors로 별칭 지정\n",
    "RETURN movie.title AS MovieTitle, score AS SearchRelevance, \n",
    "       collect(actor.name) AS Actors\n",
    "\n",
    "// ORDER BY SearchRelevance DESC: 검색 관련성 점수 기준 내림차순 정렬(가장 관련성 높은 결과가 먼저 표시)\n",
    "ORDER BY SearchRelevance DESC\n",
    "\n",
    "// LIMIT 5: 상위 5개 결과만 반환\n",
    "LIMIT 5\n",
    "\"\"\"\n",
    "\n",
    "# graph.query: Neo4j 데이터베이스에 쿼리를 실행하는 함수\n",
    "# params={\"search_term\": \"love\"}: \"love\"라는 검색어를 파라미터로 전달\n",
    "combined_results = graph.query(combined_search_query, params={\"search_term\": \"love\"})\n",
    "\n",
    "# 검색 결과를 순회하며 영화 제목, 관련도 점수, 출연 배우 목록을 출력\n",
    "for result in combined_results:\n",
    "    print(f\"{result['MovieTitle']} (관련도: {result['SearchRelevance']})\")\n",
    "    print(f\"  출연 배우: {', '.join(result['Actors'])}\")\n",
    "    print()"
   ],
   "outputs": [
    {
     "name": "stdout",
     "output_type": "stream",
     "text": [
      "Love Stinks (관련도: 2.281766891479492)\n",
      "  출연 배우: Bridgette Wilson, Bill Bellamy, Tiffani Thiessen, French Stewart, Tyra Banks\n",
      "\n",
      "Love & Basketball (관련도: 2.281766891479492)\n",
      "  출연 배우: Alfre Woodard, Omar Epps, Sanaa Lathan, Chris Warren, Jr., Kyla Pratt\n",
      "\n",
      "Love Happens (관련도: 2.281766891479492)\n",
      "  출연 배우: Martin Sheen, Jennifer Aniston, Aaron Eckhart, Judy Greer, Deirdre Blades\n",
      "\n",
      "Love Ranch (관련도: 2.281766891479492)\n",
      "  출연 배우: Joe Pesci, Bai Ling, Gina Gershon, Helen Mirren, Sergio Peris-Mencheta\n",
      "\n",
      "Love Letters (관련도: 2.281766891479492)\n",
      "  출연 배우: Jamie Lee Curtis, James Keach, Matt Clark, Bonnie Bartlett, Amy Madigan\n",
      "\n"
     ]
    }
   ],
   "execution_count": 18
  },
  {
   "cell_type": "markdown",
   "id": "0999ce95",
   "metadata": {},
   "source": [
    "- **두 가지 전문 인덱스를 모두 사용하는 복합 검색**:\n",
    "\n",
    "    1. 첫 번째 서브쿼리에서 \"star\"가 제목에 포함된 모든 영화와 관련성 점수를 찾습니다.\n",
    "    2. 두 번째 서브쿼리에서 \"harrison\"이 이름에 포함된 모든 인물(배우/감독)을 찾습니다.\n",
    "    3. 그런 다음 메인 쿼리에서 두 서브쿼리 결과를 연결하여, Harrison이 출연한 영화 중 제목에 \"star\"가 포함된 영화만 필터링합니다.\n",
    "    4. 결과를 영화 관련성 점수와 평점을 기준으로 정렬합니다."
   ]
  },
  {
   "cell_type": "code",
   "id": "38c04849",
   "metadata": {
    "ExecuteTime": {
     "end_time": "2025-08-19T07:07:32.768661Z",
     "start_time": "2025-08-19T07:07:32.652711Z"
    }
   },
   "source": [
    "# \"star\"가 제목에 포함된 영화 중 \"Harrison\"이 출연한 영화 검색\n",
    "advanced_combined_search = \"\"\"\n",
    "// 첫 번째 서브쿼리: 영화 제목 전문 검색\n",
    "CALL () {\n",
    "    // movie_title_fulltext 인덱스를 사용하여 $movie_term(star)이 포함된 영화 노드 검색\n",
    "    CALL db.index.fulltext.queryNodes(\"movie_title_fulltext\", $movie_term)\n",
    "\n",
    "    // YIELD: 검색 결과로 노드와 관련성 점수 반환\n",
    "    // node를 movie로, score를 movieScore로 별칭 지정\n",
    "    YIELD node as movie, score as movieScore\n",
    "\n",
    "    // 검색된 영화 노드와 관련성 점수 반환\n",
    "    RETURN movie, movieScore\n",
    "}\n",
    "\n",
    "// 두 번째 서브쿼리: 인물 이름 전문 검색\n",
    "CALL () {\n",
    "    // person_name_fulltext 인덱스를 사용하여 $actor_term(harrison)이 포함된 인물 노드 검색\n",
    "    CALL db.index.fulltext.queryNodes(\"person_name_fulltext\", $actor_term)\n",
    "\n",
    "    // 검색된 인물 노드를 actor로 별칭 지정\n",
    "    YIELD node as actor\n",
    "\n",
    "    // 검색된 배우 노드 반환\n",
    "    RETURN actor\n",
    "}\n",
    "\n",
    "// 메인 쿼리: 두 서브쿼리 결과를 연결\n",
    "// 검색된 배우(actor)가 출연한(ACTED_IN) 검색된 영화(movie) 관계 매칭\n",
    "MATCH (movie)<-[:ACTED_IN]-(actor)\n",
    "\n",
    "// 최종 결과 반환\n",
    "// movie.title: 영화 제목을 MovieTitle로 별칭\n",
    "// movieScore: 영화 검색 관련성 점수를 MovieRelevance로 별칭\n",
    "// actor.name: 배우 이름을 ActorName으로 별칭\n",
    "// movie.rating: 영화 평점을 Rating으로 별칭\n",
    "RETURN movie.title AS MovieTitle, movieScore AS MovieRelevance,\n",
    "       actor.name AS ActorName, movie.rating AS Rating\n",
    "\n",
    "// 결과 정렬: 영화 관련성 점수 내림차순, 평점 내림차순\n",
    "ORDER BY MovieRelevance DESC, Rating DESC\n",
    "\n",
    "// LIMIT 5: 상위 5개 결과만 반환\n",
    "LIMIT 5\n",
    "\"\"\"\n",
    "\n",
    "# Neo4j 데이터베이스에 쿼리 실행\n",
    "# params: \"star\"와 \"harrison\"을 각각 movie_term과 actor_term 파라미터로 전달\n",
    "star_harrison_movies = graph.query(advanced_combined_search,\n",
    "                                  params={\"movie_term\": \"star\", \"actor_term\": \"harrison\"})\n",
    "\n",
    "# 검색 결과 출력: 영화 제목, 평점, 출연 배우 정보 표시\n",
    "for result in star_harrison_movies:\n",
    "    print(f\"{result['MovieTitle']} ({result['Rating']}) - 출연 배우: {result['ActorName']}\")\n",
    "print()"
   ],
   "outputs": [
    {
     "name": "stdout",
     "output_type": "stream",
     "text": [
      "Star Wars (8.1) - 출연 배우: Harrison Ford\n",
      "\n"
     ]
    }
   ],
   "execution_count": 19
  },
  {
   "cell_type": "code",
   "execution_count": null,
   "id": "4882e348",
   "metadata": {},
   "outputs": [],
   "source": []
  }
 ],
 "metadata": {
  "kernelspec": {
   "display_name": ".venv",
   "language": "python",
   "name": "python3"
  },
  "language_info": {
   "codemirror_mode": {
    "name": "ipython",
    "version": 3
   },
   "file_extension": ".py",
   "mimetype": "text/x-python",
   "name": "python",
   "nbconvert_exporter": "python",
   "pygments_lexer": "ipython3",
   "version": "3.12.9"
  }
 },
 "nbformat": 4,
 "nbformat_minor": 5
}
