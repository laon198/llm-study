{
 "cells": [
  {
   "cell_type": "markdown",
   "id": "b735da82",
   "metadata": {},
   "source": [
    "# Neo4j와 LangChain을 활용한 영화 추천 시스템"
   ]
  },
  {
   "cell_type": "markdown",
   "id": "a0613508",
   "metadata": {},
   "source": [
    "---\n",
    "\n",
    "## 1. Neo4J AuraDB 환경 설정"
   ]
  },
  {
   "cell_type": "code",
   "id": "1dc7d00f",
   "metadata": {
    "ExecuteTime": {
     "end_time": "2025-08-19T07:54:32.132879Z",
     "start_time": "2025-08-19T07:54:32.124451Z"
    }
   },
   "source": [
    "import os\n",
    "from dotenv import load_dotenv\n",
    "\n",
    "# 환경 변수 로드\n",
    "load_dotenv()"
   ],
   "outputs": [
    {
     "data": {
      "text/plain": [
       "True"
      ]
     },
     "execution_count": 1,
     "metadata": {},
     "output_type": "execute_result"
    }
   ],
   "execution_count": 1
  },
  {
   "cell_type": "code",
   "id": "f765676e",
   "metadata": {
    "ExecuteTime": {
     "end_time": "2025-08-19T07:56:35.088412Z",
     "start_time": "2025-08-19T07:56:34.319376Z"
    }
   },
   "source": [
    "from langchain_neo4j import Neo4jGraph\n",
    "\n",
    "# LangChain 도구 활용 - DB 연결 객체 초기화 \n",
    "graph = Neo4jGraph( \n",
    "    url=os.getenv(\"NEO4J_URI\"), \n",
    "    username=os.getenv(\"NEO4J_USERNAME\"), \n",
    "    password=os.getenv(\"NEO4J_PASSWORD\"),\n",
    "    enhanced_schema=True,\n",
    ")"
   ],
   "outputs": [],
   "execution_count": 4
  },
  {
   "cell_type": "code",
   "id": "78a4a57a",
   "metadata": {
    "ExecuteTime": {
     "end_time": "2025-08-19T07:56:35.712127Z",
     "start_time": "2025-08-19T07:56:35.700216Z"
    }
   },
   "source": [
    "# 테스트 쿼리 실행 \n",
    "cypher_query = \"\"\"\n",
    "MATCH (n:Movie)\n",
    "RETURN COUNT(n) AS Movie_Count\n",
    "\"\"\"\n",
    "\n",
    "graph.query(cypher_query)"
   ],
   "outputs": [
    {
     "data": {
      "text/plain": [
       "[{'Movie_Count': 4803}]"
      ]
     },
     "execution_count": 5,
     "metadata": {},
     "output_type": "execute_result"
    }
   ],
   "execution_count": 5
  },
  {
   "cell_type": "markdown",
   "id": "5e27da72",
   "metadata": {},
   "source": [
    "---\n",
    "\n",
    "## 2. Neo4j 기반 질의 응답 시스템 (GraphRAG) 구현하기\n",
    "\n",
    "Graph 데이터베이스를 기반으로 한 질의 응답 시스템(GraphRAG)은 전통적인 벡터 기반 RAG 시스템보다 더 정확하고 연관성 있는 답변을 제공할 수 있습니다. 이 방식의 핵심은 자연어 질문을 Neo4j Cypher 쿼리로 변환하여 지식 그래프를 효과적으로 탐색하는 것입니다. \n",
    "\n",
    "- **특장점**:\n",
    "\n",
    "   - **정확한 관계 검색**: 그래프 데이터베이스의 관계 중심 구조를 활용해 복잡한 연결 패턴을 찾을 수 있습니다\n",
    "   - **컨텍스트 유지**: 엔티티 간의 관계를 유지하여 더 풍부한 컨텍스트를 제공합니다\n",
    "   - **구조화된 정보 검색**: 단순 텍스트 검색이 아닌 구조화된 방식으로 정보를 검색합니다\n",
    "\n",
    "- **필요 사항**:\n",
    "   - Neo4j 데이터베이스 (영화 데이터 포함)\n",
    "   - 필요 패키지: `langchain-neo4j`, `langchain-openai`"
   ]
  },
  {
   "cell_type": "markdown",
   "id": "81769e02",
   "metadata": {},
   "source": [
    "### 2.1 벡터 검색(Semantic Search)\n"
   ]
  },
  {
   "cell_type": "markdown",
   "id": "76d5f243",
   "metadata": {},
   "source": [
    "#### 1) **Graph DB 초기화**"
   ]
  },
  {
   "cell_type": "code",
   "id": "600d76c4",
   "metadata": {
    "ExecuteTime": {
     "end_time": "2025-08-19T08:09:18.641510Z",
     "start_time": "2025-08-19T08:09:15.203938Z"
    }
   },
   "source": [
    "from langchain_openai import OpenAIEmbeddings\n",
    "from langchain_neo4j import Neo4jVector\n",
    "\n",
    "# 임베딩 모델 초기화\n",
    "embeddings = OpenAIEmbeddings(model=\"text-embedding-3-small\") \n",
    "\n",
    "# Neo4j 데이터베이스에 이미 생성된 벡터 인덱스에 연결하는 Neo4jVector 인스턴스 생성\n",
    "graph_db = Neo4jVector.from_existing_index(\n",
    "    embeddings,  # 사용할 임베딩 모델 지정\n",
    "    url=os.getenv(\"NEO4J_URI\"),  # Neo4j 데이터베이스 연결 URI (환경 변수에서 가져옴)\n",
    "    username=os.getenv(\"NEO4J_USERNAME\"),  # Neo4j 데이터베이스 사용자 이름\n",
    "    password=os.getenv(\"NEO4J_PASSWORD\"),  # Neo4j 데이터베이스 비밀번호\n",
    "    index_name=\"movie_content_embeddings\",  # 사용할 벡터 인덱스 이름 (이미 Neo4j에 생성되어 있어야 함)\n",
    "    text_node_property=\"overview\",  # 텍스트 검색 시 반환할 노드의 속성 (영화 개요)\n",
    ")"
   ],
   "outputs": [],
   "execution_count": 6
  },
  {
   "cell_type": "markdown",
   "id": "9162929e",
   "metadata": {},
   "source": [
    "#### 2) **벡터 검색 (유사도 기준)**"
   ]
  },
  {
   "cell_type": "code",
   "id": "0ffc149a",
   "metadata": {
    "ExecuteTime": {
     "end_time": "2025-08-19T08:09:41.345939Z",
     "start_time": "2025-08-19T08:09:40.807313Z"
    }
   },
   "source": [
    "# 한국어로 된 자연어 쿼리를 사용하여 의미적으로 유사한 영화 검색\n",
    "query = \"2차 세계대전을 배경으로 군인들의 활약상을 그린 영화를 찾아주세요.\"\n",
    "\n",
    "# 유사도 검색 수행\n",
    "similar_docs = graph_db.similarity_search_with_score(\n",
    "    query,\n",
    "    k=5, # 유사도 상위 5개 문서 검색\n",
    "    return_embeddings=False, # 임베딩 반환 안함 (결과 간소화)\n",
    ")\n",
    "\n",
    "# 각 문서와 해당 유사도 점수를 함께 표시\n",
    "for doc, score in similar_docs:\n",
    "    print(f\"줄거리: {doc.page_content[:100]}..., 유사도: {score}\")\n",
    "    print(\"영화 제목:\", doc.metadata.get(\"title\"))\n",
    "    print(\"-\" * 50)  "
   ],
   "outputs": [
    {
     "name": "stdout",
     "output_type": "stream",
     "text": [
      "줄거리: The relationship between Sergeant Stryker and a group of rebellious recruits is made difficult by th..., 유사도: 0.7099142074584961\n",
      "영화 제목: Sands of Iwo Jima\n",
      "--------------------------------------------------\n",
      "줄거리: A US Fighter pilot's epic struggle of survival after being shot down on a mission over Laos during t..., 유사도: 0.7095966339111328\n",
      "영화 제목: Rescue Dawn\n",
      "--------------------------------------------------\n",
      "줄거리: The true story of how businessman Oskar Schindler saved over a thousand Jewish lives from the Nazis ..., 유사도: 0.7085607051849365\n",
      "영화 제목: Schindler's List\n",
      "--------------------------------------------------\n",
      "줄거리: In a place where killers are celebrated as heroes, these filmmakers challenge unrepentant death-squa..., 유사도: 0.701448917388916\n",
      "영화 제목: The Act of Killing\n",
      "--------------------------------------------------\n",
      "줄거리: In Nazi-occupied France during World War II, a group of Jewish-American soldiers known as \"The Baste..., 유사도: 0.7012591361999512\n",
      "영화 제목: Inglourious Basterds\n",
      "--------------------------------------------------\n"
     ]
    }
   ],
   "execution_count": 7
  },
  {
   "cell_type": "code",
   "id": "9fd393ad",
   "metadata": {
    "ExecuteTime": {
     "end_time": "2025-08-19T08:09:50.781899Z",
     "start_time": "2025-08-19T08:09:50.779361Z"
    }
   },
   "source": [
    "# 메타데이터 출력\n",
    "doc.metadata"
   ],
   "outputs": [
    {
     "data": {
      "text/plain": [
       "{'released': '2009-08-18',\n",
       " 'title': 'Inglourious Basterds',\n",
       " 'runtime': 153,\n",
       " 'rating': 7.9,\n",
       " 'tagline': 'Once upon a time in Nazi occupied France...'}"
      ]
     },
     "execution_count": 8,
     "metadata": {},
     "output_type": "execute_result"
    }
   ],
   "execution_count": 8
  },
  {
   "cell_type": "markdown",
   "id": "36c0fb83",
   "metadata": {},
   "source": [
    "#### 3) **MMR 알고리즘을 활용한 다양성 검색**"
   ]
  },
  {
   "cell_type": "code",
   "id": "63df3504",
   "metadata": {
    "ExecuteTime": {
     "end_time": "2025-08-19T08:09:57.180128Z",
     "start_time": "2025-08-19T08:09:56.362803Z"
    }
   },
   "source": [
    "# 벡터 검색 쿼리 실행\n",
    "query = \"2차 세계대전을 배경으로 군인들의 활약상을 그린 영화를 찾아주세요.\"\n",
    "\n",
    "similar_docs = graph_db.max_marginal_relevance_search(\n",
    "    query=query,\n",
    "    k=5,\n",
    "    fetch_k=20,  # 더 많은 후보를 가져옴\n",
    "    lambda_mult=0.5,  # 0에 가까울수록 다양성 높음 (0.5는 적당한 균형을 의미함)\n",
    ")\n",
    "\n",
    "for doc in similar_docs:\n",
    "    print(f\"문서 내용: {doc.page_content[:100]}...\")\n",
    "    print(\"영화 제목:\", doc.metadata.get(\"title\"))\n",
    "    print(\"-\" * 50)  "
   ],
   "outputs": [
    {
     "name": "stdout",
     "output_type": "stream",
     "text": [
      "문서 내용: The relationship between Sergeant Stryker and a group of rebellious recruits is made difficult by th...\n",
      "영화 제목: Sands of Iwo Jima\n",
      "--------------------------------------------------\n",
      "문서 내용: The rise of national socialism in Germany should not be regarded as a conspiracy of madmen. Millions...\n",
      "영화 제목: Good\n",
      "--------------------------------------------------\n",
      "문서 내용: The Pianist is a film adapted from the biography of Wladyslaw Szpilman. A Jewish-Polish pianist who ...\n",
      "영화 제목: The Pianist\n",
      "--------------------------------------------------\n",
      "문서 내용: When ruthless terrorists threaten to bring down the United Nations, they frame the one man they beli...\n",
      "영화 제목: The Art of War\n",
      "--------------------------------------------------\n",
      "문서 내용: In Nazi-occupied France during World War II, a group of Jewish-American soldiers known as \"The Baste...\n",
      "영화 제목: Inglourious Basterds\n",
      "--------------------------------------------------\n"
     ]
    }
   ],
   "execution_count": 9
  },
  {
   "cell_type": "markdown",
   "id": "58274615",
   "metadata": {},
   "source": [
    "#### 4) **그래프 경로를 활용한 검색 확장**"
   ]
  },
  {
   "cell_type": "code",
   "id": "a210f85f",
   "metadata": {
    "ExecuteTime": {
     "end_time": "2025-08-19T08:10:44.411045Z",
     "start_time": "2025-08-19T08:10:42.755828Z"
    }
   },
   "source": [
    "def find_movies_and_actors_filmography(query, graph_db, k=5):\n",
    "    \"\"\"\n",
    "    특정 영화에 출연한 배우들의 필모그래피를 찾는 함수\n",
    "    \n",
    "    Args:\n",
    "        query: 검색 쿼리 (예: \"2차 세계대전 영화\")\n",
    "        graph_db: 벡터 저장소 객체\n",
    "        k: 검색할 영화 수\n",
    "    \n",
    "    Returns:\n",
    "        영화와 배우 정보가 계층적으로 정리된 결과\n",
    "    \"\"\"\n",
    "    # 1단계: 벡터 검색으로 영화 검색\n",
    "    results = graph_db.similarity_search(query, k=k)\n",
    "    print(f\"벡터스토어 검색된 영화 수: {len(results)}\")\n",
    "    \n",
    "    # 검색된 영화 제목 추출\n",
    "    movie_titles = []\n",
    "    for doc in results:\n",
    "        title = doc.metadata.get(\"title\")\n",
    "        if title:\n",
    "            movie_titles.append(title)\n",
    "    \n",
    "    # 제목이 없으면 빈 결과 반환\n",
    "    if not movie_titles:\n",
    "        return {\"movies\": [], \"message\": \"검색된 영화가 없습니다.\"}\n",
    "    \n",
    "    # Neo4j 그래프 객체 생성\n",
    "    from langchain_neo4j import Neo4jGraph\n",
    "    graph = Neo4jGraph(\n",
    "        url=os.getenv(\"NEO4J_URI\"),\n",
    "        username=os.getenv(\"NEO4J_USERNAME\"),\n",
    "        password=os.getenv(\"NEO4J_PASSWORD\"),\n",
    "        enhanced_schema=True,\n",
    "    )\n",
    "    \n",
    "    # 2단계: 영화와 출연 배우 정보 가져오기\n",
    "    # Cypher 쿼리 설명:\n",
    "    # 1. MATCH (movie:Movie): Movie 레이블을 가진 노드 찾기\n",
    "    # 2. WHERE ANY(...): 검색된 영화 제목 중 하나라도 포함하는 영화 필터링\n",
    "    # 3. OPTIONAL MATCH: 영화에 출연한 배우가 없을 수도 있으므로 OPTIONAL 사용\n",
    "    # 4. collect(actor): 각 영화별로 출연 배우들을 배열로 수집\n",
    "    # 5. RETURN: 영화 정보와 배우 정보를 함께 반환\n",
    "    movies_actors_query = \"\"\"\n",
    "    // 영화 제목 중 하나라도 포함하는 영화 필터링\n",
    "    MATCH (movie:Movie)\n",
    "    WHERE ANY(title IN $movie_titles WHERE movie.title CONTAINS title)\n",
    "\n",
    "    // 영화에 출연한 배우가 없을 수도 있으므로 OPTIONAL 사용\n",
    "    OPTIONAL MATCH (movie)<-[acted:ACTED_IN]-(actor:Person)\n",
    "\n",
    "    // 각 영화별로 출연 배우들을 배열로 수집\n",
    "    WITH movie, collect(actor) as actors\n",
    "\n",
    "    // 영화 정보와 배우 정보를 함께 반환\n",
    "    RETURN \n",
    "        movie.title as movie_title,\n",
    "        movie.released as release_date,\n",
    "        movie.rating as rating,\n",
    "        movie.overview as overview,\n",
    "        [actor IN actors | actor.name] as actor_names,   // 배우 이름 배열\n",
    "        [actor IN actors | {name: actor.name, id: id(actor)}] as actors  // 배우 정보 배열\n",
    "    \"\"\"\n",
    "    \n",
    "    search_movies = graph.query(movies_actors_query, params={\"movie_titles\": movie_titles})\n",
    "    \n",
    "    # 배우 ID 목록 추출\n",
    "    actor_ids = []\n",
    "    for movie in search_movies:\n",
    "        for actor in movie.get(\"actors\", []):\n",
    "            if \"id\" in actor:\n",
    "                actor_ids.append(actor[\"id\"])\n",
    "    \n",
    "    # 중복 제거 (동일한 배우가 여러 영화에 출연할 수 있음)\n",
    "    actor_ids = list(set(actor_ids))\n",
    "    \n",
    "    # 배우가 없으면 영화 정보만 반환\n",
    "    if not actor_ids:\n",
    "        return {\n",
    "            \"movies\": search_movies,\n",
    "            \"message\": \"검색된 영화에서 배우 정보를 찾을 수 없습니다.\"\n",
    "        }\n",
    "    \n",
    "    # 3단계: 각 배우의 필모그래피 가져오기\n",
    "    # Cypher 쿼리 설명:\n",
    "    # 1. MATCH (actor:Person): 특정 ID를 가진 배우 노드 찾기\n",
    "    # 2. WHERE id(actor) IN $actor_ids: 앞서 찾은 배우 ID 목록으로 필터링\n",
    "    # 3. MATCH (actor)-[:ACTED_IN]->(movie:Movie): 배우가 출연한 영화 찾기\n",
    "    # 4. WHERE NOT movie.title IN $movie_titles: 원래 검색된 영화는 제외 (중복 방지)\n",
    "    # 5. WITH actor.name, collect(...): 배우별로 출연 영화 정보 수집\n",
    "    # 6. RETURN: 배우 이름과 출연 영화 목록 반환\n",
    "    # 7. ORDER BY: 배우 이름 알파벳 순으로 정렬\n",
    "    actor_filmography_query = \"\"\"\n",
    "    // 특정 ID를 가진 배우 노드 찾기\n",
    "    MATCH (actor:Person)\n",
    "    WHERE id(actor) IN $actor_ids\n",
    "    \n",
    "    // 배우가 출연한 영화 찾기\n",
    "    MATCH (actor)-[:ACTED_IN]->(movie:Movie)\n",
    "    \n",
    "    // 원래 검색된 영화는 제외 (중복 방지)\n",
    "    WHERE NOT movie.title IN $movie_titles\n",
    "    \n",
    "    WITH actor.name as actor_name, collect({\n",
    "        title: movie.title,\n",
    "        released: movie.released,\n",
    "        rating: movie.rating\n",
    "    }) as other_movies  // 배우별로 출연 영화 정보 수집\n",
    "    RETURN actor_name, other_movies     // 배우 이름과 출연 영화 목록 반환\n",
    "    ORDER BY actor_name  // 배우 이름 알파벳 순으로 정렬\n",
    "    \"\"\"\n",
    "    \n",
    "    actor_filmographies = graph.query(\n",
    "        actor_filmography_query, \n",
    "        params={\"actor_ids\": actor_ids, \"movie_titles\": movie_titles}\n",
    "    )\n",
    "    \n",
    "    # 결과 데이터 구조화 - 영화 정보와 배우 필모그래피를 함께 반환\n",
    "    result = {\n",
    "        \"search_movies\": search_movies,\n",
    "        \"actor_filmographies\": actor_filmographies\n",
    "    }\n",
    "    \n",
    "    return result\n",
    "\n",
    "# 검색 쿼리 실행\n",
    "query = \"2차 세계대전을 배경으로 군인들의 활약상을 그린 영화를 찾아주세요.\"\n",
    "search_results = find_movies_and_actors_filmography(\n",
    "    query=query,\n",
    "    graph_db=graph_db,\n",
    "    k=3  # 상위 3개 영화만 검색\n",
    ")\n",
    "\n",
    "# 결과 출력 - 영화 정보\n",
    "for movie in search_results[\"search_movies\"]:\n",
    "    print(f\"\\n제목: {movie['movie_title']} ({movie.get('release_date', '연도 정보 없음')})\")\n",
    "    print(f\"평점: {movie.get('rating', '평점 정보 없음')}\")\n",
    "    print(f\"출연 배우: {', '.join(movie.get('actor_names', []))}\")\n",
    "    if movie.get('overview'):\n",
    "        print(f\"줄거리: {movie['overview'][:150]}...\" if len(movie['overview']) > 150 else movie['overview'])\n",
    "    print(\"-\" * 50)"
   ],
   "outputs": [
    {
     "name": "stdout",
     "output_type": "stream",
     "text": [
      "벡터스토어 검색된 영화 수: 3\n"
     ]
    },
    {
     "name": "stderr",
     "output_type": "stream",
     "text": [
      "Received notification from DBMS server: {severity: WARNING} {code: Neo.ClientNotification.Statement.FeatureDeprecationWarning} {category: DEPRECATION} {title: This feature is deprecated and will be removed in future versions.} {description: The query used a deprecated function. ('id' has been replaced by 'elementId or consider using an application-generated id')} {position: line: 19, column: 51, offset: 605} for query: '\\n    // 영화 제목 중 하나라도 포함하는 영화 필터링\\n    MATCH (movie:Movie)\\n    WHERE ANY(title IN $movie_titles WHERE movie.title CONTAINS title)\\n\\n    // 영화에 출연한 배우가 없을 수도 있으므로 OPTIONAL 사용\\n    OPTIONAL MATCH (movie)<-[acted:ACTED_IN]-(actor:Person)\\n\\n    // 각 영화별로 출연 배우들을 배열로 수집\\n    WITH movie, collect(actor) as actors\\n\\n    // 영화 정보와 배우 정보를 함께 반환\\n    RETURN \\n        movie.title as movie_title,\\n        movie.released as release_date,\\n        movie.rating as rating,\\n        movie.overview as overview,\\n        [actor IN actors | actor.name] as actor_names,   // 배우 이름 배열\\n        [actor IN actors | {name: actor.name, id: id(actor)}] as actors  // 배우 정보 배열\\n    '\n",
      "Received notification from DBMS server: {severity: WARNING} {code: Neo.ClientNotification.Statement.FeatureDeprecationWarning} {category: DEPRECATION} {title: This feature is deprecated and will be removed in future versions.} {description: The query used a deprecated function. ('id' has been replaced by 'elementId or consider using an application-generated id')} {position: line: 4, column: 11, offset: 62} for query: '\\n    // 특정 ID를 가진 배우 노드 찾기\\n    MATCH (actor:Person)\\n    WHERE id(actor) IN $actor_ids\\n\\n    // 배우가 출연한 영화 찾기\\n    MATCH (actor)-[:ACTED_IN]->(movie:Movie)\\n\\n    // 원래 검색된 영화는 제외 (중복 방지)\\n    WHERE NOT movie.title IN $movie_titles\\n\\n    WITH actor.name as actor_name, collect({\\n        title: movie.title,\\n        released: movie.released,\\n        rating: movie.rating\\n    }) as other_movies  // 배우별로 출연 영화 정보 수집\\n    RETURN actor_name, other_movies     // 배우 이름과 출연 영화 목록 반환\\n    ORDER BY actor_name  // 배우 이름 알파벳 순으로 정렬\\n    '\n"
     ]
    },
    {
     "name": "stdout",
     "output_type": "stream",
     "text": [
      "\n",
      "제목: Sands of Iwo Jima (1949-12-14)\n",
      "평점: 6.2\n",
      "출연 배우: John Wayne, John Agar, Adele Mara, Forrest Tucker, Wally Cassell\n",
      "줄거리: The relationship between Sergeant Stryker and a group of rebellious recruits is made difficult by the Sergeant's tough training tactics. At Tarawa, th...\n",
      "--------------------------------------------------\n",
      "\n",
      "제목: Schindler's List (1993-11-29)\n",
      "평점: 8.3\n",
      "출연 배우: Ben Kingsley, Liam Neeson, Ralph Fiennes, Caroline Goodall, Jonathan Sagall\n",
      "줄거리: The true story of how businessman Oskar Schindler saved over a thousand Jewish lives from the Nazis while they worked as slaves in his factory during ...\n",
      "--------------------------------------------------\n",
      "\n",
      "제목: Rescue Dawn (2006-09-09)\n",
      "평점: 6.9\n",
      "출연 배우: Steve Zahn, Christian Bale, Marshall Bell, Toby Huss, Pat Healy\n",
      "A US Fighter pilot's epic struggle of survival after being shot down on a mission over Laos during the Vietnam War.\n",
      "--------------------------------------------------\n"
     ]
    }
   ],
   "execution_count": 10
  },
  {
   "cell_type": "code",
   "id": "d5cced3a",
   "metadata": {
    "ExecuteTime": {
     "end_time": "2025-08-19T08:10:52.817567Z",
     "start_time": "2025-08-19T08:10:52.813031Z"
    }
   },
   "source": [
    "# 배우별 필모그래피 출력\n",
    "print(\"\\n\\n=== 배우별 출연 영화 목록 ===\")\n",
    "for actor in search_results[\"actor_filmographies\"]:\n",
    "    print(f\"\\n배우: {actor['actor_name']}\")\n",
    "    print(\"출연 영화:\")\n",
    "    for idx, movie in enumerate(actor.get('other_movies', []), 1):\n",
    "        print(f\"  {idx}. {movie['title']} ({movie.get('released', '연도 정보 없음')}) - \"\n",
    "              f\"평점: {movie.get('rating', '평점 정보 없음')}\")\n",
    "    print(\"-\" * 50)"
   ],
   "outputs": [
    {
     "name": "stdout",
     "output_type": "stream",
     "text": [
      "\n",
      "\n",
      "=== 배우별 출연 영화 목록 ===\n",
      "\n",
      "배우: Ben Kingsley\n",
      "출연 영화:\n",
      "  1. Gandhi (1982-11-30) - 평점: 7.4\n",
      "  2. Species (1995-07-07) - 평점: 5.5\n",
      "  3. Sexy Beast (2000-09-13) - 평점: 7.0\n",
      "  4. House of Sand and Fog (2003-12-19) - 평점: 7.0\n",
      "  5. Suspect Zero (2004-08-27) - 평점: 5.5\n",
      "  6. Oliver Twist (2005-09-23) - 평점: 6.7\n",
      "  7. BloodRayne (2005-10-22) - 평점: 3.5\n",
      "  8. Lucky Number Slevin (2006-02-24) - 평점: 7.4\n",
      "  9. You Kill Me (2007-02-09) - 평점: 6.2\n",
      "  10. The Last Legion (2007-04-19) - 평점: 5.0\n",
      "  11. The Wackness (2008-07-03) - 평점: 6.2\n",
      "  12. Fifty Dead Men Walking (2008-09-10) - 평점: 6.1\n",
      "  13. Shutter Island (2010-02-18) - 평점: 7.8\n",
      "  14. Prince of Persia: The Sands of Time (2010-05-19) - 평점: 6.2\n",
      "  15. Hugo (2011-11-22) - 평점: 7.0\n",
      "  16. Ender's Game (2013-10-23) - 평점: 6.6\n",
      "  17. The Boxtrolls (2014-09-10) - 평점: 6.6\n",
      "  18. Self/less (2015-07-10) - 평점: 6.3\n",
      "  19. The Walk (2015-09-30) - 평점: 6.9\n",
      "  20. The Jungle Book (2016-04-07) - 평점: 6.7\n",
      "--------------------------------------------------\n",
      "\n",
      "배우: Caroline Goodall\n",
      "출연 영화:\n",
      "  1. White Squall (1996-02-02) - 평점: 6.3\n",
      "  2. The Cold Light of Day (2012-04-04) - 평점: 4.8\n",
      "--------------------------------------------------\n",
      "\n",
      "배우: Christian Bale\n",
      "출연 영화:\n",
      "  1. Velvet Goldmine (1998-10-23) - 평점: 6.9\n",
      "  2. American Psycho (2000-04-13) - 평점: 7.3\n",
      "  3. Shaft (2000-06-15) - 평점: 5.5\n",
      "  4. Captain Corelli's Mandolin (2001-08-17) - 평점: 5.5\n",
      "  5. Reign of Fire (2002-07-12) - 평점: 6.0\n",
      "  6. Equilibrium (2002-12-06) - 평점: 6.9\n",
      "  7. The Machinist (2004-02-09) - 평점: 7.3\n",
      "  8. Batman Begins (2005-06-10) - 평점: 7.5\n",
      "  9. Harsh Times (2005-09-11) - 평점: 6.3\n",
      "  10. The New World (2005-12-25) - 평점: 6.4\n",
      "  11. The Prestige (2006-10-19) - 평점: 8.0\n",
      "  12. 3:10 to Yuma (2007-09-06) - 평점: 6.9\n",
      "  13. The Dark Knight (2008-07-16) - 평점: 8.2\n",
      "  14. Terminator Salvation (2009-05-20) - 평점: 5.9\n",
      "  15. Public Enemies (2009-07-01) - 평점: 6.5\n",
      "  16. The Fighter (2010-12-17) - 평점: 7.2\n",
      "  17. The Flowers of War (2011-12-15) - 평점: 7.1\n",
      "  18. The Dark Knight Rises (2012-07-16) - 평점: 7.6\n",
      "  19. Out of the Furnace (2013-12-06) - 평점: 6.5\n",
      "  20. American Hustle (2013-12-12) - 평점: 6.8\n",
      "  21. Exodus: Gods and Kings (2014-12-03) - 평점: 5.6\n",
      "  22. The Big Short (2015-12-11) - 평점: 7.3\n",
      "--------------------------------------------------\n",
      "\n",
      "배우: John Agar\n",
      "출연 영화:\n",
      "  1. She Wore a Yellow Ribbon (1949-10-22) - 평점: 7.1\n",
      "--------------------------------------------------\n",
      "\n",
      "배우: John Wayne\n",
      "출연 영화:\n",
      "  1. Tycoon (1947-12-27) - 평점: 6.6\n",
      "  2. Red River (1948-08-26) - 평점: 7.3\n",
      "  3. She Wore a Yellow Ribbon (1949-10-22) - 평점: 7.1\n",
      "  4. The Man Who Shot Liberty Valance (1962-04-22) - 평점: 7.4\n",
      "  5. Donovan's Reef (1963-06-12) - 평점: 6.0\n",
      "--------------------------------------------------\n",
      "\n",
      "배우: Liam Neeson\n",
      "출연 영화:\n",
      "  1. Rob Roy (1995-04-13) - 평점: 6.5\n",
      "  2. Michael Collins (1996-10-25) - 평점: 6.7\n",
      "  3. Star Wars: Episode I - The Phantom Menace (1999-05-19) - 평점: 6.3\n",
      "  4. The Haunting (1999-07-23) - 평점: 5.2\n",
      "  5. Gun Shy (2000-02-04) - 평점: 5.4\n",
      "  6. K-19: The Widowmaker (2002-07-19) - 평점: 6.1\n",
      "  7. Gangs of New York (2002-12-14) - 평점: 7.1\n",
      "  8. Kinsey (2004-09-04) - 평점: 6.6\n",
      "  9. Batman Begins (2005-06-10) - 평점: 7.5\n",
      "  10. The Chronicles of Narnia: The Lion, the Witch and the Wardrobe (2005-12-07) - 평점: 6.7\n",
      "  11. Taken (2008-02-18) - 평점: 7.2\n",
      "  12. Chloe (2009-03-25) - 평점: 5.9\n",
      "  13. Clash of the Titans (2010-04-01) - 평점: 5.6\n",
      "  14. After.Life (2010-04-09) - 평점: 5.4\n",
      "  15. Unknown (2011-02-16) - 평점: 6.5\n",
      "  16. The Grey (2012-01-26) - 평점: 6.4\n",
      "  17. Wrath of the Titans (2012-03-27) - 평점: 5.5\n",
      "  18. Taken 2 (2012-09-27) - 평점: 6.1\n",
      "  19. Khumba (2013-07-18) - 평점: 5.8\n",
      "  20. The Nut Job (2014-01-17) - 평점: 5.5\n",
      "  21. Non-Stop (2014-01-26) - 평점: 6.8\n",
      "  22. A Million Ways to Die in the West (2014-05-22) - 평점: 5.8\n",
      "  23. A Walk Among the Tombstones (2014-09-18) - 평점: 6.2\n",
      "  24. Taken 3 (2014-12-16) - 평점: 6.1\n",
      "  25. Run All Night (2015-03-11) - 평점: 6.3\n",
      "  26. Operation Chromite (2016-07-27) - 평점: 5.8\n",
      "--------------------------------------------------\n",
      "\n",
      "배우: Pat Healy\n",
      "출연 영화:\n",
      "  1. The Innkeepers (2011-12-01) - 평점: 5.4\n",
      "  2. Compliance (2012-08-23) - 평점: 6.3\n",
      "  3. Cheap Thrills (2013-03-08) - 평점: 6.3\n",
      "--------------------------------------------------\n",
      "\n",
      "배우: Ralph Fiennes\n",
      "출연 영화:\n",
      "  1. The English Patient (1996-11-14) - 평점: 7.0\n",
      "  2. Oscar and Lucinda (1997-12-31) - 평점: 6.2\n",
      "  3. The Prince of Egypt (1998-12-15) - 평점: 6.8\n",
      "  4. The End of the Affair (1999-12-03) - 평점: 6.6\n",
      "  5. Red Dragon (2002-09-29) - 평점: 6.7\n",
      "  6. Maid in Manhattan (2002-12-13) - 평점: 5.6\n",
      "  7. Spider (2002-12-13) - 평점: 6.4\n",
      "  8. The Constant Gardener (2005-08-31) - 평점: 6.8\n",
      "  9. The Curse of the Were-Rabbit (2005-09-04) - 평점: 6.8\n",
      "  10. The White Countess (2005-10-30) - 평점: 6.9\n",
      "  11. Harry Potter and the Goblet of Fire (2005-11-05) - 평점: 7.5\n",
      "  12. Harry Potter and the Order of the Phoenix (2007-06-28) - 평점: 7.4\n",
      "  13. In Bruges (2008-02-08) - 평점: 7.4\n",
      "  14. The Duchess (2008-09-05) - 평점: 6.7\n",
      "  15. The Hurt Locker (2008-10-10) - 평점: 7.2\n",
      "  16. The Reader (2008-12-10) - 평점: 7.2\n",
      "  17. Nanny McPhee and the Big Bang (2010-03-26) - 평점: 6.0\n",
      "  18. Clash of the Titans (2010-04-01) - 평점: 5.6\n",
      "  19. Coriolanus (2011-02-14) - 평점: 5.9\n",
      "  20. Wrath of the Titans (2012-03-27) - 평점: 5.5\n",
      "  21. Skyfall (2012-10-25) - 평점: 6.9\n",
      "  22. The Grand Budapest Hotel (2014-02-26) - 평점: 8.0\n",
      "  23. Spectre (2015-10-26) - 평점: 6.3\n",
      "  24. Hail, Caesar! (2016-02-05) - 평점: 5.7\n",
      "--------------------------------------------------\n",
      "\n",
      "배우: Steve Zahn\n",
      "출연 영화:\n",
      "  1. That Thing You Do! (1996-10-04) - 평점: 6.8\n",
      "  2. Safe Men (1998-08-17) - 평점: 6.3\n",
      "  3. Happy, Texas (1999-12-03) - 평점: 5.5\n",
      "  4. Saving Silverman (2001-02-09) - 평점: 5.4\n",
      "  5. Joy Ride (2001-10-05) - 평점: 6.3\n",
      "  6. Riding in Cars with Boys (2001-10-19) - 평점: 6.5\n",
      "  7. Daddy Day Care (2003-05-03) - 평점: 5.6\n",
      "  8. Sahara (2005-04-06) - 평점: 5.7\n",
      "  9. Chicken Little (2005-11-04) - 평점: 5.6\n",
      "  10. Bandidas (2006-01-18) - 평점: 5.8\n",
      "  11. Sunshine Cleaning (2008-01-18) - 평점: 6.5\n",
      "  12. Strange Wilderness (2008-02-01) - 평점: 4.7\n",
      "  13. A Perfect Getaway (2009-06-08) - 평점: 6.2\n",
      "  14. Diary of a Wimpy Kid (2010-03-19) - 평점: 5.9\n",
      "  15. Diary of a Wimpy Kid: Rodrick Rules (2011-03-25) - 평점: 6.3\n",
      "  16. Diary of a Wimpy Kid: Dog Days (2012-08-02) - 평점: 6.0\n",
      "  17. Dallas Buyers Club (2013-09-07) - 평점: 7.9\n",
      "--------------------------------------------------\n"
     ]
    }
   ],
   "execution_count": 11
  },
  {
   "cell_type": "markdown",
   "id": "fd89bc13",
   "metadata": {},
   "source": [
    "### 2.2 **LCEL** 사용하여 **RAG** 체인을 구성\n"
   ]
  },
  {
   "cell_type": "markdown",
   "id": "543beb57",
   "metadata": {},
   "source": [
    "#### 1) **Graph DB 기반 Retriever 활용**"
   ]
  },
  {
   "cell_type": "code",
   "id": "568ecc3b",
   "metadata": {
    "ExecuteTime": {
     "end_time": "2025-08-19T08:10:58.886789Z",
     "start_time": "2025-08-19T08:10:58.360506Z"
    }
   },
   "source": [
    "retriever = graph_db.as_retriever(\n",
    "    search_kwargs={\"k\":5},  # 검색할 문서 수\n",
    ")\n",
    "\n",
    "query = \"2차 세계대전을 배경으로 군인들의 활약상을 그린 영화를 찾아주세요.\"\n",
    "results = retriever.invoke(query)\n",
    "\n",
    "for result in results:\n",
    "    print(result.page_content[:100])  # 첫 100자만 출력\n",
    "    print(result.metadata['title'])  # 영화 제목 출력\n",
    "    print(\"-\" * 50)  "
   ],
   "outputs": [
    {
     "name": "stdout",
     "output_type": "stream",
     "text": [
      "The relationship between Sergeant Stryker and a group of rebellious recruits is made difficult by th\n",
      "Sands of Iwo Jima\n",
      "--------------------------------------------------\n",
      "A US Fighter pilot's epic struggle of survival after being shot down on a mission over Laos during t\n",
      "Rescue Dawn\n",
      "--------------------------------------------------\n",
      "The true story of how businessman Oskar Schindler saved over a thousand Jewish lives from the Nazis \n",
      "Schindler's List\n",
      "--------------------------------------------------\n",
      "In a place where killers are celebrated as heroes, these filmmakers challenge unrepentant death-squa\n",
      "The Act of Killing\n",
      "--------------------------------------------------\n",
      "In Nazi-occupied France during World War II, a group of Jewish-American soldiers known as \"The Baste\n",
      "Inglourious Basterds\n",
      "--------------------------------------------------\n"
     ]
    }
   ],
   "execution_count": 12
  },
  {
   "cell_type": "code",
   "id": "7c74f9e0",
   "metadata": {
    "ExecuteTime": {
     "end_time": "2025-08-19T08:11:16.990935Z",
     "start_time": "2025-08-19T08:11:13.651722Z"
    }
   },
   "source": [
    "from langchain_openai import ChatOpenAI\n",
    "from langchain_core.prompts import ChatPromptTemplate\n",
    "from langchain_core.output_parsers import StrOutputParser\n",
    "from langchain_core.runnables import RunnableLambda, RunnablePassthrough\n",
    "\n",
    "def format_movie_info(movie):\n",
    "    \"\"\"\n",
    "    영화 정보를 문자열로 포맷팅하는 함수\n",
    "    \"\"\"\n",
    "\n",
    "    return f\"\"\"\n",
    "    영화 제목: {movie.get('title', '정보 없음')}\n",
    "    개봉일: {movie.get('released', '정보 없음')}\n",
    "    평점: {movie.get('rating', '정보 없음')}\n",
    "    줄거리: {movie.get('overview', '줄거리 정보 없음')}\n",
    "    \"\"\"\n",
    "\n",
    "def format_results(docs):\n",
    "    \"\"\"\n",
    "    검색된 문서에 있는 영화 정보를 포맷팅하는 함수\n",
    "    \"\"\"\n",
    "    formatted_results = []\n",
    "    for doc in docs:\n",
    "        movie_info = doc.metadata\n",
    "        movie_info['overview'] = doc.page_content   # 줄거리 추가\n",
    "        formatted_results.append(format_movie_info(movie_info))   # 포맷팅된 영화 정보 추가\n",
    "    \n",
    "    return \"\\n\".join(formatted_results)\n",
    "\n",
    "# LLM\n",
    "llm = ChatOpenAI(model=\"gpt-4.1-mini\", temperature=0.0)\n",
    "\n",
    "# Prompt\n",
    "template = '''당신은 영화 추천 전문가로서 오직 주어진 정보에 기반하여 객관적이고 정확한 답변을 제공합니다.\n",
    "\n",
    "[주어진 영화 정보]\n",
    "{context}\n",
    "\n",
    "[질문]\n",
    "{question}\n",
    "\n",
    "# 답변 작성 지침:\n",
    "1. 제공된 영화 정보에 명시된 사실만 사용하세요.\n",
    "2. 간결하고 정확하게 답변하세요.\n",
    "3. 제공된 정보에 없는 내용은 \"제공된 정보에서 해당 내용을 찾을 수 없습니다\"라고 답하세요.\n",
    "4. 영화의 제목, 평점 등 주요 정보를 포함해서 답변하세요.\n",
    "5. 한국어로 자연스럽고 이해하기 쉽게 답변하세요.\n",
    "'''\n",
    "\n",
    "prompt = ChatPromptTemplate.from_template(template)\n",
    "\n",
    "# RAG Chain 연결\n",
    "rag_chain = (\n",
    "    {\n",
    "        \"context\": retriever | RunnableLambda(format_results),\n",
    "        \"question\": RunnablePassthrough()\n",
    "    }\n",
    "    | prompt\n",
    "    | llm\n",
    "    | StrOutputParser()\n",
    ")\n",
    "\n",
    "# Chain 실행\n",
    "query = \"2차 세계대전을 배경으로 군인들의 활약상을 그린 영화를 찾아주세요.\"\n",
    "answer = rag_chain.invoke(query)\n",
    "print(answer)"
   ],
   "outputs": [
    {
     "name": "stdout",
     "output_type": "stream",
     "text": [
      "2차 세계대전을 배경으로 군인들의 활약상을 그린 영화는 다음과 같습니다.\n",
      "\n",
      "- 영화 제목: Sands of Iwo Jima  \n",
      "  평점: 6.2  \n",
      "  줄거리: 엄격한 훈련 전술로 반항적인 신병들과 어려움을 겪는 Stryker 하사와 그의 부대가 Tarawa 전투에서 하사의 진가를 인정하게 되는 이야기입니다.\n",
      "\n",
      "- 영화 제목: Inglourious Basterds  \n",
      "  평점: 7.9  \n",
      "  줄거리: 나치 점령 하 프랑스에서 유대계 미국인 병사들이 나치를 공포에 떨게 하는 임무를 수행하며, 영화관을 운영하는 프랑스 유대인 소녀와 만나게 되는 이야기입니다.\n",
      "\n",
      "나머지 영화들은 2차 세계대전 군인들의 활약상을 다룬 내용이 제공된 정보에 없습니다.\n"
     ]
    }
   ],
   "execution_count": 13
  },
  {
   "cell_type": "markdown",
   "id": "043688a1",
   "metadata": {},
   "source": [
    "#### 2) **Graph DB 자체 검색 함수 활용**"
   ]
  },
  {
   "cell_type": "code",
   "id": "851192df",
   "metadata": {
    "ExecuteTime": {
     "end_time": "2025-08-19T08:11:41.564404Z",
     "start_time": "2025-08-19T08:11:37.659637Z"
    }
   },
   "source": [
    "# 그래프 DB 검색 기능을 활용한 RAG 체인 구현\n",
    "\n",
    "# 검색 함수 정의\n",
    "def graph_search_retriever(query):\n",
    "    # 유사도 검색 수행\n",
    "    similar_docs = graph_db.similarity_search_with_score(\n",
    "        query,\n",
    "        k=5, # 유사도 상위 5개 문서 검색\n",
    "        return_embeddings=False, # 임베딩 반환 안함 (결과 간소화)\n",
    "    )\n",
    "    \n",
    "    # 검색 결과 포맷팅\n",
    "    results = []\n",
    "    for doc, score in similar_docs:\n",
    "        movie_info = doc.metadata.copy()\n",
    "        movie_info['overview'] = doc.page_content\n",
    "        movie_info['search_score'] = score\n",
    "        results.append(movie_info)\n",
    "    \n",
    "    return results\n",
    "\n",
    "# 결과 포맷팅 함수\n",
    "def format_graph_results(results):\n",
    "    formatted_results = []\n",
    "    \n",
    "    for movie_info in results:\n",
    "        formatted_results.append(format_movie_info(movie_info))\n",
    "    \n",
    "    return \"\\n\".join(formatted_results)\n",
    "\n",
    "# 그래프 DB 기반 RAG 체인 구성\n",
    "graph_rag_chain = (\n",
    "    {\n",
    "        \"context\": graph_search_retriever | RunnableLambda(format_graph_results),\n",
    "        \"question\": RunnablePassthrough()\n",
    "    }\n",
    "    | prompt\n",
    "    | llm\n",
    "    | StrOutputParser()\n",
    ")\n",
    "\n",
    "# 체인 실행\n",
    "query = \"2차 세계대전을 배경으로 군인들의 활약상을 그린 영화를 찾아주세요.\"\n",
    "graph_answer = graph_rag_chain.invoke(query)\n",
    "\n",
    "print(graph_answer)"
   ],
   "outputs": [
    {
     "name": "stdout",
     "output_type": "stream",
     "text": [
      "2차 세계대전을 배경으로 군인들의 활약상을 그린 영화는 다음과 같습니다.\n",
      "\n",
      "- 영화 제목: Sands of Iwo Jima  \n",
      "  평점: 6.2  \n",
      "  줄거리: 엄격한 훈련 전술로 반항적인 신병들과 어려움을 겪는 Stryker 하사와 그의 부대가 Tarawa 전투에서 활약하며 서로를 이해하게 되는 이야기입니다.\n",
      "\n",
      "- 영화 제목: Inglourious Basterds  \n",
      "  평점: 7.9  \n",
      "  줄거리: 나치 점령 하 프랑스에서 유대계 미국인 병사들이 나치를 공포에 떨게 하기 위해 잔인하게 싸우는 내용이며, 프랑스의 한 영화관을 운영하는 유대인 소녀와도 얽히게 됩니다.\n",
      "\n",
      "이 외에 2차 세계대전을 배경으로 한 군인들의 활약상을 다룬 영화는 제공된 정보에서 찾을 수 없습니다.\n"
     ]
    }
   ],
   "execution_count": 14
  },
  {
   "cell_type": "markdown",
   "id": "dfd6b50f",
   "metadata": {},
   "source": [
    "#### 3) **그래프 경로를 활용한 확장 검색 활용**"
   ]
  },
  {
   "cell_type": "code",
   "id": "ba8d22a1",
   "metadata": {
    "ExecuteTime": {
     "end_time": "2025-08-19T08:12:54.596487Z",
     "start_time": "2025-08-19T08:12:50.394264Z"
    }
   },
   "source": [
    "# 그래프 경로 기반 검색 함수 정의\n",
    "def graph_path_search(query, graph_db, k=5):\n",
    "    \"\"\"\n",
    "    벡터 검색으로 영화를 찾고, 그래프 경로를 통해 관련 정보를 확장하는 함수\n",
    "    \n",
    "    Args:\n",
    "        query: 검색 쿼리\n",
    "        graph_db: 벡터 저장소 객체\n",
    "        k: 검색할 영화 수\n",
    "    \n",
    "    Returns:\n",
    "        영화와 관련 배우 정보가 포함된 결과\n",
    "    \"\"\"\n",
    "    # 영화와 배우 필모그래피 검색 함수 활용\n",
    "    search_results = find_movies_and_actors_filmography(\n",
    "        query=query,\n",
    "        graph_db=graph_db,\n",
    "        k=k\n",
    "    )\n",
    "    \n",
    "    # 결과 포맷팅\n",
    "    formatted_results = []\n",
    "    \n",
    "    # 검색된 영화 정보 포맷팅\n",
    "    formatted_results.append(\"## 검색된 영화 정보\")\n",
    "    \n",
    "    # 검색 결과가 있는지 확인\n",
    "    if not search_results.get(\"search_movies\") or len(search_results[\"search_movies\"]) == 0:\n",
    "        formatted_results.append(\"\\n검색 결과가 없습니다. 다른 키워드로 검색해보세요.\")\n",
    "    else:\n",
    "        for movie in search_results[\"search_movies\"]:\n",
    "            movie_info = f\"\\n### {movie['movie_title']} ({movie.get('release_date', '정보 없음')})\\n\"\n",
    "            movie_info += f\"- 평점: {movie.get('rating', '정보 없음')}\\n\"\n",
    "            movie_info += f\"- 출연 배우: {', '.join(movie.get('actor_names', ['정보 없음']))}\\n\"\n",
    "            \n",
    "            if movie.get('overview'):\n",
    "                overview = movie['overview']\n",
    "                movie_info += f\"- 줄거리: {overview[:150]}...\" if len(overview) > 150 else f\"- 줄거리: {overview}\\n\"\n",
    "            \n",
    "            formatted_results.append(movie_info)\n",
    "    \n",
    "    # 배우 필모그래피 정보 포맷팅\n",
    "    if search_results.get(\"actor_filmographies\") and len(search_results[\"actor_filmographies\"]) > 0:\n",
    "        formatted_results.append(\"\\n## 출연 배우의 다른 작품\")\n",
    "        \n",
    "        for actor_info in search_results[\"actor_filmographies\"]:\n",
    "            actor_name = actor_info[\"actor_name\"]\n",
    "            other_movies = actor_info[\"other_movies\"]\n",
    "            \n",
    "            if other_movies and len(other_movies) > 0:\n",
    "                actor_section = f\"\\n### {actor_name}의 필모그래피\\n\"\n",
    "                \n",
    "                # 다른 영화 정보 추가 (최대 5개)\n",
    "                for i, movie in enumerate(other_movies[:5]):\n",
    "                    actor_section += f\"- {movie['title']} ({movie.get('released', '정보 없음')}) - 평점: {movie.get('rating', '정보 없음')}\\n\"\n",
    "                \n",
    "                if len(other_movies) > 5:\n",
    "                    actor_section += f\"- 외 {len(other_movies) - 5}개 작품\\n\"\n",
    "                    \n",
    "                formatted_results.append(actor_section)\n",
    "            else:\n",
    "                formatted_results.append(f\"\\n### {actor_name}의 다른 작품 정보가 없습니다.\")\n",
    "    else:\n",
    "        formatted_results.append(\"\\n## 배우 필모그래피 정보가 없습니다.\")\n",
    "    \n",
    "    return \"\\n\".join(formatted_results)\n",
    "\n",
    "# 그래프 경로 기반 RAG 체인 구성\n",
    "graph_path_rag_chain = (\n",
    "    {\n",
    "        \"context\": lambda query: graph_path_search(query, graph_db, k=5),\n",
    "        \"question\": RunnablePassthrough()\n",
    "    }\n",
    "    | prompt\n",
    "    | llm\n",
    "    | StrOutputParser()\n",
    ")\n",
    "\n",
    "# 체인 실행\n",
    "path_query = \"2차 세계대전 영화 중에서 가장 평점이 높은 작품과, 그 작품에 출연한 배우들의 다른 작품을 알려주세요\"\n",
    "path_answer = graph_path_rag_chain.invoke(path_query)\n"
   ],
   "outputs": [
    {
     "name": "stdout",
     "output_type": "stream",
     "text": [
      "벡터스토어 검색된 영화 수: 5\n"
     ]
    },
    {
     "name": "stderr",
     "output_type": "stream",
     "text": [
      "Received notification from DBMS server: {severity: WARNING} {code: Neo.ClientNotification.Statement.FeatureDeprecationWarning} {category: DEPRECATION} {title: This feature is deprecated and will be removed in future versions.} {description: The query used a deprecated function. ('id' has been replaced by 'elementId or consider using an application-generated id')} {position: line: 19, column: 51, offset: 605} for query: '\\n    // 영화 제목 중 하나라도 포함하는 영화 필터링\\n    MATCH (movie:Movie)\\n    WHERE ANY(title IN $movie_titles WHERE movie.title CONTAINS title)\\n\\n    // 영화에 출연한 배우가 없을 수도 있으므로 OPTIONAL 사용\\n    OPTIONAL MATCH (movie)<-[acted:ACTED_IN]-(actor:Person)\\n\\n    // 각 영화별로 출연 배우들을 배열로 수집\\n    WITH movie, collect(actor) as actors\\n\\n    // 영화 정보와 배우 정보를 함께 반환\\n    RETURN \\n        movie.title as movie_title,\\n        movie.released as release_date,\\n        movie.rating as rating,\\n        movie.overview as overview,\\n        [actor IN actors | actor.name] as actor_names,   // 배우 이름 배열\\n        [actor IN actors | {name: actor.name, id: id(actor)}] as actors  // 배우 정보 배열\\n    '\n",
      "Received notification from DBMS server: {severity: WARNING} {code: Neo.ClientNotification.Statement.FeatureDeprecationWarning} {category: DEPRECATION} {title: This feature is deprecated and will be removed in future versions.} {description: The query used a deprecated function. ('id' has been replaced by 'elementId or consider using an application-generated id')} {position: line: 4, column: 11, offset: 62} for query: '\\n    // 특정 ID를 가진 배우 노드 찾기\\n    MATCH (actor:Person)\\n    WHERE id(actor) IN $actor_ids\\n\\n    // 배우가 출연한 영화 찾기\\n    MATCH (actor)-[:ACTED_IN]->(movie:Movie)\\n\\n    // 원래 검색된 영화는 제외 (중복 방지)\\n    WHERE NOT movie.title IN $movie_titles\\n\\n    WITH actor.name as actor_name, collect({\\n        title: movie.title,\\n        released: movie.released,\\n        rating: movie.rating\\n    }) as other_movies  // 배우별로 출연 영화 정보 수집\\n    RETURN actor_name, other_movies     // 배우 이름과 출연 영화 목록 반환\\n    ORDER BY actor_name  // 배우 이름 알파벳 순으로 정렬\\n    '\n"
     ]
    }
   ],
   "execution_count": 15
  },
  {
   "cell_type": "code",
   "id": "51d97c50",
   "metadata": {
    "ExecuteTime": {
     "end_time": "2025-08-19T08:12:57.148680Z",
     "start_time": "2025-08-19T08:12:57.145087Z"
    }
   },
   "source": [
    "print(path_answer)"
   ],
   "outputs": [
    {
     "name": "stdout",
     "output_type": "stream",
     "text": [
      "2차 세계대전 영화 중에서 가장 평점이 높은 작품은 \"The Good German\"으로, 평점은 5.9입니다.\n",
      "\n",
      "이 영화에 출연한 배우들의 다른 작품은 다음과 같습니다.\n",
      "\n",
      "- George Clooney: From Dusk Till Dawn(6.9), Batman & Robin(4.2), The Peacemaker(5.8), Out of Sight(6.5), The Thin Red Line(7.2) 외 22개 작품\n",
      "- Tobey Maguire: The Ice Storm(6.9), Fear and Loathing in Las Vegas(7.2), Ride with the Devil(6.6), Wonder Boys(6.9), Cats & Dogs(5.0) 외 7개 작품\n",
      "- Cate Blanchett: Oscar and Lucinda(6.2), Elizabeth(7.1), An Ideal Husband(6.3), Pushing Tin(5.7), The Talented Mr. Ripley(7.0) 외 18개 작품\n",
      "- Leland Orser: Very Bad Things(6.2)\n",
      "- Tony Curran: Underworld: Evolution(6.4)\n",
      "\n",
      "제공된 정보에 따르면 이들 배우의 다른 작품 평점과 제목은 위와 같습니다.\n"
     ]
    }
   ],
   "execution_count": 16
  },
  {
   "cell_type": "code",
   "execution_count": null,
   "id": "3c5c0c41",
   "metadata": {},
   "outputs": [],
   "source": []
  }
 ],
 "metadata": {
  "kernelspec": {
   "display_name": ".venv",
   "language": "python",
   "name": "python3"
  },
  "language_info": {
   "codemirror_mode": {
    "name": "ipython",
    "version": 3
   },
   "file_extension": ".py",
   "mimetype": "text/x-python",
   "name": "python",
   "nbconvert_exporter": "python",
   "pygments_lexer": "ipython3",
   "version": "3.12.9"
  }
 },
 "nbformat": 4,
 "nbformat_minor": 5
}
