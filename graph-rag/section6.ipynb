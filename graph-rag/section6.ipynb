{
 "cells": [
  {
   "cell_type": "markdown",
   "id": "b735da82",
   "metadata": {},
   "source": [
    "# Neo4j와 LangChain을 활용한 ETF 상품 추천"
   ]
  },
  {
   "cell_type": "markdown",
   "id": "a0613508",
   "metadata": {},
   "source": [
    "---\n",
    "\n",
    "## 1. Neo4J Desktop 환경 설정\n",
    "\n",
    "- **Neo4j Desktop 소개**:\n",
    "    - Neo4j 작업을 위한 클라이언트 애플리케이션\n",
    "    - 로컬 환경에서 Neo4j를 학습하고 실험하는 데 필요한 모든 것을 포함함\n",
    "    - 사용자의 컴퓨터 리소스가 허용하는 한 **여러 로컬 데이터베이스**를 생성할 수 있음\n",
    "    - **Enterprise Edition 라이센스**: 단, 개발자 개인에 대해서는 1개 계정을 테스트 목적으로 지원\n",
    "\n",
    "- **다운로드 및 설치**: https://neo4j.com/deployment-center/?desktop-gdb\n",
    "    - Neo4J 5.24.0 선택\n",
    "    - 새 프로젝트 생성 및 DBMS 추가\n",
    "\n",
    "- **APOC 플러그인 설정**: \n",
    "    - APOC 플러그인을 설치하려는 데이터베이스가 있는 프로젝트(Graph DBMS)를 선택\n",
    "    - Graph DBMS 메뉴 클릭하고, APOC 플러그인(Plugin) 설치\n",
    "\n",
    "- **설정 파일 수정**: 데이터베이스를 중지한 상태에서 데이터베이스 카드의 오른쪽에 있는 `...` (메뉴) 버튼을 클릭\n",
    "\n",
    "    - 메뉴에서 **Settings** 선택하고 다음 내용을 추가 (`neo4j.conf` 파일)\n",
    "        ```\n",
    "        dbms.security.procedures.unrestricted=apoc.meta.*,apoc.*\n",
    "        ```"
   ]
  },
  {
   "cell_type": "code",
   "id": "1dc7d00f",
   "metadata": {
    "ExecuteTime": {
     "end_time": "2025-08-20T02:56:54.791626Z",
     "start_time": "2025-08-20T02:56:54.785506Z"
    }
   },
   "source": [
    "import os\n",
    "from dotenv import load_dotenv\n",
    "\n",
    "# 환경 변수 로드\n",
    "load_dotenv()"
   ],
   "outputs": [
    {
     "data": {
      "text/plain": [
       "True"
      ]
     },
     "execution_count": 1,
     "metadata": {},
     "output_type": "execute_result"
    }
   ],
   "execution_count": 1
  },
  {
   "cell_type": "code",
   "id": "1b1dea88",
   "metadata": {
    "ExecuteTime": {
     "end_time": "2025-08-20T02:56:58.266690Z",
     "start_time": "2025-08-20T02:56:56.401879Z"
    }
   },
   "source": [
    "from langchain_neo4j import Neo4jGraph\n",
    "\n",
    "# Neo4j Desktop 연결 설정\n",
    "graph = Neo4jGraph(\n",
    "    url=os.getenv(\"NEO4J_URI\"),\n",
    "    username=os.getenv(\"NEO4J_USERNAME\"),\n",
    "    password=os.getenv(\"NEO4J_PASSWORD\"),\n",
    "    database=os.getenv(\"NEO4J_DATABASE\"),\n",
    "    enhanced_schema=True\n",
    ")"
   ],
   "outputs": [],
   "execution_count": 2
  },
  {
   "cell_type": "code",
   "id": "78a4a57a",
   "metadata": {
    "ExecuteTime": {
     "end_time": "2025-08-20T02:57:01.893292Z",
     "start_time": "2025-08-20T02:57:01.874579Z"
    }
   },
   "source": [
    "# 테스트 쿼리 실행 \n",
    "cypher_query = \"\"\"\n",
    "MATCH (n) \n",
    "RETURN count(n) AS node_count\n",
    "\"\"\"\n",
    "\n",
    "graph.query(cypher_query)"
   ],
   "outputs": [
    {
     "data": {
      "text/plain": [
       "[{'node_count': 0}]"
      ]
     },
     "execution_count": 3,
     "metadata": {},
     "output_type": "execute_result"
    }
   ],
   "execution_count": 3
  },
  {
   "cell_type": "code",
   "id": "22382171",
   "metadata": {
    "ExecuteTime": {
     "end_time": "2025-08-20T02:57:03.566189Z",
     "start_time": "2025-08-20T02:57:03.505005Z"
    }
   },
   "source": [
    "def reset_database(graph):\n",
    "    \"\"\"\n",
    "    APOC 없이 데이터베이스 초기화하기\n",
    "    \"\"\"\n",
    "    # 모든 노드와 관계 삭제\n",
    "    graph.query(\"MATCH (n) DETACH DELETE n\")\n",
    "    \n",
    "    # 모든 제약조건 삭제\n",
    "    constraints = graph.query(\"SHOW CONSTRAINTS\")\n",
    "    for constraint in constraints:\n",
    "        constraint_name = constraint.get(\"name\")\n",
    "        if constraint_name:\n",
    "            graph.query(f\"DROP CONSTRAINT {constraint_name}\")\n",
    "    \n",
    "    # 모든 인덱스 삭제\n",
    "    indexes = graph.query(\"SHOW INDEXES\")\n",
    "    for index in indexes:\n",
    "        index_name = index.get(\"name\")\n",
    "        index_type = index.get(\"type\")\n",
    "        if index_name and index_type != \"CONSTRAINT\":\n",
    "            graph.query(f\"DROP INDEX {index_name}\")\n",
    "    \n",
    "    print(\"데이터베이스가 초기화되었습니다.\")\n",
    "\n",
    "# 데이터베이스 초기화\n",
    "reset_database(graph)"
   ],
   "outputs": [
    {
     "name": "stdout",
     "output_type": "stream",
     "text": [
      "데이터베이스가 초기화되었습니다.\n"
     ]
    }
   ],
   "execution_count": 4
  },
  {
   "cell_type": "markdown",
   "id": "5e27da72",
   "metadata": {},
   "source": [
    "---\n",
    "\n",
    "## 2. **Knowledge Graph 구축**"
   ]
  },
  {
   "cell_type": "markdown",
   "id": "81769e02",
   "metadata": {},
   "source": [
    "### 2.1 ETF 데이터 전처리\n"
   ]
  },
  {
   "cell_type": "markdown",
   "id": "76d5f243",
   "metadata": {},
   "source": [
    "#### 1) **데이터셋 준비**\n",
    "\n",
    "| 필드명 | 설명 |\n",
    "|-------|------|\n",
    "| `id` | 고유 식별자 |\n",
    "| `korean_name` | 한글명 |\n",
    "| `english_name` | 영문명 |\n",
    "| `code` | 종목코드 |\n",
    "| `listing_date` | 상장일 |\n",
    "| `fund_type` | 펀드형태 |\n",
    "| `index_name` | 기초지수명 |\n",
    "| `tracking_multiplier` | 추적배수 |\n",
    "| `management_company` | 자산운용사 |\n",
    "| `ap_company` | 지정참가회사(AP) |\n",
    "| `total_fee` | 총보수(%) |\n",
    "| `tax_type` | 과세유형 |\n",
    "| `website` | 홈페이지 |\n",
    "| `base_market` | 기초 시장 |\n",
    "| `base_asset` | 기초 자산 |\n",
    "| `basic_info` | 기본 정보 |\n",
    "| `investment_notice` | 투자유의사항 |"
   ]
  },
  {
   "cell_type": "code",
   "id": "a89a861b",
   "metadata": {
    "ExecuteTime": {
     "end_time": "2025-08-20T02:59:22.690237Z",
     "start_time": "2025-08-20T02:59:22.664226Z"
    }
   },
   "source": [
    "# ETF 데이터 (CSV에서 로드)\n",
    "import pandas as pd\n",
    "\n",
    "# CSV 파일 로드\n",
    "df = pd.read_csv(\"data/etf_info_cleaned.csv\", encoding=\"utf-8\")\n",
    "\n",
    "# 데이터 형태 확인\n",
    "print(f\"데이터 형태: {df.shape}\")\n",
    "\n",
    "# 데이터 샘플 확인\n",
    "df.head(2)"
   ],
   "outputs": [
    {
     "name": "stdout",
     "output_type": "stream",
     "text": [
      "데이터 형태: (200, 17)\n"
     ]
    },
    {
     "data": {
      "text/plain": [
       "          id      korean_name                      english_name    code  \\\n",
       "0  ETF471760  TIGER AI반도체핵심공정  TIGER AI Semiconductor Core Tech  471760   \n",
       "1  ETF490090  TIGER 미국AI빅테크10           TIGER US AI BIG TECH 10  490090   \n",
       "\n",
       "  listing_date fund_type             index_name  tracking_multiplier  \\\n",
       "0   2023-11-21     수익증권형    iSelect AI반도체핵심공정지수                  1.0   \n",
       "1   2024-08-27     수익증권형  KEDI 미국AI빅테크10 지수(PR)                  1.0   \n",
       "\n",
       "  management_company                                       ap_company  \\\n",
       "0           미래에셋자산운용  미래에셋|NH|키움|하이|BNK|한국|이베스트|대신|유진|신영|DB|신한|삼성|메리츠   \n",
       "1           미래에셋자산운용                                미래에셋|메리츠|키움|한국|신한   \n",
       "\n",
       "   total_fee       tax_type                  website base_market  \\\n",
       "0       0.45            비과세  http://www.tigeretf.com  국내|코스피|코스닥   \n",
       "1       0.30  배당소득세(보유기간과세)  http://www.tigeretf.com    해외|북미|미국   \n",
       "\n",
       "     base_asset                                         basic_info  \\\n",
       "0  주식|업종섹터|업종테마  - 이 ETF는 국내에 상장된 주식을 주된 투자대상자산으로 하며, “iSelect ...   \n",
       "1  주식|업종섹터|업종테마  - 이 투자신탁은 KEDI(Korea Economic Daily Index)에서 발...   \n",
       "\n",
       "                                   investment_notice  \n",
       "0  - 이 ETF의 수익률은 보수 또는 비용 등 이 ETF의 순자산가치에 부의 영향을 ...  \n",
       "1  - 이 ETF의 수익률은 보수 또는 비용 등 이 ETF의 순자산가치에 부의 영향을 ...  "
      ],
      "text/html": [
       "<div>\n",
       "<style scoped>\n",
       "    .dataframe tbody tr th:only-of-type {\n",
       "        vertical-align: middle;\n",
       "    }\n",
       "\n",
       "    .dataframe tbody tr th {\n",
       "        vertical-align: top;\n",
       "    }\n",
       "\n",
       "    .dataframe thead th {\n",
       "        text-align: right;\n",
       "    }\n",
       "</style>\n",
       "<table border=\"1\" class=\"dataframe\">\n",
       "  <thead>\n",
       "    <tr style=\"text-align: right;\">\n",
       "      <th></th>\n",
       "      <th>id</th>\n",
       "      <th>korean_name</th>\n",
       "      <th>english_name</th>\n",
       "      <th>code</th>\n",
       "      <th>listing_date</th>\n",
       "      <th>fund_type</th>\n",
       "      <th>index_name</th>\n",
       "      <th>tracking_multiplier</th>\n",
       "      <th>management_company</th>\n",
       "      <th>ap_company</th>\n",
       "      <th>total_fee</th>\n",
       "      <th>tax_type</th>\n",
       "      <th>website</th>\n",
       "      <th>base_market</th>\n",
       "      <th>base_asset</th>\n",
       "      <th>basic_info</th>\n",
       "      <th>investment_notice</th>\n",
       "    </tr>\n",
       "  </thead>\n",
       "  <tbody>\n",
       "    <tr>\n",
       "      <th>0</th>\n",
       "      <td>ETF471760</td>\n",
       "      <td>TIGER AI반도체핵심공정</td>\n",
       "      <td>TIGER AI Semiconductor Core Tech</td>\n",
       "      <td>471760</td>\n",
       "      <td>2023-11-21</td>\n",
       "      <td>수익증권형</td>\n",
       "      <td>iSelect AI반도체핵심공정지수</td>\n",
       "      <td>1.0</td>\n",
       "      <td>미래에셋자산운용</td>\n",
       "      <td>미래에셋|NH|키움|하이|BNK|한국|이베스트|대신|유진|신영|DB|신한|삼성|메리츠</td>\n",
       "      <td>0.45</td>\n",
       "      <td>비과세</td>\n",
       "      <td>http://www.tigeretf.com</td>\n",
       "      <td>국내|코스피|코스닥</td>\n",
       "      <td>주식|업종섹터|업종테마</td>\n",
       "      <td>- 이 ETF는 국내에 상장된 주식을 주된 투자대상자산으로 하며, “iSelect ...</td>\n",
       "      <td>- 이 ETF의 수익률은 보수 또는 비용 등 이 ETF의 순자산가치에 부의 영향을 ...</td>\n",
       "    </tr>\n",
       "    <tr>\n",
       "      <th>1</th>\n",
       "      <td>ETF490090</td>\n",
       "      <td>TIGER 미국AI빅테크10</td>\n",
       "      <td>TIGER US AI BIG TECH 10</td>\n",
       "      <td>490090</td>\n",
       "      <td>2024-08-27</td>\n",
       "      <td>수익증권형</td>\n",
       "      <td>KEDI 미국AI빅테크10 지수(PR)</td>\n",
       "      <td>1.0</td>\n",
       "      <td>미래에셋자산운용</td>\n",
       "      <td>미래에셋|메리츠|키움|한국|신한</td>\n",
       "      <td>0.30</td>\n",
       "      <td>배당소득세(보유기간과세)</td>\n",
       "      <td>http://www.tigeretf.com</td>\n",
       "      <td>해외|북미|미국</td>\n",
       "      <td>주식|업종섹터|업종테마</td>\n",
       "      <td>- 이 투자신탁은 KEDI(Korea Economic Daily Index)에서 발...</td>\n",
       "      <td>- 이 ETF의 수익률은 보수 또는 비용 등 이 ETF의 순자산가치에 부의 영향을 ...</td>\n",
       "    </tr>\n",
       "  </tbody>\n",
       "</table>\n",
       "</div>"
      ]
     },
     "execution_count": 6,
     "metadata": {},
     "output_type": "execute_result"
    }
   ],
   "execution_count": 6
  },
  {
   "cell_type": "markdown",
   "id": "7ff56bb1",
   "metadata": {},
   "source": [
    "#### 2) **ETF 속성에서 고유명사/카테고리 추출**"
   ]
  },
  {
   "cell_type": "markdown",
   "id": "30ad79c0",
   "metadata": {},
   "source": [
    "- ETF 데이터에서 엔티티 추출하는 함수"
   ]
  },
  {
   "cell_type": "code",
   "id": "bfa0a5de",
   "metadata": {
    "ExecuteTime": {
     "end_time": "2025-08-20T03:03:03.710502Z",
     "start_time": "2025-08-20T03:03:01.269275Z"
    }
   },
   "source": [
    "from langchain_core.prompts import ChatPromptTemplate\n",
    "from langchain_openai import ChatOpenAI\n",
    "from pydantic import BaseModel, Field\n",
    "from typing import List, Dict, Any, Optional, Union\n",
    "from tqdm import tqdm\n",
    "import pandas as pd\n",
    "\n",
    "# ETF에서 고유명사와 카테고리 추출을 위한 Pydantic 모델 정의\n",
    "class ETFEntities(BaseModel):\n",
    "    \"\"\"ETF 상품에서 추출한 고유명사와 카테고리 정보\"\"\"\n",
    "    companies: Optional[List[str]] = Field(default=None, description=\"ETF에 포함된 회사/기업 이름\")\n",
    "    sectors: Optional[List[str]] = Field(default=None, description=\"ETF가 속한 산업 섹터\")\n",
    "    technologies: Optional[List[str]] = Field(default=None, description=\"ETF 관련 기술 키워드\")\n",
    "    markets: Optional[List[str]] = Field(default=None, description=\"ETF 관련 시장/지역\")\n",
    "    asset_classes: Optional[List[str]] = Field(default=None, description=\"ETF 자산 클래스(주식, 채권, 원자재 등)\")\n",
    "    investment_themes: Optional[List[str]] = Field(default=None, description=\"ETF 투자 테마(AI, 친환경, 메타버스 등)\")\n",
    "\n",
    "\n",
    "def extract_entities_from_etf(row: pd.Series) -> ETFEntities:\n",
    "    \"\"\"\n",
    "    ETF 메타데이터에서 고유명사와 카테고리를 추출합니다.\n",
    "    \n",
    "    Args:\n",
    "        row (pd.Series): ETF 데이터 행\n",
    "    \n",
    "    Returns:\n",
    "        ETFEntities: 추출된 고유명사와 카테고리 목록\n",
    "    \"\"\"\n",
    "    # 프롬프트 템플릿 정의\n",
    "    prompt = ChatPromptTemplate.from_messages([\n",
    "        (\"system\", \"\"\"ETF 상품의 고유명사와 카테고리 추출 전문가입니다. \n",
    "        제공된 ETF 상품 정보에서 다음 항목들을 정확하게 리스트로 추출하세요:\n",
    "        \n",
    "        추출 가이드라인:\n",
    "        - companies: ETF에 포함된 또는 관련된 회사/기업 이름. \n",
    "        - sectors: ETF가 속한 산업 섹터(IT, 금융, 헬스케어 등)\n",
    "        - technologies: ETF 관련 기술 키워드(AI, 블록체인, 클라우드 등)\n",
    "        - markets: ETF 관련 시장/지역(국내, 미국, 아시아 등)\n",
    "        - asset_classes: ETF 자산 클래스(주식, 채권, 원자재 등)\n",
    "        - investment_themes: ETF 투자 테마(AI, 친환경, 메타버스 등)\n",
    "        \n",
    "        각 항목은 개별 리스트에 담아야 하며, 명확한 증거가 있는 항목만 포함하세요.\n",
    "        ETF 이름, 설명, 기초 지수 등에서 관련 정보를 파악하세요.\n",
    "        항목이 없는 경우 빈 리스트를 반환하세요.\n",
    "        \"\"\"),\n",
    "        (\"human\", \"\"\"다음 ETF 상품에서 고유명사와 카테고리를 추출하세요:\n",
    "        \n",
    "        ETF ID: {id}\n",
    "        한글명: {korean_name}\n",
    "        영문명: {english_name}\n",
    "        종목코드: {code}\n",
    "        상장일: {listing_date}\n",
    "        펀드형태: {fund_type}\n",
    "        기초지수명: {index_name}\n",
    "        기초 시장: {base_market}\n",
    "        기초 자산: {base_asset}\n",
    "        기본 정보: {basic_info}\n",
    "        \"\"\")\n",
    "    ])\n",
    "\n",
    "    # LLM 및 체인 설정\n",
    "    llm = ChatOpenAI(model=\"gpt-4.1\", temperature=0)    \n",
    "    \n",
    "    # 구조화된 출력을 위해 Pydantic 모델과 연결\n",
    "    llm_with_structured_output = llm.with_structured_output(ETFEntities)\n",
    "    \n",
    "    # 프롬프트와 LLM을 연결하는 체인 구성\n",
    "    chain = prompt | llm_with_structured_output\n",
    "    \n",
    "    # 엔티티 추출 시도\n",
    "    try:\n",
    "        # 데이터 행에서 필드 추출\n",
    "        base_market_str = row['base_market'] if 'base_market' in row else \"\"\n",
    "        base_asset_str = row['base_asset'] if 'base_asset' in row else \"\"\n",
    "        basic_info = row['basic_info'] if 'basic_info' in row else \"\"\n",
    "        \n",
    "        # LLM을 통해 엔티티 추출\n",
    "        entities = chain.invoke({\n",
    "            \"id\": row['id'] if 'id' in row else \"\",\n",
    "            \"korean_name\": row['korean_name'] if 'korean_name' in row else \"\",\n",
    "            \"english_name\": row['english_name'] if 'english_name' in row else \"\",\n",
    "            \"code\": row['code'] if 'code' in row else \"\",\n",
    "            \"listing_date\": row['listing_date'] if 'listing_date' in row else \"\",\n",
    "            \"fund_type\": row['fund_type'] if 'fund_type' in row else \"\",\n",
    "            \"index_name\": row['index_name'] if 'index_name' in row else \"\",\n",
    "            \"base_market\": base_market_str,\n",
    "            \"base_asset\": base_asset_str,\n",
    "            \"basic_info\": basic_info\n",
    "        })\n",
    "        \n",
    "        return entities\n",
    "    except Exception as e:\n",
    "        # 에러 발생 시 로그 출력 및 빈 엔티티 반환\n",
    "        print(f\"ETF 엔티티 추출 중 오류 발생: {e}\")\n",
    "        return ETFEntities(\n",
    "            companies=[],\n",
    "            sectors=[],\n",
    "            technologies=[],\n",
    "            markets=[],\n",
    "            asset_classes=[],\n",
    "            investment_themes=[]\n",
    "        )\n",
    "    \n",
    "# 첫 번째 ETF 행에서 엔티티 추출\n",
    "first_row = df.iloc[0]\n",
    "entities = extract_entities_from_etf(first_row)\n",
    "\n",
    "entities"
   ],
   "outputs": [
    {
     "data": {
      "text/plain": [
       "ETFEntities(companies=[], sectors=['반도체', 'IT'], technologies=['AI', '자연어처리'], markets=['국내', '코스피', '코스닥'], asset_classes=['주식'], investment_themes=['AI'])"
      ]
     },
     "execution_count": 7,
     "metadata": {},
     "output_type": "execute_result"
    }
   ],
   "execution_count": 7
  },
  {
   "cell_type": "markdown",
   "id": "abfff28a",
   "metadata": {},
   "source": [
    "- 모든 ETF에서 엔티티 추출 (gpt-4.1 사용)"
   ]
  },
  {
   "cell_type": "code",
   "id": "9785a7a5",
   "metadata": {
    "ExecuteTime": {
     "end_time": "2025-08-20T03:10:40.321726Z",
     "start_time": "2025-08-20T03:04:15.535329Z"
    }
   },
   "source": [
    "# 모든 ETF에서 엔티티 추출하는 함수\n",
    "def extract_all_entities(df):\n",
    "    \"\"\"\n",
    "    모든 ETF에서 엔티티를 추출하고 결과를 저장합니다.\n",
    "    \n",
    "    Args:\n",
    "        df (pd.DataFrame): ETF 데이터프레임\n",
    "        \n",
    "    Returns:\n",
    "        dict: ETF ID를 키로, 추출된 엔티티를 값으로 하는 딕셔너리\n",
    "    \"\"\"\n",
    "    all_entities = {}\n",
    "    \n",
    "    # 모든 ETF에 대해 엔티티 추출\n",
    "    for idx, row in tqdm(df.iterrows()):\n",
    "        etf_id = row['id']\n",
    "        entities = extract_entities_from_etf(row)\n",
    "        all_entities[etf_id] = entities\n",
    "    \n",
    "    return all_entities\n",
    "\n",
    "# 모든 ETF에서 엔티티 추출\n",
    "all_etf_entities = extract_all_entities(df)"
   ],
   "outputs": [
    {
     "name": "stderr",
     "output_type": "stream",
     "text": [
      "86it [02:16,  2.11s/it]"
     ]
    },
    {
     "name": "stdout",
     "output_type": "stream",
     "text": [
      "ETF 엔티티 추출 중 오류 발생: Error code: 429 - {'error': {'message': 'Rate limit reached for gpt-4.1 in organization org-45Vx69q5JTZFFAJ5OwuH6SOj on tokens per min (TPM): Limit 30000, Used 29532, Requested 738. Please try again in 540ms. Visit https://platform.openai.com/account/rate-limits to learn more.', 'type': 'tokens', 'param': None, 'code': 'rate_limit_exceeded'}}\n"
     ]
    },
    {
     "name": "stderr",
     "output_type": "stream",
     "text": [
      "94it [02:31,  2.09s/it]"
     ]
    },
    {
     "name": "stdout",
     "output_type": "stream",
     "text": [
      "ETF 엔티티 추출 중 오류 발생: Error code: 429 - {'error': {'message': 'Rate limit reached for gpt-4.1 in organization org-45Vx69q5JTZFFAJ5OwuH6SOj on tokens per min (TPM): Limit 30000, Used 29778, Requested 544. Please try again in 644ms. Visit https://platform.openai.com/account/rate-limits to learn more.', 'type': 'tokens', 'param': None, 'code': 'rate_limit_exceeded'}}\n"
     ]
    },
    {
     "name": "stderr",
     "output_type": "stream",
     "text": [
      "116it [03:18,  1.94s/it]"
     ]
    },
    {
     "name": "stdout",
     "output_type": "stream",
     "text": [
      "ETF 엔티티 추출 중 오류 발생: Error code: 429 - {'error': {'message': 'Rate limit reached for gpt-4.1 in organization org-45Vx69q5JTZFFAJ5OwuH6SOj on tokens per min (TPM): Limit 30000, Used 29604, Requested 525. Please try again in 258ms. Visit https://platform.openai.com/account/rate-limits to learn more.', 'type': 'tokens', 'param': None, 'code': 'rate_limit_exceeded'}}\n"
     ]
    },
    {
     "name": "stderr",
     "output_type": "stream",
     "text": [
      "129it [03:46,  2.09s/it]"
     ]
    },
    {
     "name": "stdout",
     "output_type": "stream",
     "text": [
      "ETF 엔티티 추출 중 오류 발생: Error code: 429 - {'error': {'message': 'Rate limit reached for gpt-4.1 in organization org-45Vx69q5JTZFFAJ5OwuH6SOj on tokens per min (TPM): Limit 30000, Used 29713, Requested 573. Please try again in 572ms. Visit https://platform.openai.com/account/rate-limits to learn more.', 'type': 'tokens', 'param': None, 'code': 'rate_limit_exceeded'}}\n"
     ]
    },
    {
     "name": "stderr",
     "output_type": "stream",
     "text": [
      "178it [05:37,  2.02s/it]"
     ]
    },
    {
     "name": "stdout",
     "output_type": "stream",
     "text": [
      "ETF 엔티티 추출 중 오류 발생: Error code: 429 - {'error': {'message': 'Rate limit reached for gpt-4.1 in organization org-45Vx69q5JTZFFAJ5OwuH6SOj on tokens per min (TPM): Limit 30000, Used 29661, Requested 607. Please try again in 536ms. Visit https://platform.openai.com/account/rate-limits to learn more.', 'type': 'tokens', 'param': None, 'code': 'rate_limit_exceeded'}}\n"
     ]
    },
    {
     "name": "stderr",
     "output_type": "stream",
     "text": [
      "193it [06:09,  2.15s/it]"
     ]
    },
    {
     "name": "stdout",
     "output_type": "stream",
     "text": [
      "ETF 엔티티 추출 중 오류 발생: Error code: 429 - {'error': {'message': 'Rate limit reached for gpt-4.1 in organization org-45Vx69q5JTZFFAJ5OwuH6SOj on tokens per min (TPM): Limit 30000, Used 29474, Requested 534. Please try again in 16ms. Visit https://platform.openai.com/account/rate-limits to learn more.', 'type': 'tokens', 'param': None, 'code': 'rate_limit_exceeded'}}\n"
     ]
    },
    {
     "name": "stderr",
     "output_type": "stream",
     "text": [
      "200it [06:24,  1.92s/it]\n"
     ]
    }
   ],
   "execution_count": 8
  },
  {
   "cell_type": "code",
   "id": "a5074d82",
   "metadata": {
    "ExecuteTime": {
     "end_time": "2025-08-20T03:11:20.591530Z",
     "start_time": "2025-08-20T03:11:20.589108Z"
    }
   },
   "source": [
    "print(f\"추출된 엔티티 수: {len(all_etf_entities)}\")\n",
    "print(f\"첫 번째 ETF의 엔티티: {all_etf_entities[list(all_etf_entities.keys())[0]]}\")"
   ],
   "outputs": [
    {
     "name": "stdout",
     "output_type": "stream",
     "text": [
      "추출된 엔티티 수: 200\n",
      "첫 번째 ETF의 엔티티: companies=[] sectors=['반도체', 'IT'] technologies=['AI', '자연어처리'] markets=['국내', '코스피', '코스닥'] asset_classes=['주식'] investment_themes=['AI', '반도체']\n"
     ]
    }
   ],
   "execution_count": 9
  },
  {
   "cell_type": "code",
   "id": "a0f41a9f",
   "metadata": {
    "ExecuteTime": {
     "end_time": "2025-08-20T03:11:35.508129Z",
     "start_time": "2025-08-20T03:11:35.505126Z"
    }
   },
   "source": [
    "# 추출한 엔티티를 별도로 저장\n",
    "import pickle \n",
    "with open('data/all_etf_entities.pkl', 'wb') as f:\n",
    "    pickle.dump(all_etf_entities, f)"
   ],
   "outputs": [],
   "execution_count": 11
  },
  {
   "cell_type": "markdown",
   "id": "10eb4e22",
   "metadata": {},
   "source": [
    "- 모든 엔티티에 대한 통계 처리"
   ]
  },
  {
   "cell_type": "code",
   "id": "570fde3e",
   "metadata": {
    "ExecuteTime": {
     "end_time": "2025-08-20T03:13:04.100508Z",
     "start_time": "2025-08-20T03:13:04.089841Z"
    }
   },
   "source": [
    "from pydantic import BaseModel, Field\n",
    "from typing import List, Dict, Any, Optional\n",
    "\n",
    "# ETF에서 고유명사와 카테고리 추출을 위한 Pydantic 모델 정의\n",
    "class ETFEntities(BaseModel):\n",
    "    \"\"\"ETF 상품에서 추출한 고유명사와 카테고리 정보\"\"\"\n",
    "    companies: Optional[List[str]] = Field(default=None, description=\"ETF에 포함된 회사/기업 이름\")\n",
    "    sectors: Optional[List[str]] = Field(default=None, description=\"ETF가 속한 산업 섹터\")\n",
    "    technologies: Optional[List[str]] = Field(default=None, description=\"ETF 관련 기술 키워드\")\n",
    "    markets: Optional[List[str]] = Field(default=None, description=\"ETF 관련 시장/지역\")\n",
    "    asset_classes: Optional[List[str]] = Field(default=None, description=\"ETF 자산 클래스(주식, 채권, 원자재 등)\")\n",
    "    investment_themes: Optional[List[str]] = Field(default=None, description=\"ETF 투자 테마(AI, 친환경, 메타버스 등)\")"
   ],
   "outputs": [],
   "execution_count": 12
  },
  {
   "cell_type": "code",
   "id": "388e4f42",
   "metadata": {
    "ExecuteTime": {
     "end_time": "2025-08-20T03:13:15.080917Z",
     "start_time": "2025-08-20T03:13:15.076527Z"
    }
   },
   "source": [
    "# 추출한 엔티티를 로드\n",
    "import pickle\n",
    "with open('data/all_etf_entities.pkl', 'rb') as f:\n",
    "    etf_entities = pickle.load(f)\n",
    "\n",
    "print(f\"로드된 엔티티 수: {len(etf_entities)}\")\n",
    "print(f\"첫 번째 ETF의 엔티티: {etf_entities[list(etf_entities.keys())[0]]}\")"
   ],
   "outputs": [
    {
     "name": "stdout",
     "output_type": "stream",
     "text": [
      "로드된 엔티티 수: 200\n",
      "첫 번째 ETF의 엔티티: companies=[] sectors=['반도체', 'IT'] technologies=['AI', '자연어처리'] markets=['국내', '코스피', '코스닥'] asset_classes=['주식'] investment_themes=['AI', '반도체']\n"
     ]
    }
   ],
   "execution_count": 14
  },
  {
   "cell_type": "code",
   "id": "cd7009b1",
   "metadata": {
    "ExecuteTime": {
     "end_time": "2025-08-20T03:13:17.534831Z",
     "start_time": "2025-08-20T03:13:17.528613Z"
    }
   },
   "source": [
    "# 엔티티 통계 수집 함수\n",
    "def collect_entity_statistics(all_entities):\n",
    "    \"\"\"\n",
    "    추출된 모든 엔티티에서 통계를 수집합니다.\n",
    "    \n",
    "    Args:\n",
    "        all_entities (dict): ETF ID를 키로, 추출된 엔티티를 값으로 하는 딕셔너리\n",
    "        \n",
    "    Returns:\n",
    "        dict: 엔티티 유형별 통계 정보\n",
    "    \"\"\"\n",
    "    # 엔티티 유형별 통계 초기화\n",
    "    stats = {\n",
    "        'companies': set(),\n",
    "        'sectors': set(),\n",
    "        'technologies': set(),\n",
    "        'markets': set(),\n",
    "        'asset_classes': set(),\n",
    "        'investment_themes': set()\n",
    "    }\n",
    "    \n",
    "    # 모든 ETF의 엔티티 수집\n",
    "    for etf_id, entities in all_entities.items():\n",
    "        for entity_type in stats.keys():\n",
    "            entity_list = getattr(entities, entity_type, [])\n",
    "            stats[entity_type].update(entity_list)\n",
    "    \n",
    "    # set을 list로 변환\n",
    "    for key in stats:\n",
    "        stats[key] = sorted(list(stats[key]))\n",
    "    \n",
    "    return stats\n",
    "\n",
    "# 엔티티 통계 수집\n",
    "entity_stats = collect_entity_statistics(etf_entities)\n",
    "\n",
    "# 결과 출력\n",
    "for entity_type, entities in entity_stats.items():\n",
    "    print(f\"{entity_type}: {len(entities)}개\")\n",
    "    print(f\"  {', '.join(entities)}\")"
   ],
   "outputs": [
    {
     "name": "stdout",
     "output_type": "stream",
     "text": [
      "companies: 80개\n",
      "  AMD, Alibaba, Alphabet, Amazon, Apple, Baidu, Benchmark Investments, LLC, Bloomberg, Bloomberg Index Services Limited, CSI(China Securities Index co.,Ltd), China Securities Index Co., Ltd, DeepSearch, FnGuide, Google, ICE Data Indices, IGIS, Intel, KEDI, KEDI(한국경제신문), KIS, KIS Pricing, KIS 채권평가, KIS자산평가, KIS채권평가(주), KIS채권평가㈜, KRX, MS, MSCI, MSCI Inc., Meta Platforms, Microsoft, Morningstar, Morningstar, Inc., NASDAQ, NASDAQ Inc., NASDAQ OMX Group, NASDAQ, Inc., NH투자증권, NVIDIA, NYSE, Nasdaq, Netflix, Nikkei Inc., S&P Dow Jones, S&P Dow Jones Indices, S&P Dow Jones Indices LLC, S&P Dow Jones Indices, LLC, SK하이닉스, STOXX Limited, Solactive AG, Standard & Poor's, TIMEFOLIO 자산운용, Tesla, The Bank of New York Mellon, iShares, 금융투자협회, 나스닥증권거래소(NASDAQ), 뉴욕상업거래소(NYSE), 다우존스, 대만증권거래소, 매일경제신문, 메리츠증권, 미국 재무부, 미래에셋증권, 삼성그룹, 삼성액티브자산운용, 시카고상업거래소(CME), 에셋플러스, 에프앤가이드, 에프앤가이드(FnGuide), 와이즈에프엔, 키움증권, 타임폴리오자산운용, 한국거래소, 한국경제신문, 한국경제신문사, 한국자산평가, 한국자산평가사, 한국투자밸류자산운용, 한화자산운용\n",
      "sectors: 85개\n",
      "  2차전지, 4차산업, Agriculture, Communication Services, Computing Infrastructure, Consumer Discretionary, Data Processing, Energy, Financials, Healthcare, IT, Industrials, Information Technology, Real Estate, Semiconductor, Software, Technology, Transportation, Utilities, Web Hosting, 건설업, 건축기술, 게임, 경기소비재, 금융, 기계 인프라, 농업, 데이터센터, 도소매무역, 드론, 디지털 미디어, 레저, 메가테크, 무인 자동차, 미디어, 바이오, 반도체, 방위산업, 배터리, 배터리 리사이클링, 부동산, 비산업 로보틱스, 산업용 로봇, 산업재, 생명공학, 생활소비재, 소비재, 소재, 소프트웨어, 시장대표, 신소재, 신에너지, 신재생에너지, 업종섹터, 에너지, 엔지니어링 서비스, 엔터테인먼트, 여행, 온라인쇼핑, 우주항공, 원자력, 원자재, 유틸리티, 인공지능, 인터넷, 인터넷 서비스, 자동차, 자동화, 전기전자, 전력, 전력 인프라, 정보기술, 정보통신, 종합금융, 창업투자, 철강소재, 친환경, 커뮤니케이션서비스, 컴퓨터하드웨어, 테크, 텔레콤, 통신, 필수소비재, 헬스케어, 화장품\n",
      "technologies: 48개\n",
      "  2차전지, 5G, AI, AgTech, Artificial Intelligence, Cloud, Cloud Computing, Digital, E-commerce, EDA, Exponential Technologies, Fintech, Generative AI, ISA, IT서비스, Internet, LLM, Large Language Model, Mobile, Multi-factor, NLP (Natural Language Processing), NPU, Quant Model, Social Media, Streaming, 게임 소프트웨어, 드론, 로보틱스, 머신러닝, 메타버스, 반도체 IP, 배터리, 배터리 리사이클링, 비메모리 반도체, 빅데이터, 소프트웨어, 스마트 농업, 시스템반도체, 인공지능, 인터넷 서비스, 자동화, 자연어처리, 저탄소 기술, 전기차, 퀀트, 태양광, 플랫폼, 혁신기술\n",
      "markets: 45개\n",
      "  Asia, China, Developed Markets, Global, Hong Kong, Japan, North America, Overseas, South Korea, United States, 국내, 그리스, 글로벌, 남미, 네덜란드, 대만, 독일, 라틴아메리카, 룩셈부르크, 미국, 벨기에, 북미, 브라질, 선진국, 스페인, 신흥국, 싱가포르, 아시아, 아일랜드, 오스트리아, 유럽, 유로존, 이탈리아, 인도, 일본, 중국, 코스닥, 코스피, 포르투갈, 프랑스, 핀란드, 필리핀, 한국, 해외, 홍콩\n",
      "asset_classes: 24개\n",
      "  Equities, Equity, REITs, 구조화, 국공채, 기타, 단기, 단기채권, 대체자산, 대체투자, 리츠, 선물, 우선주, 원자재, 장기채권, 전략, 전환사채, 주식, 채권, 통화, 파생상품, 현금성 자산, 혼합자산, 회사채\n",
      "investment_themes: 106개\n",
      "  2차전지, 4차산업혁명, 4차산업혁신기술, AI, AI 소프트웨어, AI 인프라, AI반도체, Agribusiness, BBIG, Big Tech, Covered Call, Data Center, ESG, FANG+, Foundry, Innovation, Japan Tech, K-뉴딜, Leverage, Memory, Non-memory, Quality, Semiconductor, Semiconductor Equipment, TDF, TDF(타깃데이트펀드), Tech, Tech Infrastructure, Technology Leadership, e커머스, 가치, 고도화 기술, 고배당, 고현금흐름 기업, 금, 기업 지배구조 개선, 기업그룹, 기후변화, 달러인버스, 대체투자, 드라마, 레버리지, 레저, 로보틱스, 로우볼, 롱숏전략, 멀티에셋, 메가테크, 메타버스, 미디어, 바이오헬스케어, 반도체, 방산, 배당, 배터리 리사이클링, 밸류업, 밸류체인, 비메모리 반도체, 빅테크, 성장주, 소비트렌드, 소프트웨어, 스마트베타, 시가총액 상위주, 시스템반도체, 시장대표, 신성장, 신재생에너지, 안전자산, 애그테크, 업종테마, 엔터테인먼트, 여행, 연금투자, 원자력, 월 분배금, 웹툰, 인버스, 인컴, 인프라, 인플레이션, 자동화, 자산배분, 저변동성, 저탄소 경제, 전기차, 전략적 자산배분, 전력 인프라, 주주가치, 중국 내수 성장, 중국 소비, 중국 전략적 신흥산업, 중형주, 창업투자, 친환경, 커버드콜, 퀄리티, 태양광, 테크, 퓨처모빌리티, 플랫폼 비즈니스모델, 하이인컴, 헬스케어, 혼합자산, 화장품, 환율하락\n"
     ]
    }
   ],
   "execution_count": 15
  },
  {
   "cell_type": "code",
   "id": "afa243a4",
   "metadata": {
    "ExecuteTime": {
     "end_time": "2025-08-20T03:13:24.865942Z",
     "start_time": "2025-08-20T03:13:24.769897Z"
    }
   },
   "source": [
    "# ETF 데이터프레임에 엔티티 정보 추가\n",
    "\n",
    "df_with_entities = df.copy()\n",
    "for etf_id, entities in etf_entities.items():\n",
    "    # 해당 ETF 행 찾기\n",
    "    idx = df_with_entities[df_with_entities['id'] == etf_id].index\n",
    "    if len(idx) > 0:\n",
    "        # 엔티티 정보 추가 - 배열을 |로 결합하여 문자열로 저장\n",
    "        df_with_entities.loc[idx[0], 'extracted_companies'] = '|'.join(entities.companies) if entities.companies else ''\n",
    "        df_with_entities.loc[idx[0], 'extracted_sectors'] = '|'.join(entities.sectors) if entities.sectors else ''\n",
    "        df_with_entities.loc[idx[0], 'extracted_technologies'] = '|'.join(entities.technologies) if entities.technologies else ''\n",
    "        df_with_entities.loc[idx[0], 'extracted_markets'] = '|'.join(entities.markets) if entities.markets else ''\n",
    "        df_with_entities.loc[idx[0], 'extracted_asset_classes'] = '|'.join(entities.asset_classes) if entities.asset_classes else ''\n",
    "        df_with_entities.loc[idx[0], 'extracted_investment_themes'] = '|'.join(entities.investment_themes) if entities.investment_themes else ''\n",
    "\n",
    "# 엔티티가 추가된 ETF 데이터 확인\n",
    "df_with_entities.head()"
   ],
   "outputs": [
    {
     "data": {
      "text/plain": [
       "          id       korean_name                      english_name    code  \\\n",
       "0  ETF471760   TIGER AI반도체핵심공정  TIGER AI Semiconductor Core Tech  471760   \n",
       "1  ETF490090   TIGER 미국AI빅테크10           TIGER US AI BIG TECH 10  490090   \n",
       "2  ETF139240     TIGER 200철강소재                  TIGER 200 STEEL&  139240   \n",
       "3  ETF346000  HANARO KAP초장기국고채    HANARO KAP Ultra Long-term KTB  346000   \n",
       "4  ETF241180    TIGER 일본니케이225                   TIGER NIKKEI225  241180   \n",
       "\n",
       "  listing_date fund_type             index_name  tracking_multiplier  \\\n",
       "0   2023-11-21     수익증권형    iSelect AI반도체핵심공정지수                  1.0   \n",
       "1   2024-08-27     수익증권형  KEDI 미국AI빅테크10 지수(PR)                  1.0   \n",
       "2   2011-04-06     수익증권형          코스피 200 철강/소재                  1.0   \n",
       "3   2020-01-16     수익증권형   KAP 초장기 국고채 지수 (총수익)                  1.0   \n",
       "4   2016-03-31     수익증권형             Nikkei 225                  1.0   \n",
       "\n",
       "  management_company                                       ap_company  ...  \\\n",
       "0           미래에셋자산운용  미래에셋|NH|키움|하이|BNK|한국|이베스트|대신|유진|신영|DB|신한|삼성|메리츠  ...   \n",
       "1           미래에셋자산운용                                미래에셋|메리츠|키움|한국|신한  ...   \n",
       "2           미래에셋자산운용                                          현대|미래에셋  ...   \n",
       "3        엔에이치아문디자산운용                                    키움|미래에셋|유진|NH  ...   \n",
       "4           미래에셋자산운용                                            한국|대신  ...   \n",
       "\n",
       "   base_market    base_asset  \\\n",
       "0   국내|코스피|코스닥  주식|업종섹터|업종테마   \n",
       "1     해외|북미|미국  주식|업종섹터|업종테마   \n",
       "2       국내|코스피  주식|업종섹터|철강소재   \n",
       "3       국내|주식외     채권|국공채|장기   \n",
       "4    해외|아시아|일본       주식|시장대표   \n",
       "\n",
       "                                          basic_info  \\\n",
       "0  - 이 ETF는 국내에 상장된 주식을 주된 투자대상자산으로 하며, “iSelect ...   \n",
       "1  - 이 투자신탁은 KEDI(Korea Economic Daily Index)에서 발...   \n",
       "2  이 ETF는 국내 주식을 주된 투자대상자산으로 하며, “코스피 200 철강소재 지수...   \n",
       "3  이 ETF는 국내 채권을 주된 투자대상자산으로 하며, KAP 초장기국고채지수를 기초...   \n",
       "4  이 ETF는 일본 주식을 주된 투자대상자산으로 하며, \"니케이 225 지수\" 수익률...   \n",
       "\n",
       "                                   investment_notice extracted_companies  \\\n",
       "0  - 이 ETF의 수익률은 보수 또는 비용 등 이 ETF의 순자산가치에 부의 영향을 ...                       \n",
       "1  - 이 ETF의 수익률은 보수 또는 비용 등 이 ETF의 순자산가치에 부의 영향을 ...                       \n",
       "2  기초지수 수익률 추종을 위한 최적화(optimization) 과정, 해당 펀드와 관...                       \n",
       "3  이 ETF는 운용실적에 따라 손익이 결정되는 실적배당상품으로 예금자보호법에 따라 보...              한국자산평가   \n",
       "4  이 ETF의 수익률은 보수 또는 비용 등 이 ETF의 순자산가치에 부의 영향을 미치...         Nikkei Inc.   \n",
       "\n",
       "  extracted_sectors   extracted_technologies extracted_markets  \\\n",
       "0            반도체|IT                 AI|자연어처리        국내|코스피|코스닥   \n",
       "1                    AI|Large Language Model          미국|북미|해외   \n",
       "2              철강소재                                     국내|코스피   \n",
       "3                금융                                         국내   \n",
       "4                                                    일본|아시아|해외   \n",
       "\n",
       "  extracted_asset_classes extracted_investment_themes  \n",
       "0                      주식                      AI|반도체  \n",
       "1                      주식                          AI  \n",
       "2                      주식                              \n",
       "3                  채권|국공채                              \n",
       "4                      주식                              \n",
       "\n",
       "[5 rows x 23 columns]"
      ],
      "text/html": [
       "<div>\n",
       "<style scoped>\n",
       "    .dataframe tbody tr th:only-of-type {\n",
       "        vertical-align: middle;\n",
       "    }\n",
       "\n",
       "    .dataframe tbody tr th {\n",
       "        vertical-align: top;\n",
       "    }\n",
       "\n",
       "    .dataframe thead th {\n",
       "        text-align: right;\n",
       "    }\n",
       "</style>\n",
       "<table border=\"1\" class=\"dataframe\">\n",
       "  <thead>\n",
       "    <tr style=\"text-align: right;\">\n",
       "      <th></th>\n",
       "      <th>id</th>\n",
       "      <th>korean_name</th>\n",
       "      <th>english_name</th>\n",
       "      <th>code</th>\n",
       "      <th>listing_date</th>\n",
       "      <th>fund_type</th>\n",
       "      <th>index_name</th>\n",
       "      <th>tracking_multiplier</th>\n",
       "      <th>management_company</th>\n",
       "      <th>ap_company</th>\n",
       "      <th>...</th>\n",
       "      <th>base_market</th>\n",
       "      <th>base_asset</th>\n",
       "      <th>basic_info</th>\n",
       "      <th>investment_notice</th>\n",
       "      <th>extracted_companies</th>\n",
       "      <th>extracted_sectors</th>\n",
       "      <th>extracted_technologies</th>\n",
       "      <th>extracted_markets</th>\n",
       "      <th>extracted_asset_classes</th>\n",
       "      <th>extracted_investment_themes</th>\n",
       "    </tr>\n",
       "  </thead>\n",
       "  <tbody>\n",
       "    <tr>\n",
       "      <th>0</th>\n",
       "      <td>ETF471760</td>\n",
       "      <td>TIGER AI반도체핵심공정</td>\n",
       "      <td>TIGER AI Semiconductor Core Tech</td>\n",
       "      <td>471760</td>\n",
       "      <td>2023-11-21</td>\n",
       "      <td>수익증권형</td>\n",
       "      <td>iSelect AI반도체핵심공정지수</td>\n",
       "      <td>1.0</td>\n",
       "      <td>미래에셋자산운용</td>\n",
       "      <td>미래에셋|NH|키움|하이|BNK|한국|이베스트|대신|유진|신영|DB|신한|삼성|메리츠</td>\n",
       "      <td>...</td>\n",
       "      <td>국내|코스피|코스닥</td>\n",
       "      <td>주식|업종섹터|업종테마</td>\n",
       "      <td>- 이 ETF는 국내에 상장된 주식을 주된 투자대상자산으로 하며, “iSelect ...</td>\n",
       "      <td>- 이 ETF의 수익률은 보수 또는 비용 등 이 ETF의 순자산가치에 부의 영향을 ...</td>\n",
       "      <td></td>\n",
       "      <td>반도체|IT</td>\n",
       "      <td>AI|자연어처리</td>\n",
       "      <td>국내|코스피|코스닥</td>\n",
       "      <td>주식</td>\n",
       "      <td>AI|반도체</td>\n",
       "    </tr>\n",
       "    <tr>\n",
       "      <th>1</th>\n",
       "      <td>ETF490090</td>\n",
       "      <td>TIGER 미국AI빅테크10</td>\n",
       "      <td>TIGER US AI BIG TECH 10</td>\n",
       "      <td>490090</td>\n",
       "      <td>2024-08-27</td>\n",
       "      <td>수익증권형</td>\n",
       "      <td>KEDI 미국AI빅테크10 지수(PR)</td>\n",
       "      <td>1.0</td>\n",
       "      <td>미래에셋자산운용</td>\n",
       "      <td>미래에셋|메리츠|키움|한국|신한</td>\n",
       "      <td>...</td>\n",
       "      <td>해외|북미|미국</td>\n",
       "      <td>주식|업종섹터|업종테마</td>\n",
       "      <td>- 이 투자신탁은 KEDI(Korea Economic Daily Index)에서 발...</td>\n",
       "      <td>- 이 ETF의 수익률은 보수 또는 비용 등 이 ETF의 순자산가치에 부의 영향을 ...</td>\n",
       "      <td></td>\n",
       "      <td></td>\n",
       "      <td>AI|Large Language Model</td>\n",
       "      <td>미국|북미|해외</td>\n",
       "      <td>주식</td>\n",
       "      <td>AI</td>\n",
       "    </tr>\n",
       "    <tr>\n",
       "      <th>2</th>\n",
       "      <td>ETF139240</td>\n",
       "      <td>TIGER 200철강소재</td>\n",
       "      <td>TIGER 200 STEEL&amp;</td>\n",
       "      <td>139240</td>\n",
       "      <td>2011-04-06</td>\n",
       "      <td>수익증권형</td>\n",
       "      <td>코스피 200 철강/소재</td>\n",
       "      <td>1.0</td>\n",
       "      <td>미래에셋자산운용</td>\n",
       "      <td>현대|미래에셋</td>\n",
       "      <td>...</td>\n",
       "      <td>국내|코스피</td>\n",
       "      <td>주식|업종섹터|철강소재</td>\n",
       "      <td>이 ETF는 국내 주식을 주된 투자대상자산으로 하며, “코스피 200 철강소재 지수...</td>\n",
       "      <td>기초지수 수익률 추종을 위한 최적화(optimization) 과정, 해당 펀드와 관...</td>\n",
       "      <td></td>\n",
       "      <td>철강소재</td>\n",
       "      <td></td>\n",
       "      <td>국내|코스피</td>\n",
       "      <td>주식</td>\n",
       "      <td></td>\n",
       "    </tr>\n",
       "    <tr>\n",
       "      <th>3</th>\n",
       "      <td>ETF346000</td>\n",
       "      <td>HANARO KAP초장기국고채</td>\n",
       "      <td>HANARO KAP Ultra Long-term KTB</td>\n",
       "      <td>346000</td>\n",
       "      <td>2020-01-16</td>\n",
       "      <td>수익증권형</td>\n",
       "      <td>KAP 초장기 국고채 지수 (총수익)</td>\n",
       "      <td>1.0</td>\n",
       "      <td>엔에이치아문디자산운용</td>\n",
       "      <td>키움|미래에셋|유진|NH</td>\n",
       "      <td>...</td>\n",
       "      <td>국내|주식외</td>\n",
       "      <td>채권|국공채|장기</td>\n",
       "      <td>이 ETF는 국내 채권을 주된 투자대상자산으로 하며, KAP 초장기국고채지수를 기초...</td>\n",
       "      <td>이 ETF는 운용실적에 따라 손익이 결정되는 실적배당상품으로 예금자보호법에 따라 보...</td>\n",
       "      <td>한국자산평가</td>\n",
       "      <td>금융</td>\n",
       "      <td></td>\n",
       "      <td>국내</td>\n",
       "      <td>채권|국공채</td>\n",
       "      <td></td>\n",
       "    </tr>\n",
       "    <tr>\n",
       "      <th>4</th>\n",
       "      <td>ETF241180</td>\n",
       "      <td>TIGER 일본니케이225</td>\n",
       "      <td>TIGER NIKKEI225</td>\n",
       "      <td>241180</td>\n",
       "      <td>2016-03-31</td>\n",
       "      <td>수익증권형</td>\n",
       "      <td>Nikkei 225</td>\n",
       "      <td>1.0</td>\n",
       "      <td>미래에셋자산운용</td>\n",
       "      <td>한국|대신</td>\n",
       "      <td>...</td>\n",
       "      <td>해외|아시아|일본</td>\n",
       "      <td>주식|시장대표</td>\n",
       "      <td>이 ETF는 일본 주식을 주된 투자대상자산으로 하며, \"니케이 225 지수\" 수익률...</td>\n",
       "      <td>이 ETF의 수익률은 보수 또는 비용 등 이 ETF의 순자산가치에 부의 영향을 미치...</td>\n",
       "      <td>Nikkei Inc.</td>\n",
       "      <td></td>\n",
       "      <td></td>\n",
       "      <td>일본|아시아|해외</td>\n",
       "      <td>주식</td>\n",
       "      <td></td>\n",
       "    </tr>\n",
       "  </tbody>\n",
       "</table>\n",
       "<p>5 rows × 23 columns</p>\n",
       "</div>"
      ]
     },
     "execution_count": 16,
     "metadata": {},
     "output_type": "execute_result"
    }
   ],
   "execution_count": 16
  },
  {
   "cell_type": "code",
   "id": "72206f78",
   "metadata": {
    "ExecuteTime": {
     "end_time": "2025-08-20T03:13:41.864480Z",
     "start_time": "2025-08-20T03:13:41.854034Z"
    }
   },
   "source": [
    "# 데이터프레임 저장\n",
    "df_with_entities.to_csv(\"data/etf_with_extracted_entities.csv\", index=False, encoding='utf-8-sig')"
   ],
   "outputs": [],
   "execution_count": 18
  },
  {
   "cell_type": "markdown",
   "id": "651867be",
   "metadata": {},
   "source": [
    "### 2.2 KG 온톨로지 구현"
   ]
  },
  {
   "cell_type": "markdown",
   "id": "e0ac5237",
   "metadata": {},
   "source": [
    "#### 1) **스키마 정의**\n",
    "\n",
    "- **노드 유형**:\n",
    "  - ETF: 상장지수펀드 정보를 담는 노드 (id, 이름, 코드, 상장일 등 속성 포함)\n",
    "  - AssetManager: 자산운용사 정보를 담는 노드 (이름, 관리 ETF 수 등 속성 포함)\n",
    "  - Sector: 산업 섹터 정보 노드 (예: AI 프로세스칩, 시스템 반도체)\n",
    "  - Technology: 기술 정보 노드 (예: AI, 자연어처리)\n",
    "  - Market: 시장 정보 노드 (예: 국내, 해외, 코스피)\n",
    "  - AssetClass: 자산 유형 노드 (예: 주식, 채권)\n",
    "  - InvestmentTheme: 투자 테마 노드 (예: AI)\n",
    "\n",
    "- **관계 유형**:\n",
    "  - MANAGED_BY: ETF와 자산운용사 간의 관계 (ETF → AssetManager)\n",
    "  - FOCUSES_ON: ETF와 섹터/기술/테마 간의 관계 (ETF → Sector/Technology/InvestmentTheme)\n",
    "  - INVESTS_IN: ETF와 시장/자산유형 간의 관계 (ETF → Market/AssetClass)"
   ]
  },
  {
   "cell_type": "code",
   "id": "e21b43cb",
   "metadata": {
    "ExecuteTime": {
     "end_time": "2025-08-20T03:13:53.116036Z",
     "start_time": "2025-08-20T03:13:53.096518Z"
    }
   },
   "source": [
    "# 데이터프레임 로드\n",
    "import pandas as pd\n",
    "df_with_entities = pd.read_csv(\"data/etf_with_extracted_entities.csv\", encoding='utf-8-sig')\n",
    "\n",
    "df_with_entities.head()"
   ],
   "outputs": [
    {
     "data": {
      "text/plain": [
       "          id       korean_name                      english_name    code  \\\n",
       "0  ETF471760   TIGER AI반도체핵심공정  TIGER AI Semiconductor Core Tech  471760   \n",
       "1  ETF490090   TIGER 미국AI빅테크10           TIGER US AI BIG TECH 10  490090   \n",
       "2  ETF139240     TIGER 200철강소재                  TIGER 200 STEEL&  139240   \n",
       "3  ETF346000  HANARO KAP초장기국고채    HANARO KAP Ultra Long-term KTB  346000   \n",
       "4  ETF241180    TIGER 일본니케이225                   TIGER NIKKEI225  241180   \n",
       "\n",
       "  listing_date fund_type             index_name  tracking_multiplier  \\\n",
       "0   2023-11-21     수익증권형    iSelect AI반도체핵심공정지수                  1.0   \n",
       "1   2024-08-27     수익증권형  KEDI 미국AI빅테크10 지수(PR)                  1.0   \n",
       "2   2011-04-06     수익증권형          코스피 200 철강/소재                  1.0   \n",
       "3   2020-01-16     수익증권형   KAP 초장기 국고채 지수 (총수익)                  1.0   \n",
       "4   2016-03-31     수익증권형             Nikkei 225                  1.0   \n",
       "\n",
       "  management_company                                       ap_company  ...  \\\n",
       "0           미래에셋자산운용  미래에셋|NH|키움|하이|BNK|한국|이베스트|대신|유진|신영|DB|신한|삼성|메리츠  ...   \n",
       "1           미래에셋자산운용                                미래에셋|메리츠|키움|한국|신한  ...   \n",
       "2           미래에셋자산운용                                          현대|미래에셋  ...   \n",
       "3        엔에이치아문디자산운용                                    키움|미래에셋|유진|NH  ...   \n",
       "4           미래에셋자산운용                                            한국|대신  ...   \n",
       "\n",
       "   base_market    base_asset  \\\n",
       "0   국내|코스피|코스닥  주식|업종섹터|업종테마   \n",
       "1     해외|북미|미국  주식|업종섹터|업종테마   \n",
       "2       국내|코스피  주식|업종섹터|철강소재   \n",
       "3       국내|주식외     채권|국공채|장기   \n",
       "4    해외|아시아|일본       주식|시장대표   \n",
       "\n",
       "                                          basic_info  \\\n",
       "0  - 이 ETF는 국내에 상장된 주식을 주된 투자대상자산으로 하며, “iSelect ...   \n",
       "1  - 이 투자신탁은 KEDI(Korea Economic Daily Index)에서 발...   \n",
       "2  이 ETF는 국내 주식을 주된 투자대상자산으로 하며, “코스피 200 철강소재 지수...   \n",
       "3  이 ETF는 국내 채권을 주된 투자대상자산으로 하며, KAP 초장기국고채지수를 기초...   \n",
       "4  이 ETF는 일본 주식을 주된 투자대상자산으로 하며, \"니케이 225 지수\" 수익률...   \n",
       "\n",
       "                                   investment_notice extracted_companies  \\\n",
       "0  - 이 ETF의 수익률은 보수 또는 비용 등 이 ETF의 순자산가치에 부의 영향을 ...                 NaN   \n",
       "1  - 이 ETF의 수익률은 보수 또는 비용 등 이 ETF의 순자산가치에 부의 영향을 ...                 NaN   \n",
       "2  기초지수 수익률 추종을 위한 최적화(optimization) 과정, 해당 펀드와 관...                 NaN   \n",
       "3  이 ETF는 운용실적에 따라 손익이 결정되는 실적배당상품으로 예금자보호법에 따라 보...              한국자산평가   \n",
       "4  이 ETF의 수익률은 보수 또는 비용 등 이 ETF의 순자산가치에 부의 영향을 미치...         Nikkei Inc.   \n",
       "\n",
       "  extracted_sectors   extracted_technologies extracted_markets  \\\n",
       "0            반도체|IT                 AI|자연어처리        국내|코스피|코스닥   \n",
       "1               NaN  AI|Large Language Model          미국|북미|해외   \n",
       "2              철강소재                      NaN            국내|코스피   \n",
       "3                금융                      NaN                국내   \n",
       "4               NaN                      NaN         일본|아시아|해외   \n",
       "\n",
       "  extracted_asset_classes extracted_investment_themes  \n",
       "0                      주식                      AI|반도체  \n",
       "1                      주식                          AI  \n",
       "2                      주식                         NaN  \n",
       "3                  채권|국공채                         NaN  \n",
       "4                      주식                         NaN  \n",
       "\n",
       "[5 rows x 23 columns]"
      ],
      "text/html": [
       "<div>\n",
       "<style scoped>\n",
       "    .dataframe tbody tr th:only-of-type {\n",
       "        vertical-align: middle;\n",
       "    }\n",
       "\n",
       "    .dataframe tbody tr th {\n",
       "        vertical-align: top;\n",
       "    }\n",
       "\n",
       "    .dataframe thead th {\n",
       "        text-align: right;\n",
       "    }\n",
       "</style>\n",
       "<table border=\"1\" class=\"dataframe\">\n",
       "  <thead>\n",
       "    <tr style=\"text-align: right;\">\n",
       "      <th></th>\n",
       "      <th>id</th>\n",
       "      <th>korean_name</th>\n",
       "      <th>english_name</th>\n",
       "      <th>code</th>\n",
       "      <th>listing_date</th>\n",
       "      <th>fund_type</th>\n",
       "      <th>index_name</th>\n",
       "      <th>tracking_multiplier</th>\n",
       "      <th>management_company</th>\n",
       "      <th>ap_company</th>\n",
       "      <th>...</th>\n",
       "      <th>base_market</th>\n",
       "      <th>base_asset</th>\n",
       "      <th>basic_info</th>\n",
       "      <th>investment_notice</th>\n",
       "      <th>extracted_companies</th>\n",
       "      <th>extracted_sectors</th>\n",
       "      <th>extracted_technologies</th>\n",
       "      <th>extracted_markets</th>\n",
       "      <th>extracted_asset_classes</th>\n",
       "      <th>extracted_investment_themes</th>\n",
       "    </tr>\n",
       "  </thead>\n",
       "  <tbody>\n",
       "    <tr>\n",
       "      <th>0</th>\n",
       "      <td>ETF471760</td>\n",
       "      <td>TIGER AI반도체핵심공정</td>\n",
       "      <td>TIGER AI Semiconductor Core Tech</td>\n",
       "      <td>471760</td>\n",
       "      <td>2023-11-21</td>\n",
       "      <td>수익증권형</td>\n",
       "      <td>iSelect AI반도체핵심공정지수</td>\n",
       "      <td>1.0</td>\n",
       "      <td>미래에셋자산운용</td>\n",
       "      <td>미래에셋|NH|키움|하이|BNK|한국|이베스트|대신|유진|신영|DB|신한|삼성|메리츠</td>\n",
       "      <td>...</td>\n",
       "      <td>국내|코스피|코스닥</td>\n",
       "      <td>주식|업종섹터|업종테마</td>\n",
       "      <td>- 이 ETF는 국내에 상장된 주식을 주된 투자대상자산으로 하며, “iSelect ...</td>\n",
       "      <td>- 이 ETF의 수익률은 보수 또는 비용 등 이 ETF의 순자산가치에 부의 영향을 ...</td>\n",
       "      <td>NaN</td>\n",
       "      <td>반도체|IT</td>\n",
       "      <td>AI|자연어처리</td>\n",
       "      <td>국내|코스피|코스닥</td>\n",
       "      <td>주식</td>\n",
       "      <td>AI|반도체</td>\n",
       "    </tr>\n",
       "    <tr>\n",
       "      <th>1</th>\n",
       "      <td>ETF490090</td>\n",
       "      <td>TIGER 미국AI빅테크10</td>\n",
       "      <td>TIGER US AI BIG TECH 10</td>\n",
       "      <td>490090</td>\n",
       "      <td>2024-08-27</td>\n",
       "      <td>수익증권형</td>\n",
       "      <td>KEDI 미국AI빅테크10 지수(PR)</td>\n",
       "      <td>1.0</td>\n",
       "      <td>미래에셋자산운용</td>\n",
       "      <td>미래에셋|메리츠|키움|한국|신한</td>\n",
       "      <td>...</td>\n",
       "      <td>해외|북미|미국</td>\n",
       "      <td>주식|업종섹터|업종테마</td>\n",
       "      <td>- 이 투자신탁은 KEDI(Korea Economic Daily Index)에서 발...</td>\n",
       "      <td>- 이 ETF의 수익률은 보수 또는 비용 등 이 ETF의 순자산가치에 부의 영향을 ...</td>\n",
       "      <td>NaN</td>\n",
       "      <td>NaN</td>\n",
       "      <td>AI|Large Language Model</td>\n",
       "      <td>미국|북미|해외</td>\n",
       "      <td>주식</td>\n",
       "      <td>AI</td>\n",
       "    </tr>\n",
       "    <tr>\n",
       "      <th>2</th>\n",
       "      <td>ETF139240</td>\n",
       "      <td>TIGER 200철강소재</td>\n",
       "      <td>TIGER 200 STEEL&amp;</td>\n",
       "      <td>139240</td>\n",
       "      <td>2011-04-06</td>\n",
       "      <td>수익증권형</td>\n",
       "      <td>코스피 200 철강/소재</td>\n",
       "      <td>1.0</td>\n",
       "      <td>미래에셋자산운용</td>\n",
       "      <td>현대|미래에셋</td>\n",
       "      <td>...</td>\n",
       "      <td>국내|코스피</td>\n",
       "      <td>주식|업종섹터|철강소재</td>\n",
       "      <td>이 ETF는 국내 주식을 주된 투자대상자산으로 하며, “코스피 200 철강소재 지수...</td>\n",
       "      <td>기초지수 수익률 추종을 위한 최적화(optimization) 과정, 해당 펀드와 관...</td>\n",
       "      <td>NaN</td>\n",
       "      <td>철강소재</td>\n",
       "      <td>NaN</td>\n",
       "      <td>국내|코스피</td>\n",
       "      <td>주식</td>\n",
       "      <td>NaN</td>\n",
       "    </tr>\n",
       "    <tr>\n",
       "      <th>3</th>\n",
       "      <td>ETF346000</td>\n",
       "      <td>HANARO KAP초장기국고채</td>\n",
       "      <td>HANARO KAP Ultra Long-term KTB</td>\n",
       "      <td>346000</td>\n",
       "      <td>2020-01-16</td>\n",
       "      <td>수익증권형</td>\n",
       "      <td>KAP 초장기 국고채 지수 (총수익)</td>\n",
       "      <td>1.0</td>\n",
       "      <td>엔에이치아문디자산운용</td>\n",
       "      <td>키움|미래에셋|유진|NH</td>\n",
       "      <td>...</td>\n",
       "      <td>국내|주식외</td>\n",
       "      <td>채권|국공채|장기</td>\n",
       "      <td>이 ETF는 국내 채권을 주된 투자대상자산으로 하며, KAP 초장기국고채지수를 기초...</td>\n",
       "      <td>이 ETF는 운용실적에 따라 손익이 결정되는 실적배당상품으로 예금자보호법에 따라 보...</td>\n",
       "      <td>한국자산평가</td>\n",
       "      <td>금융</td>\n",
       "      <td>NaN</td>\n",
       "      <td>국내</td>\n",
       "      <td>채권|국공채</td>\n",
       "      <td>NaN</td>\n",
       "    </tr>\n",
       "    <tr>\n",
       "      <th>4</th>\n",
       "      <td>ETF241180</td>\n",
       "      <td>TIGER 일본니케이225</td>\n",
       "      <td>TIGER NIKKEI225</td>\n",
       "      <td>241180</td>\n",
       "      <td>2016-03-31</td>\n",
       "      <td>수익증권형</td>\n",
       "      <td>Nikkei 225</td>\n",
       "      <td>1.0</td>\n",
       "      <td>미래에셋자산운용</td>\n",
       "      <td>한국|대신</td>\n",
       "      <td>...</td>\n",
       "      <td>해외|아시아|일본</td>\n",
       "      <td>주식|시장대표</td>\n",
       "      <td>이 ETF는 일본 주식을 주된 투자대상자산으로 하며, \"니케이 225 지수\" 수익률...</td>\n",
       "      <td>이 ETF의 수익률은 보수 또는 비용 등 이 ETF의 순자산가치에 부의 영향을 미치...</td>\n",
       "      <td>Nikkei Inc.</td>\n",
       "      <td>NaN</td>\n",
       "      <td>NaN</td>\n",
       "      <td>일본|아시아|해외</td>\n",
       "      <td>주식</td>\n",
       "      <td>NaN</td>\n",
       "    </tr>\n",
       "  </tbody>\n",
       "</table>\n",
       "<p>5 rows × 23 columns</p>\n",
       "</div>"
      ]
     },
     "execution_count": 20,
     "metadata": {},
     "output_type": "execute_result"
    }
   ],
   "execution_count": 20
  },
  {
   "cell_type": "markdown",
   "id": "ff5dc97f",
   "metadata": {},
   "source": [
    "#### 2) **제약조건 설정**"
   ]
  },
  {
   "cell_type": "code",
   "id": "5a42c28e",
   "metadata": {
    "ExecuteTime": {
     "end_time": "2025-08-20T03:13:56.146272Z",
     "start_time": "2025-08-20T03:13:55.713548Z"
    }
   },
   "source": [
    "# Neo4j 데이터베이스에 Cypher 쿼리를 사용하여 제약조건 설정\n",
    "# 제약조건은 노드의 특정 속성이 고유(UNIQUE)하도록 보장하여 데이터 중복을 방지함\n",
    "constraints = [\n",
    "    # ETF 노드의 id 속성이 고유하도록 제약조건 설정\n",
    "    # 이를 통해 동일한 id를 가진 ETF가 중복 저장되는 것을 방지\n",
    "    \"CREATE CONSTRAINT IF NOT EXISTS FOR (e:ETF) REQUIRE e.id IS UNIQUE\",\n",
    "    \n",
    "    # AssetManager 노드의 id 속성이 고유하도록 제약조건 설정\n",
    "    # 동일한 id의 자산운용사가 여러 번 생성되는 것을 방지\n",
    "    \"CREATE CONSTRAINT IF NOT EXISTS FOR (c:AssetManager) REQUIRE c.id IS UNIQUE\",\n",
    "    \n",
    "    # Sector 노드의 id 속성이 고유하도록 제약조건 설정\n",
    "    # 동일한 id의 섹터가 중복 생성되는 것을 방지\n",
    "    \"CREATE CONSTRAINT IF NOT EXISTS FOR (s:Sector) REQUIRE s.id IS UNIQUE\",\n",
    "    \n",
    "    # Technology 노드의 id 속성이 고유하도록 제약조건 설정\n",
    "    # 동일한 id의 기술이 중복 생성되는 것을 방지\n",
    "    \"CREATE CONSTRAINT IF NOT EXISTS FOR (t:Technology) REQUIRE t.id IS UNIQUE\",\n",
    "    \n",
    "    # Market 노드의 id 속성이 고유하도록 제약조건 설정\n",
    "    # 동일한 id의 시장이 중복 생성되는 것을 방지\n",
    "    \"CREATE CONSTRAINT IF NOT EXISTS FOR (m:Market) REQUIRE m.id IS UNIQUE\",\n",
    "    \n",
    "    # AssetClass 노드의 id 속성이 고유하도록 제약조건 설정\n",
    "    # 동일한 id의 자산 클래스가 중복 생성되는 것을 방지\n",
    "    \"CREATE CONSTRAINT IF NOT EXISTS FOR (a:AssetClass) REQUIRE a.id IS UNIQUE\",\n",
    "    \n",
    "    # InvestmentTheme 노드의 id 속성이 고유하도록 제약조건 설정\n",
    "    # 동일한 id의 투자 테마가 중복 생성되는 것을 방지\n",
    "    \"CREATE CONSTRAINT IF NOT EXISTS FOR (i:InvestmentTheme) REQUIRE i.id IS UNIQUE\",\n",
    "]\n",
    "\n",
    "# 정의된 모든 제약조건을 순회하며 Neo4j 데이터베이스에 적용\n",
    "# graph.query() 메서드를 사용하여 각 Cypher 쿼리를 실행\n",
    "for constraint in constraints:\n",
    "    graph.query(constraint)"
   ],
   "outputs": [],
   "execution_count": 21
  },
  {
   "cell_type": "code",
   "id": "7c893a13",
   "metadata": {
    "ExecuteTime": {
     "end_time": "2025-08-20T03:13:59.596148Z",
     "start_time": "2025-08-20T03:13:58.566767Z"
    }
   },
   "source": [
    "from langchain_neo4j.graphs.graph_document import GraphDocument, Node, Relationship\n",
    "from langchain_core.documents import Document\n",
    "from tqdm import tqdm\n",
    "import pandas as pd\n",
    "import numpy as np\n",
    "\n",
    "# 중복 노드 생성을 방지하기 위한 딕셔너리 초기화\n",
    "node_dict = {}  # 노드 ID를 키로 사용하여 생성된 노드 객체를 저장\n",
    "\n",
    "# 노드 간 관계를 저장할 리스트 초기화\n",
    "relationships = []\n",
    "\n",
    "# ETF 데이터프레임을 순회하며 그래프 구조로 변환\n",
    "for _, row in tqdm(df_with_entities.iterrows(), total=len(df_with_entities), desc=\"ETF 온톨로지 구축 중\"):\n",
    "    # ETF ID 생성\n",
    "    etf_id = row['id']\n",
    "    \n",
    "    # ETF 노드 생성 (이미 존재하는지 확인하여 중복 방지)\n",
    "    if etf_id not in node_dict:\n",
    "        # ETF 노드 속성 설정\n",
    "        etf_properties = {\n",
    "            \"id\": etf_id,\n",
    "            \"name\": row['korean_name'],\n",
    "            \"english_name\": row['english_name'],\n",
    "            \"code\": row['code'],\n",
    "            \"listing_date\": row['listing_date'],\n",
    "            \"fund_type\": row['fund_type'],\n",
    "            \"total_fee\": row['total_fee'],\n",
    "            \"website\": row['website'],\n",
    "            \"basic_info\": row['basic_info'],\n",
    "            \"investment_notice\": row['investment_notice'],\n",
    "            \"index_name\": row['index_name'],\n",
    "            \"tracking_multiplier\": row['tracking_multiplier'],\n",
    "            \"ap_company\": row['ap_company'],\n",
    "            \"tax_type\": row['tax_type'],\n",
    "            \"base_market\": row['base_market'],\n",
    "            \"base_asset\": row['base_asset'],\n",
    "        }\n",
    "        \n",
    "        # ETF 노드 객체 생성\n",
    "        etf_node = Node(\n",
    "            id=etf_id,\n",
    "            type=\"ETF\",  # 노드 유형 지정\n",
    "            properties=etf_properties\n",
    "        )\n",
    "        \n",
    "        # 생성된 ETF 노드를 딕셔너리에 저장\n",
    "        node_dict[etf_id] = etf_node\n",
    "    \n",
    "    # 자산운용사 노드 생성 및 연결\n",
    "    if 'management_company' in row and pd.notna(row['management_company']):\n",
    "        company_name = row['management_company']\n",
    "        company_id = f\"company-{company_name}\"\n",
    "        \n",
    "        # 자산운용사 노드가 아직 생성되지 않았다면 새로 생성\n",
    "        if company_id not in node_dict:\n",
    "            company_node = Node(\n",
    "                id=company_id,\n",
    "                type=\"AssetManager\",\n",
    "                properties={\"name\": company_name}\n",
    "            )\n",
    "            node_dict[company_id] = company_node\n",
    "        \n",
    "        # ETF와 자산운용사 간의 'MANAGED_BY' 관계 생성 (ETF → AssetManager)\n",
    "        relationships.append(\n",
    "            Relationship(\n",
    "                source=node_dict[etf_id],\n",
    "                target=node_dict[company_id],\n",
    "                type=\"MANAGED_BY\",\n",
    "                properties={}\n",
    "            )\n",
    "        )\n",
    "    \n",
    "    # 섹터 노드 생성 및 연결\n",
    "    if 'extracted_sectors' in row and pd.notna(row['extracted_sectors']):\n",
    "        sectors = str(row['extracted_sectors']).split('|')\n",
    "        for sector in sectors:\n",
    "            if not sector:\n",
    "                continue\n",
    "            sector_id = f\"sector-{sector}\"\n",
    "            \n",
    "            # 섹터 노드가 아직 생성되지 않았다면 새로 생성\n",
    "            if sector_id not in node_dict:\n",
    "                sector_node = Node(\n",
    "                    id=sector_id,\n",
    "                    type=\"Sector\",\n",
    "                    properties={\"name\": sector}\n",
    "                )\n",
    "                node_dict[sector_id] = sector_node\n",
    "            \n",
    "            # ETF와 섹터 간의 'FOCUSES_ON' 관계 생성 (ETF → Sector)\n",
    "            relationships.append(\n",
    "                Relationship(\n",
    "                    source=node_dict[etf_id],\n",
    "                    target=node_dict[sector_id],\n",
    "                    type=\"FOCUSES_ON\",\n",
    "                    properties={}\n",
    "                )\n",
    "            )\n",
    "    \n",
    "    # 기술 노드 생성 및 연결\n",
    "    if 'extracted_technologies' in row and pd.notna(row['extracted_technologies']):\n",
    "        technologies = str(row['extracted_technologies']).split('|')\n",
    "        for tech in technologies:\n",
    "            if not tech:\n",
    "                continue\n",
    "            tech_id = f\"tech-{tech}\"\n",
    "            \n",
    "            # 기술 노드가 아직 생성되지 않았다면 새로 생성\n",
    "            if tech_id not in node_dict:\n",
    "                tech_node = Node(\n",
    "                    id=tech_id,\n",
    "                    type=\"Technology\",\n",
    "                    properties={\"name\": tech}\n",
    "                )\n",
    "                node_dict[tech_id] = tech_node\n",
    "            \n",
    "            # ETF와 기술 간의 'FOCUSES_ON' 관계 생성 (ETF → Technology)\n",
    "            relationships.append(\n",
    "                Relationship(\n",
    "                    source=node_dict[etf_id],\n",
    "                    target=node_dict[tech_id],\n",
    "                    type=\"FOCUSES_ON\",\n",
    "                    properties={}\n",
    "                )\n",
    "            )\n",
    "    \n",
    "    # 시장 노드 생성 및 연결\n",
    "    if 'extracted_markets' in row and pd.notna(row['extracted_markets']):\n",
    "        markets = str(row['extracted_markets']).split('|')\n",
    "        for market in markets:\n",
    "            if not market:\n",
    "                continue\n",
    "            market_id = f\"market-{market}\"\n",
    "            \n",
    "            # 시장 노드가 아직 생성되지 않았다면 새로 생성\n",
    "            if market_id not in node_dict:\n",
    "                market_node = Node(\n",
    "                    id=market_id,\n",
    "                    type=\"Market\",\n",
    "                    properties={\"name\": market}\n",
    "                )\n",
    "                node_dict[market_id] = market_node\n",
    "            \n",
    "            # ETF와 시장 간의 'INVESTS_IN' 관계 생성 (ETF → Market)\n",
    "            relationships.append(\n",
    "                Relationship(\n",
    "                    source=node_dict[etf_id],\n",
    "                    target=node_dict[market_id],\n",
    "                    type=\"INVESTS_IN\",\n",
    "                    properties={}\n",
    "                )\n",
    "            )\n",
    "    \n",
    "    # 자산 유형 노드 생성 및 연결\n",
    "    if 'extracted_asset_classes' in row and pd.notna(row['extracted_asset_classes']):\n",
    "        asset_classes = str(row['extracted_asset_classes']).split('|')\n",
    "        for asset_class in asset_classes:\n",
    "            if not asset_class:\n",
    "                continue\n",
    "            asset_id = f\"asset-{asset_class}\"\n",
    "            \n",
    "            # 자산 유형 노드가 아직 생성되지 않았다면 새로 생성\n",
    "            if asset_id not in node_dict:\n",
    "                asset_node = Node(\n",
    "                    id=asset_id,\n",
    "                    type=\"AssetClass\",\n",
    "                    properties={\"name\": asset_class}\n",
    "                )\n",
    "                node_dict[asset_id] = asset_node\n",
    "            \n",
    "            # ETF와 자산 유형 간의 'INVESTS_IN' 관계 생성 (ETF → AssetClass)\n",
    "            relationships.append(\n",
    "                Relationship(\n",
    "                    source=node_dict[etf_id],\n",
    "                    target=node_dict[asset_id],\n",
    "                    type=\"INVESTS_IN\",\n",
    "                    properties={}\n",
    "                )\n",
    "            )\n",
    "    \n",
    "    # 투자 테마 노드 생성 및 연결\n",
    "    if 'extracted_investment_themes' in row and pd.notna(row['extracted_investment_themes']):\n",
    "        themes = str(row['extracted_investment_themes']).split('|')\n",
    "        for theme in themes:\n",
    "            if not theme:\n",
    "                continue\n",
    "            theme_id = f\"theme-{theme}\"\n",
    "            \n",
    "            # 투자 테마 노드가 아직 생성되지 않았다면 새로 생성\n",
    "            if theme_id not in node_dict:\n",
    "                theme_node = Node(\n",
    "                    id=theme_id,\n",
    "                    type=\"InvestmentTheme\",\n",
    "                    properties={\"name\": theme}\n",
    "                )\n",
    "                node_dict[theme_id] = theme_node\n",
    "            \n",
    "            # ETF와 투자 테마 간의 'FOCUSES_ON' 관계 생성 (ETF → InvestmentTheme)\n",
    "            relationships.append(\n",
    "                Relationship(\n",
    "                    source=node_dict[etf_id],\n",
    "                    target=node_dict[theme_id],\n",
    "                    type=\"FOCUSES_ON\",\n",
    "                    properties={}\n",
    "                )\n",
    "            )\n",
    "\n",
    "# 노드 딕셔너리에서 모든 노드 객체를 리스트 형태로 추출\n",
    "nodes = list(node_dict.values())\n",
    "\n",
    "# GraphDocument 객체 생성\n",
    "graph_doc = GraphDocument(\n",
    "    nodes=nodes,\n",
    "    relationships=relationships\n",
    ")\n",
    "\n",
    "# 생성된 GraphDocument를 Neo4j 데이터베이스에 저장\n",
    "graph.add_graph_documents([graph_doc])\n",
    "\n",
    "print(f\"총 노드 수: {len(node_dict)}\")\n",
    "print(f\"총 관계 수: {len(relationships)}\")\n",
    "print(\"ETF 온톨로지 구축 완료!\")"
   ],
   "outputs": [
    {
     "name": "stderr",
     "output_type": "stream",
     "text": [
      "ETF 온톨로지 구축 중: 100%|██████████| 200/200 [00:00<00:00, 14264.16it/s]\n"
     ]
    },
    {
     "name": "stdout",
     "output_type": "stream",
     "text": [
      "총 노드 수: 529\n",
      "총 관계 수: 1297\n",
      "ETF 온톨로지 구축 완료!\n"
     ]
    }
   ],
   "execution_count": 22
  },
  {
   "cell_type": "code",
   "id": "0a9d9603",
   "metadata": {
    "ExecuteTime": {
     "end_time": "2025-08-20T03:14:05.620480Z",
     "start_time": "2025-08-20T03:14:05.310786Z"
    }
   },
   "source": [
    "# Neo4j 데이터베이스의 현재 스키마 정보를 새로고침하여 최신 상태로 업데이트\n",
    "graph.refresh_schema()\n",
    "print(graph.schema)"
   ],
   "outputs": [
    {
     "name": "stdout",
     "output_type": "stream",
     "text": [
      "Node properties:\n",
      "- **ETF**\n",
      "  - `id`: STRING Example: \"ETF471760\"\n",
      "  - `website`: STRING Example: \"http://www.tigeretf.com\"\n",
      "  - `code`: INTEGER Min: 69500, Max: 499150\n",
      "  - `basic_info`: STRING Example: \"- 이 ETF는 국내에 상장된 주식을 주된 투자대상자산으로 하며, “iSelect AI반도\"\n",
      "  - `tracking_multiplier`: FLOAT Min: 1.0, Max: 2.0\n",
      "  - `fund_type`: STRING Available options: ['수익증권형']\n",
      "  - `english_name`: STRING Example: \"TIGER AI Semiconductor Core Tech\"\n",
      "  - `base_asset`: STRING Example: \"주식|업종섹터|업종테마\"\n",
      "  - `tax_type`: STRING Available options: ['비과세', '배당소득세(보유기간과세)', '배당소득세(해외주식투자전용ETF)', '배당소득세(분리과세부동산ETF)']\n",
      "  - `ap_company`: STRING Example: \"미래에셋|NH|키움|하이|BNK|한국|이베스트|대신|유진|신영|DB|신한|삼성|메리츠\"\n",
      "  - `total_fee`: FLOAT Min: 0.0099, Max: 0.99\n",
      "  - `name`: STRING Example: \"TIGER AI반도체핵심공정\"\n",
      "  - `base_market`: STRING Example: \"국내|코스피|코스닥\"\n",
      "  - `listing_date`: STRING Example: \"2023-11-21\"\n",
      "  - `investment_notice`: STRING Example: \"- 이 ETF의 수익률은 보수 또는 비용 등 이 ETF의 순자산가치에 부의 영향을 미치는 \"\n",
      "  - `index_name`: STRING Example: \"iSelect AI반도체핵심공정지수\"\n",
      "- **AssetManager**\n",
      "  - `id`: STRING Example: \"company-미래에셋자산운용\"\n",
      "  - `name`: STRING Example: \"미래에셋자산운용\"\n",
      "- **Sector**\n",
      "  - `id`: STRING Example: \"sector-반도체\"\n",
      "  - `name`: STRING Example: \"반도체\"\n",
      "- **Technology**\n",
      "  - `id`: STRING Example: \"tech-AI\"\n",
      "  - `name`: STRING Example: \"AI\"\n",
      "- **Market**\n",
      "  - `id`: STRING Example: \"market-국내\"\n",
      "  - `name`: STRING Example: \"국내\"\n",
      "- **AssetClass**\n",
      "  - `id`: STRING Example: \"asset-주식\"\n",
      "  - `name`: STRING Example: \"주식\"\n",
      "- **InvestmentTheme**\n",
      "  - `id`: STRING Example: \"theme-AI\"\n",
      "  - `name`: STRING Example: \"AI\"\n",
      "Relationship properties:\n",
      "\n",
      "The relationships:\n",
      "(:ETF)-[:MANAGED_BY]->(:AssetManager)\n",
      "(:ETF)-[:FOCUSES_ON]->(:Sector)\n",
      "(:ETF)-[:FOCUSES_ON]->(:Technology)\n",
      "(:ETF)-[:FOCUSES_ON]->(:InvestmentTheme)\n",
      "(:ETF)-[:INVESTS_IN]->(:Market)\n",
      "(:ETF)-[:INVESTS_IN]->(:AssetClass)\n"
     ]
    }
   ],
   "execution_count": 23
  },
  {
   "cell_type": "code",
   "id": "ba45dfd2",
   "metadata": {
    "ExecuteTime": {
     "end_time": "2025-08-20T03:14:24.165977Z",
     "start_time": "2025-08-20T03:14:24.135852Z"
    }
   },
   "source": [
    "# AI 관련 ETF 검색 예시\n",
    "cypher_query = \"\"\"\n",
    "// ETF 노드와 Technology 노드 간의 FOCUSES_ON 관계를 가진 패턴 매칭\n",
    "MATCH (e:ETF)-[:FOCUSES_ON]->(t:Technology)\n",
    "// 기술 이름에 'AI' 또는 '인공지능'이 포함된 노드만 필터링\n",
    "WHERE t.name CONTAINS 'AI' OR t.name CONTAINS '인공지능'\n",
    "// ETF의 id, 이름, 영문 이름, 코드 정보 반환\n",
    "RETURN e.id, e.name, e.english_name, e.code\n",
    "// 이름을 기준으로 오름차순 정렬\n",
    "ORDER BY e.name\n",
    "\"\"\"\n",
    "# Neo4j 데이터베이스에 쿼리 실행\n",
    "result = graph.query(cypher_query)\n",
    "\n",
    "# 결과 출력\n",
    "for row in result:\n",
    "    print(row)"
   ],
   "outputs": [
    {
     "name": "stdout",
     "output_type": "stream",
     "text": [
      "{'e.id': 'ETF407160', 'e.name': 'KCGI 테크미디어텔레콤액티브', 'e.english_name': 'KCGI TMT Active', 'e.code': 407160}\n",
      "{'e.id': 'ETF483280', 'e.name': 'KODEX 미국AI테크TOP10타겟커버드콜', 'e.english_name': 'KODEX US AI TECH 10 TARGET COVERED CALL', 'e.code': 483280}\n",
      "{'e.id': 'ETF479620', 'e.name': 'SOL 미국AI반도체칩메이커', 'e.english_name': 'SOL US AI Semiconductor Chip Makers', 'e.code': 479620}\n",
      "{'e.id': 'ETF481180', 'e.name': 'SOL 미국AI소프트웨어', 'e.english_name': 'SOL US AI Software', 'e.code': 481180}\n",
      "{'e.id': 'ETF481180', 'e.name': 'SOL 미국AI소프트웨어', 'e.english_name': 'SOL US AI Software', 'e.code': 481180}\n",
      "{'e.id': 'ETF486450', 'e.name': 'SOL 미국AI전력인프라', 'e.english_name': 'SOL US AI Electric Power Infrastructure', 'e.code': 486450}\n",
      "{'e.id': 'ETF471760', 'e.name': 'TIGER AI반도체핵심공정', 'e.english_name': 'TIGER AI Semiconductor Core Tech', 'e.code': 471760}\n",
      "{'e.id': 'ETF464310', 'e.name': 'TIGER 글로벌AI&로보틱스 INDXX', 'e.english_name': 'TIGER Global AI & Robotics', 'e.code': 464310}\n",
      "{'e.id': 'ETF491010', 'e.name': 'TIGER 글로벌AI인프라액티브', 'e.english_name': 'TIGER GLOBAL AI INFRA ACTIVE', 'e.code': 491010}\n",
      "{'e.id': 'ETF490090', 'e.name': 'TIGER 미국AI빅테크10', 'e.english_name': 'TIGER US AI BIG TECH 10', 'e.code': 490090}\n",
      "{'e.id': 'ETF387280', 'e.name': 'TIGER 퓨처모빌리티액티브', 'e.english_name': 'TIGER FUTURE MOBILITY ACTIVE', 'e.code': 387280}\n",
      "{'e.id': 'ETF470310', 'e.name': 'UNICORN 생성형AI강소기업액티브', 'e.english_name': 'UNICORN GEN AI SMALL GIANT ACTIVE', 'e.code': 470310}\n"
     ]
    }
   ],
   "execution_count": 24
  },
  {
   "cell_type": "code",
   "id": "3798b2a2",
   "metadata": {
    "ExecuteTime": {
     "end_time": "2025-08-20T03:14:35.528341Z",
     "start_time": "2025-08-20T03:14:35.478619Z"
    }
   },
   "source": [
    "# 특정 섹터와 기술을 모두 포함하는 ETF 검색 예시\n",
    "cypher_query = \"\"\"\n",
    "// ETF 노드와 Sector, Technology 노드 간의 관계 매칭\n",
    "MATCH (e:ETF)-[:FOCUSES_ON]->(s:Sector), (e)-[:FOCUSES_ON]->(t:Technology)\n",
    "// 반도체 섹터와 AI 기술을 가진 ETF 필터링\n",
    "WHERE s.name = '반도체' AND t.name = 'AI'\n",
    "// ETF 정보와 관련 섹터, 기술 반환\n",
    "RETURN e.name, e.code, s.name AS sector, t.name AS technology\n",
    "\"\"\"\n",
    "# 쿼리 실행\n",
    "result = graph.query(cypher_query)\n",
    "\n",
    "# 결과 출력\n",
    "for row in result:\n",
    "    print(row)"
   ],
   "outputs": [
    {
     "name": "stdout",
     "output_type": "stream",
     "text": [
      "{'e.name': 'TIGER AI반도체핵심공정', 'e.code': 471760, 'sector': '반도체', 'technology': 'AI'}\n",
      "{'e.name': 'KCGI 테크미디어텔레콤액티브', 'e.code': 407160, 'sector': '반도체', 'technology': 'AI'}\n"
     ]
    }
   ],
   "execution_count": 25
  },
  {
   "cell_type": "code",
   "id": "5f41935d",
   "metadata": {
    "ExecuteTime": {
     "end_time": "2025-08-20T03:14:39.932Z",
     "start_time": "2025-08-20T03:14:39.857156Z"
    }
   },
   "source": [
    "# 특정 ETF와 유사한 ETF 추천 예시 (같은 섹터나 기술을 공유하는 ETF)\n",
    "# 'TIGER AI반도체핵심공정' ETF와 공통 속성(섹터 또는 기술)을 공유하는 다른 ETF를 찾는 쿼리\n",
    "cypher_query = \"\"\"\n",
    "// 기준 ETF와 다른 ETF 간의 공통 노드(섹터 또는 기술) 찾기\n",
    "MATCH (e1:ETF {name: 'TIGER AI반도체핵심공정'})-[:INVESTS_IN|FOCUSES_ON]->(node)<-[:INVESTS_IN|FOCUSES_ON]-(e2:ETF)\n",
    "// 자기 자신은 제외\n",
    "WHERE e1 <> e2\n",
    "// 유사 ETF 정보, 공통 속성 유형, 속성 이름 반환\n",
    "RETURN e2.name AS similar_etf, e2.code AS code, \n",
    "       LABELS(node)[0] AS common_attribute, node.name AS attribute_name\n",
    "// 5개 결과만 표시\n",
    "LIMIT 5\n",
    "\"\"\"\n",
    "# Neo4j 데이터베이스에 쿼리 실행\n",
    "result = graph.query(cypher_query)\n",
    "# 결과 출력\n",
    "for row in result:\n",
    "    print(row)"
   ],
   "outputs": [
    {
     "name": "stdout",
     "output_type": "stream",
     "text": [
      "{'similar_etf': 'KODEX 시스템반도체', 'code': 395160, 'common_attribute': 'Sector', 'attribute_name': '반도체'}\n",
      "{'similar_etf': 'HANARO 반도체핵심공정주도주', 'code': 476260, 'common_attribute': 'Sector', 'attribute_name': '반도체'}\n",
      "{'similar_etf': 'UNICORN SK하이닉스밸류체인액티브', 'code': 494220, 'common_attribute': 'Sector', 'attribute_name': '반도체'}\n",
      "{'similar_etf': 'RISE 비메모리반도체액티브', 'code': 388420, 'common_attribute': 'Sector', 'attribute_name': '반도체'}\n",
      "{'similar_etf': 'KCGI 테크미디어텔레콤액티브', 'code': 407160, 'common_attribute': 'Sector', 'attribute_name': '반도체'}\n"
     ]
    }
   ],
   "execution_count": 26
  },
  {
   "cell_type": "markdown",
   "id": "8c4740ec",
   "metadata": {},
   "source": [
    "#### 3) **전문(Full-Text) 검색 인덱스 설정**\n",
    "\n",
    "- 전문 검색 인덱스는 텍스트를 단어(토큰)로 분리\n",
    "- ETF 노드의 korean_name, english_name 속성에 대한 전문 검색 인덱스 생성"
   ]
  },
  {
   "cell_type": "code",
   "execution_count": null,
   "id": "fb391c81",
   "metadata": {},
   "outputs": [],
   "source": [
    "# ETF 노드의 name과 english_name 속성에 대한 전문 검색 인덱스 생성\n",
    "# CREATE FULLTEXT INDEX: 전문 검색(Full-Text Search)을 위한 인덱스를 생성하는 Cypher 명령어\n",
    "# etf_name_fulltext: 생성할 인덱스의 이름으로, 나중에 이 이름으로 인덱스를 참조할 수 있음\n",
    "# IF NOT EXISTS: 동일한 이름의 인덱스가 이미 존재하는 경우 오류 없이 건너뜀\n",
    "# FOR (e:ETF): ETF 라벨을 가진 모든 노드에 대해 인덱스 적용\n",
    "# ON EACH [e.name, e.english_name]: 각 ETF 노드의 korean_name과 english_name 속성을 인덱싱\n",
    "etf_fulltext_index_query = \"\"\"\n",
    "// 전문 검색을 위한 인덱스 생성\n",
    "// ETF 노드의 name과 english_name 속성에 대해 인덱싱\n",
    "// 이미 존재하는 경우 오류 없이 건너뜀\n",
    "CREATE FULLTEXT INDEX etf_name_fulltext IF NOT EXISTS \n",
    "FOR (e:ETF) ON EACH [e.name, e.english_name]\n",
    "\"\"\"\n",
    "graph.query(etf_fulltext_index_query)"
   ]
  },
  {
   "cell_type": "code",
   "execution_count": null,
   "id": "fe77a30f",
   "metadata": {},
   "outputs": [],
   "source": [
    "# 인덱스 생성 확인\n",
    "graph.query(\"SHOW FULLTEXT INDEXES\")"
   ]
  },
  {
   "cell_type": "code",
   "execution_count": null,
   "id": "b0811402",
   "metadata": {},
   "outputs": [],
   "source": [
    "# 전문 검색 테스트: AI 관련 ETF 검색\n",
    "cypher_query = \"\"\"\n",
    "// 전문 검색 인덱스를 사용하여 ETF 노드 검색\n",
    "CALL db.index.fulltext.queryNodes(\"etf_name_fulltext\", $search_term)\n",
    "// 검색된 노드와 관련도 점수 반환\n",
    "YIELD node, score\n",
    "// 결과 반환: ETF ID, 이름, 영문 이름, 검색 관련도 점수\n",
    "RETURN node.id AS ETF_ID, node.name AS ETF_Name, \n",
    "       node.english_name AS ETF_English_Name, score AS SearchRelevance\n",
    "// 검색 관련도 점수 기준으로 내림차순 정렬\n",
    "ORDER BY SearchRelevance DESC\n",
    "// 상위 5개 결과만 표시\n",
    "LIMIT 5\n",
    "\"\"\"\n",
    "results = graph.query(cypher_query, params={\"search_term\": \"ai\"})\n",
    "\n",
    "for result in results:\n",
    "    print(f\"{result['ETF_Name']} ({result['ETF_English_Name']}) - 관련도: {result['SearchRelevance']}\")\n",
    "print()"
   ]
  },
  {
   "cell_type": "code",
   "execution_count": null,
   "id": "5eec1198",
   "metadata": {},
   "outputs": [],
   "source": [
    "# 전문 검색과 그래프 탐색 결합: AI 관련 ETF와 연결된 기술 찾기\n",
    "cypher_query = \"\"\"\n",
    "// 전문 검색 인덱스를 사용하여 'AI'가 포함된 ETF 노드 검색\n",
    "CALL db.index.fulltext.queryNodes(\"etf_name_fulltext\", $search_term)\n",
    "YIELD node as etf, score\n",
    "\n",
    "// 검색된 ETF 노드에서 FOCUSES_ON 관계를 통해 연결된 Technology 노드 찾기\n",
    "MATCH (etf)-[:FOCUSES_ON]->(tech:Technology)\n",
    "\n",
    "// 결과 반환: ETF 이름, 검색 관련도 점수, 연결된 기술 목록\n",
    "RETURN etf.name AS ETF_Name, score AS SearchRelevance, \n",
    "       collect(tech.name) AS RelatedTechnologies\n",
    "\n",
    "// 검색 관련도 점수 기준으로 내림차순 정렬하고 상위 5개만 반환\n",
    "ORDER BY SearchRelevance DESC\n",
    "LIMIT 5\n",
    "\"\"\"\n",
    "results = graph.query(cypher_query, params={\"search_term\": \"AI\"})\n",
    "\n",
    "for result in results:\n",
    "    print(f\"{result['ETF_Name']} (관련도: {result['SearchRelevance']})\")\n",
    "    if result['RelatedTechnologies']:\n",
    "        print(f\"  관련 기술: {', '.join(result['RelatedTechnologies'])}\")\n",
    "    else:\n",
    "        print(\"  관련 기술 정보 없음\")\n",
    "    print()"
   ]
  },
  {
   "cell_type": "code",
   "execution_count": null,
   "id": "a1006e3c",
   "metadata": {},
   "outputs": [],
   "source": [
    "# 전문 검색 한글 테스트: '신재생 에너지' 관련 ETF 검색\n",
    "cypher_query = \"\"\"\n",
    "// 전문 검색 인덱스를 사용하여 ETF 노드 검색\n",
    "CALL db.index.fulltext.queryNodes(\"etf_name_fulltext\", $search_term)\n",
    "// 검색된 노드와 관련도 점수 반환\n",
    "YIELD node, score\n",
    "// 결과 반환: ETF ID, 이름, 영문 이름, 검색 관련도 점수\n",
    "RETURN node.id AS ETF_ID, node.name AS ETF_Name, \n",
    "       node.english_name AS ETF_English_Name, score AS SearchRelevance\n",
    "// 검색 관련도 점수 기준으로 내림차순 정렬\n",
    "ORDER BY SearchRelevance DESC\n",
    "// 상위 5개 결과만 표시\n",
    "LIMIT 5\n",
    "\"\"\"\n",
    "results = graph.query(cypher_query, params={\"search_term\": \"신재생 에너지\"})\n",
    "\n",
    "for result in results:\n",
    "    print(f\"{result['ETF_Name']} ({result['ETF_English_Name']}) - 관련도: {result['SearchRelevance']}\")\n",
    "    print()"
   ]
  },
  {
   "cell_type": "code",
   "id": "2aa090fd",
   "metadata": {
    "ExecuteTime": {
     "end_time": "2025-08-20T03:16:03.199280Z",
     "start_time": "2025-08-20T03:16:03.172864Z"
    }
   },
   "source": [
    "# 한국어를 지원하는 토크나이저를 적용하여 인덱스 생성 (기존 인덱스 삭제 후 생성)\n",
    "# 먼저 기존 인덱스 삭제\n",
    "cypher_query = \"\"\"\n",
    "DROP INDEX etf_name_fulltext IF EXISTS\n",
    "\"\"\"\n",
    "graph.query(cypher_query)"
   ],
   "outputs": [
    {
     "data": {
      "text/plain": [
       "[]"
      ]
     },
     "execution_count": 27,
     "metadata": {},
     "output_type": "execute_result"
    }
   ],
   "execution_count": 27
  },
  {
   "cell_type": "code",
   "id": "1534ca1c",
   "metadata": {
    "ExecuteTime": {
     "end_time": "2025-08-20T03:16:08.841376Z",
     "start_time": "2025-08-20T03:16:08.799631Z"
    }
   },
   "source": [
    "# 한국어의 경우 cjk(Chinese, Japanese, Korean)가 통합된 analyzer를 지원\n",
    "# 추가로 eventually_consistent 옵션을 사용하여 인덱스 성능 향상\n",
    "cypher_query = \"\"\"\n",
    "CREATE FULLTEXT INDEX etf_name_fulltext IF NOT EXISTS\n",
    "FOR (e:ETF) ON EACH [e.name, e.english_name]\n",
    "OPTIONS {\n",
    "  indexConfig: {\n",
    "    `fulltext.analyzer`: 'cjk',\n",
    "    `fulltext.eventually_consistent`: true\n",
    "  }\n",
    "}\n",
    "\"\"\"\n",
    "graph.query(cypher_query)"
   ],
   "outputs": [
    {
     "data": {
      "text/plain": [
       "[]"
      ]
     },
     "execution_count": 28,
     "metadata": {},
     "output_type": "execute_result"
    }
   ],
   "execution_count": 28
  },
  {
   "cell_type": "code",
   "id": "d2979c6e",
   "metadata": {
    "ExecuteTime": {
     "end_time": "2025-08-20T03:16:11.484750Z",
     "start_time": "2025-08-20T03:16:11.460614Z"
    }
   },
   "source": [
    "# 인덱스 생성 확인\n",
    "graph.query(\"SHOW FULLTEXT INDEXES\")"
   ],
   "outputs": [
    {
     "data": {
      "text/plain": [
       "[{'id': 14,\n",
       "  'name': 'etf_name_fulltext',\n",
       "  'state': 'ONLINE',\n",
       "  'populationPercent': 100.0,\n",
       "  'type': 'FULLTEXT',\n",
       "  'entityType': 'NODE',\n",
       "  'labelsOrTypes': ['ETF'],\n",
       "  'properties': ['name', 'english_name'],\n",
       "  'indexProvider': 'fulltext-1.0',\n",
       "  'owningConstraint': None,\n",
       "  'lastRead': None,\n",
       "  'readCount': None}]"
      ]
     },
     "execution_count": 29,
     "metadata": {},
     "output_type": "execute_result"
    }
   ],
   "execution_count": 29
  },
  {
   "cell_type": "code",
   "id": "8c9c31c1",
   "metadata": {
    "ExecuteTime": {
     "end_time": "2025-08-20T03:16:13.415267Z",
     "start_time": "2025-08-20T03:16:13.370821Z"
    }
   },
   "source": [
    "# 전문 검색 한글 테스트: '신재생 에너지' 관련 ETF 검색 (cjk analyzer로 한국어 지원)\n",
    "cypher_query = \"\"\"\n",
    "// 전문 검색 인덱스를 사용하여 ETF 노드 검색\n",
    "CALL db.index.fulltext.queryNodes(\"etf_name_fulltext\", $search_term)\n",
    "// 검색된 노드와 관련도 점수 반환\n",
    "YIELD node, score\n",
    "// 결과 반환: ETF ID, 이름, 영문 이름, 검색 관련도 점수\n",
    "RETURN node.id AS ETF_ID, node.name AS ETF_Name, \n",
    "       node.english_name AS ETF_English_Name, score AS SearchRelevance\n",
    "// 검색 관련도 점수 기준으로 내림차순 정렬\n",
    "ORDER BY SearchRelevance DESC\n",
    "// 상위 5개 결과만 표시\n",
    "LIMIT 5\n",
    "\"\"\"\n",
    "results = graph.query(cypher_query, params={\"search_term\": \"신재생 에너지\"})\n",
    "\n",
    "for result in results:\n",
    "    print(f\"{result['ETF_Name']} ({result['ETF_English_Name']}) - 관련도: {result['SearchRelevance']}\")\n",
    "print()"
   ],
   "outputs": [
    {
     "name": "stdout",
     "output_type": "stream",
     "text": [
      "KODEX K-신재생에너지액티브 (KODEX K-Renewable Energy Active) - 관련도: 5.904680252075195\n",
      "\n"
     ]
    }
   ],
   "execution_count": 30
  },
  {
   "cell_type": "markdown",
   "id": "4c908226",
   "metadata": {},
   "source": [
    "---\n",
    "\n",
    "### 2.3 **Text2cypher 이용한 ETF 추천**"
   ]
  },
  {
   "cell_type": "markdown",
   "id": "cc0be3c2",
   "metadata": {},
   "source": [
    "#### 1) **스키마 정보 확인**\n",
    "\n",
    "- LLM이 Cypher 쿼리를 생성하려면 그래프 데이터베이스의 스키마 정보가 필요"
   ]
  },
  {
   "cell_type": "code",
   "id": "dfcd8b18",
   "metadata": {
    "ExecuteTime": {
     "end_time": "2025-08-20T03:16:37.852376Z",
     "start_time": "2025-08-20T03:16:37.538094Z"
    }
   },
   "source": [
    "# 기본 스키마 정보 확인\n",
    "graph.refresh_schema()\n",
    "print(graph.schema)"
   ],
   "outputs": [
    {
     "name": "stdout",
     "output_type": "stream",
     "text": [
      "Node properties:\n",
      "- **ETF**\n",
      "  - `id`: STRING Example: \"ETF471760\"\n",
      "  - `website`: STRING Example: \"http://www.tigeretf.com\"\n",
      "  - `code`: INTEGER Min: 69500, Max: 499150\n",
      "  - `basic_info`: STRING Example: \"- 이 ETF는 국내에 상장된 주식을 주된 투자대상자산으로 하며, “iSelect AI반도\"\n",
      "  - `tracking_multiplier`: FLOAT Min: 1.0, Max: 2.0\n",
      "  - `fund_type`: STRING Available options: ['수익증권형']\n",
      "  - `english_name`: STRING Example: \"TIGER AI Semiconductor Core Tech\"\n",
      "  - `base_asset`: STRING Example: \"주식|업종섹터|업종테마\"\n",
      "  - `tax_type`: STRING Available options: ['비과세', '배당소득세(보유기간과세)', '배당소득세(해외주식투자전용ETF)', '배당소득세(분리과세부동산ETF)']\n",
      "  - `ap_company`: STRING Example: \"미래에셋|NH|키움|하이|BNK|한국|이베스트|대신|유진|신영|DB|신한|삼성|메리츠\"\n",
      "  - `total_fee`: FLOAT Min: 0.0099, Max: 0.99\n",
      "  - `name`: STRING Example: \"TIGER AI반도체핵심공정\"\n",
      "  - `base_market`: STRING Example: \"국내|코스피|코스닥\"\n",
      "  - `listing_date`: STRING Example: \"2023-11-21\"\n",
      "  - `investment_notice`: STRING Example: \"- 이 ETF의 수익률은 보수 또는 비용 등 이 ETF의 순자산가치에 부의 영향을 미치는 \"\n",
      "  - `index_name`: STRING Example: \"iSelect AI반도체핵심공정지수\"\n",
      "- **AssetManager**\n",
      "  - `id`: STRING Example: \"company-미래에셋자산운용\"\n",
      "  - `name`: STRING Example: \"미래에셋자산운용\"\n",
      "- **Sector**\n",
      "  - `id`: STRING Example: \"sector-반도체\"\n",
      "  - `name`: STRING Example: \"반도체\"\n",
      "- **Technology**\n",
      "  - `id`: STRING Example: \"tech-AI\"\n",
      "  - `name`: STRING Example: \"AI\"\n",
      "- **Market**\n",
      "  - `id`: STRING Example: \"market-국내\"\n",
      "  - `name`: STRING Example: \"국내\"\n",
      "- **AssetClass**\n",
      "  - `id`: STRING Example: \"asset-주식\"\n",
      "  - `name`: STRING Example: \"주식\"\n",
      "- **InvestmentTheme**\n",
      "  - `id`: STRING Example: \"theme-AI\"\n",
      "  - `name`: STRING Example: \"AI\"\n",
      "Relationship properties:\n",
      "\n",
      "The relationships:\n",
      "(:ETF)-[:MANAGED_BY]->(:AssetManager)\n",
      "(:ETF)-[:FOCUSES_ON]->(:Sector)\n",
      "(:ETF)-[:FOCUSES_ON]->(:Technology)\n",
      "(:ETF)-[:FOCUSES_ON]->(:InvestmentTheme)\n",
      "(:ETF)-[:INVESTS_IN]->(:Market)\n",
      "(:ETF)-[:INVESTS_IN]->(:AssetClass)\n"
     ]
    }
   ],
   "execution_count": 31
  },
  {
   "cell_type": "markdown",
   "id": "8149398e",
   "metadata": {},
   "source": [
    "#### 2) **GraphCypherQAChain 설정**\n",
    "\n",
    "- `GraphCypherQAChain`은 LangChain에서 제공하는 체인으로, 자연어 질문을 Cypher 쿼리로 변환하고 그 결과를 바탕으로 답변을 생성\n",
    "\n",
    "- 작동 과정:\n",
    "    1. 사용자의 자연어 질문 입력\n",
    "    2. LLM을 사용하여 질문을 Cypher 쿼리로 변환\n",
    "    3. 생성된 Cypher 쿼리를 Neo4j 데이터베이스에 실행\n",
    "    4. 쿼리 결과를 LLM에 전달하여 자연어 답변 생성\n",
    "\n",
    "- 주요 구성 요소\n",
    "    - `cypher_generation_chain`: 자연어를 Cypher 쿼리로 변환하는 체인\n",
    "    - `qa_chain`: 쿼리 결과를 바탕으로 답변을 생성하는 체인\n",
    "    - `graph`: Neo4j 그래프 데이터베이스 연결 객체\n",
    "    - `graph_schema`: 그래프 데이터베이스의 스키마 정보"
   ]
  },
  {
   "cell_type": "code",
   "id": "3c513e55",
   "metadata": {
    "ExecuteTime": {
     "end_time": "2025-08-20T03:17:43.073374Z",
     "start_time": "2025-08-20T03:17:43.062326Z"
    }
   },
   "source": [
    "from langchain_neo4j import GraphCypherQAChain\n",
    "from langchain_openai import ChatOpenAI\n",
    "\n",
    "# LLM 모델 설정\n",
    "llm = ChatOpenAI(model=\"gpt-5-nano\", temperature=0)\n",
    "\n",
    "# GraphCypherQAChain 생성\n",
    "cypher_chain = GraphCypherQAChain.from_llm(\n",
    "    llm=llm,\n",
    "    graph=graph,  \n",
    "    validate_cypher=True,  # Cypher 쿼리 유효성 검사\n",
    "    return_intermediate_steps=True,  # 중간 단계 결과 반환\n",
    "    allow_dangerous_requests=True,  # DB에 영향을 줄 수 있음을 인지하고 쿼리 실행을 허용\n",
    "    cypher_kwargs={\"timeout\": 60},  # Cypher 쿼리 실행 시간 제한\n",
    "    top_k=5  # 반환할 최대 결과 수\n",
    ")"
   ],
   "outputs": [],
   "execution_count": 36
  },
  {
   "cell_type": "code",
   "id": "c8b5ae87",
   "metadata": {
    "ExecuteTime": {
     "end_time": "2025-08-20T03:18:04.434642Z",
     "start_time": "2025-08-20T03:17:44.948271Z"
    }
   },
   "source": [
    "# 예시 질문 쿼리\n",
    "cypher_chain.invoke({\"query\": \"글로벌 인프라에 투자하는 ETF는 무엇인가요?\"})"
   ],
   "outputs": [
    {
     "data": {
      "text/plain": [
       "{'query': '글로벌 인프라에 투자하는 ETF는 무엇인가요?',\n",
       " 'result': 'TIGER S&P글로벌인프라(합성)와 RISE 글로벌데이터센터리츠(합성)가 글로벌 인프라에 투자하는 ETF입니다.',\n",
       " 'intermediate_steps': [{'query': \"MATCH (e:ETF)\\nOPTIONAL MATCH (e)-[:INVESTS_IN]->(mk:Market)\\nOPTIONAL MATCH (e)-[:FOCUSES_ON]->(sec:Sector)\\nOPTIONAL MATCH (e)-[:FOCUSES_ON]->(tech:Technology)\\nOPTIONAL MATCH (e)-[:FOCUSES_ON]->(theme:InvestmentTheme)\\nWITH e, collect(DISTINCT mk.name) AS markets, collect(DISTINCT sec.name) AS sectors, collect(DISTINCT tech.name) AS technologies, collect(DISTINCT theme.name) AS themes\\nWHERE any(n IN markets WHERE toLower(n) CONTAINS 'global' OR toLower(n) CONTAINS '글로벌')\\n   OR any(n IN sectors WHERE toLower(n) CONTAINS '인프라' OR toLower(n) CONTAINS 'infra')\\n   OR any(n IN technologies WHERE toLower(n) CONTAINS '인프라' OR toLower(n) CONTAINS 'infra')\\n   OR any(n IN themes WHERE toLower(n) CONTAINS '인프라' OR toLower(n) CONTAINS 'infra')\\nRETURN DISTINCT e.id AS ETF_id, e.name AS ETF_name, markets, sectors, technologies, themes\"},\n",
       "  {'context': [{'ETF_id': 'ETF375270',\n",
       "     'ETF_name': 'RISE 글로벌데이터센터리츠(합성)',\n",
       "     'markets': ['Global', 'Developed Markets'],\n",
       "     'sectors': ['Real Estate'],\n",
       "     'technologies': [],\n",
       "     'themes': ['Data Center', 'Tech Infrastructure']},\n",
       "    {'ETF_id': 'ETF411720',\n",
       "     'ETF_name': 'RISE 글로벌메타버스',\n",
       "     'markets': ['글로벌'],\n",
       "     'sectors': [],\n",
       "     'technologies': [],\n",
       "     'themes': ['메타버스']},\n",
       "    {'ETF_id': 'ETF442570',\n",
       "     'ETF_name': 'RISE TDF2050액티브',\n",
       "     'markets': ['국내', '해외', '글로벌'],\n",
       "     'sectors': [],\n",
       "     'technologies': [],\n",
       "     'themes': ['TDF', '전략적 자산배분']},\n",
       "    {'ETF_id': 'ETF387280',\n",
       "     'ETF_name': 'TIGER 퓨처모빌리티액티브',\n",
       "     'markets': ['국내', '코스피', '코스닥'],\n",
       "     'sectors': ['IT', '에너지', '통신', '인터넷', '유틸리티', '기계 인프라', '우주항공'],\n",
       "     'technologies': ['AI'],\n",
       "     'themes': ['퓨처모빌리티']},\n",
       "    {'ETF_id': 'ETF269370',\n",
       "     'ETF_name': 'TIGER S&P글로벌인프라(합성)',\n",
       "     'markets': ['글로벌'],\n",
       "     'sectors': ['Energy', 'Transportation', 'Utilities'],\n",
       "     'technologies': [],\n",
       "     'themes': ['인프라']}]}]}"
      ]
     },
     "execution_count": 37,
     "metadata": {},
     "output_type": "execute_result"
    }
   ],
   "execution_count": 37
  },
  {
   "cell_type": "code",
   "id": "3eb4108b",
   "metadata": {
    "ExecuteTime": {
     "end_time": "2025-08-20T03:20:38.406087Z",
     "start_time": "2025-08-20T03:20:38.385356Z"
    }
   },
   "source": [
    "from langchain.prompts import PromptTemplate\n",
    "from langchain_neo4j import GraphCypherQAChain\n",
    "from langchain_openai import ChatOpenAI\n",
    "\n",
    "CYPHER_GENERATION_TEMPLATE = \"\"\"\n",
    "당신은 질문을 Cypher로 번역하는 Neo4j 전문가입니다.\n",
    "스키마: {schema}\n",
    "\n",
    "중요사항: \n",
    "- Cypher 쿼리에서 APOC 함수를 사용하지 마세요!\n",
    "- 전문 검색을 위해서는 반드시 \"etf_name_fulltext\" 인덱스 이름만 사용하세요\n",
    "- 전문 검색의 올바른 형식은 다음과 같습니다:\n",
    "  CALL db.index.fulltext.queryNodes(\"etf_name_fulltext\", \"검색어\")\n",
    "  YIELD node, score\n",
    "- 펀드 이름이나 ETF 이름에서 키워드를 검색할 때는 항상 전문 검색을 사용하세요\n",
    "- \"RETURN *\" 또는 \"RETURN DISTINCT *\"를 변수 없이 사용하지 마세요\n",
    "- 항상 \"RETURN node.name, node.code\"와 같이 명시적인 반환 변수를 지정하세요\n",
    "- 모든 MATCH 패턴에는 최소한 하나의 변수가 정의되어 있어야 합니다\n",
    "- RETURN 문에서 사용하기 전에 항상 변수를 정의하세요\n",
    "- 변수 이름은 소문자로 사용하고 이름 지정에 일관성을 유지하세요\n",
    "- 전문 검색 쿼리는 반드시 다음과 같은 형식으로 작성하세요:\n",
    "  CALL db.index.fulltext.queryNodes(\"etf_name_fulltext\", \"검색어\")\n",
    "  YIELD node, score\n",
    "  RETURN node.name AS ETF_Name, node.english_name AS ETF_English_Name, score AS SearchRelevance\n",
    "\n",
    "질문: {question}\n",
    "\"\"\"\n",
    "\n",
    "cypher_prompt = PromptTemplate(\n",
    "    template=CYPHER_GENERATION_TEMPLATE,\n",
    "    input_variables=[\"schema\", \"question\"],\n",
    ")\n",
    "\n",
    "# ETF QA를 위한 응답 생성 프롬프트\n",
    "QA_TEMPLATE = \"\"\"\n",
    "당신은 ETF 데이터베이스 분석 전문가로서 ETF 데이터에 대한 명확하고 간결한 정보를 한국어로 제공합니다.\n",
    "\n",
    "질문: {question}\n",
    "검색 결과: {context}\n",
    "\n",
    "응답 가이드라인:\n",
    "- 검색 결과에서 핵심 정보를 요약하세요\n",
    "- ETF 데이터에 대한 명확하고 객관적인 개요를 제공하세요\n",
    "- 전문적이고 유익한 톤을 사용하세요\n",
    "- ETF 데이터의 중요한 패턴이나 추세를 강조하세요\n",
    "- 컨텍스트가 부족하거나 근거가 없을 경우 정보가 부족하다고 명확히 언급하세요\n",
    "- 추측이나 개인적인 해석은 피하세요\n",
    "- 데이터베이스에서 관련 정보를 찾을 수 없는 경우, 정확한 정보를 제공할 수 없다고 명시하세요\n",
    "\n",
    "응답 형식:\n",
    "- 간략한 발견 요약으로 시작하세요\n",
    "- 여러 ETF가 발견된 경우 간결한 개요를 제공하세요\n",
    "- 가독성을 위해 글머리 기호나 짧은 단락을 사용하세요\n",
    "- 상장일, 수수료율, 투자 테마, 시장 등과 같은 관련 세부 정보를 포함하세요\n",
    "- 수치 데이터나 기술 용어를 쉽게 이해할 수 있는 언어로 번역하세요\n",
    "\n",
    "응답 구조 예시:\n",
    "\"분석 결과: [주요 발견 사항 요약]\n",
    "\n",
    "주요 특징:\n",
    "- [첫 번째 중요한 통찰]\n",
    "- [두 번째 중요한 통찰]\n",
    "\n",
    "추가 정보: [필요한 경우 추가 설명]\"\n",
    "\"\"\"\n",
    "\n",
    "qa_prompt = PromptTemplate(\n",
    "    template=QA_TEMPLATE,\n",
    "    input_variables=[\"question\", \"context\"],\n",
    ")\n",
    "\n",
    "# LLM 모델 설정\n",
    "llm = ChatOpenAI(model=\"gpt-5\", temperature=0)\n",
    "\n",
    "# GraphCypherQAChain 생성\n",
    "cypher_chain = GraphCypherQAChain.from_llm(\n",
    "    llm=llm,\n",
    "    graph=graph,\n",
    "    cypher_prompt=cypher_prompt,  # 커스텀 프롬프트 설정\n",
    "    qa_prompt=qa_prompt,  # 커스텀 QA 프롬프트 설정\n",
    "    validate_cypher=True,  # Cypher 쿼리 유효성 검사\n",
    "    return_intermediate_steps=True,  # 중간 단계 결과 반환\n",
    "    allow_dangerous_requests=True,  # DB에 영향을 줄 수 있음을 인지하고 쿼리 실행을 허용\n",
    "    cypher_kwargs={\"timeout\": 60},  # Cypher 쿼리 실행 시간 제한\n",
    "    top_k=5  # 반환할 최대 결과 수\n",
    ")"
   ],
   "outputs": [],
   "execution_count": 42
  },
  {
   "cell_type": "code",
   "id": "b2eceab1",
   "metadata": {
    "ExecuteTime": {
     "end_time": "2025-08-20T03:21:27.322558Z",
     "start_time": "2025-08-20T03:20:42.261499Z"
    }
   },
   "source": [
    "# 예시 질문 쿼리\n",
    "cypher_chain.invoke({\"query\": \"글로벌 인프라에 투자하는 ETF는 무엇인가요?\"})"
   ],
   "outputs": [
    {
     "data": {
      "text/plain": [
       "{'query': '글로벌 인프라에 투자하는 ETF는 무엇인가요?',\n",
       " 'result': '분석 결과: 검색된 데이터에서는 글로벌 인프라에 투자하는 ETF로 1종이 확인되었습니다.\\n\\n주요 특징:\\n- ETF명: TIGER S&P글로벌인프라(합성)\\n- 영문명: TIGER SYNTH-S&P GLOBAL INFRASTRUCTURE\\n- 투자 테마: S&P 글로벌 인프라 관련 지수에 연동된 상품으로, 글로벌 인프라 섹터에 대한 분산 노출 제공이 목적임을 상품명에서 확인할 수 있습니다.\\n- 복제 방식: 명칭의 ‘합성’ 표기로 보아 파생상품을 활용한 합성복제 구조로 추정됩니다.\\n\\n정보 한계:\\n- 상장일, 총보수(수수료), 상장시장, 배당 정책, 환헤지 여부 등 핵심 세부 정보는 제공된 데이터에 포함되어 있지 않습니다. 따라서 해당 항목에 대해 정확한 정보를 제시할 수 없습니다.\\n\\n추가 정보:\\n- 필요하시면 상장시장, 보수, 지수 상세 구성(산업·국가 비중), 분배금 이력, 거래량/스프레드 등 추가 메트릭 확인을 위한 확장 검색을 진행하겠습니다.',\n",
       " 'intermediate_steps': [{'query': 'CALL db.index.fulltext.queryNodes(\"etf_name_fulltext\", \\'(\"글로벌\" AND (인프라 OR 인프라스트럭처 OR 사회기반시설)) OR \"글로벌인프라\" OR \"global infrastructure\" OR \"global infra\"\\')\\nYIELD node, score\\nRETURN node.name AS ETF_Name, node.english_name AS ETF_English_Name, score AS SearchRelevance\\nORDER BY score DESC'},\n",
       "  {'context': [{'ETF_Name': 'TIGER S&P글로벌인프라(합성)',\n",
       "     'ETF_English_Name': 'TIGER SYNTH-S&P GLOBAL INFRASTRUCTURE',\n",
       "     'SearchRelevance': 2.982264518737793}]}]}"
      ]
     },
     "execution_count": 43,
     "metadata": {},
     "output_type": "execute_result"
    }
   ],
   "execution_count": 43
  },
  {
   "cell_type": "markdown",
   "id": "697e5cb0",
   "metadata": {},
   "source": [
    "#### 3) **Few-shot Prompt**"
   ]
  },
  {
   "cell_type": "code",
   "id": "2b088639",
   "metadata": {
    "ExecuteTime": {
     "end_time": "2025-08-20T03:27:41.534503Z",
     "start_time": "2025-08-20T03:27:39.702117Z"
    }
   },
   "source": [
    "from langchain_core.example_selectors import SemanticSimilarityExampleSelector\n",
    "from langchain_openai import OpenAIEmbeddings\n",
    "from langchain_neo4j import Neo4jVector\n",
    "\n",
    "# ETF 관련 few-shot 예제\n",
    "ETF_EXAMPLES = [\n",
    "    {\n",
    "        \"question\": \"인공지능 기술에 투자하는 ETF는 무엇인가요?\",\n",
    "        \"query\": \"MATCH (e:ETF)-[:FOCUSES_ON]->(t:Technology {name: '인공지능'}) RETURN e.korean_name, e.code, e.basic_info LIMIT 5\",\n",
    "    },\n",
    "    {\n",
    "        \"question\": \"미래에셋자산운용에서 관리하는 ETF 중 해외 시장에 투자하는 것은?\",\n",
    "        \"query\": \"MATCH (e:ETF)-[:MANAGED_BY]->(:AssetManager {name: '미래에셋자산운용'}), (e)-[:INVESTS_IN]->(:Market {name: '해외'}) RETURN e.korean_name, e.code, e.base_market LIMIT 5\",\n",
    "    },\n",
    "    {\n",
    "        \"question\": \"총 보수가 0.5% 미만인 주식형 ETF는 무엇인가요?\",\n",
    "        \"query\": \"MATCH (e:ETF)-[:INVESTS_IN]->(:AssetClass {name: '주식'}) WHERE e.total_fee < 0.5 RETURN e.korean_name, e.code, e.total_fee ORDER BY e.total_fee ASC LIMIT 5\",\n",
    "    },\n",
    "    {\n",
    "        \"question\": \"신재생에너지 테마 ETF 중 상장일이 가장 최근인 것은?\",\n",
    "        \"query\": \"MATCH (e:ETF)-[:FOCUSES_ON]->(:InvestmentTheme {name: '신재생에너지'}) RETURN e.korean_name, e.code, e.listing_date ORDER BY e.listing_date DESC LIMIT 5\",\n",
    "    },\n",
    "    {\n",
    "        \"question\": \"반도체 섹터에 투자하는 ETF 중 총 보수가 가장 낮은 것은?\",\n",
    "        \"query\": \"MATCH (e:ETF)-[:BELONGS_TO]->(:Sector {name: '반도체'}) RETURN e.korean_name, e.code, e.total_fee ORDER BY e.total_fee ASC LIMIT 5\",\n",
    "    },\n",
    "    {\n",
    "        \"question\": \"레버리지(추적배수 2배) ETF 중 국내 시장에 투자하는 것은?\",\n",
    "        \"query\": \"MATCH (e:ETF)-[:INVESTS_IN]->(:Market {name: '국내'}) WHERE e.tracking_multiplier = 2.0 RETURN e.korean_name, e.code, e.tracking_multiplier LIMIT 5\",\n",
    "    },\n",
    "    {\n",
    "        \"question\": \"원자력 테마에 투자하는 ETF 중 상장일이 가장 오래된 것은?\",\n",
    "        \"query\": \"MATCH (e:ETF)-[:FOCUSES_ON]->(:InvestmentTheme {name: '원자력'}) RETURN e.korean_name, e.code, e.listing_date ORDER BY e.listing_date ASC LIMIT 5\",\n",
    "    },\n",
    "    {\n",
    "        \"question\": \"비과세 혜택이 있는 ETF 중 해외 주식에 투자하는 것은?\",\n",
    "        \"query\": \"MATCH (e:ETF)-[:INVESTS_IN]->(:AssetClass {name: '주식'}), (e)-[:INVESTS_IN]->(:Market {name: '해외'}) WHERE e.tax_type = '비과세' RETURN e.korean_name, e.code, e.tax_type LIMIT 5\",\n",
    "    },\n",
    "    {\n",
    "        \"question\": \"교보악사자산운용에서 관리하는 ETF는 무엇인가요?\",\n",
    "        \"query\": \"MATCH (e:ETF)-[:MANAGED_BY]->(:AssetManager {name: '교보악사자산운용'}) RETURN e.korean_name, e.code, e.fund_type LIMIT 5\",\n",
    "    },\n",
    "    {\n",
    "        \"question\": \"통화 자산에 투자하는 ETF 중 총 보수가 가장 낮은 것은?\",\n",
    "        \"query\": \"MATCH (e:ETF)-[:INVESTS_IN]->(:AssetClass {name: '통화'}) RETURN e.korean_name, e.code, e.total_fee ORDER BY e.total_fee ASC LIMIT 5\",\n",
    "    },\n",
    "    {\n",
    "        \"question\": \"시스템 반도체와 AI 기술 모두에 투자하는 ETF는 무엇인가요?\",\n",
    "        \"query\": \"MATCH (e:ETF)-[:BELONGS_TO]->(s:Sector {name: '시스템 반도체'}), (e)-[:FOCUSES_ON]->(t:Technology {name: 'AI'}) RETURN e.korean_name, e.code, s.name AS sector, t.name AS technology LIMIT 5\",\n",
    "    },\n",
    "    {\n",
    "        \"question\": \"전문 검색으로 인공지능 관련 ETF를 찾고 관련도 점수를 알려주세요.\",\n",
    "        \"query\": \"CALL db.index.fulltext.queryNodes('etf_name_fulltext', 'AI') YIELD node, score RETURN node.korean_name AS ETF_Name, node.english_name AS ETF_English_Name, score AS SearchRelevance ORDER BY SearchRelevance DESC LIMIT 5\",\n",
    "    },\n",
    "    {\n",
    "        \"question\": \"AI 관련 ETF와 연결된 기술들을 모두 찾아주세요.\",\n",
    "        \"query\": \"CALL db.index.fulltext.queryNodes('etf_name_fulltext', 'AI') YIELD node as etf, score MATCH (etf)-[:FOCUSES_ON]->(tech:Technology) RETURN etf.korean_name AS ETF_Name, score AS SearchRelevance, collect(tech.name) AS RelatedTechnologies ORDER BY SearchRelevance DESC LIMIT 5\",\n",
    "    },\n",
    "    {\n",
    "        \"question\": \"인버스 ETF 중 거래량이 가장 많은 것은?\",\n",
    "        \"query\": \"MATCH (e:ETF) WHERE e.tracking_multiplier < 0 RETURN e.korean_name, e.code, e.trading_volume ORDER BY e.trading_volume DESC LIMIT 5\",\n",
    "    },\n",
    "    {\n",
    "        \"question\": \"배당수익률이 3% 이상인 ETF 중 국내 시장에 투자하는 것은?\",\n",
    "        \"query\": \"MATCH (e:ETF)-[:INVESTS_IN]->(:Market {name: '국내'}) WHERE e.dividend_yield >= 3.0 RETURN e.korean_name, e.code, e.dividend_yield ORDER BY e.dividend_yield DESC LIMIT 5\",\n",
    "    }\n",
    "] \n",
    "\n",
    "\n",
    "# 시맨틱 유사성 기반 예제 선택기 생성\n",
    "example_selector = SemanticSimilarityExampleSelector.from_examples(\n",
    "    ETF_EXAMPLES, \n",
    "    OpenAIEmbeddings(model=\"text-embedding-3-small\"), \n",
    "    Neo4jVector, \n",
    "    k=3,  # 가장 유사한 3개의 예제 선택\n",
    "    input_keys=[\"question\"],\n",
    "    url=os.environ[\"NEO4J_URI\"],\n",
    "    username=os.environ[\"NEO4J_USERNAME\"],\n",
    "    password=os.environ[\"NEO4J_PASSWORD\"],\n",
    "    database=os.environ[\"NEO4J_DATABASE\"],  # Neo4j 데이터베이스 이름\n",
    ")\n",
    "\n",
    "\n",
    "# 예제 선택기 테스트\n",
    "example_selector.select_examples({\"question\": \"전문 검색으로 AI 관련 ETF를 찾아서 정리해주세요.\"})"
   ],
   "outputs": [
    {
     "data": {
      "text/plain": [
       "[{'query': \"CALL db.index.fulltext.queryNodes('etf_name_fulltext', 'AI') YIELD node, score RETURN node.korean_name AS ETF_Name, node.english_name AS ETF_English_Name, score AS SearchRelevance ORDER BY SearchRelevance DESC LIMIT 5\",\n",
       "  'question': '전문 검색으로 인공지능 관련 ETF를 찾고 관련도 점수를 알려주세요.'},\n",
       " {'query': \"CALL db.index.fulltext.queryNodes('etf_name_fulltext', 'AI') YIELD node as etf, score MATCH (etf)-[:FOCUSES_ON]->(tech:Technology) RETURN etf.korean_name AS ETF_Name, score AS SearchRelevance, collect(tech.name) AS RelatedTechnologies ORDER BY SearchRelevance DESC LIMIT 5\",\n",
       "  'question': 'AI 관련 ETF와 연결된 기술들을 모두 찾아주세요.'},\n",
       " {'query': \"MATCH (e:ETF)-[:BELONGS_TO]->(s:Sector {name: '시스템 반도체'}), (e)-[:FOCUSES_ON]->(t:Technology {name: 'AI'}) RETURN e.korean_name, e.code, s.name AS sector, t.name AS technology LIMIT 5\",\n",
       "  'question': '시스템 반도체와 AI 기술 모두에 투자하는 ETF는 무엇인가요?'}]"
      ]
     },
     "execution_count": 47,
     "metadata": {},
     "output_type": "execute_result"
    }
   ],
   "execution_count": 47
  },
  {
   "cell_type": "code",
   "id": "87aa1060",
   "metadata": {
    "ExecuteTime": {
     "end_time": "2025-08-20T03:27:41.586412Z",
     "start_time": "2025-08-20T03:27:41.582881Z"
    }
   },
   "source": [
    "load_dotenv()"
   ],
   "outputs": [
    {
     "data": {
      "text/plain": [
       "True"
      ]
     },
     "execution_count": 48,
     "metadata": {},
     "output_type": "execute_result"
    }
   ],
   "execution_count": 48
  },
  {
   "cell_type": "code",
   "id": "264c8f7f",
   "metadata": {
    "ExecuteTime": {
     "end_time": "2025-08-20T03:27:53.571794Z",
     "start_time": "2025-08-20T03:27:43.222866Z"
    }
   },
   "source": [
    "from langchain_core.prompts import PromptTemplate\n",
    "from langchain_core.output_parsers import StrOutputParser\n",
    "\n",
    "# Few-shot 예제 포맷팅 함수 정의\n",
    "def format_few_shot_examples(examples):\n",
    "    return \"\\n\\n\".join([\n",
    "        f\"Question: {ex['question']}\\nCypher query: {ex['query']}\"\n",
    "        for ex in examples\n",
    "    ])\n",
    "\n",
    "# Cypher 쿼리 생성을 위한 프롬프트 템플릿 정의\n",
    "CYPHER_TEMPLATE = \"\"\"\n",
    "당신은 질문을 Cypher로 번역하는 Neo4j 전문가입니다.\n",
    "스키마: {schema}\n",
    "\n",
    "중요사항: \n",
    "- Cypher 쿼리에서 APOC 함수를 사용하지 마세요!\n",
    "- 전문 검색을 위해서는 반드시 \"'etf_name_fulltext'\" 인덱스 이름만 사용하세요\n",
    "- 전문 검색의 올바른 형식은 다음과 같습니다:\n",
    "  CALL db.index.fulltext.queryNodes(\"etf_name_fulltext\", \"검색어\")\n",
    "  YIELD node, score\n",
    "- 펀드 이름이나 ETF 이름에서 키워드를 검색할 때는 항상 전문 검색을 사용하세요\n",
    "- \"RETURN *\" 또는 \"RETURN DISTINCT *\"를 변수 없이 사용하지 마세요\n",
    "- 항상 \"RETURN node.name, node.code\"와 같이 명시적인 반환 변수를 지정하세요\n",
    "- 모든 MATCH 패턴에는 최소한 하나의 변수가 정의되어 있어야 합니다\n",
    "- RETURN 문에서 사용하기 전에 항상 변수를 정의하세요\n",
    "- 변수 이름은 소문자로 사용하고 이름 지정에 일관성을 유지하세요\n",
    "- 전문 검색 쿼리는 반드시 다음과 같은 형식으로 작성하세요:\n",
    "  CALL db.index.fulltext.queryNodes(\"etf_name_fulltext\", \"검색어\")\n",
    "  YIELD node, score\n",
    "  RETURN node.name AS ETF_Name, node.english_name AS ETF_English_Name, score AS SearchRelevance\n",
    "\n",
    "Few-shot Examples:\n",
    "{few_shot_examples}\n",
    "\n",
    "Question: {question}\n",
    "Cypher query:\n",
    "\"\"\"\n",
    "\n",
    "CYPHER_GENERATION_PROMPT = PromptTemplate(\n",
    "    input_variables=[\"schema\", \"question\", \"few_shot_examples\"], \n",
    "    template=CYPHER_TEMPLATE\n",
    ")\n",
    "\n",
    "# Text2Cypher 체인 생성\n",
    "text2cypher_chain = (\n",
    "    {\n",
    "        \"question\": lambda x: x[\"question\"],\n",
    "        \"schema\": lambda x: graph.schema,\n",
    "        \"few_shot_examples\": lambda x: format_few_shot_examples(\n",
    "            example_selector.select_examples({\"question\": x[\"question\"]})\n",
    "        )\n",
    "    }\n",
    "    | CYPHER_GENERATION_PROMPT \n",
    "    | llm \n",
    "    | StrOutputParser()\n",
    ")\n",
    "\n",
    "# Text2Cypher 체인 테스트\n",
    "cypher_query = text2cypher_chain.invoke({\"question\": \"전문 검색으로 AI 관련 ETF를 찾고 관련도 점수를 알려주세요.\"})\n",
    "print(f\"Cypher query: {cypher_query}\")\n",
    "\n",
    "# 쿼리 실행\n",
    "result = graph.query(cypher_query)\n",
    "print(result)"
   ],
   "outputs": [
    {
     "name": "stdout",
     "output_type": "stream",
     "text": [
      "Cypher query: CALL db.index.fulltext.queryNodes('etf_name_fulltext', 'AI')\n",
      "YIELD node, score\n",
      "RETURN node.name AS ETF_Name, node.english_name AS ETF_English_Name, score AS SearchRelevance\n",
      "ORDER BY SearchRelevance DESC\n",
      "LIMIT 5\n",
      "[{'ETF_Name': 'TIGER 글로벌AI&로보틱스 INDXX', 'ETF_English_Name': 'TIGER Global AI & Robotics', 'SearchRelevance': 1.378050684928894}, {'ETF_Name': 'SOL 미국AI소프트웨어', 'ETF_English_Name': 'SOL US AI Software', 'SearchRelevance': 1.378050684928894}, {'ETF_Name': 'TIGER 글로벌AI인프라액티브', 'ETF_English_Name': 'TIGER GLOBAL AI INFRA ACTIVE', 'SearchRelevance': 1.2547351121902466}, {'ETF_Name': 'TIGER 글로벌온디바이스AI', 'ETF_English_Name': 'TIGER GLOBAL ON DEVICE AI ETF', 'SearchRelevance': 1.2547351121902466}, {'ETF_Name': 'TIGER AI반도체핵심공정', 'ETF_English_Name': 'TIGER AI Semiconductor Core Tech', 'SearchRelevance': 1.2547351121902466}]\n"
     ]
    }
   ],
   "execution_count": 49
  },
  {
   "cell_type": "code",
   "id": "129806e5",
   "metadata": {
    "ExecuteTime": {
     "end_time": "2025-08-20T03:29:16.443694Z",
     "start_time": "2025-08-20T03:29:00.753923Z"
    }
   },
   "source": [
    "from langchain_neo4j import GraphCypherQAChain\n",
    "from langchain_openai import ChatOpenAI\n",
    "\n",
    "\n",
    "# LLM 모델 설정\n",
    "llm = ChatOpenAI(model=\"gpt-5\", temperature=0)\n",
    "\n",
    "# 커스텀 프롬프트 적용 GraphCypherQAChain 생성\n",
    "cypher_qa_chain = GraphCypherQAChain.from_llm(\n",
    "    llm=llm,\n",
    "    graph=graph,\n",
    "    verbose=True,\n",
    "    \n",
    "    allow_dangerous_requests=True,\n",
    "    return_intermediate_steps=True,\n",
    "    \n",
    "    # few_shot_examples 처리를 위한 cypher_llm_chain_kwargs 설정\n",
    "    cypher_llm_chain_kwargs={\n",
    "        \"llm\": llm,\n",
    "        \"prompt\": CYPHER_GENERATION_PROMPT\n",
    "    }\n",
    ")\n",
    "\n",
    "# 쿼리 실행 함수\n",
    "def query_graph(question):\n",
    "    # 쿼리 실행\n",
    "    result = cypher_qa_chain.invoke({\n",
    "        \"query\": question,\n",
    "        \"few_shot_examples\": format_few_shot_examples(\n",
    "            example_selector.select_examples({\"question\": question})\n",
    "        )\n",
    "    })\n",
    "    return result\n",
    "\n",
    "# 예시 쿼리 테스트\n",
    "question = \"미래에셋자산운용에서 운용하는 ETF는 무엇인가요??\"\n",
    "result = query_graph(question)\n"
   ],
   "outputs": [
    {
     "name": "stdout",
     "output_type": "stream",
     "text": [
      "\n",
      "\n",
      "\u001B[1m> Entering new GraphCypherQAChain chain...\u001B[0m\n",
      "Generated Cypher:\n",
      "\u001B[32;1m\u001B[1;3mMATCH (am:AssetManager {name: \"미래에셋자산운용\"})<-[:MANAGED_BY]-(e:ETF)\n",
      "RETURN e.id AS etfId, e.name AS name, e.code AS code, e.english_name AS englishName, e.listing_date AS listingDate\n",
      "ORDER BY name;\u001B[0m\n",
      "Full Context:\n",
      "\u001B[32;1m\u001B[1;3m[{'etfId': 'ETF139270', 'name': 'TIGER 200금융', 'code': 139270, 'englishName': 'TIGER 200 FINANCIALS', 'listingDate': '2011-04-06'}, {'etfId': 'ETF227550', 'name': 'TIGER 200산업재', 'code': 227550, 'englishName': 'TIGER 200 INDUSTRIALS', 'listingDate': '2015-09-23'}, {'etfId': 'ETF252710', 'name': 'TIGER 200선물인버스2X', 'code': 252710, 'englishName': 'TIGER 200 Futures Inverse 2X', 'listingDate': '2016-09-22'}, {'etfId': 'ETF139240', 'name': 'TIGER 200철강소재', 'code': 139240, 'englishName': 'TIGER 200 STEEL&', 'listingDate': '2011-04-06'}, {'etfId': 'ETF315270', 'name': 'TIGER 200커뮤니케이션서비스', 'code': 315270, 'englishName': 'TIGER 200CS', 'listingDate': '2019-01-15'}, {'etfId': 'ETF480260', 'name': 'TIGER 27-04회사채(A+이상)액티브', 'code': 480260, 'englishName': 'TIGER 27-04 CORPORATE ACTIVE', 'listingDate': '2024-04-23'}, {'etfId': 'ETF471760', 'name': 'TIGER AI반도체핵심공정', 'code': 471760, 'englishName': 'TIGER AI Semiconductor Core Tech', 'listingDate': '2023-11-21'}, {'etfId': 'ETF404540', 'name': 'TIGER KRX기후변화솔루션', 'code': 404540, 'englishName': 'TIGER KRX Climate Change Solutions', 'listingDate': '2021-10-29'}, {'etfId': 'ETF269370', 'name': 'TIGER S&P글로벌인프라(합성)', 'code': 269370, 'englishName': 'TIGER SYNTH-S&P GLOBAL INFRASTRUCTURE', 'listingDate': '2017-05-16'}, {'etfId': 'ETF114820', 'name': 'TIGER 국채3년', 'code': 114820, 'englishName': 'TIGER KTB3Y', 'listingDate': '2009-08-27'}]\u001B[0m\n",
      "\n",
      "\u001B[1m> Finished chain.\u001B[0m\n"
     ]
    }
   ],
   "execution_count": 50
  },
  {
   "cell_type": "code",
   "id": "6538dc03",
   "metadata": {
    "ExecuteTime": {
     "end_time": "2025-08-20T03:29:56.034584Z",
     "start_time": "2025-08-20T03:29:56.032132Z"
    }
   },
   "source": [
    "# 결과 출력\n",
    "for k, v in result.items():\n",
    "    print(f\"{k}:\\n{v}\")\n",
    "    print(\"-\" * 100)"
   ],
   "outputs": [
    {
     "name": "stdout",
     "output_type": "stream",
     "text": [
      "query:\n",
      "미래에셋자산운용에서 운용하는 ETF는 무엇인가요??\n",
      "----------------------------------------------------------------------------------------------------\n",
      "few_shot_examples:\n",
      "Question: 미래에셋자산운용에서 관리하는 ETF 중 해외 시장에 투자하는 것은?\n",
      "Cypher query: MATCH (e:ETF)-[:MANAGED_BY]->(:AssetManager {name: '미래에셋자산운용'}), (e)-[:INVESTS_IN]->(:Market {name: '해외'}) RETURN e.korean_name, e.code, e.base_market LIMIT 5\n",
      "\n",
      "Question: 교보악사자산운용에서 관리하는 ETF는 무엇인가요?\n",
      "Cypher query: MATCH (e:ETF)-[:MANAGED_BY]->(:AssetManager {name: '교보악사자산운용'}) RETURN e.korean_name, e.code, e.fund_type LIMIT 5\n",
      "\n",
      "Question: 총 보수가 0.5% 미만인 주식형 ETF는 무엇인가요?\n",
      "Cypher query: MATCH (e:ETF)-[:INVESTS_IN]->(:AssetClass {name: '주식'}) WHERE e.total_fee < 0.5 RETURN e.korean_name, e.code, e.total_fee ORDER BY e.total_fee ASC LIMIT 5\n",
      "----------------------------------------------------------------------------------------------------\n",
      "result:\n",
      "다음 ETF입니다:\n",
      "- TIGER 200금융 (139270)\n",
      "- TIGER 200산업재 (227550)\n",
      "- TIGER 200선물인버스2X (252710)\n",
      "- TIGER 200철강소재 (139240)\n",
      "- TIGER 200커뮤니케이션서비스 (315270)\n",
      "- TIGER 27-04회사채(A+이상)액티브 (480260)\n",
      "- TIGER AI반도체핵심공정 (471760)\n",
      "- TIGER KRX기후변화솔루션 (404540)\n",
      "- TIGER S&P글로벌인프라(합성) (269370)\n",
      "- TIGER 국채3년 (114820)\n",
      "----------------------------------------------------------------------------------------------------\n",
      "intermediate_steps:\n",
      "[{'query': 'MATCH (am:AssetManager {name: \"미래에셋자산운용\"})<-[:MANAGED_BY]-(e:ETF)\\nRETURN e.id AS etfId, e.name AS name, e.code AS code, e.english_name AS englishName, e.listing_date AS listingDate\\nORDER BY name;'}, {'context': [{'etfId': 'ETF139270', 'name': 'TIGER 200금융', 'code': 139270, 'englishName': 'TIGER 200 FINANCIALS', 'listingDate': '2011-04-06'}, {'etfId': 'ETF227550', 'name': 'TIGER 200산업재', 'code': 227550, 'englishName': 'TIGER 200 INDUSTRIALS', 'listingDate': '2015-09-23'}, {'etfId': 'ETF252710', 'name': 'TIGER 200선물인버스2X', 'code': 252710, 'englishName': 'TIGER 200 Futures Inverse 2X', 'listingDate': '2016-09-22'}, {'etfId': 'ETF139240', 'name': 'TIGER 200철강소재', 'code': 139240, 'englishName': 'TIGER 200 STEEL&', 'listingDate': '2011-04-06'}, {'etfId': 'ETF315270', 'name': 'TIGER 200커뮤니케이션서비스', 'code': 315270, 'englishName': 'TIGER 200CS', 'listingDate': '2019-01-15'}, {'etfId': 'ETF480260', 'name': 'TIGER 27-04회사채(A+이상)액티브', 'code': 480260, 'englishName': 'TIGER 27-04 CORPORATE ACTIVE', 'listingDate': '2024-04-23'}, {'etfId': 'ETF471760', 'name': 'TIGER AI반도체핵심공정', 'code': 471760, 'englishName': 'TIGER AI Semiconductor Core Tech', 'listingDate': '2023-11-21'}, {'etfId': 'ETF404540', 'name': 'TIGER KRX기후변화솔루션', 'code': 404540, 'englishName': 'TIGER KRX Climate Change Solutions', 'listingDate': '2021-10-29'}, {'etfId': 'ETF269370', 'name': 'TIGER S&P글로벌인프라(합성)', 'code': 269370, 'englishName': 'TIGER SYNTH-S&P GLOBAL INFRASTRUCTURE', 'listingDate': '2017-05-16'}, {'etfId': 'ETF114820', 'name': 'TIGER 국채3년', 'code': 114820, 'englishName': 'TIGER KTB3Y', 'listingDate': '2009-08-27'}]}]\n",
      "----------------------------------------------------------------------------------------------------\n"
     ]
    }
   ],
   "execution_count": 51
  },
  {
   "cell_type": "code",
   "id": "a9647f92",
   "metadata": {
    "ExecuteTime": {
     "end_time": "2025-08-20T03:30:27.429544Z",
     "start_time": "2025-08-20T03:30:01.266622Z"
    }
   },
   "source": [
    "from langchain_neo4j import GraphCypherQAChain\n",
    "from langchain_core.prompts import ChatPromptTemplate\n",
    "\n",
    "# ETF 추천을 위한 프롬프트 템플릿 정의\n",
    "ETF_RECOMMENDATION_TEMPLATE = \"\"\"\n",
    "당신은 ETF 데이터베이스 분석 전문가로서 ETF 데이터에 대한 명확하고 간결한 정보를 한국어로 제공합니다.\n",
    "\n",
    "질문: {question}\n",
    "검색 결과: {context}\n",
    "\n",
    "응답 가이드라인:\n",
    "- 검색 결과에서 핵심 정보를 요약하세요\n",
    "- ETF 데이터에 대한 명확하고 객관적인 개요를 제공하세요\n",
    "- 전문적이고 유익한 톤을 사용하세요\n",
    "- ETF 데이터의 중요한 패턴이나 추세를 강조하세요\n",
    "- 컨텍스트가 부족하거나 근거가 없을 경우 정보가 부족하다고 명확히 언급하세요\n",
    "- 추측이나 개인적인 해석은 피하세요\n",
    "- 데이터베이스에서 관련 정보를 찾을 수 없는 경우, 정확한 정보를 제공할 수 없다고 명시하세요\n",
    "\n",
    "응답 형식:\n",
    "- 간략한 발견 요약으로 시작하세요\n",
    "- 여러 ETF가 발견된 경우 간결한 개요를 제공하세요\n",
    "- 가독성을 위해 글머리 기호나 짧은 단락을 사용하세요\n",
    "- 상장일, 수수료율, 투자 테마, 시장 등과 같은 관련 세부 정보를 포함하세요\n",
    "- 수치 데이터나 기술 용어를 쉽게 이해할 수 있는 언어로 번역하세요\n",
    "\n",
    "응답 구조 예시:\n",
    "\"분석 결과: [주요 발견 사항 요약]\n",
    "\n",
    "주요 특징:\n",
    "- [첫 번째 중요한 통찰]\n",
    "- [두 번째 중요한 통찰]\n",
    "\n",
    "추가 정보: [필요한 경우 추가 설명]\"\n",
    "\"\"\"\n",
    "\n",
    "# ETF 추천 프롬프트 템플릿 생성\n",
    "etf_recommendation_prompt = ChatPromptTemplate.from_template(ETF_RECOMMENDATION_TEMPLATE)\n",
    "\n",
    "\n",
    "# ETF 추천을 위한 GraphCypherQAChain 생성\n",
    "etf_qa_chain = GraphCypherQAChain.from_llm(\n",
    "    llm=llm,\n",
    "    graph=graph,  \n",
    "    verbose=True,\n",
    "    cypher_prompt=CYPHER_GENERATION_PROMPT,\n",
    "    qa_prompt=etf_recommendation_prompt,\n",
    "    validate_cypher=True,\n",
    "    return_intermediate_steps=True,\n",
    "    allow_dangerous_requests=True,\n",
    "    top_k=5,\n",
    "    return_direct=False,\n",
    "    \n",
    "    # few_shot_examples 처리를 위한 cypher_llm_chain_kwargs 설정\n",
    "    cypher_llm_chain_kwargs={\n",
    "        \"llm\": llm,\n",
    "        \"prompt\": CYPHER_GENERATION_PROMPT\n",
    "    }\n",
    ")\n",
    "\n",
    "# 쿼리 실행 함수\n",
    "def query_graph(question):\n",
    "    # 쿼리 실행\n",
    "    result = etf_qa_chain.invoke({\n",
    "        \"query\": question,\n",
    "        \"few_shot_examples\": format_few_shot_examples(\n",
    "            example_selector.select_examples({\"question\": question})\n",
    "        )\n",
    "    })\n",
    "    return result\n",
    "\n",
    "# 예시 쿼리 테스트\n",
    "question = \"전문 검색으로 AI 관련 ETF를 찾고 관련도 점수를 알려주세요.\"\n",
    "result = query_graph(question)"
   ],
   "outputs": [
    {
     "name": "stdout",
     "output_type": "stream",
     "text": [
      "\n",
      "\n",
      "\u001B[1m> Entering new GraphCypherQAChain chain...\u001B[0m\n",
      "Generated Cypher:\n",
      "\u001B[32;1m\u001B[1;3mCALL db.index.fulltext.queryNodes('etf_name_fulltext', 'AI')\n",
      "YIELD node, score\n",
      "RETURN node.name AS ETF_Name, node.english_name AS ETF_English_Name, score AS SearchRelevance\n",
      "ORDER BY SearchRelevance DESC\n",
      "LIMIT 5\u001B[0m\n",
      "Full Context:\n",
      "\u001B[32;1m\u001B[1;3m[{'ETF_Name': 'TIGER 글로벌AI&로보틱스 INDXX', 'ETF_English_Name': 'TIGER Global AI & Robotics', 'SearchRelevance': 1.378050684928894}, {'ETF_Name': 'SOL 미국AI소프트웨어', 'ETF_English_Name': 'SOL US AI Software', 'SearchRelevance': 1.378050684928894}, {'ETF_Name': 'TIGER 글로벌AI인프라액티브', 'ETF_English_Name': 'TIGER GLOBAL AI INFRA ACTIVE', 'SearchRelevance': 1.2547351121902466}, {'ETF_Name': 'TIGER 글로벌온디바이스AI', 'ETF_English_Name': 'TIGER GLOBAL ON DEVICE AI ETF', 'SearchRelevance': 1.2547351121902466}, {'ETF_Name': 'TIGER AI반도체핵심공정', 'ETF_English_Name': 'TIGER AI Semiconductor Core Tech', 'SearchRelevance': 1.2547351121902466}]\u001B[0m\n",
      "\n",
      "\u001B[1m> Finished chain.\u001B[0m\n"
     ]
    }
   ],
   "execution_count": 52
  },
  {
   "cell_type": "code",
   "id": "04d2aa70",
   "metadata": {
    "ExecuteTime": {
     "end_time": "2025-08-20T03:30:45.853241Z",
     "start_time": "2025-08-20T03:30:45.851037Z"
    }
   },
   "source": [
    "print(result['result'])"
   ],
   "outputs": [
    {
     "name": "stdout",
     "output_type": "stream",
     "text": [
      "분석 결과: AI 관련 ETF 5종이 식별되었으며, 관련도 점수는 상위(약 1.378)와 차상위(약 1.255) 두 구간으로 군집됩니다.\n",
      "\n",
      "주요 특징:\n",
      "- 모두 AI 핵심·연관 서브테마(로보틱스, 소프트웨어, 인프라, 온디바이스, 반도체)를 직접적으로 명시\n",
      "- 발행사 측면에서 TIGER 계열 4종, SOL 1종으로 특정 브랜드 편중\n",
      "- 최상위 관련도는 글로벌 AI&로보틱스, 미국 AI 소프트웨어 테마에 해당\n",
      "\n",
      "ETF별 요약(관련도 점수):\n",
      "- TIGER 글로벌AI&로보틱스 INDXX (TIGER Global AI & Robotics): 1.378\n",
      "- SOL 미국AI소프트웨어 (SOL US AI Software): 1.378\n",
      "- TIGER 글로벌AI인프라액티브 (TIGER GLOBAL AI INFRA ACTIVE): 1.255\n",
      "- TIGER 글로벌온디바이스AI (TIGER GLOBAL ON DEVICE AI ETF): 1.255\n",
      "- TIGER AI반도체핵심공정 (TIGER AI Semiconductor Core Tech): 1.255\n",
      "\n",
      "추가 정보:\n",
      "- 상장일, 총보수/수수료, 상장시장, 추종지수 등 세부 항목은 제공된 데이터에 없습니다(정보 부족). 해당 항목 확인을 위해서는 추가 데이터가 필요합니다.\n",
      "- 관련도 점수는 검색 엔진의 유사도 지표로 해석되며, 투자 적합성이나 성과를 보장하지 않습니다.\n"
     ]
    }
   ],
   "execution_count": 55
  },
  {
   "cell_type": "code",
   "id": "1517258d",
   "metadata": {
    "ExecuteTime": {
     "end_time": "2025-08-20T03:30:27.505131Z",
     "start_time": "2025-08-20T03:30:27.499794Z"
    }
   },
   "source": [
    "print(result['intermediate_steps'])"
   ],
   "outputs": [
    {
     "name": "stdout",
     "output_type": "stream",
     "text": [
      "[{'query': \"CALL db.index.fulltext.queryNodes('etf_name_fulltext', 'AI')\\nYIELD node, score\\nRETURN node.name AS ETF_Name, node.english_name AS ETF_English_Name, score AS SearchRelevance\\nORDER BY SearchRelevance DESC\\nLIMIT 5\"}, {'context': [{'ETF_Name': 'TIGER 글로벌AI&로보틱스 INDXX', 'ETF_English_Name': 'TIGER Global AI & Robotics', 'SearchRelevance': 1.378050684928894}, {'ETF_Name': 'SOL 미국AI소프트웨어', 'ETF_English_Name': 'SOL US AI Software', 'SearchRelevance': 1.378050684928894}, {'ETF_Name': 'TIGER 글로벌AI인프라액티브', 'ETF_English_Name': 'TIGER GLOBAL AI INFRA ACTIVE', 'SearchRelevance': 1.2547351121902466}, {'ETF_Name': 'TIGER 글로벌온디바이스AI', 'ETF_English_Name': 'TIGER GLOBAL ON DEVICE AI ETF', 'SearchRelevance': 1.2547351121902466}, {'ETF_Name': 'TIGER AI반도체핵심공정', 'ETF_English_Name': 'TIGER AI Semiconductor Core Tech', 'SearchRelevance': 1.2547351121902466}]}]\n"
     ]
    }
   ],
   "execution_count": 54
  },
  {
   "cell_type": "code",
   "execution_count": null,
   "id": "c0ce8f65",
   "metadata": {},
   "outputs": [],
   "source": []
  }
 ],
 "metadata": {
  "kernelspec": {
   "display_name": ".venv",
   "language": "python",
   "name": "python3"
  },
  "language_info": {
   "codemirror_mode": {
    "name": "ipython",
    "version": 3
   },
   "file_extension": ".py",
   "mimetype": "text/x-python",
   "name": "python",
   "nbconvert_exporter": "python",
   "pygments_lexer": "ipython3",
   "version": "3.12.9"
  }
 },
 "nbformat": 4,
 "nbformat_minor": 5
}
