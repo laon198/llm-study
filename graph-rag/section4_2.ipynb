{
 "cells": [
  {
   "cell_type": "markdown",
   "id": "b735da82",
   "metadata": {},
   "source": [
    "# Neo4j와 LangChain을 활용한 영화 추천 시스템"
   ]
  },
  {
   "cell_type": "markdown",
   "id": "a0613508",
   "metadata": {},
   "source": [
    "---\n",
    "\n",
    "## 1. Neo4J AuraDB 환경 설정"
   ]
  },
  {
   "cell_type": "code",
   "id": "1dc7d00f",
   "metadata": {
    "ExecuteTime": {
     "end_time": "2025-08-19T06:45:48.612785Z",
     "start_time": "2025-08-19T06:45:48.604680Z"
    }
   },
   "source": [
    "import os\n",
    "from dotenv import load_dotenv\n",
    "\n",
    "# 환경 변수 로드\n",
    "load_dotenv()"
   ],
   "outputs": [
    {
     "data": {
      "text/plain": [
       "True"
      ]
     },
     "execution_count": 1,
     "metadata": {},
     "output_type": "execute_result"
    }
   ],
   "execution_count": 1
  },
  {
   "cell_type": "code",
   "id": "f765676e",
   "metadata": {
    "ExecuteTime": {
     "end_time": "2025-08-19T06:45:51.505872Z",
     "start_time": "2025-08-19T06:45:49.479964Z"
    }
   },
   "source": [
    "from langchain_neo4j import Neo4jGraph\n",
    "\n",
    "# LangChain 도구 활용 - DB 연결 객체 초기화 \n",
    "graph = Neo4jGraph( \n",
    "    url=os.getenv(\"NEO4J_URI\"), \n",
    "    username=os.getenv(\"NEO4J_USERNAME\"), \n",
    "    password=os.getenv(\"NEO4J_PASSWORD\"),\n",
    ")"
   ],
   "outputs": [],
   "execution_count": 2
  },
  {
   "cell_type": "code",
   "id": "78a4a57a",
   "metadata": {
    "ExecuteTime": {
     "end_time": "2025-08-19T06:45:54.062095Z",
     "start_time": "2025-08-19T06:45:54.031519Z"
    }
   },
   "source": [
    "# 테스트 쿼리 실행 \n",
    "cypher_query = \"\"\"\n",
    "MATCH (n:Movie)\n",
    "RETURN COUNT(n) AS Movie_Count\n",
    "\"\"\"\n",
    "\n",
    "graph.query(cypher_query)"
   ],
   "outputs": [
    {
     "data": {
      "text/plain": [
       "[{'Movie_Count': 4803}]"
      ]
     },
     "execution_count": 3,
     "metadata": {},
     "output_type": "execute_result"
    }
   ],
   "execution_count": 3
  },
  {
   "cell_type": "markdown",
   "id": "a170faec",
   "metadata": {},
   "source": [
    "---\n",
    "\n",
    "## 2. Neo4j Cypher 쿼리 분석 - 영화 데이터베이스 활용\n",
    "\n",
    "\n",
    "1. **그래프 패턴 매칭**:\n",
    "   - Cypher의 가장 큰 강점은 노드-관계 패턴을 직관적으로 표현할 수 있다는 점입니다.\n",
    "   - 화살표(`->`), 관계 타입(`[:ACTED_IN]`) 등을 통해 그래프 구조를 명확히 표현합니다.\n",
    "\n",
    "2. **데이터 집계 및 변환**:\n",
    "   - `count()`, `collect()` 등의 함수를 사용해 결과를 집계하고 변환합니다.\n",
    "   - `WITH` 절을 사용해 중간 결과를 다음 단계로 전달합니다.\n",
    "\n",
    "3. **가중치 기반 점수 계산**:\n",
    "   - 복합 추천 시스템에서는 다양한 요소(장르, 배우)에 가중치를 부여하여 추천 점수를 계산합니다.\n",
    "   - `size()` 함수로 배열 크기를 계산하고 이를 곱셈 연산에 활용합니다.\n",
    "\n",
    "4. **매개변수 사용**:\n",
    "   - `$actor_name`, `$movie_title`과 같은 매개변수를 사용해 동적 쿼리를 구성합니다.\n",
    "   - 이는 SQL의 준비된 문장(Prepared Statement)과 유사한 역할을 합니다.\n",
    "\n",
    "5. **OPTIONAL MATCH**:\n",
    "   - SQL의 LEFT JOIN과 유사한 개념으로, 일치하는 패턴이 없어도 결과를 반환합니다.\n",
    "   - 복합 추천 시스템에서 장르나 배우가 일치하지 않는 경우에도 계속 처리할 수 있게 합니다.\n",
    "   \n",
    "\n",
    "### 2.1 기본 분석 쿼리"
   ]
  },
  {
   "cell_type": "markdown",
   "id": "e3009cb9",
   "metadata": {},
   "source": [
    "- **평점 높은 영화 상위 10개 조회**:\n",
    "\n",
    "    - **MATCH (m:Movie)**: Movie 라벨을 가진 모든 노드를 찾습니다.\n",
    "    - **WHERE m.rating IS NOT NULL**: 평점이 NULL이 아닌 영화만 필터링합니다.\n",
    "    - **RETURN**: 영화 제목, 개봉일, 평점을 반환하고 의미 있는 열 이름으로 별칭을 지정합니다.\n",
    "    - **ORDER BY m.rating DESC**: 평점 기준 내림차순 정렬합니다.\n",
    "    - **LIMIT 10**: 상위 10개 결과만 반환합니다."
   ]
  },
  {
   "cell_type": "code",
   "id": "84e242ba",
   "metadata": {
    "ExecuteTime": {
     "end_time": "2025-08-19T06:47:48.476136Z",
     "start_time": "2025-08-19T06:47:48.382609Z"
    }
   },
   "source": [
    "# 평점 기준 상위 10개 영화를 조회하는 Cypher 쿼리\n",
    "cypher_query = \"\"\"\n",
    "MATCH (m:Movie)                                 // Movie 라벨을 가진 모든 노드 매칭\n",
    "WHERE m.rating IS NOT NULL                      // 평점 값이 존재하는 영화만 필터링\n",
    "RETURN m.title AS Movie,                        // 영화 제목을 'Movie'라는 별칭으로 반환\n",
    "       m.released AS Released,                  // 개봉일을 'Released'라는 별칭으로 반환\n",
    "       m.rating AS Rating                       // 평점을 'Rating'이라는 별칭으로 반환\n",
    "ORDER BY m.rating DESC                          // 평점 기준 내림차순 정렬 (높은 평점부터)\n",
    "LIMIT 10                                        // 상위 10개 결과만 반환\n",
    "\"\"\"\n",
    "\n",
    "# Neo4j 데이터베이스에 쿼리 실행 및 결과 반환\n",
    "result = graph.query(cypher_query)\n",
    "\n",
    "result"
   ],
   "outputs": [
    {
     "data": {
      "text/plain": [
       "[{'Movie': 'Stiff Upper Lips', 'Released': '1998-06-12', 'Rating': 10.0},\n",
       " {'Movie': 'Little Big Top', 'Released': '2006-01-01', 'Rating': 10.0},\n",
       " {'Movie': 'Me You and Five Bucks', 'Released': '2015-07-07', 'Rating': 10.0},\n",
       " {'Movie': 'Dancer, Texas Pop. 81', 'Released': '1998-05-01', 'Rating': 10.0},\n",
       " {'Movie': 'Sardaarji', 'Released': '2015-06-26', 'Rating': 9.5},\n",
       " {'Movie': \"One Man's Hero\", 'Released': '1999-08-02', 'Rating': 9.3},\n",
       " {'Movie': 'The Shawshank Redemption',\n",
       "  'Released': '1994-09-23',\n",
       "  'Rating': 8.5},\n",
       " {'Movie': 'There Goes My Baby', 'Released': '1994-09-02', 'Rating': 8.5},\n",
       " {'Movie': 'The Prisoner of Zenda', 'Released': '1937-09-03', 'Rating': 8.4},\n",
       " {'Movie': 'The Godfather', 'Released': '1972-03-14', 'Rating': 8.4}]"
      ]
     },
     "execution_count": 4,
     "metadata": {},
     "output_type": "execute_result"
    }
   ],
   "execution_count": 4
  },
  {
   "cell_type": "code",
   "id": "bb97f314",
   "metadata": {
    "ExecuteTime": {
     "end_time": "2025-08-19T06:48:44.720470Z",
     "start_time": "2025-08-19T06:48:44.693988Z"
    }
   },
   "source": [
    "# 데이터프레임 변환\n",
    "import pandas as pd\n",
    "\n",
    "pd.DataFrame(result)"
   ],
   "outputs": [
    {
     "data": {
      "text/plain": [
       "                      Movie    Released  Rating\n",
       "0          Stiff Upper Lips  1998-06-12    10.0\n",
       "1            Little Big Top  2006-01-01    10.0\n",
       "2     Me You and Five Bucks  2015-07-07    10.0\n",
       "3     Dancer, Texas Pop. 81  1998-05-01    10.0\n",
       "4                 Sardaarji  2015-06-26     9.5\n",
       "5            One Man's Hero  1999-08-02     9.3\n",
       "6  The Shawshank Redemption  1994-09-23     8.5\n",
       "7        There Goes My Baby  1994-09-02     8.5\n",
       "8     The Prisoner of Zenda  1937-09-03     8.4\n",
       "9             The Godfather  1972-03-14     8.4"
      ],
      "text/html": [
       "<div>\n",
       "<style scoped>\n",
       "    .dataframe tbody tr th:only-of-type {\n",
       "        vertical-align: middle;\n",
       "    }\n",
       "\n",
       "    .dataframe tbody tr th {\n",
       "        vertical-align: top;\n",
       "    }\n",
       "\n",
       "    .dataframe thead th {\n",
       "        text-align: right;\n",
       "    }\n",
       "</style>\n",
       "<table border=\"1\" class=\"dataframe\">\n",
       "  <thead>\n",
       "    <tr style=\"text-align: right;\">\n",
       "      <th></th>\n",
       "      <th>Movie</th>\n",
       "      <th>Released</th>\n",
       "      <th>Rating</th>\n",
       "    </tr>\n",
       "  </thead>\n",
       "  <tbody>\n",
       "    <tr>\n",
       "      <th>0</th>\n",
       "      <td>Stiff Upper Lips</td>\n",
       "      <td>1998-06-12</td>\n",
       "      <td>10.0</td>\n",
       "    </tr>\n",
       "    <tr>\n",
       "      <th>1</th>\n",
       "      <td>Little Big Top</td>\n",
       "      <td>2006-01-01</td>\n",
       "      <td>10.0</td>\n",
       "    </tr>\n",
       "    <tr>\n",
       "      <th>2</th>\n",
       "      <td>Me You and Five Bucks</td>\n",
       "      <td>2015-07-07</td>\n",
       "      <td>10.0</td>\n",
       "    </tr>\n",
       "    <tr>\n",
       "      <th>3</th>\n",
       "      <td>Dancer, Texas Pop. 81</td>\n",
       "      <td>1998-05-01</td>\n",
       "      <td>10.0</td>\n",
       "    </tr>\n",
       "    <tr>\n",
       "      <th>4</th>\n",
       "      <td>Sardaarji</td>\n",
       "      <td>2015-06-26</td>\n",
       "      <td>9.5</td>\n",
       "    </tr>\n",
       "    <tr>\n",
       "      <th>5</th>\n",
       "      <td>One Man's Hero</td>\n",
       "      <td>1999-08-02</td>\n",
       "      <td>9.3</td>\n",
       "    </tr>\n",
       "    <tr>\n",
       "      <th>6</th>\n",
       "      <td>The Shawshank Redemption</td>\n",
       "      <td>1994-09-23</td>\n",
       "      <td>8.5</td>\n",
       "    </tr>\n",
       "    <tr>\n",
       "      <th>7</th>\n",
       "      <td>There Goes My Baby</td>\n",
       "      <td>1994-09-02</td>\n",
       "      <td>8.5</td>\n",
       "    </tr>\n",
       "    <tr>\n",
       "      <th>8</th>\n",
       "      <td>The Prisoner of Zenda</td>\n",
       "      <td>1937-09-03</td>\n",
       "      <td>8.4</td>\n",
       "    </tr>\n",
       "    <tr>\n",
       "      <th>9</th>\n",
       "      <td>The Godfather</td>\n",
       "      <td>1972-03-14</td>\n",
       "      <td>8.4</td>\n",
       "    </tr>\n",
       "  </tbody>\n",
       "</table>\n",
       "</div>"
      ]
     },
     "execution_count": 5,
     "metadata": {},
     "output_type": "execute_result"
    }
   ],
   "execution_count": 5
  },
  {
   "cell_type": "markdown",
   "id": "1b246bfd",
   "metadata": {},
   "source": [
    "- **출연 영화 많은 배우 상위 10명**:\n",
    "\n",
    "    - **MATCH (p:Person)-[:ACTED_IN]->(m:Movie)**: Person 노드에서 ACTED_IN 관계를 통해 Movie 노드로 연결된 패턴을 찾습니다.\n",
    "    - **count(m)**: 배우별로 연결된 영화 노드 수를 계산합니다.\n",
    "    - **ORDER BY MovieCount DESC**: 출연 영화 수 기준 내림차순 정렬합니다."
   ]
  },
  {
   "cell_type": "code",
   "id": "26fd999d",
   "metadata": {
    "ExecuteTime": {
     "end_time": "2025-08-19T06:49:20.597539Z",
     "start_time": "2025-08-19T06:49:20.477403Z"
    }
   },
   "source": [
    "# 출연 영화가 많은 배우 상위 10명을 조회하는 Cypher 쿼리\n",
    "cypher_query = \"\"\"\n",
    "MATCH (p:Person)-[:ACTED_IN]->(m:Movie)         // Person 노드(배우)에서 ACTED_IN 관계를 통해 Movie 노드로 연결된 패턴 찾기\n",
    "                                               // p 변수는 Person 타입의 노드를 참조하고, m 변수는 Movie 타입의 노드를 참조함\n",
    "RETURN p.name AS Actor,                         // 배우 이름(p.name 속성)을 'Actor'라는 별칭으로 결과에 포함\n",
    "       count(m) AS MovieCount                   // 각 배우별 출연한 영화 수를 집계 함수 count()로 계산하여 'MovieCount'라는 별칭으로 반환\n",
    "                                               // count(m)은 각 배우(p)가 ACTED_IN 관계로 연결된 영화(m) 노드의 개수를 계산함\n",
    "ORDER BY MovieCount DESC                        // 출연 영화 수(MovieCount) 기준 내림차순(DESC) 정렬\n",
    "                                               // 가장 많은 영화에 출연한 배우가 결과의 상단에 위치하게 됨\n",
    "LIMIT 10                                        // 정렬된 결과 중 상위 10개의 레코드만 반환\n",
    "                                               // 즉, 가장 많은 영화에 출연한 상위 10명의 배우만 결과에 포함됨\n",
    "\"\"\"\n",
    "\n",
    "# Neo4j 데이터베이스에 쿼리 실행 및 결과 반환\n",
    "graph.query(cypher_query)"
   ],
   "outputs": [
    {
     "data": {
      "text/plain": [
       "[{'Actor': 'Robert De Niro', 'MovieCount': 54},\n",
       " {'Actor': 'Samuel L. Jackson', 'MovieCount': 44},\n",
       " {'Actor': 'Bruce Willis', 'MovieCount': 39},\n",
       " {'Actor': 'Matt Damon', 'MovieCount': 36},\n",
       " {'Actor': 'Morgan Freeman', 'MovieCount': 35},\n",
       " {'Actor': 'Nicolas Cage', 'MovieCount': 35},\n",
       " {'Actor': 'Brad Pitt', 'MovieCount': 32},\n",
       " {'Actor': 'Johnny Depp', 'MovieCount': 32},\n",
       " {'Actor': 'Mark Wahlberg', 'MovieCount': 31},\n",
       " {'Actor': 'Owen Wilson', 'MovieCount': 31}]"
      ]
     },
     "execution_count": 6,
     "metadata": {},
     "output_type": "execute_result"
    }
   ],
   "execution_count": 6
  },
  {
   "cell_type": "markdown",
   "id": "bd491b5f",
   "metadata": {},
   "source": [
    "- **장르별 영화 수**:\n",
    "\n",
    "    - **MATCH (m:Movie)-[:IN_GENRE]->(g:Genre)**: Movie 노드에서 IN_GENRE 관계를 통해 Genre 노드로 연결된 패턴을 찾습니다.\n",
    "    - **count(m)**: 각 장르별로 연결된 영화 수를 계산합니다.\n",
    "    - **ORDER BY MovieCount DESC**: 영화 수 기준 내림차순 정렬합니다."
   ]
  },
  {
   "cell_type": "code",
   "id": "469628e5",
   "metadata": {
    "ExecuteTime": {
     "end_time": "2025-08-19T06:49:49.767973Z",
     "start_time": "2025-08-19T06:49:49.693087Z"
    }
   },
   "source": [
    "# 장르별 영화 수를 조회하는 Cypher 쿼리\n",
    "cypher_query = \"\"\"\n",
    "MATCH (m:Movie)-[:IN_GENRE]->(g:Genre)          // Movie 노드에서 IN_GENRE 관계를 통해 Genre 노드로 연결된 패턴 찾기\n",
    "                                               // m 변수는 Movie 타입의 노드를 참조하고, g 변수는 Genre 타입의 노드를 참조함\n",
    "                                               // IN_GENRE 관계는 영화가 어떤 장르에 속하는지를 나타내는 관계임\n",
    "RETURN g.name AS Genre,                         // 장르 이름(g.name 속성)을 'Genre'라는 별칭으로 결과에 포함\n",
    "                                               // g.name은 장르 노드의 name 속성으로, 장르의 이름을 나타냄\n",
    "       count(m) AS MovieCount                   // 각 장르별 영화 수를 집계 함수 count()로 계산하여 'MovieCount'라는 별칭으로 반환\n",
    "                                               // count(m)은 각 장르(g)에 IN_GENRE 관계로 연결된 영화(m) 노드의 개수를 계산함\n",
    "ORDER BY MovieCount DESC                        // 영화 수(MovieCount) 기준 내림차순(DESC) 정렬\n",
    "                                               // 가장 많은 영화가 속한 장르가 결과의 상단에 위치하게 됨\n",
    "\"\"\"\n",
    "\n",
    "# Neo4j 데이터베이스에 쿼리 실행 및 결과 반환\n",
    "graph.query(cypher_query)"
   ],
   "outputs": [
    {
     "data": {
      "text/plain": [
       "[{'Genre': 'Drama', 'MovieCount': 2297},\n",
       " {'Genre': 'Comedy', 'MovieCount': 1722},\n",
       " {'Genre': 'Thriller', 'MovieCount': 1274},\n",
       " {'Genre': 'Action', 'MovieCount': 1154},\n",
       " {'Genre': 'Romance', 'MovieCount': 894},\n",
       " {'Genre': 'Adventure', 'MovieCount': 790},\n",
       " {'Genre': 'Crime', 'MovieCount': 696},\n",
       " {'Genre': 'Science Fiction', 'MovieCount': 535},\n",
       " {'Genre': 'Horror', 'MovieCount': 519},\n",
       " {'Genre': 'Family', 'MovieCount': 513},\n",
       " {'Genre': 'Fantasy', 'MovieCount': 424},\n",
       " {'Genre': 'Mystery', 'MovieCount': 348},\n",
       " {'Genre': 'Animation', 'MovieCount': 234},\n",
       " {'Genre': 'History', 'MovieCount': 197},\n",
       " {'Genre': 'Music', 'MovieCount': 185},\n",
       " {'Genre': 'War', 'MovieCount': 144},\n",
       " {'Genre': 'Documentary', 'MovieCount': 110},\n",
       " {'Genre': 'Western', 'MovieCount': 82},\n",
       " {'Genre': 'Foreign', 'MovieCount': 34},\n",
       " {'Genre': 'TV Movie', 'MovieCount': 8}]"
      ]
     },
     "execution_count": 7,
     "metadata": {},
     "output_type": "execute_result"
    }
   ],
   "execution_count": 7
  },
  {
   "cell_type": "markdown",
   "id": "36f3c4c5",
   "metadata": {},
   "source": [
    "### 2.2 관계 기반 고급 분석"
   ]
  },
  {
   "cell_type": "markdown",
   "id": "69fd11e1",
   "metadata": {},
   "source": [
    "- **특정 배우와 함께 출연한 배우들 찾기**:\n",
    "\n",
    "    - **MATCH (actor:Person {name: $actor_name})**: 지정된 이름을 가진 배우를 찾습니다.\n",
    "    - **-[:ACTED_IN]->(m:Movie)<-[:ACTED_IN]-(co_actor:Person)**: 해당 배우가 출연한 영화에 함께 출연한 다른 배우들을 찾습니다.\n",
    "    - **WHERE actor <> co_actor**: 동일 배우는 제외합니다(자기 자신 제외).\n",
    "    - **count(m)**: 함께 출연한 영화 수를 계산합니다.\n",
    "    - **params={\"actor_name\": \"Tom Hanks\"}**: 쿼리 매개변수로 특정 배우 이름을 전달합니다."
   ]
  },
  {
   "cell_type": "code",
   "id": "f7c5eecb",
   "metadata": {
    "ExecuteTime": {
     "end_time": "2025-08-19T06:51:07.705567Z",
     "start_time": "2025-08-19T06:51:07.634776Z"
    }
   },
   "source": [
    "cypher_query = \"\"\"\n",
    "MATCH (actor:Person {name: $actor_name})-[:ACTED_IN]->(m:Movie)<-[:ACTED_IN]-(co_actor:Person)  // 특정 배우(actor)와 함께 출연한 다른 배우(co_actor)를 찾는 패턴\n",
    "                                                                                               // actor는 name 속성이 $actor_name 파라미터와 일치하는 Person 노드\n",
    "                                                                                               // -[:ACTED_IN]-> 관계는 배우가 영화에 출연했음을 나타냄\n",
    "                                                                                               // <-[:ACTED_IN]- 관계는 다른 배우(co_actor)도 같은 영화에 출연했음을 나타냄\n",
    "WHERE actor <> co_actor                                                                        // 자기 자신은 결과에서 제외 (actor와 co_actor가 같지 않은 경우만 포함)\n",
    "RETURN co_actor.name AS CoActor, count(m) AS MoviesTogether                                    // 함께 출연한 배우 이름과 함께 출연한 영화 수를 반환\n",
    "                                                                                               // co_actor.name은 함께 출연한 배우의 이름\n",
    "                                                                                               // count(m)은 두 배우가 함께 출연한 영화의 수를 계산\n",
    "ORDER BY MoviesTogether DESC                                                                   // 함께 출연한 영화 수를 기준으로 내림차순 정렬 (가장 많이 함께 출연한 배우가 상위에 표시)\n",
    "LIMIT 5                                                                                        // 상위 5명의 배우만 결과에 포함\n",
    "\"\"\"\n",
    "\n",
    "# 쿼리 실행 시 \"Tom Hanks\"를 $actor_name 파라미터 값으로 전달\n",
    "graph.query(cypher_query, params={\"actor_name\": \"Tom Hanks\"})                                  "
   ],
   "outputs": [
    {
     "data": {
      "text/plain": [
       "[{'CoActor': 'Tim Allen', 'MoviesTogether': 3},\n",
       " {'CoActor': 'Joan Cusack', 'MoviesTogether': 2},\n",
       " {'CoActor': 'Gary Sinise', 'MoviesTogether': 2},\n",
       " {'CoActor': 'Don Rickles', 'MoviesTogether': 2},\n",
       " {'CoActor': 'Martin Sheen', 'MoviesTogether': 2}]"
      ]
     },
     "execution_count": 8,
     "metadata": {},
     "output_type": "execute_result"
    }
   ],
   "execution_count": 8
  },
  {
   "cell_type": "markdown",
   "id": "9fee04f9",
   "metadata": {},
   "source": [
    "- **배우-감독 협업 관계 분석**:\n",
    "\n",
    "    - **MATCH (a:Person)-[:ACTED_IN]->(m:Movie)<-[:DIRECTED]-(d:Person)**: 배우가 출연하고 감독이 연출한 영화를 찾는 패턴입니다.\n",
    "    - **WHERE a.name = $actor_name**: 특정 배우로 필터링합니다.\n",
    "    - **count(m)**: 배우와 감독이 함께 작업한 영화 수를 계산합니다.\n",
    "    - **params={\"actor_name\": \"Leonardo DiCaprio\"}**: 쿼리 매개변수로 배우 이름을 전달합니다."
   ]
  },
  {
   "cell_type": "code",
   "id": "cc37fa42",
   "metadata": {
    "ExecuteTime": {
     "end_time": "2025-08-19T06:51:39.447740Z",
     "start_time": "2025-08-19T06:51:39.387885Z"
    }
   },
   "source": [
    "cypher_query = \"\"\"\n",
    "MATCH (a:Person)-[:ACTED_IN]->(m:Movie)<-[:DIRECTED]-(d:Person)  // 배우(a)가 출연한 영화(m)와 그 영화를 감독한 감독(d)을 찾는 패턴\n",
    "                                                                 // (a:Person): 배우 노드\n",
    "                                                                 // -[:ACTED_IN]->: 배우가 영화에 출연했다는 관계\n",
    "                                                                 // (m:Movie): 영화 노드\n",
    "                                                                 // <-[:DIRECTED]-: 감독이 영화를 감독했다는 관계\n",
    "                                                                 // (d:Person): 감독 노드\n",
    "WHERE a.name = $actor_name                                       // 특정 배우 이름으로 필터링 (파라미터로 전달된 배우 이름과 일치하는 경우만 선택)\n",
    "RETURN d.name AS Director, count(m) AS CollaborationCount        // 감독 이름과 해당 감독과 함께 작업한 영화 수를 반환\n",
    "                                                                 // d.name: 감독의 이름\n",
    "                                                                 // count(m): 배우와 감독이 함께 작업한 영화의 수\n",
    "ORDER BY CollaborationCount DESC                                 // 협업 횟수를 기준으로 내림차순 정렬 (가장 많이 함께 작업한 감독이 상위에 표시)\n",
    "LIMIT 5                                                          // 상위 5개 결과만 반환  \n",
    "\"\"\"\n",
    "\n",
    "# 쿼리 실행 시 \"Leonardo DiCaprio\"를 $actor_name 파라미터 값으로 전달\n",
    "graph.query(cypher_query, params={\"actor_name\": \"Leonardo DiCaprio\"})  "
   ],
   "outputs": [
    {
     "data": {
      "text/plain": [
       "[{'Director': 'Martin Scorsese', 'CollaborationCount': 5},\n",
       " {'Director': 'Baz Luhrmann', 'CollaborationCount': 2},\n",
       " {'Director': 'Jerry Zaks', 'CollaborationCount': 1},\n",
       " {'Director': 'James Cameron', 'CollaborationCount': 1},\n",
       " {'Director': 'Sam Raimi', 'CollaborationCount': 1}]"
      ]
     },
     "execution_count": 9,
     "metadata": {},
     "output_type": "execute_result"
    }
   ],
   "execution_count": 9
  },
  {
   "cell_type": "markdown",
   "id": "51f4d6dd",
   "metadata": {},
   "source": [
    "### 2.3 그래프 기반 추천 시스템"
   ]
  },
  {
   "cell_type": "markdown",
   "id": "d257a8ae",
   "metadata": {},
   "source": [
    "- **장르 기반 영화 추천**:\n",
    "\n",
    "    - **MATCH (m:Movie {title: $movie_title})**: 지정된 제목의 영화를 찾습니다.\n",
    "    - **-[:IN_GENRE]->(g:Genre)<-[:IN_GENRE]-(rec:Movie)**: 같은 장르를 공유하는 다른 영화를 찾습니다.\n",
    "    - **WHERE m <> rec AND rec.rating > 7.0**: 원본 영화 자체는 제외하고, 평점이 7.0 이상인 영화만 필터링합니다.\n",
    "    - **collect(g.name) AS SharedGenres**: 공유하는 모든 장르를 배열로 수집합니다.\n",
    "    - **ORDER BY Rating DESC, size(SharedGenres) DESC**: 평점이 높은 순서, 그리고 공유 장르 수가 많은 순서로 정렬합니다."
   ]
  },
  {
   "cell_type": "code",
   "id": "14ad5175",
   "metadata": {
    "ExecuteTime": {
     "end_time": "2025-08-19T06:53:00.284677Z",
     "start_time": "2025-08-19T06:53:00.183395Z"
    }
   },
   "source": [
    "cypher_query = \"\"\"\n",
    "MATCH (m:Movie {title: $movie_title})-[:IN_GENRE]->(g:Genre)<-[:IN_GENRE]-(rec:Movie)  // 입력된 영화(m)와 같은 장르(g)에 속한 다른 영화(rec)를 찾는 패턴\n",
    "                                                                                       // (m:Movie {title: $movie_title}): 파라미터로 전달된 제목을 가진 영화 노드\n",
    "                                                                                       // -[:IN_GENRE]->: 영화가 특정 장르에 속한다는 관계\n",
    "                                                                                       // (g:Genre): 장르 노드\n",
    "                                                                                       // <-[:IN_GENRE]-: 다른 영화가 같은 장르에 속한다는 관계\n",
    "                                                                                       // (rec:Movie): 추천할 다른 영화 노드\n",
    "WHERE m <> rec AND rec.rating > 7.0                                                    // 조건: 원본 영화와 추천 영화는 서로 다른 영화여야 하고(m <> rec),\n",
    "                                                                                       // 추천 영화의 평점은 7.0 초과여야 함(rec.rating > 7.0)\n",
    "RETURN rec.title AS RecommendedMovie,                                                  // 추천 영화의 제목을 RecommendedMovie로 반환\n",
    "       rec.rating AS Rating,                                                           // 추천 영화의 평점을 Rating으로 반환\n",
    "       collect(g.name) AS SharedGenres                                                 // 공유하는 모든 장르 이름을 배열로 모아 SharedGenres로 반환\n",
    "                                                                                       // collect(): 여러 행의 값을 하나의 배열로 수집하는 집계 함수\n",
    "ORDER BY Rating DESC, size(SharedGenres) DESC                                          // 정렬 기준: 1) 평점 내림차순(높은 평점 우선)\n",
    "                                                                                       // 2) 공유 장르 수 내림차순(더 많은 장르를 공유할수록 우선)\n",
    "                                                                                       // size(): 배열의 크기를 반환하는 함수\n",
    "LIMIT 5                                                                                // 상위 5개 결과만 반환\n",
    "\"\"\"\n",
    "\n",
    "# 쿼리 실행 시 \"Apollo 13\"을 $movie_title 파라미터 값으로 전달\n",
    "graph.query(cypher_query, params={\"movie_title\": \"Apollo 13\"})                         "
   ],
   "outputs": [
    {
     "data": {
      "text/plain": [
       "[{'RecommendedMovie': 'Me You and Five Bucks',\n",
       "  'Rating': 10.0,\n",
       "  'SharedGenres': ['Drama']},\n",
       " {'RecommendedMovie': 'Dancer, Texas Pop. 81',\n",
       "  'Rating': 10.0,\n",
       "  'SharedGenres': ['Drama']},\n",
       " {'RecommendedMovie': \"One Man's Hero\",\n",
       "  'Rating': 9.3,\n",
       "  'SharedGenres': ['Drama']},\n",
       " {'RecommendedMovie': 'The Shawshank Redemption',\n",
       "  'Rating': 8.5,\n",
       "  'SharedGenres': ['Drama']},\n",
       " {'RecommendedMovie': 'There Goes My Baby',\n",
       "  'Rating': 8.5,\n",
       "  'SharedGenres': ['Drama']}]"
      ]
     },
     "execution_count": 10,
     "metadata": {},
     "output_type": "execute_result"
    }
   ],
   "execution_count": 10
  },
  {
   "cell_type": "markdown",
   "id": "020ca958",
   "metadata": {},
   "source": [
    "- **복합 추천 (장르+배우 가중치)**:\n",
    "\n",
    "    - **MATCH (m:Movie {title: $movie_title})**: 지정된 영화를 시작점으로 합니다.\n",
    "    - **MATCH (rec:Movie) WHERE m <> rec AND rec.rating > 7.0**: 다른 모든 영화 중 평점 7.0 이상인 것만 고려합니다.\n",
    "    - **OPTIONAL MATCH (m)-[:IN_GENRE]->(g:Genre)<-[:IN_GENRE]-(rec)**: 공통 장르를 찾습니다(있을 수도 없을 수도 있음).\n",
    "    - **OPTIONAL MATCH (m)<-[:ACTED_IN]-(a:Person)-[:ACTED_IN]->(rec)**: 공통 배우를 찾습니다(있을 수도 없을 수도 있음).\n",
    "    - **size(genres) * 2 + size(actors) * 3 AS score**: 추천 점수를 계산합니다. 장르는 가중치 2, 배우는 가중치 3을 부여합니다.\n",
    "    - **WHERE score > 0**: 최소한 하나 이상의 공통점이 있는 영화만 추천합니다.\n",
    "    - **ORDER BY score DESC, Rating DESC**: 추천 점수가 높은 순서, 그리고 평점이 높은 순서로 정렬합니다.\n"
   ]
  },
  {
   "cell_type": "code",
   "execution_count": null,
   "id": "f3dec2e5",
   "metadata": {},
   "outputs": [],
   "source": [
    "cypher_query = \"\"\"\n",
    "MATCH (m:Movie {title: $movie_title})                                                  // 파라미터로 전달된 제목을 가진 영화 노드를 찾음\n",
    "MATCH (rec:Movie) WHERE m <> rec AND rec.rating > 7.0                                  // 원본 영화와 다르고 평점이 7.0 초과인 모든 영화를 찾음\n",
    "OPTIONAL MATCH (m)-[:IN_GENRE]->(g:Genre)<-[:IN_GENRE]-(rec)                           // 원본 영화와 추천 영화가 공유하는 장르를 찾음 (없을 수도 있음)\n",
    "\n",
    "WITH m, rec, COLLECT(g.name) AS genres                                                 // 공유 장르 이름을 배열로 수집하여 다음 단계로 전달\n",
    "OPTIONAL MATCH (m)<-[:ACTED_IN]-(a:Person)-[:ACTED_IN]->(rec)                          // 원본 영화와 추천 영화에 모두 출연한 배우를 찾음 (없을 수도 있음)\n",
    "\n",
    "WITH m, rec, genres, COLLECT(a.name) AS actors                                         // 공유 배우 이름을 배열로 수집하여 다음 단계로 전달\n",
    "\n",
    "WITH rec, \n",
    "     size(genres) * 2 + size(actors) * 3 AS score,                                     // 추천 점수 계산: 공유 장르 수 × 2 + 공유 배우 수 × 3\n",
    "     genres, \n",
    "     actors\n",
    "WHERE score > 0                                                                        // 최소한 하나 이상의 공통점이 있는 영화만 필터링 (점수가 0보다 큰 경우)\n",
    "RETURN rec.title AS RecommendedMovie,                                                  // 추천 영화의 제목 반환\n",
    "       rec.rating AS Rating,                                                           // 추천 영화의 평점 반환\n",
    "       score AS RecommendationScore,                                                   // 계산된 추천 점수 반환\n",
    "       genres AS SharedGenres,                                                         // 공유하는 장르 목록 반환\n",
    "       actors AS SharedActors                                                          // 공유하는 배우 목록 반환\n",
    "       \n",
    "ORDER BY score DESC, Rating DESC                                                       // 1) 추천 점수 내림차순, 2) 평점 내림차순으로 정렬\n",
    "LIMIT 5                                                                                // 상위 5개 결과만 반환\n",
    "\"\"\"\n",
    "\n",
    "# 쿼리 실행 시 \"Apollo 13\"을 $movie_title 파라미터 값으로 전달\n",
    "graph.query(cypher_query, params={\"movie_title\": \"Apollo 13\"})                         "
   ]
  },
  {
   "cell_type": "code",
   "execution_count": null,
   "id": "f4df412b",
   "metadata": {},
   "outputs": [],
   "source": []
  }
 ],
 "metadata": {
  "kernelspec": {
   "display_name": ".venv",
   "language": "python",
   "name": "python3"
  },
  "language_info": {
   "codemirror_mode": {
    "name": "ipython",
    "version": 3
   },
   "file_extension": ".py",
   "mimetype": "text/x-python",
   "name": "python",
   "nbconvert_exporter": "python",
   "pygments_lexer": "ipython3",
   "version": "3.12.9"
  }
 },
 "nbformat": 4,
 "nbformat_minor": 5
}
