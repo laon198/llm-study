{
 "cells": [
  {
   "cell_type": "markdown",
   "id": "b735da82",
   "metadata": {},
   "source": [
    "# Neo4j와 LangChain을 활용한 뉴스 데이터 분석"
   ]
  },
  {
   "cell_type": "markdown",
   "id": "d27cc8b7",
   "metadata": {},
   "source": [
    "---\n",
    "\n",
    "## 1. Neo4J Desktop 환경 설정\n",
    "\n",
    "- **Neo4j Desktop 소개**:\n",
    "    - Neo4j 작업을 위한 클라이언트 애플리케이션\n",
    "    - 로컬 환경에서 Neo4j를 학습하고 실험하는 데 필요한 모든 것을 포함함\n",
    "    - 사용자의 컴퓨터 리소스가 허용하는 한 **여러 로컬 데이터베이스**를 생성할 수 있음\n",
    "    - **Enterprise Edition 라이센스**: 단, 개발자 개인에 대해서는 1개 계정을 테스트 목적으로 지원\n",
    "\n",
    "- **다운로드 및 설치**: https://neo4j.com/deployment-center/?desktop-gdb\n",
    "    - Neo4J 5.24.0 선택\n",
    "    - 새 프로젝트 생성 및 DBMS 추가\n",
    "\n",
    "- **APOC 플러그인 설정**: \n",
    "    - APOC 플러그인을 설치하려는 데이터베이스가 있는 프로젝트(Graph DBMS)를 선택\n",
    "    - Graph DBMS 메뉴 클릭하고, APOC 플러그인(Plugin) 설치\n",
    "\n",
    "- **설정 파일 수정**: 데이터베이스를 중지한 상태에서 데이터베이스 카드의 오른쪽에 있는 `...` (메뉴) 버튼을 클릭\n",
    "\n",
    "    - 메뉴에서 **Settings** 선택하고 다음 내용을 추가 (`neo4j.conf` 파일)\n",
    "        ```\n",
    "        dbms.security.procedures.unrestricted=apoc.meta.*,apoc.*\n",
    "        ```"
   ]
  },
  {
   "cell_type": "code",
   "id": "1dc7d00f",
   "metadata": {
    "ExecuteTime": {
     "end_time": "2025-08-19T08:19:00.350624Z",
     "start_time": "2025-08-19T08:19:00.342086Z"
    }
   },
   "source": [
    "import os\n",
    "from dotenv import load_dotenv\n",
    "\n",
    "# 환경 변수 로드\n",
    "load_dotenv()"
   ],
   "outputs": [
    {
     "data": {
      "text/plain": [
       "True"
      ]
     },
     "execution_count": 1,
     "metadata": {},
     "output_type": "execute_result"
    }
   ],
   "execution_count": 1
  },
  {
   "cell_type": "code",
   "id": "e42b4920",
   "metadata": {
    "ExecuteTime": {
     "end_time": "2025-08-19T08:19:02.120298Z",
     "start_time": "2025-08-19T08:19:01.137048Z"
    }
   },
   "source": [
    "from langchain_neo4j import Neo4jGraph\n",
    "\n",
    "# LangChain 도구 활용 - DB 연결 객체 초기화 \n",
    "graph = Neo4jGraph( \n",
    "    url=os.getenv(\"NEO4J_URI\"), \n",
    "    username=os.getenv(\"NEO4J_USERNAME\"), \n",
    "    password=os.getenv(\"NEO4J_PASSWORD\"),\n",
    "    database=os.getenv(\"NEO4J_DATABASE\"),\n",
    "    enhanced_schema=True,\n",
    ")"
   ],
   "outputs": [],
   "execution_count": 2
  },
  {
   "cell_type": "code",
   "id": "78a4a57a",
   "metadata": {
    "ExecuteTime": {
     "end_time": "2025-08-19T08:19:03.853485Z",
     "start_time": "2025-08-19T08:19:03.808688Z"
    }
   },
   "source": [
    "# 테스트 쿼리 실행 \n",
    "cypher_query = \"\"\"\n",
    "CREATE (n:Test {name: \"Hello Neo4j Desktop News DB\"}) \n",
    "RETURN n\n",
    "\"\"\"\n",
    "\n",
    "graph.query(cypher_query)"
   ],
   "outputs": [
    {
     "data": {
      "text/plain": [
       "[{'n': {'name': 'Hello Neo4j Desktop News DB'}}]"
      ]
     },
     "execution_count": 3,
     "metadata": {},
     "output_type": "execute_result"
    }
   ],
   "execution_count": 3
  },
  {
   "cell_type": "code",
   "id": "22382171",
   "metadata": {
    "ExecuteTime": {
     "end_time": "2025-08-19T08:19:05.633870Z",
     "start_time": "2025-08-19T08:19:05.569105Z"
    }
   },
   "source": [
    "def reset_database(graph):\n",
    "    \"\"\"\n",
    "    APOC 없이 데이터베이스 초기화하기\n",
    "    \"\"\"\n",
    "    # 모든 노드와 관계 삭제\n",
    "    graph.query(\"MATCH (n) DETACH DELETE n\")\n",
    "    \n",
    "    # 모든 제약조건 삭제\n",
    "    constraints = graph.query(\"SHOW CONSTRAINTS\")\n",
    "    for constraint in constraints:\n",
    "        constraint_name = constraint.get(\"name\")\n",
    "        if constraint_name:\n",
    "            graph.query(f\"DROP CONSTRAINT {constraint_name}\")\n",
    "    \n",
    "    # 모든 인덱스 삭제\n",
    "    indexes = graph.query(\"SHOW INDEXES\")\n",
    "    for index in indexes:\n",
    "        index_name = index.get(\"name\")\n",
    "        index_type = index.get(\"type\")\n",
    "        if index_name and index_type != \"CONSTRAINT\":\n",
    "            graph.query(f\"DROP INDEX {index_name}\")\n",
    "    \n",
    "    print(\"데이터베이스가 초기화되었습니다.\")\n",
    "\n",
    "# 데이터베이스 초기화\n",
    "reset_database(graph)"
   ],
   "outputs": [
    {
     "name": "stdout",
     "output_type": "stream",
     "text": [
      "데이터베이스가 초기화되었습니다.\n"
     ]
    }
   ],
   "execution_count": 4
  },
  {
   "cell_type": "markdown",
   "id": "5e27da72",
   "metadata": {},
   "source": [
    "---\n",
    "\n",
    "## 2. **Knowledge Graph 구축**"
   ]
  },
  {
   "cell_type": "markdown",
   "id": "81769e02",
   "metadata": {},
   "source": [
    "### 2.1 뉴스 데이터 전처리\n"
   ]
  },
  {
   "cell_type": "markdown",
   "id": "76d5f243",
   "metadata": {},
   "source": [
    "#### 1) **데이터셋 준비**"
   ]
  },
  {
   "cell_type": "code",
   "id": "7dd4f2ab",
   "metadata": {
    "ExecuteTime": {
     "end_time": "2025-08-19T08:19:38.789476Z",
     "start_time": "2025-08-19T08:19:38.775794Z"
    }
   },
   "source": [
    "# 뉴스 데이터 로드\n",
    "def load_news_data(file_path):\n",
    "    with open(file_path, 'r', encoding='utf-8') as file:\n",
    "        news_article = file.read()\n",
    "    return news_article\n",
    "\n",
    "# 뉴스 데이터 목록 확인 (glob)\n",
    "import glob\n",
    "news_files = sorted(glob.glob(os.path.join('./data/news', '*.md')))\n",
    "\n",
    "# 뉴스 데이터 목록 출력\n",
    "print(\"뉴스 데이터 목록:\")\n",
    "for news_file in news_files:\n",
    "    print(os.path.basename(news_file))\n",
    "\n",
    "# 뉴스 데이터 로드 및 정리\n",
    "news_articles = []\n",
    "for news_file in news_files:\n",
    "    news_article = load_news_data(news_file)\n",
    "    news_articles.append(news_article)\n",
    "\n",
    "# 뉴스 데이터 출력\n",
    "print(\"\\n뉴스 데이터:\")\n",
    "for i, news_article in enumerate(news_articles):\n",
    "    print(f\"\\n뉴스 기사 {i + 1}:\\n{news_article[:100]}...\")  # 첫 100자만 출력\n",
    "    print(\"-\" * 100)\n"
   ],
   "outputs": [
    {
     "name": "stdout",
     "output_type": "stream",
     "text": [
      "뉴스 데이터 목록:\n",
      "news_article_1.md\n",
      "news_article_2.md\n",
      "news_article_3.md\n",
      "news_article_4.md\n",
      "news_article_5.md\n",
      "\n",
      "뉴스 데이터:\n",
      "\n",
      "뉴스 기사 1:\n",
      "# 구글, 안드로이드 14에 생성형 AI 기능 대거 탑재\n",
      "\n",
      "**디지털타임스 | 박승리 기자 | 2024-03-20**\n",
      "\n",
      "구글이 안드로이드 14에 생성형 AI 기능을 대거 탑재했다고...\n",
      "----------------------------------------------------------------------------------------------------\n",
      "\n",
      "뉴스 기사 2:\n",
      "# 애플, iOS 18 공개하며 AI 플랫폼 경쟁 본격화\n",
      "\n",
      "**디지털타임스 | 최기상 기자 | 2024-03-19**\n",
      "\n",
      "애플이 차세대 모바일 운영체제 iOS 18을 공개하며 AI ...\n",
      "----------------------------------------------------------------------------------------------------\n",
      "\n",
      "뉴스 기사 3:\n",
      "# 메타, 차세대 오픈소스 AI 모델 'Llama 3' 공개\n",
      "\n",
      "**디지털타임스 | 정주리 기자 | 2024-04-05**\n",
      "\n",
      "메타가 차세대 오픈소스 AI 모델 'Llama 3'를 공...\n",
      "----------------------------------------------------------------------------------------------------\n",
      "\n",
      "뉴스 기사 4:\n",
      "# 삼성전자, 'AI 메모리' 신기술 개발 성공\n",
      "\n",
      "**전자일보 | 이승지 기자 | 2024-04-03**\n",
      "\n",
      "삼성전자가 AI 연산에 최적화된 '컴퓨팅 인 메모리'(CIM) 기술을 적...\n",
      "----------------------------------------------------------------------------------------------------\n",
      "\n",
      "뉴스 기사 5:\n",
      "# 엔비디아, 차세대 AI 전용 GPU 'H200' 출시 임박\n",
      "\n",
      "**전자일보 | 김송이 기자 | 2024-04-02**\n",
      "\n",
      "엔비디아가 차세대 AI 전용 GPU 'H200'의 출시가 ...\n",
      "----------------------------------------------------------------------------------------------------\n"
     ]
    }
   ],
   "execution_count": 5
  },
  {
   "cell_type": "markdown",
   "id": "8c718188",
   "metadata": {},
   "source": [
    "#### 2) **뉴스 메타데이터 추출**\n",
    "\n",
    "- 랭체인 구조화 출력 활용 (LLM 활용)"
   ]
  },
  {
   "cell_type": "code",
   "id": "7855e7e6",
   "metadata": {
    "ExecuteTime": {
     "end_time": "2025-08-19T08:25:53.174137Z",
     "start_time": "2025-08-19T08:25:32.097836Z"
    }
   },
   "source": [
    "from langchain_core.prompts import ChatPromptTemplate\n",
    "from langchain_openai import ChatOpenAI\n",
    "from pydantic import BaseModel, Field\n",
    "from datetime import date\n",
    "\n",
    "# 뉴스 기사 메타데이터 모델 정의\n",
    "class NewsArticleMetadata(BaseModel):\n",
    "    \"\"\"뉴스 기사의 구조화된 메타데이터.\"\"\"\n",
    "    title: str = Field(description=\"뉴스 기사의 제목\")\n",
    "    source: str = Field(description=\"뉴스 출처/발행처\")\n",
    "    author: str = Field(description=\"기사 작성자의 이름 (직위 등 표시 불필요)\")\n",
    "    date: str = Field(description=\"발행일(YYYY-MM-DD 형식)\")\n",
    "    content: str = Field(description=\"기사의 전체 텍스트 내용\")\n",
    "\n",
    "def extract_article_metadata(article_text: str) -> NewsArticleMetadata:\n",
    "    \"\"\"\n",
    "    Langchain을 사용하여 뉴스 기사에서 구조화된 메타데이터를 추출합니다.\n",
    "    \n",
    "    Args:\n",
    "        article_text (str): 뉴스 기사의 전체 텍스트\n",
    "    \n",
    "    Returns:\n",
    "        NewsArticleMetadata: 기사에서 추출한 구조화된 메타데이터\n",
    "    \"\"\"\n",
    "\n",
    "    # 프롬프트 템플릿 정의 - LLM에게 메타데이터 추출 지시사항 제공\n",
    "    prompt = ChatPromptTemplate.from_messages([\n",
    "        (\"system\", \"\"\"You are an expert news article metadata extractor. \n",
    "        Extract precise and accurate information from the given news article.\n",
    "        \n",
    "        Extraction Guidelines:\n",
    "        - Identify the most accurate title\n",
    "        - Determine the primary source/publication\n",
    "        - Extract the author's name (only name, no position)\n",
    "        - Identify the publication date\n",
    "        - List key organizations mentioned\n",
    "        - Highlight key technologies discussed\n",
    "        \n",
    "        Be as specific and factual as possible.\"\"\"),\n",
    "        (\"human\", \"\"\"Extract metadata from the following article:\\n\\n{article_text}\"\"\")\n",
    "    ])\n",
    "\n",
    "    # LLM 및 체인 설정\n",
    "    llm = ChatOpenAI(model=\"gpt-4.1-mini\", temperature=0)    \n",
    "\n",
    "    # 구조화된 출력을 위해 Pydantic 모델과 연결\n",
    "    llm_with_structured_output = llm.with_structured_output(NewsArticleMetadata)\n",
    "    \n",
    "    # 프롬프트와 LLM을 연결하는 체인 구성\n",
    "    chain = prompt | llm_with_structured_output\n",
    "    \n",
    "    # 메타데이터 추출 시도\n",
    "    try:\n",
    "        # LLM을 통해 메타데이터 추출\n",
    "        metadata = chain.invoke({\n",
    "            \"article_text\": article_text,\n",
    "        })\n",
    "        \n",
    "        # 데이터 누락 시, 기본값 설정 - 데이터 일관성 유지\n",
    "        if not metadata.title:\n",
    "            metadata.title = \"\"\n",
    "        if not metadata.source:\n",
    "            metadata.source = \"미상\"\n",
    "        if not metadata.author:\n",
    "            metadata.author = \"미상\"\n",
    "        if not metadata.date:\n",
    "            metadata.date = \"미상\"\n",
    "        if not metadata.content:\n",
    "            metadata.content = article_text\n",
    "        \n",
    "        return metadata\n",
    "    except Exception as e:\n",
    "        # 에러 발생 시 로그 출력 및 기본 메타데이터 반환\n",
    "        print(f\"메타데이터 추출 중 오류 발생: {e}\")\n",
    "        return NewsArticleMetadata(\n",
    "            title=\"\",\n",
    "            source=\"미상\",\n",
    "            author=\"미상\",\n",
    "            date=\"미상\",\n",
    "            content=\"\"\n",
    "        )\n",
    "\n",
    "# 모든 뉴스 기사에서 메타데이터 추출 및 결과 출력\n",
    "extracted_metadata = []\n",
    "for article in news_articles:\n",
    "    # 각 기사에서 메타데이터 추출\n",
    "    metadata = extract_article_metadata(article)\n",
    "    # 추출된 메타데이터 저장\n",
    "    extracted_metadata.append(metadata)\n",
    "    # 추출 결과 출력 - 디버깅 및 확인용\n",
    "    print(f\"Extracted metadata for article: {metadata.title}\")\n",
    "    print(f\"Source: {metadata.source}\")\n",
    "    print(f\"Author: {metadata.author}\")\n",
    "    print(f\"Date: {metadata.date}\")\n",
    "    print(f\"Content: {metadata.content[:100]}...\")  # 첫 100자만 출력하여 가독성 확보"
   ],
   "outputs": [
    {
     "name": "stdout",
     "output_type": "stream",
     "text": [
      "Extracted metadata for article: 구글, 안드로이드 14에 생성형 AI 기능 대거 탑재\n",
      "Source: 디지털타임스\n",
      "Author: 박승리\n",
      "Date: 2024-03-20\n",
      "Content: 구글이 안드로이드 14에 생성형 AI 기능을 대거 탑재했다고 발표했다. 이번 발표는 구글의 인공지능 기술력을 한층 강화하는 전략의 일환으로 보인다. 특히 카메라 기능에서 AI를 활...\n",
      "Extracted metadata for article: 애플, iOS 18 공개하며 AI 플랫폼 경쟁 본격화\n",
      "Source: 디지털타임스\n",
      "Author: 최기상\n",
      "Date: 2024-03-19\n",
      "Content: 애플이 차세대 모바일 운영체제 iOS 18을 공개하며 AI 플랫폼 경쟁을 본격화하고 있다. 최근 샌프란시스코에서 열린 WWDC 2024에서 공개된 iOS 18은 애플의 인공지능 전...\n",
      "Extracted metadata for article: 메타, 차세대 오픈소스 AI 모델 'Llama 3' 공개\n",
      "Source: 디지털타임스\n",
      "Author: 정주리\n",
      "Date: 2024-04-05\n",
      "Content: 메타가 차세대 오픈소스 AI 모델 'Llama 3'를 공개했다. 이번 모델은 이전 버전보다 2배 큰 파라미터 규모와 10배 많은 학습 데이터를 기반으로 개발되었다고 회사 측은 밝혔...\n",
      "Extracted metadata for article: 삼성전자, 'AI 메모리' 신기술 개발 성공\n",
      "Source: 전자일보\n",
      "Author: 이승지\n",
      "Date: 2024-04-03\n",
      "Content: 삼성전자가 AI 연산에 최적화된 '컴퓨팅 인 메모리'(CIM) 기술을 적용한 신개념 메모리 반도체 개발에 성공했다고 발표했다. 이번 기술은 기존 메모리와 CPU 간의 데이터 이동 ...\n",
      "Extracted metadata for article: 엔비디아, 차세대 AI 전용 GPU 'H200' 출시 임박\n",
      "Source: 전자일보\n",
      "Author: 김송이\n",
      "Date: 2024-04-02\n",
      "Content: 엔비디아가 차세대 AI 전용 GPU 'H200'의 출시가 임박했다고 발표했다. 이번 신제품은 기존 H100 대비 2배 이상의 성능을 제공할 것으로 알려졌다. H200은 대형 언어 ...\n"
     ]
    }
   ],
   "execution_count": 6
  },
  {
   "cell_type": "code",
   "id": "0a51b240",
   "metadata": {
    "ExecuteTime": {
     "end_time": "2025-08-19T08:26:20.696598Z",
     "start_time": "2025-08-19T08:26:20.692991Z"
    }
   },
   "source": [
    "extracted_metadata[0].model_dump()"
   ],
   "outputs": [
    {
     "data": {
      "text/plain": [
       "{'title': '구글, 안드로이드 14에 생성형 AI 기능 대거 탑재',\n",
       " 'source': '디지털타임스',\n",
       " 'author': '박승리',\n",
       " 'date': '2024-03-20',\n",
       " 'content': '구글이 안드로이드 14에 생성형 AI 기능을 대거 탑재했다고 발표했다. 이번 발표는 구글의 인공지능 기술력을 한층 강화하는 전략의 일환으로 보인다. 특히 카메라 기능에서 AI를 활용한 사진 보정 기능이 크게 개선되었으며, 사용자가 촬영한 사진을 인공지능이 자동으로 분석하여 최적의 색감과 구도로 보정해주는 기능이 추가되었다. 또한 실시간 번역 기능도 대폭 강화되어 외국어 텍스트를 카메라로 비추기만 해도 즉시 번역 결과를 확인할 수 있고, 통화 중에도 실시간 음성 번역 기능이 추가되었다. 구글 어시스턴트는 생성형 AI 기술을 적용해 더 자연스러운 대화가 가능해졌으며, 복잡한 질문에 정확한 답변을 제공하고 개인화된 서비스를 제공한다. 구글 안드로이드 부문 책임자는 이번 AI 기능이 사용자 경험을 혁신적으로 개선할 것이라고 밝혔다. 업계 전문가들은 이번 AI 기능 강화가 모바일 OS 시장에서 경쟁력을 높이는 중요한 전환점이 될 것으로 전망하고 있다.'}"
      ]
     },
     "execution_count": 7,
     "metadata": {},
     "output_type": "execute_result"
    }
   ],
   "execution_count": 7
  },
  {
   "cell_type": "code",
   "id": "7b9dfba2",
   "metadata": {
    "ExecuteTime": {
     "end_time": "2025-08-19T08:26:52.652905Z",
     "start_time": "2025-08-19T08:26:52.642365Z"
    }
   },
   "source": [
    "# 메타데이터를 JSONL 형식으로 저장\n",
    "import json\n",
    "with open('data/news/news_metadata.jsonl', 'w', encoding='utf-8') as f:\n",
    "    for metadata in extracted_metadata:\n",
    "        json.dump(metadata.model_dump(), f, ensure_ascii=False)\n",
    "        f.write('\\n')"
   ],
   "outputs": [],
   "execution_count": 8
  },
  {
   "cell_type": "code",
   "id": "83cf757b",
   "metadata": {
    "ExecuteTime": {
     "end_time": "2025-08-19T08:27:02.509349Z",
     "start_time": "2025-08-19T08:27:02.505709Z"
    }
   },
   "source": [
    "# JSONL 파일 확인\n",
    "import json\n",
    "with open('data/news/news_metadata.jsonl', 'r', encoding='utf-8') as f:\n",
    "    news_metadata = [json.loads(line) for line in f]\n",
    "    print(\"뉴스 메타데이터:\")\n",
    "    for i, metadata in enumerate(news_metadata):\n",
    "        print(f\"\\n뉴스 기사 {i + 1}:\")\n",
    "        print(f\"Title: {metadata['title']}\")\n",
    "        print(f\"Source: {metadata['source']}\")\n",
    "        print(f\"Author: {metadata['author']}\")\n",
    "        print(f\"Date: {metadata['date']}\")\n",
    "        print(f\"Content: {metadata['content'][:100]}...\")  # 첫 100자만 출력\n",
    "        print(\"-\" * 100)"
   ],
   "outputs": [
    {
     "name": "stdout",
     "output_type": "stream",
     "text": [
      "뉴스 메타데이터:\n",
      "\n",
      "뉴스 기사 1:\n",
      "Title: 구글, 안드로이드 14에 생성형 AI 기능 대거 탑재\n",
      "Source: 디지털타임스\n",
      "Author: 박승리\n",
      "Date: 2024-03-20\n",
      "Content: 구글이 안드로이드 14에 생성형 AI 기능을 대거 탑재했다고 발표했다. 이번 발표는 구글의 인공지능 기술력을 한층 강화하는 전략의 일환으로 보인다. 특히 카메라 기능에서 AI를 활...\n",
      "----------------------------------------------------------------------------------------------------\n",
      "\n",
      "뉴스 기사 2:\n",
      "Title: 애플, iOS 18 공개하며 AI 플랫폼 경쟁 본격화\n",
      "Source: 디지털타임스\n",
      "Author: 최기상\n",
      "Date: 2024-03-19\n",
      "Content: 애플이 차세대 모바일 운영체제 iOS 18을 공개하며 AI 플랫폼 경쟁을 본격화하고 있다. 최근 샌프란시스코에서 열린 WWDC 2024에서 공개된 iOS 18은 애플의 인공지능 전...\n",
      "----------------------------------------------------------------------------------------------------\n",
      "\n",
      "뉴스 기사 3:\n",
      "Title: 메타, 차세대 오픈소스 AI 모델 'Llama 3' 공개\n",
      "Source: 디지털타임스\n",
      "Author: 정주리\n",
      "Date: 2024-04-05\n",
      "Content: 메타가 차세대 오픈소스 AI 모델 'Llama 3'를 공개했다. 이번 모델은 이전 버전보다 2배 큰 파라미터 규모와 10배 많은 학습 데이터를 기반으로 개발되었다고 회사 측은 밝혔...\n",
      "----------------------------------------------------------------------------------------------------\n",
      "\n",
      "뉴스 기사 4:\n",
      "Title: 삼성전자, 'AI 메모리' 신기술 개발 성공\n",
      "Source: 전자일보\n",
      "Author: 이승지\n",
      "Date: 2024-04-03\n",
      "Content: 삼성전자가 AI 연산에 최적화된 '컴퓨팅 인 메모리'(CIM) 기술을 적용한 신개념 메모리 반도체 개발에 성공했다고 발표했다. 이번 기술은 기존 메모리와 CPU 간의 데이터 이동 ...\n",
      "----------------------------------------------------------------------------------------------------\n",
      "\n",
      "뉴스 기사 5:\n",
      "Title: 엔비디아, 차세대 AI 전용 GPU 'H200' 출시 임박\n",
      "Source: 전자일보\n",
      "Author: 김송이\n",
      "Date: 2024-04-02\n",
      "Content: 엔비디아가 차세대 AI 전용 GPU 'H200'의 출시가 임박했다고 발표했다. 이번 신제품은 기존 H100 대비 2배 이상의 성능을 제공할 것으로 알려졌다. H200은 대형 언어 ...\n",
      "----------------------------------------------------------------------------------------------------\n"
     ]
    }
   ],
   "execution_count": 9
  },
  {
   "cell_type": "markdown",
   "id": "5719ec2e",
   "metadata": {},
   "source": [
    "#### 3) **뉴스 데이터 구조화**\n",
    "\n",
    "- 추출한 메타데이터 결합"
   ]
  },
  {
   "cell_type": "code",
   "id": "681310ad",
   "metadata": {
    "ExecuteTime": {
     "end_time": "2025-08-19T08:28:22.269613Z",
     "start_time": "2025-08-19T08:28:22.262982Z"
    }
   },
   "source": [
    "# 뉴스 데이터 구조화 - JSONL 파일에서 로드한 메타데이터를 분석 가능한 형태로 변환\n",
    "\n",
    "extracted_articles = []  # 구조화된 뉴스 기사를 저장할 빈 리스트 초기화\n",
    "\n",
    "# 각 뉴스 메타데이터를 순회하면서 구조화된 형태로 변환\n",
    "for i, article in enumerate(news_metadata):\n",
    "    \n",
    "    # 개별 기사 데이터 구조화 - 일관된 형식으로 데이터 정리\n",
    "    # - id: 고유 식별자 부여 (article_0, article_1 등의 형식)\n",
    "    # - 제목, 출처, 작성자, 날짜, 내용 등 핵심 정보 포함\n",
    "    article = {\n",
    "        \"id\": f\"article_{i}\",  # 고유 식별자 생성 (인덱스 기반)\n",
    "        \"title\": article[\"title\"],  # 기사 제목\n",
    "        \"source\": article[\"source\"],  # 기사 출처 (언론사)\n",
    "        \"author\": article[\"author\"],  # 기사 작성자\n",
    "        \"date\": article[\"date\"],  # 기사 발행일\n",
    "        \"content\": article[\"content\"]  # 기사 전체 내용\n",
    "    }\n",
    "\n",
    "    # 구조화된 기사 데이터를 리스트에 추가 - 이후 지식 그래프 구축에 활용\n",
    "    extracted_articles.append(article)\n",
    "\n",
    "# 구조화된 기사 데이터 확인 - 처리 결과 검증 및 디버깅\n",
    "print(\"구조화된 뉴스 기사 데이터:\")\n",
    "for article in extracted_articles:\n",
    "    print(f\"ID: {article['id']}\")  # 고유 식별자 출력\n",
    "    print(f\"Title: {article['title']}\")  # 기사 제목 출력\n",
    "    print(f\"Source: {article['source']}\")  # 출처 출력\n",
    "    print(f\"Author: {article['author']}\")  # 작성자 출력\n",
    "    print(f\"Date: {article['date']}\")  # 날짜 출력\n",
    "    print(f\"Content: {article['content'][:100]}...\")  # 내용 일부만 출력하여 가독성 확보\n",
    "    print(\"-\" * 100)"
   ],
   "outputs": [
    {
     "name": "stdout",
     "output_type": "stream",
     "text": [
      "구조화된 뉴스 기사 데이터:\n",
      "ID: article_0\n",
      "Title: 구글, 안드로이드 14에 생성형 AI 기능 대거 탑재\n",
      "Source: 디지털타임스\n",
      "Author: 박승리\n",
      "Date: 2024-03-20\n",
      "Content: 구글이 안드로이드 14에 생성형 AI 기능을 대거 탑재했다고 발표했다. 이번 발표는 구글의 인공지능 기술력을 한층 강화하는 전략의 일환으로 보인다. 특히 카메라 기능에서 AI를 활...\n",
      "----------------------------------------------------------------------------------------------------\n",
      "ID: article_1\n",
      "Title: 애플, iOS 18 공개하며 AI 플랫폼 경쟁 본격화\n",
      "Source: 디지털타임스\n",
      "Author: 최기상\n",
      "Date: 2024-03-19\n",
      "Content: 애플이 차세대 모바일 운영체제 iOS 18을 공개하며 AI 플랫폼 경쟁을 본격화하고 있다. 최근 샌프란시스코에서 열린 WWDC 2024에서 공개된 iOS 18은 애플의 인공지능 전...\n",
      "----------------------------------------------------------------------------------------------------\n",
      "ID: article_2\n",
      "Title: 메타, 차세대 오픈소스 AI 모델 'Llama 3' 공개\n",
      "Source: 디지털타임스\n",
      "Author: 정주리\n",
      "Date: 2024-04-05\n",
      "Content: 메타가 차세대 오픈소스 AI 모델 'Llama 3'를 공개했다. 이번 모델은 이전 버전보다 2배 큰 파라미터 규모와 10배 많은 학습 데이터를 기반으로 개발되었다고 회사 측은 밝혔...\n",
      "----------------------------------------------------------------------------------------------------\n",
      "ID: article_3\n",
      "Title: 삼성전자, 'AI 메모리' 신기술 개발 성공\n",
      "Source: 전자일보\n",
      "Author: 이승지\n",
      "Date: 2024-04-03\n",
      "Content: 삼성전자가 AI 연산에 최적화된 '컴퓨팅 인 메모리'(CIM) 기술을 적용한 신개념 메모리 반도체 개발에 성공했다고 발표했다. 이번 기술은 기존 메모리와 CPU 간의 데이터 이동 ...\n",
      "----------------------------------------------------------------------------------------------------\n",
      "ID: article_4\n",
      "Title: 엔비디아, 차세대 AI 전용 GPU 'H200' 출시 임박\n",
      "Source: 전자일보\n",
      "Author: 김송이\n",
      "Date: 2024-04-02\n",
      "Content: 엔비디아가 차세대 AI 전용 GPU 'H200'의 출시가 임박했다고 발표했다. 이번 신제품은 기존 H100 대비 2배 이상의 성능을 제공할 것으로 알려졌다. H200은 대형 언어 ...\n",
      "----------------------------------------------------------------------------------------------------\n"
     ]
    }
   ],
   "execution_count": 10
  },
  {
   "cell_type": "markdown",
   "id": "0794f552",
   "metadata": {},
   "source": [
    "### 2.2 KG 온톨로지 구현\n"
   ]
  },
  {
   "cell_type": "markdown",
   "id": "f02e4644",
   "metadata": {},
   "source": [
    "#### 1) **스키마 정의**\n",
    "\n",
    "- **노드 유형**:\n",
    "\n",
    "    1. `NewsArticle`: 뉴스 기사\n",
    "    2. `Company`: 회사\n",
    "    3. `Product`: 제품\n",
    "    4. `Technology`: 기술\n",
    "\n",
    "\n",
    "- **관계 유형**:\n",
    "\n",
    "    - `(NewsArticle)-[:MENTIONS]->(Entity)`\n",
    "    - `(Company)-[:RELEASED]->(Product)`\n",
    "    - `(Company)-[:DEVELOPED]->(Technology)`\n",
    "    - `(Product)-[:USES]->(Technology)`"
   ]
  },
  {
   "cell_type": "markdown",
   "id": "66dba54e",
   "metadata": {},
   "source": [
    "#### 2) **제약조건 설정**"
   ]
  },
  {
   "cell_type": "code",
   "id": "eb06fe3b",
   "metadata": {
    "ExecuteTime": {
     "end_time": "2025-08-19T11:34:15.012623Z",
     "start_time": "2025-08-19T11:34:14.653170Z"
    }
   },
   "source": [
    "# Neo4j 데이터베이스에 Cypher 쿼리를 사용하여 제약조건 설정\n",
    "# 제약조건은 노드의 특정 속성이 고유(UNIQUE)하도록 보장하여 데이터 중복을 방지함\n",
    "constraints = [\n",
    "    # NewsArticle 노드의 id 속성이 고유하도록 제약조건 설정\n",
    "    # 이를 통해 동일한 id를 가진 뉴스 기사가 중복 저장되는 것을 방지\n",
    "    \"CREATE CONSTRAINT IF NOT EXISTS FOR (n:NewsArticle) REQUIRE n.id IS UNIQUE\",\n",
    "    \n",
    "    # Company 노드의 name 속성이 고유하도록 제약조건 설정\n",
    "    # 동일한 이름의 회사가 여러 번 생성되는 것을 방지\n",
    "    \"CREATE CONSTRAINT IF NOT EXISTS FOR (c:Company) REQUIRE c.name IS UNIQUE\",\n",
    "    \n",
    "    # Product 노드의 name 속성이 고유하도록 제약조건 설정\n",
    "    # 동일한 이름의 제품이 중복 생성되는 것을 방지\n",
    "    \"CREATE CONSTRAINT IF NOT EXISTS FOR (p:Product) REQUIRE p.name IS UNIQUE\",\n",
    "    \n",
    "    # Technology 노드의 name 속성이 고유하도록 제약조건 설정\n",
    "    # 동일한 이름의 기술이 중복 생성되는 것을 방지\n",
    "    \"CREATE CONSTRAINT IF NOT EXISTS FOR (t:Technology) REQUIRE t.name IS UNIQUE\",\n",
    "    \n",
    "    # Person 노드의 name 속성이 고유하도록 제약조건 설정\n",
    "    # 동일한 이름의 인물이 중복 생성되는 것을 방지\n",
    "    \"CREATE CONSTRAINT IF NOT EXISTS FOR (p:Person) REQUIRE p.name IS UNIQUE\",\n",
    "]\n",
    "\n",
    "# 정의된 모든 제약조건을 순회하며 Neo4j 데이터베이스에 적용\n",
    "# graph.query() 메서드를 사용하여 각 Cypher 쿼리를 실행\n",
    "for constraint in constraints:\n",
    "    graph.query(constraint)\n",
    "    "
   ],
   "outputs": [],
   "execution_count": 11
  },
  {
   "cell_type": "code",
   "id": "a629fea0",
   "metadata": {
    "ExecuteTime": {
     "end_time": "2025-08-19T11:34:21.130393Z",
     "start_time": "2025-08-19T11:34:21.082893Z"
    }
   },
   "source": [
    "graph.query(\"SHOW CONSTRAINTS\")  # 현재 설정된 제약조건 확인"
   ],
   "outputs": [
    {
     "data": {
      "text/plain": [
       "[{'id': 1,\n",
       "  'name': 'constraint_5b467fef',\n",
       "  'type': 'UNIQUENESS',\n",
       "  'entityType': 'NODE',\n",
       "  'labelsOrTypes': ['NewsArticle'],\n",
       "  'properties': ['id'],\n",
       "  'ownedIndex': 'constraint_5b467fef',\n",
       "  'propertyType': None},\n",
       " {'id': 7,\n",
       "  'name': 'constraint_7ef39459',\n",
       "  'type': 'UNIQUENESS',\n",
       "  'entityType': 'NODE',\n",
       "  'labelsOrTypes': ['Technology'],\n",
       "  'properties': ['name'],\n",
       "  'ownedIndex': 'constraint_7ef39459',\n",
       "  'propertyType': None},\n",
       " {'id': 9,\n",
       "  'name': 'constraint_a831e4ce',\n",
       "  'type': 'UNIQUENESS',\n",
       "  'entityType': 'NODE',\n",
       "  'labelsOrTypes': ['Person'],\n",
       "  'properties': ['name'],\n",
       "  'ownedIndex': 'constraint_a831e4ce',\n",
       "  'propertyType': None},\n",
       " {'id': 3,\n",
       "  'name': 'constraint_bd66231e',\n",
       "  'type': 'UNIQUENESS',\n",
       "  'entityType': 'NODE',\n",
       "  'labelsOrTypes': ['Company'],\n",
       "  'properties': ['name'],\n",
       "  'ownedIndex': 'constraint_bd66231e',\n",
       "  'propertyType': None},\n",
       " {'id': 5,\n",
       "  'name': 'constraint_f7313309',\n",
       "  'type': 'UNIQUENESS',\n",
       "  'entityType': 'NODE',\n",
       "  'labelsOrTypes': ['Product'],\n",
       "  'properties': ['name'],\n",
       "  'ownedIndex': 'constraint_f7313309',\n",
       "  'propertyType': None}]"
      ]
     },
     "execution_count": 12,
     "metadata": {},
     "output_type": "execute_result"
    }
   ],
   "execution_count": 12
  },
  {
   "cell_type": "markdown",
   "id": "8c4740ec",
   "metadata": {},
   "source": [
    "#### 3) **뉴스 기사에서 엔티티와 관계를 추출**\n",
    "\n",
    "- 랭체인 `LLMGraphTransformer` 초기화\n",
    "- langchain_experimental 설치\n",
    "\n",
    "- https://python.langchain.com/docs/how_to/graph_constructing/#llm-graph-transformer"
   ]
  },
  {
   "cell_type": "markdown",
   "id": "59f652fc",
   "metadata": {},
   "source": [
    "`(1) LLMGraphTransformer 초기화`"
   ]
  },
  {
   "cell_type": "code",
   "id": "94719e61",
   "metadata": {
    "ExecuteTime": {
     "end_time": "2025-08-19T11:51:26.411295Z",
     "start_time": "2025-08-19T11:51:26.352063Z"
    }
   },
   "source": [
    "from typing import List, Dict, Any  \n",
    "from langchain_openai import ChatOpenAI \n",
    "from langchain_experimental.graph_transformers import LLMGraphTransformer\n",
    "from langchain_core.documents import Document  \n",
    "\n",
    "# LLM(대규모 언어 모델) 설정\n",
    "llm = ChatOpenAI(model=\"gpt-4.1\", temperature=0)\n",
    "\n",
    "# 그래프 데이터베이스에서 사용할 엔티티(노드) 유형 정의\n",
    "# 뉴스 기사에서 추출할 엔티티 타입을 제한하여 정확도 향상\n",
    "allowed_nodes = [\"Company\", \"Product\", \"Technology\"]\n",
    "\n",
    "# 엔티티 간의 관계 유형 정의\n",
    "# (시작 노드 유형, 관계 유형, 끝 노드 유형) 형태로 허용되는 관계 명시\n",
    "allowed_relationships = [\n",
    "    (\"Company\", \"RELEASED\", \"Product\"),     # 회사가 제품을 출시함\n",
    "    (\"Company\", \"DEVELOPED\", \"Technology\"), # 회사가 기술을 개발함\n",
    "    (\"Product\", \"USES\", \"Technology\")       # 제품이 기술을 사용함\n",
    "]\n",
    "\n",
    "# LLM Graph Transformer 초기화 및 설정\n",
    "# 텍스트에서 그래프 구조(노드와 관계)를 추출하는 변환기 설정\n",
    "transformer = LLMGraphTransformer(\n",
    "    llm=llm,                               # 사용할 언어 모델\n",
    "    allowed_nodes=allowed_nodes,           # 허용되는 노드 유형\n",
    "    allowed_relationships=allowed_relationships,  # 허용되는 관계 유형\n",
    "    node_properties=[\"industry\", \"version\", \"releaseDate\", \"category\"]  # 노드에 추가할 수 있는 속성들\n",
    ")\n"
   ],
   "outputs": [],
   "execution_count": 13
  },
  {
   "cell_type": "markdown",
   "id": "1a407488",
   "metadata": {},
   "source": [
    "`(2) 뉴스 기사에서 그래프 데이터 추출`"
   ]
  },
  {
   "cell_type": "code",
   "id": "06e0fe70",
   "metadata": {
    "ExecuteTime": {
     "end_time": "2025-08-19T11:51:31.957890Z",
     "start_time": "2025-08-19T11:51:31.954260Z"
    }
   },
   "source": [
    "# 뉴스 기사 데이터를 LangChain의 Document 객체로 변환하는 함수\n",
    "# - LangChain의 Document 객체는 텍스트 콘텐츠와 메타데이터를 함께 저장할 수 있는 구조\n",
    "# - 이를 통해 LLM이 문서 처리 시 메타데이터 정보도 함께 활용 가능\n",
    "def convert_to_documents(articles: List[Dict[str, Any]]) -> List[Document]:\n",
    "    documents = []\n",
    "    for article in articles:\n",
    "        # 각 기사마다 Document 객체 생성\n",
    "        # - page_content: 기사 본문 내용 저장\n",
    "        # - metadata: 기사의 부가 정보(ID, 제목, 출처, 작성자, 날짜) 저장\n",
    "        doc = Document(\n",
    "            page_content=article[\"content\"],\n",
    "            metadata={\n",
    "                \"id\": article[\"id\"],\n",
    "                \"title\": article[\"title\"],\n",
    "                \"source\": article[\"source\"],\n",
    "                \"author\": article[\"author\"],\n",
    "                \"date\": article[\"date\"]\n",
    "            }\n",
    "        )\n",
    "        documents.append(doc)\n",
    "    return documents\n",
    "\n",
    "# 앞서 추출한 뉴스 기사(extracted_articles)를 LangChain Document 객체 리스트로 변환\n",
    "# - 이 변환을 통해 LLMGraphTransformer가 처리할 수 있는 형태로 데이터 준비\n",
    "documents = convert_to_documents(extracted_articles)\n",
    "print(f\"변환된 문서 수: {len(documents)}\")\n",
    "print(\"=\" * 100)\n",
    "\n",
    "# 변환된 첫 번째 문서의 내용 확인 (디버깅 및 검증 목적)\n",
    "print(documents[0].page_content[:100])  # 첫 100자만 출력하여 내용 미리보기\n",
    "print(\"-\" * 100)\n",
    "print(documents[0].metadata)  # 문서의 메타데이터 전체 출력 (ID, 제목, 출처 등)"
   ],
   "outputs": [
    {
     "name": "stdout",
     "output_type": "stream",
     "text": [
      "변환된 문서 수: 5\n",
      "====================================================================================================\n",
      "구글이 안드로이드 14에 생성형 AI 기능을 대거 탑재했다고 발표했다. 이번 발표는 구글의 인공지능 기술력을 한층 강화하는 전략의 일환으로 보인다. 특히 카메라 기능에서 AI를 활\n",
      "----------------------------------------------------------------------------------------------------\n",
      "{'id': 'article_0', 'title': '구글, 안드로이드 14에 생성형 AI 기능 대거 탑재', 'source': '디지털타임스', 'author': '박승리', 'date': '2024-03-20'}\n"
     ]
    }
   ],
   "execution_count": 14
  },
  {
   "cell_type": "code",
   "id": "8b0dd8a3",
   "metadata": {
    "ExecuteTime": {
     "end_time": "2025-08-19T11:51:59.120947Z",
     "start_time": "2025-08-19T11:51:38.070025Z"
    }
   },
   "source": [
    "# 뉴스 기사에서 그래프 데이터 추출\n",
    "# - LLMGraphTransformer를 사용하여 일반 문서를 그래프 구조로 변환\n",
    "# - 각 문서(뉴스 기사)에서 노드(회사, 기술, 제품 등)와 관계(개발, 출시, 사용 등)를 추출\n",
    "# - LLM이 텍스트를 분석하여 허용된 노드 유형과 관계 유형에 맞게 구조화된 데이터 생성\n",
    "# - 추출된 그래프 데이터는 Neo4j에 저장하기 위한 중간 형태로 사용됨\n",
    "\n",
    "graph_documents = transformer.convert_to_graph_documents(documents)\n",
    "\n",
    "# 변환된 그래프 문서의 수를 출력하여 처리 결과 확인\n",
    "print(f\"그래프 문서 수: {len(graph_documents)}\")"
   ],
   "outputs": [
    {
     "name": "stdout",
     "output_type": "stream",
     "text": [
      "그래프 문서 수: 5\n"
     ]
    }
   ],
   "execution_count": 15
  },
  {
   "cell_type": "code",
   "id": "0defdcef",
   "metadata": {
    "ExecuteTime": {
     "end_time": "2025-08-19T11:52:01.614656Z",
     "start_time": "2025-08-19T11:52:01.611443Z"
    }
   },
   "source": [
    "graph_documents[0].nodes  # 첫 번째 그래프 문서의 노드 정보 확인"
   ],
   "outputs": [
    {
     "data": {
      "text/plain": [
       "[Node(id='구글', type='Company', properties={}),\n",
       " Node(id='안드로이드 14', type='Product', properties={'version': '14'}),\n",
       " Node(id='생성형 Ai', type='Technology', properties={}),\n",
       " Node(id='Ai 사진 보정', type='Technology', properties={}),\n",
       " Node(id='실시간 번역', type='Technology', properties={}),\n",
       " Node(id='구글 어시스턴트', type='Product', properties={})]"
      ]
     },
     "execution_count": 16,
     "metadata": {},
     "output_type": "execute_result"
    }
   ],
   "execution_count": 16
  },
  {
   "cell_type": "code",
   "id": "f5a9333f",
   "metadata": {
    "ExecuteTime": {
     "end_time": "2025-08-19T11:52:03.580510Z",
     "start_time": "2025-08-19T11:52:03.578038Z"
    }
   },
   "source": [
    "graph_documents[0].relationships  # 첫 번째 그래프 문서의 관계 정보 확인"
   ],
   "outputs": [
    {
     "data": {
      "text/plain": [
       "[Relationship(source=Node(id='구글', type='Company', properties={}), target=Node(id='안드로이드 14', type='Product', properties={}), type='RELEASED', properties={}),\n",
       " Relationship(source=Node(id='구글', type='Company', properties={}), target=Node(id='생성형 Ai', type='Technology', properties={}), type='DEVELOPED', properties={}),\n",
       " Relationship(source=Node(id='안드로이드 14', type='Product', properties={}), target=Node(id='생성형 Ai', type='Technology', properties={}), type='USES', properties={}),\n",
       " Relationship(source=Node(id='안드로이드 14', type='Product', properties={}), target=Node(id='Ai 사진 보정', type='Technology', properties={}), type='USES', properties={}),\n",
       " Relationship(source=Node(id='안드로이드 14', type='Product', properties={}), target=Node(id='실시간 번역', type='Technology', properties={}), type='USES', properties={}),\n",
       " Relationship(source=Node(id='구글 어시스턴트', type='Product', properties={}), target=Node(id='생성형 Ai', type='Technology', properties={}), type='USES', properties={})]"
      ]
     },
     "execution_count": 17,
     "metadata": {},
     "output_type": "execute_result"
    }
   ],
   "execution_count": 17
  },
  {
   "cell_type": "markdown",
   "id": "35af4f76",
   "metadata": {},
   "source": [
    "`(3) 추출된 그래프 데이터를 Neo4j에 저장`"
   ]
  },
  {
   "cell_type": "code",
   "id": "51b9bbb8",
   "metadata": {
    "ExecuteTime": {
     "end_time": "2025-08-19T11:52:12.969086Z",
     "start_time": "2025-08-19T11:52:12.478088Z"
    }
   },
   "source": [
    "# 추출된 그래프 데이터를 Neo4j 데이터베이스에 저장하는 과정\n",
    "# - 각 그래프 문서(doc)는 LLM이 뉴스 기사에서 추출한 구조화된 정보를 포함\n",
    "\n",
    "for doc in graph_documents:\n",
    "    # 디버깅 및 검증을 위해 각 문서에서 추출된 그래프 요소 출력\n",
    "    # - 노드: 회사, 기술, 제품 등의 개체 정보 (이름, 유형, 속성 등)\n",
    "    print(f\"추출된 노드: {doc.nodes}\")\n",
    "    \n",
    "    # - 관계: 노드 간의 연결 정보 (개발, 출시, 사용 등의 관계 유형)\n",
    "    print(f\"추출된 관계: {doc.relationships}\")\n",
    "    \n",
    "    # Neo4j 그래프 데이터베이스에 추출된 정보 저장\n",
    "    # - add_graph_documents: 그래프 문서를 Neo4j에 저장하는 메서드\n",
    "    # - [doc]: 단일 문서를 리스트 형태로 전달 (일괄 처리 가능)\n",
    "    # - include_source=True: 원본 문서 정보도 함께 저장 (추적성 유지)\n",
    "    graph.add_graph_documents([doc], include_source=True)\n",
    "    \n",
    "    print(\"-\" * 100)"
   ],
   "outputs": [
    {
     "name": "stdout",
     "output_type": "stream",
     "text": [
      "추출된 노드: [Node(id='구글', type='Company', properties={}), Node(id='안드로이드 14', type='Product', properties={'version': '14'}), Node(id='생성형 Ai', type='Technology', properties={}), Node(id='Ai 사진 보정', type='Technology', properties={}), Node(id='실시간 번역', type='Technology', properties={}), Node(id='구글 어시스턴트', type='Product', properties={})]\n",
      "추출된 관계: [Relationship(source=Node(id='구글', type='Company', properties={}), target=Node(id='안드로이드 14', type='Product', properties={}), type='RELEASED', properties={}), Relationship(source=Node(id='구글', type='Company', properties={}), target=Node(id='생성형 Ai', type='Technology', properties={}), type='DEVELOPED', properties={}), Relationship(source=Node(id='안드로이드 14', type='Product', properties={}), target=Node(id='생성형 Ai', type='Technology', properties={}), type='USES', properties={}), Relationship(source=Node(id='안드로이드 14', type='Product', properties={}), target=Node(id='Ai 사진 보정', type='Technology', properties={}), type='USES', properties={}), Relationship(source=Node(id='안드로이드 14', type='Product', properties={}), target=Node(id='실시간 번역', type='Technology', properties={}), type='USES', properties={}), Relationship(source=Node(id='구글 어시스턴트', type='Product', properties={}), target=Node(id='생성형 Ai', type='Technology', properties={}), type='USES', properties={})]\n",
      "----------------------------------------------------------------------------------------------------\n",
      "추출된 노드: [Node(id='Apple', type='Company', properties={'industry': 'Technology'}), Node(id='Ios 18', type='Product', properties={'version': '18', 'releasedate': '2024'}), Node(id='Apple Intelligence', type='Technology', properties={'category': 'AI'}), Node(id='Gpt 기반 대형 언어 모델', type='Technology', properties={'category': 'AI'}), Node(id='온디바이스 Ai', type='Technology', properties={'category': 'AI'}), Node(id='Siri', type='Product', properties={}), Node(id='Google', type='Company', properties={'industry': 'Technology'})]\n",
      "추출된 관계: [Relationship(source=Node(id='Apple', type='Company', properties={}), target=Node(id='Ios 18', type='Product', properties={}), type='RELEASED', properties={}), Relationship(source=Node(id='Apple', type='Company', properties={}), target=Node(id='Apple Intelligence', type='Technology', properties={}), type='DEVELOPED', properties={}), Relationship(source=Node(id='Ios 18', type='Product', properties={}), target=Node(id='Apple Intelligence', type='Technology', properties={}), type='USES', properties={}), Relationship(source=Node(id='Ios 18', type='Product', properties={}), target=Node(id='온디바이스 Ai', type='Technology', properties={}), type='USES', properties={}), Relationship(source=Node(id='Siri', type='Product', properties={}), target=Node(id='Gpt 기반 대형 언어 모델', type='Technology', properties={}), type='USES', properties={})]\n",
      "----------------------------------------------------------------------------------------------------\n",
      "추출된 노드: [Node(id='메타', type='Company', properties={}), Node(id='Llama 3', type='Product', properties={'version': '3', 'category': 'AI 모델'}), Node(id='오픈소스', type='Technology', properties={})]\n",
      "추출된 관계: [Relationship(source=Node(id='메타', type='Company', properties={}), target=Node(id='Llama 3', type='Product', properties={}), type='RELEASED', properties={}), Relationship(source=Node(id='메타', type='Company', properties={}), target=Node(id='오픈소스', type='Technology', properties={}), type='DEVELOPED', properties={}), Relationship(source=Node(id='Llama 3', type='Product', properties={}), target=Node(id='오픈소스', type='Technology', properties={}), type='USES', properties={})]\n",
      "----------------------------------------------------------------------------------------------------\n",
      "추출된 노드: [Node(id='삼성전자', type='Company', properties={'industry': '반도체'}), Node(id='Ai 메모리', type='Product', properties={'category': '메모리 반도체'}), Node(id='컴퓨팅 인 메모리(Cim)', type='Technology', properties={}), Node(id='Hbm(High Bandwidth Memory)', type='Technology', properties={})]\n",
      "추출된 관계: [Relationship(source=Node(id='삼성전자', type='Company', properties={}), target=Node(id='Ai 메모리', type='Product', properties={}), type='RELEASED', properties={}), Relationship(source=Node(id='삼성전자', type='Company', properties={}), target=Node(id='컴퓨팅 인 메모리(Cim)', type='Technology', properties={}), type='DEVELOPED', properties={}), Relationship(source=Node(id='Ai 메모리', type='Product', properties={}), target=Node(id='컴퓨팅 인 메모리(Cim)', type='Technology', properties={}), type='USES', properties={}), Relationship(source=Node(id='Ai 메모리', type='Product', properties={}), target=Node(id='Hbm(High Bandwidth Memory)', type='Technology', properties={}), type='USES', properties={})]\n",
      "----------------------------------------------------------------------------------------------------\n",
      "추출된 노드: [Node(id='엔비디아', type='Company', properties={'industry': 'AI 반도체'}), Node(id='H200', type='Product', properties={'category': 'AI 전용 GPU'}), Node(id='H100', type='Product', properties={'category': 'AI 전용 GPU'}), Node(id='트랜스포머 엔진', type='Technology', properties={}), Node(id='대형 언어 모델(Llm)', type='Technology', properties={}), Node(id='생성형 Ai 워크로드', type='Technology', properties={})]\n",
      "추출된 관계: [Relationship(source=Node(id='엔비디아', type='Company', properties={}), target=Node(id='H200', type='Product', properties={}), type='RELEASED', properties={}), Relationship(source=Node(id='H200', type='Product', properties={}), target=Node(id='트랜스포머 엔진', type='Technology', properties={}), type='USES', properties={}), Relationship(source=Node(id='H200', type='Product', properties={}), target=Node(id='대형 언어 모델(Llm)', type='Technology', properties={}), type='USES', properties={}), Relationship(source=Node(id='H200', type='Product', properties={}), target=Node(id='생성형 Ai 워크로드', type='Technology', properties={}), type='USES', properties={})]\n",
      "----------------------------------------------------------------------------------------------------\n"
     ]
    }
   ],
   "execution_count": 18
  },
  {
   "cell_type": "code",
   "id": "e789a5e0",
   "metadata": {
    "ExecuteTime": {
     "end_time": "2025-08-19T11:52:20.990836Z",
     "start_time": "2025-08-19T11:52:20.954497Z"
    }
   },
   "source": [
    "# Neo4j 데이터베이스에서 Document 노드 레이블을 NewsArticle로 변경하는 작업\n",
    "# - 그래프 데이터 모델의 일관성을 위해 Document 레이블을 NewsArticle로 변경\n",
    "# - 뉴스 기사 데이터의 특성을 더 명확하게 표현하기 위한 레이블 변경\n",
    "# - 이후 분석 및 쿼리 작업에서 뉴스 기사 노드를 더 직관적으로 참조 가능\n",
    "\n",
    "# Cypher 쿼리 정의:\n",
    "# - MATCH (d:Document): Document 레이블을 가진 모든 노드 선택\n",
    "# - SET d:NewsArticle: 선택된 노드에 NewsArticle 레이블 추가\n",
    "# - REMOVE d:Document: 기존 Document 레이블 제거\n",
    "# - RETURN count(d) AS count: 변경된 노드 수 반환\n",
    "cypher_query = \"\"\"\n",
    "MATCH (d:Document)\n",
    "SET d:NewsArticle\n",
    "REMOVE d:Document\n",
    "RETURN count(d) AS count\n",
    "\"\"\"\n",
    "\n",
    "# 정의된 Cypher 쿼리를 Neo4j 데이터베이스에 실행\n",
    "result = graph.query(cypher_query)\n",
    "\n",
    "# 변경 작업 결과 출력\n",
    "# - result[0]['count']: 쿼리 결과에서 변경된 노드 수 추출\n",
    "print(f\"모든 Document 노드 이름을 NewsArticle로 변경했습니다. 변경된 노드 수: {result[0]['count']}\")"
   ],
   "outputs": [
    {
     "name": "stdout",
     "output_type": "stream",
     "text": [
      "모든 Document 노드 이름을 NewsArticle로 변경했습니다. 변경된 노드 수: 5\n"
     ]
    }
   ],
   "execution_count": 19
  },
  {
   "cell_type": "markdown",
   "id": "34ec167d",
   "metadata": {},
   "source": [
    "`(4) NewsArticle 관련 노드/관계 생성`"
   ]
  },
  {
   "cell_type": "code",
   "id": "6408bafc",
   "metadata": {
    "ExecuteTime": {
     "end_time": "2025-08-19T11:56:03.669002Z",
     "start_time": "2025-08-19T11:56:03.552218Z"
    }
   },
   "source": [
    "# 언론사를 Company 노드로 추가하는 Cypher 쿼리\n",
    "# - MATCH (n:NewsArticle): 모든 NewsArticle 노드를 찾음\n",
    "# - WITH DISTINCT n.source AS source: 중복 없이 뉴스 기사의 출처(언론사) 추출\n",
    "# - MERGE (c:Company {name: source, type: 'news'}): \n",
    "#   * 해당 이름의 Company 노드가 없으면 생성, 있으면 기존 노드 사용\n",
    "#   * name 속성에는 언론사 이름, type 속성에는 'news' 값 설정\n",
    "# - RETURN count(c) AS count: 생성 또는 매칭된 Company 노드 수 반환\n",
    "query = \"\"\"\n",
    "MATCH (n:NewsArticle)\n",
    "WITH DISTINCT n.source AS source\n",
    "MERGE (c:Company {name: source, type: 'news'})\n",
    "RETURN count(c) AS count\n",
    "\"\"\"\n",
    "# Neo4j 데이터베이스에 쿼리 실행\n",
    "result = graph.query(query)\n",
    "\n",
    "# 생성된 언론사 노드 수 출력\n",
    "print(f\"언론사 노드 수: {result[0]['count']}\")"
   ],
   "outputs": [
    {
     "name": "stdout",
     "output_type": "stream",
     "text": [
      "언론사 노드 수: 2\n"
     ]
    }
   ],
   "execution_count": 20
  },
  {
   "cell_type": "code",
   "id": "8de73305",
   "metadata": {
    "ExecuteTime": {
     "end_time": "2025-08-19T11:57:01.495474Z",
     "start_time": "2025-08-19T11:57:01.429811Z"
    }
   },
   "source": [
    "# 뉴스 기사와 언론사 노드 연결하는 Cypher 쿼리\n",
    "# - MATCH (n:NewsArticle), (c:Company): NewsArticle 노드와 Company 노드를 각각 찾음\n",
    "# - WHERE n.source = c.name: 뉴스 기사의 source 속성이 회사의 name 속성과 일치하는 경우 필터링\n",
    "# - MERGE (n)-[:PUBLISHED_BY]->(c): 뉴스 기사에서 언론사로 향하는 PUBLISHED_BY 관계 생성\n",
    "#   * 관계가 이미 존재하면 기존 관계 사용, 없으면 새로 생성\n",
    "# - RETURN count(n) AS count: 관계가 생성된 뉴스 기사 노드의 수를 반환\n",
    "query = \"\"\"\n",
    "MATCH (n:NewsArticle), (c:Company)\n",
    "WHERE n.source = c.name\n",
    "MERGE (n)-[:PUBLISHED_BY]->(c)\n",
    "RETURN count(n) AS count\n",
    "\"\"\"\n",
    "# Neo4j 데이터베이스에 쿼리 실행\n",
    "result = graph.query(query)\n",
    "# 생성된 관계 수 출력\n",
    "print(f\"뉴스 기사와 언론사 노드 연결 수: {result[0]['count']}\")"
   ],
   "outputs": [
    {
     "name": "stdout",
     "output_type": "stream",
     "text": [
      "뉴스 기사와 언론사 노드 연결 수: 5\n"
     ]
    }
   ],
   "execution_count": 21
  },
  {
   "cell_type": "code",
   "id": "8e876afc",
   "metadata": {
    "ExecuteTime": {
     "end_time": "2025-08-19T11:59:04.335528Z",
     "start_time": "2025-08-19T11:59:04.198638Z"
    }
   },
   "source": [
    "# 기자를 Person 노드로 추가하고, 뉴스 기사 노드와 언론사 노드와 연결하는 Cypher 쿼리\n",
    "query = \"\"\"\n",
    "// 모든 뉴스 기사 노드를 찾음\n",
    "MATCH (n:NewsArticle)\n",
    "\n",
    "// 중복 없이 기자(author), 언론사(source), 기사ID를 추출\n",
    "WITH DISTINCT n.author AS author, n.source AS source, n.id AS articleId\n",
    "\n",
    "// 기자 노드 생성 (없으면 생성, 있으면 기존 노드 사용)\n",
    "// MERGE: 노드가 존재하지 않으면 생성하고, 존재하면 매칭함\n",
    "MERGE (p:Person {name: author})\n",
    "\n",
    "// 이전 단계에서 생성한 기자 노드(p)와 언론사 정보, 기사ID를 다음 단계로 전달\n",
    "WITH p, source, articleId\n",
    "\n",
    "// 언론사 노드 생성 또는 매칭\n",
    "MERGE (c:Company {name: source})\n",
    "\n",
    "// 기자와 언론사 사이에 WORKS_FOR 관계 생성\n",
    "MERGE (p)-[:WORKS_FOR]->(c)\n",
    "\n",
    "// 기자 노드와 기사ID를 다음 단계로 전달\n",
    "WITH p, articleId\n",
    "\n",
    "// 해당 ID를 가진 뉴스 기사 노드 찾기\n",
    "MATCH (a:NewsArticle {id: articleId})\n",
    "\n",
    "// 기자와 뉴스 기사 사이에 WROTE 관계 생성\n",
    "MERGE (p)-[:WROTE]->(a)\n",
    "\n",
    "// 생성된 고유한 기자 노드의 수를 반환\n",
    "// count(DISTINCT p): 중복 없이 기자 노드 수를 계산\n",
    "RETURN count(DISTINCT p) AS count\n",
    "\"\"\"\n",
    "\n",
    "# Neo4j 데이터베이스에 쿼리 실행\n",
    "result = graph.query(query)\n",
    "\n",
    "# 생성된 기자 노드 수 출력\n",
    "print(f\"기자 노드 수: {result[0]['count']}\")"
   ],
   "outputs": [
    {
     "name": "stdout",
     "output_type": "stream",
     "text": [
      "기자 노드 수: 5\n"
     ]
    }
   ],
   "execution_count": 22
  },
  {
   "cell_type": "markdown",
   "id": "4c908226",
   "metadata": {},
   "source": [
    "---\n",
    "\n",
    "## 3. **쿼리를 이용한 뉴스 데이터 분석**"
   ]
  },
  {
   "cell_type": "markdown",
   "id": "2923ac76",
   "metadata": {},
   "source": [
    "### 3.1 cypher 구문 직접 사용\n"
   ]
  },
  {
   "cell_type": "markdown",
   "id": "54885f5c",
   "metadata": {},
   "source": [
    "#### 1) **스키마 정보 확인**"
   ]
  },
  {
   "cell_type": "code",
   "id": "00598adb",
   "metadata": {
    "ExecuteTime": {
     "end_time": "2025-08-19T12:04:57.417150Z",
     "start_time": "2025-08-19T12:04:57.035777Z"
    }
   },
   "source": [
    "graph.refresh_schema()\n",
    "print(graph.schema)"
   ],
   "outputs": [
    {
     "name": "stdout",
     "output_type": "stream",
     "text": [
      "Node properties:\n",
      "- **NewsArticle**\n",
      "  - `id`: STRING Available options: ['article_0', 'article_1', 'article_2', 'article_3', 'article_4']\n",
      "  - `text`: STRING Available options: ['구글이 안드로이드 14에 생성형 AI 기능을 대거 탑재했다고 발표했다. 이번 발표는 구글의', '애플이 차세대 모바일 운영체제 iOS 18을 공개하며 AI 플랫폼 경쟁을 본격화하고 있다.', \"메타가 차세대 오픈소스 AI 모델 'Llama 3'를 공개했다. 이번 모델은 이전 버전보다\", \"삼성전자가 AI 연산에 최적화된 '컴퓨팅 인 메모리'(CIM) 기술을 적용한 신개념 메모리\", \"엔비디아가 차세대 AI 전용 GPU 'H200'의 출시가 임박했다고 발표했다. 이번 신제품\"]\n",
      "  - `date`: STRING Available options: ['2024-03-20', '2024-03-19', '2024-04-05', '2024-04-03', '2024-04-02']\n",
      "  - `source`: STRING Available options: ['디지털타임스', '전자일보']\n",
      "  - `title`: STRING Available options: ['구글, 안드로이드 14에 생성형 AI 기능 대거 탑재', '애플, iOS 18 공개하며 AI 플랫폼 경쟁 본격화', \"메타, 차세대 오픈소스 AI 모델 'Llama 3' 공개\", \"삼성전자, 'AI 메모리' 신기술 개발 성공\", \"엔비디아, 차세대 AI 전용 GPU 'H200' 출시 임박\"]\n",
      "  - `author`: STRING Available options: ['박승리', '최기상', '정주리', '이승지', '김송이']\n",
      "- **Company**\n",
      "  - `id`: STRING Available options: ['구글', 'Apple', 'Google', '메타', '삼성전자', '엔비디아']\n",
      "  - `industry`: STRING Available options: ['Technology', '반도체', 'AI 반도체']\n",
      "  - `name`: STRING Available options: ['디지털타임스', '전자일보']\n",
      "  - `type`: STRING Available options: ['news']\n",
      "- **Product**\n",
      "  - `id`: STRING Available options: ['안드로이드 14', '구글 어시스턴트', 'Ios 18', 'Siri', 'Llama 3', 'Ai 메모리', 'H200', 'H100']\n",
      "  - `version`: STRING Available options: ['14', '18', '3']\n",
      "  - `releasedate`: STRING Available options: ['2024']\n",
      "  - `category`: STRING Available options: ['AI 모델', '메모리 반도체', 'AI 전용 GPU']\n",
      "- **Technology**\n",
      "  - `id`: STRING Example: \"생성형 Ai\"\n",
      "  - `category`: STRING Available options: ['AI']\n",
      "- **Person**\n",
      "  - `name`: STRING Available options: ['박승리', '최기상', '정주리', '이승지', '김송이']\n",
      "Relationship properties:\n",
      "\n",
      "The relationships:\n",
      "(:NewsArticle)-[:MENTIONS]->(:Company)\n",
      "(:NewsArticle)-[:MENTIONS]->(:Product)\n",
      "(:NewsArticle)-[:MENTIONS]->(:Technology)\n",
      "(:NewsArticle)-[:PUBLISHED_BY]->(:Company)\n",
      "(:Company)-[:RELEASED]->(:Product)\n",
      "(:Company)-[:DEVELOPED]->(:Technology)\n",
      "(:Product)-[:USES]->(:Technology)\n",
      "(:Person)-[:WORKS_FOR]->(:Company)\n",
      "(:Person)-[:WROTE]->(:NewsArticle)\n"
     ]
    }
   ],
   "execution_count": 23
  },
  {
   "cell_type": "markdown",
   "id": "8f04f5d5",
   "metadata": {},
   "source": [
    "#### 2) **기업 및 제품 언론 보도 분석**\n",
    "\n",
    "- 목적: 기업과 제품의 미디어 노출 정도 측정\n",
    "- 유용성: PR 및 마케팅 효과 분석"
   ]
  },
  {
   "cell_type": "code",
   "id": "675c70bd",
   "metadata": {
    "ExecuteTime": {
     "end_time": "2025-08-19T12:05:05.502709Z",
     "start_time": "2025-08-19T12:05:05.462765Z"
    }
   },
   "source": [
    "# 뉴스 기사에서 특정 기업의 멘션 횟수 분석\n",
    "# 목적: 각 기업이 뉴스 기사에서 언급된 횟수를 계산하여 미디어 노출도 측정\n",
    "# 방법: NewsArticle과 Company 노드 간의 MENTIONS 관계를 통해 연결 분석\n",
    "query = \"\"\"\n",
    "// 뉴스 기사에서 기업 언급 횟수 분석\n",
    "// MATCH: NewsArticle 노드와 Company 노드 간의 MENTIONS 관계 찾기\n",
    "MATCH (n:NewsArticle)-[:MENTIONS]->(c:Company)\n",
    "\n",
    "// WITH: 각 기업별로 그룹화하여 언급 횟수 계산\n",
    "WITH c.id AS companyName, COUNT(n) AS mentionCount\n",
    "\n",
    "// RETURN: 기업명과 언급 횟수 반환\n",
    "RETURN companyName, mentionCount\n",
    "\n",
    "// ORDER BY: 언급 횟수 기준 내림차순 정렬\n",
    "ORDER BY mentionCount DESC  \n",
    "\"\"\"\n",
    "\n",
    "# Neo4j 데이터베이스에 쿼리 실행하여 결과 가져오기\n",
    "result = graph.query(query)\n",
    "\n",
    "# 각 기업명과 해당 기업이 언급된 기사 수를 내림차순으로 표시\n",
    "for record in result:\n",
    "    print(f\"{record['companyName']}: {record['mentionCount']}회\")"
   ],
   "outputs": [
    {
     "name": "stdout",
     "output_type": "stream",
     "text": [
      "구글: 1회\n",
      "Apple: 1회\n",
      "Google: 1회\n",
      "메타: 1회\n",
      "삼성전자: 1회\n",
      "엔비디아: 1회\n"
     ]
    }
   ],
   "execution_count": 24
  },
  {
   "cell_type": "code",
   "id": "53bac197",
   "metadata": {
    "ExecuteTime": {
     "end_time": "2025-08-19T12:05:34.551683Z",
     "start_time": "2025-08-19T12:05:34.513416Z"
    }
   },
   "source": [
    "# 뉴스 기사에서 특정 제품의 멘션 횟수 분석\n",
    "# 목적: 각 제품이 뉴스 기사에서 언급된 횟수를 계산하여 제품의 미디어 노출도 측정\n",
    "# 방법: NewsArticle과 Product 노드 간의 MENTIONS 관계를 통해 연결 분석\n",
    "query = \"\"\"\n",
    "// 뉴스 기사에서 제품 언급 횟수 분석\n",
    "// MATCH: NewsArticle 노드와 Product 노드 간의 MENTIONS 관계 찾기\n",
    "MATCH (n:NewsArticle)-[:MENTIONS]->(p:Product)\n",
    "\n",
    "// WITH: 각 제품별로 그룹화하여 언급 횟수 계산\n",
    "WITH p.id AS productName, COUNT(n) AS mentionCount\n",
    "\n",
    "// RETURN: 제품명과 언급 횟수 반환\n",
    "RETURN productName, mentionCount\n",
    "\n",
    "// ORDER BY: 언급 횟수 기준 내림차순 정렬\n",
    "ORDER BY mentionCount DESC  \n",
    "\"\"\"\n",
    "# Neo4j 데이터베이스에 쿼리 실행하여 결과 가져오기\n",
    "result = graph.query(query)\n",
    "\n",
    "# 각 제품명과 해당 제품이 언급된 기사 수를 내림차순으로 표시\n",
    "for record in result:\n",
    "    print(f\"{record['productName']}: {record['mentionCount']}회\")"
   ],
   "outputs": [
    {
     "name": "stdout",
     "output_type": "stream",
     "text": [
      "안드로이드 14: 1회\n",
      "구글 어시스턴트: 1회\n",
      "Ios 18: 1회\n",
      "Siri: 1회\n",
      "Llama 3: 1회\n",
      "Ai 메모리: 1회\n",
      "H200: 1회\n",
      "H100: 1회\n"
     ]
    }
   ],
   "execution_count": 25
  },
  {
   "cell_type": "markdown",
   "id": "4e7a1072",
   "metadata": {},
   "source": [
    "#### 3) **뉴스 기사에서 언급된 기술 순위**\n",
    "\n",
    "- 목적: 미디어에서 가장 많이 언급되는 기술 파악\n",
    "- 유용성: 기술 트렌드 및 미디어 관심도 분석"
   ]
  },
  {
   "cell_type": "code",
   "id": "bf61db3e",
   "metadata": {
    "ExecuteTime": {
     "end_time": "2025-08-19T12:05:43.799941Z",
     "start_time": "2025-08-19T12:05:43.761034Z"
    }
   },
   "source": [
    "# 뉴스 기사에서 특정 기술의 멘션 횟수 분석\n",
    "# 목적: 각 기술이 뉴스 기사에서 언급된 횟수를 계산하여 기술의 미디어 노출도 측정\n",
    "# 방법: NewsArticle과 Technology 노드 간의 MENTIONS 관계를 통해 연결 분석\n",
    "query = \"\"\"\n",
    "// 뉴스 기사에서 기술 언급 횟수 분석\n",
    "// MATCH: NewsArticle 노드와 Technology 노드 간의 MENTIONS 관계 찾기\n",
    "MATCH (n:NewsArticle)-[:MENTIONS]->(t:Technology)\n",
    "\n",
    "// RETURN: 기술 ID와 해당 기술을 언급한 고유 뉴스 기사 수 반환\n",
    "RETURN t.id, COUNT(DISTINCT n) AS news_coverage\n",
    "\n",
    "// ORDER BY: 뉴스 기사 수 기준 내림차순 정렬\n",
    "ORDER BY news_coverage DESC\n",
    "\n",
    "// LIMIT: 상위 5개 결과만 표시\n",
    "LIMIT 5\n",
    "\"\"\"\n",
    "\n",
    "# Neo4j 데이터베이스에 쿼리 실행하여 결과 가져오기\n",
    "result = graph.query(query)\n",
    "\n",
    "# 각 기술과 해당 기술이 언급된 기사 수를 내림차순으로 표시\n",
    "for record in result:\n",
    "    print(f\"{record['t.id']}: {record['news_coverage']}회\")"
   ],
   "outputs": [
    {
     "name": "stdout",
     "output_type": "stream",
     "text": [
      "Ai 사진 보정: 1회\n",
      "실시간 번역: 1회\n",
      "Apple Intelligence: 1회\n",
      "Gpt 기반 대형 언어 모델: 1회\n",
      "생성형 Ai: 1회\n"
     ]
    }
   ],
   "execution_count": 26
  },
  {
   "cell_type": "markdown",
   "id": "646d4fae",
   "metadata": {},
   "source": [
    "#### 4) **기업별 뉴스 작성자 식별**\n",
    "\n",
    "- 목적: 기업별 뉴스 작성자 파악\n",
    "- 유용성: 미디어 관계 및 보도 패턴 분석"
   ]
  },
  {
   "cell_type": "code",
   "id": "d7d0393d",
   "metadata": {
    "ExecuteTime": {
     "end_time": "2025-08-19T12:05:53.701442Z",
     "start_time": "2025-08-19T12:05:53.660837Z"
    }
   },
   "source": [
    "# 특정 기업에 대해 글을 쓴 저자 조회\n",
    "# 목적: 각 기업을 언급한 뉴스 기사의 작성자를 식별하고 기사 수를 계산\n",
    "# 방법: NewsArticle-MENTIONS->Company와 Person-WROTE->NewsArticle 관계를 함께 분석\n",
    "query = \"\"\"\n",
    "// 기업과 기사 관계 조회\n",
    "// MATCH: NewsArticle 노드와 Company 노드 간의 MENTIONS 관계 찾기\n",
    "// MATCH: NewsArticle 노드와 Person 노드 간의 WROTE 관계 찾기\n",
    "MATCH (n:NewsArticle)-[:MENTIONS]->(c:Company), \n",
    "      (n)<-[:WROTE]-(person:Person)\n",
    "\n",
    "// RETURN: 기업명, 작성자 목록, 기사 수 반환\n",
    "RETURN c.id AS companyName,    // 기업명\n",
    "       COLLECT(DISTINCT person.name) AS authors,   // 작성자 목록 (중복 제거)\n",
    "       COUNT(DISTINCT n) AS article_count          // 기사 수 (중복 제거)\n",
    "\n",
    "// ORDER BY: 기사 수 기준 내림차순 정렬\n",
    "ORDER BY article_count DESC\n",
    "\"\"\"\n",
    "\n",
    "# Neo4j 데이터베이스에 쿼리 실행하여 결과 가져오기\n",
    "result = graph.query(query)\n",
    "\n",
    "# 저자 조회 결과 출력\n",
    "# 각 기업별로 해당 기업을 언급한 기사의 작성자 목록과 총 기사 수를 표시\n",
    "for record in result:\n",
    "    authors = record['authors']\n",
    "    authors_str = ', '.join(authors)  # 작성자 목록을 쉼표로 구분하여 문자열로 변환\n",
    "    print(f\"{record['companyName']}의 저자: {authors_str} (총 기사 수: {record['article_count']})\")"
   ],
   "outputs": [
    {
     "name": "stdout",
     "output_type": "stream",
     "text": [
      "구글의 저자: 박승리 (총 기사 수: 1)\n",
      "Apple의 저자: 최기상 (총 기사 수: 1)\n",
      "Google의 저자: 최기상 (총 기사 수: 1)\n",
      "메타의 저자: 정주리 (총 기사 수: 1)\n",
      "삼성전자의 저자: 이승지 (총 기사 수: 1)\n",
      "엔비디아의 저자: 김송이 (총 기사 수: 1)\n"
     ]
    }
   ],
   "execution_count": 27
  },
  {
   "cell_type": "markdown",
   "id": "1c57430f",
   "metadata": {},
   "source": [
    "#### 5) **기업과 보유 기술 조회**\n",
    "\n",
    "- 목적: 각 기업이 개발한 기술 목록을 확인\n",
    "- 유용성: 기업의 기술 포트폴리오 파악에 도움"
   ]
  },
  {
   "cell_type": "code",
   "id": "08511d2c",
   "metadata": {
    "ExecuteTime": {
     "end_time": "2025-08-19T12:06:35.841142Z",
     "start_time": "2025-08-19T12:06:35.811569Z"
    }
   },
   "source": [
    "# 각 기업이 개발한 기술을 조회하는 쿼리\n",
    "# 목적: 기업과 기술 간의 관계를 파악하여 각 기업의 기술 포트폴리오 확인\n",
    "# 방법: Company-DEVELOPED->Technology 관계를 통해 기업이 개발한 기술 목록 추출\n",
    "query = \"\"\"\n",
    "// 기업과 기술 관계 조회\n",
    "// MATCH: Company 노드와 Technology 노드 간의 DEVELOPED 관계 찾기\n",
    "MATCH (c:Company)-[:DEVELOPED]->(t:Technology)\n",
    "\n",
    "// RETURN: 기업명과 기술 목록 반환\n",
    "RETURN c.id AS companyName, COLLECT(t.id) AS technologies\n",
    "\"\"\"\n",
    "\n",
    "# Neo4j 데이터베이스에 쿼리 실행하여 결과 가져오기\n",
    "result = graph.query(query)\n",
    "\n",
    "# 기업과 기술 관계 결과 출력\n",
    "# 각 기업별로 해당 기업이 개발한 모든 기술을 쉼표로 구분하여 표시\n",
    "for record in result:\n",
    "    technologies = record['technologies']\n",
    "    technologies_str = ', '.join(technologies)  # 기술 목록을 쉼표로 구분하여 문자열로 변환\n",
    "    print(f\"{record['companyName']}이 개발한 기술: {technologies_str}\")"
   ],
   "outputs": [
    {
     "name": "stdout",
     "output_type": "stream",
     "text": [
      "구글이 개발한 기술: 생성형 Ai\n",
      "Apple이 개발한 기술: Apple Intelligence\n",
      "메타이 개발한 기술: 오픈소스\n",
      "삼성전자이 개발한 기술: 컴퓨팅 인 메모리(Cim)\n"
     ]
    }
   ],
   "execution_count": 28
  },
  {
   "cell_type": "markdown",
   "id": "f7d762e3",
   "metadata": {},
   "source": [
    "### 3.2 그래프 검색을 위해 **Text2cypher** 사용\n",
    "\n",
    "- LangChain으로 Neo4J 지식 그래프 조회\n",
    "- https://python.langchain.com/docs/integrations/graphs/neo4j_cypher/\n"
   ]
  },
  {
   "cell_type": "markdown",
   "id": "cc0be3c2",
   "metadata": {},
   "source": [
    "#### 1) **스키마 정보 확인**\n",
    "\n",
    "- LLM이 Cypher 쿼리를 생성하려면 그래프 데이터베이스의 스키마 정보가 필요"
   ]
  },
  {
   "cell_type": "code",
   "execution_count": null,
   "id": "dfcd8b18",
   "metadata": {},
   "outputs": [],
   "source": [
    "# 기본 스키마 정보 확인\n",
    "graph.refresh_schema()\n",
    "print(graph.schema)"
   ]
  },
  {
   "cell_type": "markdown",
   "id": "8149398e",
   "metadata": {},
   "source": [
    "#### 2) **GraphCypherQAChain 설정**\n",
    "\n",
    "- `GraphCypherQAChain`은 LangChain에서 제공하는 체인으로, 자연어 질문을 Cypher 쿼리로 변환하고 그 결과를 바탕으로 답변을 생성\n",
    "\n",
    "- 작동 과정:\n",
    "    1. 사용자의 자연어 질문 입력\n",
    "    2. LLM을 사용하여 질문을 Cypher 쿼리로 변환\n",
    "    3. 생성된 Cypher 쿼리를 Neo4j 데이터베이스에 실행\n",
    "    4. 쿼리 결과를 LLM에 전달하여 자연어 답변 생성\n",
    "\n",
    "- 주요 구성 요소\n",
    "    - `cypher_generation_chain`: 자연어를 Cypher 쿼리로 변환하는 체인\n",
    "    - `qa_chain`: 쿼리 결과를 바탕으로 답변을 생성하는 체인\n",
    "    - `graph`: Neo4j 그래프 데이터베이스 연결 객체\n",
    "    - `graph_schema`: 그래프 데이터베이스의 스키마 정보"
   ]
  },
  {
   "cell_type": "code",
   "execution_count": null,
   "id": "3c513e55",
   "metadata": {},
   "outputs": [],
   "source": [
    "from langchain_neo4j import GraphCypherQAChain\n",
    "from langchain_google_genai import ChatGoogleGenerativeAI \n",
    "\n",
    "# LLM 모델 설정\n",
    "llm = ChatGoogleGenerativeAI(model=\"gemini-2.0-flash\", temperature=0)\n",
    "\n",
    "# GraphCypherQAChain 생성\n",
    "cypher_chain = GraphCypherQAChain.from_llm(\n",
    "    llm=llm,\n",
    "    graph=graph,  \n",
    "    validate_cypher=True,            # Cypher 쿼리 유효성 검사\n",
    "    return_intermediate_steps=True,  # 중간 단계 결과 반환\n",
    "    allow_dangerous_requests=True,   # DB에 영향을 줄 수 있음을 인지하고 쿼리 실행을 허용\n",
    "    top_k=5                          # 반환할 최대 결과 수\n",
    ")"
   ]
  },
  {
   "cell_type": "markdown",
   "id": "697e5cb0",
   "metadata": {},
   "source": [
    "#### 3) **Text to Cypher - DB 조회**"
   ]
  },
  {
   "cell_type": "code",
   "execution_count": null,
   "id": "fdcaa53e",
   "metadata": {},
   "outputs": [],
   "source": [
    "cypher_query = \"\"\"\n",
    "// Company 노드 중 id 속성이 있는 노드 찾기\n",
    "MATCH (c:Company)\n",
    "WHERE c.id IS NOT NULL AND c.name IS NULL\n",
    "\n",
    "// id 값을 name 속성으로 복사하고 id 속성 삭제\n",
    "SET c.name = c.id\n",
    "REMOVE c.id\n",
    "\n",
    "RETURN count(c) AS updated_companies\n",
    "\"\"\"\n",
    "\n",
    "# Cypher 쿼리 실행\n",
    "result = graph.query(cypher_query)"
   ]
  },
  {
   "cell_type": "code",
   "execution_count": null,
   "id": "a33ef963",
   "metadata": {},
   "outputs": [],
   "source": [
    "result"
   ]
  },
  {
   "cell_type": "code",
   "execution_count": null,
   "id": "a8ed2b80",
   "metadata": {},
   "outputs": [],
   "source": [
    "graph.refresh_schema()  # 스키마 새로 고침\n",
    "print(graph.schema)  # 스키마 정보 출력"
   ]
  },
  {
   "cell_type": "code",
   "execution_count": null,
   "id": "0be8c629",
   "metadata": {},
   "outputs": [],
   "source": [
    "cypher_chain.invoke({\"query\": \"엔비디아를 언급한 기사는 몇 개인가요?\"})"
   ]
  },
  {
   "cell_type": "code",
   "execution_count": null,
   "id": "0f132f1b",
   "metadata": {},
   "outputs": [],
   "source": [
    "cypher_chain.invoke({\"query\": \"가장 많은 기사를 작성한 언론사는 어디인가요?\"})"
   ]
  },
  {
   "cell_type": "markdown",
   "id": "177db1ba",
   "metadata": {},
   "source": [
    "#### 4) **직접 Cypher 결과 얻기 (LLM 답변 없이)** \n",
    "\n",
    "- `return_direct`=True"
   ]
  },
  {
   "cell_type": "code",
   "execution_count": null,
   "id": "a7637ce5",
   "metadata": {},
   "outputs": [],
   "source": [
    "# 직접 Cypher 결과 얻기 (LLM 답변 없이)\n",
    "cypher_chain = GraphCypherQAChain.from_llm(\n",
    "    llm=llm,\n",
    "    graph=graph, \n",
    "    allow_dangerous_requests=True,\n",
    "    verbose=True,\n",
    "    return_direct=True  # LLM 답변 생성 단계 건너뛰기\n",
    ")\n",
    "\n",
    "# 각 언론사별로 작성한 기사의 개수를 추출\n",
    "cypher_chain.invoke({\"query\": \"각 언론사별로 몇 개의 뉴스를 작성했나요?\"})"
   ]
  },
  {
   "cell_type": "markdown",
   "id": "a310fbb2",
   "metadata": {},
   "source": [
    "### 3.3 Graph RAG 구현\n",
    "\n",
    "- 뉴스 본문을 위한 **벡터 인덱스**를 기존 노트북에 추가\n",
    "- **벡터 임베딩** 생성 및 Neo4j 저장 기능 구현함\n",
    "- **벡터 유사도 검색**과 **지식 그래프 결합** 하이브리드 검색 구현\n",
    "- 기본 **RAG 시스템**과 지식 그래프로 **강화된 RAG 시스템** 구현"
   ]
  },
  {
   "cell_type": "markdown",
   "id": "b522f3b1",
   "metadata": {},
   "source": [
    "#### 1) **벡터 임베딩 모델** 설정\n",
    "\n",
    "- 뉴스 본문의 벡터화 및 저장을 위한 기초 작업\n",
    "- 임베딩 모델 설정은 벡터 검색 성능에 직접적 영향을 미침"
   ]
  },
  {
   "cell_type": "code",
   "id": "bc5f3ce6",
   "metadata": {
    "ExecuteTime": {
     "end_time": "2025-08-19T12:34:59.125141Z",
     "start_time": "2025-08-19T12:34:59.093068Z"
    }
   },
   "source": [
    "from langchain_openai import OpenAIEmbeddings\n",
    "\n",
    "# OpenAI 임베딩 모델 초기화\n",
    "embeddings = OpenAIEmbeddings(model=\"text-embedding-3-small\")"
   ],
   "outputs": [],
   "execution_count": 29
  },
  {
   "cell_type": "markdown",
   "id": "2a168b8b",
   "metadata": {},
   "source": [
    "#### 2) **벡터 인덱스** 생성\n",
    "\n",
    "- **news_content_embeddings**라는 이름의 벡터 인덱스를 NewsArticle 노드의 **content_embedding** 필드에 적용함 (필드를 새로 추가)\n",
    "- 벡터 차원을 **1536차원**으로 설정하여 OpenAI의 text-embedding-3-small 모델과 호환되도록 함"
   ]
  },
  {
   "cell_type": "code",
   "id": "93b93e98",
   "metadata": {
    "ExecuteTime": {
     "end_time": "2025-08-19T12:35:05.212529Z",
     "start_time": "2025-08-19T12:35:05.140684Z"
    }
   },
   "source": [
    "# 벡터 인덱스 생성\n",
    "create_vector_index_query = \"\"\"\n",
    "CREATE VECTOR INDEX news_content_embeddings IF NOT EXISTS\n",
    "FOR (n:NewsArticle)\n",
    "ON n.content_embedding\n",
    "OPTIONS {indexConfig: {\n",
    "  `vector.dimensions`: 1536,\n",
    "  `vector.similarity_function`: 'cosine'\n",
    "}}\n",
    "\"\"\"\n",
    "\n",
    "# 벡터 인덱스 생성 쿼리 실행\n",
    "graph.query(create_vector_index_query)"
   ],
   "outputs": [
    {
     "data": {
      "text/plain": [
       "[]"
      ]
     },
     "execution_count": 30,
     "metadata": {},
     "output_type": "execute_result"
    }
   ],
   "execution_count": 30
  },
  {
   "cell_type": "code",
   "id": "25180aab",
   "metadata": {
    "ExecuteTime": {
     "end_time": "2025-08-19T12:35:11.023383Z",
     "start_time": "2025-08-19T12:35:10.979934Z"
    }
   },
   "source": [
    "# 벡터 인덱스 확인\n",
    "check_vector_index_query = \"\"\"\n",
    "SHOW VECTOR INDEXES\n",
    "\"\"\"\n",
    "vector_indexes = graph.query(check_vector_index_query)\n",
    "for index in vector_indexes:\n",
    "    # 벡터 인덱스 정보 출력\n",
    "    print(f\"Index Name: {index['name']}\")\n",
    "    print(f\"Type: {index['type']}\")    \n",
    "    print(f\"Property Key: {index['properties']}\")\n",
    "    print(\"-\" * 40)"
   ],
   "outputs": [
    {
     "name": "stdout",
     "output_type": "stream",
     "text": [
      "Index Name: news_content_embeddings\n",
      "Type: VECTOR\n",
      "Property Key: ['content_embedding']\n",
      "----------------------------------------\n"
     ]
    }
   ],
   "execution_count": 31
  },
  {
   "cell_type": "markdown",
   "id": "6bd7a35e",
   "metadata": {},
   "source": [
    "#### 3) **임베딩 생성 및 저장**\n",
    "\n",
    "- 뉴스 텍스트에 대해 **OpenAI 임베딩**을 생성하는 과정 수행\n",
    "- 빈 문자열인 경우 처리를 **건너뛰는** 예외 처리 포함\n",
    "- 생성된 임베딩을 `db.create.setNodeVectorProperty` 프로시저를 통해 **content_embedding** 속성으로 저장"
   ]
  },
  {
   "cell_type": "code",
   "id": "476735b8",
   "metadata": {
    "ExecuteTime": {
     "end_time": "2025-08-19T12:35:48.904687Z",
     "start_time": "2025-08-19T12:35:46.121880Z"
    }
   },
   "source": [
    "# 뉴스 기사 데이터 가져오기\n",
    "news_query = \"\"\"\n",
    "// 뉴스 기사 데이터 가져오기\n",
    "// MATCH: NewsArticle 노드 조회\n",
    "// WHERE: 뉴스 기사 내용이 NULL이 아닌 경우 필터링\n",
    "// RETURN: 기사 ID, 제목, 내용 반환\n",
    "MATCH (n:NewsArticle)\n",
    "WHERE n.text IS NOT NULL\n",
    "RETURN n.id AS id, n.title AS title, n.text AS text\n",
    "\"\"\"\n",
    "news_articles = graph.query(news_query)\n",
    "\n",
    "# 배치 크기 설정\n",
    "BATCH_SIZE = 2\n",
    "\n",
    "# 임베딩 생성 및 저장 (배치 처리)\n",
    "for i in range(0, len(news_articles), BATCH_SIZE):\n",
    "    batch = news_articles[i:i+BATCH_SIZE]\n",
    "    batch_texts = []\n",
    "    batch_ids = []\n",
    "    \n",
    "    # 배치 데이터 준비\n",
    "    for article in batch:\n",
    "        content_text = f\"{article['title']}\\n\\n{article['text']}\"\n",
    "        if content_text.strip(): # 빈 문자열 확인\n",
    "            batch_texts.append(content_text)\n",
    "            batch_ids.append(article['id'])\n",
    "    \n",
    "    try:\n",
    "        if batch_texts:\n",
    "            # 배치 단위로 OpenAI 임베딩 생성\n",
    "            batch_embeddings = embeddings.embed_documents(batch_texts)\n",
    "            \n",
    "            # UNWIND를 사용한 배치 업데이트\n",
    "            batch_data = [{\"id\": article_id, \"embedding\": embedding_vector} \n",
    "                         for article_id, embedding_vector in zip(batch_ids, batch_embeddings)]\n",
    "            \n",
    "            batch_update_query = \"\"\"\n",
    "            // 각 기사의 벡터 임베딩 업데이트\n",
    "            // UNWIND: 배치 데이터 반복 처리\n",
    "            // MATCH: NewsArticle 노드 조회\n",
    "            // CALL: db.create.setNodeVectorProperty 프로시저 호출\n",
    "            // RETURN: 업데이트된 기사 수 반환\n",
    "            UNWIND $batch AS item\n",
    "            MATCH (n:NewsArticle {id: item.id})\n",
    "            CALL db.create.setNodeVectorProperty(n, 'content_embedding', item.embedding)\n",
    "            RETURN count(n) as updated\n",
    "            \"\"\"\n",
    "            \n",
    "            result = graph.query(batch_update_query, params={\"batch\": batch_data})\n",
    "            print(f\"배치 처리 완료: {i+1}~{min(i+len(batch_texts), len(news_articles))} / {len(news_articles)}, 업데이트됨: {result[0]['updated']}\")\n",
    "    except Exception as e:\n",
    "        print(f\"배치 임베딩 생성 실패 (배치 인덱스 {i}): {str(e)}\")\n",
    "\n",
    "print(f\"뉴스 기사 임베딩 업데이트 완료!! 총 {len(news_articles)}개 처리\")"
   ],
   "outputs": [
    {
     "name": "stdout",
     "output_type": "stream",
     "text": [
      "배치 처리 완료: 1~2 / 5, 업데이트됨: 2\n",
      "배치 처리 완료: 3~4 / 5, 업데이트됨: 2\n",
      "배치 처리 완료: 5~5 / 5, 업데이트됨: 1\n",
      "뉴스 기사 임베딩 업데이트 완료!! 총 5개 처리\n"
     ]
    }
   ],
   "execution_count": 32
  },
  {
   "cell_type": "markdown",
   "id": "130c3e9a",
   "metadata": {},
   "source": [
    "#### 4) **Neo4j Graph DB 초기화**"
   ]
  },
  {
   "cell_type": "code",
   "id": "65b7e606",
   "metadata": {
    "ExecuteTime": {
     "end_time": "2025-08-19T12:35:59.551031Z",
     "start_time": "2025-08-19T12:35:57.780357Z"
    }
   },
   "source": [
    "from langchain_openai import OpenAIEmbeddings\n",
    "from langchain_neo4j import Neo4jVector\n",
    "import os\n",
    "\n",
    "# 임베딩 모델 설정 (인덱싱했던 모델과 동일)\n",
    "embeddings = OpenAIEmbeddings(model=\"text-embedding-3-small\") \n",
    "\n",
    "# Neo4j 데이터베이스에 이미 생성된 벡터 인덱스에 연결하는 Neo4jVector 인스턴스 생성\n",
    "vector_store = Neo4jVector.from_existing_index(\n",
    "    embeddings,  # 사용할 임베딩 모델 지정\n",
    "    url=os.getenv(\"NEO4J_URI\"),  # Neo4j 데이터베이스 연결 URI (환경 변수에서 가져옴)\n",
    "    username=os.getenv(\"NEO4J_USERNAME\"),  # Neo4j 데이터베이스 사용자 이름\n",
    "    password=os.getenv(\"NEO4J_PASSWORD\"),  # Neo4j 데이터베이스 비밀번호\n",
    "    database=os.getenv(\"NEO4J_DATABASE\"),  # Neo4j 데이터베이스 이름\n",
    "    index_name=\"news_content_embeddings\",  # 뉴스 기사용 벡터 인덱스 이름\n",
    "    node_label=\"NewsArticle\",  # 뉴스 기사 노드 레이블\n",
    "    text_node_property=\"text\",  # 텍스트 검색 시 반환할 노드의 속성 (뉴스 내용)\n",
    "    embedding_node_property=\"content_embedding\"  # 임베딩이 저장된 속성 이름\n",
    ")"
   ],
   "outputs": [],
   "execution_count": 33
  },
  {
   "cell_type": "markdown",
   "id": "7f6cabe9",
   "metadata": {},
   "source": [
    "#### 5) **기본 RAG 구현**"
   ]
  },
  {
   "cell_type": "code",
   "id": "42b58fe2",
   "metadata": {
    "ExecuteTime": {
     "end_time": "2025-08-19T12:37:07.953412Z",
     "start_time": "2025-08-19T12:36:58.932318Z"
    }
   },
   "source": [
    "# RAG 시스템 구현\n",
    "from langchain_core.prompts import PromptTemplate\n",
    "from langchain_core.output_parsers import StrOutputParser\n",
    "from langchain_core.runnables import RunnablePassthrough\n",
    "from langchain_google_genai import ChatGoogleGenerativeAI\n",
    "from langchain_openai import ChatOpenAI\n",
    "\n",
    "# RAG 프롬프트 템플릿 정의\n",
    "template = \"\"\"\n",
    "당신은 최신 기술 뉴스에 대한 지식을 갖춘 전문가 AI 비서입니다.\n",
    "제공된 뉴스 기사 내용을 바탕으로 질문에 정확하게 답변해 주세요.\n",
    "뉴스 기사에서 찾을 수 없는 정보에 대해서는 솔직하게 모른다고 답변하세요.\n",
    "\n",
    "참고할 뉴스 기사:\n",
    "{context}\n",
    "\n",
    "질문: {question}\n",
    "\n",
    "답변:\n",
    "\"\"\"\n",
    "\n",
    "prompt = PromptTemplate(\n",
    "    template=template,\n",
    "    input_variables=[\"context\", \"question\"]\n",
    ")\n",
    "\n",
    "# RAG 체인 구성\n",
    "llm = ChatOpenAI(model=\"gpt-4o-mini\", temperature=0)\n",
    "retriever = vector_store.as_retriever(search_kwargs={\"k\": 2})\n",
    "\n",
    "rag_chain = {\n",
    "    \"question\": RunnablePassthrough(), \n",
    "    \"context\": retriever\n",
    "    } | prompt | llm | StrOutputParser()\n",
    "\n",
    "# RAG 실행 \n",
    "answer = rag_chain.invoke(\"엔비디아를 언급한 기사에서는 어떤 기술과 제품이 언급되었나요?\")\n",
    "print(answer)"
   ],
   "outputs": [
    {
     "name": "stdout",
     "output_type": "stream",
     "text": [
      "엔비디아를 언급한 기사에서는 차세대 AI 전용 GPU 'H200'의 출시가 임박했다고 발표되었습니다. H200은 기존 H100 대비 2배 이상의 성능을 제공하며, 대형 언어 모델(LLM)과 생성형 AI 워크로드에 최적화된 설계를 갖추고 있습니다. 또한, 향상된 트랜스포머 엔진을 탑재해 복잡한 AI 연산 속도를 개선하고, 메모리 대역폭이 50% 증가하여 대용량 AI 모델 학습 및 추론 시 병목 현상을 줄이는 데 기여합니다. 에너지 효율성도 30% 향상되어 대규모 데이터센터의 전력 소비 문제를 완화할 것으로 기대됩니다.\n"
     ]
    }
   ],
   "execution_count": 36
  },
  {
   "cell_type": "markdown",
   "id": "a99bccae",
   "metadata": {},
   "source": [
    "#### 6) **지식 그래프 강화 RAG 구현**"
   ]
  },
  {
   "cell_type": "code",
   "id": "4b1d0af2",
   "metadata": {
    "ExecuteTime": {
     "end_time": "2025-08-19T12:44:21.948930Z",
     "start_time": "2025-08-19T12:44:15.227525Z"
    }
   },
   "source": [
    "# 지식 그래프로 강화된 RAG 시스템 \n",
    "def kg_enhanced_rag(question):\n",
    "    \"\"\"지식 그래프 정보로 강화된 RAG 시스템\"\"\"\n",
    "    try:\n",
    "        # 1. 벡터 검색으로 관련 문서 찾기 \n",
    "        doc_ids = []\n",
    "        try:\n",
    "            docs = vector_store.similarity_search(question, k=2)\n",
    "            \n",
    "            # metadata에 'id' 키가 있는지 확인하고 안전하게 추출\n",
    "            for doc in docs:\n",
    "                if \"id\" in doc.metadata:\n",
    "                    doc_ids.append(doc.metadata[\"id\"])\n",
    "                elif \"title\" in doc.metadata:  # id가 없으면 제목으로 대체\n",
    "                    doc_ids.append(doc.metadata[\"title\"])\n",
    "            \n",
    "            # 원본 문서 내용 가져오기\n",
    "            doc_context = \"\\n\".join([doc.page_content for doc in docs])\n",
    "            \n",
    "        except Exception as vector_error:\n",
    "            print(f\"벡터 검색 오류 발생\")\n",
    "         \n",
    "        # 검색 결과가 없거나 ID를 추출할 수 없는 경우 처리\n",
    "        if not doc_ids:\n",
    "            return {\n",
    "                \"query\": question,\n",
    "                \"result\": \"관련 문서를 찾을 수 없습니다. 다른 질문을 시도해보세요.\",\n",
    "                \"intermediate_steps\": []\n",
    "            }\n",
    "        \n",
    "        # 2. 그래프 검색: 관련 문서에서 언급된 엔티티 및 관계 찾기 \n",
    "        cypher_query = \"\"\"\n",
    "        // 검색 결과와, 일치하는 뉴스 기사 찾기\n",
    "        MATCH (article:NewsArticle)\n",
    "        WHERE article.id IN $doc_ids OR article.title IN $doc_ids\n",
    "        \n",
    "        // 관련 엔티티 찾기 \n",
    "        WITH article\n",
    "        OPTIONAL MATCH (article)-[r1:MENTIONS]->(entity1)\n",
    "        \n",
    "        // 결과 수집 및 가공 (직접 관계 위주)\n",
    "        WITH article, \n",
    "            // 직접 관계 위주로 수집\n",
    "             COLLECT(DISTINCT {\n",
    "                // 엔티티 타입 추출 (기술, 제품, 회사, 인물 등)\n",
    "                 type: CASE WHEN entity1 IS NOT NULL THEN LABELS(entity1)[0] ELSE NULL END, \n",
    "                 // 엔티티 ID 추출 (기술, 제품, 회사, 인물 등의 고유 식별자)\n",
    "                 // COALESCE: NULL이 아닌 첫 번째 값을 반환 -> 엔티티 노드의 id 속성이 NULL인 경우 대신 name 속성을 사용\n",
    "                 id: CASE WHEN entity1 IS NOT NULL THEN COALESCE(entity1.id, entity1.name) ELSE NULL END, \n",
    "                 // 관계 타입 추출 (MENTIONS, 예를 들어, 기술이 제품을 사용한다는 관계)\n",
    "                 rel: TYPE(r1)\n",
    "             }) AS directRelations\n",
    "        \n",
    "        // 최종 결과 반환\n",
    "        RETURN article.id AS article_id, \n",
    "               article.title AS title,\n",
    "               article.text AS text,\n",
    "               directRelations\n",
    "        \"\"\"\n",
    "        \n",
    "        # 그래프 검색 실행 및 결과 처리\n",
    "        graph_results = graph.query(cypher_query, {\"doc_ids\": doc_ids})\n",
    "        print(f\"그래프 검색 결과: {graph_results}\")\n",
    "        print(\"--------------------------------\")\n",
    "        \n",
    "        # 3. 그래프 정보를 텍스트로 변환\n",
    "        kg_context = \"\"\n",
    "        for record in graph_results:\n",
    "            kg_context += f\"기사: {record['title']}\\n\"\n",
    "            \n",
    "            # 관계 정보 추가\n",
    "            kg_context += \"관련 엔티티:\\n\"\n",
    "            for rel in record['directRelations']:\n",
    "                if rel['id'] is not None and rel['type'] is not None:\n",
    "                    kg_context += f\"- {rel['type']}: {rel['id']} (관계: {rel['rel']})\\n\"\n",
    "            \n",
    "            kg_context += \"\\n\"\n",
    "        \n",
    "        # 4. 추가적인 엔티티 관계 탐색 \n",
    "            try:\n",
    "                # 직접 관련된 엔티티 ID 추출\n",
    "                entity_ids = []\n",
    "                for rel in record['directRelations']:\n",
    "                    if rel['id'] is not None:\n",
    "                        entity_ids.append(rel['id'])\n",
    "                \n",
    "                if entity_ids:\n",
    "                    # 엔티티 간 관계 탐색 쿼리\n",
    "                    entity_query = \"\"\"\n",
    "                    MATCH (e1)-[r]->(e2)\n",
    "                    WHERE e1.id IN $entity_ids OR e1.name IN $entity_ids  // 엔티티 ID 또는 이름이 일치하는 경우\n",
    "                    RETURN DISTINCT\n",
    "                           COALESCE(e1.id, e1.name) AS from_entity,  // 엔티티 ID 또는 이름\n",
    "                           LABELS(e1)[0] AS from_type,  // 엔티티 타입\n",
    "                           TYPE(r) AS relation,  // 관계 타입\n",
    "                           COALESCE(e2.id, e2.name) AS to_entity,  // 엔티티 ID 또는 이름\n",
    "                           LABELS(e2)[0] AS to_type  // 엔티티 타입\n",
    "                    LIMIT 10\n",
    "                    \"\"\"\n",
    "                    \n",
    "                    entity_results = graph.query(entity_query, {\"entity_ids\": entity_ids})\n",
    "                    print(f\"엔티티 관계 검색 결과: {entity_results}\")\n",
    "                    print(\"--------------------------------\")\n",
    "                    \n",
    "                    # 엔티티 관계 정보 추가\n",
    "                    if entity_results:\n",
    "                        kg_context += \"엔티티 간 관계:\\n\"\n",
    "                        for relation in entity_results:\n",
    "                            kg_context += f\"- {relation['from_type']} '{relation['from_entity']}' {relation['relation']} {relation['to_type']} '{relation['to_entity']}'\\n\"\n",
    "                        \n",
    "                        kg_context += \"\\n\"\n",
    "            except Exception as entity_error:\n",
    "                print(f\"엔티티 관계 탐색 오류: {str(entity_error)}\")\n",
    "        \n",
    "        # 5. 통합 컨텍스트 생성\n",
    "        combined_context = f\"문서 정보:\\n{doc_context}\\n\\n지식 그래프 정보:\\n{kg_context}\"\n",
    "\n",
    "        print('='*100)\n",
    "        print(kg_context)\n",
    "        print('='*100)\n",
    "\n",
    "        # 6. 프롬프트 템플릿 정의 (간소화된 버전)\n",
    "        kg_template = \"\"\"\n",
    "        당신은 최신 기술 뉴스에 대한 지식을 갖춘 전문가 AI 비서입니다.\n",
    "        제공된 뉴스 기사 내용과 지식 그래프 정보를 바탕으로 질문에 정확하게 답변해 주세요.\n",
    "        \n",
    "        지식 그래프는 뉴스 기사에 언급된 기술, 제품, 회사, 인물 간의 관계를 보여줍니다.\n",
    "        이 관계 정보를 활용하여 더 풍부하고 정확한 답변을 제공하세요.\n",
    "        \n",
    "        뉴스 기사나 지식 그래프에서 찾을 수 없는 정보에 대해서는 솔직하게 모른다고 답변하세요.\n",
    "        답변은 간결하고 명확하게 작성하되, 중요한 세부 정보는 빠짐없이 포함해 주세요.\n",
    "        \n",
    "        참고할 정보:\n",
    "        {context}\n",
    "        \n",
    "        질문: {question}\n",
    "        \n",
    "        답변:\n",
    "        \"\"\"\n",
    "        \n",
    "        kg_prompt = PromptTemplate(\n",
    "            template=kg_template,\n",
    "            input_variables=[\"context\", \"question\"]\n",
    "        )\n",
    "        \n",
    "        # 7. RAG 체인 구성 및 실행\n",
    "        rag_chain = kg_prompt | llm | StrOutputParser()\n",
    "        result = rag_chain.invoke({\n",
    "            \"question\": question, \n",
    "            \"context\": combined_context\n",
    "        })\n",
    "        \n",
    "        # 8. 중간 단계 정보 포함하여 결과 반환\n",
    "        intermediate_steps = [\n",
    "            {\"context\": [dict(record) for record in graph_results]}\n",
    "        ]\n",
    "        \n",
    "        return {\n",
    "            \"query\": question,\n",
    "            \"result\": result,\n",
    "            \"intermediate_steps\": intermediate_steps\n",
    "        }\n",
    "    \n",
    "    except Exception as e:\n",
    "        # 오류 처리 및 디버깅 정보 반환\n",
    "        return {\n",
    "            \"query\": question,\n",
    "            \"result\": f\"검색 중 오류가 발생했습니다: {str(e)}\",\n",
    "            \"error\": str(e)\n",
    "        }\n",
    "\n",
    "\n",
    "# 실행 테스트\n",
    "result = kg_enhanced_rag(\"AI 기술 동향을 분석해주세요.\")\n",
    "print(result)"
   ],
   "outputs": [
    {
     "name": "stdout",
     "output_type": "stream",
     "text": [
      "그래프 검색 결과: [{'article_id': 'article_0', 'title': '구글, 안드로이드 14에 생성형 AI 기능 대거 탑재', 'text': '구글이 안드로이드 14에 생성형 AI 기능을 대거 탑재했다고 발표했다. 이번 발표는 구글의 인공지능 기술력을 한층 강화하는 전략의 일환으로 보인다. 특히 카메라 기능에서 AI를 활용한 사진 보정 기능이 크게 개선되었으며, 사용자가 촬영한 사진을 인공지능이 자동으로 분석하여 최적의 색감과 구도로 보정해주는 기능이 추가되었다. 또한 실시간 번역 기능도 대폭 강화되어 외국어 텍스트를 카메라로 비추기만 해도 즉시 번역 결과를 확인할 수 있고, 통화 중에도 실시간 음성 번역 기능이 추가되었다. 구글 어시스턴트는 생성형 AI 기술을 적용해 더 자연스러운 대화가 가능해졌으며, 복잡한 질문에 정확한 답변을 제공하고 개인화된 서비스를 제공한다. 구글 안드로이드 부문 책임자는 이번 AI 기능이 사용자 경험을 혁신적으로 개선할 것이라고 밝혔다. 업계 전문가들은 이번 AI 기능 강화가 모바일 OS 시장에서 경쟁력을 높이는 중요한 전환점이 될 것으로 전망하고 있다.', 'directRelations': [{'id': '구글', 'rel': 'MENTIONS', 'type': 'Company'}, {'id': '안드로이드 14', 'rel': 'MENTIONS', 'type': 'Product'}, {'id': '생성형 Ai', 'rel': 'MENTIONS', 'type': 'Technology'}, {'id': 'Ai 사진 보정', 'rel': 'MENTIONS', 'type': 'Technology'}, {'id': '실시간 번역', 'rel': 'MENTIONS', 'type': 'Technology'}, {'id': '구글 어시스턴트', 'rel': 'MENTIONS', 'type': 'Product'}]}, {'article_id': 'article_4', 'title': \"엔비디아, 차세대 AI 전용 GPU 'H200' 출시 임박\", 'text': '엔비디아가 차세대 AI 전용 GPU \\'H200\\'의 출시가 임박했다고 발표했다. 이번 신제품은 기존 H100 대비 2배 이상의 성능을 제공할 것으로 알려졌다. H200은 대형 언어 모델(LLM)과 생성형 AI 워크로드에 최적화된 설계를 갖추고 있으며, 향상된 트랜스포머 엔진을 탑재해 복잡한 AI 연산 속도를 크게 개선했다고 회사 측은 밝혔다. 특히 메모리 대역폭이 기존 대비 50% 증가해 대용량 AI 모델 학습 및 추론 시 병목 현상을 크게 줄였다. 또한 에너지 효율성도 30% 향상되어 대규모 데이터센터의 전력 소비 문제를 완화할 것으로 기대된다. 엔비디아 CEO 젠슨 황은 \"H200은 AI 혁명의 새로운 장을 열 것\"이라며 \"기업들이 더 빠르고 효율적으로 AI 모델을 개발하고 배포할 수 있도록 지원할 것\"이라고 말했다. 업계 전문가들은 이번 H200 출시로 엔비디아의 AI 반도체 시장 지배력이 더욱 강화될 것으로 전망하고 있다. 주요 클라우드 서비스 제공업체와 AI 연구소들은 이미 H200 대량 주문에 나선 것으로 알려졌다.', 'directRelations': [{'id': '엔비디아', 'rel': 'MENTIONS', 'type': 'Company'}, {'id': 'H200', 'rel': 'MENTIONS', 'type': 'Product'}, {'id': 'H100', 'rel': 'MENTIONS', 'type': 'Product'}, {'id': '트랜스포머 엔진', 'rel': 'MENTIONS', 'type': 'Technology'}, {'id': '대형 언어 모델(Llm)', 'rel': 'MENTIONS', 'type': 'Technology'}, {'id': '생성형 Ai 워크로드', 'rel': 'MENTIONS', 'type': 'Technology'}]}]\n",
      "--------------------------------\n",
      "엔티티 관계 검색 결과: [{'from_entity': '구글', 'from_type': 'Company', 'relation': 'RELEASED', 'to_entity': '안드로이드 14', 'to_type': 'Product'}, {'from_entity': '구글', 'from_type': 'Company', 'relation': 'DEVELOPED', 'to_entity': '생성형 Ai', 'to_type': 'Technology'}, {'from_entity': '안드로이드 14', 'from_type': 'Product', 'relation': 'USES', 'to_entity': '생성형 Ai', 'to_type': 'Technology'}, {'from_entity': '안드로이드 14', 'from_type': 'Product', 'relation': 'USES', 'to_entity': 'Ai 사진 보정', 'to_type': 'Technology'}, {'from_entity': '안드로이드 14', 'from_type': 'Product', 'relation': 'USES', 'to_entity': '실시간 번역', 'to_type': 'Technology'}, {'from_entity': '구글 어시스턴트', 'from_type': 'Product', 'relation': 'USES', 'to_entity': '생성형 Ai', 'to_type': 'Technology'}]\n",
      "--------------------------------\n",
      "엔티티 관계 검색 결과: [{'from_entity': '엔비디아', 'from_type': 'Company', 'relation': 'RELEASED', 'to_entity': 'H200', 'to_type': 'Product'}, {'from_entity': 'H200', 'from_type': 'Product', 'relation': 'USES', 'to_entity': '트랜스포머 엔진', 'to_type': 'Technology'}, {'from_entity': 'H200', 'from_type': 'Product', 'relation': 'USES', 'to_entity': '대형 언어 모델(Llm)', 'to_type': 'Technology'}, {'from_entity': 'H200', 'from_type': 'Product', 'relation': 'USES', 'to_entity': '생성형 Ai 워크로드', 'to_type': 'Technology'}]\n",
      "--------------------------------\n",
      "====================================================================================================\n",
      "기사: 구글, 안드로이드 14에 생성형 AI 기능 대거 탑재\n",
      "관련 엔티티:\n",
      "- Company: 구글 (관계: MENTIONS)\n",
      "- Product: 안드로이드 14 (관계: MENTIONS)\n",
      "- Technology: 생성형 Ai (관계: MENTIONS)\n",
      "- Technology: Ai 사진 보정 (관계: MENTIONS)\n",
      "- Technology: 실시간 번역 (관계: MENTIONS)\n",
      "- Product: 구글 어시스턴트 (관계: MENTIONS)\n",
      "\n",
      "엔티티 간 관계:\n",
      "- Company '구글' RELEASED Product '안드로이드 14'\n",
      "- Company '구글' DEVELOPED Technology '생성형 Ai'\n",
      "- Product '안드로이드 14' USES Technology '생성형 Ai'\n",
      "- Product '안드로이드 14' USES Technology 'Ai 사진 보정'\n",
      "- Product '안드로이드 14' USES Technology '실시간 번역'\n",
      "- Product '구글 어시스턴트' USES Technology '생성형 Ai'\n",
      "\n",
      "기사: 엔비디아, 차세대 AI 전용 GPU 'H200' 출시 임박\n",
      "관련 엔티티:\n",
      "- Company: 엔비디아 (관계: MENTIONS)\n",
      "- Product: H200 (관계: MENTIONS)\n",
      "- Product: H100 (관계: MENTIONS)\n",
      "- Technology: 트랜스포머 엔진 (관계: MENTIONS)\n",
      "- Technology: 대형 언어 모델(Llm) (관계: MENTIONS)\n",
      "- Technology: 생성형 Ai 워크로드 (관계: MENTIONS)\n",
      "\n",
      "엔티티 간 관계:\n",
      "- Company '엔비디아' RELEASED Product 'H200'\n",
      "- Product 'H200' USES Technology '트랜스포머 엔진'\n",
      "- Product 'H200' USES Technology '대형 언어 모델(Llm)'\n",
      "- Product 'H200' USES Technology '생성형 Ai 워크로드'\n",
      "\n",
      "\n",
      "====================================================================================================\n",
      "{'query': 'AI 기술 동향을 분석해주세요.', 'result': '최근 AI 기술 동향은 크게 두 가지 주요 방향으로 나눌 수 있습니다. \\n\\n1. **모바일 플랫폼에서의 AI 통합**: 구글은 안드로이드 14에 생성형 AI 기능을 대거 탑재하여 사용자 경험을 혁신적으로 개선하고 있습니다. 특히, AI를 활용한 사진 보정 기능과 실시간 번역 기능이 강화되어, 사용자가 촬영한 사진을 자동으로 최적화하고 외국어 텍스트를 즉시 번역할 수 있는 기능이 추가되었습니다. 이러한 변화는 모바일 OS 시장에서의 경쟁력을 높이는 중요한 전환점으로 평가되고 있습니다.\\n\\n2. **AI 하드웨어의 성능 향상**: 엔비디아는 차세대 AI 전용 GPU인 H200을 출시할 예정이며, 이는 기존 H100 대비 2배 이상의 성능을 제공할 것으로 예상됩니다. H200은 대형 언어 모델과 생성형 AI 워크로드에 최적화된 설계를 갖추고 있으며, 메모리 대역폭과 에너지 효율성도 크게 향상되었습니다. 이러한 기술적 발전은 대규모 데이터센터의 전력 소비 문제를 완화하고, 기업들이 AI 모델을 더 빠르고 효율적으로 개발할 수 있도록 지원할 것입니다.\\n\\n결론적으로, AI 기술은 모바일 소프트웨어와 하드웨어 모두에서 빠르게 발전하고 있으며, 이는 사용자 경험을 개선하고 기업의 AI 활용도를 높이는 데 기여하고 있습니다.', 'intermediate_steps': [{'context': [{'article_id': 'article_0', 'title': '구글, 안드로이드 14에 생성형 AI 기능 대거 탑재', 'text': '구글이 안드로이드 14에 생성형 AI 기능을 대거 탑재했다고 발표했다. 이번 발표는 구글의 인공지능 기술력을 한층 강화하는 전략의 일환으로 보인다. 특히 카메라 기능에서 AI를 활용한 사진 보정 기능이 크게 개선되었으며, 사용자가 촬영한 사진을 인공지능이 자동으로 분석하여 최적의 색감과 구도로 보정해주는 기능이 추가되었다. 또한 실시간 번역 기능도 대폭 강화되어 외국어 텍스트를 카메라로 비추기만 해도 즉시 번역 결과를 확인할 수 있고, 통화 중에도 실시간 음성 번역 기능이 추가되었다. 구글 어시스턴트는 생성형 AI 기술을 적용해 더 자연스러운 대화가 가능해졌으며, 복잡한 질문에 정확한 답변을 제공하고 개인화된 서비스를 제공한다. 구글 안드로이드 부문 책임자는 이번 AI 기능이 사용자 경험을 혁신적으로 개선할 것이라고 밝혔다. 업계 전문가들은 이번 AI 기능 강화가 모바일 OS 시장에서 경쟁력을 높이는 중요한 전환점이 될 것으로 전망하고 있다.', 'directRelations': [{'id': '구글', 'rel': 'MENTIONS', 'type': 'Company'}, {'id': '안드로이드 14', 'rel': 'MENTIONS', 'type': 'Product'}, {'id': '생성형 Ai', 'rel': 'MENTIONS', 'type': 'Technology'}, {'id': 'Ai 사진 보정', 'rel': 'MENTIONS', 'type': 'Technology'}, {'id': '실시간 번역', 'rel': 'MENTIONS', 'type': 'Technology'}, {'id': '구글 어시스턴트', 'rel': 'MENTIONS', 'type': 'Product'}]}, {'article_id': 'article_4', 'title': \"엔비디아, 차세대 AI 전용 GPU 'H200' 출시 임박\", 'text': '엔비디아가 차세대 AI 전용 GPU \\'H200\\'의 출시가 임박했다고 발표했다. 이번 신제품은 기존 H100 대비 2배 이상의 성능을 제공할 것으로 알려졌다. H200은 대형 언어 모델(LLM)과 생성형 AI 워크로드에 최적화된 설계를 갖추고 있으며, 향상된 트랜스포머 엔진을 탑재해 복잡한 AI 연산 속도를 크게 개선했다고 회사 측은 밝혔다. 특히 메모리 대역폭이 기존 대비 50% 증가해 대용량 AI 모델 학습 및 추론 시 병목 현상을 크게 줄였다. 또한 에너지 효율성도 30% 향상되어 대규모 데이터센터의 전력 소비 문제를 완화할 것으로 기대된다. 엔비디아 CEO 젠슨 황은 \"H200은 AI 혁명의 새로운 장을 열 것\"이라며 \"기업들이 더 빠르고 효율적으로 AI 모델을 개발하고 배포할 수 있도록 지원할 것\"이라고 말했다. 업계 전문가들은 이번 H200 출시로 엔비디아의 AI 반도체 시장 지배력이 더욱 강화될 것으로 전망하고 있다. 주요 클라우드 서비스 제공업체와 AI 연구소들은 이미 H200 대량 주문에 나선 것으로 알려졌다.', 'directRelations': [{'id': '엔비디아', 'rel': 'MENTIONS', 'type': 'Company'}, {'id': 'H200', 'rel': 'MENTIONS', 'type': 'Product'}, {'id': 'H100', 'rel': 'MENTIONS', 'type': 'Product'}, {'id': '트랜스포머 엔진', 'rel': 'MENTIONS', 'type': 'Technology'}, {'id': '대형 언어 모델(Llm)', 'rel': 'MENTIONS', 'type': 'Technology'}, {'id': '생성형 Ai 워크로드', 'rel': 'MENTIONS', 'type': 'Technology'}]}]}]}\n"
     ]
    }
   ],
   "execution_count": 37
  },
  {
   "cell_type": "code",
   "id": "6789d4fa",
   "metadata": {
    "ExecuteTime": {
     "end_time": "2025-08-19T12:45:56.415518Z",
     "start_time": "2025-08-19T12:45:56.406787Z"
    }
   },
   "source": [
    "from pprint import pprint\n",
    "\n",
    "# 중간 단계 출력\n",
    "for step in result['intermediate_steps']:\n",
    "    pprint(step)\n",
    "    print(\"--------------------------------\")"
   ],
   "outputs": [
    {
     "name": "stdout",
     "output_type": "stream",
     "text": [
      "{'context': [{'article_id': 'article_0',\n",
      "              'directRelations': [{'id': '구글',\n",
      "                                   'rel': 'MENTIONS',\n",
      "                                   'type': 'Company'},\n",
      "                                  {'id': '안드로이드 14',\n",
      "                                   'rel': 'MENTIONS',\n",
      "                                   'type': 'Product'},\n",
      "                                  {'id': '생성형 Ai',\n",
      "                                   'rel': 'MENTIONS',\n",
      "                                   'type': 'Technology'},\n",
      "                                  {'id': 'Ai 사진 보정',\n",
      "                                   'rel': 'MENTIONS',\n",
      "                                   'type': 'Technology'},\n",
      "                                  {'id': '실시간 번역',\n",
      "                                   'rel': 'MENTIONS',\n",
      "                                   'type': 'Technology'},\n",
      "                                  {'id': '구글 어시스턴트',\n",
      "                                   'rel': 'MENTIONS',\n",
      "                                   'type': 'Product'}],\n",
      "              'text': '구글이 안드로이드 14에 생성형 AI 기능을 대거 탑재했다고 발표했다. 이번 발표는 구글의 인공지능 '\n",
      "                      '기술력을 한층 강화하는 전략의 일환으로 보인다. 특히 카메라 기능에서 AI를 활용한 사진 보정 '\n",
      "                      '기능이 크게 개선되었으며, 사용자가 촬영한 사진을 인공지능이 자동으로 분석하여 최적의 색감과 구도로 '\n",
      "                      '보정해주는 기능이 추가되었다. 또한 실시간 번역 기능도 대폭 강화되어 외국어 텍스트를 카메라로 '\n",
      "                      '비추기만 해도 즉시 번역 결과를 확인할 수 있고, 통화 중에도 실시간 음성 번역 기능이 추가되었다. '\n",
      "                      '구글 어시스턴트는 생성형 AI 기술을 적용해 더 자연스러운 대화가 가능해졌으며, 복잡한 질문에 '\n",
      "                      '정확한 답변을 제공하고 개인화된 서비스를 제공한다. 구글 안드로이드 부문 책임자는 이번 AI 기능이 '\n",
      "                      '사용자 경험을 혁신적으로 개선할 것이라고 밝혔다. 업계 전문가들은 이번 AI 기능 강화가 모바일 '\n",
      "                      'OS 시장에서 경쟁력을 높이는 중요한 전환점이 될 것으로 전망하고 있다.',\n",
      "              'title': '구글, 안드로이드 14에 생성형 AI 기능 대거 탑재'},\n",
      "             {'article_id': 'article_4',\n",
      "              'directRelations': [{'id': '엔비디아',\n",
      "                                   'rel': 'MENTIONS',\n",
      "                                   'type': 'Company'},\n",
      "                                  {'id': 'H200',\n",
      "                                   'rel': 'MENTIONS',\n",
      "                                   'type': 'Product'},\n",
      "                                  {'id': 'H100',\n",
      "                                   'rel': 'MENTIONS',\n",
      "                                   'type': 'Product'},\n",
      "                                  {'id': '트랜스포머 엔진',\n",
      "                                   'rel': 'MENTIONS',\n",
      "                                   'type': 'Technology'},\n",
      "                                  {'id': '대형 언어 모델(Llm)',\n",
      "                                   'rel': 'MENTIONS',\n",
      "                                   'type': 'Technology'},\n",
      "                                  {'id': '생성형 Ai 워크로드',\n",
      "                                   'rel': 'MENTIONS',\n",
      "                                   'type': 'Technology'}],\n",
      "              'text': \"엔비디아가 차세대 AI 전용 GPU 'H200'의 출시가 임박했다고 발표했다. 이번 신제품은 기존 \"\n",
      "                      'H100 대비 2배 이상의 성능을 제공할 것으로 알려졌다. H200은 대형 언어 모델(LLM)과 '\n",
      "                      '생성형 AI 워크로드에 최적화된 설계를 갖추고 있으며, 향상된 트랜스포머 엔진을 탑재해 복잡한 AI '\n",
      "                      '연산 속도를 크게 개선했다고 회사 측은 밝혔다. 특히 메모리 대역폭이 기존 대비 50% 증가해 '\n",
      "                      '대용량 AI 모델 학습 및 추론 시 병목 현상을 크게 줄였다. 또한 에너지 효율성도 30% 향상되어 '\n",
      "                      '대규모 데이터센터의 전력 소비 문제를 완화할 것으로 기대된다. 엔비디아 CEO 젠슨 황은 '\n",
      "                      '\"H200은 AI 혁명의 새로운 장을 열 것\"이라며 \"기업들이 더 빠르고 효율적으로 AI 모델을 '\n",
      "                      '개발하고 배포할 수 있도록 지원할 것\"이라고 말했다. 업계 전문가들은 이번 H200 출시로 '\n",
      "                      '엔비디아의 AI 반도체 시장 지배력이 더욱 강화될 것으로 전망하고 있다. 주요 클라우드 서비스 '\n",
      "                      '제공업체와 AI 연구소들은 이미 H200 대량 주문에 나선 것으로 알려졌다.',\n",
      "              'title': \"엔비디아, 차세대 AI 전용 GPU 'H200' 출시 임박\"}]}\n",
      "--------------------------------\n"
     ]
    }
   ],
   "execution_count": 38
  },
  {
   "cell_type": "code",
   "id": "97769015",
   "metadata": {
    "ExecuteTime": {
     "end_time": "2025-08-19T12:46:00.684790Z",
     "start_time": "2025-08-19T12:46:00.681855Z"
    }
   },
   "source": [
    "print(result['result'])"
   ],
   "outputs": [
    {
     "name": "stdout",
     "output_type": "stream",
     "text": [
      "최근 AI 기술 동향은 크게 두 가지 주요 방향으로 나눌 수 있습니다. \n",
      "\n",
      "1. **모바일 플랫폼에서의 AI 통합**: 구글은 안드로이드 14에 생성형 AI 기능을 대거 탑재하여 사용자 경험을 혁신적으로 개선하고 있습니다. 특히, AI를 활용한 사진 보정 기능과 실시간 번역 기능이 강화되어, 사용자가 촬영한 사진을 자동으로 최적화하고 외국어 텍스트를 즉시 번역할 수 있는 기능이 추가되었습니다. 이러한 변화는 모바일 OS 시장에서의 경쟁력을 높이는 중요한 전환점으로 평가되고 있습니다.\n",
      "\n",
      "2. **AI 하드웨어의 성능 향상**: 엔비디아는 차세대 AI 전용 GPU인 H200을 출시할 예정이며, 이는 기존 H100 대비 2배 이상의 성능을 제공할 것으로 예상됩니다. H200은 대형 언어 모델과 생성형 AI 워크로드에 최적화된 설계를 갖추고 있으며, 메모리 대역폭과 에너지 효율성도 크게 향상되었습니다. 이러한 기술적 발전은 대규모 데이터센터의 전력 소비 문제를 완화하고, 기업들이 AI 모델을 더 빠르고 효율적으로 개발할 수 있도록 지원할 것입니다.\n",
      "\n",
      "결론적으로, AI 기술은 모바일 소프트웨어와 하드웨어 모두에서 빠르게 발전하고 있으며, 이는 사용자 경험을 개선하고 기업의 AI 활용도를 높이는 데 기여하고 있습니다.\n"
     ]
    }
   ],
   "execution_count": 39
  },
  {
   "cell_type": "code",
   "execution_count": null,
   "id": "11826dea",
   "metadata": {},
   "outputs": [],
   "source": []
  }
 ],
 "metadata": {
  "kernelspec": {
   "display_name": ".venv",
   "language": "python",
   "name": "python3"
  },
  "language_info": {
   "codemirror_mode": {
    "name": "ipython",
    "version": 3
   },
   "file_extension": ".py",
   "mimetype": "text/x-python",
   "name": "python",
   "nbconvert_exporter": "python",
   "pygments_lexer": "ipython3",
   "version": "3.12.9"
  }
 },
 "nbformat": 4,
 "nbformat_minor": 5
}
