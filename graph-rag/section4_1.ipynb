{
 "cells": [
  {
   "cell_type": "markdown",
   "id": "b735da82",
   "metadata": {},
   "source": [
    "# Neo4j와 LangChain을 활용한 영화 추천 시스템"
   ]
  },
  {
   "cell_type": "markdown",
   "id": "a0613508",
   "metadata": {},
   "source": [
    "---\n",
    "\n",
    "## 1. Neo4J AuraDB 환경 설정"
   ]
  },
  {
   "cell_type": "code",
   "id": "1dc7d00f",
   "metadata": {
    "ExecuteTime": {
     "end_time": "2025-08-19T06:22:03.101671Z",
     "start_time": "2025-08-19T06:22:03.093264Z"
    }
   },
   "source": [
    "import os\n",
    "from dotenv import load_dotenv\n",
    "\n",
    "# 환경 변수 로드\n",
    "load_dotenv()"
   ],
   "outputs": [
    {
     "data": {
      "text/plain": [
       "True"
      ]
     },
     "execution_count": 1,
     "metadata": {},
     "output_type": "execute_result"
    }
   ],
   "execution_count": 1
  },
  {
   "cell_type": "code",
   "id": "f765676e",
   "metadata": {
    "ExecuteTime": {
     "end_time": "2025-08-19T06:22:05.150043Z",
     "start_time": "2025-08-19T06:22:04.034242Z"
    }
   },
   "source": [
    "from langchain_neo4j import Neo4jGraph\n",
    "\n",
    "# LangChain 도구 활용 - DB 연결 객체 초기화 \n",
    "graph = Neo4jGraph( \n",
    "    url=os.getenv(\"NEO4J_URI\"), \n",
    "    username=os.getenv(\"NEO4J_USERNAME\"), \n",
    "    password=os.getenv(\"NEO4J_PASSWORD\"),\n",
    ")"
   ],
   "outputs": [],
   "execution_count": 2
  },
  {
   "cell_type": "code",
   "id": "78a4a57a",
   "metadata": {
    "ExecuteTime": {
     "end_time": "2025-08-19T06:22:07.430287Z",
     "start_time": "2025-08-19T06:22:07.399136Z"
    }
   },
   "source": [
    "# 테스트 쿼리 실행 \n",
    "cypher_query = \"\"\"\n",
    "CREATE (n:Test {name: \"Hello AuraDB\"}) \n",
    "RETURN n\n",
    "\"\"\"\n",
    "\n",
    "graph.query(cypher_query)"
   ],
   "outputs": [
    {
     "data": {
      "text/plain": [
       "[{'n': {'name': 'Hello AuraDB'}}]"
      ]
     },
     "execution_count": 3,
     "metadata": {},
     "output_type": "execute_result"
    }
   ],
   "execution_count": 3
  },
  {
   "cell_type": "code",
   "id": "f079ec73",
   "metadata": {
    "ExecuteTime": {
     "end_time": "2025-08-19T06:22:08.702927Z",
     "start_time": "2025-08-19T06:22:08.651559Z"
    }
   },
   "source": [
    "def reset_database(graph):\n",
    "    \"\"\"\n",
    "    데이터베이스 초기화하기\n",
    "    \"\"\"\n",
    "    # 모든 노드와 관계 삭제\n",
    "    graph.query(\"MATCH (n) DETACH DELETE n\")\n",
    "    \n",
    "    # 모든 제약조건 삭제\n",
    "    constraints = graph.query(\"SHOW CONSTRAINTS\")\n",
    "    for constraint in constraints:\n",
    "        constraint_name = constraint.get(\"name\")\n",
    "        if constraint_name:\n",
    "            graph.query(f\"DROP CONSTRAINT {constraint_name}\")\n",
    "    \n",
    "    # 모든 인덱스 삭제\n",
    "    indexes = graph.query(\"SHOW INDEXES\")\n",
    "    for index in indexes:\n",
    "        index_name = index.get(\"name\")\n",
    "        index_type = index.get(\"type\")\n",
    "        if index_name and index_type != \"CONSTRAINT\":\n",
    "            graph.query(f\"DROP INDEX {index_name}\")\n",
    "    \n",
    "    print(\"데이터베이스가 초기화되었습니다.\")\n",
    "\n",
    "# 데이터베이스 초기화\n",
    "reset_database(graph)"
   ],
   "outputs": [
    {
     "name": "stdout",
     "output_type": "stream",
     "text": [
      "데이터베이스가 초기화되었습니다.\n"
     ]
    }
   ],
   "execution_count": 4
  },
  {
   "cell_type": "markdown",
   "id": "a170faec",
   "metadata": {},
   "source": [
    "---\n",
    "\n",
    "## 2. 지식 그래프 모델링 및 구축\n",
    "\n",
    "### 2.1 온톨로지 정의 및 스키마 설계\n",
    "\n",
    "온톨로지는 특정 도메인 내 개념과 그 관계를 체계적으로 표현하는 지식 구조입니다. Neo4j에서는 제약 조건과 인덱스를 활용하여 데이터 모델을 구현할 수 있습니다.\n",
    "\n",
    "\n",
    "**노드 타입:**\n",
    "- Movie: 영화 정보 (id, title, released, rating 속성)\n",
    "- Person: 감독/배우 정보 (name 속성)\n",
    "- Genre: 장르 정보 (name 속성)\n",
    "\n",
    "**관계 타입:**\n",
    "- DIRECTED: Person(감독) → Movie 관계\n",
    "- ACTED_IN: Person(배우) → Movie 관계\n",
    "- IN_GENRE: Movie → Genre 관계\n",
    "\n",
    "**제약조건/인덱스:**\n",
    "- Neo4j 데이터베이스에서 **제약조건(Constraint)** 생성으로 데이터 무결성을 보장함\n",
    "- Movie, Person, Genre 노드의 각 ID와 이름에 **고유성 제약조건**을 설정함\n",
    "- **인덱스** 생성으로 영화 제목과 개봉일 기반 검색 성능을 최적화함\n",
    "\n",
    "* 이 스키마는 영화, 인물(감독/배우), 장르 간의 연결 관계를 표현하며, 영화 검색, 추천, 인물 기반 탐색 등 다양한 그래프 기반 쿼리를 지원할 수 있습니다."
   ]
  },
  {
   "cell_type": "code",
   "id": "d72a0218",
   "metadata": {
    "ExecuteTime": {
     "end_time": "2025-08-19T06:29:08.552044Z",
     "start_time": "2025-08-19T06:29:08.163156Z"
    }
   },
   "source": [
    "# 제약조건 생성 (데이터 무결성 보장)\n",
    "# - 각 노드 타입별로 고유성 제약조건을 설정하여 중복 데이터 방지\n",
    "# - Movie 노드의 id 속성에 고유성 제약조건 설정\n",
    "# - Person 노드의 name 속성에 고유성 제약조건 설정\n",
    "# - Genre 노드의 name 속성에 고유성 제약조건 설정\n",
    "# - IF NOT EXISTS 구문으로 이미 존재하는 경우 오류 방지\n",
    "constraints = [\n",
    "    \"CREATE CONSTRAINT movie_id_unique IF NOT EXISTS FOR (m:Movie) REQUIRE m.id IS UNIQUE\",\n",
    "    \"CREATE CONSTRAINT person_name_unique IF NOT EXISTS FOR (p:Person) REQUIRE p.name IS UNIQUE\",\n",
    "    \"CREATE CONSTRAINT genre_name_unique IF NOT EXISTS FOR (g:Genre) REQUIRE g.name IS UNIQUE\"\n",
    "]\n",
    "\n",
    "# 인덱스 생성 (검색 성능 최적화)\n",
    "# - 자주 검색되는 속성에 인덱스를 생성하여 쿼리 성능 향상\n",
    "# - 영화 제목(title)에 대한 인덱스로 제목 기반 검색 최적화\n",
    "# - 개봉일(released)에 대한 인덱스로 날짜 기반 검색 및 정렬 최적화\n",
    "# - IF NOT EXISTS 구문으로 중복 생성 방지\n",
    "indexes = [\n",
    "    \"CREATE INDEX movie_title_index IF NOT EXISTS FOR (m:Movie) ON (m.title)\",\n",
    "    \"CREATE INDEX movie_release_index IF NOT EXISTS FOR (m:Movie) ON (m.released)\",\n",
    "]\n",
    "\n",
    "# 제약조건 및 인덱스 실행\n",
    "# - 정의된 모든 제약조건을 Neo4j 데이터베이스에 적용\n",
    "for constraint in constraints:\n",
    "    graph.query(constraint)\n",
    "\n",
    "# - 정의된 모든 인덱스를 Neo4j 데이터베이스에 적용\n",
    "for index in indexes:\n",
    "    graph.query(index)\n",
    "\n",
    "print(\"스키마 설정 완료\")"
   ],
   "outputs": [
    {
     "name": "stdout",
     "output_type": "stream",
     "text": [
      "스키마 설정 완료\n"
     ]
    }
   ],
   "execution_count": 5
  },
  {
   "cell_type": "markdown",
   "id": "b81ee8b2",
   "metadata": {},
   "source": [
    "### 2.2 CSV 데이터로 지식 그래프 구축\n",
    "\n",
    "- CSV 형태의 영화 데이터셋을 읽어서 그래프 구조로 변환\n",
    "- 영화, 인물(감독, 배우), 장르를 노드로 변환\n",
    "- 각 노드 간의 관계(DIRECTED, ACTED_IN, IN_GENRE)를 생성\n",
    "- 변환된 데이터를 Neo4j 그래프 데이터베이스에 저장"
   ]
  },
  {
   "cell_type": "markdown",
   "id": "3eef0840",
   "metadata": {},
   "source": [
    "- **CSV 파일 로드**:\n",
    "\n",
    "    - **TMDB**와 **GroupLens**에서 수집한 데이터를 결합하여 정리\n",
    "    - 영화 상세정보, 제작진 정보, 키워드는 **TMDB Open API**를 통해 수집됨\n",
    "    - 영화 링크와 평점 정보는 **공식 GroupLens 웹사이트**에서 획득함\n",
    "    - 출처: https://www.kaggle.com/code/ibtesama/getting-started-with-a-movie-recommendation-system"
   ]
  },
  {
   "cell_type": "code",
   "id": "fd2c5f15",
   "metadata": {
    "ExecuteTime": {
     "end_time": "2025-08-19T06:29:32.149927Z",
     "start_time": "2025-08-19T06:29:30.550766Z"
    }
   },
   "source": [
    "# CSV 파일 읽기\n",
    "import pandas as pd\n",
    "df = pd.read_csv('data/movies_tmdb_small.csv')\n",
    "print(df.shape)\n",
    "\n",
    "df.head(2)"
   ],
   "outputs": [
    {
     "name": "stdout",
     "output_type": "stream",
     "text": [
      "(4803, 10)\n"
     ]
    },
    {
     "data": {
      "text/plain": [
       "     id    released           title  \\\n",
       "0  4592  1916-09-04     Intolerance   \n",
       "1  4661  1925-11-05  The Big Parade   \n",
       "\n",
       "                                              actors       director  \\\n",
       "0  Lillian Gish|Mae Marsh|Robert Harron|F.A. Turn...  D.W. Griffith   \n",
       "1  John Gilbert|Renée Adorée|Hobart Bosworth|Clai...     King Vidor   \n",
       "\n",
       "              genres  rating  \\\n",
       "0              Drama     7.4   \n",
       "1  Drama|Romance|War     7.0   \n",
       "\n",
       "                                            overview  runtime  \\\n",
       "0  The story of a poor young woman, separated by ...    197.0   \n",
       "1  The story of an idle rich boy who joins the US...    151.0   \n",
       "\n",
       "                         tagline  \n",
       "0  The Cruel Hand of Intolerance  \n",
       "1                            NaN  "
      ],
      "text/html": [
       "<div>\n",
       "<style scoped>\n",
       "    .dataframe tbody tr th:only-of-type {\n",
       "        vertical-align: middle;\n",
       "    }\n",
       "\n",
       "    .dataframe tbody tr th {\n",
       "        vertical-align: top;\n",
       "    }\n",
       "\n",
       "    .dataframe thead th {\n",
       "        text-align: right;\n",
       "    }\n",
       "</style>\n",
       "<table border=\"1\" class=\"dataframe\">\n",
       "  <thead>\n",
       "    <tr style=\"text-align: right;\">\n",
       "      <th></th>\n",
       "      <th>id</th>\n",
       "      <th>released</th>\n",
       "      <th>title</th>\n",
       "      <th>actors</th>\n",
       "      <th>director</th>\n",
       "      <th>genres</th>\n",
       "      <th>rating</th>\n",
       "      <th>overview</th>\n",
       "      <th>runtime</th>\n",
       "      <th>tagline</th>\n",
       "    </tr>\n",
       "  </thead>\n",
       "  <tbody>\n",
       "    <tr>\n",
       "      <th>0</th>\n",
       "      <td>4592</td>\n",
       "      <td>1916-09-04</td>\n",
       "      <td>Intolerance</td>\n",
       "      <td>Lillian Gish|Mae Marsh|Robert Harron|F.A. Turn...</td>\n",
       "      <td>D.W. Griffith</td>\n",
       "      <td>Drama</td>\n",
       "      <td>7.4</td>\n",
       "      <td>The story of a poor young woman, separated by ...</td>\n",
       "      <td>197.0</td>\n",
       "      <td>The Cruel Hand of Intolerance</td>\n",
       "    </tr>\n",
       "    <tr>\n",
       "      <th>1</th>\n",
       "      <td>4661</td>\n",
       "      <td>1925-11-05</td>\n",
       "      <td>The Big Parade</td>\n",
       "      <td>John Gilbert|Renée Adorée|Hobart Bosworth|Clai...</td>\n",
       "      <td>King Vidor</td>\n",
       "      <td>Drama|Romance|War</td>\n",
       "      <td>7.0</td>\n",
       "      <td>The story of an idle rich boy who joins the US...</td>\n",
       "      <td>151.0</td>\n",
       "      <td>NaN</td>\n",
       "    </tr>\n",
       "  </tbody>\n",
       "</table>\n",
       "</div>"
      ]
     },
     "execution_count": 6,
     "metadata": {},
     "output_type": "execute_result"
    }
   ],
   "execution_count": 6
  },
  {
   "cell_type": "code",
   "execution_count": null,
   "id": "70ff08ed",
   "metadata": {},
   "outputs": [],
   "source": [
    "# 작은 데이터셋으로 학습하려는 경우 아래 코드를 실행 (2010년 이후 영화만 사용)\n",
    "# df = df[df['released'] >= '2010-01-01']\n",
    "# print(df.shape)\n",
    "# df.head(2)"
   ]
  },
  {
   "cell_type": "markdown",
   "id": "9681aecb",
   "metadata": {},
   "source": [
    "- **필수 라이브러리**:\n",
    "    - Neo4j 그래프 데이터베이스와 연동하여 문서 처리 및 데이터 분석을 위한 기본 설정"
   ]
  },
  {
   "cell_type": "code",
   "id": "1474cf59",
   "metadata": {
    "ExecuteTime": {
     "end_time": "2025-08-19T06:30:10.057512Z",
     "start_time": "2025-08-19T06:30:10.055385Z"
    }
   },
   "source": [
    "from langchain_neo4j.graphs.graph_document import GraphDocument, Node, Relationship\n",
    "from langchain_core.documents import Document"
   ],
   "outputs": [],
   "execution_count": 7
  },
  {
   "cell_type": "markdown",
   "id": "164b4fa1",
   "metadata": {},
   "source": [
    "- **데이터 변환 (CSV -> 노드/관계)**: \n",
    "\n",
    "    1. **Node**: 그래프의 노드(정점)를 표현\n",
    "    - `id`: 노드의 고유 식별자\n",
    "    - `type`: 노드의 유형(예: Movie, Person, Genre)\n",
    "    - `properties`: 노드의 속성들(제목, 이름, 평점 등)\n",
    "\n",
    "    2. **Relationship**: 두 노드 간의 관계를 표현\n",
    "    - `source`: 관계의 시작 노드\n",
    "    - `target`: 관계의 목표 노드\n",
    "    - `type`: 관계의 유형(예: DIRECTED, ACTED_IN, IN_GENRE)\n",
    "    - `properties`: 관계의 속성들\n"
   ]
  },
  {
   "cell_type": "code",
   "id": "22b5e842",
   "metadata": {
    "ExecuteTime": {
     "end_time": "2025-08-19T06:38:35.685571Z",
     "start_time": "2025-08-19T06:38:35.297895Z"
    }
   },
   "source": [
    "# 중복 노드 생성을 방지하기 위한 딕셔너리 초기화\n",
    "node_dict = {}  # 노드 ID를 키로 사용하여 생성된 노드 객체를 저장\n",
    "\n",
    "# 노드 간 관계를 저장할 리스트 초기화\n",
    "relationships = []\n",
    "\n",
    "# 배치 처리를 위한 설정\n",
    "batch_size = 100  # 한 번에 처리할 레코드 수 (메모리가 부족할 경우 더 작은 숫자로 설정)\n",
    "\n",
    "# 데이터프레임을 배치로 나누어 처리\n",
    "total_rows = len(df)\n",
    "for batch_start in range(0, total_rows, batch_size):\n",
    "    batch_end = min(batch_start + batch_size, total_rows)\n",
    "    batch_df = df.iloc[batch_start:batch_end]\n",
    "    \n",
    "    # 배치 내 CSV 데이터를 순회하며 그래프 구조로 변환\n",
    "    for _, row in batch_df.iterrows():\n",
    "        # 영화 ID 생성 (접두어 'movie-' 추가)\n",
    "        movie_id = f\"movie-{row['id']}\"\n",
    "        \n",
    "        # 영화 노드 생성 (이미 존재하는지 확인하여 중복 방지)\n",
    "        if movie_id not in node_dict:\n",
    "            # 영화 노드 속성 설정 (추가 속성 포함)\n",
    "            movie_properties = {\n",
    "                \"id\": movie_id,  # 영화 고유 ID\n",
    "                \"title\": row['title'],  # 영화 제목\n",
    "                \"released\": row['released'],  # 개봉일\n",
    "                \"rating\": float(row['rating']) if pd.notna(row['rating']) else None  #  평점 (결측값 처리)\n",
    "            }\n",
    "            \n",
    "            # 추가 속성 처리: overview, runtime, tagline (결측값 처리)\n",
    "            if pd.notna(row.get('overview')):\n",
    "                movie_properties[\"overview\"] = row['overview']\n",
    "            \n",
    "            if pd.notna(row.get('runtime')):\n",
    "                # runtime이 숫자인 경우 정수로 변환\n",
    "                try:\n",
    "                    movie_properties[\"runtime\"] = int(row['runtime'])\n",
    "                except (ValueError, TypeError):\n",
    "                    movie_properties[\"runtime\"] = row['runtime']\n",
    "            \n",
    "            if pd.notna(row.get('tagline')):\n",
    "                movie_properties[\"tagline\"] = row['tagline']\n",
    "            \n",
    "            # 영화 노드 객체 생성\n",
    "            movie_node = Node(\n",
    "                id=movie_id,\n",
    "                type=\"Movie\",  # 노드 유형 지정\n",
    "                properties=movie_properties\n",
    "            )\n",
    "            \n",
    "            # 생성된 영화 노드를 딕셔너리에 저장\n",
    "            node_dict[movie_id] = movie_node\n",
    "        \n",
    "        # 감독 정보 처리 (결측값이 아닌 경우에만)\n",
    "        if pd.notna(row.get('director')):\n",
    "            # 여러 감독이 있을 경우 '|'로 구분되어 있으므로 분리하여 처리\n",
    "            for director in row['director'].split('|'):\n",
    "                director = director.strip()  # 앞뒤 공백 제거\n",
    "                director_id = f\"person-{director}\"  # 감독 ID 생성\n",
    "                \n",
    "                # 감독 노드가 아직 생성되지 않았다면 새로 생성\n",
    "                if director_id not in node_dict:\n",
    "                    director_node = Node(\n",
    "                        id=director_id,\n",
    "                        type=\"Person\",  # 인물 유형으로 지정\n",
    "                        properties={\"name\": director}  # 감독 이름 속성 설정\n",
    "                    )\n",
    "                    # 생성된 감독 노드를 딕셔너리에 저장\n",
    "                    node_dict[director_id] = director_node\n",
    "                \n",
    "                # 감독과 영화 간의 'DIRECTED' 관계 생성\n",
    "                relationships.append(\n",
    "                    Relationship(\n",
    "                        source=node_dict[director_id],  # 관계의 시작점 (감독)\n",
    "                        target=node_dict[movie_id],     # 관계의 끝점 (영화)\n",
    "                        type=\"DIRECTED\",  # 관계 유형\n",
    "                        properties={}  # 추가 속성 (없음)\n",
    "                    )\n",
    "                )\n",
    "        \n",
    "        # 배우 정보 처리 (결측값이 아닌 경우에만)\n",
    "        if pd.notna(row.get('actors')):\n",
    "            # 여러 배우가 있을 경우 '|'로 구분되어 있으므로 분리하여 처리\n",
    "            for actor in row['actors'].split('|'):\n",
    "                actor = actor.strip()  # 앞뒤 공백 제거\n",
    "                actor_id = f\"person-{actor}\"  # 배우 ID 생성\n",
    "                \n",
    "                # 배우 노드가 아직 생성되지 않았다면 새로 생성\n",
    "                if actor_id not in node_dict:\n",
    "                    actor_node = Node(\n",
    "                        id=actor_id,\n",
    "                        type=\"Person\",  # 인물 유형으로 지정\n",
    "                        properties={\"name\": actor}  # 배우 이름 속성 설정\n",
    "                    )\n",
    "                    # 생성된 배우 노드를 딕셔너리에 저장\n",
    "                    node_dict[actor_id] = actor_node\n",
    "                \n",
    "                # 배우와 영화 간의 'ACTED_IN' 관계 생성\n",
    "                relationships.append(\n",
    "                    Relationship(\n",
    "                        source=node_dict[actor_id],  # 관계의 시작점 (배우)\n",
    "                        target=node_dict[movie_id],  # 관계의 끝점 (영화)\n",
    "                        type=\"ACTED_IN\",  # 관계 유형\n",
    "                        properties={}  # 추가 속성 (없음)\n",
    "                    )\n",
    "                )\n",
    "        \n",
    "        # 장르 정보 처리 (결측값이 아닌 경우에만)\n",
    "        if pd.notna(row.get('genres')):\n",
    "            # 여러 장르가 있을 경우 '|'로 구분되어 있으므로 분리하여 처리\n",
    "            for genre in row['genres'].split('|'):\n",
    "                genre = genre.strip()  # 앞뒤 공백 제거\n",
    "                genre_id = f\"genre-{genre}\"  # 장르 ID 생성\n",
    "                \n",
    "                # 장르 노드가 아직 생성되지 않았다면 새로 생성\n",
    "                if genre_id not in node_dict:\n",
    "                    genre_node = Node(\n",
    "                        id=genre_id,\n",
    "                        type=\"Genre\",  # 장르 유형으로 지정\n",
    "                        properties={\"name\": genre}  # 장르 이름 속성 설정\n",
    "                    )\n",
    "                    # 생성된 장르 노드를 딕셔너리에 저장\n",
    "                    node_dict[genre_id] = genre_node\n",
    "                \n",
    "                # 영화와 장르 간의 'IN_GENRE' 관계 생성\n",
    "                relationships.append(\n",
    "                    Relationship(\n",
    "                        source=node_dict[movie_id],  # 관계의 시작점 (영화)\n",
    "                        target=node_dict[genre_id],  # 관계의 끝점 (장르)\n",
    "                        type=\"IN_GENRE\",  # 관계 유형\n",
    "                        properties={}  # 추가 속성 (없음)\n",
    "                    )\n",
    "                )\n",
    "    \n",
    "    print(f\"배치 처리 완료: {batch_start+1}~{batch_end}/{total_rows} 레코드\")\n",
    "\n",
    "# 결과 출력\n",
    "print(f\"총 노드 수: {len(node_dict)}\")\n",
    "print(f\"총 관계 수: {len(relationships)}\")"
   ],
   "outputs": [
    {
     "name": "stdout",
     "output_type": "stream",
     "text": [
      "배치 처리 완료: 1~100/4803 레코드\n",
      "배치 처리 완료: 101~200/4803 레코드\n",
      "배치 처리 완료: 201~300/4803 레코드\n",
      "배치 처리 완료: 301~400/4803 레코드\n",
      "배치 처리 완료: 401~500/4803 레코드\n",
      "배치 처리 완료: 501~600/4803 레코드\n",
      "배치 처리 완료: 601~700/4803 레코드\n",
      "배치 처리 완료: 701~800/4803 레코드\n",
      "배치 처리 완료: 801~900/4803 레코드\n",
      "배치 처리 완료: 901~1000/4803 레코드\n",
      "배치 처리 완료: 1001~1100/4803 레코드\n",
      "배치 처리 완료: 1101~1200/4803 레코드\n",
      "배치 처리 완료: 1201~1300/4803 레코드\n",
      "배치 처리 완료: 1301~1400/4803 레코드\n",
      "배치 처리 완료: 1401~1500/4803 레코드\n",
      "배치 처리 완료: 1501~1600/4803 레코드\n",
      "배치 처리 완료: 1601~1700/4803 레코드\n",
      "배치 처리 완료: 1701~1800/4803 레코드\n",
      "배치 처리 완료: 1801~1900/4803 레코드\n",
      "배치 처리 완료: 1901~2000/4803 레코드\n",
      "배치 처리 완료: 2001~2100/4803 레코드\n",
      "배치 처리 완료: 2101~2200/4803 레코드\n",
      "배치 처리 완료: 2201~2300/4803 레코드\n",
      "배치 처리 완료: 2301~2400/4803 레코드\n",
      "배치 처리 완료: 2401~2500/4803 레코드\n",
      "배치 처리 완료: 2501~2600/4803 레코드\n",
      "배치 처리 완료: 2601~2700/4803 레코드\n",
      "배치 처리 완료: 2701~2800/4803 레코드\n",
      "배치 처리 완료: 2801~2900/4803 레코드\n",
      "배치 처리 완료: 2901~3000/4803 레코드\n",
      "배치 처리 완료: 3001~3100/4803 레코드\n",
      "배치 처리 완료: 3101~3200/4803 레코드\n",
      "배치 처리 완료: 3201~3300/4803 레코드\n",
      "배치 처리 완료: 3301~3400/4803 레코드\n",
      "배치 처리 완료: 3401~3500/4803 레코드\n",
      "배치 처리 완료: 3501~3600/4803 레코드\n",
      "배치 처리 완료: 3601~3700/4803 레코드\n",
      "배치 처리 완료: 3701~3800/4803 레코드\n",
      "배치 처리 완료: 3801~3900/4803 레코드\n",
      "배치 처리 완료: 3901~4000/4803 레코드\n",
      "배치 처리 완료: 4001~4100/4803 레코드\n",
      "배치 처리 완료: 4101~4200/4803 레코드\n",
      "배치 처리 완료: 4201~4300/4803 레코드\n",
      "배치 처리 완료: 4301~4400/4803 레코드\n",
      "배치 처리 완료: 4401~4500/4803 레코드\n",
      "배치 처리 완료: 4501~4600/4803 레코드\n",
      "배치 처리 완료: 4601~4700/4803 레코드\n",
      "배치 처리 완료: 4701~4800/4803 레코드\n",
      "배치 처리 완료: 4801~4803/4803 레코드\n",
      "총 노드 수: 16528\n",
      "총 관계 수: 40921\n"
     ]
    }
   ],
   "execution_count": 8
  },
  {
   "cell_type": "markdown",
   "id": "0a9b73f7",
   "metadata": {},
   "source": [
    "- **GraphDocument 생성 및 저장**:\n",
    "\n",
    "    - **GraphDocument**: 그래프 전체 문서를 표현\n",
    "        - `nodes`: 모든 노드의 리스트\n",
    "        - `relationships`: 모든 관계의 리스트\n",
    "\n",
    "    - 모든 노드와 관계를 수집한 후, `GraphDocument` 객체를 생성하고 이를 그래프 데이터베이스에 저장"
   ]
  },
  {
   "cell_type": "code",
   "id": "6637ebef",
   "metadata": {
    "ExecuteTime": {
     "end_time": "2025-08-19T06:42:12.362933Z",
     "start_time": "2025-08-19T06:39:23.404400Z"
    }
   },
   "source": [
    "# 노드 딕셔너리(node_dict)에서 모든 노드 객체를 리스트 형태로 추출\n",
    "# node_dict는 ID를 키로, 노드 객체를 값으로 가지고 있는 딕셔너리\n",
    "nodes = list(node_dict.values())\n",
    "\n",
    "# GraphDocument 객체 생성\n",
    "# - nodes: 영화, 배우, 감독, 장르 등 모든 노드를 포함하는 리스트\n",
    "# - relationships: 앞서 생성한 모든 관계(ACTED_IN, DIRECTED, IN_GENRE 등)를 포함하는 리스트\n",
    "graph_doc = GraphDocument(\n",
    "    nodes=nodes,\n",
    "    relationships=relationships\n",
    ")\n",
    "\n",
    "# 생성된 GraphDocument를 Neo4j 데이터베이스에 저장\n",
    "# add_graph_documents 메서드는 GraphDocument 객체 리스트를 받아 데이터베이스에 일괄 저장\n",
    "# 이 과정에서 모든 노드와 관계가 데이터베이스에 생성됨\n",
    "graph.add_graph_documents([graph_doc])\n",
    "print(\"그래프 데이터베이스에 저장 완료\")"
   ],
   "outputs": [
    {
     "name": "stdout",
     "output_type": "stream",
     "text": [
      "그래프 데이터베이스에 저장 완료\n"
     ]
    }
   ],
   "execution_count": 9
  }
 ],
 "metadata": {
  "kernelspec": {
   "display_name": ".venv",
   "language": "python",
   "name": "python3"
  },
  "language_info": {
   "codemirror_mode": {
    "name": "ipython",
    "version": 3
   },
   "file_extension": ".py",
   "mimetype": "text/x-python",
   "name": "python",
   "nbconvert_exporter": "python",
   "pygments_lexer": "ipython3",
   "version": "3.12.9"
  }
 },
 "nbformat": 4,
 "nbformat_minor": 5
}
