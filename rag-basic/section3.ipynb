{
 "cells": [
  {
   "cell_type": "markdown",
   "id": "9a898547",
   "metadata": {},
   "source": [
    "## 1. 환경 설정"
   ]
  },
  {
   "cell_type": "markdown",
   "id": "9e15f76c",
   "metadata": {},
   "source": [
    "`(1) Env 환경변수`"
   ]
  },
  {
   "cell_type": "code",
   "id": "3f6d77f8",
   "metadata": {
    "ExecuteTime": {
     "end_time": "2025-08-06T07:35:24.274326Z",
     "start_time": "2025-08-06T07:35:24.270147Z"
    }
   },
   "source": [
    "from dotenv import load_dotenv\n",
    "load_dotenv()"
   ],
   "outputs": [
    {
     "data": {
      "text/plain": [
       "True"
      ]
     },
     "execution_count": 5,
     "metadata": {},
     "output_type": "execute_result"
    }
   ],
   "execution_count": 5
  },
  {
   "cell_type": "markdown",
   "id": "0800c924",
   "metadata": {},
   "source": [
    "`(2) 기본 라이브러리`"
   ]
  },
  {
   "cell_type": "code",
   "id": "bca641c2",
   "metadata": {
    "ExecuteTime": {
     "end_time": "2025-08-06T07:35:24.296280Z",
     "start_time": "2025-08-06T07:35:24.294232Z"
    }
   },
   "source": [
    "import os\n",
    "from glob import glob\n",
    "\n",
    "from pprint import pprint"
   ],
   "outputs": [],
   "execution_count": 6
  },
  {
   "cell_type": "markdown",
   "id": "3f18fd5f",
   "metadata": {},
   "source": [
    "`(3) 벡터저장소 로드`  \n",
    "- 저장해 둔 크로마 벡터저장소를 가져오기"
   ]
  },
  {
   "cell_type": "code",
   "id": "0562285f",
   "metadata": {
    "ExecuteTime": {
     "end_time": "2025-08-06T07:35:28.597895Z",
     "start_time": "2025-08-06T07:35:24.309054Z"
    }
   },
   "source": [
    "from langchain_chroma import Chroma\n",
    "from langchain_openai import OpenAIEmbeddings\n",
    "\n",
    "embeddings = OpenAIEmbeddings(\n",
    "    model=\"text-embedding-3-small\", \n",
    ")\n",
    "\n",
    "vectorstore = Chroma(\n",
    "    embedding_function=embeddings,\n",
    "    collection_name=\"chroma_test\",\n",
    "    persist_directory=\"./chroma_db\",\n",
    "    )\n",
    "\n",
    "print(f\"벡터 저장소에 저장된 문서 수: {vectorstore._collection.count()}\")"
   ],
   "outputs": [
    {
     "name": "stdout",
     "output_type": "stream",
     "text": [
      "벡터 저장소에 저장된 문서 수: 6\n"
     ]
    }
   ],
   "execution_count": 7
  },
  {
   "cell_type": "markdown",
   "id": "cee0237e",
   "metadata": {},
   "source": [
    "## 2. LangChain LCEL"
   ]
  },
  {
   "cell_type": "markdown",
   "id": "26db4266",
   "metadata": {},
   "source": [
    "### 2.1 Prompt + LLM"
   ]
  },
  {
   "cell_type": "code",
   "id": "6650c629",
   "metadata": {
    "ExecuteTime": {
     "end_time": "2025-08-06T07:35:28.674187Z",
     "start_time": "2025-08-06T07:35:28.622439Z"
    }
   },
   "source": [
    "# 다중 메시지 전송\n",
    "from langchain_openai import ChatOpenAI\n",
    "from langchain_core.prompts import ChatPromptTemplate\n",
    "\n",
    "# 모델 초기화\n",
    "llm = ChatOpenAI(\n",
    "    model=\"gpt-4o-mini\", \n",
    "    temperature=0.3, \n",
    "    max_tokens=100,\n",
    "    )\n",
    "\n",
    "messages = [\n",
    "    (\"system\", \"You are a helpful assistant.\"),\n",
    "    (\"user\", \"{query}\"),\n",
    "]\n",
    "\n",
    "# 메시지 리스트를 템플릿으로 변환\n",
    "prompt = ChatPromptTemplate.from_messages(messages)\n",
    "\n",
    "# 템플릿을 출력\n",
    "print(prompt)"
   ],
   "outputs": [
    {
     "name": "stdout",
     "output_type": "stream",
     "text": [
      "input_variables=['query'] input_types={} partial_variables={} messages=[SystemMessagePromptTemplate(prompt=PromptTemplate(input_variables=[], input_types={}, partial_variables={}, template='You are a helpful assistant.'), additional_kwargs={}), HumanMessagePromptTemplate(prompt=PromptTemplate(input_variables=['query'], input_types={}, partial_variables={}, template='{query}'), additional_kwargs={})]\n"
     ]
    }
   ],
   "execution_count": 8
  },
  {
   "cell_type": "code",
   "id": "ff39eda5",
   "metadata": {
    "ExecuteTime": {
     "end_time": "2025-08-06T07:35:28.700477Z",
     "start_time": "2025-08-06T07:35:28.698274Z"
    }
   },
   "source": [
    "# 템플릿 입력 변수를 출력\n",
    "print(prompt.input_variables)"
   ],
   "outputs": [
    {
     "name": "stdout",
     "output_type": "stream",
     "text": [
      "['query']\n"
     ]
    }
   ],
   "execution_count": 9
  },
  {
   "cell_type": "code",
   "id": "771e1e90",
   "metadata": {
    "ExecuteTime": {
     "end_time": "2025-08-06T07:35:28.728867Z",
     "start_time": "2025-08-06T07:35:28.725757Z"
    }
   },
   "source": [
    "# input 값을 전달하여 프롬프트를 렌더링\n",
    "prompt_text = prompt.format(query=\"테슬라 창업자는 누구인가요?\")\n",
    "\n",
    "print(prompt_text)"
   ],
   "outputs": [
    {
     "name": "stdout",
     "output_type": "stream",
     "text": [
      "System: You are a helpful assistant.\n",
      "Human: 테슬라 창업자는 누구인가요?\n"
     ]
    }
   ],
   "execution_count": 10
  },
  {
   "cell_type": "code",
   "id": "7f0e9bf0",
   "metadata": {
    "ExecuteTime": {
     "end_time": "2025-08-06T07:35:30.801956Z",
     "start_time": "2025-08-06T07:35:28.758406Z"
    }
   },
   "source": [
    "# 모델에 prompt text를 직접 입력\n",
    "response = llm.invoke(prompt_text)\n",
    "\n",
    "# 모델의 응답을 출력\n",
    "print(response.content)"
   ],
   "outputs": [
    {
     "name": "stdout",
     "output_type": "stream",
     "text": [
      "테슬라의 창립자는 엘론 머스크(Elon Musk), 마틴 에버하드(Martin Eberhard), 마크 타페닝(Mark Tarpenning), 제프 스프링어(Jeffrey Brian Straubel) 등입니다. 엘론 머스크는 2004년에 테슬라에 투자하고 이후 CEO로서 회사를 이끌며 가장 잘 알려진 인물이 되었습니다. 그러나 테슬라는 여러 창립자와\n"
     ]
    }
   ],
   "execution_count": 11
  },
  {
   "cell_type": "code",
   "id": "27045656",
   "metadata": {
    "ExecuteTime": {
     "end_time": "2025-08-06T07:35:30.828052Z",
     "start_time": "2025-08-06T07:35:30.824933Z"
    }
   },
   "source": [
    "# LCEL 체인을 구성\n",
    "chain = prompt | llm\n",
    "\n",
    "# 체인을 출력\n",
    "print(chain)"
   ],
   "outputs": [
    {
     "name": "stdout",
     "output_type": "stream",
     "text": [
      "first=ChatPromptTemplate(input_variables=['query'], input_types={}, partial_variables={}, messages=[SystemMessagePromptTemplate(prompt=PromptTemplate(input_variables=[], input_types={}, partial_variables={}, template='You are a helpful assistant.'), additional_kwargs={}), HumanMessagePromptTemplate(prompt=PromptTemplate(input_variables=['query'], input_types={}, partial_variables={}, template='{query}'), additional_kwargs={})]) middle=[] last=ChatOpenAI(client=<openai.resources.chat.completions.completions.Completions object at 0x174b7f210>, async_client=<openai.resources.chat.completions.completions.AsyncCompletions object at 0x174b98090>, root_client=<openai.OpenAI object at 0x1124cca90>, root_async_client=<openai.AsyncOpenAI object at 0x174b7f3d0>, model_name='gpt-4o-mini', temperature=0.3, model_kwargs={}, openai_api_key=SecretStr('**********'), max_tokens=100)\n"
     ]
    }
   ],
   "execution_count": 12
  },
  {
   "cell_type": "code",
   "id": "6a65c9a0",
   "metadata": {
    "ExecuteTime": {
     "end_time": "2025-08-06T07:35:30.867528Z",
     "start_time": "2025-08-06T07:35:30.863951Z"
    }
   },
   "source": [
    "# 체인의 입력 스키마를 출력\n",
    "from pprint import pprint\n",
    "pprint(chain.input_schema.schema())"
   ],
   "outputs": [
    {
     "name": "stdout",
     "output_type": "stream",
     "text": [
      "{'properties': {'query': {'title': 'Query', 'type': 'string'}},\n",
      " 'required': ['query'],\n",
      " 'title': 'PromptInput',\n",
      " 'type': 'object'}\n"
     ]
    },
    {
     "name": "stderr",
     "output_type": "stream",
     "text": [
      "/var/folders/p0/91nw8d611y33x4dkgs69bzsh0000gn/T/ipykernel_43862/1825042610.py:3: PydanticDeprecatedSince20: The `schema` method is deprecated; use `model_json_schema` instead. Deprecated in Pydantic V2.0 to be removed in V3.0. See Pydantic V2 Migration Guide at https://errors.pydantic.dev/2.11/migration/\n",
      "  pprint(chain.input_schema.schema())\n"
     ]
    }
   ],
   "execution_count": 13
  },
  {
   "cell_type": "code",
   "id": "5b371cf9",
   "metadata": {
    "ExecuteTime": {
     "end_time": "2025-08-06T07:35:33.003362Z",
     "start_time": "2025-08-06T07:35:30.909632Z"
    }
   },
   "source": [
    "# 체인을 실행 - 옵션 1\n",
    "response = chain.invoke({\"query\":\"테슬라 창업자는 누구인가요?\"})\n",
    "\n",
    "# 체인의 응답을 출력\n",
    "print(response)\n",
    "# print(response.content)"
   ],
   "outputs": [
    {
     "name": "stdout",
     "output_type": "stream",
     "text": [
      "content='테슬라의 창립자는 엘론 머스크(Elon Musk)입니다. 그러나 테슬라는 2003년에 마틴 에버하드(Martin Eberhard)와 마크 타페닝(Mark Tarpenning)이라는 두 명의 엔지니어에 의해 설립되었습니다. 엘론 머스크는 2004년에 테슬라에 투자하고 이후 CEO로 취임하면서 회사의 성장에 큰 기여를 하였습니다. 따라서' additional_kwargs={'refusal': None} response_metadata={'token_usage': {'completion_tokens': 100, 'prompt_tokens': 27, 'total_tokens': 127, 'completion_tokens_details': {'accepted_prediction_tokens': 0, 'audio_tokens': 0, 'reasoning_tokens': 0, 'rejected_prediction_tokens': 0}, 'prompt_tokens_details': {'audio_tokens': 0, 'cached_tokens': 0}}, 'model_name': 'gpt-4o-mini-2024-07-18', 'system_fingerprint': 'fp_34a54ae93c', 'id': 'chatcmpl-C1SyJN1mbYBxBqCTZfDQHDsFUROGw', 'service_tier': 'default', 'finish_reason': 'length', 'logprobs': None} id='run--3044be25-771f-407b-b256-4bac4d191156-0' usage_metadata={'input_tokens': 27, 'output_tokens': 100, 'total_tokens': 127, 'input_token_details': {'audio': 0, 'cache_read': 0}, 'output_token_details': {'audio': 0, 'reasoning': 0}}\n"
     ]
    }
   ],
   "execution_count": 14
  },
  {
   "cell_type": "code",
   "id": "68e91772",
   "metadata": {
    "ExecuteTime": {
     "end_time": "2025-08-06T07:35:36.395953Z",
     "start_time": "2025-08-06T07:35:33.038742Z"
    }
   },
   "source": [
    "# 체인을 실행 - 옵션 2\n",
    "response = chain.invoke(\"테슬라 창업자는 누구인가요?\")\n",
    "\n",
    "# 체인의 응답을 출력\n",
    "print(response.content)"
   ],
   "outputs": [
    {
     "name": "stdout",
     "output_type": "stream",
     "text": [
      "테슬라의 창립자는 엘론 머스크(Elon Musk)입니다. 그러나 테슬라는 2003년에 마틴 에버하드(Martin Eberhard)와 마크 타페닝(Mark Tarpenning)에 의해 설립되었습니다. 엘론 머스크는 2004년에 투자자로 참여한 후, CEO로 취임하며 회사의 비전을 이끌어왔습니다. 이후 그는 테슬라의 가장 유명한 얼굴이 되\n"
     ]
    }
   ],
   "execution_count": 15
  },
  {
   "cell_type": "markdown",
   "id": "ea9e0da4",
   "metadata": {},
   "source": [
    "### 2.2 Prompt + LLM + Output Parser"
   ]
  },
  {
   "cell_type": "markdown",
   "id": "e80ac6ea",
   "metadata": {},
   "source": [
    "`a) 문자열 파싱 - StrOutputParser`"
   ]
  },
  {
   "cell_type": "code",
   "id": "8de35b95",
   "metadata": {
    "ExecuteTime": {
     "end_time": "2025-08-06T07:35:36.426570Z",
     "start_time": "2025-08-06T07:35:36.422602Z"
    }
   },
   "source": [
    "response"
   ],
   "outputs": [
    {
     "data": {
      "text/plain": [
       "AIMessage(content='테슬라의 창립자는 엘론 머스크(Elon Musk)입니다. 그러나 테슬라는 2003년에 마틴 에버하드(Martin Eberhard)와 마크 타페닝(Mark Tarpenning)에 의해 설립되었습니다. 엘론 머스크는 2004년에 투자자로 참여한 후, CEO로 취임하며 회사의 비전을 이끌어왔습니다. 이후 그는 테슬라의 가장 유명한 얼굴이 되', additional_kwargs={'refusal': None}, response_metadata={'token_usage': {'completion_tokens': 100, 'prompt_tokens': 27, 'total_tokens': 127, 'completion_tokens_details': {'accepted_prediction_tokens': 0, 'audio_tokens': 0, 'reasoning_tokens': 0, 'rejected_prediction_tokens': 0}, 'prompt_tokens_details': {'audio_tokens': 0, 'cached_tokens': 0}}, 'model_name': 'gpt-4o-mini-2024-07-18', 'system_fingerprint': 'fp_34a54ae93c', 'id': 'chatcmpl-C1SyM1ImREPSU97s5dbQwBcTGvf9y', 'service_tier': 'default', 'finish_reason': 'length', 'logprobs': None}, id='run--77ef203d-65ce-46c0-89fe-af2c3b120aab-0', usage_metadata={'input_tokens': 27, 'output_tokens': 100, 'total_tokens': 127, 'input_token_details': {'audio': 0, 'cache_read': 0}, 'output_token_details': {'audio': 0, 'reasoning': 0}})"
      ]
     },
     "execution_count": 16,
     "metadata": {},
     "output_type": "execute_result"
    }
   ],
   "execution_count": 16
  },
  {
   "cell_type": "code",
   "id": "b1a73a44",
   "metadata": {
    "ExecuteTime": {
     "end_time": "2025-08-06T07:35:36.465849Z",
     "start_time": "2025-08-06T07:35:36.460249Z"
    }
   },
   "source": [
    "# StrOutputParser - 문자열 출력을 파싱\n",
    "from langchain_core.output_parsers import StrOutputParser\n",
    "\n",
    "# 출력 파서를 생성\n",
    "output_parser = StrOutputParser()\n",
    "\n",
    "# 출력 파서를 실행\n",
    "output_parser.invoke(response)"
   ],
   "outputs": [
    {
     "data": {
      "text/plain": [
       "'테슬라의 창립자는 엘론 머스크(Elon Musk)입니다. 그러나 테슬라는 2003년에 마틴 에버하드(Martin Eberhard)와 마크 타페닝(Mark Tarpenning)에 의해 설립되었습니다. 엘론 머스크는 2004년에 투자자로 참여한 후, CEO로 취임하며 회사의 비전을 이끌어왔습니다. 이후 그는 테슬라의 가장 유명한 얼굴이 되'"
      ]
     },
     "execution_count": 17,
     "metadata": {},
     "output_type": "execute_result"
    }
   ],
   "execution_count": 17
  },
  {
   "cell_type": "code",
   "id": "b2ab22fe",
   "metadata": {
    "ExecuteTime": {
     "end_time": "2025-08-06T07:35:37.873278Z",
     "start_time": "2025-08-06T07:35:36.491307Z"
    }
   },
   "source": [
    "str_chain = prompt | llm  | output_parser\n",
    "\n",
    "query = \"리비안의 설립년도는 언제인가요?\"\n",
    "str_response = str_chain.invoke(query)\n",
    "\n",
    "print(str_response)\n",
    "\n"
   ],
   "outputs": [
    {
     "name": "stdout",
     "output_type": "stream",
     "text": [
      "리비안(Rivian)은 2009년에 설립되었습니다. 이 회사는 전기차를 개발하고 생산하는 데 주력하고 있으며, 특히 전기 픽업트럭과 SUV 모델로 주목받고 있습니다.\n"
     ]
    }
   ],
   "execution_count": 18
  },
  {
   "cell_type": "markdown",
   "id": "aea86ac6",
   "metadata": {},
   "source": [
    "`b) JSON 출력 - JsonOutputParser`"
   ]
  },
  {
   "cell_type": "code",
   "id": "ea62a751",
   "metadata": {
    "ExecuteTime": {
     "end_time": "2025-08-06T07:35:40.040704Z",
     "start_time": "2025-08-06T07:35:37.887673Z"
    }
   },
   "source": [
    "from langchain_core.output_parsers import JsonOutputParser\n",
    "\n",
    "# 출력 파서를 생성\n",
    "json_parser = JsonOutputParser()\n",
    "\n",
    "# 체인을 실행 (JSON 출력)\n",
    "json_response = chain.invoke(\"테슬라 창업자는 누구인가요? JSON 형식으로 출력해주세요.\")\n",
    "print(json_response)\n",
    "\n",
    "# 출력 파서를 실행\n",
    "json_parser_output = json_parser.invoke(json_response)\n",
    "print(json_parser_output)"
   ],
   "outputs": [
    {
     "name": "stdout",
     "output_type": "stream",
     "text": [
      "content='```json\\n{\\n  \"창업자\": \"엘론 머스크\",\\n  \"설명\": \"테슬라는 2003년에 마틴 에버하드와 마크 타페닝에 의해 설립되었지만, 엘론 머스크가 2004년에 투자자로 참여하면서 주요한 역할을 하게 되었습니다. 이후 그는 CEO로서 회사의 비전과 방향을 이끌어왔습니다.\"\\n}\\n```' additional_kwargs={'refusal': None} response_metadata={'token_usage': {'completion_tokens': 92, 'prompt_tokens': 34, 'total_tokens': 126, 'completion_tokens_details': {'accepted_prediction_tokens': 0, 'audio_tokens': 0, 'reasoning_tokens': 0, 'rejected_prediction_tokens': 0}, 'prompt_tokens_details': {'audio_tokens': 0, 'cached_tokens': 0}}, 'model_name': 'gpt-4o-mini-2024-07-18', 'system_fingerprint': 'fp_62a23a81ef', 'id': 'chatcmpl-C1SyQHfdFSTCiJD3X9ww9g4QAPt1A', 'service_tier': 'default', 'finish_reason': 'stop', 'logprobs': None} id='run--58bbd05e-5acc-4ef3-9ead-95c62cf359e7-0' usage_metadata={'input_tokens': 34, 'output_tokens': 92, 'total_tokens': 126, 'input_token_details': {'audio': 0, 'cache_read': 0}, 'output_token_details': {'audio': 0, 'reasoning': 0}}\n",
      "{'창업자': '엘론 머스크', '설명': '테슬라는 2003년에 마틴 에버하드와 마크 타페닝에 의해 설립되었지만, 엘론 머스크가 2004년에 투자자로 참여하면서 주요한 역할을 하게 되었습니다. 이후 그는 CEO로서 회사의 비전과 방향을 이끌어왔습니다.'}\n"
     ]
    }
   ],
   "execution_count": 19
  },
  {
   "cell_type": "markdown",
   "id": "6809cf4f",
   "metadata": {},
   "source": [
    "`c) Schema 지정 - PydanticOutputParser`"
   ]
  },
  {
   "cell_type": "code",
   "id": "e3ec0943",
   "metadata": {
    "ExecuteTime": {
     "end_time": "2025-08-06T07:35:50.722763Z",
     "start_time": "2025-08-06T07:35:50.715507Z"
    }
   },
   "source": [
    "from langchain_core.output_parsers import PydanticOutputParser\n",
    "from pydantic import BaseModel, Field, field_validator\n",
    "\n",
    "# Pydantic 모델을 생성\n",
    "class Person(BaseModel):\n",
    "    \"\"\"Information about a person.\"\"\"\n",
    "\n",
    "    name: str = Field(..., description=\"The name of the person\")\n",
    "    title: str = Field(..., description=\"The title or position of the person.\")\n",
    "\n",
    "# 출력 파서를 생성\n",
    "person_parser = PydanticOutputParser(pydantic_object=Person)\n",
    "print(\"========================================\")\n",
    "print(\"PydanticOutputParser 프롬프트\")\n",
    "print(\"----------------------------------------\")\n",
    "print(person_parser.get_format_instructions())\n",
    "print(\"========================================\")\n",
    "#\n",
    "\n",
    "# Prompt 템플릿을 생성 - Pydantic 모델을 사용\n",
    "prompt = ChatPromptTemplate.from_messages(\n",
    "    [\n",
    "        (\n",
    "            \"system\",\n",
    "            \"Answer the user query. Wrap the output in `json` tags\\n{format_instructions}\",\n",
    "        ),\n",
    "        (\"human\", \"{query}\"),\n",
    "    ]\n",
    ").partial(format_instructions=person_parser.get_format_instructions())\n",
    "\n",
    "print(\"Prompt 템플릿\")\n",
    "print(\"----------------------------------------\")\n",
    "print(prompt.format(query=\"테슬라 창업자는 누구인가요?\"))\n",
    "print(\"========================================\")\n"
   ],
   "outputs": [
    {
     "name": "stdout",
     "output_type": "stream",
     "text": [
      "========================================\n",
      "PydanticOutputParser 프롬프트\n",
      "----------------------------------------\n",
      "The output should be formatted as a JSON instance that conforms to the JSON schema below.\n",
      "\n",
      "As an example, for the schema {\"properties\": {\"foo\": {\"title\": \"Foo\", \"description\": \"a list of strings\", \"type\": \"array\", \"items\": {\"type\": \"string\"}}}, \"required\": [\"foo\"]}\n",
      "the object {\"foo\": [\"bar\", \"baz\"]} is a well-formatted instance of the schema. The object {\"properties\": {\"foo\": [\"bar\", \"baz\"]}} is not well-formatted.\n",
      "\n",
      "Here is the output schema:\n",
      "```\n",
      "{\"description\": \"Information about a person.\", \"properties\": {\"name\": {\"description\": \"The name of the person\", \"title\": \"Name\", \"type\": \"string\"}, \"title\": {\"description\": \"The title or position of the person.\", \"title\": \"Title\", \"type\": \"string\"}}, \"required\": [\"name\", \"title\"]}\n",
      "```\n",
      "========================================\n",
      "Prompt 템플릿\n",
      "----------------------------------------\n",
      "System: Answer the user query. Wrap the output in `json` tags\n",
      "The output should be formatted as a JSON instance that conforms to the JSON schema below.\n",
      "\n",
      "As an example, for the schema {\"properties\": {\"foo\": {\"title\": \"Foo\", \"description\": \"a list of strings\", \"type\": \"array\", \"items\": {\"type\": \"string\"}}}, \"required\": [\"foo\"]}\n",
      "the object {\"foo\": [\"bar\", \"baz\"]} is a well-formatted instance of the schema. The object {\"properties\": {\"foo\": [\"bar\", \"baz\"]}} is not well-formatted.\n",
      "\n",
      "Here is the output schema:\n",
      "```\n",
      "{\"description\": \"Information about a person.\", \"properties\": {\"name\": {\"description\": \"The name of the person\", \"title\": \"Name\", \"type\": \"string\"}, \"title\": {\"description\": \"The title or position of the person.\", \"title\": \"Title\", \"type\": \"string\"}}, \"required\": [\"name\", \"title\"]}\n",
      "```\n",
      "Human: 테슬라 창업자는 누구인가요?\n",
      "=====================)===================\n"
     ]
    }
   ],
   "execution_count": 20
  },
  {
   "cell_type": "code",
   "id": "6b8a57e1",
   "metadata": {
    "ExecuteTime": {
     "end_time": "2025-08-06T07:36:18.242879Z",
     "start_time": "2025-08-06T07:36:17.010188Z"
    }
   },
   "source": [
    "# 체인을 구성\n",
    "person_chain = prompt | llm | person_parser\n",
    "\n",
    "# 체인을 실행\n",
    "response = person_chain.invoke(\"테슬라 창업자는 누구인가요?\")\n",
    "\n",
    "# 체인의 응답을 출력\n",
    "response"
   ],
   "outputs": [
    {
     "data": {
      "text/plain": [
       "Person(name='엘론 머스크', title='CEO 및 창립자')"
      ]
     },
     "execution_count": 21,
     "metadata": {},
     "output_type": "execute_result"
    }
   ],
   "execution_count": 21
  },
  {
   "cell_type": "markdown",
   "id": "8aae49f4",
   "metadata": {},
   "source": [
    "## 3. Chat Completion Methods"
   ]
  },
  {
   "cell_type": "markdown",
   "id": "d9198b73",
   "metadata": {},
   "source": [
    "`(1) stream`  \n",
    "- 입력에 대한 응답을 실시간 스트림을 생성하여 전달"
   ]
  },
  {
   "cell_type": "code",
   "id": "b87c23a9",
   "metadata": {
    "ExecuteTime": {
     "end_time": "2025-08-06T07:49:50.022149Z",
     "start_time": "2025-08-06T07:49:47.423099Z"
    }
   },
   "source": [
    "import time \n",
    "\n",
    "for chunk in llm.stream(\"테슬라 창업자는 누구인가요?\"):\n",
    "    # 기본적으로 print 함수는 출력을 할 때마다 줄바꿈을 하지만, 줄바꿈 없이 출력하려면 end=\"\"를 사용하면 됩니다.\n",
    "    # flush=True 옵션을 사용하여 출력 버퍼를 즉시 비웁니다. 데이터를 지연 없이 즉시 출력하는 데 유용합니다.\n",
    "    print(chunk.content, end=\"\", flush=True)  \n",
    "    # time.sleep(0.1)  # 0.1초 대기 (100ms)"
   ],
   "outputs": [
    {
     "name": "stdout",
     "output_type": "stream",
     "text": [
      "테슬라의 창립자는 엘론 머스크(Elon Musk), 마틴 에버하드(Martin Eberhard), 마크 타페닝(Mark Tarpenning), 제프 스프링어(Jeffrey Brian Straubel) 등입니다. 테슬라는 2003년에 설립되었으며, 엘론 머스크는 2004년에 투자자로 참여한 후 CEO로 취임하여 회사를 이끌고 있습니다."
     ]
    }
   ],
   "execution_count": 22
  },
  {
   "cell_type": "markdown",
   "id": "a4b01677",
   "metadata": {},
   "source": [
    "`(2) batch`  \n",
    "- 입력 리스트에 대한 응답을 배치 단위로 생성"
   ]
  },
  {
   "cell_type": "code",
   "id": "1477bfbc",
   "metadata": {
    "ExecuteTime": {
     "end_time": "2025-08-06T07:50:29.456585Z",
     "start_time": "2025-08-06T07:50:25.733365Z"
    }
   },
   "source": [
    "questions = [\n",
    "    \"테슬라의 창업자는 누구인가요?\",\n",
    "    \"리비안의 창업자는 누구인가요?\",\n",
    "]\n",
    "\n",
    "responses = llm.batch(questions)\n",
    "\n",
    "for response in responses:\n",
    "    response.pretty_print()\n",
    "    print()"
   ],
   "outputs": [
    {
     "name": "stdout",
     "output_type": "stream",
     "text": [
      "==================================\u001B[1m Ai Message \u001B[0m==================================\n",
      "\n",
      "테슬라의 창립자는 엘론 머스크(Elon Musk), 마틴 에버하드(Martin Eberhard), 마크 타페닝(Mark Tarpenning), 제프 스키너(Jeff Skilling) 등 여러 명이 있습니다. 그러나 엘론 머스크는 테슬라의 초기 투자자이자 CEO로서 회사의 성장에 가장 큰 영향을 미친 인물로 알려져 있습니다. 테슬라는 2003년에 설\n",
      "\n",
      "==================================\u001B[1m Ai Message \u001B[0m==================================\n",
      "\n",
      "리비안(Rivian)의 창업자는 RJ 스케링(RJ Scaringe)입니다. 그는 2009년에 리비안을 설립하였으며, 전기차 제조업체로서 SUV와 픽업트럭을 주로 생산하고 있습니다. RJ 스케링은 MIT에서 박사 학위를 받았으며, 지속 가능한 운송 수단 개발에 대한 비전을 가지고 회사를 이끌고 있습니다.\n",
      "\n"
     ]
    }
   ],
   "execution_count": 23
  },
  {
   "cell_type": "markdown",
   "id": "6dc16413",
   "metadata": {},
   "source": [
    "## 4. Runnable"
   ]
  },
  {
   "cell_type": "markdown",
   "id": "a734f412",
   "metadata": {},
   "source": [
    "`(1) RunnableParallel`"
   ]
  },
  {
   "cell_type": "code",
   "id": "4f21024b",
   "metadata": {
    "ExecuteTime": {
     "end_time": "2025-08-06T07:57:29.826766Z",
     "start_time": "2025-08-06T07:57:26.402888Z"
    }
   },
   "source": [
    "# 문서 검색기 생성\n",
    "retriever = vectorstore.as_retriever(\n",
    "    search_kwargs={'k': 1}, \n",
    ")\n",
    "\n",
    "query = \"테슬라 창업자는 누구인가요?\"\n",
    "retrieved_docs = retriever.invoke(query)\n",
    "\n",
    "retrieved_docs_text = \"\\n\".join([doc.page_content for doc in retrieved_docs])\n",
    "\n",
    "pprint(retrieved_docs_text)"
   ],
   "outputs": [
    {
     "name": "stdout",
     "output_type": "stream",
     "text": [
      "('테슬라(Tesla, Inc.)는 텍사스주 오스틴에 본사를 둔 미국의 대표적인 전기차 제조업체입니다. 2003년 마틴 에버하드(CEO)와 '\n",
      " '마크 타페닝(CFO)에 의해 설립된 테슬라는 2004년 페이팔과 Zip2의 공동 창업자인 일론 머스크의 참여로 큰 전환점을 맞았습니다. '\n",
      " '머스크는 최대 주주이자 회장으로서 회사를 현재의 성공으로 이끌었습니다. 회사 이름은 유명한 물리학자이자 전기공학자인 니콜라 테슬라의 '\n",
      " '이름을 따서 지어졌습니다. 테슬라는 2010')\n"
     ]
    }
   ],
   "execution_count": 24
  },
  {
   "cell_type": "code",
   "id": "bcbc4d12",
   "metadata": {
    "ExecuteTime": {
     "end_time": "2025-08-06T08:00:16.915850Z",
     "start_time": "2025-08-06T08:00:16.901922Z"
    }
   },
   "source": [
    "from langchain_core.runnables import RunnableParallel\n",
    "from operator import itemgetter\n",
    "\n",
    "# RunnableParrellel 구성\n",
    "runnable = RunnableParallel(\n",
    "    {\"context\": itemgetter(\"context\") , \"question\": itemgetter(\"question\")}\n",
    ")\n",
    "\n",
    "# 객체를 실행\n",
    "response = runnable.invoke({\"context\": retrieved_docs_text, \"question\": query})\n",
    "\n",
    "# 응답을 출력\n",
    "response"
   ],
   "outputs": [
    {
     "data": {
      "text/plain": [
       "{'context': '테슬라(Tesla, Inc.)는 텍사스주 오스틴에 본사를 둔 미국의 대표적인 전기차 제조업체입니다. 2003년 마틴 에버하드(CEO)와 마크 타페닝(CFO)에 의해 설립된 테슬라는 2004년 페이팔과 Zip2의 공동 창업자인 일론 머스크의 참여로 큰 전환점을 맞았습니다. 머스크는 최대 주주이자 회장으로서 회사를 현재의 성공으로 이끌었습니다. 회사 이름은 유명한 물리학자이자 전기공학자인 니콜라 테슬라의 이름을 따서 지어졌습니다. 테슬라는 2010',\n",
       " 'question': '테슬라 창업자는 누구인가요?'}"
      ]
     },
     "execution_count": 25,
     "metadata": {},
     "output_type": "execute_result"
    }
   ],
   "execution_count": 25
  },
  {
   "cell_type": "markdown",
   "id": "bcbeb7d0",
   "metadata": {},
   "source": [
    "`(2) RunnablePassthrough`"
   ]
  },
  {
   "cell_type": "code",
   "id": "9b6495f0",
   "metadata": {
    "ExecuteTime": {
     "end_time": "2025-08-06T11:22:21.022053Z",
     "start_time": "2025-08-06T11:22:21.015210Z"
    }
   },
   "source": [
    "from langchain_core.runnables import RunnablePassthrough\n",
    "\n",
    "runnable = RunnableParallel(\n",
    "    question=RunnablePassthrough(),\n",
    ")\n",
    "\n",
    "runnable.invoke({\"query\":\"테슬라 창업자는 누구인가요?\"})"
   ],
   "outputs": [
    {
     "data": {
      "text/plain": [
       "{'question': {'query': '테슬라 창업자는 누구인가요?'}}"
      ]
     },
     "execution_count": 27,
     "metadata": {},
     "output_type": "execute_result"
    }
   ],
   "execution_count": 27
  },
  {
   "cell_type": "markdown",
   "id": "458adb6e",
   "metadata": {},
   "source": [
    "`(3) RunnableLambda`\n",
    "- 정의: 파이썬의 커스텀 함수를 매핑하는데 사용"
   ]
  },
  {
   "cell_type": "code",
   "id": "509b3f8b",
   "metadata": {
    "ExecuteTime": {
     "end_time": "2025-08-06T11:22:49.512471Z",
     "start_time": "2025-08-06T11:22:49.504017Z"
    }
   },
   "source": [
    "from langchain_core.runnables import RunnableLambda\n",
    "\n",
    "def count_num_words(text):\n",
    "    return len(text.split())\n",
    "\n",
    "runnable = RunnableParallel(\n",
    "    question=RunnablePassthrough(),\n",
    "    word_count=RunnableLambda(count_num_words),\n",
    ")\n",
    "\n",
    "runnable.invoke(\"테슬라 창업자는 누구인가요?\") "
   ],
   "outputs": [
    {
     "data": {
      "text/plain": [
       "{'question': '테슬라 창업자는 누구인가요?', 'word_count': 3}"
      ]
     },
     "execution_count": 28,
     "metadata": {},
     "output_type": "execute_result"
    }
   ],
   "execution_count": 28
  },
  {
   "cell_type": "markdown",
   "id": "95d7177b",
   "metadata": {},
   "source": [
    "## 5. 전체 RAG 파이프라인 구성"
   ]
  },
  {
   "cell_type": "markdown",
   "id": "f7a953ff",
   "metadata": {},
   "source": [
    "`(1) RAG 프롬프트 템플릿`  "
   ]
  },
  {
   "cell_type": "code",
   "id": "1c9b52c2",
   "metadata": {
    "ExecuteTime": {
     "end_time": "2025-08-06T11:25:39.255546Z",
     "start_time": "2025-08-06T11:25:39.199415Z"
    }
   },
   "source": [
    "# Prompt 템플릿을 생성\n",
    "from langchain.prompts import ChatPromptTemplate\n",
    "\n",
    "template = \"\"\"Answer the question based only on the following context.\n",
    "Do not use any external information or knowledge. \n",
    "If the answer is not in the context, answer \"잘 모르겠습니다.\".\n",
    "\n",
    "[Context]\n",
    "{context}\n",
    "\n",
    "[Question] \n",
    "{question}\n",
    "\n",
    "[Answer]\n",
    "\"\"\"\n",
    "\n",
    "prompt = ChatPromptTemplate.from_template(template)\n",
    "\n",
    "# 템플릿을 출력\n",
    "prompt.pretty_print()"
   ],
   "outputs": [
    {
     "name": "stdout",
     "output_type": "stream",
     "text": [
      "================================\u001B[1m Human Message \u001B[0m=================================\n",
      "\n",
      "Answer the question based only on the following context.\n",
      "Do not use any external information or knowledge. \n",
      "If the answer is not in the context, answer \"잘 모르겠습니다.\".\n",
      "\n",
      "[Context]\n",
      "\u001B[33;1m\u001B[1;3m{context}\u001B[0m\n",
      "\n",
      "[Question] \n",
      "\u001B[33;1m\u001B[1;3m{question}\u001B[0m\n",
      "\n",
      "[Answer]\n",
      "\n"
     ]
    }
   ],
   "execution_count": 29
  },
  {
   "cell_type": "markdown",
   "id": "03131d4a",
   "metadata": {},
   "source": [
    "`(2) Retriever Chain 연결`  "
   ]
  },
  {
   "cell_type": "code",
   "id": "09b7abf5",
   "metadata": {
    "ExecuteTime": {
     "end_time": "2025-08-06T11:26:03.084851Z",
     "start_time": "2025-08-06T11:26:02.036733Z"
    }
   },
   "source": [
    "# 벡터 검색기\n",
    "retriever = vectorstore.as_retriever(search_kwargs={'k': 2})\n",
    "\n",
    "# 문서 포맷터 함수\n",
    "def format_docs(docs):\n",
    "    return \"\\n\\n\".join([d.page_content for d in docs])\n",
    "\n",
    "# 체인 구성\n",
    "retriever_chain = retriever | format_docs\n",
    "\n",
    "# 체인을 실행\n",
    "response = retriever_chain.invoke(\"테슬라 창업자는 누구인가요?\")\n",
    "\n",
    "pprint(response)"
   ],
   "outputs": [
    {
     "name": "stdout",
     "output_type": "stream",
     "text": [
      "('테슬라(Tesla, Inc.)는 텍사스주 오스틴에 본사를 둔 미국의 대표적인 전기차 제조업체입니다. 2003년 마틴 에버하드(CEO)와 '\n",
      " '마크 타페닝(CFO)에 의해 설립된 테슬라는 2004년 페이팔과 Zip2의 공동 창업자인 일론 머스크의 참여로 큰 전환점을 맞았습니다. '\n",
      " '머스크는 최대 주주이자 회장으로서 회사를 현재의 성공으로 이끌었습니다. 회사 이름은 유명한 물리학자이자 전기공학자인 니콜라 테슬라의 '\n",
      " '이름을 따서 지어졌습니다. 테슬라는 2010\\n'\n",
      " '\\n'\n",
      " '명한 물리학자이자 전기공학자인 니콜라 테슬라의 이름을 따서 지어졌습니다. 테슬라는 2010년 6월 나스닥에 상장되었습니다.\\n'\n",
      " '\\n'\n",
      " '2023년 테슬라는 1,808,581대의 차량을 판매하여 2022년에 비해 37.65% 증가했습니다. 2012년부터 2023년 3분기까지 '\n",
      " '테슬라의 전 세계 누적 판매량은 4,962,975대를 초과했습니다. SMT Packaging에 따르면, 2023년 테슬라의 판매량은 전 '\n",
      " '세계 전기차 시장의 약 12.9%를 차지했습니다.')\n"
     ]
    }
   ],
   "execution_count": 30
  },
  {
   "cell_type": "markdown",
   "id": "6957eeab",
   "metadata": {},
   "source": [
    "`(3) RAG Chain 연결`  "
   ]
  },
  {
   "cell_type": "code",
   "id": "7d12f3b0",
   "metadata": {
    "ExecuteTime": {
     "end_time": "2025-08-06T11:27:31.241897Z",
     "start_time": "2025-08-06T11:27:27.144155Z"
    }
   },
   "source": [
    "from langchain_core.output_parsers import StrOutputParser\n",
    "from langchain_openai import ChatOpenAI\n",
    "\n",
    "\n",
    "# LLM 모델 생성\n",
    "llm = ChatOpenAI(model=\"gpt-4o-mini\", temperature=0, max_tokens=100)\n",
    "\n",
    "# 체인 생성\n",
    "rag_chain = (\n",
    "    {\"context\": retriever_chain , \"question\": RunnablePassthrough()}\n",
    "    | prompt\n",
    "    | llm\n",
    "    | StrOutputParser()\n",
    ")\n",
    "\n",
    "# 체인 실행\n",
    "query = \"테슬라 창업자는 누구인가요?\"\n",
    "response = rag_chain.invoke(query)"
   ],
   "outputs": [],
   "execution_count": 31
  },
  {
   "cell_type": "code",
   "id": "d2b7fc46",
   "metadata": {
    "ExecuteTime": {
     "end_time": "2025-08-06T11:27:31.260693Z",
     "start_time": "2025-08-06T11:27:31.256032Z"
    }
   },
   "source": [
    "# 결과 출력\n",
    "response"
   ],
   "outputs": [
    {
     "data": {
      "text/plain": [
       "'마틴 에버하드와 마크 타페닝입니다.'"
      ]
     },
     "execution_count": 32,
     "metadata": {},
     "output_type": "execute_result"
    }
   ],
   "execution_count": 32
  },
  {
   "cell_type": "markdown",
   "id": "fceb9f42",
   "metadata": {},
   "source": [
    "## 6. Gradio 챗봇"
   ]
  },
  {
   "cell_type": "markdown",
   "id": "c57035b9",
   "metadata": {},
   "source": [
    "`(1) invoke 실행` "
   ]
  },
  {
   "cell_type": "code",
   "id": "8b207180",
   "metadata": {
    "ExecuteTime": {
     "end_time": "2025-08-06T11:28:26.859780Z",
     "start_time": "2025-08-06T11:28:24.563738Z"
    }
   },
   "source": [
    "import gradio as gr\n",
    "\n",
    "def answer_invoke(message, history):\n",
    "    response = rag_chain.invoke(message)\n",
    "    return response\n",
    "\n",
    "# Graiio 인터페이스 생성 \n",
    "demo = gr.ChatInterface(fn=answer_invoke, title=\"QA Bot\")\n",
    "\n",
    "# Graiio 실행  \n",
    "demo.launch()"
   ],
   "outputs": [
    {
     "name": "stderr",
     "output_type": "stream",
     "text": [
      "/opt/anaconda3/envs/llm-study-env/lib/python3.11/site-packages/gradio/chat_interface.py:345: UserWarning: The 'tuples' format for chatbot messages is deprecated and will be removed in a future version of Gradio. Please set type='messages' instead, which uses openai-style 'role' and 'content' keys.\n",
      "  self.chatbot = Chatbot(\n"
     ]
    },
    {
     "name": "stdout",
     "output_type": "stream",
     "text": [
      "* Running on local URL:  http://127.0.0.1:7860\n",
      "* To create a public link, set `share=True` in `launch()`.\n"
     ]
    },
    {
     "data": {
      "text/plain": [
       "<IPython.core.display.HTML object>"
      ],
      "text/html": [
       "<div><iframe src=\"http://127.0.0.1:7860/\" width=\"100%\" height=\"500\" allow=\"autoplay; camera; microphone; clipboard-read; clipboard-write;\" frameborder=\"0\" allowfullscreen></iframe></div>"
      ]
     },
     "metadata": {},
     "output_type": "display_data"
    },
    {
     "data": {
      "text/plain": []
     },
     "execution_count": 33,
     "metadata": {},
     "output_type": "execute_result"
    }
   ],
   "execution_count": 33
  },
  {
   "cell_type": "code",
   "id": "82f7a6d2",
   "metadata": {
    "ExecuteTime": {
     "end_time": "2025-08-06T11:29:00.025527Z",
     "start_time": "2025-08-06T11:28:59.875531Z"
    }
   },
   "source": [
    "# Graiio 종료\n",
    "demo.close()"
   ],
   "outputs": [
    {
     "name": "stdout",
     "output_type": "stream",
     "text": [
      "Closing server running on port: 7860\n"
     ]
    }
   ],
   "execution_count": 34
  },
  {
   "cell_type": "markdown",
   "id": "11f970ba",
   "metadata": {},
   "source": [
    "`(2) stream 실행` "
   ]
  },
  {
   "cell_type": "code",
   "id": "40b11b26",
   "metadata": {
    "ExecuteTime": {
     "end_time": "2025-08-06T11:30:13.471969Z",
     "start_time": "2025-08-06T11:30:13.259350Z"
    }
   },
   "source": [
    "import gradio as gr\n",
    "\n",
    "def answer_invoke(message, history):\n",
    "    partial_message = \"\"\n",
    "    for chunk in rag_chain.stream(message):\n",
    "        if chunk is not None:\n",
    "            partial_message = partial_message + chunk\n",
    "            time.sleep(0.1)\n",
    "            yield partial_message\n",
    "\n",
    "# Graiio 인터페이스 생성 \n",
    "demo = gr.ChatInterface(fn=answer_invoke, title=\"QA Bot\")\n",
    "\n",
    "# Graiio 실행  \n",
    "demo.launch()"
   ],
   "outputs": [
    {
     "name": "stderr",
     "output_type": "stream",
     "text": [
      "/opt/anaconda3/envs/llm-study-env/lib/python3.11/site-packages/gradio/chat_interface.py:345: UserWarning: The 'tuples' format for chatbot messages is deprecated and will be removed in a future version of Gradio. Please set type='messages' instead, which uses openai-style 'role' and 'content' keys.\n",
      "  self.chatbot = Chatbot(\n"
     ]
    },
    {
     "name": "stdout",
     "output_type": "stream",
     "text": [
      "* Running on local URL:  http://127.0.0.1:7860\n",
      "* To create a public link, set `share=True` in `launch()`.\n"
     ]
    },
    {
     "data": {
      "text/plain": [
       "<IPython.core.display.HTML object>"
      ],
      "text/html": [
       "<div><iframe src=\"http://127.0.0.1:7860/\" width=\"100%\" height=\"500\" allow=\"autoplay; camera; microphone; clipboard-read; clipboard-write;\" frameborder=\"0\" allowfullscreen></iframe></div>"
      ]
     },
     "metadata": {},
     "output_type": "display_data"
    },
    {
     "data": {
      "text/plain": []
     },
     "execution_count": 35,
     "metadata": {},
     "output_type": "execute_result"
    }
   ],
   "execution_count": 35
  },
  {
   "cell_type": "code",
   "id": "be3f36e0",
   "metadata": {
    "ExecuteTime": {
     "end_time": "2025-08-06T11:31:09.762116Z",
     "start_time": "2025-08-06T11:31:09.586846Z"
    }
   },
   "source": [
    "# Graiio 종료\n",
    "demo.close()"
   ],
   "outputs": [
    {
     "name": "stdout",
     "output_type": "stream",
     "text": [
      "Closing server running on port: 7860\n"
     ]
    }
   ],
   "execution_count": 36
  },
  {
   "cell_type": "code",
   "execution_count": null,
   "id": "c90ddd92",
   "metadata": {},
   "outputs": [],
   "source": []
  }
 ],
 "metadata": {
  "kernelspec": {
   "display_name": "Python 3 (ipykernel)",
   "language": "python",
   "name": "python3"
  },
  "language_info": {
   "codemirror_mode": {
    "name": "ipython",
    "version": 3
   },
   "file_extension": ".py",
   "mimetype": "text/x-python",
   "name": "python",
   "nbconvert_exporter": "python",
   "pygments_lexer": "ipython3",
   "version": "3.11.9"
  }
 },
 "nbformat": 4,
 "nbformat_minor": 5
}
