{
 "cells": [
  {
   "cell_type": "markdown",
   "id": "9a898547",
   "metadata": {},
   "source": [
    "## 1. 환경 설정"
   ]
  },
  {
   "cell_type": "markdown",
   "id": "9e15f76c",
   "metadata": {},
   "source": [
    "`(1) Env 환경변수`"
   ]
  },
  {
   "cell_type": "code",
   "id": "3f6d77f8",
   "metadata": {
    "ExecuteTime": {
     "end_time": "2025-08-14T05:58:00.089126Z",
     "start_time": "2025-08-14T05:58:00.076641Z"
    }
   },
   "source": [
    "from dotenv import load_dotenv\n",
    "load_dotenv()"
   ],
   "outputs": [
    {
     "data": {
      "text/plain": [
       "True"
      ]
     },
     "execution_count": 2,
     "metadata": {},
     "output_type": "execute_result"
    }
   ],
   "execution_count": 2
  },
  {
   "cell_type": "markdown",
   "id": "0800c924",
   "metadata": {},
   "source": [
    "`(2) 기본 라이브러리`"
   ]
  },
  {
   "cell_type": "code",
   "id": "bca641c2",
   "metadata": {
    "ExecuteTime": {
     "end_time": "2025-08-14T05:58:02.458205Z",
     "start_time": "2025-08-14T05:58:02.455849Z"
    }
   },
   "source": [
    "import os\n",
    "from glob import glob\n",
    "\n",
    "from pprint import pprint\n",
    "import json"
   ],
   "outputs": [],
   "execution_count": 3
  },
  {
   "cell_type": "markdown",
   "id": "cee0237e",
   "metadata": {},
   "source": [
    "## 2. 다양한 문서 형식 처리하기"
   ]
  },
  {
   "cell_type": "markdown",
   "id": "26db4266",
   "metadata": {},
   "source": [
    "### 2.1 PDF 문서 "
   ]
  },
  {
   "cell_type": "code",
   "execution_count": 4,
   "id": "6650c629",
   "metadata": {
    "ExecuteTime": {
     "end_time": "2025-08-14T03:51:33.012871Z",
     "start_time": "2025-08-14T03:51:31.798289Z"
    }
   },
   "outputs": [
    {
     "data": {
      "text/plain": [
       "15"
      ]
     },
     "execution_count": 4,
     "metadata": {},
     "output_type": "execute_result"
    }
   ],
   "source": [
    "from langchain_community.document_loaders import PyPDFLoader\n",
    "\n",
    "pdf_loader = PyPDFLoader('./data/transformer.pdf')\n",
    "pdf_docs = pdf_loader.load()\n",
    "\n",
    "len(pdf_docs)"
   ]
  },
  {
   "cell_type": "code",
   "execution_count": 4,
   "id": "12d92305",
   "metadata": {},
   "outputs": [
    {
     "data": {
      "text/plain": [
       "list"
      ]
     },
     "execution_count": 4,
     "metadata": {},
     "output_type": "execute_result"
    }
   ],
   "source": [
    "type(pdf_docs)"
   ]
  },
  {
   "cell_type": "code",
   "execution_count": 5,
   "id": "6d23dd27",
   "metadata": {
    "ExecuteTime": {
     "end_time": "2025-08-14T03:54:33.424854Z",
     "start_time": "2025-08-14T03:54:33.419293Z"
    }
   },
   "outputs": [
    {
     "data": {
      "text/plain": [
       "Document(metadata={'source': './data/transformer.pdf', 'page': 0}, page_content='Provided proper attribution is provided, Google hereby grants permission to\\nreproduce the tables and figures in this paper solely for use in journalistic or\\nscholarly works.\\nAttention Is All You Need\\nAshish Vaswani∗\\nGoogle Brain\\navaswani@google.comNoam Shazeer∗\\nGoogle Brain\\nnoam@google.comNiki Parmar∗\\nGoogle Research\\nnikip@google.comJakob Uszkoreit∗\\nGoogle Research\\nusz@google.com\\nLlion Jones∗\\nGoogle Research\\nllion@google.comAidan N. Gomez∗ †\\nUniversity of Toronto\\naidan@cs.toronto.eduŁukasz Kaiser∗\\nGoogle Brain\\nlukaszkaiser@google.com\\nIllia Polosukhin∗ ‡\\nillia.polosukhin@gmail.com\\nAbstract\\nThe dominant sequence transduction models are based on complex recurrent or\\nconvolutional neural networks that include an encoder and a decoder. The best\\nperforming models also connect the encoder and decoder through an attention\\nmechanism. We propose a new simple network architecture, the Transformer,\\nbased solely on attention mechanisms, dispensing with recurrence and convolutions\\nentirely. Experiments on two machine translation tasks show these models to\\nbe superior in quality while being more parallelizable and requiring significantly\\nless time to train. Our model achieves 28.4 BLEU on the WMT 2014 English-\\nto-German translation task, improving over the existing best results, including\\nensembles, by over 2 BLEU. On the WMT 2014 English-to-French translation task,\\nour model establishes a new single-model state-of-the-art BLEU score of 41.8 after\\ntraining for 3.5 days on eight GPUs, a small fraction of the training costs of the\\nbest models from the literature. We show that the Transformer generalizes well to\\nother tasks by applying it successfully to English constituency parsing both with\\nlarge and limited training data.\\n∗Equal contribution. Listing order is random. Jakob proposed replacing RNNs with self-attention and started\\nthe effort to evaluate this idea. Ashish, with Illia, designed and implemented the first Transformer models and\\nhas been crucially involved in every aspect of this work. Noam proposed scaled dot-product attention, multi-head\\nattention and the parameter-free position representation and became the other person involved in nearly every\\ndetail. Niki designed, implemented, tuned and evaluated countless model variants in our original codebase and\\ntensor2tensor. Llion also experimented with novel model variants, was responsible for our initial codebase, and\\nefficient inference and visualizations. Lukasz and Aidan spent countless long days designing various parts of and\\nimplementing tensor2tensor, replacing our earlier codebase, greatly improving results and massively accelerating\\nour research.\\n†Work performed while at Google Brain.\\n‡Work performed while at Google Research.\\n31st Conference on Neural Information Processing Systems (NIPS 2017), Long Beach, CA, USA.arXiv:1706.03762v7  [cs.CL]  2 Aug 2023')"
      ]
     },
     "execution_count": 5,
     "metadata": {},
     "output_type": "execute_result"
    }
   ],
   "source": [
    "pdf_docs[0]"
   ]
  },
  {
   "cell_type": "code",
   "execution_count": 6,
   "id": "a414b9ba",
   "metadata": {
    "ExecuteTime": {
     "end_time": "2025-08-14T03:54:36.873208Z",
     "start_time": "2025-08-14T03:54:36.870824Z"
    }
   },
   "outputs": [
    {
     "name": "stdout",
     "output_type": "stream",
     "text": [
      "{'source': './data/transformer.pdf', 'page': 0}\n"
     ]
    }
   ],
   "source": [
    "print(pdf_docs[0].metadata)"
   ]
  },
  {
   "cell_type": "code",
   "execution_count": 7,
   "id": "d6d394f1",
   "metadata": {
    "ExecuteTime": {
     "end_time": "2025-08-14T03:54:38.536597Z",
     "start_time": "2025-08-14T03:54:38.534234Z"
    }
   },
   "outputs": [
    {
     "name": "stdout",
     "output_type": "stream",
     "text": [
      "Provided proper attribution is provided, Google hereby grants permission to\n",
      "reproduce the tables and figures in this paper solely for use in journalistic or\n",
      "scholarly works.\n",
      "Attention Is All You Need\n",
      "Ashish Vaswani∗\n",
      "Google Brain\n",
      "avaswani@google.comNoam Shazeer∗\n",
      "Google Brain\n",
      "noam@google.comNiki Parmar∗\n",
      "Google Research\n",
      "nikip@google.comJakob Uszkoreit∗\n",
      "Google Research\n",
      "usz@google.com\n",
      "Llion Jones∗\n",
      "Google Research\n",
      "llion@google.comAidan N. Gomez∗ †\n",
      "University of Toronto\n",
      "aidan@cs.toronto.eduŁukasz Kaiser∗\n",
      "Google Brain\n",
      "lukaszkaiser@google.com\n",
      "Illia Polosukhin∗ ‡\n",
      "illia.polosukhin@gmail.com\n",
      "Abstract\n",
      "The dominant sequence transduction models are based on complex recurrent or\n",
      "convolutional neural networks that include an encoder and a decoder. The best\n",
      "performing models also connect the encoder and decoder through an attention\n",
      "mechanism. We propose a new simple network architecture, the Transformer,\n",
      "based solely on attention mechanisms, dispensing with recurrence and convolutions\n",
      "entirely. Experiments on two machine translation tasks show these models to\n",
      "be superior in quality while being more parallelizable and requiring significantly\n",
      "less time to train. Our model achieves 28.4 BLEU on the WMT 2014 English-\n",
      "to-German translation task, improving over the existing best results, including\n",
      "ensembles, by over 2 BLEU. On the WMT 2014 English-to-French translation task,\n",
      "our model establishes a new single-model state-of-the-art BLEU score of 41.8 after\n",
      "training for 3.5 days on eight GPUs, a small fraction of the training costs of the\n",
      "best models from the literature. We show that the Transformer generalizes well to\n",
      "other tasks by applying it successfully to English constituency parsing both with\n",
      "large and limited training data.\n",
      "∗Equal contribution. Listing order is random. Jakob proposed replacing RNNs with self-attention and started\n",
      "the effort to evaluate this idea. Ashish, with Illia, designed and implemented the first Transformer models and\n",
      "has been crucially involved in every aspect of this work. Noam proposed scaled dot-product attention, multi-head\n",
      "attention and the parameter-free position representation and became the other person involved in nearly every\n",
      "detail. Niki designed, implemented, tuned and evaluated countless model variants in our original codebase and\n",
      "tensor2tensor. Llion also experimented with novel model variants, was responsible for our initial codebase, and\n",
      "efficient inference and visualizations. Lukasz and Aidan spent countless long days designing various parts of and\n",
      "implementing tensor2tensor, replacing our earlier codebase, greatly improving results and massively accelerating\n",
      "our research.\n",
      "†Work performed while at Google Brain.\n",
      "‡Work performed while at Google Research.\n",
      "31st Conference on Neural Information Processing Systems (NIPS 2017), Long Beach, CA, USA.arXiv:1706.03762v7  [cs.CL]  2 Aug 2023\n"
     ]
    }
   ],
   "source": [
    "print(pdf_docs[0].page_content)"
   ]
  },
  {
   "cell_type": "markdown",
   "id": "6178f9a0",
   "metadata": {},
   "source": [
    "### 2.2 웹 문서 "
   ]
  },
  {
   "cell_type": "code",
   "execution_count": 8,
   "id": "7e8732bb",
   "metadata": {
    "ExecuteTime": {
     "end_time": "2025-08-14T03:56:59.027694Z",
     "start_time": "2025-08-14T03:56:57.675714Z"
    }
   },
   "outputs": [
    {
     "name": "stderr",
     "output_type": "stream",
     "text": [
      "USER_AGENT environment variable not set, consider setting it to identify your requests.\n"
     ]
    },
    {
     "data": {
      "text/plain": [
       "2"
      ]
     },
     "execution_count": 8,
     "metadata": {},
     "output_type": "execute_result"
    }
   ],
   "source": [
    "from langchain_community.document_loaders import WebBaseLoader\n",
    "\n",
    "web_loader = WebBaseLoader([\"https://python.langchain.com/\", \"https://js.langchain.com/\"])\n",
    "\n",
    "web_docs = web_loader.load()\n",
    "\n",
    "len(web_docs)\n"
   ]
  },
  {
   "cell_type": "code",
   "execution_count": 9,
   "id": "64688c45",
   "metadata": {
    "ExecuteTime": {
     "end_time": "2025-08-14T03:57:00.693883Z",
     "start_time": "2025-08-14T03:57:00.690115Z"
    }
   },
   "outputs": [
    {
     "data": {
      "text/plain": [
       "{'source': 'https://python.langchain.com/',\n",
       " 'title': 'Introduction | 🦜️🔗 LangChain',\n",
       " 'description': 'LangChain is a framework for developing applications powered by large language models (LLMs).',\n",
       " 'language': 'en'}"
      ]
     },
     "execution_count": 9,
     "metadata": {},
     "output_type": "execute_result"
    }
   ],
   "source": [
    "web_docs[0].metadata"
   ]
  },
  {
   "cell_type": "code",
   "execution_count": 10,
   "id": "451fda18",
   "metadata": {
    "ExecuteTime": {
     "end_time": "2025-08-14T03:57:08.137899Z",
     "start_time": "2025-08-14T03:57:08.135239Z"
    }
   },
   "outputs": [
    {
     "name": "stdout",
     "output_type": "stream",
     "text": [
      "\n",
      "\n",
      "\n",
      "\n",
      "\n",
      "Introduction | 🦜️🔗 LangChain\n",
      "\n",
      "\n",
      "\n",
      "\n",
      "\n",
      "\n",
      "\n",
      "\n",
      "Skip to main contentOur Building Ambient Agents with LangGraph course is now available on LangChain Academy!IntegrationsAPI ReferenceMoreContributingPeopleError referenceLangSmithLangGraphLangChain HubLangChain JS/TSv0.3v0.3v0.2v0.1💬SearchIntroductionTutorialsBuild a Question Answering application over a Graph DatabaseTutorialsBuild a simple LLM application with chat models and prompt templatesBuild a ChatbotBuild a Retrieval Augmented Generation (RAG) App: Part 2Build an Extraction ChainBuild an AgentTaggingBuild a Retrieval Augmented Generation (RAG) App: Part 1Build a semantic search engineBuild a Question/Answering system over SQL dataSummarize TextHow-to guidesHow-to guidesHow to use tools in a chainHow to use a vectorstore as a retrieverHow to add memory to chatbotsHow to use example selectorsHow to add a semantic layer over graph databaseHow to invoke runnables in parallelHow to stream chat model responsesHow to add default invocation args to a RunnableHow to add retrieval to chatbotsHow to use few shot examples in chat modelsHow to do tool/function callingHow to install LangChain packagesHow to add examples to the prompt for query analysisHow to use few shot examplesHow to run custom functionsHow to use output parsers to parse an LLM response into structured formatHow to handle cases where no queries are generatedHow to route between sub-chainsHow to return structured data from a modelHow to summarize text through parallelizationHow to summarize text through iterative refinementHow to summarize text in a single LLM callHow to use toolkitsHow to add ad-hoc tool calling capability to LLMs and Chat ModelsBuild an Agent with AgentExecutor (Legacy)How to construct knowledge graphsHow to partially format prompt templatesHow to handle multiple queries when doing query analysisHow to use built-in tools and toolkitsHow to pass through arguments from one step to the nextHow to compose prompts togetherHow to handle multiple retrievers when doing query analysisHow to add values to a chain's stateHow to construct filters for query analysisHow to configure runtime chain internalsHow to deal with high-cardinality categoricals when doing query analysisCustom Document LoaderHow to use the MultiQueryRetrieverHow to add scores to retriever resultsCachingHow to use callbacks in async environmentsHow to attach callbacks to a runnableHow to propagate callbacks  constructorHow to dispatch custom callback eventsHow to pass callbacks in at runtimeHow to split by characterHow to cache chat model responsesHow to handle rate limitsHow to init any model in one lineHow to track token usage in ChatModelsHow to add tools to chatbotsHow to split codeHow to do retrieval with contextual compressionHow to convert Runnables to ToolsHow to create custom callback handlersHow to create a custom chat model classCustom EmbeddingsHow to create a custom LLM classCustom RetrieverHow to create toolsHow to debug your LLM appsHow to load CSVsHow to load documents from a directoryHow to load HTMLHow to load JSONHow to load MarkdownHow to load Microsoft Office filesHow to load PDFsHow to load web pagesHow to create a dynamic (self-constructing) chainText embedding modelsHow to combine results from multiple retrieversHow to select examples from a LangSmith datasetHow to select examples by lengthHow to select examples by maximal marginal relevance (MMR)How to select examples by n-gram overlapHow to select examples by similarityHow to use reference examples when doing extractionHow to handle long text when doing extractionHow to use prompting alone (no tool calling) to do extractionHow to add fallbacks to a runnableHow to filter messagesHybrid SearchHow to use the LangChain indexing APIHow to inspect runnablesLangChain Expression Language CheatsheetHow to cache LLM responsesHow to track token usage for LLMsRun models locallyHow to get log probabilitiesHow to reorder retrieved results to mitigate the \"lost in the middle\" effectHow to split Markdown by HeadersHow to merge consecutive messages of the same typeHow to add message historyHow to migrate from legacy LangChain agents to LangGraphHow to retrieve using multiple vectors per documentHow to pass multimodal data to modelsHow to use multimodal promptsHow to create a custom Output ParserHow to use the output-fixing parserHow to parse JSON outputHow to retry when a parsing error occursHow to parse text from message objectsHow to parse XML outputHow to parse YAML outputHow to use the Parent Document RetrieverHow to use LangChain with different Pydantic versionsHow to add chat historyHow to get a RAG application to add citationsHow to do per-user retrievalHow to get your RAG application to return sourcesHow to stream results from your RAG applicationHow to split JSON dataHow to recursively split text by charactersResponse metadataHow to pass runtime secrets to runnablesHow to do \"self-querying\" retrievalHow to split text based on semantic similarityHow to chain runnablesHow to save and load LangChain objectsHow to split text by tokensHow to split HTMLHow to do question answering over CSVsHow to deal with large databases when doing SQL question-answeringHow to better prompt when doing SQL question-answeringHow to do query validation as part of SQL question-answeringHow to stream runnablesHow to stream responses from an LLMHow to use a time-weighted vector store retrieverHow to return artifacts from a toolHow to use chat models to call toolsHow to disable parallel tool callingHow to force models to call a toolHow to access the RunnableConfig from a toolHow to pass tool outputs to chat modelsHow to pass run time values to toolsHow to stream events from a toolHow to stream tool callsHow to convert tools to OpenAI FunctionsHow to handle tool errorsHow to use few-shot prompting with tool callingHow to add a human-in-the-loop for toolsHow to bind model-specific toolsHow to trim messagesHow to create and query vector storesConceptual guideAgentsArchitectureAsync programming with LangChainCallbacksChat historyChat modelsDocument loadersEmbedding modelsEvaluationExample selectorsFew-shot promptingConceptual guideKey-value storesLangChain Expression Language (LCEL)MessagesMultimodalityOutput parsersPrompt TemplatesRetrieval augmented generation (RAG)RetrievalRetrieversRunnable interfaceStreamingStructured outputsTestingString-in, string-out llmsText splittersTokensTool callingToolsTracingVector storesWhy LangChain?Ecosystem🦜🛠️ LangSmith🦜🕸️ LangGraphVersionsv0.3v0.2Pydantic compatibilityMigrating from v0.0 chainsHow to migrate from v0.0 chainsMigrating from ConstitutionalChainMigrating from ConversationalChainMigrating from ConversationalRetrievalChainMigrating from LLMChainMigrating from LLMMathChainMigrating from LLMRouterChainMigrating from MapReduceDocumentsChainMigrating from MapRerankDocumentsChainMigrating from MultiPromptChainMigrating from RefineDocumentsChainMigrating from RetrievalQAMigrating from StuffDocumentsChainUpgrading to LangGraph memoryHow to migrate to LangGraph memoryHow to use BaseChatMessageHistory with LangGraphMigrating off ConversationBufferMemory or ConversationStringBufferMemoryMigrating off ConversationBufferWindowMemory or ConversationTokenBufferMemoryMigrating off ConversationSummaryMemory or ConversationSummaryBufferMemoryA Long-Term Memory AgentRelease policySecurity PolicyIntroductionOn this pageIntroduction\n",
      "LangChain is a framework for developing applications powered by large language models (LLMs).\n",
      "LangChain simplifies every stage of the LLM application lifecycle:\n",
      "\n",
      "Development: Build your applications using LangChain's open-source components and third-party integrations.\n",
      "Use LangGraph to build stateful agents with first-class streaming and human-in-the-loop support.\n",
      "Productionization: Use LangSmith to inspect, monitor and evaluate your applications, so that you can continuously optimize and deploy with confidence.\n",
      "Deployment: Turn your LangGraph applications into production-ready APIs and Assistants with LangGraph Platform.\n",
      "\n",
      "\n",
      "\n",
      "LangChain implements a standard interface for large language models and related\n",
      "technologies, such as embedding models and vector stores, and integrates with\n",
      "hundreds of providers. See the integrations page for\n",
      "more.\n",
      "\n",
      "Select chat model:Google Gemini▾OpenAIAnthropicAzureGoogle GeminiGoogle VertexAWSGroqCohereNVIDIAFireworks AIMistral AITogether AIIBM watsonxDatabricksxAIPerplexityDeepSeekpip install -qU \"langchain[google-genai]\"import getpassimport osif not os.environ.get(\"GOOGLE_API_KEY\"):  os.environ[\"GOOGLE_API_KEY\"] = getpass.getpass(\"Enter API key for Google Gemini: \")from langchain.chat_models import init_chat_modelmodel = init_chat_model(\"gemini-2.5-flash\", model_provider=\"google_genai\")\n",
      "model.invoke(\"Hello, world!\")\n",
      "noteThese docs focus on the Python LangChain library. Head here for docs on the JavaScript LangChain library.\n",
      "Architecture​\n",
      "The LangChain framework consists of multiple open-source libraries. Read more in the\n",
      "Architecture page.\n",
      "\n",
      "langchain-core: Base abstractions for chat models and other components.\n",
      "Integration packages (e.g. langchain-openai, langchain-anthropic, etc.): Important integrations have been split into lightweight packages that are co-maintained by the LangChain team and the integration developers.\n",
      "langchain: Chains, agents, and retrieval strategies that make up an application's cognitive architecture.\n",
      "langchain-community: Third-party integrations that are community maintained.\n",
      "langgraph: Orchestration framework for combining LangChain components into production-ready applications with persistence, streaming, and other key features. See LangGraph documentation.\n",
      "\n",
      "Guides​\n",
      "Tutorials​\n",
      "If you're looking to build something specific or are more of a hands-on learner, check out our tutorials section.\n",
      "This is the best place to get started.\n",
      "These are the best ones to get started with:\n",
      "\n",
      "Build a Simple LLM Application\n",
      "Build a Chatbot\n",
      "Build an Agent\n",
      "Introduction to LangGraph\n",
      "\n",
      "Explore the full list of LangChain tutorials here, and check out other LangGraph tutorials here. To learn more about LangGraph, check out our first LangChain Academy course, Introduction to LangGraph, available here.\n",
      "How-to guides​\n",
      "Here you’ll find short answers to “How do I….?” types of questions.\n",
      "These how-to guides don’t cover topics in depth – you’ll find that material in the Tutorials and the API Reference.\n",
      "However, these guides will help you quickly accomplish common tasks using chat models,\n",
      "vector stores, and other common LangChain components.\n",
      "Check out LangGraph-specific how-tos here.\n",
      "Conceptual guide​\n",
      "Introductions to all the key parts of LangChain you’ll need to know! Here you'll find high level explanations of all LangChain concepts.\n",
      "For a deeper dive into LangGraph concepts, check out this page.\n",
      "Integrations​\n",
      "LangChain is part of a rich ecosystem of tools that integrate with our framework and build on top of it.\n",
      "If you're looking to get up and running quickly with chat models, vector stores,\n",
      "or other LangChain components from a specific provider, check out our growing list of integrations.\n",
      "API reference​\n",
      "Head to the reference section for full documentation of all classes and methods in the LangChain Python packages.\n",
      "Ecosystem​\n",
      "🦜🛠️ LangSmith​\n",
      "Trace and evaluate your language model applications and intelligent agents to help you move from prototype to production.\n",
      "🦜🕸️ LangGraph​\n",
      "Build stateful, multi-actor applications with LLMs. Integrates smoothly with LangChain, but can be used without it. LangGraph powers production-grade agents, trusted by Linkedin, Uber, Klarna, GitLab, and many more.\n",
      "Additional resources​\n",
      "Versions​\n",
      "See what changed in v0.3, learn how to migrate legacy code, read up on our versioning policies, and more.\n",
      "Security​\n",
      "Read up on security best practices to make sure you're developing safely with LangChain.\n",
      "Contributing​\n",
      "Check out the developer's guide for guidelines on contributing and help getting your dev environment set up.Edit this pageNextTutorialsArchitectureGuidesTutorialsHow-to guidesConceptual guideIntegrationsAPI referenceEcosystem🦜🛠️ LangSmith🦜🕸️ LangGraphAdditional resourcesVersionsSecurityContributingCommunityLangChain ForumTwitterSlackGitHubOrganizationPythonJS/TSMoreHomepageBlogYouTubeCopyright © 2025 LangChain, Inc.\n",
      "\n",
      "\n"
     ]
    }
   ],
   "source": [
    "print(web_docs[0].page_content)"
   ]
  },
  {
   "cell_type": "markdown",
   "id": "8b473046",
   "metadata": {},
   "source": [
    "### 2.3 JSON 파일 "
   ]
  },
  {
   "cell_type": "code",
   "execution_count": 11,
   "id": "125d323f",
   "metadata": {
    "ExecuteTime": {
     "end_time": "2025-08-14T04:00:37.509596Z",
     "start_time": "2025-08-14T04:00:37.480273Z"
    }
   },
   "outputs": [
    {
     "name": "stdout",
     "output_type": "stream",
     "text": [
      "문서의 수: 5\n",
      "--------------------------------------------------\n",
      "처음 문서의 메타데이터: \n",
      " {'source': '/Users/laon/Documents/GitHub/llm-study/rag-basic/data/kakao_chat.json', 'seq_num': 1}\n",
      "--------------------------------------------------\n",
      "처음 문서의 내용: \n",
      " 안녕하세요 여러분, 오늘 회의 시간 확인차 연락드립니다.\n"
     ]
    }
   ],
   "source": [
    "from langchain_community.document_loaders import JSONLoader\n",
    "\n",
    "json_loader = JSONLoader(\n",
    "    file_path=\"./data/kakao_chat.json\",\n",
    "    jq_schema=\".messages[].content\",    # messages 배열의 content 필드만 추출\n",
    "    text_content=True,                  # 추출하려는 필드가 텍스트인지 여부\n",
    ")\n",
    "\n",
    "json_docs = json_loader.load()\n",
    "\n",
    "print(\"문서의 수:\", len(json_docs))\n",
    "print(\"-\" * 50)\n",
    "print(\"처음 문서의 메타데이터: \\n\", json_docs[0].metadata)\n",
    "print(\"-\" * 50)\n",
    "print(\"처음 문서의 내용: \\n\", json_docs[0].page_content)"
   ]
  },
  {
   "cell_type": "code",
   "execution_count": 12,
   "id": "3b6004a6",
   "metadata": {
    "ExecuteTime": {
     "end_time": "2025-08-14T04:01:27.744488Z",
     "start_time": "2025-08-14T04:01:27.736522Z"
    }
   },
   "outputs": [
    {
     "name": "stdout",
     "output_type": "stream",
     "text": [
      "문서의 수: 5\n",
      "--------------------------------------------------\n",
      "처음 문서의 메타데이터: \n",
      " {'source': '/Users/laon/Documents/GitHub/llm-study/rag-basic/data/kakao_chat.json', 'seq_num': 1}\n",
      "--------------------------------------------------\n",
      "처음 문서의 내용: \n",
      " {\"sender\": \"\\uae40\\ucca0\\uc218\", \"timestamp\": \"2023-09-15 09:30:22\", \"content\": \"\\uc548\\ub155\\ud558\\uc138\\uc694 \\uc5ec\\ub7ec\\ubd84, \\uc624\\ub298 \\ud68c\\uc758 \\uc2dc\\uac04 \\ud655\\uc778\\ucc28 \\uc5f0\\ub77d\\ub4dc\\ub9bd\\ub2c8\\ub2e4.\"}\n"
     ]
    }
   ],
   "source": [
    "from langchain_community.document_loaders import JSONLoader\n",
    "\n",
    "json_loader = JSONLoader(\n",
    "    file_path=\"./data/kakao_chat.json\",\n",
    "    jq_schema=\".messages[]\",    # messages 배열의 모든 아이템을 추출\n",
    "    text_content=False,          # 추출하려는 필드가 텍스트인지 여부\n",
    ")\n",
    "\n",
    "json_docs = json_loader.load()\n",
    "\n",
    "print(\"문서의 수:\", len(json_docs))\n",
    "print(\"-\" * 50)\n",
    "print(\"처음 문서의 메타데이터: \\n\", json_docs[0].metadata)\n",
    "print(\"-\" * 50)\n",
    "print(\"처음 문서의 내용: \\n\", json_docs[0].page_content)"
   ]
  },
  {
   "cell_type": "code",
   "execution_count": 13,
   "id": "6eafd1fb",
   "metadata": {
    "ExecuteTime": {
     "end_time": "2025-08-14T04:03:27.692796Z",
     "start_time": "2025-08-14T04:03:27.688274Z"
    }
   },
   "outputs": [
    {
     "name": "stdout",
     "output_type": "stream",
     "text": [
      "문서의 수: 5\n",
      "--------------------------------------------------\n",
      "처음 문서의 메타데이터: \n",
      " {'source': '/Users/laon/Documents/GitHub/llm-study/rag-basic/data/kakao_chat.json', 'seq_num': 1}\n",
      "--------------------------------------------------\n",
      "처음 문서의 내용: \n",
      " {\"sender\": \"김철수\", \"timestamp\": \"2023-09-15 09:30:22\", \"content\": \"안녕하세요 여러분, 오늘 회의 시간 확인차 연락드립니다.\"}\n"
     ]
    }
   ],
   "source": [
    "# 유니코드 디코딩 (한글 문자들이 유니코드 이스케이프 시퀀스로 인코딩되어 있음)\n",
    "from langchain_core.documents import Document\n",
    "\n",
    "decoded_json_docs = []\n",
    "for doc in json_docs:\n",
    "\n",
    "    decoded_data = json.loads(doc.page_content)\n",
    "\n",
    "    # decoded_json_docs.append({\n",
    "    #     \"metadata\": doc.metadata,\n",
    "    #     \"page_content\": json.dumps(decoded_data, ensure_ascii=False)\n",
    "    # })\n",
    "\n",
    "    document_obj = Document(page_content=json.dumps(decoded_data, ensure_ascii=False), metadata=doc.metadata)\n",
    "    decoded_json_docs.append(document_obj)\n",
    "\n",
    "print(\"문서의 수:\", len(decoded_json_docs))\n",
    "print(\"-\" * 50)\n",
    "# print(\"처음 문서의 메타데이터: \\n\", decoded_json_docs[0][\"metadata\"])\n",
    "print(\"처음 문서의 메타데이터: \\n\", decoded_json_docs[0].metadata)\n",
    "print(\"-\" * 50)\n",
    "# print(\"처음 문서의 내용: \\n\", decoded_json_docs[0][\"page_content\"])\n",
    "print(\"처음 문서의 내용: \\n\", decoded_json_docs[0].page_content)\n"
   ]
  },
  {
   "cell_type": "code",
   "execution_count": 14,
   "id": "c112cbea",
   "metadata": {
    "ExecuteTime": {
     "end_time": "2025-08-14T04:06:17.258989Z",
     "start_time": "2025-08-14T04:06:17.248219Z"
    }
   },
   "outputs": [
    {
     "name": "stdout",
     "output_type": "stream",
     "text": [
      "문서의 수: 5\n",
      "--------------------------------------------------\n",
      "처음 문서의 메타데이터: \n",
      " {'source': '/Users/laon/Documents/GitHub/llm-study/rag-basic/data/kakao_chat.json', 'seq_num': 1, 'sender': '김철수', 'timestamp': '2023-09-15 09:30:22'}\n",
      "--------------------------------------------------\n",
      "처음 문서의 내용: \n",
      " 안녕하세요 여러분, 오늘 회의 시간 확인차 연락드립니다.\n"
     ]
    }
   ],
   "source": [
    "# 메타데이터 추가하기\n",
    "def metadata_func(record: dict, metadata: dict) -> dict:\n",
    "    metadata[\"sender\"] = record.get(\"sender\")\n",
    "    metadata[\"timestamp\"] = record.get(\"timestamp\")\n",
    "    return metadata\n",
    "\n",
    "\n",
    "json_loader = JSONLoader(\n",
    "    file_path=\"./data/kakao_chat.json\",\n",
    "    jq_schema=\".messages[]\",\n",
    "    content_key=\"content\",\n",
    "    metadata_func=metadata_func,\n",
    ")\n",
    "\n",
    "json_docs = json_loader.load()\n",
    "\n",
    "print(\"문서의 수:\", len(json_docs))\n",
    "print(\"-\" * 50)\n",
    "print(\"처음 문서의 메타데이터: \\n\", json_docs[0].metadata)\n",
    "print(\"-\" * 50)\n",
    "print(\"처음 문서의 내용: \\n\", json_docs[0].page_content)"
   ]
  },
  {
   "cell_type": "markdown",
   "id": "ee0d5ede",
   "metadata": {},
   "source": [
    "```json\n",
    "{\"sender\": \"김철수\", \"timestamp\": \"2023-09-15 09:30:22\", \"content\": \"안녕하세요 여러분, 오늘 회의 시간 확인차 연락드립니다.\"}\n",
    "{\"sender\": \"이영희\", \"timestamp\": \"2023-09-15 09:31:05\", \"content\": \"네, 안녕하세요. 오후 2시에 하기로 했어요.\"}\n",
    "```"
   ]
  },
  {
   "cell_type": "code",
   "execution_count": 15,
   "id": "32253193",
   "metadata": {
    "ExecuteTime": {
     "end_time": "2025-08-14T04:08:22.514486Z",
     "start_time": "2025-08-14T04:08:22.505505Z"
    }
   },
   "outputs": [
    {
     "name": "stdout",
     "output_type": "stream",
     "text": [
      "문서의 수: 5\n",
      "--------------------------------------------------\n",
      "처음 문서의 메타데이터: \n",
      " {'source': '/Users/laon/Documents/GitHub/llm-study/rag-basic/data/kakao_chat.jsonl', 'seq_num': 1}\n",
      "--------------------------------------------------\n",
      "처음 문서의 내용: \n",
      " 안녕하세요 여러분, 오늘 회의 시간 확인차 연락드립니다.\n"
     ]
    }
   ],
   "source": [
    "# JSONL 파일 로드하기\n",
    "json_loader = JSONLoader(\n",
    "    file_path=\"./data/kakao_chat.jsonl\",\n",
    "    jq_schema=\".content\",\n",
    "    json_lines=True,\n",
    ")\n",
    "\n",
    "json_docs = json_loader.load()\n",
    "\n",
    "print(\"문서의 수:\", len(json_docs))\n",
    "print(\"-\" * 50)\n",
    "print(\"처음 문서의 메타데이터: \\n\", json_docs[0].metadata)\n",
    "print(\"-\" * 50)\n",
    "print(\"처음 문서의 내용: \\n\", json_docs[0].page_content)\n"
   ]
  },
  {
   "cell_type": "code",
   "execution_count": 16,
   "id": "9335e1f3",
   "metadata": {
    "ExecuteTime": {
     "end_time": "2025-08-14T04:08:53.129850Z",
     "start_time": "2025-08-14T04:08:53.122957Z"
    }
   },
   "outputs": [
    {
     "name": "stdout",
     "output_type": "stream",
     "text": [
      "문서의 수: 5\n",
      "--------------------------------------------------\n",
      "처음 문서의 메타데이터: \n",
      " {'source': '/Users/laon/Documents/GitHub/llm-study/rag-basic/data/kakao_chat.jsonl', 'seq_num': 1}\n",
      "--------------------------------------------------\n",
      "처음 문서의 내용: \n",
      " 안녕하세요 여러분, 오늘 회의 시간 확인차 연락드립니다.\n"
     ]
    }
   ],
   "source": [
    "# JSONL 파일 로드하기\n",
    "json_loader = JSONLoader(\n",
    "    file_path=\"./data/kakao_chat.jsonl\",\n",
    "    jq_schema=\".\",\n",
    "    content_key=\"content\",\n",
    "    json_lines=True,\n",
    ")\n",
    "\n",
    "json_docs = json_loader.load()\n",
    "\n",
    "print(\"문서의 수:\", len(json_docs))\n",
    "print(\"-\" * 50)\n",
    "print(\"처음 문서의 메타데이터: \\n\", json_docs[0].metadata)\n",
    "print(\"-\" * 50)\n",
    "print(\"처음 문서의 내용: \\n\", json_docs[0].page_content)\n"
   ]
  },
  {
   "cell_type": "code",
   "execution_count": 17,
   "id": "255e4ff1",
   "metadata": {
    "ExecuteTime": {
     "end_time": "2025-08-14T04:09:02.235805Z",
     "start_time": "2025-08-14T04:09:02.228421Z"
    }
   },
   "outputs": [
    {
     "name": "stdout",
     "output_type": "stream",
     "text": [
      "문서의 수: 5\n",
      "--------------------------------------------------\n",
      "처음 문서의 메타데이터: \n",
      " {'source': '/Users/laon/Documents/GitHub/llm-study/rag-basic/data/kakao_chat.jsonl', 'seq_num': 1, 'sender': '김철수', 'timestamp': '2023-09-15 09:30:22'}\n",
      "--------------------------------------------------\n",
      "처음 문서의 내용: \n",
      " 안녕하세요 여러분, 오늘 회의 시간 확인차 연락드립니다.\n"
     ]
    }
   ],
   "source": [
    "# 메타데이터 추가하기\n",
    "def metadata_func(record: dict, metadata: dict) -> dict:\n",
    "    metadata[\"sender\"] = record.get(\"sender\")\n",
    "    metadata[\"timestamp\"] = record.get(\"timestamp\")\n",
    "    return metadata\n",
    "\n",
    "json_loader = JSONLoader(\n",
    "    file_path=\"./data/kakao_chat.jsonl\",\n",
    "    jq_schema=\".\",\n",
    "    content_key=\"content\",\n",
    "    metadata_func=metadata_func,\n",
    "    json_lines=True,\n",
    ")\n",
    "\n",
    "json_docs = json_loader.load()\n",
    "\n",
    "print(\"문서의 수:\", len(json_docs))\n",
    "print(\"-\" * 50)\n",
    "print(\"처음 문서의 메타데이터: \\n\", json_docs[0].metadata)\n",
    "print(\"-\" * 50)\n",
    "print(\"처음 문서의 내용: \\n\", json_docs[0].page_content)"
   ]
  },
  {
   "cell_type": "markdown",
   "id": "c1ae07e1",
   "metadata": {},
   "source": [
    "### 2.4  CSV 문서 "
   ]
  },
  {
   "cell_type": "code",
   "execution_count": 18,
   "id": "ba7a8b7e",
   "metadata": {
    "ExecuteTime": {
     "end_time": "2025-08-14T04:11:41.350971Z",
     "start_time": "2025-08-14T04:11:41.340709Z"
    }
   },
   "outputs": [
    {
     "name": "stdout",
     "output_type": "stream",
     "text": [
      "문서의 수: 10\n",
      "--------------------------------------------------\n",
      "처음 문서의 메타데이터: \n",
      " {'source': './data/kbo_teams_2023.csv', 'row': 0}\n",
      "--------------------------------------------------\n",
      "처음 문서의 내용: \n",
      " Team: KIA 타이거즈\n",
      "City: 광주\n",
      "Founded: 1982\n",
      "Home Stadium: 광주-기아 챔피언스 필드\n",
      "Championships: 11\n",
      "Introduction: KBO 리그의 전통 강호로, 역대 최다 우승 기록을 보유하고 있다. '타이거즈 스피릿'으로 유명하며, 양현종, 안치홍 등 스타 선수들을 배출했다. 광주를 연고로 하는 유일한 프로야구팀으로 지역 사랑이 강하다.\n"
     ]
    }
   ],
   "source": [
    "from langchain_community.document_loaders.csv_loader import CSVLoader\n",
    "\n",
    "csv_loader = CSVLoader(\"./data/kbo_teams_2023.csv\")\n",
    "csv_docs = csv_loader.load()\n",
    "\n",
    "print(\"문서의 수:\", len(csv_docs))\n",
    "print(\"-\" * 50)\n",
    "print(\"처음 문서의 메타데이터: \\n\", csv_docs[0].metadata)\n",
    "print(\"-\" * 50)\n",
    "print(\"처음 문서의 내용: \\n\", csv_docs[0].page_content)"
   ]
  },
  {
   "cell_type": "markdown",
   "id": "8aae49f4",
   "metadata": {},
   "source": [
    "## 3. 효과적인 텍스트 분할 전략"
   ]
  },
  {
   "cell_type": "markdown",
   "id": "7e7e0cf4",
   "metadata": {},
   "source": [
    "### 3-1 RecursiveCharacterTextSplitter"
   ]
  },
  {
   "cell_type": "code",
   "execution_count": null,
   "id": "f6a52b52eab73754",
   "metadata": {},
   "outputs": [],
   "source": []
  },
  {
   "cell_type": "code",
   "execution_count": 22,
   "id": "7dc4bc25",
   "metadata": {
    "ExecuteTime": {
     "end_time": "2025-08-14T04:18:22.053576Z",
     "start_time": "2025-08-14T04:18:22.048985Z"
    }
   },
   "outputs": [
    {
     "name": "stdout",
     "output_type": "stream",
     "text": [
      "생성된 텍스트 청크 수: 52\n",
      "각 청크의 길이: [981, 910, 975, 451, 932, 998, 904, 907, 995, 385, 926, 953, 216, 920, 996, 829, 975, 910, 906, 870, 929, 961, 945, 997, 195, 977, 968, 947, 933, 965, 938, 915, 733, 952, 945, 948, 618, 980, 989, 994, 624, 945, 914, 946, 918, 988, 929, 929, 849, 812, 814, 817]\n"
     ]
    }
   ],
   "source": [
    "from langchain_text_splitters import RecursiveCharacterTextSplitter\n",
    "\n",
    "text_splitter = RecursiveCharacterTextSplitter(\n",
    "    chunk_size=1000,        # 청크 크기  \n",
    "    chunk_overlap=200,      # 청크 중 중복되는 부분 크기\n",
    "    length_function=len,    # 글자 수를 기준으로 분할\n",
    "    separators=[\"\\n\\n\", \"\\n\"],  # 구분자\n",
    ")\n",
    "\n",
    "texts = text_splitter.split_documents(pdf_docs)\n",
    "print(f\"생성된 텍스트 청크 수: {len(texts)}\")\n",
    "print(f\"각 청크의 길이: {list(len(text.page_content) for text in texts)}\")"
   ]
  },
  {
   "cell_type": "markdown",
   "id": "4ee0ca46",
   "metadata": {},
   "source": [
    "- RecursiveCharacterTextSplitter는 이름에서 알 수 있듯이 재귀적으로 텍스트를 분할합니다. \n",
    "- 구분자를 순차적으로 적용하여 큰 청크에서 시작하여 점진적으로 더 작은 단위로 나눕니다. \n",
    "- 일반적으로 CharacterTextSplitter보다 더 엄격하게 크기를 준수하려고 합니다.\n"
   ]
  },
  {
   "cell_type": "code",
   "execution_count": 23,
   "id": "714ba916",
   "metadata": {
    "ExecuteTime": {
     "end_time": "2025-08-14T04:18:30.659002Z",
     "start_time": "2025-08-14T04:18:30.656045Z"
    }
   },
   "outputs": [
    {
     "name": "stdout",
     "output_type": "stream",
     "text": [
      "Provided proper attribution is provided, Google hereby grants permission to\n",
      "reproduce the tables and figures in this paper solely for use in journalistic or\n",
      "scholarly works.\n",
      "Attention Is All You Need\n",
      "\n",
      "--------------------------------------------------------------------------------------------------------------------------------------------------------------------------------------------------------\n",
      "the encoder and decoder through an attention\n",
      "mechanism. We propose a new simple network architecture, the Transformer,\n",
      "based solely on attention mechanisms, dispensing with recurrence and convolutions\n",
      "========================================================================================================================================================================================================\n",
      "\n",
      "mechanism. We propose a new simple network architecture, the Transformer,\n",
      "based solely on attention mechanisms, dispensing with recurrence and convolutions\n",
      "entirely. Experiments on two machine transla\n",
      "--------------------------------------------------------------------------------------------------------------------------------------------------------------------------------------------------------\n",
      "the\n",
      "best models from the literature. We show that the Transformer generalizes well to\n",
      "other tasks by applying it successfully to English constituency parsing both with\n",
      "large and limited training data.\n",
      "========================================================================================================================================================================================================\n",
      "\n",
      "best models from the literature. We show that the Transformer generalizes well to\n",
      "other tasks by applying it successfully to English constituency parsing both with\n",
      "large and limited training data.\n",
      "∗Eq\n",
      "--------------------------------------------------------------------------------------------------------------------------------------------------------------------------------------------------------\n",
      " experimented with novel model variants, was responsible for our initial codebase, and\n",
      "efficient inference and visualizations. Lukasz and Aidan spent countless long days designing various parts of and\n",
      "========================================================================================================================================================================================================\n",
      "\n",
      "efficient inference and visualizations. Lukasz and Aidan spent countless long days designing various parts of and\n",
      "implementing tensor2tensor, replacing our earlier codebase, greatly improving results \n",
      "--------------------------------------------------------------------------------------------------------------------------------------------------------------------------------------------------------\n",
      "ormed while at Google Brain.\n",
      "‡Work performed while at Google Research.\n",
      "31st Conference on Neural Information Processing Systems (NIPS 2017), Long Beach, CA, USA.arXiv:1706.03762v7  [cs.CL]  2 Aug 2023\n",
      "========================================================================================================================================================================================================\n",
      "\n",
      "1 Introduction\n",
      "Recurrent neural networks, long short-term memory [ 13] and gated recurrent [ 7] neural networks\n",
      "in particular, have been firmly established as state of the art approaches in sequence m\n",
      "--------------------------------------------------------------------------------------------------------------------------------------------------------------------------------------------------------\n",
      "\n",
      "sequential nature precludes parallelization within training examples, which becomes critical at longer\n",
      "sequence lengths, as memory constraints limit batching across examples. Recent work has achieved\n",
      "========================================================================================================================================================================================================\n",
      "\n"
     ]
    }
   ],
   "source": [
    "# 각 청크의 시작 부분과 끝 부분 확인\n",
    "for text in texts[:5]:\n",
    "    print(text.page_content[:200])\n",
    "    print(\"-\" * 200)\n",
    "    print(text.page_content[-200:])\n",
    "    print(\"=\" * 200)\n",
    "    print()"
   ]
  },
  {
   "cell_type": "markdown",
   "id": "fae8677d",
   "metadata": {},
   "source": [
    "### 3-2 정규표현식 사용"
   ]
  },
  {
   "cell_type": "code",
   "execution_count": 25,
   "id": "98e6e771",
   "metadata": {
    "ExecuteTime": {
     "end_time": "2025-08-14T04:26:40.730031Z",
     "start_time": "2025-08-14T04:26:40.723698Z"
    }
   },
   "outputs": [
    {
     "name": "stderr",
     "output_type": "stream",
     "text": [
      "Created a chunk of size 11, which is longer than the specified 10\n",
      "Created a chunk of size 13, which is longer than the specified 10\n"
     ]
    },
    {
     "name": "stdout",
     "output_type": "stream",
     "text": [
      "생성된 텍스트 청크 수: 9\n",
      "각 청크의 길이: [31, 9, 15, 7, 11, 11, 27, 13, 13]\n",
      "\n",
      "안녕하세요 여러분, 오늘 회의 시간 확인차 연락드립니다.\n",
      "--------------------------------------------------\n",
      "안녕하세요 여러분, 오늘 회의 시간 확인차 연락드립니다.\n",
      "==================================================\n",
      "\n",
      "네, 안녕하세요.\n",
      "--------------------------------------------------\n",
      "네, 안녕하세요.\n",
      "==================================================\n",
      "\n",
      "오후 2시에 하기로 했어요.\n",
      "--------------------------------------------------\n",
      "오후 2시에 하기로 했어요.\n",
      "==================================================\n",
      "\n",
      "확인했습니다.\n",
      "--------------------------------------------------\n",
      "확인했습니다.\n",
      "==================================================\n",
      "\n",
      "회의실은 어디인가요?\n",
      "--------------------------------------------------\n",
      "회의실은 어디인가요?\n",
      "==================================================\n",
      "\n"
     ]
    }
   ],
   "source": [
    "# 문장을 구분하여 분할 (마침표, 느낌표, 물음표 다음에 공백이 오는 경우 문장의 끝으로 판단)\n",
    "from langchain_text_splitters import CharacterTextSplitter\n",
    "\n",
    "text_splitter = CharacterTextSplitter(\n",
    "    chunk_size=10,\n",
    "    chunk_overlap=0,\n",
    "    separator=r'(?<=[.!?])\\s+',\n",
    "    is_separator_regex=True,\n",
    "    keep_separator=True,\n",
    ")\n",
    "\n",
    "texts = text_splitter.split_documents(json_docs)\n",
    "print(f\"생성된 텍스트 청크 수: {len(texts)}\")\n",
    "print(f\"각 청크의 길이: {list(len(text.page_content) for text in texts)}\")\n",
    "print()\n",
    "\n",
    "# 각 청크의 시작 부분과 끝 부분 확인\n",
    "for text in texts[:5]:\n",
    "    print(text.page_content[:50])\n",
    "    print(\"-\" * 50)\n",
    "    print(text.page_content[-50:])\n",
    "    print(\"=\" * 50)\n",
    "    print()"
   ]
  },
  {
   "cell_type": "markdown",
   "id": "8bbe562f",
   "metadata": {},
   "source": [
    "### 3-3 토큰 수를 기반으로 분할"
   ]
  },
  {
   "cell_type": "markdown",
   "id": "d9198b73",
   "metadata": {},
   "source": [
    "`(1) tiktoken`  \n",
    "- OpenAI에서 만든 BPE Tokenizer"
   ]
  },
  {
   "cell_type": "code",
   "execution_count": 26,
   "id": "bdea518c",
   "metadata": {
    "ExecuteTime": {
     "end_time": "2025-08-14T04:32:30.801876Z",
     "start_time": "2025-08-14T04:32:30.791286Z"
    }
   },
   "outputs": [
    {
     "data": {
      "text/plain": [
       "2853"
      ]
     },
     "execution_count": 26,
     "metadata": {},
     "output_type": "execute_result"
    }
   ],
   "source": [
    "len(pdf_docs[0].page_content)"
   ]
  },
  {
   "cell_type": "code",
   "execution_count": 27,
   "id": "49b5fda6",
   "metadata": {
    "ExecuteTime": {
     "end_time": "2025-08-14T04:33:54.083399Z",
     "start_time": "2025-08-14T04:33:51.624210Z"
    }
   },
   "outputs": [
    {
     "name": "stdout",
     "output_type": "stream",
     "text": [
      "생성된 청크 수: 3\n",
      "각 청크의 길이: [1140, 1374, 337]\n",
      "Provided proper attribution is provided, Google he\n",
      "--------------------------------------------------\n",
      "ng more parallelizable and requiring significantly\n",
      "==================================================\n",
      "\n",
      "less time to train. Our model achieves 28.4 BLEU o\n",
      "--------------------------------------------------\n",
      "countless long days designing various parts of and\n",
      "==================================================\n",
      "\n",
      "implementing tensor2tensor, replacing our earlier \n",
      "--------------------------------------------------\n",
      "h, CA, USA.arXiv:1706.03762v7  [cs.CL]  2 Aug 2023\n",
      "==================================================\n",
      "\n"
     ]
    }
   ],
   "source": [
    "from langchain_text_splitters import RecursiveCharacterTextSplitter\n",
    "\n",
    "text_splitter = RecursiveCharacterTextSplitter.from_tiktoken_encoder(\n",
    "    encoding_name=\"cl100k_base\", \n",
    "    # model_name=\"gpt-4o-mini\",\n",
    "    chunk_size=300, #글자 수가 아닌 토큰 수 \n",
    "    chunk_overlap=0,\n",
    ")\n",
    "\n",
    "chunks = text_splitter.split_documents(pdf_docs[:1])\n",
    "\n",
    "print(f\"생성된 청크 수: {len(chunks)}\")\n",
    "print(f\"각 청크의 길이: {list(len(chunk.page_content) for chunk in chunks)}\")\n",
    "\n",
    "# 각 청크의 시작 부분과 끝 부분 확인\n",
    "for chunk in chunks[:5]:\n",
    "    print(chunk.page_content[:50])\n",
    "    print(\"-\" * 50)\n",
    "    print(chunk.page_content[-50:])\n",
    "    print(\"=\" * 50)\n",
    "    print()"
   ]
  },
  {
   "cell_type": "code",
   "execution_count": 28,
   "id": "f10e8b4b",
   "metadata": {
    "ExecuteTime": {
     "end_time": "2025-08-14T04:34:46.954136Z",
     "start_time": "2025-08-14T04:34:46.949855Z"
    }
   },
   "outputs": [
    {
     "name": "stdout",
     "output_type": "stream",
     "text": [
      "283\n",
      "[36919, 291, 6300, 63124, 374, 3984, 11, 5195, 22552, 25076]\n",
      "['Provid', 'ed', ' proper', ' attribution', ' is', ' provided', ',', ' Google', ' hereby', ' grants']\n",
      "==================================================\n",
      "\n",
      "291\n",
      "[1752, 892, 311, 5542, 13, 5751, 1646, 83691, 220, 1591]\n",
      "['less', ' time', ' to', ' train', '.', ' Our', ' model', ' achieves', ' ', '28']\n",
      "==================================================\n",
      "\n",
      "83\n",
      "[95574, 287, 16000, 17, 47211, 11, 25935, 1057, 6931, 2082]\n",
      "['implement', 'ing', ' tensor', '2', 'tensor', ',', ' replacing', ' our', ' earlier', ' code']\n",
      "==================================================\n",
      "\n"
     ]
    }
   ],
   "source": [
    "import tiktoken\n",
    "\n",
    "tokenizer = tiktoken.get_encoding(\"cl100k_base\")\n",
    "# tokenizer = tiktoken.encoding_for_model(\"gpt-4o-mini\")\n",
    "\n",
    "for chunk in chunks[:5]:\n",
    "\n",
    "    # 각 청크를 토큰화\n",
    "    tokens = tokenizer.encode(chunk.page_content)\n",
    "    # 각 청크의 단어 수 확인\n",
    "    print(len(tokens))\n",
    "    # 각 청크의 토큰화 결과 확인 (첫 10개 토큰만 출력)\n",
    "    print(tokens[:10])\n",
    "    # 토큰 ID를 실제 토큰(문자열)로 변환해서 출력\n",
    "    token_strings = [tokenizer.decode([token]) for token in tokens[:10]]\n",
    "    print(token_strings)\n",
    "\n",
    "    print(\"=\" * 50)\n",
    "    print()"
   ]
  },
  {
   "cell_type": "markdown",
   "id": "a4b01677",
   "metadata": {},
   "source": [
    "`(2) Hugging Face 토크나이저`  \n",
    "- Hugging Face tokenizer 모델이 토큰 수를 기준으로 분할"
   ]
  },
  {
   "cell_type": "code",
   "execution_count": 29,
   "id": "c6872bee",
   "metadata": {
    "ExecuteTime": {
     "end_time": "2025-08-14T04:37:16.390573Z",
     "start_time": "2025-08-14T04:37:14.257973Z"
    }
   },
   "outputs": [
    {
     "name": "stderr",
     "output_type": "stream",
     "text": [
      "None of PyTorch, TensorFlow >= 2.0, or Flax have been found. Models won't be available and only tokenizers, configuration and file/data utilities can be used.\n"
     ]
    },
    {
     "ename": "OSError",
     "evalue": "PermissionError at /Users/laon/.cache/huggingface/hub/models--BAAI--bge-m3 when downloading BAAI/bge-m3. Check cache directory permissions. Common causes: 1) another user is downloading the same model (please wait); 2) a previous download was canceled and the lock file needs manual removal.",
     "output_type": "error",
     "traceback": [
      "\u001B[31m---------------------------------------------------------------------------\u001B[39m",
      "\u001B[31mPermissionError\u001B[39m                           Traceback (most recent call last)",
      "\u001B[36mFile \u001B[39m\u001B[32m/opt/anaconda3/envs/llm-study-env/lib/python3.11/site-packages/transformers/utils/hub.py:479\u001B[39m, in \u001B[36mcached_files\u001B[39m\u001B[34m(path_or_repo_id, filenames, cache_dir, force_download, resume_download, proxies, token, revision, local_files_only, subfolder, repo_type, user_agent, _raise_exceptions_for_gated_repo, _raise_exceptions_for_missing_entries, _raise_exceptions_for_connection_errors, _commit_hash, **deprecated_kwargs)\u001B[39m\n\u001B[32m    477\u001B[39m \u001B[38;5;28;01mif\u001B[39;00m \u001B[38;5;28mlen\u001B[39m(full_filenames) == \u001B[32m1\u001B[39m:\n\u001B[32m    478\u001B[39m     \u001B[38;5;66;03m# This is slightly better for only 1 file\u001B[39;00m\n\u001B[32m--> \u001B[39m\u001B[32m479\u001B[39m     \u001B[43mhf_hub_download\u001B[49m\u001B[43m(\u001B[49m\n\u001B[32m    480\u001B[39m \u001B[43m        \u001B[49m\u001B[43mpath_or_repo_id\u001B[49m\u001B[43m,\u001B[49m\n\u001B[32m    481\u001B[39m \u001B[43m        \u001B[49m\u001B[43mfilenames\u001B[49m\u001B[43m[\u001B[49m\u001B[32;43m0\u001B[39;49m\u001B[43m]\u001B[49m\u001B[43m,\u001B[49m\n\u001B[32m    482\u001B[39m \u001B[43m        \u001B[49m\u001B[43msubfolder\u001B[49m\u001B[43m=\u001B[49m\u001B[38;5;28;43;01mNone\u001B[39;49;00m\u001B[43m \u001B[49m\u001B[38;5;28;43;01mif\u001B[39;49;00m\u001B[43m \u001B[49m\u001B[38;5;28;43mlen\u001B[39;49m\u001B[43m(\u001B[49m\u001B[43msubfolder\u001B[49m\u001B[43m)\u001B[49m\u001B[43m \u001B[49m\u001B[43m==\u001B[49m\u001B[43m \u001B[49m\u001B[32;43m0\u001B[39;49m\u001B[43m \u001B[49m\u001B[38;5;28;43;01melse\u001B[39;49;00m\u001B[43m \u001B[49m\u001B[43msubfolder\u001B[49m\u001B[43m,\u001B[49m\n\u001B[32m    483\u001B[39m \u001B[43m        \u001B[49m\u001B[43mrepo_type\u001B[49m\u001B[43m=\u001B[49m\u001B[43mrepo_type\u001B[49m\u001B[43m,\u001B[49m\n\u001B[32m    484\u001B[39m \u001B[43m        \u001B[49m\u001B[43mrevision\u001B[49m\u001B[43m=\u001B[49m\u001B[43mrevision\u001B[49m\u001B[43m,\u001B[49m\n\u001B[32m    485\u001B[39m \u001B[43m        \u001B[49m\u001B[43mcache_dir\u001B[49m\u001B[43m=\u001B[49m\u001B[43mcache_dir\u001B[49m\u001B[43m,\u001B[49m\n\u001B[32m    486\u001B[39m \u001B[43m        \u001B[49m\u001B[43muser_agent\u001B[49m\u001B[43m=\u001B[49m\u001B[43muser_agent\u001B[49m\u001B[43m,\u001B[49m\n\u001B[32m    487\u001B[39m \u001B[43m        \u001B[49m\u001B[43mforce_download\u001B[49m\u001B[43m=\u001B[49m\u001B[43mforce_download\u001B[49m\u001B[43m,\u001B[49m\n\u001B[32m    488\u001B[39m \u001B[43m        \u001B[49m\u001B[43mproxies\u001B[49m\u001B[43m=\u001B[49m\u001B[43mproxies\u001B[49m\u001B[43m,\u001B[49m\n\u001B[32m    489\u001B[39m \u001B[43m        \u001B[49m\u001B[43mresume_download\u001B[49m\u001B[43m=\u001B[49m\u001B[43mresume_download\u001B[49m\u001B[43m,\u001B[49m\n\u001B[32m    490\u001B[39m \u001B[43m        \u001B[49m\u001B[43mtoken\u001B[49m\u001B[43m=\u001B[49m\u001B[43mtoken\u001B[49m\u001B[43m,\u001B[49m\n\u001B[32m    491\u001B[39m \u001B[43m        \u001B[49m\u001B[43mlocal_files_only\u001B[49m\u001B[43m=\u001B[49m\u001B[43mlocal_files_only\u001B[49m\u001B[43m,\u001B[49m\n\u001B[32m    492\u001B[39m \u001B[43m    \u001B[49m\u001B[43m)\u001B[49m\n\u001B[32m    493\u001B[39m \u001B[38;5;28;01melse\u001B[39;00m:\n",
      "\u001B[36mFile \u001B[39m\u001B[32m/opt/anaconda3/envs/llm-study-env/lib/python3.11/site-packages/huggingface_hub/utils/_validators.py:114\u001B[39m, in \u001B[36mvalidate_hf_hub_args.<locals>._inner_fn\u001B[39m\u001B[34m(*args, **kwargs)\u001B[39m\n\u001B[32m    112\u001B[39m     kwargs = smoothly_deprecate_use_auth_token(fn_name=fn.\u001B[34m__name__\u001B[39m, has_token=has_token, kwargs=kwargs)\n\u001B[32m--> \u001B[39m\u001B[32m114\u001B[39m \u001B[38;5;28;01mreturn\u001B[39;00m \u001B[43mfn\u001B[49m\u001B[43m(\u001B[49m\u001B[43m*\u001B[49m\u001B[43margs\u001B[49m\u001B[43m,\u001B[49m\u001B[43m \u001B[49m\u001B[43m*\u001B[49m\u001B[43m*\u001B[49m\u001B[43mkwargs\u001B[49m\u001B[43m)\u001B[49m\n",
      "\u001B[36mFile \u001B[39m\u001B[32m/opt/anaconda3/envs/llm-study-env/lib/python3.11/site-packages/huggingface_hub/file_download.py:1010\u001B[39m, in \u001B[36mhf_hub_download\u001B[39m\u001B[34m(repo_id, filename, subfolder, repo_type, revision, library_name, library_version, cache_dir, local_dir, user_agent, force_download, proxies, etag_timeout, token, local_files_only, headers, endpoint, resume_download, force_filename, local_dir_use_symlinks)\u001B[39m\n\u001B[32m   1009\u001B[39m \u001B[38;5;28;01melse\u001B[39;00m:\n\u001B[32m-> \u001B[39m\u001B[32m1010\u001B[39m     \u001B[38;5;28;01mreturn\u001B[39;00m \u001B[43m_hf_hub_download_to_cache_dir\u001B[49m\u001B[43m(\u001B[49m\n\u001B[32m   1011\u001B[39m \u001B[43m        \u001B[49m\u001B[38;5;66;43;03m# Destination\u001B[39;49;00m\n\u001B[32m   1012\u001B[39m \u001B[43m        \u001B[49m\u001B[43mcache_dir\u001B[49m\u001B[43m=\u001B[49m\u001B[43mcache_dir\u001B[49m\u001B[43m,\u001B[49m\n\u001B[32m   1013\u001B[39m \u001B[43m        \u001B[49m\u001B[38;5;66;43;03m# File info\u001B[39;49;00m\n\u001B[32m   1014\u001B[39m \u001B[43m        \u001B[49m\u001B[43mrepo_id\u001B[49m\u001B[43m=\u001B[49m\u001B[43mrepo_id\u001B[49m\u001B[43m,\u001B[49m\n\u001B[32m   1015\u001B[39m \u001B[43m        \u001B[49m\u001B[43mfilename\u001B[49m\u001B[43m=\u001B[49m\u001B[43mfilename\u001B[49m\u001B[43m,\u001B[49m\n\u001B[32m   1016\u001B[39m \u001B[43m        \u001B[49m\u001B[43mrepo_type\u001B[49m\u001B[43m=\u001B[49m\u001B[43mrepo_type\u001B[49m\u001B[43m,\u001B[49m\n\u001B[32m   1017\u001B[39m \u001B[43m        \u001B[49m\u001B[43mrevision\u001B[49m\u001B[43m=\u001B[49m\u001B[43mrevision\u001B[49m\u001B[43m,\u001B[49m\n\u001B[32m   1018\u001B[39m \u001B[43m        \u001B[49m\u001B[38;5;66;43;03m# HTTP info\u001B[39;49;00m\n\u001B[32m   1019\u001B[39m \u001B[43m        \u001B[49m\u001B[43mendpoint\u001B[49m\u001B[43m=\u001B[49m\u001B[43mendpoint\u001B[49m\u001B[43m,\u001B[49m\n\u001B[32m   1020\u001B[39m \u001B[43m        \u001B[49m\u001B[43metag_timeout\u001B[49m\u001B[43m=\u001B[49m\u001B[43metag_timeout\u001B[49m\u001B[43m,\u001B[49m\n\u001B[32m   1021\u001B[39m \u001B[43m        \u001B[49m\u001B[43mheaders\u001B[49m\u001B[43m=\u001B[49m\u001B[43mhf_headers\u001B[49m\u001B[43m,\u001B[49m\n\u001B[32m   1022\u001B[39m \u001B[43m        \u001B[49m\u001B[43mproxies\u001B[49m\u001B[43m=\u001B[49m\u001B[43mproxies\u001B[49m\u001B[43m,\u001B[49m\n\u001B[32m   1023\u001B[39m \u001B[43m        \u001B[49m\u001B[43mtoken\u001B[49m\u001B[43m=\u001B[49m\u001B[43mtoken\u001B[49m\u001B[43m,\u001B[49m\n\u001B[32m   1024\u001B[39m \u001B[43m        \u001B[49m\u001B[38;5;66;43;03m# Additional options\u001B[39;49;00m\n\u001B[32m   1025\u001B[39m \u001B[43m        \u001B[49m\u001B[43mlocal_files_only\u001B[49m\u001B[43m=\u001B[49m\u001B[43mlocal_files_only\u001B[49m\u001B[43m,\u001B[49m\n\u001B[32m   1026\u001B[39m \u001B[43m        \u001B[49m\u001B[43mforce_download\u001B[49m\u001B[43m=\u001B[49m\u001B[43mforce_download\u001B[49m\u001B[43m,\u001B[49m\n\u001B[32m   1027\u001B[39m \u001B[43m    \u001B[49m\u001B[43m)\u001B[49m\n",
      "\u001B[36mFile \u001B[39m\u001B[32m/opt/anaconda3/envs/llm-study-env/lib/python3.11/site-packages/huggingface_hub/file_download.py:1127\u001B[39m, in \u001B[36m_hf_hub_download_to_cache_dir\u001B[39m\u001B[34m(cache_dir, repo_id, filename, repo_type, revision, endpoint, etag_timeout, headers, proxies, token, local_files_only, force_download)\u001B[39m\n\u001B[32m   1125\u001B[39m pointer_path = _get_pointer_path(storage_folder, commit_hash, relative_filename)\n\u001B[32m-> \u001B[39m\u001B[32m1127\u001B[39m \u001B[43mos\u001B[49m\u001B[43m.\u001B[49m\u001B[43mmakedirs\u001B[49m\u001B[43m(\u001B[49m\u001B[43mos\u001B[49m\u001B[43m.\u001B[49m\u001B[43mpath\u001B[49m\u001B[43m.\u001B[49m\u001B[43mdirname\u001B[49m\u001B[43m(\u001B[49m\u001B[43mblob_path\u001B[49m\u001B[43m)\u001B[49m\u001B[43m,\u001B[49m\u001B[43m \u001B[49m\u001B[43mexist_ok\u001B[49m\u001B[43m=\u001B[49m\u001B[38;5;28;43;01mTrue\u001B[39;49;00m\u001B[43m)\u001B[49m\n\u001B[32m   1128\u001B[39m os.makedirs(os.path.dirname(pointer_path), exist_ok=\u001B[38;5;28;01mTrue\u001B[39;00m)\n",
      "\u001B[36mFile \u001B[39m\u001B[32m<frozen os>:215\u001B[39m, in \u001B[36mmakedirs\u001B[39m\u001B[34m(name, mode, exist_ok)\u001B[39m\n",
      "\u001B[36mFile \u001B[39m\u001B[32m<frozen os>:225\u001B[39m, in \u001B[36mmakedirs\u001B[39m\u001B[34m(name, mode, exist_ok)\u001B[39m\n",
      "\u001B[31mPermissionError\u001B[39m: [Errno 13] Permission denied: '/Users/laon/.cache/huggingface/hub/models--BAAI--bge-m3'",
      "\nThe above exception was the direct cause of the following exception:\n",
      "\u001B[31mOSError\u001B[39m                                   Traceback (most recent call last)",
      "\u001B[36mCell\u001B[39m\u001B[36m \u001B[39m\u001B[32mIn[29]\u001B[39m\u001B[32m, line 2\u001B[39m\n\u001B[32m      1\u001B[39m \u001B[38;5;28;01mfrom\u001B[39;00m\u001B[38;5;250m \u001B[39m\u001B[34;01mtransformers\u001B[39;00m\u001B[38;5;250m \u001B[39m\u001B[38;5;28;01mimport\u001B[39;00m AutoTokenizer\n\u001B[32m----> \u001B[39m\u001B[32m2\u001B[39m tokenizer = \u001B[43mAutoTokenizer\u001B[49m\u001B[43m.\u001B[49m\u001B[43mfrom_pretrained\u001B[49m\u001B[43m(\u001B[49m\u001B[33;43m\"\u001B[39;49m\u001B[33;43mBAAI/bge-m3\u001B[39;49m\u001B[33;43m\"\u001B[39;49m\u001B[43m)\u001B[49m\n\u001B[32m      4\u001B[39m tokenizer\n",
      "\u001B[36mFile \u001B[39m\u001B[32m/opt/anaconda3/envs/llm-study-env/lib/python3.11/site-packages/transformers/models/auto/tokenization_auto.py:1049\u001B[39m, in \u001B[36mAutoTokenizer.from_pretrained\u001B[39m\u001B[34m(cls, pretrained_model_name_or_path, *inputs, **kwargs)\u001B[39m\n\u001B[32m   1046\u001B[39m     \u001B[38;5;28;01mreturn\u001B[39;00m tokenizer_class.from_pretrained(pretrained_model_name_or_path, *inputs, **kwargs)\n\u001B[32m   1048\u001B[39m \u001B[38;5;66;03m# Next, let's try to use the tokenizer_config file to get the tokenizer class.\u001B[39;00m\n\u001B[32m-> \u001B[39m\u001B[32m1049\u001B[39m tokenizer_config = \u001B[43mget_tokenizer_config\u001B[49m\u001B[43m(\u001B[49m\u001B[43mpretrained_model_name_or_path\u001B[49m\u001B[43m,\u001B[49m\u001B[43m \u001B[49m\u001B[43m*\u001B[49m\u001B[43m*\u001B[49m\u001B[43mkwargs\u001B[49m\u001B[43m)\u001B[49m\n\u001B[32m   1050\u001B[39m \u001B[38;5;28;01mif\u001B[39;00m \u001B[33m\"\u001B[39m\u001B[33m_commit_hash\u001B[39m\u001B[33m\"\u001B[39m \u001B[38;5;129;01min\u001B[39;00m tokenizer_config:\n\u001B[32m   1051\u001B[39m     kwargs[\u001B[33m\"\u001B[39m\u001B[33m_commit_hash\u001B[39m\u001B[33m\"\u001B[39m] = tokenizer_config[\u001B[33m\"\u001B[39m\u001B[33m_commit_hash\u001B[39m\u001B[33m\"\u001B[39m]\n",
      "\u001B[36mFile \u001B[39m\u001B[32m/opt/anaconda3/envs/llm-study-env/lib/python3.11/site-packages/transformers/models/auto/tokenization_auto.py:881\u001B[39m, in \u001B[36mget_tokenizer_config\u001B[39m\u001B[34m(pretrained_model_name_or_path, cache_dir, force_download, resume_download, proxies, token, revision, local_files_only, subfolder, **kwargs)\u001B[39m\n\u001B[32m    878\u001B[39m     token = use_auth_token\n\u001B[32m    880\u001B[39m commit_hash = kwargs.get(\u001B[33m\"\u001B[39m\u001B[33m_commit_hash\u001B[39m\u001B[33m\"\u001B[39m)\n\u001B[32m--> \u001B[39m\u001B[32m881\u001B[39m resolved_config_file = \u001B[43mcached_file\u001B[49m\u001B[43m(\u001B[49m\n\u001B[32m    882\u001B[39m \u001B[43m    \u001B[49m\u001B[43mpretrained_model_name_or_path\u001B[49m\u001B[43m,\u001B[49m\n\u001B[32m    883\u001B[39m \u001B[43m    \u001B[49m\u001B[43mTOKENIZER_CONFIG_FILE\u001B[49m\u001B[43m,\u001B[49m\n\u001B[32m    884\u001B[39m \u001B[43m    \u001B[49m\u001B[43mcache_dir\u001B[49m\u001B[43m=\u001B[49m\u001B[43mcache_dir\u001B[49m\u001B[43m,\u001B[49m\n\u001B[32m    885\u001B[39m \u001B[43m    \u001B[49m\u001B[43mforce_download\u001B[49m\u001B[43m=\u001B[49m\u001B[43mforce_download\u001B[49m\u001B[43m,\u001B[49m\n\u001B[32m    886\u001B[39m \u001B[43m    \u001B[49m\u001B[43mresume_download\u001B[49m\u001B[43m=\u001B[49m\u001B[43mresume_download\u001B[49m\u001B[43m,\u001B[49m\n\u001B[32m    887\u001B[39m \u001B[43m    \u001B[49m\u001B[43mproxies\u001B[49m\u001B[43m=\u001B[49m\u001B[43mproxies\u001B[49m\u001B[43m,\u001B[49m\n\u001B[32m    888\u001B[39m \u001B[43m    \u001B[49m\u001B[43mtoken\u001B[49m\u001B[43m=\u001B[49m\u001B[43mtoken\u001B[49m\u001B[43m,\u001B[49m\n\u001B[32m    889\u001B[39m \u001B[43m    \u001B[49m\u001B[43mrevision\u001B[49m\u001B[43m=\u001B[49m\u001B[43mrevision\u001B[49m\u001B[43m,\u001B[49m\n\u001B[32m    890\u001B[39m \u001B[43m    \u001B[49m\u001B[43mlocal_files_only\u001B[49m\u001B[43m=\u001B[49m\u001B[43mlocal_files_only\u001B[49m\u001B[43m,\u001B[49m\n\u001B[32m    891\u001B[39m \u001B[43m    \u001B[49m\u001B[43msubfolder\u001B[49m\u001B[43m=\u001B[49m\u001B[43msubfolder\u001B[49m\u001B[43m,\u001B[49m\n\u001B[32m    892\u001B[39m \u001B[43m    \u001B[49m\u001B[43m_raise_exceptions_for_gated_repo\u001B[49m\u001B[43m=\u001B[49m\u001B[38;5;28;43;01mFalse\u001B[39;49;00m\u001B[43m,\u001B[49m\n\u001B[32m    893\u001B[39m \u001B[43m    \u001B[49m\u001B[43m_raise_exceptions_for_missing_entries\u001B[49m\u001B[43m=\u001B[49m\u001B[38;5;28;43;01mFalse\u001B[39;49;00m\u001B[43m,\u001B[49m\n\u001B[32m    894\u001B[39m \u001B[43m    \u001B[49m\u001B[43m_raise_exceptions_for_connection_errors\u001B[49m\u001B[43m=\u001B[49m\u001B[38;5;28;43;01mFalse\u001B[39;49;00m\u001B[43m,\u001B[49m\n\u001B[32m    895\u001B[39m \u001B[43m    \u001B[49m\u001B[43m_commit_hash\u001B[49m\u001B[43m=\u001B[49m\u001B[43mcommit_hash\u001B[49m\u001B[43m,\u001B[49m\n\u001B[32m    896\u001B[39m \u001B[43m\u001B[49m\u001B[43m)\u001B[49m\n\u001B[32m    897\u001B[39m \u001B[38;5;28;01mif\u001B[39;00m resolved_config_file \u001B[38;5;129;01mis\u001B[39;00m \u001B[38;5;28;01mNone\u001B[39;00m:\n\u001B[32m    898\u001B[39m     logger.info(\u001B[33m\"\u001B[39m\u001B[33mCould not locate the tokenizer configuration file, will try to use the model config instead.\u001B[39m\u001B[33m\"\u001B[39m)\n",
      "\u001B[36mFile \u001B[39m\u001B[32m/opt/anaconda3/envs/llm-study-env/lib/python3.11/site-packages/transformers/utils/hub.py:321\u001B[39m, in \u001B[36mcached_file\u001B[39m\u001B[34m(path_or_repo_id, filename, **kwargs)\u001B[39m\n\u001B[32m    263\u001B[39m \u001B[38;5;28;01mdef\u001B[39;00m\u001B[38;5;250m \u001B[39m\u001B[34mcached_file\u001B[39m(\n\u001B[32m    264\u001B[39m     path_or_repo_id: Union[\u001B[38;5;28mstr\u001B[39m, os.PathLike],\n\u001B[32m    265\u001B[39m     filename: \u001B[38;5;28mstr\u001B[39m,\n\u001B[32m    266\u001B[39m     **kwargs,\n\u001B[32m    267\u001B[39m ) -> Optional[\u001B[38;5;28mstr\u001B[39m]:\n\u001B[32m    268\u001B[39m \u001B[38;5;250m    \u001B[39m\u001B[33;03m\"\"\"\u001B[39;00m\n\u001B[32m    269\u001B[39m \u001B[33;03m    Tries to locate a file in a local folder and repo, downloads and cache it if necessary.\u001B[39;00m\n\u001B[32m    270\u001B[39m \n\u001B[32m   (...)\u001B[39m\u001B[32m    319\u001B[39m \u001B[33;03m    ```\u001B[39;00m\n\u001B[32m    320\u001B[39m \u001B[33;03m    \"\"\"\u001B[39;00m\n\u001B[32m--> \u001B[39m\u001B[32m321\u001B[39m     file = \u001B[43mcached_files\u001B[49m\u001B[43m(\u001B[49m\u001B[43mpath_or_repo_id\u001B[49m\u001B[43m=\u001B[49m\u001B[43mpath_or_repo_id\u001B[49m\u001B[43m,\u001B[49m\u001B[43m \u001B[49m\u001B[43mfilenames\u001B[49m\u001B[43m=\u001B[49m\u001B[43m[\u001B[49m\u001B[43mfilename\u001B[49m\u001B[43m]\u001B[49m\u001B[43m,\u001B[49m\u001B[43m \u001B[49m\u001B[43m*\u001B[49m\u001B[43m*\u001B[49m\u001B[43mkwargs\u001B[49m\u001B[43m)\u001B[49m\n\u001B[32m    322\u001B[39m     file = file[\u001B[32m0\u001B[39m] \u001B[38;5;28;01mif\u001B[39;00m file \u001B[38;5;129;01mis\u001B[39;00m \u001B[38;5;129;01mnot\u001B[39;00m \u001B[38;5;28;01mNone\u001B[39;00m \u001B[38;5;28;01melse\u001B[39;00m file\n\u001B[32m    323\u001B[39m     \u001B[38;5;28;01mreturn\u001B[39;00m file\n",
      "\u001B[36mFile \u001B[39m\u001B[32m/opt/anaconda3/envs/llm-study-env/lib/python3.11/site-packages/transformers/utils/hub.py:524\u001B[39m, in \u001B[36mcached_files\u001B[39m\u001B[34m(path_or_repo_id, filenames, cache_dir, force_download, resume_download, proxies, token, revision, local_files_only, subfolder, repo_type, user_agent, _raise_exceptions_for_gated_repo, _raise_exceptions_for_missing_entries, _raise_exceptions_for_connection_errors, _commit_hash, **deprecated_kwargs)\u001B[39m\n\u001B[32m    518\u001B[39m     \u001B[38;5;28;01mraise\u001B[39;00m \u001B[38;5;167;01mOSError\u001B[39;00m(\n\u001B[32m    519\u001B[39m         \u001B[33mf\u001B[39m\u001B[33m\"\u001B[39m\u001B[38;5;132;01m{\u001B[39;00mrevision\u001B[38;5;132;01m}\u001B[39;00m\u001B[33m is not a valid git identifier (branch name, tag name or commit id) that exists \u001B[39m\u001B[33m\"\u001B[39m\n\u001B[32m    520\u001B[39m         \u001B[33m\"\u001B[39m\u001B[33mfor this model name. Check the model page at \u001B[39m\u001B[33m\"\u001B[39m\n\u001B[32m    521\u001B[39m         \u001B[33mf\u001B[39m\u001B[33m\"\u001B[39m\u001B[33m'\u001B[39m\u001B[33mhttps://huggingface.co/\u001B[39m\u001B[38;5;132;01m{\u001B[39;00mpath_or_repo_id\u001B[38;5;132;01m}\u001B[39;00m\u001B[33m'\u001B[39m\u001B[33m for available revisions.\u001B[39m\u001B[33m\"\u001B[39m\n\u001B[32m    522\u001B[39m     ) \u001B[38;5;28;01mfrom\u001B[39;00m\u001B[38;5;250m \u001B[39m\u001B[34;01me\u001B[39;00m\n\u001B[32m    523\u001B[39m \u001B[38;5;28;01melif\u001B[39;00m \u001B[38;5;28misinstance\u001B[39m(e, \u001B[38;5;167;01mPermissionError\u001B[39;00m):\n\u001B[32m--> \u001B[39m\u001B[32m524\u001B[39m     \u001B[38;5;28;01mraise\u001B[39;00m \u001B[38;5;167;01mOSError\u001B[39;00m(\n\u001B[32m    525\u001B[39m         \u001B[33mf\u001B[39m\u001B[33m\"\u001B[39m\u001B[33mPermissionError at \u001B[39m\u001B[38;5;132;01m{\u001B[39;00me.filename\u001B[38;5;132;01m}\u001B[39;00m\u001B[33m when downloading \u001B[39m\u001B[38;5;132;01m{\u001B[39;00mpath_or_repo_id\u001B[38;5;132;01m}\u001B[39;00m\u001B[33m. \u001B[39m\u001B[33m\"\u001B[39m\n\u001B[32m    526\u001B[39m         \u001B[33m\"\u001B[39m\u001B[33mCheck cache directory permissions. Common causes: 1) another user is downloading the same model (please wait); \u001B[39m\u001B[33m\"\u001B[39m\n\u001B[32m    527\u001B[39m         \u001B[33m\"\u001B[39m\u001B[33m2) a previous download was canceled and the lock file needs manual removal.\u001B[39m\u001B[33m\"\u001B[39m\n\u001B[32m    528\u001B[39m     ) \u001B[38;5;28;01mfrom\u001B[39;00m\u001B[38;5;250m \u001B[39m\u001B[34;01me\u001B[39;00m\n\u001B[32m    530\u001B[39m \u001B[38;5;66;03m# Now we try to recover if we can find all files correctly in the cache\u001B[39;00m\n\u001B[32m    531\u001B[39m resolved_files = [\n\u001B[32m    532\u001B[39m     _get_cache_file_to_return(path_or_repo_id, filename, cache_dir, revision, repo_type)\n\u001B[32m    533\u001B[39m     \u001B[38;5;28;01mfor\u001B[39;00m filename \u001B[38;5;129;01min\u001B[39;00m full_filenames\n\u001B[32m    534\u001B[39m ]\n",
      "\u001B[31mOSError\u001B[39m: PermissionError at /Users/laon/.cache/huggingface/hub/models--BAAI--bge-m3 when downloading BAAI/bge-m3. Check cache directory permissions. Common causes: 1) another user is downloading the same model (please wait); 2) a previous download was canceled and the lock file needs manual removal."
     ]
    }
   ],
   "source": [
    "from transformers import AutoTokenizer\n",
    "tokenizer = AutoTokenizer.from_pretrained(\"BAAI/bge-m3\")\n",
    "\n",
    "tokenizer"
   ]
  },
  {
   "cell_type": "code",
   "execution_count": 30,
   "id": "1477bfbc",
   "metadata": {
    "ExecuteTime": {
     "end_time": "2025-08-14T04:37:33.039078Z",
     "start_time": "2025-08-14T04:37:33.036261Z"
    }
   },
   "outputs": [
    {
     "name": "stdout",
     "output_type": "stream",
     "text": [
      "[31495, 230, 75265, 243, 92245, 13, 64857, 14705, 239, 39331, 13]\n"
     ]
    }
   ],
   "source": [
    "# 토크나이저 인코딩\n",
    "tokens = tokenizer.encode(\"안녕하세요. 반갑습니다.\")\n",
    "print(tokens)"
   ]
  },
  {
   "cell_type": "code",
   "execution_count": 35,
   "id": "c07cafbc",
   "metadata": {},
   "outputs": [
    {
     "name": "stdout",
     "output_type": "stream",
     "text": [
      "['<s>', '▁안녕하세요', '.', '▁반', '갑', '습니다', '.', '</s>']\n"
     ]
    }
   ],
   "source": [
    "# 토큰을 출력\n",
    "print(tokenizer.convert_ids_to_tokens(tokens)) "
   ]
  },
  {
   "cell_type": "code",
   "execution_count": 36,
   "id": "fdcf6a3a",
   "metadata": {},
   "outputs": [
    {
     "name": "stdout",
     "output_type": "stream",
     "text": [
      "<s> 안녕하세요. 반갑습니다.</s>\n"
     ]
    }
   ],
   "source": [
    "# 디코딩\n",
    "print(tokenizer.decode(tokens))"
   ]
  },
  {
   "cell_type": "code",
   "execution_count": 37,
   "id": "311dec97",
   "metadata": {},
   "outputs": [
    {
     "name": "stdout",
     "output_type": "stream",
     "text": [
      "생성된 청크 수: 3\n",
      "각 청크의 길이: [749, 1094, 1008]\n",
      "\n",
      "204\n",
      "[0, 123089, 71, 27798, 99, 179236, 83, 62952, 4, 1815]\n",
      "['<s>', '▁Provide', 'd', '▁proper', '▁at', 'tribution', '▁is', '▁provided', ',', '▁Google']\n",
      "==================================================\n",
      "\n",
      "248\n",
      "[0, 51339, 214, 115774, 2843, 37067, 70, 22, 587, 820]\n",
      "['<s>', '▁perform', 'ing', '▁models', '▁also', '▁connect', '▁the', '▁en', 'co', 'der']\n",
      "==================================================\n",
      "\n",
      "232\n",
      "[0, 70, 71834, 47, 151575, 13, 903, 6528, 5, 62]\n",
      "['<s>', '▁the', '▁effort', '▁to', '▁evaluat', 'e', '▁this', '▁idea', '.', '▁A']\n",
      "==================================================\n",
      "\n"
     ]
    }
   ],
   "source": [
    "from langchain_text_splitters import RecursiveCharacterTextSplitter\n",
    "\n",
    "text_splitter = RecursiveCharacterTextSplitter.from_huggingface_tokenizer(\n",
    "    tokenizer=tokenizer,\n",
    "    chunk_size=300, \n",
    "    chunk_overlap=0,\n",
    ")\n",
    "\n",
    "chunks = text_splitter.split_documents(pdf_docs[:1])\n",
    "\n",
    "print(f\"생성된 청크 수: {len(chunks)}\")\n",
    "print(f\"각 청크의 길이: {list(len(chunk.page_content) for chunk in chunks)}\")\n",
    "print()\n",
    "\n",
    "for chunk in chunks[:5]:\n",
    "\n",
    "    # 각 청크를 토큰화\n",
    "    tokens = tokenizer.encode(chunk.page_content)\n",
    "    # 각 청크의 단어 수 확인\n",
    "    print(len(tokens))\n",
    "    # 각 청크의 토큰화 결과 확인 (첫 10개 토큰만 출력)\n",
    "    print(tokens[:10])\n",
    "    # 토큰 ID를 실제 토큰(문자열)로 변환해서 출력\n",
    "    token_strings = tokenizer.convert_ids_to_tokens(tokens[:10]) \n",
    "    print(token_strings)\n",
    "\n",
    "    print(\"=\" * 50)\n",
    "    print()"
   ]
  },
  {
   "cell_type": "markdown",
   "id": "2bc751ee",
   "metadata": {},
   "source": [
    "### 3-4 Semantic Chunking"
   ]
  },
  {
   "cell_type": "code",
   "execution_count": 31,
   "id": "043984b2",
   "metadata": {
    "ExecuteTime": {
     "end_time": "2025-08-14T04:41:16.468641Z",
     "start_time": "2025-08-14T04:41:15.534869Z"
    }
   },
   "outputs": [],
   "source": [
    "from langchain_experimental.text_splitter import SemanticChunker\n",
    "from langchain_openai.embeddings import OpenAIEmbeddings\n",
    "\n",
    "# 임베딩 모델을 사용하여 SemanticChunker를 초기화 \n",
    "text_splitter = SemanticChunker(\n",
    "    embeddings=OpenAIEmbeddings(),         # OpenAI 임베딩 사용\n",
    "    breakpoint_threshold_type=\"gradient\",  # 기준점 타입 설정 (gradient, percentile, standard_deviation, interquartile)\n",
    "    )"
   ]
  },
  {
   "cell_type": "code",
   "execution_count": 32,
   "id": "e067dc67",
   "metadata": {
    "ExecuteTime": {
     "end_time": "2025-08-14T04:42:03.470158Z",
     "start_time": "2025-08-14T04:42:02.580155Z"
    }
   },
   "outputs": [
    {
     "name": "stdout",
     "output_type": "stream",
     "text": [
      "생성된 청크 수: 2\n",
      "각 청크의 길이: [1736, 1116]\n",
      "\n",
      "424\n",
      "Provided proper attribution is provided, Google hereby grants permission to\n",
      "reproduce the tables and\n",
      "==================================================\n",
      "\n",
      "237\n",
      "∗Equal contribution. Listing order is random. Jakob proposed replacing RNNs with self-attention and \n",
      "==================================================\n",
      "\n"
     ]
    }
   ],
   "source": [
    "chunks = text_splitter.split_documents(pdf_docs[:1])\n",
    "\n",
    "print(f\"생성된 청크 수: {len(chunks)}\")\n",
    "print(f\"각 청크의 길이: {list(len(chunk.page_content) for chunk in chunks)}\")\n",
    "print()\n",
    "\n",
    "\n",
    "tokenizer = tiktoken.get_encoding(\"cl100k_base\")\n",
    "\n",
    "\n",
    "for chunk in chunks[:5]:\n",
    "\n",
    "    # 각 청크를 토큰화\n",
    "\n",
    "    tokens = tokenizer.encode(chunk.page_content)\n",
    "    # 각 청크의 단어 수 확인\n",
    "    print(len(tokens))\n",
    "    # 각 청크의 내용을 확인\n",
    "    print(chunk.page_content[:100])\n",
    "\n",
    "    print(\"=\" * 50)\n",
    "    print()"
   ]
  },
  {
   "cell_type": "markdown",
   "id": "6dc16413",
   "metadata": {},
   "source": [
    "## 4. 문서 임베딩(Embedding) 모델"
   ]
  },
  {
   "cell_type": "markdown",
   "id": "315e28ef",
   "metadata": {},
   "source": [
    "### 4-1 OpenAI "
   ]
  },
  {
   "cell_type": "markdown",
   "id": "d905110a",
   "metadata": {},
   "source": [
    "`(1) embedding 모델`"
   ]
  },
  {
   "cell_type": "code",
   "execution_count": 33,
   "id": "617a2cfb",
   "metadata": {
    "ExecuteTime": {
     "end_time": "2025-08-14T05:14:44.678890Z",
     "start_time": "2025-08-14T05:14:44.638740Z"
    }
   },
   "outputs": [
    {
     "data": {
      "text/plain": [
       "OpenAIEmbeddings(client=<openai.resources.embeddings.Embeddings object at 0x177d83b10>, async_client=<openai.resources.embeddings.AsyncEmbeddings object at 0x177d5b310>, model='text-embedding-3-small', dimensions=None, deployment='text-embedding-ada-002', openai_api_version=None, openai_api_base=None, openai_api_type=None, openai_proxy=None, embedding_ctx_length=8191, openai_api_key=SecretStr('**********'), openai_organization=None, allowed_special=None, disallowed_special=None, chunk_size=1000, max_retries=2, request_timeout=None, headers=None, tiktoken_enabled=True, tiktoken_model_name=None, show_progress_bar=False, model_kwargs={}, skip_empty=False, default_headers=None, default_query=None, retry_min_seconds=4, retry_max_seconds=20, http_client=None, http_async_client=None, check_embedding_ctx_length=True)"
      ]
     },
     "execution_count": 33,
     "metadata": {},
     "output_type": "execute_result"
    }
   ],
   "source": [
    "from langchain_openai import OpenAIEmbeddings\n",
    "\n",
    "# OpenAIEmbeddings 모델 생성\n",
    "embeddings_model = OpenAIEmbeddings(model=\"text-embedding-3-small\")\n",
    "\n",
    "# 임베딩 객체 출력\n",
    "embeddings_model"
   ]
  },
  {
   "cell_type": "code",
   "execution_count": 34,
   "id": "9f3123b5",
   "metadata": {
    "ExecuteTime": {
     "end_time": "2025-08-14T05:14:46.465157Z",
     "start_time": "2025-08-14T05:14:46.462352Z"
    }
   },
   "outputs": [
    {
     "data": {
      "text/plain": [
       "8191"
      ]
     },
     "execution_count": 34,
     "metadata": {},
     "output_type": "execute_result"
    }
   ],
   "source": [
    "# 임베딩 모델의 컨텍스트 길이 확인\n",
    "embeddings_model.embedding_ctx_length"
   ]
  },
  {
   "cell_type": "markdown",
   "id": "8ac45eaf",
   "metadata": {},
   "source": [
    "`(2) embed_documents 사용`"
   ]
  },
  {
   "cell_type": "code",
   "execution_count": 35,
   "id": "adb43129",
   "metadata": {
    "ExecuteTime": {
     "end_time": "2025-08-14T05:16:21.013008Z",
     "start_time": "2025-08-14T05:16:19.863142Z"
    }
   },
   "outputs": [
    {
     "name": "stdout",
     "output_type": "stream",
     "text": [
      "임베딩 벡터의 개수: 5\n",
      "임베딩 벡터의 차원: 1536\n",
      "[-0.002310403622686863, 0.012099752202630043, -0.002436630427837372, 0.015039036981761456, 0.018447164446115494, -0.04565808176994324, -0.003119608387351036, 0.046956416219472885, -0.018239790573716164, -0.031881313771009445, 0.006847810931503773, 0.006965021602809429, -0.018591422587633133, -0.027138788253068924, 0.004891293589025736, -0.015580009669065475, -0.041546691209077835, 0.010053073056042194, 0.05157271400094032, -0.045874472707509995, -0.01464232336729765, -0.027751890942454338, -0.018753714859485626, -0.022702815011143684, 0.004363845102488995, -0.03981557860970497, 0.05031044781208038, 0.017716851085424423, 0.00028372881934046745, -0.023333948105573654, 0.048976048827171326, -0.015273458324372768, -0.029933813959360123, -0.06159874051809311, 0.02044876292347908, 0.03537960350513458, 0.002585398033261299, -0.006807237863540649, -0.005130222998559475, 0.02477654255926609, 0.00756459916010499, 0.02753550186753273, -0.0025651114992797375, 0.025984713807702065, -0.017996354028582573, 0.005590049549937248, -0.025840455666184425, 0.0036064835730940104, 0.0075150104239583015, 0.056657858192920685, -0.025010963901877403, 0.030096106231212616, 0.007974836975336075, -0.03480256721377373, -0.0020331551786512136, 0.09542755782604218, 0.01380381640046835, 0.0292846467345953, 0.003762013278901577, 0.030276430770754814, 0.015165263786911964, 0.01509313378483057, 0.0036650889087468386, 0.02093563787639141, -0.0518612340092659, -0.024379828944802284, 0.036389417946338654, 0.026183070614933968, -0.01988975703716278, -0.02921251766383648, 0.008971127681434155, -0.019637303426861763, -0.04508104547858238, 0.02122415602207184, -0.000698756193742156, -0.012388271279633045, -0.0649167075753212, 0.025461774319410324, 0.01275793556123972, 0.024379828944802284, -0.004253396764397621, 0.0005328016122803092, 0.048002295196056366, -0.059939756989479065, -0.009241614490747452, -0.02282904088497162, -0.00111462885979563, -0.057667672634124756, -0.05326776206493378, -0.004670396447181702, -0.030492819845676422, 0.049012113362550735, 0.0043886397033929825, 0.0041722506284713745, -0.05305137485265732, 0.03235015645623207, 0.061057768762111664, -0.052149754017591476, 0.0037980780471116304, 0.02787811867892742, -0.05168091133236885, -0.005729801021516323, 0.0318993479013443, 0.05474642291665077, 0.001877625472843647, -0.021620869636535645, -0.007194934878498316, 0.019835660234093666, -0.021692998707294464, 0.008159669116139412, -0.010161267593502998, -0.004936374258249998, -0.07566402852535248, 0.040609005838632584, -0.05795619264245033, -0.01954714208841324, 0.02850925363600254, -0.023297883570194244, -0.023388046771287918, -0.0073527186177670956, -0.023496240377426147, 0.02962726354598999, 0.03447798267006874, -0.004454007372260094, -0.01800536923110485, -0.0248126070946455, 0.014948874711990356, -0.03269277513027191, -0.025083092972636223, -0.004357083234935999, -0.004864244721829891, -0.026615848764777184, -0.012135817669332027, 0.02798631228506565, 0.041727013885974884, -0.016526710242033005, 0.005242925602942705, 0.0251912884414196, -0.001341161085292697, -0.05326776206493378, 0.019258622080087662, -0.019529107958078384, 0.01779799722135067, 0.012784983962774277, -0.028942031785845757, -0.05251040309667587, -0.012929243966937065, 0.01793324016034603, 0.03988770768046379, 0.041546691209077835, -0.046920351684093475, -0.01880781166255474, -0.07057888060808182, -0.039238542318344116, -0.05052683502435684, 0.024163439869880676, 0.0005026536528021097, 0.03278293460607529, -0.011856314726173878, -0.028635479509830475, 0.008231799118220806, -0.008191226050257683, -0.03319768235087395, 0.009971926920115948, -0.026110941544175148, 0.040609005838632584, -0.022342165932059288, 0.046920351684093475, -0.018681585788726807, 0.002396057592704892, -0.027842054143548012, -0.010386672802269459, -0.024488024413585663, -0.021260220557451248, 0.005842503625899553, 0.014651339501142502, 0.021368416026234627, 0.01573328487575054, -0.049048177897930145, -0.026237167418003082, -0.030961662530899048, -0.018681585788726807, -0.0002795024774968624, 0.027030594646930695, -0.008358025923371315, -0.024794574826955795, 0.016689002513885498, -0.04771377891302109, -0.029122354462742805, 0.019384849816560745, 0.03651564568281174, 0.026128973811864853, 0.019222557544708252, 0.043566323816776276, 0.008258847519755363, -0.026615848764777184, -0.0011743612121790648, -0.05377266928553581, -0.010756337083876133, -0.0032345650251954794, 0.028942031785845757, -0.040500812232494354, -0.025389645248651505, -0.01397512387484312, 0.012262044474482536, 0.00656830845400691, 0.04187127575278282, 0.006784697063267231, -0.03161082789301872, -0.026814205572009087, -0.01869961805641651, -0.02551587112247944, 0.07328374683856964, 0.00046461651800200343, -0.03409930318593979, -0.06033647060394287, 0.020304502919316292, 0.007587139960378408, -0.014083318412303925, 0.03011413849890232, -0.006577324587851763, -0.008141636848449707, 0.013028422370553017, -0.005220384802669287, 0.005184320267289877, -0.0026192087680101395, 0.021692998707294464, -0.036245159804821014, 0.02593061700463295, -0.03418946638703346, -0.023568371310830116, 0.02977152168750763, 0.0028333435766398907, -0.00833999365568161, 0.0023442143574357033, -0.01326284371316433, -0.011730087921023369, -0.02272084727883339, 0.011459602043032646, 0.0057388171553611755, 0.008425647392868996, -0.00024780488456599414, -0.005125714931637049, -0.020015984773635864, -0.008646544069051743, -0.00591463316231966, -0.0004423577629495412, 0.027355177327990532, -0.00403024535626173, -0.011802217923104763, 0.01794225536286831, -0.028797771781682968, 0.023532304912805557, -0.02115202695131302, 0.011360423639416695, 0.004638839513063431, 0.030042007565498352, -0.026814205572009087, 0.005450298544019461, -0.0020162498112767935, -0.01451609656214714, 0.013641524128615856, -0.026201102882623672, -0.032332126051187515, 0.013217762112617493, 0.007271572481840849, -0.002925759879872203, 0.027156822383403778, -0.03887789323925972, -0.026147006079554558, -0.013289892114698887, 0.04035655036568642, 0.014633307233452797, -0.025389645248651505, -0.04075326398015022, 0.012433351948857307, -0.03689432889223099, 0.021692998707294464, -0.02246839366853237, 0.05052683502435684, -0.052330076694488525, 0.029951846227049828, 0.04573021084070206, -0.003597467439249158, -0.00174689048435539, 3.349380858708173e-05, -0.036659907549619675, -0.020917605608701706, -0.012262044474482536, -0.06286101043224335, 0.06253642588853836, 0.0021548739168792963, -0.01587754487991333, 0.04320567473769188, 0.02977152168750763, -0.01769881881773472, -0.011468618176877499, 0.046848222613334656, -0.005247433669865131, 0.00660437298938632, 0.023856889456510544, -0.05838897079229355, -0.017770947888493538, -0.02055695652961731, 0.004859736654907465, 0.023983115330338478, -0.04944489151239395, 0.01605786755681038, -0.0021965738851577044, -0.03696645796298981, -0.015589025802910328, 0.007289605215191841, 0.07443781942129135, 0.009038749150931835, -0.0274273082613945, -0.01626524142920971, -0.017428332939743996, -0.0570906363427639, 0.002955062547698617, -0.017220959067344666, -0.014759534038603306, 0.03812053054571152, 0.012334173545241356, -0.02795024774968624, -0.03056494891643524, 0.012703838758170605, -0.0008695006836205721, 0.01936681754887104, -0.014687404967844486, -0.04735312983393669, 0.07169689238071442, 0.06159874051809311, -0.030492819845676422, 0.004985963460057974, -0.008204749785363674, -0.03440585359930992, -0.02679617330431938, 0.014209545217454433, -0.05081535503268242, -0.03590254485607147, -0.05636933818459511, 0.02149464190006256, -0.048110492527484894, 0.050130121409893036, 0.010305526666343212, 0.0001662363501964137, -0.0021019037812948227, 0.007753939833492041, 0.019619271159172058, -0.0006102846236899495, 0.018825843930244446, -0.0112882936373353, -0.01751849427819252, -0.020394664257764816, -0.0369303934276104, -0.006550275720655918, -0.047064609825611115, -0.008678101003170013, -0.02425360307097435, -0.04024835675954819, -0.04839900881052017, -0.0013276367681100965, 0.03786807879805565, 0.042628634721040726, 0.03985164314508438, 0.010017008520662785, 0.002522284397855401, -0.026687977835536003, -0.007086740341037512, 0.0016082662623375654, -0.03235015645623207, -0.0003755814686883241, 0.011982541531324387, -0.07144443690776825, -0.009313743561506271, -0.029879717156291008, -0.01845617964863777, 0.0270486269146204, -0.045802343636751175, 0.01612098142504692, 0.02630929835140705, 0.05499887466430664, 0.007375258952379227, -0.0225765872746706, -0.032259996980428696, 0.005364644341170788, -0.01106288842856884, -0.012658757157623768, -0.06870350986719131, 0.032223932445049286, 0.029158420860767365, -0.03200754150748253, -0.029302679002285004, 0.003845413215458393, -0.012361222878098488, -0.027319112792611122, -0.018789779394865036, -0.05539558827877045, -0.0395631268620491, 0.024488024413585663, -0.03150263428688049, -0.030997727066278458, -0.02436179667711258, 0.021999549120664597, 0.014525112695991993, -0.04032048583030701, 0.05622508004307747, 0.059723369777202606, 0.009737505577504635, 0.03458617627620697, 0.004284953232854605, -0.06257249414920807, 0.038481179624795914, -0.00038966929423622787, -0.03510911762714386, -0.049120306968688965, -0.01985369250178337, 0.033305875957012177, 0.020827442407608032, 0.0006728345761075616, 0.01947501115500927, 0.027337145060300827, 0.03995983675122261, -0.03458617627620697, 0.007064200006425381, 0.02044876292347908, 0.037327107042074203, 0.0052699740044772625, 0.05283498391509056, -0.012225979007780552, -0.004823671653866768, 0.006744124460965395, -0.023225754499435425, -0.0034261594992130995, -0.05178910493850708, -0.0007274953532032669, 0.023225754499435425, 0.015561976470053196, -0.009710457175970078, 0.024469992145895958, 0.0032638676930218935, -0.02118809148669243, 0.006203151773661375, -0.02153070643544197, -0.014056270010769367, 0.038481179624795914, -0.0292846467345953, -0.02492080256342888, -0.010891580954194069, -0.05366447567939758, 0.02903219312429428, -0.065313421189785, 0.030997727066278458, 0.03891395777463913, -0.015543944202363491, -0.04937276244163513, 0.021278252825140953, -0.034459952265024185, 0.01141452044248581, 0.024830639362335205, -0.0006970656686462462, 0.016625888645648956, -0.026056844741106033, -0.008303928188979626, -0.005693736020475626, 0.038372986018657684, 0.04634331539273262, 0.006847810931503773, -0.051464520394802094, 0.038445115089416504, -0.011279277503490448, -0.035722218453884125, 0.01794225536286831, -0.02309952676296234, 0.015002971515059471, -0.0002056822704616934, -0.004523883108049631, -0.013073503039777279, -0.04500891640782356, -0.0071543618105351925, 0.00863752793520689, -0.002470441162586212, 0.010684208013117313, 0.011261245235800743, 0.035992708057165146, 0.04230405390262604, -0.06726092100143433, 0.005982254631817341, 0.059867627918720245, -0.0047064609825611115, 0.012415319681167603, -0.03267474099993706, 0.07941477000713348, 0.0025606034323573112, 0.02969939261674881, 0.049012113362550735, -0.012162866070866585, 0.006437573116272688, 0.010675191879272461, 0.013181697577238083, 0.023460175842046738, -0.029753489419817924, -0.010287494398653507, 0.02771582640707493, 0.005513411946594715, -0.0004795496060978621, -0.052257947623729706, 0.02208971232175827, -0.004264666698873043, -0.019745497032999992, 0.03207967057824135, 0.04302534833550453, -0.003737218677997589, 0.009737505577504635, -0.009800619445741177, 0.006671994458884001, -0.009313743561506271, 0.007943280041217804, 0.027174854651093483, -0.027228951454162598, -0.009313743561506271, -0.022288069128990173, -0.029014160856604576, 0.0022934982553124428, -0.000124254627735354, -0.05420544743537903, -0.009620294906198978, -0.01660785637795925, 0.00949406810104847, -0.017121780663728714, 0.016139013692736626, -0.01713981293141842, 0.015543944202363491, -0.03913034871220589, -0.01796930469572544, 0.013010389171540737, 0.010152251459658146, 0.01512919832020998, -0.04190734028816223, -0.010630110278725624, 0.016382452100515366, -0.014813631772994995, 0.009313743561506271, 0.0249929316341877, -0.007194934878498316, 0.047064609825611115, -0.01102682389318943, -0.037110716104507446, 0.003840905148535967, 0.029050225391983986, 0.020430728793144226, 0.00036177539732307196, 0.03696645796298981, -0.02302739769220352, 0.011198131367564201, -0.0045982664451003075, 0.00649167038500309, -0.025948649272322655, -0.0026349870022386312, -0.02690436691045761, 0.008583431132137775, -0.020791377872228622, -0.04212372750043869, -0.004192537162452936, 0.008457204326987267, 0.010494867339730263, 0.028455154970288277, -0.01643654890358448, 0.021873323246836662, 0.029483003541827202, -0.04554988816380501, 0.029789553955197334, -0.016382452100515366, 0.06235610321164131, -0.009800619445741177, -0.04205159842967987, 0.01003504078835249, -0.027301080524921417, -0.012117785401642323, 0.024542121216654778, 0.020502859726548195, 0.015480831265449524, 0.03202557563781738, 0.013154649175703526, 0.04075326398015022, 5.191364107304253e-05, 0.002767976140603423, 0.020502859726548195, 0.03262064605951309, -0.029230549931526184, 0.0341353677213192, 0.018519293516874313, -0.01380381640046835, -0.027319112792611122, -0.025732260197401047, -0.015787381678819656, 0.007699842564761639, 0.016274256631731987, 0.01378578320145607, 0.024379828944802284, -0.004967931192368269, 0.012902195565402508, 0.020466795191168785, 0.00526095787063241, -0.024830639362335205, -0.031773120164871216, -0.015796398743987083, 0.036245159804821014, 0.007442880421876907, -0.010458802804350853, -0.013443167321383953, 0.008312944322824478, 0.008087539114058018, -0.02324378676712513, -0.005815454758703709, -0.011144034564495087, 0.0005040624528191984, 0.0001804650528356433, 0.026147006079554558, -0.014957890845835209, 0.00886293314397335, -0.006500686518847942, 0.03366652503609657, -0.016111966222524643, 0.0043886397033929825, -0.031051823869347572, 0.0013129854341968894, -0.009394889697432518, -0.02093563787639141, 0.0017018094658851624, 0.00767730176448822, 0.07328374683856964, -0.013587427325546741, 0.036064837127923965, -0.009467019699513912, -0.06589045375585556, -0.0112882936373353, -0.006365443579852581, 0.012505481950938702, -0.009358825162053108, -0.022630684077739716, 0.004562201909720898, 0.009503084234893322, -0.031105920672416687, 0.029374809935688972, -0.008804327808320522, 0.0011512571945786476, -0.02872564271092415, 0.009047766216099262, 0.006784697063267231, 0.003432921599596739, -0.0253716129809618, -0.033414069563150406, 0.01266777329146862, -0.004546423442661762, -0.016770148649811745, -0.0036200080066919327, -0.030510852113366127, 0.023965083062648773, 0.0015812176279723644, 0.009881764650344849, -0.013848897069692612, 0.02041269652545452, -0.015381652861833572, -0.006699043326079845, 0.04645150899887085, 0.019456978887319565, 0.03640745207667351, -0.007014610804617405, -0.011784185655415058, -0.028419090434908867, 0.01936681754887104, 0.011135018430650234, 0.009575214236974716, -0.04032048583030701, 0.03364849090576172, 0.0020849984139204025, 0.01738325133919716, 0.04280896112322807, 0.03812053054571152, -0.014993955381214619, -0.018302904441952705, -0.018167661502957344, -0.043710581958293915, 0.017220959067344666, 0.004291715566068888, 0.014398885890841484, 0.01880781166255474, 0.019529107958078384, -0.0630413368344307, 0.015787381678819656, 0.029086289927363396, -0.025065060704946518, -0.004591504577547312, -0.065313421189785, -0.013001373037695885, 0.018573390319943428, -0.03959919139742851, -0.03272883966565132, 0.0253716129809618, -0.02484867163002491, 0.008817852474749088, 0.012171882204711437, -0.023514272645115852, -0.025804391130805016, -0.01576934941112995, 0.04536956548690796, -0.007726890966296196, -0.010882563889026642, -0.0035771809052675962, -0.01988975703716278, 0.000534492137376219, -0.018230775371193886, -0.010422737337648869, 0.03604680299758911, -0.008394090458750725, 0.04446794465184212, -0.0225765872746706, 0.009521116502583027, -0.04288109019398689, -0.026706011965870857, -0.025876520201563835, -0.012469417415559292, -0.012523514218628407, -0.005220384802669287, -0.027102723717689514, -0.0391664132475853, -0.007952296175062656, -0.03388291224837303, -0.00030683286604471505, 0.02526341751217842, -0.010693224146962166, -0.021656934171915054, -0.008596954867243767, 0.060047950595617294, -0.008015410043299198, -0.03876969963312149, -0.004372861236333847, -0.023748693987727165, -0.017563575878739357, 0.00011636544513748959, -0.018753714859485626, 0.027138788253068924, 0.03491076081991196, -0.017644720152020454, 0.026183070614933968, 0.0001629961479920894, 0.0019497552420943975, 0.013848897069692612, -0.04432368278503418, 0.009845700114965439, -0.002871662611141801, 0.03198951110243797, -0.025533903390169144, 0.00037501793121919036, -0.009926846250891685, 0.013037438504397869, 0.005089649930596352, 0.013668572530150414, -0.02306346222758293, 0.024451958015561104, 0.020809410139918327, 0.0016950472490862012, 0.0092325983569026, 0.0016860311152413487, 0.0021717792842537165, 0.004302985966205597, -0.02373066172003746, -0.002817565342411399, 0.012559578754007816, 0.029014160856604576, -0.012875146232545376, -0.005657671019434929, 0.0014347042888402939, 0.04017622768878937, -0.001599250128492713, 0.00623020064085722, -0.04785803705453873, -0.005856027826666832, 0.03148460015654564, 0.011531731113791466, -0.0201422106474638, -0.019384849816560745, -0.001532755559310317, -0.008087539114058018, -0.021206123754382133, 0.02641749195754528, 0.033341940492391586, -0.009602262638509274, -0.024343764409422874, -0.0050535849295556545, 0.021368416026234627, -0.040536876767873764, -0.005044568795710802, -0.013362022116780281, 0.011775168590247631, 0.002903219312429428, 0.012000573799014091, 0.0027972788084298372, -0.002849122043699026, 0.03815659508109093, 0.007695334497839212, 0.043710581958293915, 0.034604210406541824, 0.05398906022310257, 0.009169484488666058, -0.015327555127441883, 0.045802343636751175, -0.046956416219472885, -0.02921251766383648, 0.03260261192917824, -0.010512899607419968, -0.015327555127441883, 0.04569414630532265, -0.019619271159172058, -0.032512448728084564, -0.008898998610675335, -0.0026147007010877132, -0.005883076228201389, -0.014416918158531189, 0.03157476335763931, 0.00036459293914958835, -0.005675703752785921, -0.010476835072040558, 0.03866150602698326, -0.01490379311144352, -0.018131596967577934, 0.023604435846209526, -0.031322311609983444, 0.0047425259836018085, 0.07681810110807419, 0.018897974863648415, 0.033937010914087296, 0.0006131022237241268, 0.035055018961429596, 0.0009241614025086164, -0.01768980175256729, -0.010269462130963802, -0.028112540021538734, 0.032368190586566925, -0.013812832534313202, 0.006478146184235811, 0.002256306353956461, 0.018176676705479622, -0.035055018961429596, -0.0024591709952801466, -0.01765373721718788, 0.016950473189353943, -0.021620869636535645, -0.006252740975469351, -0.03159279748797417, 0.007203951012343168, 0.024902768433094025, -0.009791603311896324, 0.0663953647017479, 0.013280875980854034, 0.018420115113258362, -0.015381652861833572, 0.020899573341012, -0.007735907565802336, 0.011883363127708435, 0.03409930318593979, 0.0358123816549778, -0.017302105203270912, 0.03220589831471443, -0.017284072935581207, 0.001178869279101491, 0.022143809124827385, 0.0010954693425446749, 0.01581443101167679, 0.029194485396146774, 0.05171697586774826, -0.014813631772994995, -0.01734718680381775, -0.016310323029756546, -0.024866703897714615, -0.005062601529061794, 0.021999549120664597, -0.010864531621336937, -0.014344788156449795, 0.01266777329146862, -0.0820835679769516, 0.024596218019723892, -0.03485666587948799, 0.01832093670964241, -0.008844900876283646, -0.011964509263634682, 0.025678163394331932, -0.04746132344007492, 0.04208766296505928, -0.0030790353193879128, -0.03280096873641014, 0.011405504308640957, -0.012739903293550014, 0.028437122702598572, 0.03977951407432556, -0.01842913217842579, 0.009971926920115948, -0.0034013648983091116, 0.010729288682341576, -0.02007008157670498, -0.027156822383403778, -0.01432675588876009, -0.03703858703374863, -0.018122579902410507, 0.020538924261927605, 0.01626524142920971, 0.013758734799921513, 0.015625089406967163, -0.03658777475357056, 0.013948075473308563, 0.02391098625957966, -0.00041474562021903694, -0.021692998707294464, 0.011522714979946613, -0.05413331836462021, 0.013443167321383953, 0.02373066172003746, -0.07465421408414841, -0.004792115185409784, -0.008921538479626179, -0.009557181969285011, -0.001341161085292697, 0.0044968342408537865, 0.026724044233560562, 0.02787811867892742, -0.0402844212949276, -0.05160878226161003, -0.03179115429520607, 0.021963484585285187, 0.0026890842709690332, -0.010242413729429245, 0.010476835072040558, -0.012352206744253635, -0.005256449803709984, 0.001291571999900043, -0.011594844982028008, 0.00802442617714405, 0.008542858064174652, -0.06992971897125244, 0.00034317944664508104, -0.03070920705795288, -0.013073503039777279, -0.006694535259157419, -0.03213376924395561, 0.0065367515198886395, 0.025533903390169144, 0.006910924334079027, 0.010467818938195705, 0.048002295196056366, 0.007731399033218622, -0.06390689313411713, 0.023225754499435425, -0.0020478065125644207, 0.0274273082613945, 0.018266839906573296, 0.05810045078396797, 0.006176103372126818, -0.011162066832184792, 0.010720272548496723, 0.0008339993073605001, -0.05315956845879555, 0.005328579340130091, -0.012965308502316475, -0.013416118919849396, -0.01106288842856884, 0.0031331325881183147, -0.009421938098967075, 0.0066269137896597385, 0.019078297540545464, 0.015300506725907326, -0.01909632980823517, 0.027138788253068924, 0.013767750933766365, 0.009385873563587666, -0.021729063242673874, 0.024794574826955795, -0.032368190586566925, -0.02044876292347908, -0.03649761527776718, 0.05481855198740959, 0.006509703118354082, 0.005517920013517141, -0.01601278781890869, 0.03981557860970497, -0.007127313409000635, 0.025353580713272095, 0.01776193268597126, -0.0010098153725266457, -0.014633307233452797, -0.0010594045743346214, -0.03794020786881447, 0.00276572210714221, -0.052438270300626755, 0.04320567473769188, -0.00830843672156334, -0.0008441425743512809, -0.04764164984226227, -0.017013587057590485, 0.0021819225512444973, -0.025533903390169144, 0.016553759574890137, -0.021837258711457253, -0.022594619542360306, 0.008817852474749088, -0.028833836317062378, -0.04558595269918442, -0.00023442142992280424, 0.016454581171274185, 0.02906825765967369, 0.030312495306134224, -0.012812033295631409, 0.021584805101156235, -0.00018638194887898862, 0.03361242637038231, 0.02286510542035103, -0.03085346706211567, 0.014047253876924515, 0.017085716128349304, -0.0028108032420277596, 0.009917830117046833, -0.03750742971897125, 0.02787811867892742, -0.0455138236284256, -0.01598573848605156, 0.0034509541001170874, 0.024506056681275368, -0.01685129478573799, 0.003834142815321684, 0.01845617964863777, -0.023081494495272636, 0.005003996193408966, -0.004548677243292332, 0.022774944081902504, -0.015589025802910328, 0.04991373419761658, -0.022666748613119125, -0.023784758523106575, 0.054602161049842834, 0.005468330811709166, -0.00012115530989831313, 0.021368416026234627, -0.007469929289072752, 0.009746521711349487, -0.007997377775609493, 0.010449786670506, -0.03312555328011513, -0.014471015892922878, -0.006261757109314203, 0.056513600051403046, 0.02544374205172062, 0.007001086138188839, -0.02659781649708748, 0.030835434794425964, -0.023496240377426147, 0.027842054143548012, -0.043602388352155685, 0.00687485933303833, -0.0007844101637601852, -6.311346078291535e-05, -0.03619106486439705, -0.0020906333811581135, -0.00911087915301323, 0.020683184266090393, -0.010215364396572113, 0.012739903293550014, -0.013930043205618858, 0.02477654255926609, -0.00021103564358782023, -0.007203951012343168, 6.399395351763815e-05, -0.009259646758437157, 0.010179299861192703, -0.0324583537876606, 0.013479232788085938, 0.007614188361912966, -0.05478248745203018, -0.03335997462272644, 0.012379255145788193, 0.009034241549670696, 0.02421753667294979, 0.020701216533780098, 0.02118809148669243, 0.022450361400842667, 0.005720784422010183, 0.02977152168750763, 0.017374234274029732, 0.0067892055958509445, 0.005472838878631592, -0.020196307450532913, -0.03563205897808075, -0.00875924713909626, -0.016878344118595123, -0.004174504894763231, -0.004312002100050449, 0.01909632980823517, -0.01741029880940914, 0.02630929835140705, 0.019420914351940155, -0.01902420073747635, 0.007240016013383865, 0.01958320662379265, -0.026742076501250267, 0.00975553784519434, -0.011053872294723988, -0.017338169738650322, -0.018537325784564018, -0.041438497602939606, 0.009701441042125225, 0.039382800459861755, 0.028671544045209885, 0.02659781649708748, 0.014092334546148777, -0.005170796066522598, -0.03655171021819115, 0.01940288208425045, -0.018402082845568657, 0.009277679026126862, -0.005463822744786739, 0.022847073152661324, -0.009467019699513912, -0.0029415381141006947, -0.04540563002228737, 0.02935677580535412, 0.016878344118595123, -0.0024321223609149456, -0.010891580954194069, 0.009971926920115948, 0.0034780027344822884, 0.010539948008954525, -0.0328189991414547, 0.013966107740998268, 0.009313743561506271, -0.010332575999200344, 0.025047028437256813, -0.032999325543642044, -0.011089936830103397, 0.0008768263505771756, -0.013010389171540737, 0.02156677283346653, -0.005653162952512503, 0.017058666795492172, -0.014543144963681698, 0.0009838937548920512, -0.018591422587633133, 0.0006424048915505409, -0.03530747443437576, -0.008980143815279007, 0.026724044233560562, -0.0023599928244948387, 0.00806049071252346, -0.005896600894629955, -0.01661687344312668, -0.012541546486318111, 0.010062089189887047, -0.030474785715341568, -0.004406671971082687, 0.02331591583788395, -0.003888240084052086, 0.05103174224495888, 0.01633737049996853, -0.03417143225669861, -0.02712075598537922, 0.02959119714796543, -0.043602388352155685, 0.005626114550977945, 0.011351407505571842, -0.02488473616540432, 0.02648962289094925, -0.019168460741639137, -0.01591360941529274, -0.006144546438008547, 0.005544968415051699, 0.006676502991467714, 0.015174279920756817, -0.004643347579985857, 0.0028085492085665464, -0.0014031475875526667, -0.005143747199326754, -0.0061174980364739895, 0.01154976338148117, 0.061021704226732254, 0.007875658571720123, -0.05326776206493378, -0.028797771781682968, -0.01156779658049345, 0.031123952940106392, 0.017861109226942062, 0.017121780663728714, -0.024469992145895958, -0.044828590005636215, -0.009394889697432518, -0.03491076081991196, -0.006442081183195114, -0.050130121409893036, 0.010648142546415329, -0.036840230226516724, -0.020773345604538918, -0.019745497032999992, -0.013028422370553017, -0.015255426056683064, -0.0032931703608483076, 0.011270261369645596, -0.03873363509774208, 0.04493678733706474, 0.004397655837237835, -0.013930043205618858, 0.0055224280804395676, 0.003940083552151918, -0.02003401704132557, 0.021133994683623314, -0.04731706529855728, -0.03651564568281174, -0.06852319091558456, -0.023640500381588936, -0.011423536576330662, -0.019276654347777367, -0.010179299861192703, -0.004032499622553587, 0.019745497032999992, -0.01246040128171444, 0.027283048257231712, 0.024506056681275368, -0.0012273314641788602, 0.010098153725266457, 0.0033359972294420004, -0.030907563865184784, -0.03473043814301491, 0.054457902908325195, 0.057811930775642395, -0.01755455881357193, -0.00623020064085722, 0.029897749423980713, -0.0001415826554875821, -0.013848897069692612, 0.006013811565935612, 0.000311904470436275, -0.0034171431325376034, -0.03280096873641014, -0.019637303426861763, -0.01636441983282566, 0.026219135150313377, -0.0028355978429317474, -0.01951107569038868, -0.02425360307097435, -0.00691994046792388, 0.006527735386043787, -0.023568371310830116, 0.00207147398032248, -0.004411180038005114, -0.03559599444270134, 0.02932071126997471, -0.014317739754915237, 0.009313743561506271, 0.00161390146240592, 0.008299420587718487, -0.012730887159705162, -0.0184651967138052, 0.04497285187244415, 0.0041722506284713745, -0.010476835072040558, -0.025642098858952522, 0.018402082845568657, 0.02160283736884594, 0.025101125240325928, -0.016625888645648956, -0.00869162566959858, 0.018329953774809837, -0.036389417946338654, 0.027138788253068924, -0.0020286471117287874, 0.0005683029303327203, -0.035018954426050186, -0.0016432041302323341, -0.02059302106499672, 0.0221979059278965, -0.013325956650078297, -0.0002503406722098589, -0.030240364372730255, 0.0016499662306159735, -0.00830843672156334, 0.01787012629210949, 0.007943280041217804, 0.02708469144999981, -0.004656871780753136, -0.0012656503822654486, -0.04003196954727173, 0.023406079038977623, -0.009128911420702934, 0.0326567105948925, -0.0406811349093914, 0.016526710242033005, -0.018717650324106216, 0.007483453489840031, 0.001636441913433373, -0.02227003686130047, 0.001154074794612825, -0.017770947888493538, 0.007767464034259319, 0.006739616394042969, 0.03667793795466423, 0.0077178748324513435, -0.0028243274427950382, -0.005905617028474808, 0.008064999245107174, -0.029014160856604576, 0.003780045546591282, 0.01667998731136322, 0.02055695652961731, -0.03088953159749508, -0.002628224901854992, 0.021656934171915054, 0.00023892954050097615, -0.017329154536128044, 0.02582242339849472, -0.010864531621336937, -0.03029446303844452, 0.006608881056308746, 0.0010701112914830446, 0.012604660354554653, 0.026651913300156593, 0.009286695159971714, -0.06989365071058273, -0.017112765461206436, 0.017229976132512093, 0.0013648286694660783, 0.020737281069159508, 0.004787607118487358, 0.00020483699336182326, 0.013542345724999905, 0.009647343307733536, -0.007681810297071934, -0.02712075598537922, -0.02659781649708748, -0.0067215836606919765, -0.0006970656686462462, -0.0007849736721254885, -0.008876457810401917, 0.018555358052253723, -0.005040060728788376, -0.006040859967470169, -0.0003079598827753216, 0.03873363509774208, -0.002524538431316614, -0.026507655158638954, 0.04288109019398689, 0.0028829327784478664, -0.012072703801095486, 0.011820250190794468, -0.017491444945335388, -0.03308948874473572, 0.005396201275289059, 0.014218561351299286, 0.047028545290231705, 0.00019863835768774152, -0.023297883570194244, 0.04129423573613167, -0.025317514315247536, 0.003942337352782488, 0.0014177989214658737, -0.020430728793144226, -0.028419090434908867, -0.04075326398015022, -0.013884961605072021, 0.001855085021816194, -0.023460175842046738, -0.005441281944513321, 0.002050060546025634, 0.02585848793387413, 0.0010391180403530598, -0.0028874408453702927, 0.019655335694551468, -0.002366754924878478, -0.02593061700463295, 0.031069856137037277, 0.013343988917768002, -0.014489048160612583, 0.0033698081970214844, 0.04197946935892105, -0.00036008484312333167, -0.016589824110269547, -0.02003401704132557, 0.017843076959252357, -0.011089936830103397, 0.032440319657325745, 0.02962726354598999, 0.040464747697114944, -0.03647958114743233, 0.04353025555610657, -0.0006491670501418412, -0.021909387782216072, 0.05359234660863876, 0.0036109916400164366, -0.019673367962241173, -0.0388057641685009, 0.031123952940106392, 0.003574926871806383, 0.005599065683782101, 0.04753345251083374, -0.017572591081261635, 0.019348785281181335, 0.02048482745885849, -0.044395811855793, -0.012433351948857307, 0.03440585359930992, -0.0019598985090851784, 0.0227569118142128, -0.008894490078091621, 0.022991333156824112, 0.024307699874043465, 0.004073072224855423, 0.004481055773794651, 0.01608491688966751, -0.029374809935688972, 0.03678613156080246, -0.012559578754007816, -0.03202557563781738, 0.012649741023778915, 0.000413900357671082, -0.021837258711457253, -0.014930842444300652, 0.013930043205618858, 0.03909428417682648, -0.0054322658106684685, 0.030655110254883766, -0.009737505577504635, -0.01741931587457657, 0.004113645292818546, 0.010918629355728626, -0.01850126124918461, 0.005526936147361994, 0.035055018961429596, -0.013127600774168968, -0.00314891105517745, 0.02436179667711258, -0.006473638117313385, 0.024091310799121857, -0.003978402353823185, 0.002312657656148076, 0.03211573511362076, 0.00623020064085722, -0.006748632527887821, -0.025209320709109306, -0.024632282555103302, 0.020358599722385406, 0.04342206194996834, -0.015011987648904324, 0.010702240280807018, 0.0075014857575297356, -0.0018866417231038213, -0.01601278781890869, 0.030546916648745537, 0.009665376506745815, 0.010404705069959164, 0.000318103120662272, 0.004508104640990496, 0.024830639362335205, 0.003063257085159421, 0.004059548024088144, 0.0005519610713236034, 0.022252004593610764, -0.026669945567846298, 0.024379828944802284, 0.02872564271092415, -0.016355402767658234, 0.009728489443659782, -0.007388783153146505, 0.0018032417865470052, 0.02585848793387413, 0.009566198103129864, -0.007776480168104172, 0.020791377872228622, -0.005206860601902008, 0.030204299837350845, 0.027896150946617126, -0.027265015989542007, 0.031340342015028, 0.015516895800828934, -0.013425135053694248, -0.029266614466905594, -0.014921826310455799, 0.01933075301349163, 0.0053240712732076645, -0.030420688912272453, -0.02279297634959221, 0.008168685249984264, 0.0040167211554944515, -0.02302739769220352, -0.016184095293283463, -0.01111698616296053, -0.03162886202335358, 0.005729801021516323, 0.030691174790263176, -0.00019314410747028887, 0.012397287413477898, -0.016463598236441612, 0.03381078317761421, -0.00503555266186595, -0.014840680174529552, 0.015390668995678425, 0.031051823869347572, 0.0060093034990131855, -0.009845700114965439, -0.026471590623259544, 0.021783161908388138, 0.009854716248810291, 0.013677588663995266, -0.0005714022554457188, -0.0004217895329929888, 0.004963423125445843, 0.01895207166671753, 0.00040347536560148, -0.00833999365568161, -0.03963525593280792, -0.005342104006558657, -0.017491444945335388, -0.016202127560973167, 0.007817053236067295, -0.025119157508015633, 0.021512674167752266, -0.012307125143706799, 0.027517469599843025, -0.0221979059278965, -0.006910924334079027, 0.008258847519755363, -0.024488024413585663, -0.03747136518359184, 0.008596954867243767, -0.047100674360990524, 0.00764123722910881, 0.015480831265449524, 0.031250178813934326, -0.0025944141671061516, -0.0038296347483992577, 0.01246040128171444, 0.00029330854886211455]\n"
     ]
    }
   ],
   "source": [
    "# 문서 컬렉션\n",
    "documents = [\n",
    "    \"인공지능은 컴퓨터 과학의 한 분야입니다.\",\n",
    "    \"머신러닝은 인공지능의 하위 분야입니다.\",\n",
    "    \"딥러닝은 머신러닝의 한 종류입니다.\",\n",
    "    \"자연어 처리는 컴퓨터가 인간의 언어를 이해하고 생성하는 기술입니다.\",\n",
    "    \"컴퓨터 비전은 컴퓨터가 디지털 이미지나 비디오를 이해하는 방법을 연구합니다.\"\n",
    "]\n",
    "\n",
    "# 문서 임베딩\n",
    "document_embeddings = embeddings_model.embed_documents(documents)\n",
    "\n",
    "# 임베딩 결과 출력\n",
    "print(f\"임베딩 벡터의 개수: {len(document_embeddings)}\")\n",
    "print(f\"임베딩 벡터의 차원: {len(document_embeddings[0])}\")\n",
    "print(document_embeddings[0])"
   ]
  },
  {
   "cell_type": "markdown",
   "id": "7ef1d8f7",
   "metadata": {},
   "source": [
    "`(3) embed_query 사용`"
   ]
  },
  {
   "cell_type": "code",
   "execution_count": 36,
   "id": "f2da83df",
   "metadata": {
    "ExecuteTime": {
     "end_time": "2025-08-14T05:17:01.377767Z",
     "start_time": "2025-08-14T05:16:59.533523Z"
    }
   },
   "outputs": [
    {
     "name": "stdout",
     "output_type": "stream",
     "text": [
      "쿼리 임베딩 벡터의 차원: 1536\n",
      "[-0.02255643531680107, 0.022176697850227356, 0.0004912859876640141, 0.005667589604854584, 0.012189589440822601, -0.04480908066034317, -0.026277868077158928, 0.035809293389320374, -0.002643925603479147, 0.014800287783145905, -0.002100425772368908, 0.0008621239103376865, -0.004865393042564392, -0.07359322160482407, 0.009018776938319206, -0.01542685553431511, -0.05980873107910156, -0.022442514076828957, 0.022423528134822845, -0.0692262351512909, -0.029220838099718094, 0.023239964619278908, -0.036853570491075516, 0.00411778362467885, 0.011145309545099735, -0.0526316836476326, 0.010727598331868649, -3.0946419428801164e-05, -0.010803545825183392, -0.03410046920180321, 0.02529054880142212, -0.018910951912403107, -0.0014999649720266461, -0.05897330865263939, 0.04989757016301155, -0.0034152683801949024, -0.0027602205518633127, -0.0083684753626585, -0.004597202874720097, 0.02280326560139656, -0.011885798536241055, 0.0379737988114357, 0.0032989736646413803, 0.03520170971751213, -0.05141652375459671, 0.03448021039366722, -0.028537308797240257, 0.004692137241363525, -0.013471204787492752, 0.038600366562604904, -0.04537868872284889, 0.034556157886981964, -0.007699187379330397, -0.00934630073606968, -0.002916862489655614, 0.0646314024925232, 0.011430113576352596, 0.03146129101514816, -0.0059381527826189995, 0.04727737978100777, -0.00034651090390980244, -0.003659724723547697, 0.016566069796681404, 0.03907503932714462, -0.06227703019976616, -0.020562810823321342, -0.0027602205518633127, 0.03542955219745636, -0.03770798072218895, -0.021360261365771294, 0.041391439735889435, 0.002074318705126643, -0.07215021550655365, -0.005297344643622637, -0.019670426845550537, 0.01394587755203247, -0.020828628912568092, 0.04347999766469002, -0.0008425436681136489, 0.01228452380746603, 0.01951853185892105, 0.009189658798277378, 0.0012638154439628124, -0.044201500713825226, -0.009797239676117897, -0.016822392120957375, -0.020695719867944717, -0.05411266162991524, -0.052251946181058884, -3.265227496740408e-05, -0.018806522712111473, 0.061631474643945694, -0.025176627561450005, 0.03136635571718216, -0.019917257130146027, 0.039378829300403595, 0.07852981239557266, -0.008767200633883476, 0.010917467065155506, 0.023695649579167366, -0.03189799189567566, 0.0038875676691532135, 0.016736950725317, 0.03417641669511795, 0.024170322343707085, -0.05783409625291824, -0.017116690054535866, 0.028613256290555, 0.028290480375289917, 0.01062317006289959, 0.02149317041039467, 0.009730786085128784, -0.08437778055667877, 0.037081412971019745, -0.020695719867944717, -0.0019936244934797287, 0.007234008517116308, -0.01999320462346077, -0.012816157191991806, -0.037859875708818436, -0.029163876548409462, -0.011306698434054852, 0.027493029832839966, -0.002244014060124755, -0.030682828277349472, -0.029296785593032837, -0.0025893384590744972, -0.030986620113253593, -0.023961465805768967, -0.010034576058387756, -0.013680060394108295, 0.025499405339360237, -0.030511947348713875, 0.007566279266029596, 0.022632384672760963, -0.07169453054666519, 0.022366566583514214, 0.038581378757953644, -0.011999719776213169, -0.047695089131593704, 0.012740209698677063, -0.0017396745970472693, -0.023847544565796852, -0.002074318705126643, -0.026923423632979393, -0.041923072189092636, -0.001969890668988228, -0.015360401012003422, -0.000891790899913758, -0.005392279475927353, -0.05753030255436897, -0.007946017198264599, -0.042948365211486816, -0.029752470552921295, -0.042416732758283615, 0.035847265273332596, -0.011885798536241055, 0.03624599054455757, -0.000766596058383584, -0.004127277061343193, -0.03474602475762367, 0.001626939862035215, -0.007627986837178469, -0.002952462760731578, -0.0577581487596035, 0.06018846854567528, -0.023676663637161255, 0.0032894802279770374, 0.016869859769940376, -0.00595239270478487, -0.05415063723921776, -0.0026486723218113184, -0.01826539635658264, 0.008017217740416527, -0.0008822974632494152, -0.021379249170422554, 0.01848374679684639, 0.0009671451989561319, -0.007010912522673607, -0.05058109760284424, -0.05088489130139351, -0.036891546100378036, -0.03649282082915306, 0.018417291343212128, -0.03467007726430893, 0.014657885767519474, -0.026220908388495445, -0.012892104685306549, 0.0018322357209399343, 0.01874956302344799, 0.016812900081276894, 0.04336607828736305, 0.034290339797735214, 0.027720872312784195, 0.005933405831456184, -0.020942550152540207, -0.002125346101820469, -0.010718104429543018, 0.029296785593032837, 0.01574013940989971, 0.04325215518474579, -0.04913809522986412, 0.02329692430794239, -0.004428694024682045, 0.006033087149262428, 0.020942550152540207, 0.053315211087465286, -0.009730786085128784, -0.04177117720246315, -0.005838471464812756, 0.023183003067970276, -0.019556505605578423, 0.07097303122282028, -0.04735332727432251, -0.016917327418923378, -0.017335038632154465, 0.021683039143681526, 0.027512017637491226, -0.038600366562604904, 0.02857528254389763, -0.03370174765586853, 0.00386620732024312, -0.023220976814627647, 0.0038139934185892344, -0.022746305912733078, 0.008743466809391975, 0.011980732902884483, -0.035296645015478134, 0.023239964619278908, -0.037328243255615234, -0.030454985797405243, -0.023239964619278908, 0.00595239270478487, -0.009669078513979912, -0.024777904152870178, -0.018787536770105362, -0.010423807427287102, -0.001126753748394549, 0.01542685553431511, 0.011154803447425365, 0.013148427940905094, 0.032809361815452576, -0.012218069285154343, 0.0026154452934861183, 0.004549735691398382, 0.011078855954110622, 0.023866532370448112, 0.026714567095041275, -0.006336877588182688, -0.01667049713432789, 0.007343183271586895, -0.0375370979309082, 0.035296645015478134, -0.006303650327026844, 0.003251506481319666, -0.0030402771662920713, 0.024948785081505775, 0.02988537959754467, 0.0018939431756734848, 0.021664051339030266, -0.012626287527382374, 0.02380957081913948, -0.0240184273570776, -0.02529054880142212, 0.005097982473671436, 0.0023389486595988274, 0.02508169412612915, 0.031100541353225708, -0.007158061023801565, -0.03979654237627983, -0.0415053628385067, 0.01099341455847025, 0.016917327418923378, -0.021132418885827065, -0.02173999883234501, 0.012313003651797771, 0.0047372314147651196, 0.0032301461324095726, -0.029201850295066833, 0.037613045424222946, -0.043404050171375275, -0.010737091302871704, 0.040593989193439484, -0.019841309636831284, 0.012464899569749832, 0.005833724979311228, -0.010689624585211277, -0.06307447701692581, -0.05699867010116577, -0.02992335334420204, 0.07473243772983551, -0.002200106857344508, 0.008824161253869534, 0.028670217841863632, 0.028024662286043167, -0.007684947457164526, 0.02811959758400917, 0.048986200243234634, -0.009089978411793709, 0.013879423029720783, 0.08711189031600952, -0.036321938037872314, -0.06725160032510757, -0.046745747327804565, -0.028746165335178375, 0.05984670668840408, -0.04602424427866936, 0.011306698434054852, 0.0029287291690707207, -0.02884110063314438, 0.02680950239300728, 0.034328315407037735, 0.0375370979309082, -0.02485385164618492, -0.008463410660624504, -0.02965753711760044, 0.0061897290870547295, -0.019423598423600197, 0.043631892651319504, 0.003308467101305723, -0.0019153034081682563, -0.00752355856820941, -0.004490401595830917, -0.01820843666791916, -0.037556085735559464, -0.009175418876111507, 0.010309886187314987, -0.0023057216312736273, -0.02582218311727047, -0.0164236668497324, 0.03945477679371834, 0.04382176324725151, -0.028746165335178375, -0.011990226805210114, -0.013195894658565521, -0.009033016860485077, -0.031556226313114166, 0.014126253314316273, -0.04602424427866936, -0.041657257825136185, -0.048758357763290405, 0.026695579290390015, -0.05847964808344841, 0.028214532881975174, 0.039606671780347824, -0.007627986837178469, -0.031252436339855194, -0.0005758370389230549, 0.0003230739675927907, 0.031195474788546562, 0.038600366562604904, -0.026942409574985504, -0.007423877716064453, -0.05361900478601456, -0.033834654837846756, 0.0009671451989561319, -0.006545733660459518, 0.0004604322894010693, -0.021208366379141808, -0.031024593859910965, -0.08483346551656723, -0.027910741046071053, 0.030037274584174156, 0.04279647022485733, 4.839434404857457e-05, 0.004326639696955681, 0.015749633312225342, -0.020600786432623863, -0.0068780044093728065, -0.025651300325989723, -0.006417572032660246, -0.015635712072253227, 0.026239894330501556, -0.04629005864262581, -0.0071295807138085365, -0.003075877670198679, -0.010262418538331985, 0.02633482962846756, -0.01972738839685917, 0.02838541381061077, 0.01725909113883972, 0.03696749359369278, -0.019803335890173912, -0.0639478787779808, -0.0219868291169405, 0.018948925659060478, 0.009322567842900753, -0.037138376384973526, -0.04431542381644249, 0.048758357763290405, 0.039378829300403595, -0.035866253077983856, -0.024758916348218918, -0.010233938694000244, -0.06337826699018478, 0.002417269628494978, -0.02884110063314438, -0.0329422689974308, -0.015863554552197456, 0.003377294633537531, -0.014809781685471535, -0.0019307303009554744, -0.009213392622768879, -0.035809293389320374, -0.001960397232323885, -0.046745747327804565, 0.03191697597503662, 0.04253065586090088, -0.0013290829956531525, 0.05878343805670738, 0.04989757016301155, -0.027512017637491226, 0.044657185673713684, -0.002973823109641671, -0.012806663289666176, -0.035315632820129395, 0.00785108283162117, 0.001342136412858963, 0.01153454091399908, 0.006313143763691187, 0.027455056086182594, -0.009241873398423195, -0.014363588765263557, -0.05396076664328575, -0.004974567797034979, 0.009218139573931694, 0.03066384233534336, 0.017126182094216347, 0.07249198108911514, -0.04078385978937149, 0.025708261877298355, 0.038353536278009415, -0.023353885859251022, -0.022176697850227356, -0.05118868127465248, 0.011012401431798935, 0.026790514588356018, -0.01344272494316101, 0.0179711002856493, 0.03679661080241203, -0.015170532278716564, -0.025765221565961838, 0.005985619965940714, -0.030948646366596222, -0.054302532225847244, 0.026220908388495445, -0.04401163384318352, 0.0044809081591665745, -0.020448889583349228, -0.08096013963222504, -0.009113711304962635, -0.027208225801587105, 0.03463210538029671, 0.05749233067035675, -4.316552804084495e-05, -0.05236586928367615, 0.013964864425361156, -0.012711728923022747, 0.015578750520944595, 0.016613537445664406, -0.03525867313146591, -0.01666100323200226, -0.007352676708251238, 0.04439137130975723, -0.005245130974799395, -0.00501254154369235, 0.007651720196008682, 0.01178137119859457, -0.0344422347843647, -0.003118598135188222, -0.07997281849384308, -0.04815077781677246, 0.0491001196205616, -0.025366496294736862, 0.012170602567493916, 0.040631964802742004, 0.021170392632484436, -0.029961327090859413, -0.034328315407037735, 0.013727528043091297, 0.013195894658565521, -0.018151475116610527, 0.018350837752223015, 0.0004233485087752342, 0.04530274122953415, 0.03624599054455757, -0.06668198853731155, -0.011990226805210114, 0.045948296785354614, -0.014790794812142849, -0.02306908182799816, -0.029771458357572556, 0.06816297024488449, -0.0013314563548192382, 0.05411266162991524, 0.0219868291169405, 0.008620052598416805, -0.0425686277449131, -0.0023698024451732635, 0.0023282684851437807, 0.0027459803968667984, -0.02532852254807949, -0.026239894330501556, 0.04784698411822319, -0.010803545825183392, -0.01617683842778206, 0.0032230261713266373, 0.020657746121287346, -0.02027800865471363, -0.02508169412612915, -0.004834539256989956, 0.016528096050024033, 0.007571026217192411, 0.005980873014777899, 0.0041391439735889435, 0.019651440903544426, 0.0006277543725445867, 0.03698647767305374, 0.031765080988407135, -0.014591432176530361, 0.0029999299440532923, 0.013727528043091297, -0.012607300654053688, -0.0019983712118119, -0.0032467597629874945, -0.04127752035856247, -0.03725229576230049, -0.006892244331538677, -0.007618493400514126, -0.02610698714852333, 0.0058622052893042564, -0.005221397150307894, 0.009555157274007797, -0.007404890842735767, -0.026676593348383904, 0.0081026591360569, 0.027682898566126823, 0.01848374679684639, -0.019803335890173912, 0.027682898566126823, 0.01717364974319935, 0.012056681327521801, 0.006474532652646303, -0.004969820845872164, 0.001051399507559836, 0.008648532442748547, -0.008064685389399529, -0.0450369231402874, -0.016385693103075027, 0.05540377274155617, 0.039644643664360046, 0.00898555014282465, 0.025974078103899956, -0.037556085735559464, 0.03503083065152168, 0.013727528043091297, -0.003242013044655323, -0.006868510972708464, -0.0013314563548192382, -0.007680200506001711, -0.0029619561973959208, -0.014135746285319328, -0.02933475933969021, -0.019651440903544426, -0.007105846889317036, -0.015407868660986423, 0.022974148392677307, -0.027948714792728424, 0.020847614854574203, 0.0200501661747694, -0.05134057626128197, 0.01265476830303669, -0.0005838471697643399, 0.04515084624290466, -0.02098052389919758, -0.023733623325824738, 0.021360261365771294, -0.04002438485622406, 0.002952462760731578, 0.046707771718502045, 0.004345626570284367, 0.002426763065159321, -0.004846406169235706, 0.008093166165053844, 0.03649282082915306, 0.003994368948042393, -0.014534471556544304, 0.0329422689974308, 0.020372942090034485, -0.0013100960059091449, 0.029296785593032837, -0.0005277764867059886, 0.00727198226377368, -0.04651790112257004, -0.0049128602258861065, -0.0008223700569942594, 0.013043999671936035, -0.0008728040265850723, -0.01846475899219513, 0.03998640924692154, 0.007438117638230324, 0.011021895334124565, 0.009825720451772213, 0.006498266011476517, -0.020904576405882835, -0.02101849764585495, -0.0032989736646413803, 0.024967772886157036, 0.022461501881480217, -0.03770798072218895, -0.011211764067411423, -0.0024113361723721027, 0.0001906106626847759, -0.02155013009905815, -0.043631892651319504, -0.008904855698347092, -0.007808362133800983, 0.01772427000105381, 0.04632803425192833, -0.022081764414906502, -0.020581798627972603, -0.013623099774122238, 0.046973589807748795, -0.010794051922857761, -0.012294016778469086, -0.020429903641343117, -0.006821043323725462, -0.002115852665156126, -0.03396756201982498, -0.003892314387485385, 0.002425576327368617, 0.06877055019140244, -0.0242842435836792, 0.009070990607142448, 0.006939711514860392, -0.04947986081242561, -0.011857318691909313, -0.01468636654317379, 0.028290480375289917, -0.015379387885332108, -0.030720802024006844, 0.015550270676612854, 0.01848374679684639, -0.030189169570803642, 0.015236986801028252, -0.015607231296598911, -0.028936034068465233, -0.0121421217918396, 0.013604112900793552, -0.014743327163159847, -0.01251236628741026, -0.039606671780347824, -0.03292328491806984, -0.007428624201565981, 0.021189378574490547, -0.002700886456295848, -0.004245945252478123, -0.016281265765428543, 0.028214532881975174, -0.018179956823587418, 0.008140632882714272, -0.014847755432128906, 0.017354026436805725, 0.0070536332204937935, -0.008392209187150002, 0.03343592956662178, 0.04777103662490845, 0.021702025085687637, 0.03184102848172188, -0.011838331818580627, -0.048492539674043655, -0.014335108920931816, -0.008919095620512962, 0.011686436831951141, -0.016736950725317, 0.01720213145017624, -0.03089168481528759, 0.005249877460300922, 0.015123065561056137, 0.00987318716943264, -0.003970635123550892, 0.005919165909290314, -0.022689344361424446, -0.015873048454523087, 0.025423457846045494, 0.036606740206480026, 0.04070791229605675, 0.018910951912403107, -0.0029619561973959208, -0.059125203639268875, 0.0018951299134641886, 0.025176627561450005, 0.0023555620573461056, 0.003666844917461276, -0.038315560668706894, 0.02832845412194729, 0.0006882750894874334, 0.005444493144750595, -0.03233468905091286, 0.033853642642498016, -0.012635781429708004, 0.03856239095330238, 0.015768619254231453, -0.03258151933550835, -0.008188100531697273, -0.010556715540587902, 0.024208296090364456, -0.011657956056296825, 0.017600854858756065, 0.010082043707370758, -0.025708261877298355, 0.0032467597629874945, 0.010661143809556961, -0.01496167667210102, 0.022860227152705193, 0.022461501881480217, 0.038125693798065186, 0.0011469273595139384, -0.006023593712598085, -0.025632314383983612, -0.013471204787492752, -0.006384344771504402, 0.0018132488476112485, -0.012246550060808659, 0.002242827555164695, -0.01972738839685917, -0.05194815620779991, -0.008145379833877087, -0.022955160588026047, -0.02350578084588051, -0.003916047979146242, -0.029467666521668434, -0.022632384672760963, 0.00461856322363019, 0.055821482092142105, -0.018132489174604416, -0.04032817482948303, 0.001734927878715098, -0.05061907321214676, 0.0038804474752396345, 0.03146129101514816, -0.006664401385933161, 0.031005606055259705, -0.02684747613966465, -0.02306908182799816, 0.017914138734340668, -0.011553527787327766, 0.03292328491806984, 0.028442375361919403, -0.018578680232167244, -0.002175186527892947, 0.00010976800695061684, 0.01800907403230667, 0.0016221931437030435, 0.011202270165085793, 0.021607091650366783, 0.015085090883076191, -0.03138534352183342, 0.025480419397354126, 0.008805174380540848, 0.014971169643104076, -0.006749842781573534, 0.01039532758295536, 0.02530953660607338, -0.0014026571298018098, 0.0007683760486543179, 0.01504711713641882, 0.009540916420519352, 0.014382575638592243, 0.028195545077323914, -0.0019283569417893887, -0.01648062840104103, 0.0225184615701437, 0.017145169898867607, 0.04002438485622406, 0.0066216811537742615, -0.00550145423039794, -0.03537259250879288, -0.013452217914164066, 0.02960057556629181, -0.007191287819296122, -0.0029287291690707207, -0.003851967165246606, 0.00191649014595896, -0.0035458034835755825, 0.002651045797392726, 0.019338157027959824, 0.00782734900712967, -0.005738790147006512, -0.01672745868563652, -0.010509248822927475, 0.02635381557047367, -0.002985689789056778, -0.026733553037047386, -0.0059998598881065845, 0.015312934294342995, 0.007703934330493212, 0.02054382488131523, 0.01100290846079588, -0.021360261365771294, 0.02098052389919758, 0.022138724103569984, 0.016537589952349663, 0.04864443466067314, 0.02453107386827469, 0.006688135210424662, -0.017543895170092583, 0.03364478424191475, -0.019632453098893166, -0.03472703695297241, 0.021872907876968384, 0.008292527869343758, -0.024265257641673088, 0.020714707672595978, -0.023999439552426338, -0.02333489991724491, -0.008159619756042957, -0.004222211893647909, -0.00859157182276249, -0.013043999671936035, 0.039872489869594574, -0.0026629127096384764, 0.02785378135740757, -0.006659654900431633, 0.04044209420681, 0.017866672948002815, -0.029220838099718094, -0.012683248147368431, -0.026638619601726532, 0.004070316441357136, 0.06246689707040787, 0.02229061909019947, 0.028499335050582886, 0.00015515855920966715, 0.026448750868439674, 0.011458593420684338, -0.018853990361094475, -0.025195615366101265, -0.031499266624450684, 0.012987039051949978, -0.027948714792728424, 0.01038583368062973, -0.013774995692074299, 0.0556316152215004, -0.02177797257900238, 0.019186262041330338, -0.009526676498353481, 0.0022736811079084873, 0.024113362655043602, -0.013100960291922092, -0.02253744937479496, -0.004561602603644133, 0.05468226969242096, 0.005985619965940714, 0.035866253077983856, 0.004753844812512398, 0.012246550060808659, -0.014752821065485477, -0.0030355304479599, -0.0265816580504179, -0.006018847227096558, 0.03643586114048958, 0.0390370637178421, 0.010148497298359871, 0.02155013009905815, -0.007689693942666054, -0.01352816540747881, -0.00501254154369235, -0.010594689287245274, -0.005980873014777899, 0.03206887096166611, 0.03298024460673332, -0.02308806963264942, -0.025917116552591324, 0.024246269837021828, -0.006626427639275789, 0.0006870884099043906, 0.06755539029836655, -0.008890615776181221, -0.020581798627972603, 0.012854130938649178, -0.04659384861588478, 0.0037475391291081905, -0.03322707489132881, -0.03677762299776077, -0.01848374679684639, 0.005083742085844278, 0.029239824041724205, -0.020296994596719742, 0.024967772886157036, 0.0034247618168592453, -0.015863554552197456, 0.018104007467627525, -0.02810060977935791, 0.02046787738800049, 0.035543475300073624, 0.016585055738687515, 0.026676593348383904, -0.004568722564727068, -0.006911231204867363, -8.67018970893696e-05, -0.03877124935388565, -0.009635851718485355, -0.017619842663407326, -0.011572514660656452, 0.03360681235790253, 0.026258882135152817, 0.043669868260622025, 0.019091326743364334, -0.02308806963264942, -0.011154803447425365, 0.018122995272278786, 0.02303110808134079, -0.026201920583844185, -0.005292598158121109, -0.026144960895180702, -0.010945946909487247, 0.010689624585211277, -0.042150914669036865, -0.05855559557676315, 0.01999320462346077, 0.023410847410559654, 0.009664331562817097, 0.012322497554123402, 0.005772017408162355, 0.014942689798772335, -0.02941070683300495, -0.028746165335178375, -0.012094655074179173, 0.011173790320754051, -0.016898339614272118, -0.023600716143846512, -0.01566419191658497, 0.0120092136785388, 0.01919575408101082, 0.0039635151624679565, -0.028746165335178375, 0.002567978110164404, -0.0005221397150307894, -0.07017558068037033, 0.002508644014596939, -0.0260500255972147, -0.012854130938649178, -0.009688065387308598, -0.03525867313146591, -0.002074318705126643, 0.018787536770105362, 0.02684747613966465, 0.001267375540919602, 0.036587756127119064, 0.03643586114048958, -0.06527695804834366, 0.027132278308272362, 0.006811549887061119, 0.015075597912073135, -0.009256113320589066, 0.060644157230854034, 0.010832025669515133, -0.010034576058387756, -0.0010063056834042072, 0.01103138830512762, -0.0222526453435421, 0.00461856322363019, -0.025271562859416008, 0.008544104173779488, -0.005833724979311228, 0.006830536760389805, 0.02153114415705204, 0.0011849012225866318, 0.022727318108081818, -0.025651300325989723, 0.005942899268120527, 0.03172710910439491, 0.010338366962969303, 0.01049026194959879, 0.007618493400514126, 0.02760695107281208, -0.013613606803119183, -0.006275170017033815, -0.00335118779912591, 0.0340055376291275, -0.0034295087680220604, -0.0002557297993917018, -0.018787536770105362, 0.028803126886487007, 0.030018286779522896, 0.018891964107751846, 0.02356274239718914, -0.007998230867087841, 0.011610488407313824, 0.0019900642801076174, -0.06277068704366684, 0.025385484099388123, -0.021341275423765182, 0.05274560675024986, -0.0200501661747694, -0.003066384233534336, -0.029771458357572556, 0.01293007843196392, -0.02325895056128502, 0.011287711560726166, 0.04883430525660515, -0.003284733509644866, -0.014657885767519474, -0.019936244934797287, -0.036568768322467804, -0.023619702085852623, -0.01951853185892105, -0.013100960291922092, 0.019613467156887054, 0.032771386206150055, 0.024170322343707085, 0.02456904761493206, 0.00042127183405682445, 0.02635381557047367, 0.027531003579497337, -0.04401163384318352, -0.01052823569625616, 0.03195495158433914, 0.0003548176900949329, 0.01645214855670929, 0.003234892850741744, 0.03930288180708885, -0.03465108945965767, 0.028176559135317802, -0.02050585113465786, 0.010547222569584846, -0.00651725335046649, 0.035847265273332596, -0.005976126529276371, -0.007262488827109337, 0.011449100449681282, 0.007950764149427414, 0.021436208859086037, -0.018312864005565643, 0.042910393327474594, -0.026429763063788414, -0.013983851298689842, 0.04928999021649361, 0.01621481217443943, -0.013062986545264721, 0.014524977654218674, -0.04123954474925995, 0.02960057556629181, 0.016385693103075027, 0.0061944760382175446, -0.031992923468351364, 0.017287570983171463, 0.02075268141925335, 0.036872558295726776, 0.02331591211259365, -0.007608999963849783, -0.01228452380746603, 0.022195685654878616, -0.010566209442913532, 0.004058449529111385, -0.04739129915833473, 0.006593200843781233, -0.013357283547520638, -0.0019936244934797287, -0.006498266011476517, -0.0204868633300066, -0.030530933290719986, 0.015180026181042194, -0.0022119737695902586, -0.017344532534480095, -0.007713427767157555, -0.004509388469159603, -0.004162877798080444, 0.008349488489329815, 0.003552923444658518, 0.0029311026446521282, 0.02561332657933235, -0.04727737978100777, 0.016765432432293892, 0.03767000883817673, -0.039113011211156845, -0.033587824553251266, 0.012331990525126457, 0.005036274902522564, 0.03567638248205185, 0.011468087323009968, 0.015132558532059193, 0.028233518823981285, 0.01953751966357231, 0.028518322855234146, 0.01519901305437088, 0.021853920072317123, 0.024398164823651314, 0.0121421217918396, -0.018607161939144135, -0.008278287947177887, -0.017069222405552864, -0.02075268141925335, -0.003768899478018284, 0.027265187352895737, -0.0006781882839277387, 0.02561332657933235, 0.031081553548574448, -0.03142331913113594, -0.00011095469380961731, 0.04180915281176567, -0.00848714355379343, 0.022328592836856842, -0.012911091558635235, -0.02050585113465786, -0.005601135082542896, -0.03360681235790253, 0.026524698361754417, 0.02986639179289341, 0.006218209397047758, 0.018445773050189018, 0.00501254154369235, -0.0179711002856493, -0.01039532758295536, 0.01492370292544365, -0.006574213970452547, 0.003930287901312113, 0.023942479863762856, 0.01750592142343521, -0.01343323104083538, 0.00040228493162430823, -0.04093575477600098, 0.014069292694330215, 0.013651580549776554, 0.015901528298854828, -0.022480487823486328, 0.03839150816202164, 0.02101849764585495, -0.0047372314147651196, 0.006066314410418272, 0.01100290846079588, 0.005772017408162355, -0.02992335334420204, 0.013129441067576408, -0.04678371921181679, 0.015236986801028252, -0.008325755596160889, 0.002810060977935791, 0.00550145423039794, -0.012170602567493916, -0.01293007843196392, -0.01264527440071106, 0.0030046768952161074, -0.019651440903544426, 0.023752611130475998, -0.023126043379306793, 0.009863694198429585, 0.0037143121007829905, 0.0016221931437030435, -0.009294087067246437, -0.0034817226696759462, -0.009270353242754936, 0.01644265465438366, -0.012218069285154343, -0.04199901968240738, -0.02122735232114792, 0.0007363356999121606, -0.047733064740896225, 0.03210684657096863, 0.008691253140568733, -0.02910691685974598, -0.0225184615701437, 0.03537259250879288, -0.02046787738800049, 0.02409437485039234, -0.010983921587467194, -0.009422248229384422, 0.04541666433215141, 0.008762453682720661, 0.0013112827436998487, 0.008520371280610561, -0.01455345842987299, 0.0027222465723752975, 0.021322287619113922, 0.020657746121287346, 0.01874006912112236, -0.014562951400876045, 0.019081832841038704, -0.02760695107281208, 0.03419540449976921, 0.039113011211156845, 0.02760695107281208, -0.01872108317911625, -0.010907973162829876, 0.013793982565402985, 0.004447680898010731, 0.017325544729828835, 0.015502803027629852, -0.03218279406428337, -0.020107125863432884, 0.013262349180877209, -0.03520170971751213, -0.001308909384533763, -0.02156911790370941, -0.013993344269692898, -0.060606181621551514, -0.026942409574985504, 0.0062799169681966305, -0.01343323104083538, -0.004217464942485094, -0.0011724410578608513, -0.019879283383488655, -0.03130939602851868, 0.04287241771817207, -0.011686436831951141, -0.03514475002884865, -0.00676882965490222, 0.01644265465438366, 0.009294087067246437, 0.011468087323009968, -0.047467246651649475, -0.030037274584174156, -0.04902417212724686, -0.03706242889165878, -0.0007440490880981088, -0.012854130938649178, -0.0017812084406614304, 0.014781300909817219, 0.03136635571718216, -0.016803406178951263, 0.004298159386962652, 0.022081764414906502, -0.017382506281137466, 0.0001497443299740553, 0.019898271188139915, -0.02151215635240078, -0.03092965856194496, 0.003358307760208845, 0.04329013079404831, -0.0014465643325820565, 0.008287781849503517, 0.015531283803284168, -0.008563091047108173, -0.015303440392017365, -0.012540847063064575, 0.01051874179393053, -0.01643316075205803, -0.021967843174934387, -0.0005515100783668458, -0.00430053286254406, 0.012123134918510914, -0.012873117811977863, -0.01902487315237522, -0.006403331644833088, -0.0283474400639534, -0.0051691834814846516, -0.014752821065485477, 0.008847895078361034, 0.0052546244114637375, 0.006270423531532288, 0.014373082667589188, -0.00360276410356164, -0.0139079038053751, 0.016252785921096802, 0.0024944038596004248, 0.0013979104114696383, -0.015778113156557083, 0.0348789319396019, -0.00530683808028698, -0.020353956148028374, -0.04530274122953415, 0.022746305912733078, 0.021189378574490547, 0.020809641107916832, -0.021815946325659752, -0.025271562859416008, 0.02358172833919525, -0.023619702085852623, -0.006066314410418272, 0.016034435480833054, 0.01153454091399908, -0.028727177530527115, -0.018540706485509872, -0.044429343193769455, 0.044960975646972656, -0.008026711642742157, 0.008786187507212162, -0.012673755176365376, 0.006199222523719072, 0.008344742469489574, 0.00782734900712967, 0.0027198733296245337, 0.016812900081276894, -0.01556925754994154, -0.02046787738800049, 0.010006096214056015, -0.002492030616849661, -0.02382855862379074, 0.018578680232167244, -0.025784209370613098, 0.00029726364300586283, -0.020353956148028374, -0.00833999551832676, 0.03791683912277222, -0.025442445650696754, -0.012085161171853542, -0.003420015098527074, 0.010480768047273159, -0.014154733158648014, 0.03599916025996208, 0.00463043013587594, 0.01467687264084816, -0.01454396452754736, 0.02534751035273075, -0.015882540494203568, -0.004675523843616247, -0.010072549805045128, 0.02889806032180786, -0.006175489164888859, -0.019148288294672966, 0.023164017125964165, -0.00752355856820941, -0.0033416941296309233, 0.023619702085852623, -0.001483351457864046, -0.04560653120279312, 0.00836372934281826, 0.0017456080531701446, 0.01596798188984394, 0.03463210538029671, -0.002658165991306305, -0.06732754409313202, -0.018028059974312782, 0.00037143120425753295, 0.014857248403131962, 0.007442864589393139, 0.009303580969572067, -0.003503082785755396, -0.006887497846037149, -0.014373082667589188, -0.0019485305529087782, 0.004003862384706736, -0.011885798536241055, -0.006208715960383415, -0.010983921587467194, -0.04226483777165413, 0.005548921413719654, -0.014800287783145905, 0.0010763198370113969, 0.010082043707370758, 0.002995183225721121, 0.02986639179289341, 0.0005369732389226556, -0.028955021873116493, 0.018635641783475876, 0.014088279567658901, -0.006047327537089586, 0.02253744937479496, 0.014297135174274445, -0.03370174765586853, -0.04154333472251892, 0.020334968343377113, 0.03193596377968788, 0.0048369127325713634, -0.02990436553955078, 0.0415053628385067, -0.05779612064361572, 0.0023638689890503883, -0.025879142805933952, -0.029049955308437347, -0.0003123938222415745, -0.03692951798439026, 0.015873048454523087, 0.011933266185224056, -0.0068732574582099915, -0.0060046068392694, 0.02963854931294918, 0.0360371358692646, -0.009759265929460526, -0.010822532698512077, 0.0010899666231125593, -0.0032894802279770374, -0.0032871069852262735, 0.03892314434051514, 0.030967632308602333, -0.019594479352235794, 0.02810060977935791, 0.014610419049859047, -0.021474182605743408, -0.027929728850722313, -0.03516373783349991, 0.015142052434384823, -0.013765501789748669, -0.002133652800694108, 0.053581029176712036, 0.041201572865247726, -0.04541666433215141, 0.020581798627972603, 0.0319739393889904, -0.012588313780725002, 0.05213802680373192, -0.0009481582674197853, -0.025917116552591324, -0.03535360470414162, 0.005809991154819727, 0.031518250703811646, 0.04078385978937149, 0.04602424427866936, 0.003192172385752201, -0.001275682239793241, 0.005411266349256039, -0.022423528134822845, 0.005805244203656912, 0.02073369361460209, -0.009455475956201553, 0.007879562675952911, -0.032828349620103836, 0.003467482514679432, 0.031290408223867416, 0.015445842407643795, -0.02432221733033657, 0.026429763063788414, -0.02734113484621048, 0.034328315407037735, -0.02382855862379074, -0.03111952729523182, 0.011971239931881428, 0.0015320053789764643, -0.033037204295396805, -0.03286632150411606, 0.005249877460300922, 0.03503083065152168, -0.009047257713973522, 0.03873327374458313, -0.004775205161422491, -0.0018357958178967237, 0.009327313862740993, 0.011382645927369595, 0.010775065049529076, -0.006692882161587477, 0.05464429408311844, -0.011306698434054852, -0.010328873060643673, 0.01669897697865963, -0.004191358108073473, -0.0046114432625472546, 0.020202061161398888, -0.008202340453863144, 0.014714846387505531, 0.041125621646642685, -0.022423528134822845, -0.011695929802954197, -0.012958558276295662, 0.027208225801587105, 0.024682968854904175, 0.010803545825183392, 0.01624329201877117, 5.2473558753263205e-05, 0.027986688539385796, 0.018588174134492874, 0.022461501881480217, 0.03339795395731926, -0.009165925905108452, 0.0065314932726323605, -0.0039231679402291775, 0.027512017637491226, 0.011249737814068794, -0.029790444299578667, 0.01593000814318657, -0.006061567459255457, -0.018360331654548645, 0.02333489991724491, 0.007357423193752766, -0.01255034003406763, 0.020809641107916832, 0.007096353452652693, 0.01303450670093298, 0.025499405339360237, 0.02557535283267498, -0.013043999671936035, 0.038315560668706894, -0.018113501369953156, 0.021815946325659752, 0.0006870884099043906, -0.037366218864917755, 0.07720073312520981, 0.02479689009487629, -0.008990297093987465, 0.015312934294342995, -0.03415743261575699, -0.002361495513468981, 0.00873871985822916, -0.045682478696107864, 0.008107406087219715, 0.01431612204760313, 0.007789375260472298, -0.015616724267601967, -0.025423457846045494, -0.009806733578443527, -0.00690173776820302, -0.008705493062734604, 0.017040742561221123, -0.03626497834920883, 0.02333489991724491, -0.006033087149262428, 0.0240184273570776, -0.00033701746724545956, 0.006094794720411301, 0.0455685593187809, -0.0011493007186800241, -0.018369825556874275, -0.041429415345191956, -0.015626218169927597, 0.021075457334518433, -0.0034152683801949024, 0.013737021945416927, -0.038885168731212616, -0.010575702413916588, -0.0030521440785378218, 0.022119738161563873, 0.017040742561221123, 0.006564720533788204, -0.06212513521313667, 0.017562881112098694, -0.014942689798772335, -0.0120092136785388, -0.006721362471580505, -0.022423528134822845, 0.03899909183382988, -0.0053305719047784805, 0.012835144065320492, -0.025233589112758636, 0.012863623909652233, 0.025005746632814407, 0.01252186018973589, -0.02432221733033657, 0.030492959544062614, -0.04473313316702843, 0.0298474058508873, 0.008828908205032349, 0.023638689890503883, 0.004207971505820751, 0.010784558951854706, -0.0006372478092089295, 0.022157711908221245]\n"
     ]
    }
   ],
   "source": [
    "embedded_query = embeddings_model.embed_query(\"인공지능이란 무엇인가요?\")\n",
    "\n",
    "# 쿼리 임베딩 결과 출력\n",
    "print(f\"쿼리 임베딩 벡터의 차원: {len(embedded_query)}\")\n",
    "print(embedded_query)"
   ]
  },
  {
   "cell_type": "markdown",
   "id": "8d6a23e3",
   "metadata": {},
   "source": [
    "`(4) 유사도 기반 검색`"
   ]
  },
  {
   "cell_type": "code",
   "execution_count": 37,
   "id": "a5c3435d",
   "metadata": {
    "ExecuteTime": {
     "end_time": "2025-08-14T05:18:45.767210Z",
     "start_time": "2025-08-14T05:18:43.944275Z"
    }
   },
   "outputs": [
    {
     "name": "stdout",
     "output_type": "stream",
     "text": [
      "쿼리: 인공지능이란 무엇인가요?\n",
      "가장 유사한 문서: 인공지능은 컴퓨터 과학의 한 분야입니다.\n",
      "유사도: 0.7117\n",
      "\n",
      "쿼리: 딥러닝과 머신러닝의 관계는 어떻게 되나요?\n",
      "가장 유사한 문서: 딥러닝은 머신러닝의 한 종류입니다.\n",
      "유사도: 0.6815\n",
      "\n",
      "쿼리: 컴퓨터가 이미지를 이해하는 방법은?\n",
      "가장 유사한 문서: 컴퓨터 비전은 컴퓨터가 디지털 이미지나 비디오를 이해하는 방법을 연구합니다.\n",
      "유사도: 0.7051\n",
      "\n"
     ]
    }
   ],
   "source": [
    "from langchain_community.utils.math import cosine_similarity\n",
    "import numpy as np\n",
    "\n",
    "# 쿼리와 가장 유사한 문서 찾기 함수\n",
    "def find_most_similar(query, doc_embeddings):\n",
    "    query_embedding = embeddings_model.embed_query(query)\n",
    "    # similarities = [cosine_similarity(query_embedding, doc_emb) for doc_emb in doc_embeddings]\n",
    "    similarities = cosine_similarity([query_embedding], doc_embeddings)[0]\n",
    "    most_similar_idx = np.argmax(similarities)\n",
    "    return documents[most_similar_idx], similarities[most_similar_idx]\n",
    "\n",
    "# 예제 쿼리\n",
    "queries = [\n",
    "    \"인공지능이란 무엇인가요?\",\n",
    "    \"딥러닝과 머신러닝의 관계는 어떻게 되나요?\",\n",
    "    \"컴퓨터가 이미지를 이해하는 방법은?\"\n",
    "]\n",
    "\n",
    "# 각 쿼리에 대해 가장 유사한 문서 찾기\n",
    "for query in queries:\n",
    "    most_similar_doc, similarity = find_most_similar(query, document_embeddings)\n",
    "    print(f\"쿼리: {query}\")\n",
    "    print(f\"가장 유사한 문서: {most_similar_doc}\")\n",
    "    print(f\"유사도: {similarity:.4f}\")\n",
    "    print()"
   ]
  },
  {
   "cell_type": "markdown",
   "id": "e4fcfdce",
   "metadata": {},
   "source": [
    "### 4-2 Huggingface - 오픈소스 LLM\n"
   ]
  },
  {
   "cell_type": "markdown",
   "id": "a1572d97",
   "metadata": {},
   "source": [
    "`(1) embedding 모델`"
   ]
  },
  {
   "cell_type": "code",
   "execution_count": null,
   "id": "dd7af1f5",
   "metadata": {
    "ExecuteTime": {
     "end_time": "2025-08-14T05:52:11.922800Z",
     "start_time": "2025-08-14T05:48:33.816156Z"
    },
    "jupyter": {
     "is_executing": true
    }
   },
   "outputs": [
    {
     "name": "stdout",
     "output_type": "stream",
     "text": [
      "hello=====================\n"
     ]
    }
   ],
   "source": [
    "from langchain_huggingface.embeddings import HuggingFaceEmbeddings\n",
    "print(\"hello=====================\")\n",
    "\n",
    "\n",
    "# Hugging Face의 임베딩 모델 생성\n",
    "embeddings_model = HuggingFaceEmbeddings(\n",
    "    model_name=\"./models/bge-m3\",\n",
    ")\n",
    "\n",
    "# 임베딩 객체 출력\n",
    "embeddings_model"
   ]
  },
  {
   "cell_type": "markdown",
   "id": "06cbe740",
   "metadata": {},
   "source": [
    "`(2) embed_documents 사용`"
   ]
  },
  {
   "cell_type": "code",
   "execution_count": 47,
   "id": "094a8891",
   "metadata": {},
   "outputs": [
    {
     "name": "stdout",
     "output_type": "stream",
     "text": [
      "임베딩 벡터의 개수: 5\n",
      "임베딩 벡터의 차원: 1024\n",
      "[-0.03941451013088226, 0.008764870464801788, -0.012681731954216957, 0.002453156281262636, -0.008944777771830559, -0.007383701857179403, -0.005377395544201136, -0.00905580259859562, 0.032915227115154266, 0.006045469082891941, -0.027012990787625313, -0.027740957215428352, 0.0004441617347765714, 0.03013657033443451, 0.017242947593331337, 0.01709042116999626, 0.025524858385324478, -0.0218560341745615, -0.011341340839862823, -0.05702255666255951, -0.00030158355366438627, 0.013543035835027695, -0.00745012890547514, 0.018574558198451996, 0.002894667675718665, 0.008630705066025257, -0.0007445471710525453, -0.028904233127832413, 0.02072782814502716, -0.020500659942626953, 0.008069849573075771, -0.026754282414913177, 0.003963056020438671, -0.016303835436701775, -0.07406220585107803, -0.033650368452072144, -0.023871518671512604, -0.03454999998211861, -0.03478587791323662, 0.005483077373355627, -0.05003359168767929, -0.002803717739880085, -0.02314699813723564, -0.07491150498390198, -0.011434342712163925, -0.0289926677942276, -0.034183066338300705, -0.025524655357003212, -0.06156909838318825, 0.01355785969644785, 0.024401124566793442, -0.03127635270357132, 0.05056958645582199, 0.012972619384527206, -0.06420642882585526, 0.02719484455883503, 0.006821557879447937, 0.01040556188672781, -0.06427150964736938, -0.016028273850679398, -0.020655425265431404, 0.03011760301887989, -0.0063316477462649345, -0.01311753410845995, -0.0005492885247804224, 0.04695943742990494, 0.00776555435732007, 0.029756490141153336, -0.03474412113428116, -0.03635726496577263, 0.02141401171684265, 0.017580540850758553, -0.03352212533354759, 0.013690536841750145, -0.05232349410653114, 0.04847835376858711, -0.013382752425968647, -0.01721258834004402, -0.034356437623500824, 0.02108718641102314, -0.022802608087658882, -0.00621182844042778, -0.012333840131759644, -0.04589997977018356, -0.04362516105175018, -0.03322101756930351, -0.030902914702892303, 0.06267783045768738, -0.013041002675890923, 0.0030605699867010117, -0.03402116894721985, -0.011811446398496628, 0.06983616203069687, -0.06787189841270447, -0.04121715575456619, -0.0454251803457737, -0.05954761058092117, 0.02657211758196354, 0.021793410181999207, 0.016649428755044937, -0.004795477259904146, 0.055785972625017166, 0.005842157173901796, -0.0049256859347224236, 0.005203400272876024, 0.012360382825136185, 0.015873584896326065, 0.013678247109055519, -0.0043206242844462395, -0.016777507960796356, 0.024673394858837128, 0.07882757484912872, -0.0033149863593280315, 0.0277329683303833, -0.014849944040179253, -0.03629649057984352, -0.00708024064078927, -0.005244823172688484, 0.031237972900271416, 0.028104498982429504, 0.021445192396640778, 0.02693263627588749, -0.018261488527059555, -0.035457029938697815, 0.025494329631328583, -0.014402545988559723, 0.04316110163927078, -0.0065125273540616035, -0.0023869017604738474, -0.025424866005778313, 0.007254294119775295, 0.0016668358584865928, -0.06067401170730591, 0.002136893104761839, -0.07933427393436432, -0.03168231621384621, -0.026456227526068687, -0.0345732718706131, 0.0011898677330464125, -0.026784747838974, 0.03188105300068855, 0.008707226254045963, -0.034499287605285645, -0.026013819500803947, 0.028248118236660957, 0.02884909324347973, 0.011804236099123955, 0.006611310411244631, -0.0402822308242321, 0.0065950630232691765, -0.04195791110396385, 0.0018760069506242871, -0.016849208623170853, -0.00032439574715681374, 0.008593615144491196, 0.05727246031165123, 0.034512728452682495, 0.018291359767317772, -0.03627166152000427, 0.019243277609348297, -0.011026201769709587, -0.051076490432024, -0.011925929225981236, 0.03441394492983818, 0.02501552551984787, 0.0058752852492034435, 0.002253970829769969, 0.056633055210113525, -0.025044512003660202, -0.05167186260223389, -0.04070141166448593, -0.0038237133994698524, -0.08939450979232788, 0.013491149991750717, 0.032876916229724884, 0.020798707380890846, 0.04125227779150009, 0.03118397668004036, 0.010359597392380238, -0.032930463552474976, -0.02438637800514698, -0.015636021271348, -0.017844488844275475, 0.01631946675479412, -0.003374026855453849, -0.008289524354040623, 0.007997742854058743, 0.01757996901869774, 0.00581497885286808, -0.0015096730785444379, 0.03361966088414192, -0.023578902706503868, 0.01816854253411293, -0.013307503424584866, -0.01097483653575182, -0.06073553487658501, 0.03531361371278763, 0.03325331211090088, 0.0035984059795737267, -0.009528713300824165, -0.03346239775419235, 0.026455817744135857, 0.00484523456543684, -0.005232717376202345, -0.028605030849575996, 0.03523758053779602, -0.002323237946256995, -0.033424727618694305, 0.02069600485265255, -0.016646800562739372, 0.05031393840909004, 0.005382888950407505, 0.006805242970585823, -0.042241498827934265, -0.05043674632906914, -0.023666445165872574, -0.00038136274088174105, 0.017486929893493652, -0.021624566987156868, -0.051152732223272324, -0.005384382326155901, -0.00793195329606533, 0.012596530839800835, 0.040384359657764435, 0.023643095046281815, 0.011450246907770634, -0.012604239396750927, -0.02401760220527649, 0.05937512591481209, 0.022746851667761803, -0.01466281060129404, 0.028443578630685806, 0.002861068584024906, -0.027433983981609344, 0.0026598982512950897, -0.012619033455848694, -0.019325874745845795, 0.0012929068179801106, 0.024065889418125153, 0.005559958051890135, 0.0004692990332841873, -0.012332946062088013, 0.008361552841961384, 0.007104413118213415, -0.014163808897137642, -0.0257897786796093, -0.009066934697329998, 0.011334886774420738, -0.03867330402135849, 0.01245866809040308, -0.014846640639007092, -0.05338031053543091, 0.0007011341513134539, -0.037628207355737686, 0.024404333904385567, -0.022411558777093887, -0.003127617994323373, 0.005926293786615133, 0.02924327366054058, 0.012872337363660336, -0.02525152452290058, -0.017893923446536064, -0.03265882655978203, 0.015788735821843147, 0.03683767840266228, -0.019260162487626076, 0.00415329122915864, -0.008615179918706417, 0.025600211694836617, 0.03141617402434349, 0.01388208381831646, 0.016615958884358406, 0.026485860347747803, 0.016514809802174568, 0.0371055081486702, 0.017170500010252, 0.01632167585194111, -0.022120635956525803, 0.027621950954198837, 0.024099666625261307, -0.024876022711396217, -0.034905191510915756, 0.010859468020498753, 0.0375361442565918, 0.03244509547948837, -0.002951079746708274, -0.02130083180963993, -0.0008492154302075505, -0.04943309351801872, -0.050271667540073395, -0.055717624723911285, -0.03578627482056618, 0.051653917878866196, -0.026500364765524864, -0.02994449809193611, 0.04084906354546547, -0.002776423702016473, -0.15416249632835388, 0.05287323519587517, -0.04404003545641899, 0.024527812376618385, 0.0007717603584751487, -0.023125791922211647, 0.028217662125825882, 0.020606162026524544, -0.06491447985172272, 0.05870111286640167, -0.015259722247719765, -0.05291961506009102, -0.026743577793240547, -0.016040092334151268, 0.035134702920913696, 0.03692736476659775, 0.018240993842482567, -0.00014412995369639248, -0.02538215182721615, -0.004293652717024088, -0.04096050187945366, -0.05058607459068298, 0.01501431129872799, -0.03581547364592552, 0.0297900028526783, -0.04509012773633003, -0.02097088284790516, -0.023698916658759117, -0.02904956042766571, -0.03439372777938843, -0.018698476254940033, -0.009413898922502995, -0.021368425339460373, 0.04190988093614578, 0.02259017713367939, 0.008137819357216358, 0.0034019530285149813, -0.03497296944260597, 0.05352334305644035, 0.0063306107185781, -0.009400857612490654, 0.03403535857796669, 0.013987412676215172, 0.005095543339848518, -0.0004018635372631252, -0.02248125523328781, 0.03870448097586632, 0.0006442389567382634, -0.01381596364080906, 0.009313210844993591, -0.02437054179608822, -0.0503958985209465, 0.04627172276377678, -0.021217206493020058, -0.03346465900540352, 0.006026177201420069, 0.010226227343082428, 0.0693257674574852, 0.022632379084825516, 0.012568981386721134, -0.04025658592581749, -0.034716807305812836, 0.019841788336634636, 0.014833872206509113, 0.013841270469129086, -0.046721041202545166, 0.0554732084274292, 0.01116593461483717, 0.021457117050886154, -0.0222623310983181, 0.03648180142045021, -0.001409093732945621, 0.05106917396187782, -0.016896678134799004, -0.00025814256514422596, 0.049261558800935745, 0.00779416598379612, -0.07784531265497208, -0.051600515842437744, -0.08172132074832916, 0.00018161495972890407, -0.002750927582383156, -0.009116044268012047, -0.0046514528803527355, -0.04209813103079796, -0.0022110268473625183, -0.010076138190925121, -0.027880841866135597, 0.05060292035341263, 0.20528993010520935, 0.026444388553500175, -0.00022554927272722125, -0.02664925903081894, 0.03717321157455444, -0.008842204697430134, -0.014338122680783272, -0.019308680668473244, 0.01748105324804783, -0.01015713531523943, 0.00998525321483612, -0.022104531526565552, -0.0012158373137935996, 0.0062701646238565445, 0.013725167140364647, 0.025201812386512756, -0.03385930508375168, -0.0011371283326297998, 0.08596232533454895, 0.021859372034668922, -0.0076448023319244385, -0.0030849636532366276, 0.04453134536743164, -0.0013036989839747548, -0.028895623981952667, -0.02633526176214218, 0.002809372032061219, 0.010797198861837387, -0.01945122890174389, -0.03645364195108414, 0.00508818868547678, 0.02991407923400402, -0.010682026855647564, 0.0066850152797997, 0.02388153038918972, 0.017712952569127083, 0.0014705079374834895, -0.01895170658826828, 0.009166087955236435, 0.007664745207875967, -0.0205098744481802, -0.01571500487625599, -0.0014612727100029588, 0.007429551333189011, 0.009566971100866795, 0.010711127892136574, 0.006898334715515375, -0.009391147643327713, -0.019545529037714005, -0.03545309975743294, -0.06176721677184105, -0.02227279357612133, -0.043118420988321304, 0.018352704122662544, -0.0023402248043566942, -0.00422264076769352, -0.04327485337853432, 0.02585824951529503, 0.017618319019675255, 0.008789420127868652, 0.0394388809800148, 0.008824598975479603, 0.03327033296227455, 0.025980431586503983, -0.009331445209681988, -0.005429052747786045, -0.0374029204249382, -0.05824080482125282, 0.058875903487205505, -0.0037429367657750845, 0.013187030330300331, 0.01479290146380663, -0.046682607382535934, -0.022107258439064026, 0.006471550092101097, 0.0035057419445365667, 0.03154467046260834, 0.02669130451977253, 0.028576310724020004, 0.028033701702952385, -0.02931995876133442, 0.010856720618903637, -0.027783209457993507, 0.03786865994334221, 0.007742207031697035, -0.05145534500479698, -0.014120901003479958, 0.055616430938243866, 0.017498444765806198, -0.02479570172727108, 0.013818351551890373, 0.008258629590272903, -0.009095224551856518, 0.04424842447042465, -0.013298497535288334, 0.02285119891166687, 0.007554703392088413, -0.005556208081543446, -0.02685137279331684, 0.04283808544278145, -0.030624471604824066, -0.043705523014068604, -0.00968050304800272, -0.006718870252370834, 0.016627781093120575, 0.02082773856818676, 0.020590873435139656, 0.05548369884490967, 0.009113837033510208, 0.048021476715803146, 0.0028951666317880154, 0.02698773890733719, -0.05199011415243149, -0.04606857895851135, 0.014079540967941284, -0.010256774723529816, 0.0209457166492939, 0.02068701758980751, 0.006968662142753601, 0.01487581804394722, -0.031363919377326965, 0.0012488309293985367, 0.018802378326654434, 0.03199193999171257, 0.00028787413612008095, -0.027227599173784256, 0.04708477109670639, 0.03383411839604378, -0.015768907964229584, 0.019647113978862762, 0.06061580777168274, 0.0018482246669009328, 0.004004763439297676, 0.048760153353214264, 0.02282674051821232, 0.014284459874033928, -0.01406631339341402, 0.02196742407977581, 0.059862155467271805, 0.0002834256738424301, 0.014908505603671074, 0.0070230611599981785, 0.024416428059339523, 0.008015736006200314, 0.010872667655348778, 0.0016236713854596019, -0.013646860606968403, 0.04847623407840729, -0.023516222834587097, -0.0062233866192400455, 0.0007702475413680077, -0.022264234721660614, 0.05826390162110329, -0.04253316670656204, -0.008776810020208359, -0.02951102703809738, -0.021039307117462158, -0.005618733819574118, 0.03724327310919762, -0.022321226075291634, 0.02959311567246914, 0.02222076803445816, 0.060007717460393906, 0.05433722212910652, -0.013109005987644196, 0.04675416275858879, -0.004019516054540873, -0.02003669925034046, -0.009979242458939552, -0.05236503854393959, 0.012971493415534496, -0.023964103311300278, -0.047012437134981155, 0.01768014021217823, -0.06316700577735901, -0.012216174043715, -0.05153881013393402, 0.01671609655022621, 0.0028964104130864143, 0.0023544172290712595, 0.04698432609438896, 0.005236129276454449, 0.02860591560602188, 0.018033552914857864, 0.002688273787498474, 0.012599238194525242, 0.043125882744789124, -0.012468844652175903, 0.016190791502594948, -0.03503524512052536, -0.013990475796163082, 0.085016168653965, -0.0006753434427082539, -0.0351075753569603, 0.018908152356743813, -0.04388415440917015, 0.01817844621837139, -0.014595311135053635, 0.05074295401573181, -0.014598655514419079, -0.012248449958860874, -0.05382188782095909, 0.009177236817777157, -0.013291014358401299, -0.02612142451107502, 0.01902090013027191, -0.009157728403806686, 0.015958454459905624, -0.0120592275634408, 0.023945840075612068, 0.010822166688740253, 0.0012781198602169752, -0.047413792461156845, 0.028183558955788612, -0.030282046645879745, 0.03450240194797516, -0.03545213118195534, 0.010610632598400116, 0.0217580683529377, -0.07106906175613403, -0.011429275386035442, -0.0007577463984489441, 0.0009730581077747047, -0.06687958538532257, 0.0017513880738988519, 0.03083803318440914, -0.01364520750939846, -0.020122915506362915, -0.019696613773703575, 0.04643259570002556, -0.004844034556299448, -0.08160025626420975, 0.04044303670525551, 0.004950539208948612, 0.031064730137586594, 0.005250832065939903, -0.006103157065808773, 0.014033690094947815, -0.021181927993893623, -0.019575422629714012, 0.025881420820951462, -0.026794711127877235, 0.06484155356884003, 0.017436519265174866, 0.02530399151146412, 0.012567288242280483, 0.006157843396067619, -0.015259072184562683, -0.002980070421472192, 0.004574267193675041, -0.011685582809150219, -0.047782350331544876, 0.04852062463760376, 0.027301812544465065, 0.01990865357220173, -0.04611237347126007, 0.04947087541222572, -0.015534046106040478, -0.02295875735580921, 0.007057492155581713, 0.011417144909501076, 0.028111154213547707, -0.0009654879686422646, 0.005214666482061148, 0.005879630334675312, 0.04090879112482071, 0.0467042475938797, 0.013859523460268974, -0.04856501892209053, -0.03641856461763382, 0.030556656420230865, -0.0033170052338391542, -0.03998250514268875, -0.03232380375266075, 0.03208153694868088, -0.0022122750524431467, -0.03743812069296837, 0.047036733478307724, 0.04756614938378334, -0.003721210639923811, -0.0048498958349227905, 0.05456387996673584, 0.008762145414948463, 0.014281773939728737, 0.013041599653661251, -0.005775437690317631, 0.011362367309629917, 0.005727249663323164, 0.028392186388373375, -0.037431832402944565, 0.017423443496227264, 0.00914617907255888, -0.0431130975484848, 0.01006042119115591, -0.013028774410486221, 0.02631349302828312, -0.008787103928625584, 0.04881312698125839, -0.02394181303679943, -0.00841749832034111, -0.030199870467185974, -0.01156555488705635, -0.008227403275668621, -0.0007780345040373504, 0.03608628362417221, 0.019429733976721764, 0.01580186001956463, -0.0647558867931366, 0.032271578907966614, -0.019714757800102234, 0.01244479138404131, 0.0005196079728193581, 0.03724122792482376, 0.04861585050821304, -0.030769020318984985, -0.011096899397671223, 0.030283987522125244, -0.04953470826148987, 0.05492834001779556, -0.002062710467725992, 0.04958367720246315, 0.0007331287488341331, -0.006119836121797562, -0.02313031069934368, 0.009980866685509682, 0.023883406072854996, -0.019458532333374023, -0.03200147673487663, 0.029113832861185074, -0.0537077859044075, -0.012846730649471283, 0.033008698374032974, -0.002457753522321582, 0.02562246099114418, 0.002896934514865279, -0.01608637347817421, -0.019892776384949684, -0.03626825287938118, 0.05153730884194374, 0.0259782113134861, -0.023754579946398735, -0.0021327021531760693, 0.0566306933760643, -0.021224891766905785, 0.0261578019708395, -0.030654970556497574, -0.009088468737900257, -0.0013653439236804843, 0.00737175066024065, 0.01401548832654953, -0.038815729320049286, -0.005175907164812088, -0.020652474835515022, -0.08542808890342712, 0.03286980092525482, -0.021121613681316376, -0.0017046340508386493, -0.023852970451116562, 0.010193300433456898, 0.00315295672044158, -0.04626760259270668, 0.004378520417958498, 0.01276626531034708, 0.031889162957668304, -0.006445481441915035, 0.061730459332466125, 0.027293391525745392, -0.040185317397117615, 0.012747366912662983, -0.043414004147052765, -0.03434222191572189, 0.02402893826365471, 0.045110803097486496, -0.06422789394855499, -0.002670815447345376, 0.015765773132443428, -0.04633602872490883, 0.015471948310732841, -0.0122641297057271, 0.004063889849931002, 0.0028699981048703194, -0.0590980164706707, -0.04977879300713539, -0.03188009560108185, 0.004282412584871054, -0.0406380333006382, -0.010036877356469631, -0.02049505151808262, 0.04349427670240402, 0.009182930923998356, -0.02145693264901638, -0.03666573390364647, 0.03871416300535202, -0.028576979413628578, -0.12108984589576721, 0.011257890611886978, -0.021855780854821205, 0.03847656026482582, -0.02077878639101982, 0.026198500767350197, -0.00520553532987833, 0.00762058375403285, 0.02388540469110012, -0.06817086040973663, -0.010705259628593922, 0.03838728740811348, 0.020878398790955544, -0.013643704354763031, -0.0012991240946576, 0.01889577880501747, -0.010627114214003086, 0.019094184041023254, 0.007303000893443823, 0.02512119896709919, -0.0030899490229785442, 0.01935051754117012, 0.04545748233795166, -0.006982714869081974, 0.016584420576691628, -0.004083436448127031, 0.006178717594593763, 0.010033616796135902, -0.06160520762205124, 0.008099179714918137, 0.05615950748324394, -0.05707826092839241, 0.0058596376329660416, 0.0026494741905480623, -0.052220337092876434, -0.029950402677059174, -0.04529865086078644, 0.004038567654788494, -0.027647968381643295, 0.03871113806962967, -0.032724566757678986, 0.027157532051205635, 0.039603494107723236, -0.011242403648793697, 0.01582041010260582, 0.08895602077245712, -0.03150152415037155, -0.016731785610318184, -0.014683927409350872, -0.020741140469908714, 0.02969815395772457, -0.026172824203968048, -0.012390892952680588, 0.05219877138733864, -0.01278012152761221, 0.016312645748257637, -0.05087510123848915, 0.009121689945459366, -0.0031363079324364662, 0.07734206318855286, -0.04193488508462906, 0.0007514804601669312, -0.030584584921598434, 0.013006349094212055, -0.007410421036183834, 0.030986018478870392, -0.057321008294820786, -0.01098827738314867, -0.015135088935494423, 0.006888911593705416, 0.008642489090561867, 0.06573329120874405, 0.033710937947034836, -0.03401569277048111, 0.029345497488975525, 0.01167399249970913, 0.051056843250989914, 0.007065109442919493, 0.01981101557612419, -0.03461385890841484, 0.01609565131366253, 0.012484765611588955, -0.046762239187955856, -0.02751576155424118, 0.01037651114165783, -0.02294738031923771, -0.03412254527211189, -0.003229927271604538, -0.0081771370023489, -0.0233717430382967, -0.04848463833332062, -0.011113757267594337, -0.019519316032528877, -0.0038488709833472967, -0.047343555837869644, 0.013848804868757725, 0.002097079763188958, 0.012429028749465942, -0.016072288155555725, -0.012233621440827847, -0.007150408811867237, -0.005227167624980211, 0.009924855083227158, -0.002352472860366106, -0.020415935665369034, 0.03459920734167099, 0.06643100082874298, -0.01072168629616499, 0.05480988323688507, -0.03403065353631973, 0.009117651730775833, -0.014219626784324646, -0.051660072058439255, 0.03949765861034393, -0.0029095024801790714, -0.01211625337600708, 0.016222892329096794, 0.06202354654669762, 0.015340413898229599, 0.03206447884440422, 0.04668773338198662, -0.02661546692252159, 0.002264575567096472, -0.018055245280265808, 0.06148133799433708, 0.00346016394905746, 0.000789481564424932, 0.045818038284778595, 0.049780115485191345, 5.11535290570464e-07, 0.015820708125829697, -0.0286665428429842, 0.0513313002884388, -0.019402412697672844, 0.05014568567276001, 0.0012629565317183733, 0.06666207313537598, 0.0322110541164875, -0.07578141987323761, -0.02677563764154911, -0.022792469710111618, -0.013899225741624832, -0.0027473231311887503, -0.017225274816155434, -0.05203031748533249, -0.006386063061654568, 0.028290927410125732, -0.05922170355916023, -0.0060425857082009315, -0.010329872369766235, -0.020534342154860497, -0.025234205648303032, 0.006485008168965578, 0.05987737700343132, -0.06461493670940399, 0.03917218744754791, -0.03935931622982025, 0.011597082018852234, -0.005001263227313757, -0.02177664265036583, 0.024796055629849434, -0.02105587348341942, -0.014341444708406925, 0.005037387832999229, -0.026903141289949417, -0.015666214749217033, -0.02000552788376808, -0.01751839742064476, -0.002119174227118492, 0.03180153667926788, 0.03315674886107445, 0.061100732535123825, -0.021780237555503845, -0.007200568914413452, 0.02345699444413185, 0.004500408656895161, -0.033949218690395355, 0.030627747997641563, 0.050583355128765106, 0.019436266273260117, 0.030365191400051117, -0.008498141542077065, 0.038616079837083817, 0.02410672791302204, -0.029866931959986687, -0.02248377352952957, -0.02936515584588051, 0.059138599783182144, 0.02399422973394394, -0.05173463001847267, -0.02144552953541279, -0.008028686977922916, -0.045875269919633865, 0.018533974885940552, -0.01298089511692524, 0.06204558163881302, 0.025514407083392143, 0.030436020344495773, -0.01386166550219059, 0.0114992531016469, -0.07689806073904037, -0.01568559929728508, 0.03136925771832466, -0.010092421434819698, -0.004928638227283955, 0.00583950849249959, -0.053610630333423615, -0.0019883911591023207, -0.023305846378207207, -0.012968667782843113, 0.008794130757451057, 0.018897220492362976, 0.0008404344553127885, -0.007589313201606274, 0.048878978937864304, -0.05043141171336174, 0.012652145698666573, -0.0050496263429522514, -0.015551939606666565, 0.0036741134244948626, 0.0029690281953662634, 0.007681530900299549, -0.02681870199739933, -0.01075143925845623, 0.013961128890514374, -0.0315084271132946, 0.010267519392073154, 0.05015922337770462, -0.035111941397190094, -0.0008258283487521112, -0.028183333575725555, -0.02412145957350731, 0.0028527015820145607, 0.020421698689460754, -0.013471568934619427, -0.014262286946177483, 0.022602267563343048, 0.038974665105342865, -0.008240535855293274, -0.015732180327177048, 0.054490603506565094, 0.008341762237250805, 0.034941475838422775, -0.017748065292835236]\n"
     ]
    }
   ],
   "source": [
    "# 문서 임베딩\n",
    "document_embeddings = embeddings_model.embed_documents(documents)\n",
    "\n",
    "# 임베딩 결과 출력\n",
    "print(f\"임베딩 벡터의 개수: {len(document_embeddings)}\")\n",
    "print(f\"임베딩 벡터의 차원: {len(document_embeddings[0])}\")\n",
    "print(document_embeddings[0])"
   ]
  },
  {
   "cell_type": "markdown",
   "id": "17ba092f",
   "metadata": {},
   "source": [
    "`(3) embed_query 사용`"
   ]
  },
  {
   "cell_type": "code",
   "execution_count": 48,
   "id": "6d3832ff",
   "metadata": {},
   "outputs": [
    {
     "name": "stdout",
     "output_type": "stream",
     "text": [
      "쿼리 임베딩 벡터의 차원: 1024\n",
      "[-0.03703901544213295, -0.0048379902727901936, 0.00293730734847486, -0.01551462709903717, -0.0009442086447961628, -0.04150163009762764, -0.0065744719468057156, 0.011289625428617, 0.02161405421793461, 0.0049287001602351665, -0.020340675488114357, 0.016905181109905243, -0.012874138541519642, 0.005518883932381868, 0.014988373965024948, 0.024228796362876892, 0.007369147147983313, -0.028049809858202934, -0.01493905484676361, -0.051851898431777954, -0.0067049916833639145, -0.009251514449715614, -0.01698085106909275, 0.006491476204246283, 0.052931785583496094, 0.04813728481531143, -0.008069610223174095, -0.023171762004494667, 0.018143033608794212, -0.011328150518238544, -0.004240433685481548, -0.006354697979986668, -0.00227176072075963, 0.014329479075968266, -0.035636719316244125, -0.00815583299845457, -0.011798147112131119, -0.045424044132232666, -0.04073285311460495, 0.0022138962522149086, -0.012132350355386734, 0.01789603941142559, -0.019144685938954353, -0.041924409568309784, 0.000919112004339695, -0.03915583714842796, -0.02435964159667492, -0.02448910102248192, -0.022189229726791382, -0.004594746511429548, 0.03145502135157585, -0.04872865974903107, 0.017981434240937233, 0.02499212883412838, 0.002237585373222828, 0.0484931506216526, -0.008275448344647884, 0.028034647926688194, -0.07396599650382996, -0.020461861044168472, -0.02633669041097164, -0.007573028095066547, -0.03894687816500664, -0.017513705417513847, 0.019220879301428795, 0.0637216866016388, 0.02034900151193142, -0.0116441510617733, -0.018541254103183746, -0.040831200778484344, 0.0024215620942413807, 0.041511256247758865, -0.057807132601737976, 0.05268532410264015, -0.045980341732501984, 0.011361505836248398, 0.02073202282190323, 0.006215655244886875, -0.03468089550733566, 0.017564944922924042, 0.048580996692180634, -0.011551995761692524, -0.029530880972743034, -0.01328029204159975, -0.0061003887094557285, -0.0019025589572265744, -0.019761264324188232, 0.0685402974486351, -0.010714992880821228, 0.0023070715833455324, -0.04258967190980911, -0.0015901023289188743, 0.051189254969358444, -0.10599071532487869, -0.018659546971321106, -0.08233028650283813, -0.03328854590654373, 0.010936743579804897, 0.014399319887161255, 0.03203717619180679, -0.00542317982763052, 0.04439566656947136, 0.016004163771867752, -0.02669711224734783, 0.029552824795246124, 0.005722376052290201, 0.0007926342659629881, 0.009445466101169586, -0.03795609250664711, -0.006559104658663273, 0.03813176229596138, 0.038677066564559937, 0.01900191232562065, 0.03200116753578186, -0.04679049178957939, -0.053457461297512054, 0.008922779001295567, 0.001382074085995555, 0.023152248933911324, 0.040909118950366974, -0.007746903691440821, 0.020619887858629227, -0.03608464449644089, -0.04233662039041519, -0.00893730204552412, -0.016762083396315575, 0.033051010221242905, 0.03457776457071304, -0.006106664892286062, -0.014311674982309341, 0.0269559845328331, -0.017395056784152985, -0.0762530192732811, -0.006047247909009457, -0.05990397185087204, -0.020366020500659943, 0.006905964110046625, -0.031208079308271408, 0.024911969900131226, -0.033270463347435, 0.03437253460288048, 0.006273983977735043, -0.03359513729810715, -0.028891675174236298, 0.018341194838285446, 0.006629385519772768, 0.004403337370604277, -0.007898855023086071, -0.010449237190186977, 0.024499045684933662, -0.017848575487732887, -0.02314079739153385, -0.026498032733798027, -0.009703955613076687, 0.00864023994654417, 0.046334803104400635, 0.010182274505496025, 0.023935383185744286, -0.05202917009592056, 0.034543320536613464, 0.042555999010801315, -0.0006984027568250895, 0.006904114969074726, 0.024554824456572533, -0.00924995169043541, 0.0037499030586332083, 0.00199226476252079, 0.022435259073972702, -0.007651560939848423, -0.026824582368135452, -0.03718428686261177, 0.010140120051801205, -0.03330331668257713, 0.03516099601984024, 0.014152949675917625, 0.001518041710369289, 0.06473010033369064, 0.03341679275035858, -0.009922672994434834, -0.008217360824346542, -0.05553997680544853, -0.0175247211009264, -0.011371063999831676, 0.0038229874335229397, -0.003737537655979395, 0.0111478790640831, 0.0158926323056221, 0.01153587270528078, 0.01930193603038788, 6.5959757193923e-05, -0.01662607491016388, -0.02188456431031227, 0.013342290185391903, -0.00461457297205925, -0.0013087402330711484, -0.029976265504956245, 0.0336875319480896, 0.046029362827539444, -0.004229740239679813, -0.040023427456617355, -0.027000240981578827, 0.0284719318151474, 0.016615092754364014, 0.007434011436998844, -0.04309452325105667, 0.013872268609702587, 0.004785315133631229, -0.042156677693128586, 0.011164196766912937, -0.03745194151997566, 0.018990451470017433, 0.0484260655939579, 0.04987224191427231, -0.02393333613872528, -0.05517066642642021, -0.00864908006042242, -0.019167358055710793, 0.044196173548698425, -0.007545473054051399, -0.012426603585481644, -0.013597337529063225, 0.019231347367167473, 0.0015144393546506763, 0.025551604107022285, 0.03561321645975113, -0.0017695665592327714, 0.03700566664338112, -0.019344206899404526, 0.021112509071826935, 0.010621197521686554, 0.0018154506105929613, 0.05887375399470329, 0.016217172145843506, -0.03262636810541153, 0.0010106839472427964, -0.014767247252166271, -0.037835799157619476, -0.02151411585509777, 0.006840167101472616, 0.019496027380228043, -0.024711348116397858, 0.002176544861868024, -0.03264017030596733, 0.026917025446891785, -0.011721746064722538, -0.013111695647239685, -0.016775213181972504, -0.025881562381982803, -0.012007080018520355, 0.025429386645555496, -0.0012389736948534846, -0.03878544270992279, 0.005284774582833052, -0.012242508120834827, 0.05315488204360008, 0.01401730626821518, -0.01020786352455616, 0.00570858595892787, 0.007218020968139172, 0.03655295446515083, 0.010486871004104614, -0.023656059056520462, 0.0005250893300399184, 0.0328153520822525, 0.053955771028995514, 0.010052737779915333, 0.0018816953524947166, -0.03236302733421326, 0.019335737451910973, 0.033755332231521606, -0.014729061163961887, -0.020189419388771057, -0.020224370062351227, 0.0033614218700677156, 0.03844422847032547, -0.01458840724080801, -0.008461152203381062, -0.015727415680885315, 0.025323007255792618, 0.00963727105408907, -0.021265888586640358, -0.05622906610369682, -0.014719382859766483, 0.046484943479299545, 0.024742834270000458, -0.025216154754161835, -0.03149871528148651, 0.002110251924023032, -0.0018525042105466127, -0.03766096010804176, -0.010685332119464874, -0.021195484325289726, 0.05994453281164169, -0.017540985718369484, -0.029294420033693314, -0.016515033319592476, -0.033342745155096054, -0.13450627028942108, 0.01486197579652071, -0.030510207638144493, 0.02387094870209694, -0.00899083074182272, -0.030506936833262444, 0.019909899681806564, -0.012342043220996857, 0.0009845854947343469, 0.02932531200349331, 0.008167656138539314, -0.04651205986738205, -0.049962740391492844, -0.03237047418951988, 0.031549856066703796, 0.005826650187373161, 0.01724795624613762, -0.012478447519242764, -0.03253534436225891, -0.04868703708052635, -0.016888219863176346, -0.06612596660852432, 0.008022110909223557, -0.0514935627579689, 0.05662040784955025, -0.011946947313845158, 0.014184584841132164, -0.0032263195607811213, -0.04714833199977875, -0.0571012906730175, -0.01361990999430418, -0.04022349417209625, -0.009091462008655071, 0.05346478149294853, 0.05188022181391716, 0.005872095935046673, -0.003309090854600072, -0.024142488837242126, 0.04166969284415245, -0.006590475328266621, 0.0012395918602123857, 0.0040785144083201885, 0.02711058035492897, 0.041705481708049774, 0.004624214954674244, 0.01732739433646202, 0.031226815655827522, -0.018804416060447693, 0.022112911567091942, -0.001415814971551299, -0.031641434878110886, -0.0038417044561356306, 0.04987514019012451, -0.04317930340766907, 0.01945359818637371, -0.004618087317794561, 0.038762979209423065, 0.074924536049366, 0.046732351183891296, -0.012821970507502556, -0.04926642030477524, 0.03639509156346321, -0.01649920642375946, 0.023837430402636528, -0.014056285843253136, -0.008350436575710773, 0.07635486125946045, 0.021610694006085396, -0.006471777334809303, -0.02988835796713829, 0.042987510561943054, -0.006319562438875437, 0.0034828982315957546, -0.011994393542408943, 0.018967226147651672, 0.03665361925959587, 0.011891410686075687, -0.055312544107437134, -0.04361610487103462, -0.07883036881685257, 0.02663961797952652, -0.016894208267331123, -0.0008406174601987004, -0.0007741515291854739, -0.02035101130604744, -0.019341686740517616, -0.001919379341416061, 0.002937192562967539, 0.016311688348650932, 0.24095173180103302, -0.020463066175580025, 0.016002897173166275, -0.023172393441200256, -0.009749173186719418, -0.005551560781896114, -0.022992217913269997, -0.02173413150012493, 0.010987713001668453, -0.022734826430678368, 0.005074276123195887, -0.016034074127674103, 0.007482064422219992, 0.003896902548149228, 0.024994533509016037, 0.06091342493891716, -0.03454161435365677, 0.008022156544029713, 0.06798810511827469, 0.011886155232787132, 0.001399890286847949, 0.01213294267654419, 0.03347228467464447, 0.01225571520626545, -0.02356654778122902, -0.006584764923900366, 0.01638786494731903, 0.03231014311313629, -0.01211631204932928, -0.020721757784485817, -0.0006229437422007322, 0.006029624491930008, 0.015111149288713932, -0.005422511603683233, 0.0024635493755340576, 0.008051224052906036, -0.012814340181648731, -0.026078220456838608, 0.016747495159506798, -0.002205138560384512, -0.029849661514163017, -0.021296169608831406, 0.035239268094301224, -0.006630357820540667, 0.00959187000989914, 0.018282296136021614, 0.017618823796510696, 0.018735408782958984, -0.0649481788277626, -0.019879937171936035, -0.03368121385574341, -0.0021162889897823334, -0.051296863704919815, 0.0022099860943853855, -0.011080160737037659, -0.02089046500623226, -0.015042406506836414, 0.03895004838705063, 0.01661720499396324, -0.017477530986070633, 0.066902756690979, -0.004562969319522381, 0.02343885414302349, -0.02787802368402481, 0.008510054089128971, -0.01647285558283329, -0.0329514816403389, -0.08128276467323303, -0.011990685947239399, 0.005866079591214657, 5.3779785957885906e-05, -0.0034926272928714752, -0.035064492374658585, -0.005048433318734169, 0.0237740445882082, 0.02924027107656002, 0.030662590637803078, 0.038219280540943146, 0.007099471986293793, 0.010195634327828884, 0.015867672860622406, 0.0036339678335934877, -0.0426153689622879, 0.014660644344985485, 0.009449553675949574, -0.039429713040590286, -0.028074130415916443, 0.04945925995707512, 0.02814224362373352, -0.04472806677222252, 0.04677301645278931, -0.01853318326175213, -0.040078409016132355, 0.03154455125331879, 0.011868328787386417, -0.012655324302613735, 0.06579036265611649, 0.013060932978987694, 0.010287109762430191, 0.04188523814082146, -0.039371754974126816, -0.022850647568702698, 0.00016460152983199805, 0.055605705827474594, 0.04951544851064682, -0.008175412192940712, 0.010815383866429329, 0.06870774179697037, 0.007081468123942614, 0.09678664803504944, -0.01700117066502571, -0.005990411154925823, -0.03747916594147682, -0.002882100408896804, 0.024536585435271263, 0.0067350235767662525, 0.028513984754681587, -0.023954475298523903, 0.008569206111133099, 0.014626221731305122, -0.04774688556790352, 0.02744404412806034, -0.000999659183435142, -0.023877542465925217, 0.02463691681623459, -0.03217216581106186, 0.03437192365527153, -0.01082026120275259, -0.013791005127131939, 0.015677310526371002, 0.03971206769347191, 0.007031183689832687, 0.033247802406549454, 0.06762748956680298, 0.0434662401676178, 0.010069833137094975, -0.006054611410945654, 0.03341535106301308, 0.02347981184720993, 0.022209614515304565, -0.010580663569271564, -0.006418740842491388, -0.0009642532095313072, 0.02053740806877613, 0.004917837213724852, 0.006863181944936514, 0.026144735515117645, 0.03087623044848442, -0.03568340837955475, -0.036932941526174545, -0.03490955010056496, -0.016222791746258736, -0.007834132760763168, -0.08086272329092026, -0.0026362105272710323, -0.026474643498659134, -0.0013029909459874034, -0.034667838364839554, -0.0015013022348284721, -0.03400754928588867, 0.029870467260479927, -0.0235744658857584, 0.0514337532222271, 0.10243326425552368, 0.01694747805595398, 0.07389852404594421, 0.049549851566553116, 0.01110905036330223, 0.008857791312038898, -0.06901860237121582, 0.046070802956819534, -0.03176073357462883, -0.04350808635354042, 0.0069474331103265285, -0.028536882251501083, -0.028709640726447105, -0.028362354263663292, 0.0007430376717820764, 0.009753042832016945, -0.051029134541749954, 0.016081761568784714, 0.019987285137176514, 0.025810910388827324, 0.05375569686293602, -0.005319284275174141, 0.003931432031095028, 0.053991980850696564, -0.005129036493599415, 0.014109067618846893, -0.015200169757008553, -0.0002676090516615659, 0.07187125086784363, 0.011996808461844921, -0.006194982677698135, 0.020591938868165016, -0.039722740650177, 0.007841428741812706, -0.02062477543950081, 0.046031150966882706, 0.028482593595981598, 0.033692147582769394, -0.05101749673485756, -0.0006113201379776001, -0.0005767179536633193, 0.020632067695260048, 0.009316207841038704, -0.02317870408296585, -0.0013654431095346808, -0.01855282299220562, 0.044818975031375885, 0.026425637304782867, -0.005445343907922506, -0.03083127923309803, -0.007227293215692043, -0.03326857462525368, 0.018092388287186623, -0.04253171756863594, 0.03340942785143852, 0.02285834588110447, -0.05665275827050209, -0.03302741050720215, 0.030000632628798485, 0.012428225949406624, -0.07073474675416946, 0.0003781253471970558, 0.05293033644556999, -0.02843492664396763, -0.021334772929549217, 0.02561727911233902, 0.037739310413599014, 0.008760245516896248, -0.06261826306581497, 0.020341357216238976, 0.03599689155817032, 0.012768266722559929, -0.015243921428918839, -0.021516714245080948, -0.016208600252866745, -0.014530650340020657, -0.03024544194340706, 0.03425869345664978, -0.013401355594396591, 0.06385200470685959, 0.02114606834948063, 0.01792147383093834, -0.01934732124209404, 0.011336891911923885, -0.00872353371232748, -0.015219837427139282, 0.028517620638012886, -0.032641083002090454, -0.01074390672147274, 0.04179010167717934, 0.0026682212483137846, 0.009615439921617508, -0.012813898734748363, 0.03967620059847832, 0.0013597456272691488, -0.011945142410695553, -0.002205222612246871, 0.002957322634756565, 0.027802933007478714, -0.030607201159000397, 0.0018586128717288375, -0.002449738560244441, 0.021612228825688362, 0.007533805910497904, 0.0033528595231473446, -0.054315485060214996, -0.046929504722356796, 0.03315074369311333, 0.0190508384257555, -0.02316317893564701, -0.04460863396525383, -0.0284251868724823, 0.025952940806746483, -0.04476156830787659, 0.018117813393473625, 0.006036244332790375, 0.04835155978798866, -0.018086018040776253, 0.070595882833004, -0.012845777906477451, 0.03550199046730995, -0.02840558812022209, -0.0042905849404633045, 0.00998142920434475, -0.025032369419932365, 0.0003416291729081422, -0.07229287177324295, -0.0075759305618703365, -0.017060384154319763, -0.05374092981219292, 0.01709277182817459, -0.006584630813449621, 0.058475833386182785, -0.019886909052729607, 0.039390288293361664, -0.024408822879195213, -0.02269756980240345, -0.035357214510440826, 0.0014930887846276164, -0.01427781954407692, 0.01902518980205059, -0.0010353773832321167, 0.024349773302674294, 0.012797106057405472, -0.03189676254987717, 0.024282218888401985, -0.0005900601390749216, -0.018702203407883644, 0.006278982851654291, 0.02822849340736866, 0.029838593676686287, -0.045945294201374054, -0.01682393066585064, 0.047541502863168716, -0.07021927833557129, 0.02510419674217701, 0.023485712707042694, 0.05767754092812538, 0.023428943008184433, 0.0015275647165253758, -0.04584294930100441, 0.030835408717393875, 0.0004904450033791363, -0.020950747653841972, -0.03031074069440365, 0.02604523114860058, -0.07034265249967575, -0.01583990827202797, 0.046562548726797104, -0.007092820480465889, -0.00386612256988883, -0.00879648420959711, 0.0005151169607415795, -0.030279239639639854, -0.024433599784970284, 0.038050729781389236, -0.016502927988767624, 0.04245007038116455, 0.005689379759132862, 0.04680795967578888, -0.017270362004637718, -0.016238784417510033, -0.05630582943558693, 0.00818433053791523, 0.020044390112161636, -0.0024435678496956825, 0.03499753773212433, 0.009682726114988327, 0.04170859232544899, -0.04717325419187546, -0.05711444839835167, 0.039457108825445175, 0.016719816252589226, -0.030553780496120453, -0.025327665731310844, 0.020326249301433563, 0.010175001807510853, -0.040363576263189316, 0.031642746180295944, 0.014100992120802402, 0.035617128014564514, 0.013648376800119877, 0.01316949725151062, 0.0028140919748693705, -0.024343052878975868, 0.01384560577571392, -0.014623410068452358, -0.01081580389291048, 0.014875094406306744, 0.05588506534695625, -0.037536703050136566, -0.02480759471654892, 0.016538476571440697, -0.016592487692832947, -0.01973751373589039, -0.010183124803006649, -0.023496905341744423, -0.011645322665572166, -0.06232396513223648, -0.03916676715016365, -0.03645595908164978, -0.011060037650167942, -0.023356186226010323, 2.1627871319651604e-05, -0.04460379481315613, 0.04020138457417488, -0.05502595379948616, -0.03401703014969826, -0.035880375653505325, -0.012097500264644623, -0.006962605286389589, -0.12520669400691986, 0.02568039856851101, -0.000691126158926636, -0.00551173510029912, -0.0403444729745388, 0.012482861988246441, -0.023088684305548668, -0.0004981785896234214, 0.014127613976597786, -0.02377869375050068, -0.022780083119869232, 0.050184521824121475, -0.04474738985300064, -0.014800108037889004, -0.00471152039244771, 0.028020404279232025, -0.016769656911492348, 0.016406262293457985, -0.01632564701139927, -0.021781720221042633, -0.042400240898132324, -0.012077455408871174, 0.028010796755552292, -0.02755478210747242, 0.05169367417693138, 0.022306382656097412, 0.025189902633428574, 0.043324150145053864, -0.038832176476716995, -0.014297820627689362, 0.01759360544383526, -0.0693959966301918, 0.04147271066904068, -0.001370500773191452, -0.05102720484137535, -0.027104731649160385, -0.02551502175629139, -0.019199738278985023, -0.004186002071946859, 0.00092788424808532, -0.004753075540065765, 0.017131222411990166, 0.005207458510994911, -0.025614479556679726, -0.03588835895061493, 0.04588901251554489, -0.027583850547671318, -0.027079015970230103, -0.02463512495160103, 0.004591160919517279, 0.02680465206503868, -0.019332153722643852, 0.0011265261564403772, 0.019270403310656548, -0.006840437185019255, 0.024125050753355026, -0.054522059857845306, 0.02509879134595394, -0.00256261951290071, 0.09898555278778076, -0.0020522261038422585, -0.0008181677549146116, -0.02720695175230503, 0.02883034385740757, -0.023654142394661903, 0.019349321722984314, -0.035168759524822235, 0.005421302746981382, 0.024397557601332664, 0.006299089174717665, -0.011892016977071762, 0.0053063808009028435, 0.01167838554829359, -0.017512695863842964, 0.03408227488398552, 0.01178284827619791, 0.03477011248469353, 0.015951041132211685, -0.017956124618649483, -0.02845061384141445, 0.035627126693725586, 0.00675588846206665, -0.04474259167909622, -0.01243676245212555, -0.01788587123155594, 0.006770777516067028, -0.030114199966192245, 0.014468454755842686, 0.01238388940691948, -0.01036412175744772, -0.0745256170630455, -0.013963408768177032, 0.004212427884340286, 0.010386228561401367, -0.050680216401815414, 0.0054352134466171265, -0.02154998853802681, 0.004790769889950752, -0.03258197382092476, -0.01671917736530304, -0.01722091995179653, -0.0008277598535642028, 0.017261937260627747, 0.026830075308680534, -0.015174453146755695, 0.008098119869828224, 0.0670638456940651, -0.018373645842075348, 0.006587100215256214, -0.004388069733977318, 0.015563713386654854, -0.007881890051066875, 0.00404506316408515, 0.035040318965911865, 0.0011946562444791198, -0.010163338854908943, 0.029281724244356155, 0.033937402069568634, 0.0009082794422283769, 0.026278523728251457, -0.010453034192323685, -0.009190794080495834, -0.021630320698022842, -0.012689530849456787, 0.04191257059574127, 0.0532698892056942, 0.004059973638504744, 0.015840185806155205, 0.09813230484724045, -0.001311382045969367, 0.02616625279188156, -0.06436095386743546, 0.015403510071337223, -0.009460684843361378, 0.029180627316236496, -0.035122375935316086, 0.030463270843029022, 0.04443248733878136, -0.03815361484885216, -0.06943000108003616, -0.012108974158763885, 0.023328499868512154, -0.02252817526459694, -0.0024424393195658922, -0.0498543418943882, -0.030899671837687492, 0.01758473366498947, -0.010001775808632374, -0.05021366477012634, -0.05402827635407448, -0.007201594300568104, -0.018136851489543915, 0.0014227391220629215, 0.025819553062319756, -0.0021002136636525393, 0.03713342547416687, -0.02397637814283371, 0.008912047371268272, -0.027604131028056145, 0.028801899403333664, 0.010518432594835758, -0.013373836874961853, -0.02934347093105316, -0.004075859673321247, -0.03959449380636215, -0.02474447526037693, -0.00998627208173275, -0.012933122925460339, -0.01710483990609646, 0.021259360015392303, 0.00532779935747385, 0.06360169500112534, -0.035000063478946686, 0.04053347557783127, 0.039436452090740204, -0.011726189404726028, -0.002718321280553937, 0.06286504119634628, 0.012967726215720177, -0.018978169187903404, 0.02584889717400074, -0.0299390722066164, 0.014616979286074638, 0.020571129396557808, -0.029358796775341034, -0.04000377655029297, -0.012205072678625584, 0.06588024646043777, 0.0321393683552742, -0.004850615281611681, -0.006376966834068298, 0.0069351401180028915, 0.01251147035509348, -0.009102009236812592, 0.03476705774664879, 0.03852367773652077, 0.034563276916742325, 0.03191705048084259, -0.02738860994577408, 0.027580376714468002, -0.05587907135486603, -0.01438996847718954, 0.04932099208235741, -0.015086079016327858, -0.012661011889576912, -0.0031209797598421574, -0.04098905250430107, -0.010736575350165367, -0.018654974177479744, 0.0017576388781890273, -0.015417602844536304, -0.02493096888065338, 0.016272157430648804, 0.008304043672978878, 0.012492269277572632, -0.02610434778034687, 0.028651632368564606, -0.006774356123059988, -0.021069353446364403, -0.01241324096918106, -0.004087918438017368, -0.011877251788973808, -0.010481739416718483, -0.022585393860936165, 0.01359666045755148, -0.05835205316543579, 0.007541205734014511, 0.04869057610630989, -0.024091754108667374, 0.006596388295292854, 0.02685137279331684, -0.052196014672517776, -0.04545792564749718, 0.04518220201134682, 0.015354662202298641, -0.016589900478720665, 0.0503237321972847, 0.012740335427224636, -0.008616232313215733, -0.03751925751566887, 0.05184711143374443, -0.018242783844470978, 0.0012517598224803805, -0.025500014424324036]\n"
     ]
    }
   ],
   "source": [
    "embedded_query = embeddings_model.embed_query(\"인공지능이란 무엇인가요?\")\n",
    "\n",
    "# 쿼리 임베딩 결과 출력\n",
    "print(f\"쿼리 임베딩 벡터의 차원: {len(embedded_query)}\")\n",
    "print(embedded_query)"
   ]
  },
  {
   "cell_type": "markdown",
   "id": "4e87fd17",
   "metadata": {},
   "source": [
    "`(4) 유사도 기반 검색`"
   ]
  },
  {
   "cell_type": "code",
   "execution_count": 49,
   "id": "76435ced",
   "metadata": {},
   "outputs": [
    {
     "name": "stdout",
     "output_type": "stream",
     "text": [
      "쿼리: 인공지능이란 무엇인가요?\n",
      "가장 유사한 문서: 인공지능은 컴퓨터 과학의 한 분야입니다.\n",
      "유사도: 0.7269\n",
      "\n",
      "쿼리: 딥러닝과 머신러닝의 관계는 어떻게 되나요?\n",
      "가장 유사한 문서: 딥러닝은 머신러닝의 한 종류입니다.\n",
      "유사도: 0.7057\n",
      "\n",
      "쿼리: 컴퓨터가 이미지를 이해하는 방법은?\n",
      "가장 유사한 문서: 컴퓨터 비전은 컴퓨터가 디지털 이미지나 비디오를 이해하는 방법을 연구합니다.\n",
      "유사도: 0.6843\n",
      "\n"
     ]
    }
   ],
   "source": [
    "# 예제 쿼리\n",
    "queries = [\n",
    "    \"인공지능이란 무엇인가요?\",\n",
    "    \"딥러닝과 머신러닝의 관계는 어떻게 되나요?\",\n",
    "    \"컴퓨터가 이미지를 이해하는 방법은?\"\n",
    "]\n",
    "\n",
    "# 각 쿼리에 대해 가장 유사한 문서 찾기\n",
    "for query in queries:\n",
    "    most_similar_doc, similarity = find_most_similar(query, document_embeddings)\n",
    "    print(f\"쿼리: {query}\")\n",
    "    print(f\"가장 유사한 문서: {most_similar_doc}\")\n",
    "    print(f\"유사도: {similarity:.4f}\")\n",
    "    print()"
   ]
  },
  {
   "cell_type": "markdown",
   "id": "6d063911",
   "metadata": {},
   "source": [
    "### 4-3 Ollama - 오픈소스 LLM"
   ]
  },
  {
   "cell_type": "markdown",
   "id": "ba69a0f5",
   "metadata": {},
   "source": [
    "`(1) embedding 모델`"
   ]
  },
  {
   "cell_type": "code",
   "execution_count": 54,
   "id": "795906a7",
   "metadata": {},
   "outputs": [
    {
     "data": {
      "text/plain": [
       "OllamaEmbeddings(model='bge-m3', base_url=None, client_kwargs={}, _client=<ollama._client.Client object at 0x3076f1410>, _async_client=<ollama._client.AsyncClient object at 0x3078a8990>)"
      ]
     },
     "execution_count": 54,
     "metadata": {},
     "output_type": "execute_result"
    }
   ],
   "source": [
    "from langchain_ollama import OllamaEmbeddings\n",
    "\n",
    "# OllamaEmbeddings 모델 생성\n",
    "# embeddings_model = OllamaEmbeddings(model=\"nomic-embed-text\")\n",
    "embeddings_model = OllamaEmbeddings(model=\"bge-m3\")\n",
    "\n",
    "# 임베딩 객체 출력\n",
    "embeddings_model"
   ]
  },
  {
   "cell_type": "markdown",
   "id": "0673debb",
   "metadata": {},
   "source": [
    "`(2) embed_documents 사용`"
   ]
  },
  {
   "cell_type": "code",
   "execution_count": 55,
   "id": "2fde851f",
   "metadata": {},
   "outputs": [
    {
     "name": "stdout",
     "output_type": "stream",
     "text": [
      "임베딩 벡터의 개수: 5\n",
      "임베딩 벡터의 차원: 1024\n",
      "[-0.03931497, 0.008721112, -0.012852541, 0.0023820843, -0.009018188, -0.0074397568, -0.005545783, -0.009000815, 0.03282661, 0.00597822, -0.027313238, -0.027908258, 0.00036453785, 0.030143026, 0.017158497, 0.017252987, 0.025458425, -0.021863855, -0.011466738, -0.05697076, -0.00023014759, 0.013507283, -0.0074310186, 0.01854247, 0.0029200267, 0.008601518, -0.00081364455, -0.02905518, 0.02075742, -0.020625666, 0.008136039, -0.02688138, 0.0036543147, -0.016179923, -0.07387962, -0.033676706, -0.02384348, -0.034338653, -0.034617513, 0.0055238022, -0.050142344, -0.0029514732, -0.02309697, -0.07501646, -0.011301303, -0.028939748, -0.034186218, -0.02544571, -0.06139335, 0.013563818, 0.024455268, -0.031441867, 0.050599128, 0.012971847, -0.063983314, 0.02728854, 0.007022479, 0.01037388, -0.06406661, -0.0161906, -0.02071021, 0.030174006, -0.0063638417, -0.013157325, -0.000710721, 0.04693201, 0.007848867, 0.02966306, -0.034822952, -0.03637293, 0.021471098, 0.01764563, -0.033509105, 0.01401558, -0.052316543, 0.04867326, -0.013367686, -0.01726746, -0.034382068, 0.021206569, -0.02295425, -0.0060507357, -0.012358054, -0.045905173, -0.043467402, -0.033339303, -0.030859651, 0.06256433, -0.012935728, 0.0031816063, -0.033981305, -0.011899287, 0.070023224, -0.06781388, -0.041307997, -0.04544055, -0.059833925, 0.02653155, 0.02189066, 0.016525961, -0.004937369, 0.055673648, 0.0058618244, -0.0048975176, 0.00517733, 0.012545266, 0.015898421, 0.013547695, -0.0044034473, -0.016948665, 0.024692595, 0.07870655, -0.0033327239, 0.027768238, -0.014893269, -0.036272198, -0.006953318, -0.005267758, 0.03127443, 0.028122786, 0.021414481, 0.027147552, -0.01835319, -0.035594225, 0.025529377, -0.0144316405, 0.04339464, -0.006426437, -0.0024643063, -0.025479715, 0.007157178, 0.0014462166, -0.060794003, 0.002210089, -0.07941577, -0.031429674, -0.026336674, -0.034443047, 0.0011787792, -0.026795313, 0.031971075, 0.008475328, -0.03447922, -0.026022373, 0.028319063, 0.028947832, 0.01184646, 0.0066575026, -0.040294502, 0.0066448604, -0.041991163, 0.0018854352, -0.017028337, -0.0005172956, 0.008452168, 0.057191096, 0.034433965, 0.018439675, -0.03639656, 0.019138448, -0.010991759, -0.050950423, -0.011779408, 0.034409247, 0.025040336, 0.005833966, 0.002141192, 0.056649685, -0.024992244, -0.051558863, -0.040594846, -0.003784327, -0.089595035, 0.013699072, 0.032657538, 0.02098544, 0.041070048, 0.031238917, 0.010394562, -0.032622818, -0.024603348, -0.01571618, -0.01796158, 0.016203783, -0.0031279083, -0.008183881, 0.007832475, 0.017568896, 0.0058918567, -0.0016912413, 0.033745296, -0.023500083, 0.018288601, -0.013267448, -0.011196907, -0.061114293, 0.03534236, 0.033390164, 0.0035704407, -0.009541126, -0.033332877, 0.026275964, 0.004953865, -0.0051794746, -0.028453661, 0.035141546, -0.0019572845, -0.033367198, 0.02067124, -0.01687007, 0.05039201, 0.005477521, 0.006730261, -0.042296696, -0.0503635, -0.023790194, -0.00033513823, 0.017588004, -0.021685947, -0.05100028, -0.005311246, -0.007916921, 0.012491631, 0.04022445, 0.023519566, 0.011281625, -0.012378143, -0.024157707, 0.05930195, 0.0226456, -0.014687026, 0.028559633, 0.003045096, -0.027560424, 0.002654166, -0.012633628, -0.01900899, 0.0012069215, 0.023984594, 0.005552454, 0.0003803581, -0.012325336, 0.008419988, 0.007141048, -0.013907298, -0.025951184, -0.008832653, 0.011239307, -0.03881252, 0.012228023, -0.0149269765, -0.053587437, 0.0007024927, -0.03770289, 0.024344869, -0.022463905, -0.0030488179, 0.0059765917, 0.029150337, 0.0129870605, -0.025303291, -0.017985012, -0.032699097, 0.015642883, 0.036805853, -0.019069707, 0.0038865455, -0.008618877, 0.025502624, 0.031365678, 0.013784994, 0.016567739, 0.026504716, 0.016516568, 0.037257545, 0.017366523, 0.016101563, -0.022079336, 0.027512899, 0.024030032, -0.025105262, -0.03496442, 0.010895487, 0.03759703, 0.03241084, -0.0031743562, -0.021287926, -0.0010094787, -0.049570203, -0.0502389, -0.055831347, -0.035804786, 0.051584486, -0.02653243, -0.029709022, 0.040971335, -0.0027078015, -0.15397431, 0.053077243, -0.04414777, 0.024705674, 0.0007988632, -0.022973374, 0.028279634, 0.020691963, -0.06492984, 0.058661193, -0.015282896, -0.052914415, -0.026605876, -0.016017532, 0.03522918, 0.037001286, 0.018289782, -4.094159e-05, -0.02533991, -0.004312783, -0.041141126, -0.050665095, 0.0149880415, -0.03601664, 0.029812561, -0.044940613, -0.021064406, -0.023638442, -0.028911673, -0.034326557, -0.01853409, -0.009567246, -0.021341544, 0.04194473, 0.022586094, 0.00811403, 0.003444294, -0.035154495, 0.05362108, 0.0063393395, -0.009486054, 0.03399538, 0.014006424, 0.005018546, -0.0005019033, -0.022451013, 0.038829695, 0.00047310503, -0.013657094, 0.009058956, -0.024483511, -0.05045364, 0.046339277, -0.021068059, -0.033552226, 0.006026821, 0.0102374405, 0.06918614, 0.022962209, 0.012687338, -0.040103618, -0.034660414, 0.020004418, 0.014722191, 0.013824058, -0.04680836, 0.055432424, 0.01143687, 0.021365942, -0.02211742, 0.036437735, -0.0014171287, 0.050948888, -0.016716408, -0.00034215307, 0.04928288, 0.007857048, -0.07770163, -0.05165042, -0.08168312, 0.00021609617, -0.0027083831, -0.009092568, -0.004728784, -0.04192364, -0.0023404702, -0.010134814, -0.028058337, 0.05053734, 0.20476775, 0.026376102, -0.00023567963, -0.026691683, 0.037082043, -0.008922072, -0.014108645, -0.019297706, 0.017400732, -0.010129512, 0.009847522, -0.022417592, -0.0011064258, 0.0063003306, 0.013686374, 0.025104932, -0.03394075, -0.00094784686, 0.085743904, 0.021795949, -0.007625005, -0.0031141858, 0.044432536, -0.0012411508, -0.028808955, -0.026273219, 0.0027607316, 0.010697751, -0.01932422, -0.03647982, 0.0050331173, 0.029924976, -0.010675623, 0.006459539, 0.023857938, 0.01761557, 0.0016152981, -0.018937904, 0.009170499, 0.0076719588, -0.020539103, -0.015677206, -0.0012517393, 0.0073651206, 0.0095562255, 0.01083929, 0.0069619827, -0.009120804, -0.019658586, -0.03544165, -0.062052656, -0.02218301, -0.043216135, 0.018261697, -0.002473953, -0.004138825, -0.043259956, 0.026166236, 0.017504616, 0.008794332, 0.039274547, 0.00873806, 0.03327717, 0.025834352, -0.009485071, -0.0057772286, -0.037313607, -0.05820794, 0.058865663, -0.003696374, 0.013229129, 0.014924624, -0.04683236, -0.02198535, 0.006396006, 0.0033081805, 0.03152299, 0.026510272, 0.028573766, 0.027917778, -0.02938062, 0.011009029, -0.027788455, 0.03799576, 0.007661942, -0.05143159, -0.014145956, 0.055497445, 0.017355846, -0.024942877, 0.013935807, 0.008284972, -0.009149289, 0.04421442, -0.013297642, 0.02286634, 0.007618039, -0.005619717, -0.02679064, 0.043191753, -0.030471357, -0.04369294, -0.009786967, -0.006710059, 0.016681451, 0.020748645, 0.020452281, 0.05558963, 0.009051211, 0.0481571, 0.0028251242, 0.026909402, -0.052033532, -0.045782164, 0.013965377, -0.0104225315, 0.020953117, 0.020795496, 0.0069189854, 0.014948326, -0.031263523, 0.0015731496, 0.01871312, 0.03204965, 0.00034679062, -0.027088296, 0.047262385, 0.03393189, -0.015647555, 0.019745793, 0.06061111, 0.0020192, 0.003949722, 0.048906278, 0.02275617, 0.014276126, -0.014150654, 0.021929406, 0.05991076, 2.8577628e-05, 0.014736951, 0.006956508, 0.024416545, 0.0081705535, 0.010954065, 0.0016163167, -0.01359907, 0.04867563, -0.023629593, -0.0061259186, 0.00077439094, -0.022328168, 0.058473077, -0.0424516, -0.008710964, -0.029610544, -0.021120405, -0.005743697, 0.037243806, -0.022278136, 0.029627945, 0.021999404, 0.059958655, 0.054285392, -0.013024846, 0.04662469, -0.0038971065, -0.020055294, -0.010065146, -0.05209118, 0.012883632, -0.024191111, -0.046954058, 0.017422562, -0.06339326, -0.012146615, -0.051797256, 0.016536245, 0.0027685522, 0.002270605, 0.046888106, 0.0051924847, 0.028495595, 0.01815452, 0.0027198917, 0.012765563, 0.043089297, -0.012564828, 0.016018251, -0.03498835, -0.013873792, 0.08510555, -0.00063865853, -0.035159048, 0.018836528, -0.04391113, 0.018235734, -0.014749995, 0.05109371, -0.014338084, -0.012068466, -0.05384278, 0.009205861, -0.013273072, -0.026057113, 0.019064961, -0.009163244, 0.01595861, -0.0118463645, 0.023970138, 0.01087986, 0.0012531133, -0.04744531, 0.02815805, -0.030233076, 0.034408927, -0.035470758, 0.010482019, 0.021827625, -0.07120145, -0.011639563, -0.0007930558, 0.0009725671, -0.06676846, 0.0019631784, 0.030986805, -0.013669871, -0.02006334, -0.019697541, 0.046492465, -0.004821869, -0.08164907, 0.040380847, 0.0051425206, 0.03098564, 0.0051924568, -0.0060911705, 0.013957473, -0.021155061, -0.019508485, 0.025792837, -0.02692007, 0.06499349, 0.017402692, 0.025204333, 0.012537405, 0.0062013823, -0.0153240645, -0.003030021, 0.0045246473, -0.011903258, -0.04780583, 0.048661366, 0.027310891, 0.019963853, -0.046228144, 0.049622063, -0.015402542, -0.02282759, 0.0071459427, 0.011481314, 0.028020466, -0.0010346567, 0.0052235974, 0.0058261445, 0.041015055, 0.046589933, 0.013944427, -0.048721, -0.03627586, 0.030438405, -0.0031235192, -0.039930712, -0.03222066, 0.031815287, -0.002261513, -0.03736781, 0.046949934, 0.04747859, -0.0038372849, -0.0047656973, 0.054594237, 0.008808936, 0.014403978, 0.013166641, -0.005723521, 0.011407117, 0.005833057, 0.028461216, -0.037449624, 0.017439976, 0.009304509, -0.043103375, 0.009842037, -0.01304292, 0.026260037, -0.0089500835, 0.04864888, -0.023925053, -0.008329077, -0.030171063, -0.011694129, -0.008058068, -0.00086288597, 0.036255524, 0.019531382, 0.015743291, -0.06481074, 0.03223061, -0.019737408, 0.0125810355, 0.0006716465, 0.03749805, 0.048801005, -0.030765107, -0.011076154, 0.030403843, -0.049610283, 0.055011157, -0.0018355869, 0.049766224, 0.00069456064, -0.006084911, -0.023217056, 0.010195923, 0.023947079, -0.019371828, -0.031942904, 0.029285371, -0.053574756, -0.012945287, 0.033147275, -0.002382146, 0.025617894, 0.0027640758, -0.016138012, -0.019949269, -0.0363009, 0.05152816, 0.025942832, -0.023722691, -0.0021372281, 0.05668576, -0.021238508, 0.02616866, -0.030842232, -0.008991934, -0.0013539663, 0.0073088654, 0.013945437, -0.038748126, -0.0051797465, -0.02059785, -0.085201934, 0.03291865, -0.021204993, -0.0016029372, -0.024126407, 0.010025432, 0.0033107863, -0.046209093, 0.0043166666, 0.012889525, 0.031930238, -0.006372759, 0.061866846, 0.027388299, -0.040194783, 0.012678633, -0.04348506, -0.034336925, 0.024035836, 0.04533055, -0.06427005, -0.0025074778, 0.015773667, -0.04627022, 0.01552963, -0.012479523, 0.004033675, 0.0027310606, -0.059247766, -0.049850643, -0.031775486, 0.0041407757, -0.040663086, -0.009893585, -0.02046405, 0.0434209, 0.009010814, -0.021464985, -0.036778167, 0.0387375, -0.028507585, -0.12077434, 0.011148021, -0.021600777, 0.03873976, -0.020644445, 0.026134647, -0.005394205, 0.0076055224, 0.024022425, -0.068018645, -0.010569619, 0.03844855, 0.020900412, -0.013558879, -0.0014292512, 0.019072069, -0.010549382, 0.019173894, 0.0074004214, 0.025017051, -0.0029733218, 0.019331127, 0.04544441, -0.0069297454, 0.016656755, -0.0038756675, 0.006311759, 0.009974598, -0.061571267, 0.008141746, 0.05611648, -0.05686087, 0.005720849, 0.002476798, -0.052250944, -0.030107202, -0.045290213, 0.004224991, -0.027808364, 0.038789876, -0.032648213, 0.02713585, 0.039659835, -0.011151722, 0.015638405, 0.08884834, -0.031507455, -0.016815878, -0.014703564, -0.0208338, 0.029686268, -0.02612811, -0.01237976, 0.052321557, -0.012927767, 0.016395453, -0.05072293, 0.009440506, -0.0030301206, 0.07739494, -0.04183954, 0.0008189948, -0.030629162, 0.0128925415, -0.007402893, 0.031108374, -0.05748361, -0.010909713, -0.0151054375, 0.0068977377, 0.008626553, 0.065701135, 0.033648726, -0.033911463, 0.029483104, 0.011802437, 0.051068485, 0.0071226237, 0.019849967, -0.034561925, 0.016133457, 0.012648915, -0.04679995, -0.027648084, 0.010232547, -0.023078417, -0.034247957, -0.0031403897, -0.008265581, -0.023295112, -0.048620827, -0.011039811, -0.01944506, -0.0037079516, -0.047209784, 0.013845783, 0.00217739, 0.012411667, -0.015974497, -0.012103622, -0.007154023, -0.0051513254, 0.010014988, -0.0023419564, -0.020494428, 0.034496833, 0.066236824, -0.010786202, 0.054859567, -0.033985816, 0.009277174, -0.014388508, -0.051748306, 0.039604295, -0.0029702166, -0.012130236, 0.01629396, 0.061927862, 0.015227773, 0.032130804, 0.046508312, -0.026847737, 0.0022827855, -0.01770587, 0.061444137, 0.003793177, 0.00068839476, 0.045745593, 0.04986971, 5.8884463e-05, 0.01598397, -0.029120984, 0.0513448, -0.019548435, 0.050036445, 0.0012811472, 0.06668879, 0.032251813, -0.076055, -0.02664078, -0.022685774, -0.013842639, -0.002607814, -0.017199593, -0.051974073, -0.0066221077, 0.028293727, -0.05933713, -0.0060739876, -0.010358229, -0.020575544, -0.025527585, 0.0062783696, 0.059823357, -0.064676814, 0.039153825, -0.03937666, 0.01141571, -0.004918744, -0.02191853, 0.02457831, -0.021060076, -0.014354294, 0.005117771, -0.027092323, -0.015715754, -0.020006163, -0.017460959, -0.0021198215, 0.031670935, 0.033073816, 0.061010096, -0.0218975, -0.007469676, 0.023363346, 0.0045309607, -0.034160163, 0.03068177, 0.050458305, 0.019288683, 0.030435685, -0.008342327, 0.038469672, 0.024080746, -0.02994739, -0.022508815, -0.029501732, 0.059393793, 0.023892634, -0.051839136, -0.021411898, -0.00800151, -0.045736883, 0.018483723, -0.013171426, 0.0619529, 0.025651023, 0.030340042, -0.01387254, 0.011508669, -0.07670767, -0.015617743, 0.031290043, -0.010152854, -0.0048848884, 0.005812927, -0.05359167, -0.0018074164, -0.023281125, -0.0129006915, 0.00878868, 0.018835677, 0.0011165561, -0.007622272, 0.049026113, -0.050410923, 0.012862268, -0.005180146, -0.015482082, 0.003524358, 0.0031820324, 0.0075441976, -0.026590707, -0.010871475, 0.013913498, -0.03161658, 0.010419293, 0.049899835, -0.03507311, -0.0007671005, -0.028165994, -0.024358353, 0.0028077792, 0.020376224, -0.013449529, -0.014158333, 0.02243956, 0.03907864, -0.008113344, -0.015813695, 0.054487146, 0.008292758, 0.03507247, -0.017874703]\n"
     ]
    }
   ],
   "source": [
    "# 문서 컬렉션\n",
    "documents = [\n",
    "    \"인공지능은 컴퓨터 과학의 한 분야입니다.\",\n",
    "    \"머신러닝은 인공지능의 하위 분야입니다.\",\n",
    "    \"딥러닝은 머신러닝의 한 종류입니다.\",\n",
    "    \"자연어 처리는 컴퓨터가 인간의 언어를 이해하고 생성하는 기술입니다.\",\n",
    "    \"컴퓨터 비전은 컴퓨터가 디지털 이미지나 비디오를 이해하는 방법을 연구합니다.\"\n",
    "]\n",
    "\n",
    "# 문서 임베딩\n",
    "document_embeddings = embeddings_model.embed_documents(documents)\n",
    "\n",
    "# 임베딩 결과 출력\n",
    "print(f\"임베딩 벡터의 개수: {len(document_embeddings)}\")\n",
    "print(f\"임베딩 벡터의 차원: {len(document_embeddings[0])}\")\n",
    "print(document_embeddings[0])"
   ]
  },
  {
   "cell_type": "markdown",
   "id": "668cb852",
   "metadata": {},
   "source": [
    "`(3) embed_query 사용`"
   ]
  },
  {
   "cell_type": "code",
   "execution_count": 56,
   "id": "0bd5a102",
   "metadata": {},
   "outputs": [
    {
     "name": "stdout",
     "output_type": "stream",
     "text": [
      "쿼리 임베딩 벡터의 차원: 1024\n",
      "[-0.03680102, -0.004897515, 0.0028898506, -0.015532713, -0.0009166787, -0.04167313, -0.0067089866, 0.011332301, 0.021562414, 0.004902553, -0.02047684, 0.016799612, -0.012879434, 0.005437187, 0.014990911, 0.024317233, 0.007424208, -0.027960882, -0.0151330745, -0.05182166, -0.006595149, -0.009184408, -0.01714285, 0.006597815, 0.052904196, 0.048059072, -0.008171573, -0.023195054, 0.018091468, -0.011380093, -0.004339582, -0.006356782, -0.0024361906, 0.0143599855, -0.035458617, -0.0082260445, -0.011815377, -0.045276895, -0.040650643, 0.0021737837, -0.012295167, 0.017695779, -0.019154694, -0.041933402, 0.0010042401, -0.039017674, -0.02443351, -0.024548931, -0.022177326, -0.0044736424, 0.031535354, -0.048756495, 0.017998321, 0.025261747, 0.0023832794, 0.048539657, -0.008118256, 0.028092578, -0.07375328, -0.020698596, -0.026359912, -0.007486189, -0.038771544, -0.0173924, 0.01923657, 0.063733354, 0.02038606, -0.011864598, -0.018535549, -0.040774167, 0.0025399572, 0.041486472, -0.05777881, 0.052810572, -0.045954607, 0.011449375, 0.020651251, 0.006214055, -0.034704767, 0.017753264, 0.048632186, -0.011422371, -0.029493136, -0.013391042, -0.0061027617, -0.0019710402, -0.019654572, 0.06847756, -0.010741151, 0.0023853458, -0.042681687, -0.0017423675, 0.051162496, -0.105921775, -0.018775642, -0.082464434, -0.03350435, 0.010839721, 0.014375794, 0.032037277, -0.0054414324, 0.044385616, 0.016019821, -0.026793003, 0.029572738, 0.0056990506, 0.00054249156, 0.009318878, -0.037953567, -0.0065657804, 0.03819008, 0.038671706, 0.01902041, 0.031835053, -0.046889454, -0.0534466, 0.008993716, 0.0013688975, 0.023105817, 0.04094439, -0.00778468, 0.020706117, -0.036063723, -0.042333327, -0.008934414, -0.016682373, 0.033237785, 0.03471439, -0.0060808333, -0.014174613, 0.026811296, -0.01765167, -0.07627858, -0.0059635174, -0.05995518, -0.020177474, 0.0070334906, -0.031132175, 0.024987148, -0.033265002, 0.03440516, 0.006154154, -0.033638924, -0.028769603, 0.018259667, 0.006750557, 0.0042712665, -0.007838923, -0.010535779, 0.024573972, -0.01785358, -0.023175832, -0.026454456, -0.0098281, 0.00869078, 0.046356965, 0.010058057, 0.024056863, -0.052161366, 0.034446523, 0.042565823, -0.00061598874, 0.0069894874, 0.024618099, -0.0093521, 0.0036713884, 0.0018960419, 0.022523979, -0.007792101, -0.026749654, -0.037203982, 0.010211341, -0.03354163, 0.03529158, 0.013981445, 0.0017206718, 0.06456606, 0.033437353, -0.009819694, -0.008013505, -0.055607628, -0.017585102, -0.011534758, 0.0037939171, -0.0036595098, 0.0112049645, 0.015969472, 0.011450948, 0.01941003, -8.481381e-05, -0.016568078, -0.021761008, 0.013355814, -0.0045775645, -0.001538499, -0.03019344, 0.033669017, 0.046059888, -0.0042871693, -0.039969645, -0.027028251, 0.028333424, 0.016687939, 0.007478676, -0.043065958, 0.013862237, 0.0050112475, -0.04197426, 0.011032029, -0.037421923, 0.019038318, 0.048502818, 0.04983399, -0.023993602, -0.055113252, -0.008756724, -0.019203395, 0.044193793, -0.0077041956, -0.012274591, -0.013399472, 0.019193968, 0.0013186692, 0.025580263, 0.035577424, -0.0019324719, 0.036931794, -0.019353148, 0.021071706, 0.010640967, 0.0018311666, 0.05878054, 0.01629032, -0.0326619, 0.001045044, -0.014657853, -0.037476413, -0.021554485, 0.006737363, 0.019422112, -0.02478687, 0.0022151053, -0.03265878, 0.026937509, -0.011466315, -0.013251693, -0.016542608, -0.025911663, -0.011936836, 0.025376529, -0.0012666874, -0.03893058, 0.005280805, -0.012381734, 0.053058393, 0.014093806, -0.010160266, 0.0057702838, 0.0071402057, 0.03674667, 0.010395672, -0.023520844, 0.0006328524, 0.03280782, 0.05395091, 0.010082375, 0.0016281627, -0.032342695, 0.01928504, 0.033677958, -0.014701723, -0.02022924, -0.02014994, 0.0034012718, 0.038540047, -0.014468462, -0.008589286, -0.015664015, 0.025245382, 0.009569958, -0.021170903, -0.056238096, -0.014715664, 0.046385948, 0.024666166, -0.025386307, -0.031370964, 0.001978428, -0.0019825215, -0.03753327, -0.010792346, -0.021261701, 0.060041964, -0.017649557, -0.029011635, -0.016543038, -0.033207253, -0.13440089, 0.014981806, -0.030589994, 0.023936193, -0.00910123, -0.030410172, 0.020058887, -0.012324158, 0.0009571777, 0.029187137, 0.008194283, -0.04650241, -0.049941123, -0.032406256, 0.031478874, 0.00592449, 0.017333595, -0.0124324225, -0.032474626, -0.0486334, -0.01679133, -0.06617087, 0.008030651, -0.051548008, 0.05675542, -0.011768794, 0.014061216, -0.0031499923, -0.04702562, -0.057086464, -0.013496625, -0.040167604, -0.009101883, 0.05355134, 0.05179398, 0.0059069316, -0.0033919802, -0.02427867, 0.041712184, -0.0066112718, 0.0012286548, 0.0040448178, 0.027095495, 0.04174562, 0.0046054674, 0.017275462, 0.03126963, -0.018768156, 0.022154871, -0.0015661218, -0.03182238, -0.003951231, 0.050009858, -0.042942923, 0.019384788, -0.004673056, 0.038709782, 0.07496656, 0.047089346, -0.012815481, -0.049096398, 0.036403693, -0.016457416, 0.023777395, -0.013974389, -0.008336832, 0.076297596, 0.021737585, -0.006607338, -0.029755913, 0.042852692, -0.006247453, 0.003349631, -0.011837183, 0.018921051, 0.036566094, 0.011983013, -0.055345137, -0.043651175, -0.07867641, 0.026761767, -0.016938513, -0.00066679675, -0.0010008654, -0.020253038, -0.01931704, -0.0018993334, 0.0027986912, 0.016323812, 0.2407101, -0.02064586, 0.015919438, -0.023110235, -0.009763193, -0.0055328677, -0.0229262, -0.021857213, 0.010921541, -0.022692923, 0.0049227835, -0.016246513, 0.00752483, 0.003951009, 0.024984686, 0.060891777, -0.03463303, 0.008016027, 0.06777972, 0.011996112, 0.0013816984, 0.012022567, 0.033392582, 0.012172901, -0.023412518, -0.0065377387, 0.016334219, 0.03226855, -0.011984558, -0.02081728, -0.0005362877, 0.0060573383, 0.015059605, -0.0055103637, 0.002598314, 0.0080076, -0.012833197, -0.026118416, 0.016756654, -0.0022409193, -0.029861832, -0.021346385, 0.035377584, -0.0066593145, 0.009450971, 0.018323172, 0.017823849, 0.018862333, -0.06519729, -0.019734962, -0.033809915, -0.00209707, -0.051290445, 0.00206262, -0.011234732, -0.020694746, -0.014936235, 0.039021127, 0.016437044, -0.017457778, 0.06683031, -0.004692795, 0.023526669, -0.028118929, 0.008313456, -0.016582716, -0.033079468, -0.081418775, -0.012021914, 0.0058749444, 0.000101541475, -0.0034247173, -0.03515896, -0.0049627386, 0.023670606, 0.029137103, 0.030726874, 0.038027193, 0.007241723, 0.010120128, 0.015811587, 0.00373933, -0.04255777, 0.014626196, 0.009342994, -0.039485943, -0.027927432, 0.049226876, 0.028074907, -0.044788137, 0.04683325, -0.018548023, -0.040171426, 0.03164911, 0.011888559, -0.012843793, 0.06601127, 0.013052621, 0.010383659, 0.04199516, -0.03929959, -0.022920037, 0.00014458547, 0.055564795, 0.04946411, -0.008266596, 0.010602022, 0.06881911, 0.0071114814, 0.09679074, -0.017063806, -0.0060817865, -0.037476745, -0.0025709106, 0.024529742, 0.0065980814, 0.028546097, -0.023937995, 0.008506776, 0.014557398, -0.047654312, 0.027513843, -0.0010467566, -0.024000742, 0.024625665, -0.03208623, 0.03445925, -0.01083363, -0.013775894, 0.0156000815, 0.03962069, 0.007093601, 0.033189356, 0.067735136, 0.043463603, 0.0101096835, -0.0061515816, 0.033400383, 0.023446735, 0.022080043, -0.010678199, -0.006416837, -0.0009023371, 0.02056231, 0.00487472, 0.006917419, 0.026168006, 0.031062417, -0.035723377, -0.036923904, -0.03495774, -0.016372295, -0.007681537, -0.08078907, -0.0025295422, -0.026444972, -0.0013238451, -0.034675077, -0.0015715293, -0.033955548, 0.029905919, -0.023714853, 0.051437777, 0.10250783, 0.017059581, 0.07371538, 0.049542934, 0.011081973, 0.008800379, -0.06871692, 0.046118975, -0.031655155, -0.043395985, 0.006756908, -0.028696561, -0.028472364, -0.028518474, 0.00066267647, 0.009713781, -0.05104848, 0.016006535, 0.019984446, 0.025800478, 0.053835772, -0.0053932546, 0.003927899, 0.054006446, -0.0051902924, 0.014044963, -0.015169221, -0.0001431439, 0.07201117, 0.012078985, -0.006167149, 0.020430993, -0.039754987, 0.007703268, -0.020745268, 0.046186123, 0.028596254, 0.033722613, -0.051105715, -0.00057148025, -0.00044773193, 0.020623956, 0.009249054, -0.023135819, -0.00137209, -0.018426036, 0.044831675, 0.026454845, -0.005434203, -0.030894786, -0.007093657, -0.03343509, 0.018059913, -0.0426742, 0.033258095, 0.02306522, -0.056840222, -0.033150498, 0.029894926, 0.012368866, -0.070593156, 0.00050428207, 0.053009983, -0.028661747, -0.021191172, 0.025659157, 0.037784193, 0.00883447, -0.06266426, 0.02038979, 0.036122657, 0.0128089795, -0.015271233, -0.021528745, -0.016300537, -0.014586026, -0.030131493, 0.03408093, -0.01348492, 0.063894786, 0.021077462, 0.017963387, -0.019433184, 0.011331744, -0.0087426435, -0.0153218815, 0.028616928, -0.032807287, -0.010825101, 0.04183173, 0.0027793269, 0.009645262, -0.012776735, 0.03975459, 0.0014459605, -0.011874154, -0.0021379082, 0.0030351148, 0.027689518, -0.03058371, 0.0018529207, -0.002513339, 0.021641089, 0.0075280867, 0.0033814698, -0.05436663, -0.046779722, 0.033114765, 0.01925456, -0.023219498, -0.044545416, -0.028566241, 0.025992583, -0.044716917, 0.018201021, 0.0059585623, 0.048155136, -0.017909965, 0.070682004, -0.012742408, 0.035413496, -0.02827674, -0.004231734, 0.010015156, -0.024905693, 0.0003829583, -0.072185464, -0.007472854, -0.016894178, -0.05366969, 0.016983531, -0.006503826, 0.058561794, -0.019881943, 0.03934911, -0.024296872, -0.022584999, -0.03533306, 0.001461764, -0.014279668, 0.01909669, -0.00091473176, 0.024372656, 0.012741623, -0.03187474, 0.024242952, -0.00064850104, -0.018593201, 0.006360843, 0.028469061, 0.02978528, -0.045793027, -0.016705481, 0.047581453, -0.07030433, 0.025114387, 0.023555541, 0.057805274, 0.02338166, 0.0015626377, -0.0458793, 0.03085971, 0.000580078, -0.020850291, -0.030368965, 0.026075676, -0.070376344, -0.015848322, 0.046722062, -0.0070971763, -0.0037955833, -0.008876788, 0.0005159194, -0.030272406, -0.024316803, 0.037992354, -0.016574845, 0.042599477, 0.0057127867, 0.046961192, -0.017379308, -0.01615809, -0.056532893, 0.008077373, 0.019959714, -0.0025802644, 0.0350508, 0.00960383, 0.041772354, -0.047294836, -0.0570987, 0.03943866, 0.016678844, -0.030450866, -0.02553787, 0.020095, 0.010134663, -0.040261313, 0.031496134, 0.014243047, 0.035513047, 0.013715243, 0.01328489, 0.0028595866, -0.024495412, 0.013793887, -0.01465529, -0.010843775, 0.014948323, 0.05601095, -0.037586447, -0.024794338, 0.016420305, -0.016550435, -0.01970501, -0.010372861, -0.023568165, -0.011668633, -0.062531844, -0.039238278, -0.036490206, -0.011131281, -0.023365494, 0.00015677387, -0.044631895, 0.040153626, -0.055153225, -0.03381838, -0.03590824, -0.012083895, -0.007062693, -0.12504734, 0.02554617, -0.00044950077, -0.005290696, -0.040328562, 0.012463857, -0.023088297, -0.0005501317, 0.014153465, -0.0237318, -0.0226243, 0.050336532, -0.044791576, -0.01488258, -0.0048361314, 0.028103592, -0.016817344, 0.01641033, -0.0163924, -0.021726657, -0.04233869, -0.012156596, 0.027907189, -0.027511958, 0.051627155, 0.022313857, 0.025215529, 0.043289945, -0.038821902, -0.014280612, 0.01753744, -0.06934598, 0.041396488, -0.0015234859, -0.051082782, -0.02705304, -0.025581306, -0.019161921, -0.0042154468, 0.0009046798, -0.0048206714, 0.017127812, 0.0052710744, -0.025759209, -0.03596653, 0.045924056, -0.027639136, -0.027120171, -0.024657844, 0.0046397597, 0.026733095, -0.019402489, 0.0011152108, 0.019358998, -0.0069589815, 0.02404288, -0.054454356, 0.02541373, -0.002493766, 0.09907526, -0.001989222, -0.0009115721, -0.027138045, 0.028701264, -0.023469554, 0.019411748, -0.03534129, 0.005478986, 0.024395186, 0.0063659376, -0.011860129, 0.0052617737, 0.011628154, -0.01736979, 0.03410746, 0.0119262375, 0.034829196, 0.015983695, -0.017846787, -0.02854407, 0.035680402, 0.006970445, -0.044748917, -0.0124668805, -0.01794879, 0.0066638966, -0.030213008, 0.014449145, 0.012308121, -0.010279267, -0.07451247, -0.013914843, 0.0042297314, 0.010386595, -0.050674424, 0.0055112857, -0.021491352, 0.0048003923, -0.032624252, -0.016631551, -0.017211257, -0.0007651083, 0.01741417, 0.026828108, -0.015188609, 0.007999256, 0.06693651, -0.01846497, 0.006651563, -0.004415488, 0.015709788, -0.007968518, 0.00403268, 0.034897603, 0.0013629143, -0.010155798, 0.029219039, 0.03389475, 0.00090705114, 0.026355132, -0.010628739, -0.009281671, -0.021726085, -0.012386222, 0.041816406, 0.05346719, 0.0040504937, 0.015930682, 0.098209746, -0.0012572831, 0.02614385, -0.064505376, 0.015427124, -0.0095344195, 0.029149218, -0.03519363, 0.030561028, 0.044368196, -0.03821454, -0.06942789, -0.012240202, 0.023408309, -0.022432063, -0.0023639402, -0.049849957, -0.030977426, 0.01760283, -0.010083794, -0.050154187, -0.054023333, -0.007047065, -0.018222261, 0.0013154779, 0.025850892, -0.0021680659, 0.0371318, -0.023984414, 0.008751244, -0.027463865, 0.02878588, 0.0103731165, -0.013437734, -0.029345147, -0.0038302885, -0.039553944, -0.024624038, -0.00989826, -0.012878489, -0.01706198, 0.021170931, 0.0052730097, 0.0635326, -0.035000134, 0.04032191, 0.039341994, -0.0116987275, -0.0028944944, 0.06294689, 0.012774198, -0.019140761, 0.0257877, -0.02987752, 0.014541794, 0.020400872, -0.029398605, -0.04012499, -0.012283427, 0.06594015, 0.03212783, -0.0049126693, -0.006334252, 0.0070701186, 0.0124975, -0.009075215, 0.03469329, 0.038489114, 0.034763318, 0.031883642, -0.0273882, 0.027602859, -0.055885043, -0.014286911, 0.049219873, -0.015003388, -0.012731486, -0.00324585, -0.04085015, -0.010743187, -0.018648649, 0.0016384665, -0.0154845435, -0.024908356, 0.016374694, 0.008288621, 0.012707618, -0.02620243, 0.028726477, -0.0068622804, -0.020986088, -0.012435576, -0.004030615, -0.011932128, -0.010402967, -0.022796597, 0.013780272, -0.058465738, 0.007516133, 0.048558865, -0.02405485, 0.006685182, 0.026772397, -0.052327387, -0.04521519, 0.045087222, 0.015312033, -0.016533546, 0.050283615, 0.012671563, -0.008602937, -0.037371688, 0.052044436, -0.018361906, 0.0013650935, -0.025479656]\n"
     ]
    }
   ],
   "source": [
    "embedded_query = embeddings_model.embed_query(\"인공지능이란 무엇인가요?\")\n",
    "\n",
    "# 쿼리 임베딩 결과 출력\n",
    "print(f\"쿼리 임베딩 벡터의 차원: {len(embedded_query)}\")\n",
    "print(embedded_query)"
   ]
  },
  {
   "cell_type": "markdown",
   "id": "13f5f115",
   "metadata": {},
   "source": [
    "`(4) 유사도 기반 검색`"
   ]
  },
  {
   "cell_type": "code",
   "execution_count": 57,
   "id": "c678c6b5",
   "metadata": {},
   "outputs": [
    {
     "name": "stdout",
     "output_type": "stream",
     "text": [
      "쿼리: 인공지능이란 무엇인가요?\n",
      "가장 유사한 문서: 인공지능은 컴퓨터 과학의 한 분야입니다.\n",
      "유사도: 0.7271\n",
      "\n",
      "쿼리: 딥러닝과 머신러닝의 관계는 어떻게 되나요?\n",
      "가장 유사한 문서: 딥러닝은 머신러닝의 한 종류입니다.\n",
      "유사도: 0.7052\n",
      "\n",
      "쿼리: 컴퓨터가 이미지를 이해하는 방법은?\n",
      "가장 유사한 문서: 컴퓨터 비전은 컴퓨터가 디지털 이미지나 비디오를 이해하는 방법을 연구합니다.\n",
      "유사도: 0.6836\n",
      "\n"
     ]
    }
   ],
   "source": [
    "# 예제 쿼리\n",
    "queries = [\n",
    "    \"인공지능이란 무엇인가요?\",\n",
    "    \"딥러닝과 머신러닝의 관계는 어떻게 되나요?\",\n",
    "    \"컴퓨터가 이미지를 이해하는 방법은?\"\n",
    "]\n",
    "\n",
    "# 각 쿼리에 대해 가장 유사한 문서 찾기\n",
    "for query in queries:\n",
    "    most_similar_doc, similarity = find_most_similar(query, document_embeddings)\n",
    "    print(f\"쿼리: {query}\")\n",
    "    print(f\"가장 유사한 문서: {most_similar_doc}\")\n",
    "    print(f\"유사도: {similarity:.4f}\")\n",
    "    print()"
   ]
  },
  {
   "cell_type": "markdown",
   "id": "95d7177b",
   "metadata": {},
   "source": [
    "## 5. 다국어 RAG 시스템 구축 실습"
   ]
  },
  {
   "cell_type": "markdown",
   "id": "0693d5b9",
   "metadata": {},
   "source": [
    "### 5-1 언어 교차(cross-lingual) 검색"
   ]
  },
  {
   "cell_type": "markdown",
   "id": "e51c6bcf",
   "metadata": {},
   "source": [
    "`(1) 다국어 문서 로드 및 전처리` "
   ]
  },
  {
   "cell_type": "code",
   "id": "26541439",
   "metadata": {
    "ExecuteTime": {
     "end_time": "2025-08-14T05:58:16.765484Z",
     "start_time": "2025-08-14T05:58:16.761072Z"
    }
   },
   "source": [
    "korean_txt_files = glob(os.path.join('data', '*_KR.txt')) \n",
    "english_txt_files = glob(os.path.join('data', '*_EN.txt'))\n",
    "\n",
    "print(\"한국어 텍스트 파일:\", korean_txt_files)\n",
    "print(\"영어 텍스트 파일:\", english_txt_files)"
   ],
   "outputs": [
    {
     "name": "stdout",
     "output_type": "stream",
     "text": [
      "한국어 텍스트 파일: ['data/리비안_KR.txt', 'data/테슬라_KR.txt']\n",
      "영어 텍스트 파일: ['data/Tesla_EN.txt', 'data/Rivian_EN.txt']\n"
     ]
    }
   ],
   "execution_count": 4
  },
  {
   "cell_type": "code",
   "id": "4b74f19d",
   "metadata": {
    "ExecuteTime": {
     "end_time": "2025-08-14T05:59:44.001343Z",
     "start_time": "2025-08-14T05:59:43.886026Z"
    }
   },
   "source": [
    "from langchain_community.document_loaders import TextLoader\n",
    "\n",
    "def load_text_files(txt_files):\n",
    "    data = []\n",
    "\n",
    "    for text_file in txt_files:\n",
    "        loader = TextLoader(text_file, encoding='utf-8')\n",
    "        data += loader.load()\n",
    "\n",
    "    return data\n",
    "\n",
    "\n",
    "korean_data = load_text_files(korean_txt_files)\n",
    "english_data = load_text_files(english_txt_files)\n",
    "\n",
    "print(\"한국어 데이터 수:\", len(korean_data))\n",
    "print(\"영어 데이터 수:\", len(english_data))"
   ],
   "outputs": [
    {
     "name": "stdout",
     "output_type": "stream",
     "text": [
      "한국어 데이터 수: 2\n",
      "영어 데이터 수: 2\n"
     ]
    }
   ],
   "execution_count": 5
  },
  {
   "cell_type": "code",
   "id": "e8bb6bf1",
   "metadata": {
    "ExecuteTime": {
     "end_time": "2025-08-14T06:00:02.906646Z",
     "start_time": "2025-08-14T06:00:02.671005Z"
    }
   },
   "source": [
    "# 문장을 구분하여 분할 (마침표, 느낌표, 물음표 다음에 공백이 오는 경우 문장의 끝으로 판단)\n",
    "from langchain_text_splitters import CharacterTextSplitter\n",
    "\n",
    "text_splitter = CharacterTextSplitter.from_tiktoken_encoder(\n",
    "    model_name=\"text-embedding-3-small\",\n",
    "    separator=r\"[.!?]\\s+\",\n",
    "    chunk_size=100,\n",
    "    chunk_overlap=0,\n",
    "    is_separator_regex=True,\n",
    "    keep_separator=False,\n",
    ")\n",
    "\n",
    "korean_docs = text_splitter.split_documents(korean_data)\n",
    "english_docs = text_splitter.split_documents(english_data)\n",
    "\n",
    "print(\"한국어 문서 수:\", len(korean_docs))\n",
    "print(\"영어 문서 수:\", len(english_docs))"
   ],
   "outputs": [
    {
     "name": "stdout",
     "output_type": "stream",
     "text": [
      "한국어 문서 수: 13\n",
      "영어 문서 수: 6\n"
     ]
    }
   ],
   "execution_count": 6
  },
  {
   "cell_type": "code",
   "id": "5d55f1b7",
   "metadata": {
    "ExecuteTime": {
     "end_time": "2025-08-14T06:00:10.946574Z",
     "start_time": "2025-08-14T06:00:10.943113Z"
    }
   },
   "source": [
    "# 각 청크의 시작 부분과 끝 부분 확인\n",
    "for doc in korean_docs[:2]:\n",
    "    print(doc.page_content[:50])\n",
    "    print(\"-\" * 50)\n",
    "    print(doc.page_content[-50:])\n",
    "    print(\"=\" * 50)\n",
    "    print()"
   ],
   "outputs": [
    {
     "name": "stdout",
     "output_type": "stream",
     "text": [
      "리비안은 MIT 박사 출신 RJ 스카린지가 2009년에 설립한 혁신적인 미국 전기차 제조업\n",
      "--------------------------------------------------\n",
      " MIT 박사 출신 RJ 스카린지가 2009년에 설립한 혁신적인 미국 전기차 제조업체입니다\n",
      "==================================================\n",
      "\n",
      "2011년부터 자율 전기차에 집중한 리비안은 2015년 대규모 투자를 통해 크게 성장하며 \n",
      "--------------------------------------------------\n",
      "은 2015년 대규모 투자를 통해 크게 성장하며 미시간과 베이 지역에 연구소를 설립했습니다\n",
      "==================================================\n",
      "\n"
     ]
    }
   ],
   "execution_count": 7
  },
  {
   "cell_type": "code",
   "id": "9124c455",
   "metadata": {
    "ExecuteTime": {
     "end_time": "2025-08-14T06:00:33.757183Z",
     "start_time": "2025-08-14T06:00:33.754168Z"
    }
   },
   "source": [
    "# 각 청크의 시작 부분과 끝 부분 확인\n",
    "for doc in english_docs[:2]:\n",
    "    print(doc.page_content[:50])\n",
    "    print(\"-\" * 50)\n",
    "    print(doc.page_content[-50:])\n",
    "    print(\"=\" * 50)\n",
    "    print()"
   ],
   "outputs": [
    {
     "name": "stdout",
     "output_type": "stream",
     "text": [
      "Tesla, Inc., headquartered in Austin, Texas, is a \n",
      "--------------------------------------------------\n",
      ", steering the company towards its current success\n",
      "==================================================\n",
      "\n",
      "The company is named after the renowned physicist \n",
      "--------------------------------------------------\n",
      "umulative global sales exceeded 4,962,975 vehicles\n",
      "==================================================\n",
      "\n"
     ]
    }
   ],
   "execution_count": 8
  },
  {
   "cell_type": "markdown",
   "id": "aa5b01db",
   "metadata": {},
   "source": [
    "`(2) 문서 임베딩 및 벡터저장소에 저장 `  "
   ]
  },
  {
   "cell_type": "code",
   "id": "abe717fa",
   "metadata": {
    "ExecuteTime": {
     "end_time": "2025-08-14T06:01:45.959259Z",
     "start_time": "2025-08-14T06:01:45.158007Z"
    }
   },
   "source": [
    "from langchain_openai import OpenAIEmbeddings\n",
    "# OpenAI 임베딩 모델 생성\n",
    "embeddings_openai = OpenAIEmbeddings(model=\"text-embedding-3-small\")\n",
    "\n",
    "# Hugoing Face 임베딩 모델 생성\n",
    "#embeddings_huggingface = HuggingFaceEmbeddings(model_name=\"BAAI/bge-m3\")\n",
    "\n",
    "# Ollama 임베딩 모델 생성\n",
    "#embeddings_ollama = OllamaEmbeddings(model=\"nomic-embed-text\")"
   ],
   "outputs": [],
   "execution_count": 11
  },
  {
   "cell_type": "code",
   "id": "b7c2f9bd",
   "metadata": {
    "ExecuteTime": {
     "end_time": "2025-08-14T06:01:48.136035Z",
     "start_time": "2025-08-14T06:01:46.440053Z"
    }
   },
   "source": [
    "# 다국어 벡터 저장소 구축\n",
    "from langchain_chroma import Chroma\n",
    "\n",
    "db_openai = Chroma.from_documents(\n",
    "    documents=korean_docs+english_docs, \n",
    "    embedding=embeddings_openai,\n",
    "    collection_name=\"db_openai\",\n",
    "    persist_directory=\"./chroma_db\",\n",
    "    )\n",
    "\n",
    "# db_huggingface = Chroma.from_documents(\n",
    "#     documents=korean_docs+english_docs, \n",
    "#     embedding=embeddings_huggingface,\n",
    "#     collection_name=\"db_huggingface\",\n",
    "#     persist_directory=\"./chroma_db\",\n",
    "#     )\n",
    "# \n",
    "# db_ollama = Chroma.from_documents(\n",
    "#     documents=korean_docs+english_docs, \n",
    "#     embedding=embeddings_ollama,\n",
    "#     collection_name=\"db_ollama\",\n",
    "#     persist_directory=\"./chroma_db\",\n",
    "#     )\n",
    "\n",
    "# 벡터 저장소에 저장된 문서 수\n",
    "print(f\"OpenAI: {db_openai._collection.count()}\")\n",
    "# print(f\"Hugging Face: {db_huggingface._collection.count()}\")\n",
    "# print(f\"Ollama: {db_ollama._collection.count()}\")"
   ],
   "outputs": [
    {
     "name": "stdout",
     "output_type": "stream",
     "text": [
      "OpenAI: 19\n"
     ]
    }
   ],
   "execution_count": 12
  },
  {
   "cell_type": "markdown",
   "id": "1e791c6a",
   "metadata": {},
   "source": [
    "`(3) RAG 성능 비교 `  "
   ]
  },
  {
   "cell_type": "code",
   "id": "fa08dbe9",
   "metadata": {
    "ExecuteTime": {
     "end_time": "2025-08-14T06:03:01.288494Z",
     "start_time": "2025-08-14T06:03:01.219766Z"
    }
   },
   "source": [
    "# RAG 체인 생성\n",
    "from langchain.prompts import ChatPromptTemplate\n",
    "from langchain_core.output_parsers import StrOutputParser\n",
    "from langchain_openai import ChatOpenAI\n",
    "from langchain_core.runnables import RunnablePassthrough\n",
    "\n",
    "template = \"\"\"Answer the question based only on the following context.\n",
    "Do not use any external information or knowledge. \n",
    "If the answer is not in the context, answer \"잘 모르겠습니다.\".\n",
    "\n",
    "[Context]\n",
    "{context}\n",
    "\n",
    "[Question] \n",
    "{question}\n",
    "\n",
    "[Answer]\n",
    "\"\"\"\n",
    "\n",
    "prompt = ChatPromptTemplate.from_template(template)\n",
    "\n",
    "\n",
    "# 문서 포맷터 함수\n",
    "def format_docs(docs):\n",
    "    return \"\\n\\n\".join([d.page_content for d in docs])\n",
    "\n",
    "\n",
    "# LLM 모델 생성\n",
    "llm = ChatOpenAI(model=\"gpt-4o-mini\", temperature=0)\n",
    "\n",
    "# 체인 생성\n",
    "def create_rag_chain(vectorstore):\n",
    "\n",
    "    retriever = vectorstore.as_retriever(search_kwargs={'k': 2})\n",
    "\n",
    "    return (\n",
    "        {\"context\": retriever | format_docs , \"question\": RunnablePassthrough()}\n",
    "        | prompt\n",
    "        | llm\n",
    "        | StrOutputParser()\n",
    "    )"
   ],
   "outputs": [],
   "execution_count": 13
  },
  {
   "cell_type": "code",
   "id": "50d52cf3",
   "metadata": {
    "ExecuteTime": {
     "end_time": "2025-08-14T06:03:07.233545Z",
     "start_time": "2025-08-14T06:03:07.231136Z"
    }
   },
   "source": [
    "# 체인 생성\n",
    "rag_chain_openai = create_rag_chain(db_openai)\n",
    "#rag_chain_huggingface = create_rag_chain(db_huggingface)\n",
    "#rag_chain_ollama = create_rag_chain(db_ollama)"
   ],
   "outputs": [],
   "execution_count": 14
  },
  {
   "cell_type": "code",
   "id": "52bc778f",
   "metadata": {
    "ExecuteTime": {
     "end_time": "2025-08-14T06:03:15.981260Z",
     "start_time": "2025-08-14T06:03:13.841997Z"
    }
   },
   "source": [
    "# 한국어 쿼리에 대한 성능 평가\n",
    "query_ko = \"테슬라 창업자는 누구인가요?\"\n",
    "\n",
    "# OpenAI\n",
    "output_openai = rag_chain_openai.invoke(query_ko)\n",
    "print(\"OpenAI:\", output_openai)\n",
    "\n",
    "# Hugging Face\n",
    "# output_huggingface = rag_chain_huggingface.invoke(query_ko)\n",
    "# print(\"Hugging Face:\", output_huggingface)\n",
    "# \n",
    "# # Ollama\n",
    "# output_ollama = rag_chain_ollama.invoke(query_ko)\n",
    "# print(\"Ollama:\", output_ollama)"
   ],
   "outputs": [
    {
     "name": "stdout",
     "output_type": "stream",
     "text": [
      "OpenAI: 마틴 에버하드와 마크 타페닝입니다.\n"
     ]
    }
   ],
   "execution_count": 15
  },
  {
   "cell_type": "code",
   "id": "dc23ea46",
   "metadata": {
    "ExecuteTime": {
     "end_time": "2025-08-14T06:03:32.957849Z",
     "start_time": "2025-08-14T06:03:30.269519Z"
    }
   },
   "source": [
    "# 영어 쿼리에 대한 성능 평가\n",
    "query_en = \"Who is the founder of Tesla?\"\n",
    "\n",
    "# OpenAI\n",
    "output_openai = rag_chain_openai.invoke(query_en)\n",
    "print(\"OpenAI:\", output_openai)\n",
    "\n",
    "# Hugging Face\n",
    "# output_huggingface = rag_chain_huggingface.invoke(query_en)\n",
    "# print(\"Hugging Face:\", output_huggingface)\n",
    "# \n",
    "# # Ollama\n",
    "# output_ollama = rag_chain_ollama.invoke(query_en)\n",
    "# print(\"Ollama:\", output_ollama)"
   ],
   "outputs": [
    {
     "name": "stdout",
     "output_type": "stream",
     "text": [
      "OpenAI: Tesla was founded by Martin Eberhard and Marc Tarpenning.\n"
     ]
    }
   ],
   "execution_count": 16
  },
  {
   "cell_type": "markdown",
   "id": "f70818e6",
   "metadata": {},
   "source": [
    "### 5-2 언어 감지 및 자동번역 통합 "
   ]
  },
  {
   "cell_type": "markdown",
   "id": "a19b80a6",
   "metadata": {},
   "source": [
    "`(1) 한국어 문서 벡터저장소 로드 `  "
   ]
  },
  {
   "cell_type": "code",
   "id": "012a1ef5",
   "metadata": {
    "ExecuteTime": {
     "end_time": "2025-08-14T06:05:58.913839Z",
     "start_time": "2025-08-14T06:05:58.813936Z"
    }
   },
   "source": [
    "# 한국어 문서로 저장되어 있는 벡터 저장소 로드\n",
    "from langchain_chroma import Chroma\n",
    "from langchain_openai import OpenAIEmbeddings\n",
    "\n",
    "embeddings = OpenAIEmbeddings(\n",
    "    model=\"text-embedding-3-small\", \n",
    ")\n",
    "\n",
    "vectorstore = Chroma(\n",
    "    embedding_function=embeddings,\n",
    "    collection_name=\"chroma_test\",\n",
    "    persist_directory=\"./chroma_db\",\n",
    "    )\n",
    "\n",
    "print(f\"벡터 저장소에 저장된 문서 수: {vectorstore._collection.count()}\")"
   ],
   "outputs": [
    {
     "name": "stdout",
     "output_type": "stream",
     "text": [
      "벡터 저장소에 저장된 문서 수: 6\n"
     ]
    }
   ],
   "execution_count": 17
  },
  {
   "cell_type": "code",
   "execution_count": 74,
   "id": "21796bf9",
   "metadata": {},
   "outputs": [
    {
     "name": "stdout",
     "output_type": "stream",
     "text": [
      "Detected language: en\n",
      "Translated text: 안녕하세요. 안녕하세요?\n"
     ]
    }
   ],
   "source": [
    "import deepl\n",
    "from langdetect import detect\n",
    "\n",
    "translator = deepl.Translator(os.getenv('DEEPL_API_KEY'))\n",
    "\n",
    "def detect_and_translate(text, target_lang='KO'):\n",
    "    detected_lang = detect(text)\n",
    "    if detected_lang.upper() != target_lang:\n",
    "        result = translator.translate_text(text, target_lang=target_lang)\n",
    "        return str(result), detected_lang\n",
    "    return text, detected_lang\n",
    "\n",
    "# 문서 번역 테스트\n",
    "text = \"Hello. How are you?\"\n",
    "translated_text, detected_lang = detect_and_translate(text, target_lang='KO')\n",
    "print(f\"Detected language: {detected_lang}\")\n",
    "print(f\"Translated text: {translated_text}\")"
   ]
  },
  {
   "cell_type": "markdown",
   "id": "d44368c9",
   "metadata": {},
   "source": [
    "`(2) RAG 체인 성능 평가 `  "
   ]
  },
  {
   "cell_type": "code",
   "execution_count": 75,
   "id": "bd44fdc2",
   "metadata": {},
   "outputs": [],
   "source": [
    "retriever = vectorstore.as_retriever(search_kwargs={'k': 2})\n",
    "\n",
    "lang_rag_chain = (\n",
    "        {\"context\": retriever | format_docs , \"question\": RunnablePassthrough()}\n",
    "        | prompt\n",
    "        | llm\n",
    "        | StrOutputParser()\n",
    "    )\n",
    "\n",
    "# 체인 실행 함수\n",
    "def run_lang_rag_chain(query):\n",
    "    original_lang = detect(query)\n",
    "    \n",
    "    if original_lang.upper() != 'KO':\n",
    "        translated_query, _ = detect_and_translate(query, target_lang='KO')\n",
    "    else:\n",
    "        translated_query = query\n",
    "    \n",
    "    output = lang_rag_chain.invoke(translated_query)\n",
    "    \n",
    "    if original_lang.upper() != 'KO':\n",
    "        target_lang = 'EN-US' if original_lang.upper() == 'EN' else original_lang\n",
    "        output, _ = detect_and_translate(output, target_lang=target_lang)\n",
    "    \n",
    "    return output\n",
    "    "
   ]
  },
  {
   "cell_type": "code",
   "execution_count": 76,
   "id": "5dea660b",
   "metadata": {},
   "outputs": [
    {
     "name": "stdout",
     "output_type": "stream",
     "text": [
      "마틴 에버하드와 마크 타페닝입니다.\n",
      "Martin Everhard and Mark Tappening.\n"
     ]
    }
   ],
   "source": [
    "# 한국어 쿼리에 대한 성능 평가\n",
    "query_ko = \"테슬라 창업자는 누구인가요?\"\n",
    "\n",
    "output = run_lang_rag_chain(query_ko)\n",
    "print(output)\n",
    "\n",
    "# 영어 쿼리에 대한 성능 평가\n",
    "query_en = \"Who is the founder of Tesla?\"\n",
    "\n",
    "output = run_lang_rag_chain(query_en)\n",
    "print(output)"
   ]
  },
  {
   "cell_type": "markdown",
   "id": "031d5de6",
   "metadata": {},
   "source": [
    "### 5-3 언어 감지 및 벡터저장소 라우팅"
   ]
  },
  {
   "cell_type": "markdown",
   "id": "0ea5168a",
   "metadata": {},
   "source": [
    "`(1) 언어별 벡터저장소 생성 `  "
   ]
  },
  {
   "cell_type": "code",
   "execution_count": 77,
   "id": "4fdd2bd6",
   "metadata": {},
   "outputs": [
    {
     "name": "stdout",
     "output_type": "stream",
     "text": [
      "한국어: 13\n",
      "영어: 6\n"
     ]
    }
   ],
   "source": [
    "# 한국어 문서, 영어 문서를 각각 다른 벡터 저장소에 저장\n",
    "db_korean = Chroma.from_documents(\n",
    "    documents=korean_docs, \n",
    "    embedding=embeddings_huggingface,    # huggingface 임베딩 사용\n",
    "    collection_name=\"db_korean\",\n",
    "    persist_directory=\"./chroma_db\",\n",
    "    )\n",
    "\n",
    "db_english = Chroma.from_documents(\n",
    "    documents=english_docs, \n",
    "    embedding=embeddings_ollama,        # ollama 임베딩 사용\n",
    "    collection_name=\"db_english\",\n",
    "    persist_directory=\"./chroma_db\",\n",
    "    )\n",
    "\n",
    "# 벡터 저장소에 저장된 문서 수\n",
    "print(f\"한국어: {db_korean._collection.count()}\")\n",
    "print(f\"영어: {db_english._collection.count()}\")"
   ]
  },
  {
   "cell_type": "markdown",
   "id": "66434a3c",
   "metadata": {},
   "source": [
    "`(2) RAG 체인 성능 평가 `  "
   ]
  },
  {
   "cell_type": "code",
   "execution_count": 78,
   "id": "002d911c",
   "metadata": {},
   "outputs": [
    {
     "name": "stdout",
     "output_type": "stream",
     "text": [
      "마틴 에버하드와 마크 타페닝입니다.\n",
      "Tesla was founded by Martin Eberhard and Marc Tarpenning.\n"
     ]
    }
   ],
   "source": [
    "# 체인 실행 함수\n",
    "from langdetect import detect\n",
    "\n",
    "rag_chain_korean = create_rag_chain(db_korean)\n",
    "rag_chain_english = create_rag_chain(db_english)\n",
    "\n",
    "\n",
    "def run_route_rag_chain(query):\n",
    "    original_lang = detect(query)\n",
    "    \n",
    "    if original_lang.upper() == 'KO':\n",
    "        return rag_chain_korean.invoke(query)\n",
    "        \n",
    "    elif original_lang.upper() == 'EN' :\n",
    "        return rag_chain_english.invoke(query)\n",
    "    \n",
    "    else:\n",
    "        return \"잘 모르겠습니다.\"\n",
    "    \n",
    "# 한국어 쿼리에 대한 성능 평가\n",
    "query_ko = \"테슬라 창업자는 누구인가요?\"\n",
    "\n",
    "output = run_route_rag_chain(query_ko)\n",
    "print(output)\n",
    "\n",
    "# 영어 쿼리에 대한 성능 평가\n",
    "query_en = \"Who is the founder of Tesla?\"\n",
    "\n",
    "output = run_route_rag_chain(query_en)\n",
    "print(output)"
   ]
  },
  {
   "cell_type": "markdown",
   "id": "fceb9f42",
   "metadata": {},
   "source": [
    "## 6. Gradio 챗봇"
   ]
  },
  {
   "cell_type": "markdown",
   "id": "c57035b9",
   "metadata": {},
   "source": [
    "`(1) invoke 실행` \n",
    "\n",
    "- chat history 기능을 추가"
   ]
  },
  {
   "cell_type": "code",
   "execution_count": 79,
   "id": "8b207180",
   "metadata": {},
   "outputs": [
    {
     "name": "stdout",
     "output_type": "stream",
     "text": [
      "Running on local URL:  http://127.0.0.1:7860\n",
      "\n",
      "To create a public link, set `share=True` in `launch()`.\n"
     ]
    },
    {
     "data": {
      "text/html": [
       "<div><iframe src=\"http://127.0.0.1:7860/\" width=\"100%\" height=\"500\" allow=\"autoplay; camera; microphone; clipboard-read; clipboard-write;\" frameborder=\"0\" allowfullscreen></iframe></div>"
      ],
      "text/plain": [
       "<IPython.core.display.HTML object>"
      ]
     },
     "metadata": {},
     "output_type": "display_data"
    },
    {
     "data": {
      "text/plain": []
     },
     "execution_count": 79,
     "metadata": {},
     "output_type": "execute_result"
    }
   ],
   "source": [
    "import gradio as gr\n",
    "from langchain_core.messages import HumanMessage, AIMessage\n",
    "\n",
    "# 답변 생성 모델을 별도로 사용\n",
    "answer_llm = ChatOpenAI(model=\"gpt-4o-mini\", temperature=0)\n",
    "\n",
    "\n",
    "def answer_invoke(message, history):\n",
    "    history_langchain_format = []\n",
    "    for human, ai in history:\n",
    "        history_langchain_format.append(HumanMessage(content=human))\n",
    "        history_langchain_format.append(AIMessage(content=ai))\n",
    "    history_langchain_format.append(HumanMessage(content=message))\n",
    "\n",
    "    # 현재 메시지에 대해 RAG 체인 실행\n",
    "    rag_response = run_route_rag_chain(message)\n",
    "\n",
    "    # 답변 생성 모델에게 현재 메시지에 대한 답변 요청\n",
    "    final_answer = answer_llm.invoke(\n",
    "        history_langchain_format[:-1] + [AIMessage(content=rag_response)] + [HumanMessage(content=message)]\n",
    "    )\n",
    "    \n",
    "    return final_answer.content\n",
    "\n",
    "\n",
    "# Graiio 인터페이스 생성 \n",
    "demo = gr.ChatInterface(fn=answer_invoke, title=\"QA Bot\")\n",
    "\n",
    "# Graiio 실행  \n",
    "demo.launch()"
   ]
  },
  {
   "cell_type": "code",
   "execution_count": 80,
   "id": "82f7a6d2",
   "metadata": {},
   "outputs": [
    {
     "name": "stdout",
     "output_type": "stream",
     "text": [
      "Closing server running on port: 7860\n"
     ]
    }
   ],
   "source": [
    "# Graiio 종료\n",
    "demo.close()"
   ]
  },
  {
   "cell_type": "code",
   "execution_count": null,
   "id": "5b16b8d4",
   "metadata": {},
   "outputs": [],
   "source": []
  }
 ],
 "metadata": {
  "kernelspec": {
   "display_name": "Python 3 (ipykernel)",
   "language": "python",
   "name": "python3"
  },
  "language_info": {
   "codemirror_mode": {
    "name": "ipython",
    "version": 3
   },
   "file_extension": ".py",
   "mimetype": "text/x-python",
   "name": "python",
   "nbconvert_exporter": "python",
   "pygments_lexer": "ipython3",
   "version": "3.11.13"
  }
 },
 "nbformat": 4,
 "nbformat_minor": 5
}
